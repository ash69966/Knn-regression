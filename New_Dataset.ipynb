{
  "nbformat": 4,
  "nbformat_minor": 0,
  "metadata": {
    "colab": {
      "provenance": []
    },
    "kernelspec": {
      "name": "python3",
      "display_name": "Python 3"
    },
    "language_info": {
      "name": "python"
    }
  },
  "cells": [
    {
      "cell_type": "code",
      "execution_count": 747,
      "metadata": {
        "id": "9OrC_CFJILsW"
      },
      "outputs": [],
      "source": [
        "%matplotlib inline \n",
        "\n",
        "import pandas as pd\n",
        "import numpy as np\n",
        "import matplotlib.pyplot as plt\n",
        "import seaborn as sns\n",
        "\n",
        "import warnings\n",
        "warnings.filterwarnings(action='ignore')"
      ]
    },
    {
      "cell_type": "code",
      "source": [
        "df = pd.read_csv(\"/content/car_price_prediction.csv\")\n",
        "\n",
        "df"
      ],
      "metadata": {
        "colab": {
          "base_uri": "https://localhost:8080/",
          "height": 676
        },
        "id": "sFS8TbQ6IYjv",
        "outputId": "6f4e25a4-343f-4ac2-a10f-0c7de096ff4c"
      },
      "execution_count": 748,
      "outputs": [
        {
          "output_type": "execute_result",
          "data": {
            "text/plain": [
              "             ID  Price  Levy   Manufacturer    Model  Prod. year   Category  \\\n",
              "0      45654403  13328  1399          LEXUS   RX 450        2010       Jeep   \n",
              "1      44731507  16621  1018      CHEVROLET  Equinox        2011       Jeep   \n",
              "2      45774419   8467     -          HONDA      FIT        2006  Hatchback   \n",
              "3      45769185   3607   862           FORD   Escape        2011       Jeep   \n",
              "4      45809263  11726   446          HONDA      FIT        2014  Hatchback   \n",
              "...         ...    ...   ...            ...      ...         ...        ...   \n",
              "19232  45798355   8467     -  MERCEDES-BENZ  CLK 200        1999      Coupe   \n",
              "19233  45778856  15681   831        HYUNDAI   Sonata        2011      Sedan   \n",
              "19234  45804997  26108   836        HYUNDAI   Tucson        2010       Jeep   \n",
              "19235  45793526   5331  1288      CHEVROLET  Captiva        2007       Jeep   \n",
              "19236  45813273    470   753        HYUNDAI   Sonata        2012      Sedan   \n",
              "\n",
              "      Leather interior Fuel type Engine volume    Mileage  Cylinders  \\\n",
              "0                  Yes    Hybrid           3.5  186005 km        6.0   \n",
              "1                   No    Petrol             3  192000 km        6.0   \n",
              "2                   No    Petrol           1.3  200000 km        4.0   \n",
              "3                  Yes    Hybrid           2.5  168966 km        4.0   \n",
              "4                  Yes    Petrol           1.3   91901 km        4.0   \n",
              "...                ...       ...           ...        ...        ...   \n",
              "19232              Yes       CNG     2.0 Turbo  300000 km        4.0   \n",
              "19233              Yes    Petrol           2.4  161600 km        4.0   \n",
              "19234              Yes    Diesel             2  116365 km        4.0   \n",
              "19235              Yes    Diesel             2   51258 km        4.0   \n",
              "19236              Yes    Hybrid           2.4  186923 km        4.0   \n",
              "\n",
              "      Gear box type Drive wheels   Doors             Wheel   Color  Airbags  \n",
              "0         Automatic          4x4  04-May        Left wheel  Silver       12  \n",
              "1         Tiptronic          4x4  04-May        Left wheel   Black        8  \n",
              "2          Variator        Front  04-May  Right-hand drive   Black        2  \n",
              "3         Automatic          4x4  04-May        Left wheel   White        0  \n",
              "4         Automatic        Front  04-May        Left wheel  Silver        4  \n",
              "...             ...          ...     ...               ...     ...      ...  \n",
              "19232        Manual         Rear  02-Mar        Left wheel  Silver        5  \n",
              "19233     Tiptronic        Front  04-May        Left wheel     Red        8  \n",
              "19234     Automatic        Front  04-May        Left wheel    Grey        4  \n",
              "19235     Automatic        Front  04-May        Left wheel   Black        4  \n",
              "19236     Automatic        Front  04-May        Left wheel   White       12  \n",
              "\n",
              "[19237 rows x 18 columns]"
            ],
            "text/html": [
              "\n",
              "  <div id=\"df-51434e8b-a707-4b6a-91a0-4a9e14ff0efc\">\n",
              "    <div class=\"colab-df-container\">\n",
              "      <div>\n",
              "<style scoped>\n",
              "    .dataframe tbody tr th:only-of-type {\n",
              "        vertical-align: middle;\n",
              "    }\n",
              "\n",
              "    .dataframe tbody tr th {\n",
              "        vertical-align: top;\n",
              "    }\n",
              "\n",
              "    .dataframe thead th {\n",
              "        text-align: right;\n",
              "    }\n",
              "</style>\n",
              "<table border=\"1\" class=\"dataframe\">\n",
              "  <thead>\n",
              "    <tr style=\"text-align: right;\">\n",
              "      <th></th>\n",
              "      <th>ID</th>\n",
              "      <th>Price</th>\n",
              "      <th>Levy</th>\n",
              "      <th>Manufacturer</th>\n",
              "      <th>Model</th>\n",
              "      <th>Prod. year</th>\n",
              "      <th>Category</th>\n",
              "      <th>Leather interior</th>\n",
              "      <th>Fuel type</th>\n",
              "      <th>Engine volume</th>\n",
              "      <th>Mileage</th>\n",
              "      <th>Cylinders</th>\n",
              "      <th>Gear box type</th>\n",
              "      <th>Drive wheels</th>\n",
              "      <th>Doors</th>\n",
              "      <th>Wheel</th>\n",
              "      <th>Color</th>\n",
              "      <th>Airbags</th>\n",
              "    </tr>\n",
              "  </thead>\n",
              "  <tbody>\n",
              "    <tr>\n",
              "      <th>0</th>\n",
              "      <td>45654403</td>\n",
              "      <td>13328</td>\n",
              "      <td>1399</td>\n",
              "      <td>LEXUS</td>\n",
              "      <td>RX 450</td>\n",
              "      <td>2010</td>\n",
              "      <td>Jeep</td>\n",
              "      <td>Yes</td>\n",
              "      <td>Hybrid</td>\n",
              "      <td>3.5</td>\n",
              "      <td>186005 km</td>\n",
              "      <td>6.0</td>\n",
              "      <td>Automatic</td>\n",
              "      <td>4x4</td>\n",
              "      <td>04-May</td>\n",
              "      <td>Left wheel</td>\n",
              "      <td>Silver</td>\n",
              "      <td>12</td>\n",
              "    </tr>\n",
              "    <tr>\n",
              "      <th>1</th>\n",
              "      <td>44731507</td>\n",
              "      <td>16621</td>\n",
              "      <td>1018</td>\n",
              "      <td>CHEVROLET</td>\n",
              "      <td>Equinox</td>\n",
              "      <td>2011</td>\n",
              "      <td>Jeep</td>\n",
              "      <td>No</td>\n",
              "      <td>Petrol</td>\n",
              "      <td>3</td>\n",
              "      <td>192000 km</td>\n",
              "      <td>6.0</td>\n",
              "      <td>Tiptronic</td>\n",
              "      <td>4x4</td>\n",
              "      <td>04-May</td>\n",
              "      <td>Left wheel</td>\n",
              "      <td>Black</td>\n",
              "      <td>8</td>\n",
              "    </tr>\n",
              "    <tr>\n",
              "      <th>2</th>\n",
              "      <td>45774419</td>\n",
              "      <td>8467</td>\n",
              "      <td>-</td>\n",
              "      <td>HONDA</td>\n",
              "      <td>FIT</td>\n",
              "      <td>2006</td>\n",
              "      <td>Hatchback</td>\n",
              "      <td>No</td>\n",
              "      <td>Petrol</td>\n",
              "      <td>1.3</td>\n",
              "      <td>200000 km</td>\n",
              "      <td>4.0</td>\n",
              "      <td>Variator</td>\n",
              "      <td>Front</td>\n",
              "      <td>04-May</td>\n",
              "      <td>Right-hand drive</td>\n",
              "      <td>Black</td>\n",
              "      <td>2</td>\n",
              "    </tr>\n",
              "    <tr>\n",
              "      <th>3</th>\n",
              "      <td>45769185</td>\n",
              "      <td>3607</td>\n",
              "      <td>862</td>\n",
              "      <td>FORD</td>\n",
              "      <td>Escape</td>\n",
              "      <td>2011</td>\n",
              "      <td>Jeep</td>\n",
              "      <td>Yes</td>\n",
              "      <td>Hybrid</td>\n",
              "      <td>2.5</td>\n",
              "      <td>168966 km</td>\n",
              "      <td>4.0</td>\n",
              "      <td>Automatic</td>\n",
              "      <td>4x4</td>\n",
              "      <td>04-May</td>\n",
              "      <td>Left wheel</td>\n",
              "      <td>White</td>\n",
              "      <td>0</td>\n",
              "    </tr>\n",
              "    <tr>\n",
              "      <th>4</th>\n",
              "      <td>45809263</td>\n",
              "      <td>11726</td>\n",
              "      <td>446</td>\n",
              "      <td>HONDA</td>\n",
              "      <td>FIT</td>\n",
              "      <td>2014</td>\n",
              "      <td>Hatchback</td>\n",
              "      <td>Yes</td>\n",
              "      <td>Petrol</td>\n",
              "      <td>1.3</td>\n",
              "      <td>91901 km</td>\n",
              "      <td>4.0</td>\n",
              "      <td>Automatic</td>\n",
              "      <td>Front</td>\n",
              "      <td>04-May</td>\n",
              "      <td>Left wheel</td>\n",
              "      <td>Silver</td>\n",
              "      <td>4</td>\n",
              "    </tr>\n",
              "    <tr>\n",
              "      <th>...</th>\n",
              "      <td>...</td>\n",
              "      <td>...</td>\n",
              "      <td>...</td>\n",
              "      <td>...</td>\n",
              "      <td>...</td>\n",
              "      <td>...</td>\n",
              "      <td>...</td>\n",
              "      <td>...</td>\n",
              "      <td>...</td>\n",
              "      <td>...</td>\n",
              "      <td>...</td>\n",
              "      <td>...</td>\n",
              "      <td>...</td>\n",
              "      <td>...</td>\n",
              "      <td>...</td>\n",
              "      <td>...</td>\n",
              "      <td>...</td>\n",
              "      <td>...</td>\n",
              "    </tr>\n",
              "    <tr>\n",
              "      <th>19232</th>\n",
              "      <td>45798355</td>\n",
              "      <td>8467</td>\n",
              "      <td>-</td>\n",
              "      <td>MERCEDES-BENZ</td>\n",
              "      <td>CLK 200</td>\n",
              "      <td>1999</td>\n",
              "      <td>Coupe</td>\n",
              "      <td>Yes</td>\n",
              "      <td>CNG</td>\n",
              "      <td>2.0 Turbo</td>\n",
              "      <td>300000 km</td>\n",
              "      <td>4.0</td>\n",
              "      <td>Manual</td>\n",
              "      <td>Rear</td>\n",
              "      <td>02-Mar</td>\n",
              "      <td>Left wheel</td>\n",
              "      <td>Silver</td>\n",
              "      <td>5</td>\n",
              "    </tr>\n",
              "    <tr>\n",
              "      <th>19233</th>\n",
              "      <td>45778856</td>\n",
              "      <td>15681</td>\n",
              "      <td>831</td>\n",
              "      <td>HYUNDAI</td>\n",
              "      <td>Sonata</td>\n",
              "      <td>2011</td>\n",
              "      <td>Sedan</td>\n",
              "      <td>Yes</td>\n",
              "      <td>Petrol</td>\n",
              "      <td>2.4</td>\n",
              "      <td>161600 km</td>\n",
              "      <td>4.0</td>\n",
              "      <td>Tiptronic</td>\n",
              "      <td>Front</td>\n",
              "      <td>04-May</td>\n",
              "      <td>Left wheel</td>\n",
              "      <td>Red</td>\n",
              "      <td>8</td>\n",
              "    </tr>\n",
              "    <tr>\n",
              "      <th>19234</th>\n",
              "      <td>45804997</td>\n",
              "      <td>26108</td>\n",
              "      <td>836</td>\n",
              "      <td>HYUNDAI</td>\n",
              "      <td>Tucson</td>\n",
              "      <td>2010</td>\n",
              "      <td>Jeep</td>\n",
              "      <td>Yes</td>\n",
              "      <td>Diesel</td>\n",
              "      <td>2</td>\n",
              "      <td>116365 km</td>\n",
              "      <td>4.0</td>\n",
              "      <td>Automatic</td>\n",
              "      <td>Front</td>\n",
              "      <td>04-May</td>\n",
              "      <td>Left wheel</td>\n",
              "      <td>Grey</td>\n",
              "      <td>4</td>\n",
              "    </tr>\n",
              "    <tr>\n",
              "      <th>19235</th>\n",
              "      <td>45793526</td>\n",
              "      <td>5331</td>\n",
              "      <td>1288</td>\n",
              "      <td>CHEVROLET</td>\n",
              "      <td>Captiva</td>\n",
              "      <td>2007</td>\n",
              "      <td>Jeep</td>\n",
              "      <td>Yes</td>\n",
              "      <td>Diesel</td>\n",
              "      <td>2</td>\n",
              "      <td>51258 km</td>\n",
              "      <td>4.0</td>\n",
              "      <td>Automatic</td>\n",
              "      <td>Front</td>\n",
              "      <td>04-May</td>\n",
              "      <td>Left wheel</td>\n",
              "      <td>Black</td>\n",
              "      <td>4</td>\n",
              "    </tr>\n",
              "    <tr>\n",
              "      <th>19236</th>\n",
              "      <td>45813273</td>\n",
              "      <td>470</td>\n",
              "      <td>753</td>\n",
              "      <td>HYUNDAI</td>\n",
              "      <td>Sonata</td>\n",
              "      <td>2012</td>\n",
              "      <td>Sedan</td>\n",
              "      <td>Yes</td>\n",
              "      <td>Hybrid</td>\n",
              "      <td>2.4</td>\n",
              "      <td>186923 km</td>\n",
              "      <td>4.0</td>\n",
              "      <td>Automatic</td>\n",
              "      <td>Front</td>\n",
              "      <td>04-May</td>\n",
              "      <td>Left wheel</td>\n",
              "      <td>White</td>\n",
              "      <td>12</td>\n",
              "    </tr>\n",
              "  </tbody>\n",
              "</table>\n",
              "<p>19237 rows × 18 columns</p>\n",
              "</div>\n",
              "      <button class=\"colab-df-convert\" onclick=\"convertToInteractive('df-51434e8b-a707-4b6a-91a0-4a9e14ff0efc')\"\n",
              "              title=\"Convert this dataframe to an interactive table.\"\n",
              "              style=\"display:none;\">\n",
              "        \n",
              "  <svg xmlns=\"http://www.w3.org/2000/svg\" height=\"24px\"viewBox=\"0 0 24 24\"\n",
              "       width=\"24px\">\n",
              "    <path d=\"M0 0h24v24H0V0z\" fill=\"none\"/>\n",
              "    <path d=\"M18.56 5.44l.94 2.06.94-2.06 2.06-.94-2.06-.94-.94-2.06-.94 2.06-2.06.94zm-11 1L8.5 8.5l.94-2.06 2.06-.94-2.06-.94L8.5 2.5l-.94 2.06-2.06.94zm10 10l.94 2.06.94-2.06 2.06-.94-2.06-.94-.94-2.06-.94 2.06-2.06.94z\"/><path d=\"M17.41 7.96l-1.37-1.37c-.4-.4-.92-.59-1.43-.59-.52 0-1.04.2-1.43.59L10.3 9.45l-7.72 7.72c-.78.78-.78 2.05 0 2.83L4 21.41c.39.39.9.59 1.41.59.51 0 1.02-.2 1.41-.59l7.78-7.78 2.81-2.81c.8-.78.8-2.07 0-2.86zM5.41 20L4 18.59l7.72-7.72 1.47 1.35L5.41 20z\"/>\n",
              "  </svg>\n",
              "      </button>\n",
              "      \n",
              "  <style>\n",
              "    .colab-df-container {\n",
              "      display:flex;\n",
              "      flex-wrap:wrap;\n",
              "      gap: 12px;\n",
              "    }\n",
              "\n",
              "    .colab-df-convert {\n",
              "      background-color: #E8F0FE;\n",
              "      border: none;\n",
              "      border-radius: 50%;\n",
              "      cursor: pointer;\n",
              "      display: none;\n",
              "      fill: #1967D2;\n",
              "      height: 32px;\n",
              "      padding: 0 0 0 0;\n",
              "      width: 32px;\n",
              "    }\n",
              "\n",
              "    .colab-df-convert:hover {\n",
              "      background-color: #E2EBFA;\n",
              "      box-shadow: 0px 1px 2px rgba(60, 64, 67, 0.3), 0px 1px 3px 1px rgba(60, 64, 67, 0.15);\n",
              "      fill: #174EA6;\n",
              "    }\n",
              "\n",
              "    [theme=dark] .colab-df-convert {\n",
              "      background-color: #3B4455;\n",
              "      fill: #D2E3FC;\n",
              "    }\n",
              "\n",
              "    [theme=dark] .colab-df-convert:hover {\n",
              "      background-color: #434B5C;\n",
              "      box-shadow: 0px 1px 3px 1px rgba(0, 0, 0, 0.15);\n",
              "      filter: drop-shadow(0px 1px 2px rgba(0, 0, 0, 0.3));\n",
              "      fill: #FFFFFF;\n",
              "    }\n",
              "  </style>\n",
              "\n",
              "      <script>\n",
              "        const buttonEl =\n",
              "          document.querySelector('#df-51434e8b-a707-4b6a-91a0-4a9e14ff0efc button.colab-df-convert');\n",
              "        buttonEl.style.display =\n",
              "          google.colab.kernel.accessAllowed ? 'block' : 'none';\n",
              "\n",
              "        async function convertToInteractive(key) {\n",
              "          const element = document.querySelector('#df-51434e8b-a707-4b6a-91a0-4a9e14ff0efc');\n",
              "          const dataTable =\n",
              "            await google.colab.kernel.invokeFunction('convertToInteractive',\n",
              "                                                     [key], {});\n",
              "          if (!dataTable) return;\n",
              "\n",
              "          const docLinkHtml = 'Like what you see? Visit the ' +\n",
              "            '<a target=\"_blank\" href=https://colab.research.google.com/notebooks/data_table.ipynb>data table notebook</a>'\n",
              "            + ' to learn more about interactive tables.';\n",
              "          element.innerHTML = '';\n",
              "          dataTable['output_type'] = 'display_data';\n",
              "          await google.colab.output.renderOutput(dataTable, element);\n",
              "          const docLink = document.createElement('div');\n",
              "          docLink.innerHTML = docLinkHtml;\n",
              "          element.appendChild(docLink);\n",
              "        }\n",
              "      </script>\n",
              "    </div>\n",
              "  </div>\n",
              "  "
            ]
          },
          "metadata": {},
          "execution_count": 748
        }
      ]
    },
    {
      "cell_type": "code",
      "source": [
        "df.info()"
      ],
      "metadata": {
        "colab": {
          "base_uri": "https://localhost:8080/"
        },
        "id": "dtU481aFIldd",
        "outputId": "0330bd6b-3d6e-402d-dc54-024b04f1e334"
      },
      "execution_count": 749,
      "outputs": [
        {
          "output_type": "stream",
          "name": "stdout",
          "text": [
            "<class 'pandas.core.frame.DataFrame'>\n",
            "RangeIndex: 19237 entries, 0 to 19236\n",
            "Data columns (total 18 columns):\n",
            " #   Column            Non-Null Count  Dtype  \n",
            "---  ------            --------------  -----  \n",
            " 0   ID                19237 non-null  int64  \n",
            " 1   Price             19237 non-null  int64  \n",
            " 2   Levy              19237 non-null  object \n",
            " 3   Manufacturer      19237 non-null  object \n",
            " 4   Model             19237 non-null  object \n",
            " 5   Prod. year        19237 non-null  int64  \n",
            " 6   Category          19237 non-null  object \n",
            " 7   Leather interior  19237 non-null  object \n",
            " 8   Fuel type         19237 non-null  object \n",
            " 9   Engine volume     19237 non-null  object \n",
            " 10  Mileage           19237 non-null  object \n",
            " 11  Cylinders         19237 non-null  float64\n",
            " 12  Gear box type     19237 non-null  object \n",
            " 13  Drive wheels      19237 non-null  object \n",
            " 14  Doors             19237 non-null  object \n",
            " 15  Wheel             19237 non-null  object \n",
            " 16  Color             19237 non-null  object \n",
            " 17  Airbags           19237 non-null  int64  \n",
            "dtypes: float64(1), int64(4), object(13)\n",
            "memory usage: 2.6+ MB\n"
          ]
        }
      ]
    },
    {
      "cell_type": "code",
      "source": [
        "df.nunique()"
      ],
      "metadata": {
        "colab": {
          "base_uri": "https://localhost:8080/"
        },
        "id": "UtL4QrEOIq2h",
        "outputId": "123c76db-7b09-403b-ee41-4fff4b168aa0"
      },
      "execution_count": 750,
      "outputs": [
        {
          "output_type": "execute_result",
          "data": {
            "text/plain": [
              "ID                  18924\n",
              "Price                2315\n",
              "Levy                  559\n",
              "Manufacturer           65\n",
              "Model                1590\n",
              "Prod. year             54\n",
              "Category               11\n",
              "Leather interior        2\n",
              "Fuel type               7\n",
              "Engine volume         107\n",
              "Mileage              7687\n",
              "Cylinders              13\n",
              "Gear box type           4\n",
              "Drive wheels            3\n",
              "Doors                   3\n",
              "Wheel                   2\n",
              "Color                  16\n",
              "Airbags                17\n",
              "dtype: int64"
            ]
          },
          "metadata": {},
          "execution_count": 750
        }
      ]
    },
    {
      "cell_type": "code",
      "source": [
        "desc = ['Price','Prod. year', 'Cylinders', 'Airbags']\n",
        "df[desc].describe()"
      ],
      "metadata": {
        "colab": {
          "base_uri": "https://localhost:8080/",
          "height": 300
        },
        "id": "V-lcs8cVI7QC",
        "outputId": "530cde9f-edd1-4a9e-d012-7209e0d2a430"
      },
      "execution_count": 751,
      "outputs": [
        {
          "output_type": "execute_result",
          "data": {
            "text/plain": [
              "              Price    Prod. year     Cylinders       Airbags\n",
              "count  1.923700e+04  19237.000000  19237.000000  19237.000000\n",
              "mean   1.855593e+04   2010.912824      4.582991      6.582627\n",
              "std    1.905813e+05      5.668673      1.199933      4.320168\n",
              "min    1.000000e+00   1939.000000      1.000000      0.000000\n",
              "25%    5.331000e+03   2009.000000      4.000000      4.000000\n",
              "50%    1.317200e+04   2012.000000      4.000000      6.000000\n",
              "75%    2.207500e+04   2015.000000      4.000000     12.000000\n",
              "max    2.630750e+07   2020.000000     16.000000     16.000000"
            ],
            "text/html": [
              "\n",
              "  <div id=\"df-930eb8ab-d7f7-45cc-96df-22dfbe2a7a91\">\n",
              "    <div class=\"colab-df-container\">\n",
              "      <div>\n",
              "<style scoped>\n",
              "    .dataframe tbody tr th:only-of-type {\n",
              "        vertical-align: middle;\n",
              "    }\n",
              "\n",
              "    .dataframe tbody tr th {\n",
              "        vertical-align: top;\n",
              "    }\n",
              "\n",
              "    .dataframe thead th {\n",
              "        text-align: right;\n",
              "    }\n",
              "</style>\n",
              "<table border=\"1\" class=\"dataframe\">\n",
              "  <thead>\n",
              "    <tr style=\"text-align: right;\">\n",
              "      <th></th>\n",
              "      <th>Price</th>\n",
              "      <th>Prod. year</th>\n",
              "      <th>Cylinders</th>\n",
              "      <th>Airbags</th>\n",
              "    </tr>\n",
              "  </thead>\n",
              "  <tbody>\n",
              "    <tr>\n",
              "      <th>count</th>\n",
              "      <td>1.923700e+04</td>\n",
              "      <td>19237.000000</td>\n",
              "      <td>19237.000000</td>\n",
              "      <td>19237.000000</td>\n",
              "    </tr>\n",
              "    <tr>\n",
              "      <th>mean</th>\n",
              "      <td>1.855593e+04</td>\n",
              "      <td>2010.912824</td>\n",
              "      <td>4.582991</td>\n",
              "      <td>6.582627</td>\n",
              "    </tr>\n",
              "    <tr>\n",
              "      <th>std</th>\n",
              "      <td>1.905813e+05</td>\n",
              "      <td>5.668673</td>\n",
              "      <td>1.199933</td>\n",
              "      <td>4.320168</td>\n",
              "    </tr>\n",
              "    <tr>\n",
              "      <th>min</th>\n",
              "      <td>1.000000e+00</td>\n",
              "      <td>1939.000000</td>\n",
              "      <td>1.000000</td>\n",
              "      <td>0.000000</td>\n",
              "    </tr>\n",
              "    <tr>\n",
              "      <th>25%</th>\n",
              "      <td>5.331000e+03</td>\n",
              "      <td>2009.000000</td>\n",
              "      <td>4.000000</td>\n",
              "      <td>4.000000</td>\n",
              "    </tr>\n",
              "    <tr>\n",
              "      <th>50%</th>\n",
              "      <td>1.317200e+04</td>\n",
              "      <td>2012.000000</td>\n",
              "      <td>4.000000</td>\n",
              "      <td>6.000000</td>\n",
              "    </tr>\n",
              "    <tr>\n",
              "      <th>75%</th>\n",
              "      <td>2.207500e+04</td>\n",
              "      <td>2015.000000</td>\n",
              "      <td>4.000000</td>\n",
              "      <td>12.000000</td>\n",
              "    </tr>\n",
              "    <tr>\n",
              "      <th>max</th>\n",
              "      <td>2.630750e+07</td>\n",
              "      <td>2020.000000</td>\n",
              "      <td>16.000000</td>\n",
              "      <td>16.000000</td>\n",
              "    </tr>\n",
              "  </tbody>\n",
              "</table>\n",
              "</div>\n",
              "      <button class=\"colab-df-convert\" onclick=\"convertToInteractive('df-930eb8ab-d7f7-45cc-96df-22dfbe2a7a91')\"\n",
              "              title=\"Convert this dataframe to an interactive table.\"\n",
              "              style=\"display:none;\">\n",
              "        \n",
              "  <svg xmlns=\"http://www.w3.org/2000/svg\" height=\"24px\"viewBox=\"0 0 24 24\"\n",
              "       width=\"24px\">\n",
              "    <path d=\"M0 0h24v24H0V0z\" fill=\"none\"/>\n",
              "    <path d=\"M18.56 5.44l.94 2.06.94-2.06 2.06-.94-2.06-.94-.94-2.06-.94 2.06-2.06.94zm-11 1L8.5 8.5l.94-2.06 2.06-.94-2.06-.94L8.5 2.5l-.94 2.06-2.06.94zm10 10l.94 2.06.94-2.06 2.06-.94-2.06-.94-.94-2.06-.94 2.06-2.06.94z\"/><path d=\"M17.41 7.96l-1.37-1.37c-.4-.4-.92-.59-1.43-.59-.52 0-1.04.2-1.43.59L10.3 9.45l-7.72 7.72c-.78.78-.78 2.05 0 2.83L4 21.41c.39.39.9.59 1.41.59.51 0 1.02-.2 1.41-.59l7.78-7.78 2.81-2.81c.8-.78.8-2.07 0-2.86zM5.41 20L4 18.59l7.72-7.72 1.47 1.35L5.41 20z\"/>\n",
              "  </svg>\n",
              "      </button>\n",
              "      \n",
              "  <style>\n",
              "    .colab-df-container {\n",
              "      display:flex;\n",
              "      flex-wrap:wrap;\n",
              "      gap: 12px;\n",
              "    }\n",
              "\n",
              "    .colab-df-convert {\n",
              "      background-color: #E8F0FE;\n",
              "      border: none;\n",
              "      border-radius: 50%;\n",
              "      cursor: pointer;\n",
              "      display: none;\n",
              "      fill: #1967D2;\n",
              "      height: 32px;\n",
              "      padding: 0 0 0 0;\n",
              "      width: 32px;\n",
              "    }\n",
              "\n",
              "    .colab-df-convert:hover {\n",
              "      background-color: #E2EBFA;\n",
              "      box-shadow: 0px 1px 2px rgba(60, 64, 67, 0.3), 0px 1px 3px 1px rgba(60, 64, 67, 0.15);\n",
              "      fill: #174EA6;\n",
              "    }\n",
              "\n",
              "    [theme=dark] .colab-df-convert {\n",
              "      background-color: #3B4455;\n",
              "      fill: #D2E3FC;\n",
              "    }\n",
              "\n",
              "    [theme=dark] .colab-df-convert:hover {\n",
              "      background-color: #434B5C;\n",
              "      box-shadow: 0px 1px 3px 1px rgba(0, 0, 0, 0.15);\n",
              "      filter: drop-shadow(0px 1px 2px rgba(0, 0, 0, 0.3));\n",
              "      fill: #FFFFFF;\n",
              "    }\n",
              "  </style>\n",
              "\n",
              "      <script>\n",
              "        const buttonEl =\n",
              "          document.querySelector('#df-930eb8ab-d7f7-45cc-96df-22dfbe2a7a91 button.colab-df-convert');\n",
              "        buttonEl.style.display =\n",
              "          google.colab.kernel.accessAllowed ? 'block' : 'none';\n",
              "\n",
              "        async function convertToInteractive(key) {\n",
              "          const element = document.querySelector('#df-930eb8ab-d7f7-45cc-96df-22dfbe2a7a91');\n",
              "          const dataTable =\n",
              "            await google.colab.kernel.invokeFunction('convertToInteractive',\n",
              "                                                     [key], {});\n",
              "          if (!dataTable) return;\n",
              "\n",
              "          const docLinkHtml = 'Like what you see? Visit the ' +\n",
              "            '<a target=\"_blank\" href=https://colab.research.google.com/notebooks/data_table.ipynb>data table notebook</a>'\n",
              "            + ' to learn more about interactive tables.';\n",
              "          element.innerHTML = '';\n",
              "          dataTable['output_type'] = 'display_data';\n",
              "          await google.colab.output.renderOutput(dataTable, element);\n",
              "          const docLink = document.createElement('div');\n",
              "          docLink.innerHTML = docLinkHtml;\n",
              "          element.appendChild(docLink);\n",
              "        }\n",
              "      </script>\n",
              "    </div>\n",
              "  </div>\n",
              "  "
            ]
          },
          "metadata": {},
          "execution_count": 751
        }
      ]
    },
    {
      "cell_type": "code",
      "source": [
        "for col in df.columns:\n",
        "    print(col)\n",
        "    print(df[f'{col}'].unique())\n",
        "    print('*'*75)"
      ],
      "metadata": {
        "colab": {
          "base_uri": "https://localhost:8080/"
        },
        "id": "xU1kjDbLOkFK",
        "outputId": "89ebf423-3cb9-49ad-a63d-63058641da96"
      },
      "execution_count": 752,
      "outputs": [
        {
          "output_type": "stream",
          "name": "stdout",
          "text": [
            "ID\n",
            "[45654403 44731507 45774419 ... 45804997 45793526 45813273]\n",
            "***************************************************************************\n",
            "Price\n",
            "[13328 16621  8467 ... 56814 63886 22075]\n",
            "***************************************************************************\n",
            "Levy\n",
            "['1399' '1018' '-' '862' '446' '891' '761' '751' '394' '1053' '1055'\n",
            " '1079' '810' '2386' '1850' '531' '586' '1249' '2455' '583' '1537' '1288'\n",
            " '915' '1750' '707' '1077' '1486' '1091' '650' '382' '1436' '1194' '503'\n",
            " '1017' '1104' '639' '629' '919' '781' '530' '640' '765' '777' '779' '934'\n",
            " '769' '645' '1185' '1324' '830' '1187' '1111' '760' '642' '1604' '1095'\n",
            " '966' '473' '1138' '1811' '988' '917' '1156' '687' '11714' '836' '1347'\n",
            " '2866' '1646' '259' '609' '697' '585' '475' '690' '308' '1823' '1361'\n",
            " '1273' '924' '584' '2078' '831' '1172' '893' '1872' '1885' '1266' '447'\n",
            " '2148' '1730' '730' '289' '502' '333' '1325' '247' '879' '1342' '1327'\n",
            " '1598' '1514' '1058' '738' '1935' '481' '1522' '1282' '456' '880' '900'\n",
            " '798' '1277' '442' '1051' '790' '1292' '1047' '528' '1211' '1493' '1793'\n",
            " '574' '930' '1998' '271' '706' '1481' '1677' '1661' '1286' '1408' '1090'\n",
            " '595' '1451' '1267' '993' '1714' '878' '641' '749' '1511' '603' '353'\n",
            " '877' '1236' '1141' '397' '784' '1024' '1357' '1301' '770' '922' '1438'\n",
            " '753' '607' '1363' '638' '490' '431' '565' '517' '833' '489' '1760' '986'\n",
            " '1841' '1620' '1360' '474' '1099' '978' '1624' '1946' '1268' '1307' '696'\n",
            " '649' '666' '2151' '551' '800' '971' '1323' '2377' '1845' '1083' '694'\n",
            " '463' '419' '345' '1515' '1505' '2056' '1203' '729' '460' '1356' '876'\n",
            " '911' '1190' '780' '448' '2410' '1848' '1148' '834' '1275' '1028' '1197'\n",
            " '724' '890' '1705' '505' '789' '2959' '518' '461' '1719' '2858' '3156'\n",
            " '2225' '2177' '1968' '1888' '1308' '2736' '1103' '557' '2195' '843'\n",
            " '1664' '723' '4508' '562' '501' '2018' '1076' '1202' '3301' '691' '1440'\n",
            " '1869' '1178' '418' '1820' '1413' '488' '1304' '363' '2108' '521' '1659'\n",
            " '87' '1411' '1528' '3292' '7058' '1578' '627' '874' '1996' '1488' '5679'\n",
            " '1234' '5603' '400' '889' '3268' '875' '949' '2265' '441' '742' '425'\n",
            " '2476' '2971' '614' '1816' '1375' '1405' '2297' '1062' '1113' '420'\n",
            " '2469' '658' '1951' '2670' '2578' '1995' '1032' '994' '1011' '2421'\n",
            " '1296' '155' '494' '426' '1086' '961' '2236' '1829' '764' '1834' '1054'\n",
            " '617' '1529' '2266' '637' '626' '1832' '1016' '2002' '1756' '746' '1285'\n",
            " '2690' '1118' '5332' '980' '1807' '970' '1228' '1195' '1132' '1768'\n",
            " '1384' '1080' '7063' '1817' '1452' '1975' '1368' '702' '1974' '1781'\n",
            " '1036' '944' '663' '364' '1539' '1345' '1680' '2209' '741' '1575' '695'\n",
            " '1317' '294' '1525' '424' '997' '1473' '1552' '2819' '2188' '1668' '3057'\n",
            " '799' '1502' '2606' '552' '1694' '1759' '1110' '399' '1470' '1174' '5877'\n",
            " '1474' '1688' '526' '686' '5908' '1107' '2070' '1468' '1246' '1685' '556'\n",
            " '1533' '1917' '1346' '732' '692' '579' '421' '362' '3505' '1855' '2711'\n",
            " '1586' '3739' '681' '1708' '2278' '1701' '722' '1482' '928' '827' '832'\n",
            " '527' '604' '173' '1341' '3329' '1553' '859' '167' '916' '828' '2082'\n",
            " '1176' '1108' '975' '3008' '1516' '2269' '1699' '2073' '1031' '1503'\n",
            " '2364' '1030' '1442' '5666' '2715' '1437' '2067' '1426' '2908' '1279'\n",
            " '866' '4283' '279' '2658' '3015' '2004' '1391' '4736' '748' '1466' '644'\n",
            " '683' '2705' '1297' '731' '1252' '2216' '3141' '3273' '1518' '1723'\n",
            " '1588' '972' '682' '1094' '668' '175' '967' '402' '3894' '1960' '1599'\n",
            " '2000' '2084' '1621' '714' '1109' '3989' '873' '1572' '1163' '1991'\n",
            " '1716' '1673' '2562' '2874' '965' '462' '605' '1948' '1736' '3518' '2054'\n",
            " '2467' '1681' '1272' '1205' '750' '2156' '2566' '115' '524' '3184' '676'\n",
            " '1678' '612' '328' '955' '1441' '1675' '3965' '2909' '623' '822' '867'\n",
            " '3025' '1993' '792' '636' '4057' '3743' '2337' '2570' '2418' '2472'\n",
            " '3910' '1662' '2123' '2628' '3208' '2080' '3699' '2913' '864' '2505'\n",
            " '870' '7536' '1924' '1671' '1064' '1836' '1866' '4741' '841' '1369'\n",
            " '5681' '3112' '1366' '2223' '1198' '1039' '3811' '3571' '1387' '1171'\n",
            " '1365' '1531' '1590' '11706' '2308' '4860' '1641' '1045' '1901']\n",
            "***************************************************************************\n",
            "Manufacturer\n",
            "['LEXUS' 'CHEVROLET' 'HONDA' 'FORD' 'HYUNDAI' 'TOYOTA' 'MERCEDES-BENZ'\n",
            " 'OPEL' 'PORSCHE' 'BMW' 'JEEP' 'VOLKSWAGEN' 'AUDI' 'RENAULT' 'NISSAN'\n",
            " 'SUBARU' 'DAEWOO' 'KIA' 'MITSUBISHI' 'SSANGYONG' 'MAZDA' 'GMC' 'FIAT'\n",
            " 'INFINITI' 'ALFA ROMEO' 'SUZUKI' 'ACURA' 'LINCOLN' 'VAZ' 'GAZ' 'CITROEN'\n",
            " 'LAND ROVER' 'MINI' 'DODGE' 'CHRYSLER' 'JAGUAR' 'ISUZU' 'SKODA'\n",
            " 'DAIHATSU' 'BUICK' 'TESLA' 'CADILLAC' 'PEUGEOT' 'BENTLEY' 'VOLVO' 'სხვა'\n",
            " 'HAVAL' 'HUMMER' 'SCION' 'UAZ' 'MERCURY' 'ZAZ' 'ROVER' 'SEAT' 'LANCIA'\n",
            " 'MOSKVICH' 'MASERATI' 'FERRARI' 'SAAB' 'LAMBORGHINI' 'ROLLS-ROYCE'\n",
            " 'PONTIAC' 'SATURN' 'ASTON MARTIN' 'GREATWALL']\n",
            "***************************************************************************\n",
            "Model\n",
            "['RX 450' 'Equinox' 'FIT' ... 'E 230 124' 'RX 450 F SPORT' 'Prius C aqua']\n",
            "***************************************************************************\n",
            "Prod. year\n",
            "[2010 2011 2006 2014 2016 2013 2007 1999 1997 2018 2008 2012 2017 2001\n",
            " 1995 2009 2000 2019 2015 2004 1998 1990 2005 2003 1985 1996 2002 1993\n",
            " 1992 1988 1977 1989 1994 2020 1984 1986 1991 1983 1953 1964 1974 1987\n",
            " 1943 1978 1965 1976 1957 1980 1939 1968 1947 1982 1981 1973]\n",
            "***************************************************************************\n",
            "Category\n",
            "['Jeep' 'Hatchback' 'Sedan' 'Microbus' 'Goods wagon' 'Universal' 'Coupe'\n",
            " 'Minivan' 'Cabriolet' 'Limousine' 'Pickup']\n",
            "***************************************************************************\n",
            "Leather interior\n",
            "['Yes' 'No']\n",
            "***************************************************************************\n",
            "Fuel type\n",
            "['Hybrid' 'Petrol' 'Diesel' 'CNG' 'Plug-in Hybrid' 'LPG' 'Hydrogen']\n",
            "***************************************************************************\n",
            "Engine volume\n",
            "['3.5' '3' '1.3' '2.5' '2' '1.8' '2.4' '4' '1.6' '3.3' '2.0 Turbo'\n",
            " '2.2 Turbo' '4.7' '1.5' '4.4' '3.0 Turbo' '1.4 Turbo' '3.6' '2.3'\n",
            " '1.5 Turbo' '1.6 Turbo' '2.2' '2.3 Turbo' '1.4' '5.5' '2.8 Turbo' '3.2'\n",
            " '3.8' '4.6' '1.2' '5' '1.7' '2.9' '0.5' '1.8 Turbo' '2.4 Turbo'\n",
            " '3.5 Turbo' '1.9' '2.7' '4.8' '5.3' '0.4' '2.8' '3.2 Turbo' '1.1' '2.1'\n",
            " '0.7' '5.4' '1.3 Turbo' '3.7' '1' '2.5 Turbo' '2.6' '1.9 Turbo'\n",
            " '4.4 Turbo' '4.7 Turbo' '0.8' '0.2 Turbo' '5.7' '4.8 Turbo' '4.6 Turbo'\n",
            " '6.7' '6.2' '1.2 Turbo' '3.4' '1.7 Turbo' '6.3 Turbo' '2.7 Turbo' '4.3'\n",
            " '4.2' '2.9 Turbo' '0' '4.0 Turbo' '20' '3.6 Turbo' '0.3' '3.7 Turbo'\n",
            " '5.9' '5.5 Turbo' '0.2' '2.1 Turbo' '5.6' '6' '0.7 Turbo' '0.6 Turbo'\n",
            " '6.8' '4.5' '0.6' '7.3' '0.1' '1.0 Turbo' '6.3' '4.5 Turbo' '0.8 Turbo'\n",
            " '4.2 Turbo' '3.1' '5.0 Turbo' '6.4' '3.9' '5.7 Turbo' '0.9' '0.4 Turbo'\n",
            " '5.4 Turbo' '0.3 Turbo' '5.2' '5.8' '1.1 Turbo']\n",
            "***************************************************************************\n",
            "Mileage\n",
            "['186005 km' '192000 km' '200000 km' ... '140607 km' '307325 km'\n",
            " '186923 km']\n",
            "***************************************************************************\n",
            "Cylinders\n",
            "[ 6.  4.  8.  1. 12.  3.  2. 16.  5.  7.  9. 10. 14.]\n",
            "***************************************************************************\n",
            "Gear box type\n",
            "['Automatic' 'Tiptronic' 'Variator' 'Manual']\n",
            "***************************************************************************\n",
            "Drive wheels\n",
            "['4x4' 'Front' 'Rear']\n",
            "***************************************************************************\n",
            "Doors\n",
            "['04-May' '02-Mar' '>5']\n",
            "***************************************************************************\n",
            "Wheel\n",
            "['Left wheel' 'Right-hand drive']\n",
            "***************************************************************************\n",
            "Color\n",
            "['Silver' 'Black' 'White' 'Grey' 'Blue' 'Green' 'Red' 'Sky blue' 'Orange'\n",
            " 'Yellow' 'Brown' 'Golden' 'Beige' 'Carnelian red' 'Purple' 'Pink']\n",
            "***************************************************************************\n",
            "Airbags\n",
            "[12  8  2  0  4  6 10  3  1 16  5  7  9 11 14 15 13]\n",
            "***************************************************************************\n"
          ]
        }
      ]
    },
    {
      "cell_type": "code",
      "source": [
        "df[df['Levy'] == '-']"
      ],
      "metadata": {
        "colab": {
          "base_uri": "https://localhost:8080/",
          "height": 693
        },
        "id": "LWQepHvYfrdZ",
        "outputId": "c22ef345-3c49-4df0-9526-4769354a2b8c"
      },
      "execution_count": 753,
      "outputs": [
        {
          "output_type": "execute_result",
          "data": {
            "text/plain": [
              "             ID  Price Levy   Manufacturer      Model  Prod. year  \\\n",
              "2      45774419   8467    -          HONDA        FIT        2006   \n",
              "9      45756839  26657    -          LEXUS     RX 350        2007   \n",
              "11     45814819   8781    -           FORD    Transit        1999   \n",
              "12     45815568   3000    -           OPEL     Vectra        1997   \n",
              "23     45814106   7840    -           FORD    Transit        2001   \n",
              "...         ...    ...  ...            ...        ...         ...   \n",
              "19223  44571028   8781    -          DODGE    Caliber        2008   \n",
              "19224  45768089  19130    -            KIA  Optima ex        2014   \n",
              "19226  45796788   7840    -         NISSAN    Skyline        2003   \n",
              "19229  39977395     50    -         TOYOTA      Prius        2008   \n",
              "19232  45798355   8467    -  MERCEDES-BENZ    CLK 200        1999   \n",
              "\n",
              "          Category Leather interior Fuel type Engine volume    Mileage  \\\n",
              "2        Hatchback               No    Petrol           1.3  200000 km   \n",
              "9             Jeep              Yes    Petrol           3.5  128500 km   \n",
              "11        Microbus               No       CNG             4       0 km   \n",
              "12     Goods wagon               No       CNG           1.6  350000 km   \n",
              "23        Microbus               No    Diesel     2.0 Turbo  230000 km   \n",
              "...            ...              ...       ...           ...        ...   \n",
              "19223    Hatchback               No    Petrol           2.4       0 km   \n",
              "19224        Sedan              Yes    Petrol           2.4   35800 km   \n",
              "19226        Sedan              Yes    Petrol             3  220000 km   \n",
              "19229    Hatchback               No    Hybrid           1.5  150000 km   \n",
              "19232        Coupe              Yes       CNG     2.0 Turbo  300000 km   \n",
              "\n",
              "       Cylinders Gear box type Drive wheels   Doors             Wheel   Color  \\\n",
              "2            4.0      Variator        Front  04-May  Right-hand drive   Black   \n",
              "9            6.0     Automatic          4x4  04-May        Left wheel  Silver   \n",
              "11           8.0        Manual         Rear  02-Mar        Left wheel    Blue   \n",
              "12           4.0        Manual        Front  04-May        Left wheel   White   \n",
              "23           4.0        Manual        Front  02-Mar        Left wheel   White   \n",
              "...          ...           ...          ...     ...               ...     ...   \n",
              "19223        4.0     Automatic        Front  04-May        Left wheel    Blue   \n",
              "19224        4.0     Automatic        Front  04-May        Left wheel   Black   \n",
              "19226        6.0     Tiptronic         Rear  04-May  Right-hand drive   White   \n",
              "19229        4.0     Automatic        Front  04-May        Left wheel  Silver   \n",
              "19232        4.0        Manual         Rear  02-Mar        Left wheel  Silver   \n",
              "\n",
              "       Airbags  \n",
              "2            2  \n",
              "9           12  \n",
              "11           0  \n",
              "12           4  \n",
              "23           0  \n",
              "...        ...  \n",
              "19223        4  \n",
              "19224       12  \n",
              "19226        0  \n",
              "19229        6  \n",
              "19232        5  \n",
              "\n",
              "[5819 rows x 18 columns]"
            ],
            "text/html": [
              "\n",
              "  <div id=\"df-eb295f1b-7719-4cb6-a108-179854c21353\">\n",
              "    <div class=\"colab-df-container\">\n",
              "      <div>\n",
              "<style scoped>\n",
              "    .dataframe tbody tr th:only-of-type {\n",
              "        vertical-align: middle;\n",
              "    }\n",
              "\n",
              "    .dataframe tbody tr th {\n",
              "        vertical-align: top;\n",
              "    }\n",
              "\n",
              "    .dataframe thead th {\n",
              "        text-align: right;\n",
              "    }\n",
              "</style>\n",
              "<table border=\"1\" class=\"dataframe\">\n",
              "  <thead>\n",
              "    <tr style=\"text-align: right;\">\n",
              "      <th></th>\n",
              "      <th>ID</th>\n",
              "      <th>Price</th>\n",
              "      <th>Levy</th>\n",
              "      <th>Manufacturer</th>\n",
              "      <th>Model</th>\n",
              "      <th>Prod. year</th>\n",
              "      <th>Category</th>\n",
              "      <th>Leather interior</th>\n",
              "      <th>Fuel type</th>\n",
              "      <th>Engine volume</th>\n",
              "      <th>Mileage</th>\n",
              "      <th>Cylinders</th>\n",
              "      <th>Gear box type</th>\n",
              "      <th>Drive wheels</th>\n",
              "      <th>Doors</th>\n",
              "      <th>Wheel</th>\n",
              "      <th>Color</th>\n",
              "      <th>Airbags</th>\n",
              "    </tr>\n",
              "  </thead>\n",
              "  <tbody>\n",
              "    <tr>\n",
              "      <th>2</th>\n",
              "      <td>45774419</td>\n",
              "      <td>8467</td>\n",
              "      <td>-</td>\n",
              "      <td>HONDA</td>\n",
              "      <td>FIT</td>\n",
              "      <td>2006</td>\n",
              "      <td>Hatchback</td>\n",
              "      <td>No</td>\n",
              "      <td>Petrol</td>\n",
              "      <td>1.3</td>\n",
              "      <td>200000 km</td>\n",
              "      <td>4.0</td>\n",
              "      <td>Variator</td>\n",
              "      <td>Front</td>\n",
              "      <td>04-May</td>\n",
              "      <td>Right-hand drive</td>\n",
              "      <td>Black</td>\n",
              "      <td>2</td>\n",
              "    </tr>\n",
              "    <tr>\n",
              "      <th>9</th>\n",
              "      <td>45756839</td>\n",
              "      <td>26657</td>\n",
              "      <td>-</td>\n",
              "      <td>LEXUS</td>\n",
              "      <td>RX 350</td>\n",
              "      <td>2007</td>\n",
              "      <td>Jeep</td>\n",
              "      <td>Yes</td>\n",
              "      <td>Petrol</td>\n",
              "      <td>3.5</td>\n",
              "      <td>128500 km</td>\n",
              "      <td>6.0</td>\n",
              "      <td>Automatic</td>\n",
              "      <td>4x4</td>\n",
              "      <td>04-May</td>\n",
              "      <td>Left wheel</td>\n",
              "      <td>Silver</td>\n",
              "      <td>12</td>\n",
              "    </tr>\n",
              "    <tr>\n",
              "      <th>11</th>\n",
              "      <td>45814819</td>\n",
              "      <td>8781</td>\n",
              "      <td>-</td>\n",
              "      <td>FORD</td>\n",
              "      <td>Transit</td>\n",
              "      <td>1999</td>\n",
              "      <td>Microbus</td>\n",
              "      <td>No</td>\n",
              "      <td>CNG</td>\n",
              "      <td>4</td>\n",
              "      <td>0 km</td>\n",
              "      <td>8.0</td>\n",
              "      <td>Manual</td>\n",
              "      <td>Rear</td>\n",
              "      <td>02-Mar</td>\n",
              "      <td>Left wheel</td>\n",
              "      <td>Blue</td>\n",
              "      <td>0</td>\n",
              "    </tr>\n",
              "    <tr>\n",
              "      <th>12</th>\n",
              "      <td>45815568</td>\n",
              "      <td>3000</td>\n",
              "      <td>-</td>\n",
              "      <td>OPEL</td>\n",
              "      <td>Vectra</td>\n",
              "      <td>1997</td>\n",
              "      <td>Goods wagon</td>\n",
              "      <td>No</td>\n",
              "      <td>CNG</td>\n",
              "      <td>1.6</td>\n",
              "      <td>350000 km</td>\n",
              "      <td>4.0</td>\n",
              "      <td>Manual</td>\n",
              "      <td>Front</td>\n",
              "      <td>04-May</td>\n",
              "      <td>Left wheel</td>\n",
              "      <td>White</td>\n",
              "      <td>4</td>\n",
              "    </tr>\n",
              "    <tr>\n",
              "      <th>23</th>\n",
              "      <td>45814106</td>\n",
              "      <td>7840</td>\n",
              "      <td>-</td>\n",
              "      <td>FORD</td>\n",
              "      <td>Transit</td>\n",
              "      <td>2001</td>\n",
              "      <td>Microbus</td>\n",
              "      <td>No</td>\n",
              "      <td>Diesel</td>\n",
              "      <td>2.0 Turbo</td>\n",
              "      <td>230000 km</td>\n",
              "      <td>4.0</td>\n",
              "      <td>Manual</td>\n",
              "      <td>Front</td>\n",
              "      <td>02-Mar</td>\n",
              "      <td>Left wheel</td>\n",
              "      <td>White</td>\n",
              "      <td>0</td>\n",
              "    </tr>\n",
              "    <tr>\n",
              "      <th>...</th>\n",
              "      <td>...</td>\n",
              "      <td>...</td>\n",
              "      <td>...</td>\n",
              "      <td>...</td>\n",
              "      <td>...</td>\n",
              "      <td>...</td>\n",
              "      <td>...</td>\n",
              "      <td>...</td>\n",
              "      <td>...</td>\n",
              "      <td>...</td>\n",
              "      <td>...</td>\n",
              "      <td>...</td>\n",
              "      <td>...</td>\n",
              "      <td>...</td>\n",
              "      <td>...</td>\n",
              "      <td>...</td>\n",
              "      <td>...</td>\n",
              "      <td>...</td>\n",
              "    </tr>\n",
              "    <tr>\n",
              "      <th>19223</th>\n",
              "      <td>44571028</td>\n",
              "      <td>8781</td>\n",
              "      <td>-</td>\n",
              "      <td>DODGE</td>\n",
              "      <td>Caliber</td>\n",
              "      <td>2008</td>\n",
              "      <td>Hatchback</td>\n",
              "      <td>No</td>\n",
              "      <td>Petrol</td>\n",
              "      <td>2.4</td>\n",
              "      <td>0 km</td>\n",
              "      <td>4.0</td>\n",
              "      <td>Automatic</td>\n",
              "      <td>Front</td>\n",
              "      <td>04-May</td>\n",
              "      <td>Left wheel</td>\n",
              "      <td>Blue</td>\n",
              "      <td>4</td>\n",
              "    </tr>\n",
              "    <tr>\n",
              "      <th>19224</th>\n",
              "      <td>45768089</td>\n",
              "      <td>19130</td>\n",
              "      <td>-</td>\n",
              "      <td>KIA</td>\n",
              "      <td>Optima ex</td>\n",
              "      <td>2014</td>\n",
              "      <td>Sedan</td>\n",
              "      <td>Yes</td>\n",
              "      <td>Petrol</td>\n",
              "      <td>2.4</td>\n",
              "      <td>35800 km</td>\n",
              "      <td>4.0</td>\n",
              "      <td>Automatic</td>\n",
              "      <td>Front</td>\n",
              "      <td>04-May</td>\n",
              "      <td>Left wheel</td>\n",
              "      <td>Black</td>\n",
              "      <td>12</td>\n",
              "    </tr>\n",
              "    <tr>\n",
              "      <th>19226</th>\n",
              "      <td>45796788</td>\n",
              "      <td>7840</td>\n",
              "      <td>-</td>\n",
              "      <td>NISSAN</td>\n",
              "      <td>Skyline</td>\n",
              "      <td>2003</td>\n",
              "      <td>Sedan</td>\n",
              "      <td>Yes</td>\n",
              "      <td>Petrol</td>\n",
              "      <td>3</td>\n",
              "      <td>220000 km</td>\n",
              "      <td>6.0</td>\n",
              "      <td>Tiptronic</td>\n",
              "      <td>Rear</td>\n",
              "      <td>04-May</td>\n",
              "      <td>Right-hand drive</td>\n",
              "      <td>White</td>\n",
              "      <td>0</td>\n",
              "    </tr>\n",
              "    <tr>\n",
              "      <th>19229</th>\n",
              "      <td>39977395</td>\n",
              "      <td>50</td>\n",
              "      <td>-</td>\n",
              "      <td>TOYOTA</td>\n",
              "      <td>Prius</td>\n",
              "      <td>2008</td>\n",
              "      <td>Hatchback</td>\n",
              "      <td>No</td>\n",
              "      <td>Hybrid</td>\n",
              "      <td>1.5</td>\n",
              "      <td>150000 km</td>\n",
              "      <td>4.0</td>\n",
              "      <td>Automatic</td>\n",
              "      <td>Front</td>\n",
              "      <td>04-May</td>\n",
              "      <td>Left wheel</td>\n",
              "      <td>Silver</td>\n",
              "      <td>6</td>\n",
              "    </tr>\n",
              "    <tr>\n",
              "      <th>19232</th>\n",
              "      <td>45798355</td>\n",
              "      <td>8467</td>\n",
              "      <td>-</td>\n",
              "      <td>MERCEDES-BENZ</td>\n",
              "      <td>CLK 200</td>\n",
              "      <td>1999</td>\n",
              "      <td>Coupe</td>\n",
              "      <td>Yes</td>\n",
              "      <td>CNG</td>\n",
              "      <td>2.0 Turbo</td>\n",
              "      <td>300000 km</td>\n",
              "      <td>4.0</td>\n",
              "      <td>Manual</td>\n",
              "      <td>Rear</td>\n",
              "      <td>02-Mar</td>\n",
              "      <td>Left wheel</td>\n",
              "      <td>Silver</td>\n",
              "      <td>5</td>\n",
              "    </tr>\n",
              "  </tbody>\n",
              "</table>\n",
              "<p>5819 rows × 18 columns</p>\n",
              "</div>\n",
              "      <button class=\"colab-df-convert\" onclick=\"convertToInteractive('df-eb295f1b-7719-4cb6-a108-179854c21353')\"\n",
              "              title=\"Convert this dataframe to an interactive table.\"\n",
              "              style=\"display:none;\">\n",
              "        \n",
              "  <svg xmlns=\"http://www.w3.org/2000/svg\" height=\"24px\"viewBox=\"0 0 24 24\"\n",
              "       width=\"24px\">\n",
              "    <path d=\"M0 0h24v24H0V0z\" fill=\"none\"/>\n",
              "    <path d=\"M18.56 5.44l.94 2.06.94-2.06 2.06-.94-2.06-.94-.94-2.06-.94 2.06-2.06.94zm-11 1L8.5 8.5l.94-2.06 2.06-.94-2.06-.94L8.5 2.5l-.94 2.06-2.06.94zm10 10l.94 2.06.94-2.06 2.06-.94-2.06-.94-.94-2.06-.94 2.06-2.06.94z\"/><path d=\"M17.41 7.96l-1.37-1.37c-.4-.4-.92-.59-1.43-.59-.52 0-1.04.2-1.43.59L10.3 9.45l-7.72 7.72c-.78.78-.78 2.05 0 2.83L4 21.41c.39.39.9.59 1.41.59.51 0 1.02-.2 1.41-.59l7.78-7.78 2.81-2.81c.8-.78.8-2.07 0-2.86zM5.41 20L4 18.59l7.72-7.72 1.47 1.35L5.41 20z\"/>\n",
              "  </svg>\n",
              "      </button>\n",
              "      \n",
              "  <style>\n",
              "    .colab-df-container {\n",
              "      display:flex;\n",
              "      flex-wrap:wrap;\n",
              "      gap: 12px;\n",
              "    }\n",
              "\n",
              "    .colab-df-convert {\n",
              "      background-color: #E8F0FE;\n",
              "      border: none;\n",
              "      border-radius: 50%;\n",
              "      cursor: pointer;\n",
              "      display: none;\n",
              "      fill: #1967D2;\n",
              "      height: 32px;\n",
              "      padding: 0 0 0 0;\n",
              "      width: 32px;\n",
              "    }\n",
              "\n",
              "    .colab-df-convert:hover {\n",
              "      background-color: #E2EBFA;\n",
              "      box-shadow: 0px 1px 2px rgba(60, 64, 67, 0.3), 0px 1px 3px 1px rgba(60, 64, 67, 0.15);\n",
              "      fill: #174EA6;\n",
              "    }\n",
              "\n",
              "    [theme=dark] .colab-df-convert {\n",
              "      background-color: #3B4455;\n",
              "      fill: #D2E3FC;\n",
              "    }\n",
              "\n",
              "    [theme=dark] .colab-df-convert:hover {\n",
              "      background-color: #434B5C;\n",
              "      box-shadow: 0px 1px 3px 1px rgba(0, 0, 0, 0.15);\n",
              "      filter: drop-shadow(0px 1px 2px rgba(0, 0, 0, 0.3));\n",
              "      fill: #FFFFFF;\n",
              "    }\n",
              "  </style>\n",
              "\n",
              "      <script>\n",
              "        const buttonEl =\n",
              "          document.querySelector('#df-eb295f1b-7719-4cb6-a108-179854c21353 button.colab-df-convert');\n",
              "        buttonEl.style.display =\n",
              "          google.colab.kernel.accessAllowed ? 'block' : 'none';\n",
              "\n",
              "        async function convertToInteractive(key) {\n",
              "          const element = document.querySelector('#df-eb295f1b-7719-4cb6-a108-179854c21353');\n",
              "          const dataTable =\n",
              "            await google.colab.kernel.invokeFunction('convertToInteractive',\n",
              "                                                     [key], {});\n",
              "          if (!dataTable) return;\n",
              "\n",
              "          const docLinkHtml = 'Like what you see? Visit the ' +\n",
              "            '<a target=\"_blank\" href=https://colab.research.google.com/notebooks/data_table.ipynb>data table notebook</a>'\n",
              "            + ' to learn more about interactive tables.';\n",
              "          element.innerHTML = '';\n",
              "          dataTable['output_type'] = 'display_data';\n",
              "          await google.colab.output.renderOutput(dataTable, element);\n",
              "          const docLink = document.createElement('div');\n",
              "          docLink.innerHTML = docLinkHtml;\n",
              "          element.appendChild(docLink);\n",
              "        }\n",
              "      </script>\n",
              "    </div>\n",
              "  </div>\n",
              "  "
            ]
          },
          "metadata": {},
          "execution_count": 753
        }
      ]
    },
    {
      "cell_type": "code",
      "source": [
        "# Replacing '-' with null\n",
        "df['Levy'].replace({'-':np.nan}, inplace = True)\n",
        "# Converting Levy type to float\n",
        "df['Levy'] = df['Levy'].astype('float64')"
      ],
      "metadata": {
        "id": "TDoXfxxDf5sh"
      },
      "execution_count": 754,
      "outputs": []
    },
    {
      "cell_type": "code",
      "source": [
        "df['Levy'].fillna(value=df['Levy'].median(), inplace=True)"
      ],
      "metadata": {
        "id": "DL748WGP0eHx"
      },
      "execution_count": 755,
      "outputs": []
    },
    {
      "cell_type": "code",
      "source": [
        "df.nunique()"
      ],
      "metadata": {
        "colab": {
          "base_uri": "https://localhost:8080/"
        },
        "id": "i0X1ASwV4wFi",
        "outputId": "723ee637-d4e8-4443-dc4f-d2c3e7560b10"
      },
      "execution_count": 756,
      "outputs": [
        {
          "output_type": "execute_result",
          "data": {
            "text/plain": [
              "ID                  18924\n",
              "Price                2315\n",
              "Levy                  558\n",
              "Manufacturer           65\n",
              "Model                1590\n",
              "Prod. year             54\n",
              "Category               11\n",
              "Leather interior        2\n",
              "Fuel type               7\n",
              "Engine volume         107\n",
              "Mileage              7687\n",
              "Cylinders              13\n",
              "Gear box type           4\n",
              "Drive wheels            3\n",
              "Doors                   3\n",
              "Wheel                   2\n",
              "Color                  16\n",
              "Airbags                17\n",
              "dtype: int64"
            ]
          },
          "metadata": {},
          "execution_count": 756
        }
      ]
    },
    {
      "cell_type": "code",
      "source": [
        "df.isnull().sum()"
      ],
      "metadata": {
        "colab": {
          "base_uri": "https://localhost:8080/"
        },
        "id": "GLG8jzLR0j7g",
        "outputId": "3e4e2517-1239-4207-f88c-d46d0b774e4b"
      },
      "execution_count": 757,
      "outputs": [
        {
          "output_type": "execute_result",
          "data": {
            "text/plain": [
              "ID                  0\n",
              "Price               0\n",
              "Levy                0\n",
              "Manufacturer        0\n",
              "Model               0\n",
              "Prod. year          0\n",
              "Category            0\n",
              "Leather interior    0\n",
              "Fuel type           0\n",
              "Engine volume       0\n",
              "Mileage             0\n",
              "Cylinders           0\n",
              "Gear box type       0\n",
              "Drive wheels        0\n",
              "Doors               0\n",
              "Wheel               0\n",
              "Color               0\n",
              "Airbags             0\n",
              "dtype: int64"
            ]
          },
          "metadata": {},
          "execution_count": 757
        }
      ]
    },
    {
      "cell_type": "code",
      "source": [
        "# Replacement: Yes >> True , No >> False\n",
        "df['Leather interior'].replace({'Yes': True, 'No':False}, inplace=True)"
      ],
      "metadata": {
        "id": "R7KhubIIgJoV"
      },
      "execution_count": 758,
      "outputs": []
    },
    {
      "cell_type": "code",
      "source": [
        "# Making sure that we don miss anything so making everything lower first\n",
        "df['Engine volume'] = df['Engine volume'].str.lower()\n"
      ],
      "metadata": {
        "id": "Qhkh4PGpgRKL"
      },
      "execution_count": 759,
      "outputs": []
    },
    {
      "cell_type": "code",
      "source": [
        "#rows which has turbo in them and assigning the results to new column Turbo. \n",
        "df['Turbo'] = df['Engine volume'].str.contains('turbo')"
      ],
      "metadata": {
        "id": "zTuB_UBpl4g3"
      },
      "execution_count": 760,
      "outputs": []
    },
    {
      "cell_type": "code",
      "source": [
        "\n",
        "# Slicing engine volumes and converting type to float\n",
        "df['Engine volume'] = df['Engine volume'].str.slice(0,3)\n",
        "df['Engine volume'] = df['Engine volume'].astype('float64')"
      ],
      "metadata": {
        "id": "Baok-l1YmP7q"
      },
      "execution_count": 761,
      "outputs": []
    },
    {
      "cell_type": "code",
      "source": [
        "df['Mileage'] = df['Mileage'].str.strip('km')\n",
        "df['Mileage'] = df['Mileage'].astype('int64')"
      ],
      "metadata": {
        "id": "EM7gEfkSgb7u"
      },
      "execution_count": 762,
      "outputs": []
    },
    {
      "cell_type": "code",
      "source": [
        "df['Doors'].replace({'04-May':4, '02-Mar':2, '>5':5}, inplace=True)"
      ],
      "metadata": {
        "id": "3I3MvU5Xg3HG"
      },
      "execution_count": 763,
      "outputs": []
    },
    {
      "cell_type": "code",
      "source": [
        "cars = df.drop('ID', axis=1)"
      ],
      "metadata": {
        "id": "BMG2KsLNhQXd"
      },
      "execution_count": 764,
      "outputs": []
    },
    {
      "cell_type": "code",
      "source": [
        "cars.head()"
      ],
      "metadata": {
        "colab": {
          "base_uri": "https://localhost:8080/",
          "height": 371
        },
        "id": "Z3S3ZVXLhjpp",
        "outputId": "21c2b183-da7d-4010-a542-0fe5a59933b0"
      },
      "execution_count": 765,
      "outputs": [
        {
          "output_type": "execute_result",
          "data": {
            "text/plain": [
              "   Price    Levy Manufacturer    Model  Prod. year   Category  \\\n",
              "0  13328  1399.0        LEXUS   RX 450        2010       Jeep   \n",
              "1  16621  1018.0    CHEVROLET  Equinox        2011       Jeep   \n",
              "2   8467   781.0        HONDA      FIT        2006  Hatchback   \n",
              "3   3607   862.0         FORD   Escape        2011       Jeep   \n",
              "4  11726   446.0        HONDA      FIT        2014  Hatchback   \n",
              "\n",
              "   Leather interior Fuel type  Engine volume  Mileage  Cylinders  \\\n",
              "0              True    Hybrid            3.5   186005        6.0   \n",
              "1             False    Petrol            3.0   192000        6.0   \n",
              "2             False    Petrol            1.3   200000        4.0   \n",
              "3              True    Hybrid            2.5   168966        4.0   \n",
              "4              True    Petrol            1.3    91901        4.0   \n",
              "\n",
              "  Gear box type Drive wheels  Doors             Wheel   Color  Airbags  Turbo  \n",
              "0     Automatic          4x4      4        Left wheel  Silver       12  False  \n",
              "1     Tiptronic          4x4      4        Left wheel   Black        8  False  \n",
              "2      Variator        Front      4  Right-hand drive   Black        2  False  \n",
              "3     Automatic          4x4      4        Left wheel   White        0  False  \n",
              "4     Automatic        Front      4        Left wheel  Silver        4  False  "
            ],
            "text/html": [
              "\n",
              "  <div id=\"df-e04301fa-9cc9-4233-b6bf-32139b9159fb\">\n",
              "    <div class=\"colab-df-container\">\n",
              "      <div>\n",
              "<style scoped>\n",
              "    .dataframe tbody tr th:only-of-type {\n",
              "        vertical-align: middle;\n",
              "    }\n",
              "\n",
              "    .dataframe tbody tr th {\n",
              "        vertical-align: top;\n",
              "    }\n",
              "\n",
              "    .dataframe thead th {\n",
              "        text-align: right;\n",
              "    }\n",
              "</style>\n",
              "<table border=\"1\" class=\"dataframe\">\n",
              "  <thead>\n",
              "    <tr style=\"text-align: right;\">\n",
              "      <th></th>\n",
              "      <th>Price</th>\n",
              "      <th>Levy</th>\n",
              "      <th>Manufacturer</th>\n",
              "      <th>Model</th>\n",
              "      <th>Prod. year</th>\n",
              "      <th>Category</th>\n",
              "      <th>Leather interior</th>\n",
              "      <th>Fuel type</th>\n",
              "      <th>Engine volume</th>\n",
              "      <th>Mileage</th>\n",
              "      <th>Cylinders</th>\n",
              "      <th>Gear box type</th>\n",
              "      <th>Drive wheels</th>\n",
              "      <th>Doors</th>\n",
              "      <th>Wheel</th>\n",
              "      <th>Color</th>\n",
              "      <th>Airbags</th>\n",
              "      <th>Turbo</th>\n",
              "    </tr>\n",
              "  </thead>\n",
              "  <tbody>\n",
              "    <tr>\n",
              "      <th>0</th>\n",
              "      <td>13328</td>\n",
              "      <td>1399.0</td>\n",
              "      <td>LEXUS</td>\n",
              "      <td>RX 450</td>\n",
              "      <td>2010</td>\n",
              "      <td>Jeep</td>\n",
              "      <td>True</td>\n",
              "      <td>Hybrid</td>\n",
              "      <td>3.5</td>\n",
              "      <td>186005</td>\n",
              "      <td>6.0</td>\n",
              "      <td>Automatic</td>\n",
              "      <td>4x4</td>\n",
              "      <td>4</td>\n",
              "      <td>Left wheel</td>\n",
              "      <td>Silver</td>\n",
              "      <td>12</td>\n",
              "      <td>False</td>\n",
              "    </tr>\n",
              "    <tr>\n",
              "      <th>1</th>\n",
              "      <td>16621</td>\n",
              "      <td>1018.0</td>\n",
              "      <td>CHEVROLET</td>\n",
              "      <td>Equinox</td>\n",
              "      <td>2011</td>\n",
              "      <td>Jeep</td>\n",
              "      <td>False</td>\n",
              "      <td>Petrol</td>\n",
              "      <td>3.0</td>\n",
              "      <td>192000</td>\n",
              "      <td>6.0</td>\n",
              "      <td>Tiptronic</td>\n",
              "      <td>4x4</td>\n",
              "      <td>4</td>\n",
              "      <td>Left wheel</td>\n",
              "      <td>Black</td>\n",
              "      <td>8</td>\n",
              "      <td>False</td>\n",
              "    </tr>\n",
              "    <tr>\n",
              "      <th>2</th>\n",
              "      <td>8467</td>\n",
              "      <td>781.0</td>\n",
              "      <td>HONDA</td>\n",
              "      <td>FIT</td>\n",
              "      <td>2006</td>\n",
              "      <td>Hatchback</td>\n",
              "      <td>False</td>\n",
              "      <td>Petrol</td>\n",
              "      <td>1.3</td>\n",
              "      <td>200000</td>\n",
              "      <td>4.0</td>\n",
              "      <td>Variator</td>\n",
              "      <td>Front</td>\n",
              "      <td>4</td>\n",
              "      <td>Right-hand drive</td>\n",
              "      <td>Black</td>\n",
              "      <td>2</td>\n",
              "      <td>False</td>\n",
              "    </tr>\n",
              "    <tr>\n",
              "      <th>3</th>\n",
              "      <td>3607</td>\n",
              "      <td>862.0</td>\n",
              "      <td>FORD</td>\n",
              "      <td>Escape</td>\n",
              "      <td>2011</td>\n",
              "      <td>Jeep</td>\n",
              "      <td>True</td>\n",
              "      <td>Hybrid</td>\n",
              "      <td>2.5</td>\n",
              "      <td>168966</td>\n",
              "      <td>4.0</td>\n",
              "      <td>Automatic</td>\n",
              "      <td>4x4</td>\n",
              "      <td>4</td>\n",
              "      <td>Left wheel</td>\n",
              "      <td>White</td>\n",
              "      <td>0</td>\n",
              "      <td>False</td>\n",
              "    </tr>\n",
              "    <tr>\n",
              "      <th>4</th>\n",
              "      <td>11726</td>\n",
              "      <td>446.0</td>\n",
              "      <td>HONDA</td>\n",
              "      <td>FIT</td>\n",
              "      <td>2014</td>\n",
              "      <td>Hatchback</td>\n",
              "      <td>True</td>\n",
              "      <td>Petrol</td>\n",
              "      <td>1.3</td>\n",
              "      <td>91901</td>\n",
              "      <td>4.0</td>\n",
              "      <td>Automatic</td>\n",
              "      <td>Front</td>\n",
              "      <td>4</td>\n",
              "      <td>Left wheel</td>\n",
              "      <td>Silver</td>\n",
              "      <td>4</td>\n",
              "      <td>False</td>\n",
              "    </tr>\n",
              "  </tbody>\n",
              "</table>\n",
              "</div>\n",
              "      <button class=\"colab-df-convert\" onclick=\"convertToInteractive('df-e04301fa-9cc9-4233-b6bf-32139b9159fb')\"\n",
              "              title=\"Convert this dataframe to an interactive table.\"\n",
              "              style=\"display:none;\">\n",
              "        \n",
              "  <svg xmlns=\"http://www.w3.org/2000/svg\" height=\"24px\"viewBox=\"0 0 24 24\"\n",
              "       width=\"24px\">\n",
              "    <path d=\"M0 0h24v24H0V0z\" fill=\"none\"/>\n",
              "    <path d=\"M18.56 5.44l.94 2.06.94-2.06 2.06-.94-2.06-.94-.94-2.06-.94 2.06-2.06.94zm-11 1L8.5 8.5l.94-2.06 2.06-.94-2.06-.94L8.5 2.5l-.94 2.06-2.06.94zm10 10l.94 2.06.94-2.06 2.06-.94-2.06-.94-.94-2.06-.94 2.06-2.06.94z\"/><path d=\"M17.41 7.96l-1.37-1.37c-.4-.4-.92-.59-1.43-.59-.52 0-1.04.2-1.43.59L10.3 9.45l-7.72 7.72c-.78.78-.78 2.05 0 2.83L4 21.41c.39.39.9.59 1.41.59.51 0 1.02-.2 1.41-.59l7.78-7.78 2.81-2.81c.8-.78.8-2.07 0-2.86zM5.41 20L4 18.59l7.72-7.72 1.47 1.35L5.41 20z\"/>\n",
              "  </svg>\n",
              "      </button>\n",
              "      \n",
              "  <style>\n",
              "    .colab-df-container {\n",
              "      display:flex;\n",
              "      flex-wrap:wrap;\n",
              "      gap: 12px;\n",
              "    }\n",
              "\n",
              "    .colab-df-convert {\n",
              "      background-color: #E8F0FE;\n",
              "      border: none;\n",
              "      border-radius: 50%;\n",
              "      cursor: pointer;\n",
              "      display: none;\n",
              "      fill: #1967D2;\n",
              "      height: 32px;\n",
              "      padding: 0 0 0 0;\n",
              "      width: 32px;\n",
              "    }\n",
              "\n",
              "    .colab-df-convert:hover {\n",
              "      background-color: #E2EBFA;\n",
              "      box-shadow: 0px 1px 2px rgba(60, 64, 67, 0.3), 0px 1px 3px 1px rgba(60, 64, 67, 0.15);\n",
              "      fill: #174EA6;\n",
              "    }\n",
              "\n",
              "    [theme=dark] .colab-df-convert {\n",
              "      background-color: #3B4455;\n",
              "      fill: #D2E3FC;\n",
              "    }\n",
              "\n",
              "    [theme=dark] .colab-df-convert:hover {\n",
              "      background-color: #434B5C;\n",
              "      box-shadow: 0px 1px 3px 1px rgba(0, 0, 0, 0.15);\n",
              "      filter: drop-shadow(0px 1px 2px rgba(0, 0, 0, 0.3));\n",
              "      fill: #FFFFFF;\n",
              "    }\n",
              "  </style>\n",
              "\n",
              "      <script>\n",
              "        const buttonEl =\n",
              "          document.querySelector('#df-e04301fa-9cc9-4233-b6bf-32139b9159fb button.colab-df-convert');\n",
              "        buttonEl.style.display =\n",
              "          google.colab.kernel.accessAllowed ? 'block' : 'none';\n",
              "\n",
              "        async function convertToInteractive(key) {\n",
              "          const element = document.querySelector('#df-e04301fa-9cc9-4233-b6bf-32139b9159fb');\n",
              "          const dataTable =\n",
              "            await google.colab.kernel.invokeFunction('convertToInteractive',\n",
              "                                                     [key], {});\n",
              "          if (!dataTable) return;\n",
              "\n",
              "          const docLinkHtml = 'Like what you see? Visit the ' +\n",
              "            '<a target=\"_blank\" href=https://colab.research.google.com/notebooks/data_table.ipynb>data table notebook</a>'\n",
              "            + ' to learn more about interactive tables.';\n",
              "          element.innerHTML = '';\n",
              "          dataTable['output_type'] = 'display_data';\n",
              "          await google.colab.output.renderOutput(dataTable, element);\n",
              "          const docLink = document.createElement('div');\n",
              "          docLink.innerHTML = docLinkHtml;\n",
              "          element.appendChild(docLink);\n",
              "        }\n",
              "      </script>\n",
              "    </div>\n",
              "  </div>\n",
              "  "
            ]
          },
          "metadata": {},
          "execution_count": 765
        }
      ]
    },
    {
      "cell_type": "code",
      "source": [
        "def replace_outliers_median(x):\n",
        "    q1 = np.percentile(x, 25)\n",
        "    q3 = np.percentile(x, 75)\n",
        "    iqr = q3 - q1\n",
        "    lower_bound = q1 - 1.5 * iqr\n",
        "    upper_bound = q3 + 1.5 * iqr\n",
        "    x[x < lower_bound] = np.median(x)\n",
        "    x[x > upper_bound] = np.median(x)\n",
        "    return x\n",
        "\n",
        "# Define a function to replace outliers with the mode for categorical variables\n",
        "def replace_outliers_mode(x):\n",
        "    mode = x.mode()[0]\n",
        "    x[x != mode] = mode\n",
        "    return x\n"
      ],
      "metadata": {
        "id": "40H5s0bBiwg6"
      },
      "execution_count": 766,
      "outputs": []
    },
    {
      "cell_type": "code",
      "source": [
        "cars.info()"
      ],
      "metadata": {
        "colab": {
          "base_uri": "https://localhost:8080/"
        },
        "id": "FqCF6Aw-ymUo",
        "outputId": "06f5b6ad-a83a-447a-a547-7a64af0fac83"
      },
      "execution_count": 767,
      "outputs": [
        {
          "output_type": "stream",
          "name": "stdout",
          "text": [
            "<class 'pandas.core.frame.DataFrame'>\n",
            "RangeIndex: 19237 entries, 0 to 19236\n",
            "Data columns (total 18 columns):\n",
            " #   Column            Non-Null Count  Dtype  \n",
            "---  ------            --------------  -----  \n",
            " 0   Price             19237 non-null  int64  \n",
            " 1   Levy              19237 non-null  float64\n",
            " 2   Manufacturer      19237 non-null  object \n",
            " 3   Model             19237 non-null  object \n",
            " 4   Prod. year        19237 non-null  int64  \n",
            " 5   Category          19237 non-null  object \n",
            " 6   Leather interior  19237 non-null  bool   \n",
            " 7   Fuel type         19237 non-null  object \n",
            " 8   Engine volume     19237 non-null  float64\n",
            " 9   Mileage           19237 non-null  int64  \n",
            " 10  Cylinders         19237 non-null  float64\n",
            " 11  Gear box type     19237 non-null  object \n",
            " 12  Drive wheels      19237 non-null  object \n",
            " 13  Doors             19237 non-null  int64  \n",
            " 14  Wheel             19237 non-null  object \n",
            " 15  Color             19237 non-null  object \n",
            " 16  Airbags           19237 non-null  int64  \n",
            " 17  Turbo             19237 non-null  bool   \n",
            "dtypes: bool(2), float64(3), int64(5), object(8)\n",
            "memory usage: 2.4+ MB\n"
          ]
        }
      ]
    },
    {
      "cell_type": "code",
      "source": [
        "cars.nunique()"
      ],
      "metadata": {
        "colab": {
          "base_uri": "https://localhost:8080/"
        },
        "id": "bRdyDS0i1b-s",
        "outputId": "83cba1e0-b259-4e99-babe-5c9fbc2abd7b"
      },
      "execution_count": 768,
      "outputs": [
        {
          "output_type": "execute_result",
          "data": {
            "text/plain": [
              "Price               2315\n",
              "Levy                 558\n",
              "Manufacturer          65\n",
              "Model               1590\n",
              "Prod. year            54\n",
              "Category              11\n",
              "Leather interior       2\n",
              "Fuel type              7\n",
              "Engine volume         65\n",
              "Mileage             7687\n",
              "Cylinders             13\n",
              "Gear box type          4\n",
              "Drive wheels           3\n",
              "Doors                  3\n",
              "Wheel                  2\n",
              "Color                 16\n",
              "Airbags               17\n",
              "Turbo                  2\n",
              "dtype: int64"
            ]
          },
          "metadata": {},
          "execution_count": 768
        }
      ]
    },
    {
      "cell_type": "code",
      "source": [
        "\n",
        "df = pd.DataFrame(cars, columns = [ 'Levy'])  \n",
        "\n",
        "plt.figure(figsize = (5, 20)) \n",
        "  \n",
        "df.boxplot()"
      ],
      "metadata": {
        "colab": {
          "base_uri": "https://localhost:8080/",
          "height": 1000
        },
        "id": "MKorgXCi5B6Z",
        "outputId": "5295f1f4-c531-44d5-bb8a-b4faf76232fb"
      },
      "execution_count": 769,
      "outputs": [
        {
          "output_type": "execute_result",
          "data": {
            "text/plain": [
              "<AxesSubplot:>"
            ]
          },
          "metadata": {},
          "execution_count": 769
        },
        {
          "output_type": "display_data",
          "data": {
            "text/plain": [
              "<Figure size 360x1440 with 1 Axes>"
            ],
            "image/png": "[encoded data removed]"
          },
          "metadata": {
            "needs_background": "light"
          }
        }
      ]
    },
    {
      "cell_type": "code",
      "source": [
        "# Apply the functions to the data\n",
        "cars[['Price', 'Levy', 'Mileage']] = cars[['Price', 'Levy', 'Mileage']].apply(replace_outliers_median)"
      ],
      "metadata": {
        "id": "09UbPbu-yu8U"
      },
      "execution_count": 770,
      "outputs": []
    },
    {
      "cell_type": "code",
      "source": [
        "\n",
        "df = pd.DataFrame(cars, columns = ['Price', 'Levy', 'Mileage'])  \n",
        "\n",
        "plt.figure(figsize = (5, 20)) \n",
        "  \n",
        "df.boxplot()"
      ],
      "metadata": {
        "colab": {
          "base_uri": "https://localhost:8080/",
          "height": 1000
        },
        "id": "hlAIITispu6c",
        "outputId": "6740f3b2-cce0-4685-a640-394a0d9c3e6d"
      },
      "execution_count": 771,
      "outputs": [
        {
          "output_type": "execute_result",
          "data": {
            "text/plain": [
              "<AxesSubplot:>"
            ]
          },
          "metadata": {},
          "execution_count": 771
        },
        {
          "output_type": "display_data",
          "data": {
            "text/plain": [
              "<Figure size 360x1440 with 1 Axes>"
            ],
            "image/png": "[encoded data removed]"
          },
          "metadata": {
            "needs_background": "light"
          }
        }
      ]
    },
    {
      "cell_type": "code",
      "source": [
        "cars[['Price', 'Levy', 'Mileage']] = cars[['Price', 'Levy', 'Mileage']].apply(replace_outliers_median)"
      ],
      "metadata": {
        "id": "JqEwwi-Z3cW3"
      },
      "execution_count": 772,
      "outputs": []
    },
    {
      "cell_type": "code",
      "source": [
        "\n",
        "df = pd.DataFrame(cars, columns = ['Price', 'Levy', 'Mileage'])  \n",
        "\n",
        "plt.figure(figsize = (5, 20)) \n",
        "  \n",
        "df.boxplot()"
      ],
      "metadata": {
        "colab": {
          "base_uri": "https://localhost:8080/",
          "height": 1000
        },
        "id": "hkN44SjS3nMI",
        "outputId": "d9a7eb66-4989-4642-ae19-35a04779ee5f"
      },
      "execution_count": 773,
      "outputs": [
        {
          "output_type": "execute_result",
          "data": {
            "text/plain": [
              "<AxesSubplot:>"
            ]
          },
          "metadata": {},
          "execution_count": 773
        },
        {
          "output_type": "display_data",
          "data": {
            "text/plain": [
              "<Figure size 360x1440 with 1 Axes>"
            ],
            "image/png": "[encoded data removed]"
          },
          "metadata": {
            "needs_background": "light"
          }
        }
      ]
    },
    {
      "cell_type": "code",
      "source": [
        "cars[['Price', 'Levy', 'Mileage']] = cars[['Price', 'Levy', 'Mileage']].apply(replace_outliers_median)"
      ],
      "metadata": {
        "id": "nBMgFyqY3fuP"
      },
      "execution_count": 774,
      "outputs": []
    },
    {
      "cell_type": "code",
      "source": [
        "\n",
        "df = pd.DataFrame(cars, columns = ['Price', 'Levy', 'Mileage'])  \n",
        "\n",
        "plt.figure(figsize = (5, 20)) \n",
        "  \n",
        "df.boxplot()"
      ],
      "metadata": {
        "colab": {
          "base_uri": "https://localhost:8080/",
          "height": 1000
        },
        "id": "GU8LI9qW3ogo",
        "outputId": "3f0888dc-c834-4ce3-9853-8f8fabb3bb9b"
      },
      "execution_count": 775,
      "outputs": [
        {
          "output_type": "execute_result",
          "data": {
            "text/plain": [
              "<AxesSubplot:>"
            ]
          },
          "metadata": {},
          "execution_count": 775
        },
        {
          "output_type": "display_data",
          "data": {
            "text/plain": [
              "<Figure size 360x1440 with 1 Axes>"
            ],
            "image/png": "[encoded data removed]"
          },
          "metadata": {
            "needs_background": "light"
          }
        }
      ]
    },
    {
      "cell_type": "code",
      "source": [
        "cars[['Price', 'Mileage']] = cars[['Price',  'Mileage']].apply(replace_outliers_median)"
      ],
      "metadata": {
        "id": "khQF9OFF3f0R"
      },
      "execution_count": 776,
      "outputs": []
    },
    {
      "cell_type": "code",
      "source": [
        "\n",
        "df = pd.DataFrame(cars, columns = ['Price', 'Levy', 'Mileage'])  \n",
        "\n",
        "plt.figure(figsize = (5, 20)) \n",
        "  \n",
        "df.boxplot()"
      ],
      "metadata": {
        "colab": {
          "base_uri": "https://localhost:8080/",
          "height": 1000
        },
        "id": "SFgL4pqS3iUT",
        "outputId": "8e3d8e9f-46df-4c8b-e34e-07d9a5285229"
      },
      "execution_count": 777,
      "outputs": [
        {
          "output_type": "execute_result",
          "data": {
            "text/plain": [
              "<AxesSubplot:>"
            ]
          },
          "metadata": {},
          "execution_count": 777
        },
        {
          "output_type": "display_data",
          "data": {
            "text/plain": [
              "<Figure size 360x1440 with 1 Axes>"
            ],
            "image/png": "[encoded data removed]"
          },
          "metadata": {
            "needs_background": "light"
          }
        }
      ]
    },
    {
      "cell_type": "code",
      "source": [
        "cars[['Price']] = cars[['Price']].apply(replace_outliers_median)"
      ],
      "metadata": {
        "id": "mooCn9c433Ht"
      },
      "execution_count": 778,
      "outputs": []
    },
    {
      "cell_type": "code",
      "source": [
        "cars[['Price']] = cars[['Price']].apply(replace_outliers_median)"
      ],
      "metadata": {
        "id": "-YwjJ4-R3-U5"
      },
      "execution_count": 779,
      "outputs": []
    },
    {
      "cell_type": "code",
      "source": [
        "\n",
        "df = pd.DataFrame(cars, columns = ['Price', 'Levy', 'Mileage'])  \n",
        "\n",
        "plt.figure(figsize = (5, 20)) \n",
        "  \n",
        "df.boxplot()"
      ],
      "metadata": {
        "colab": {
          "base_uri": "https://localhost:8080/",
          "height": 1000
        },
        "id": "mm0Sw5Jx4A85",
        "outputId": "10b4b013-aba9-4831-9ac1-49d33054a808"
      },
      "execution_count": 780,
      "outputs": [
        {
          "output_type": "execute_result",
          "data": {
            "text/plain": [
              "<AxesSubplot:>"
            ]
          },
          "metadata": {},
          "execution_count": 780
        },
        {
          "output_type": "display_data",
          "data": {
            "text/plain": [
              "<Figure size 360x1440 with 1 Axes>"
            ],
            "image/png": "[encoded data removed]"
          },
          "metadata": {
            "needs_background": "light"
          }
        }
      ]
    },
    {
      "cell_type": "code",
      "source": [
        "cars.shape"
      ],
      "metadata": {
        "colab": {
          "base_uri": "https://localhost:8080/"
        },
        "id": "-we_YPaHy8aa",
        "outputId": "888c4414-7a87-435d-c739-4af1e5e3e0e0"
      },
      "execution_count": 781,
      "outputs": [
        {
          "output_type": "execute_result",
          "data": {
            "text/plain": [
              "(19237, 18)"
            ]
          },
          "metadata": {},
          "execution_count": 781
        }
      ]
    },
    {
      "cell_type": "code",
      "source": [
        "cars.nunique()"
      ],
      "metadata": {
        "colab": {
          "base_uri": "https://localhost:8080/"
        },
        "id": "j4Tzbckt5RC2",
        "outputId": "2e6c5c30-4630-4a3f-ec2a-91c1fc7ce55c"
      },
      "execution_count": 782,
      "outputs": [
        {
          "output_type": "execute_result",
          "data": {
            "text/plain": [
              "Price               1513\n",
              "Levy                   1\n",
              "Manufacturer          65\n",
              "Model               1590\n",
              "Prod. year            54\n",
              "Category              11\n",
              "Leather interior       2\n",
              "Fuel type              7\n",
              "Engine volume         65\n",
              "Mileage             7220\n",
              "Cylinders             13\n",
              "Gear box type          4\n",
              "Drive wheels           3\n",
              "Doors                  3\n",
              "Wheel                  2\n",
              "Color                 16\n",
              "Airbags               17\n",
              "Turbo                  2\n",
              "dtype: int64"
            ]
          },
          "metadata": {},
          "execution_count": 782
        }
      ]
    },
    {
      "cell_type": "code",
      "source": [
        "def PlotBarCharts(inpData, colsToPlot):\n",
        "    %matplotlib inline\n",
        "    \n",
        "    import matplotlib.pyplot as plt\n",
        "    \n",
        "    # Generating multiple subplots\n",
        "    fig, subPlot=plt.subplots(nrows=1, ncols=len(colsToPlot), figsize=(20,5))\n",
        "    fig.suptitle('Bar charts of: '+ str(colsToPlot))\n",
        "\n",
        "    for colName, plotNumber in zip(colsToPlot, range(len(colsToPlot))):\n",
        "        inpData.groupby(colName).size().plot(kind='bar',ax=subPlot[plotNumber])"
      ],
      "metadata": {
        "id": "DwhD_nB7FHJ8"
      },
      "execution_count": 783,
      "outputs": []
    },
    {
      "cell_type": "code",
      "source": [
        "cars.columns"
      ],
      "metadata": {
        "colab": {
          "base_uri": "https://localhost:8080/"
        },
        "id": "6RYIpxFCFUV3",
        "outputId": "4884e888-1799-4db8-c9a2-b05c2031bb6b"
      },
      "execution_count": 784,
      "outputs": [
        {
          "output_type": "execute_result",
          "data": {
            "text/plain": [
              "Index(['Price', 'Levy', 'Manufacturer', 'Model', 'Prod. year', 'Category',\n",
              "       'Leather interior', 'Fuel type', 'Engine volume', 'Mileage',\n",
              "       'Cylinders', 'Gear box type', 'Drive wheels', 'Doors', 'Wheel', 'Color',\n",
              "       'Airbags', 'Turbo'],\n",
              "      dtype='object')"
            ]
          },
          "metadata": {},
          "execution_count": 784
        }
      ]
    },
    {
      "cell_type": "code",
      "source": [
        "PlotBarCharts(inpData=cars, colsToPlot=['Manufacturer','Category','Leather interior'])"
      ],
      "metadata": {
        "colab": {
          "base_uri": "https://localhost:8080/",
          "height": 445
        },
        "id": "7s9D3XpZFIpV",
        "outputId": "a9c9a981-822f-4914-ef80-a36553c6497d"
      },
      "execution_count": 785,
      "outputs": [
        {
          "output_type": "display_data",
          "data": {
            "text/plain": [
              "<Figure size 1440x360 with 3 Axes>"
            ],
            "image/png": "[encoded data removed]"
          },
          "metadata": {
            "needs_background": "light"
          }
        }
      ]
    },
    {
      "cell_type": "code",
      "source": [
        "PlotBarCharts(inpData=cars, colsToPlot=['Fuel type',  'Gear box type', 'Drive wheels', 'Doors', 'Wheel', 'Turbo'])"
      ],
      "metadata": {
        "colab": {
          "base_uri": "https://localhost:8080/",
          "height": 443
        },
        "id": "kvgv50moF-Tp",
        "outputId": "5f35c14b-8a19-4e8c-d630-a47500effc5c"
      },
      "execution_count": 786,
      "outputs": [
        {
          "output_type": "display_data",
          "data": {
            "text/plain": [
              "<Figure size 1440x360 with 6 Axes>"
            ],
            "image/png": "[encoded data removed]"
          },
          "metadata": {
            "needs_background": "light"
          }
        }
      ]
    },
    {
      "cell_type": "code",
      "source": [
        "PlotBarCharts(inpData=cars, colsToPlot=['Cylinders', 'Color', 'Airbags'])"
      ],
      "metadata": {
        "colab": {
          "base_uri": "https://localhost:8080/",
          "height": 427
        },
        "id": "UvC0AsddFIxd",
        "outputId": "4990d58b-65aa-4b1c-ccf5-def64c5735db"
      },
      "execution_count": 787,
      "outputs": [
        {
          "output_type": "display_data",
          "data": {
            "text/plain": [
              "<Figure size 1440x360 with 3 Axes>"
            ],
            "image/png": "[encoded data removed]"
          },
          "metadata": {
            "needs_background": "light"
          }
        }
      ]
    },
    {
      "cell_type": "code",
      "source": [
        "deleted_df = cars"
      ],
      "metadata": {
        "id": "uSnelPAh4FS4"
      },
      "execution_count": 788,
      "outputs": []
    },
    {
      "cell_type": "code",
      "source": [
        "top10_cars = deleted_df['Manufacturer'].value_counts().sort_values(ascending = False)[:10]\n",
        "top10_mean_prices = [deleted_df[deleted_df['Manufacturer'] == i]['Price'].mean() for i in list(top10_cars.index)]\n",
        "\n",
        "fig = plt.figure(figsize=(14,6))\n",
        "ax = fig.add_subplot(121)\n",
        "sns.barplot(top10_cars.index, top10_cars.values, palette='hot')\n",
        "plt.xticks(rotation = 90)\n",
        "plt.ylabel('# Cars')\n",
        "plt.title('Top10 The Most Frequent Cars')\n",
        "\n",
        "ax2 = fig.add_subplot(122)\n",
        "sns.lineplot(top10_cars.index, top10_mean_prices, color='r')\n",
        "plt.xticks(rotation = 90)\n",
        "plt.ylabel('Mean Prices')\n",
        "plt.title(\"Top10 Cars' Mean Prices\")\n",
        "plt.show()"
      ],
      "metadata": {
        "colab": {
          "base_uri": "https://localhost:8080/",
          "height": 465
        },
        "id": "hFGfeGd1y_gO",
        "outputId": "805ce1d0-b450-475a-da08-dcf224e1e5b2"
      },
      "execution_count": 789,
      "outputs": [
        {
          "output_type": "display_data",
          "data": {
            "text/plain": [
              "<Figure size 1008x432 with 2 Axes>"
            ],
            "image/png": "[encoded data removed]"
          },
          "metadata": {
            "needs_background": "light"
          }
        }
      ]
    },
    {
      "cell_type": "code",
      "source": [
        "%matplotlib inline\n",
        "\n",
        "deleted_df.hist(bins=25, figsize=(20,15))\n",
        "plt.show()"
      ],
      "metadata": {
        "colab": {
          "base_uri": "https://localhost:8080/",
          "height": 879
        },
        "id": "EQHGjQU01Gzf",
        "outputId": "1417227f-b51f-470c-dca6-bef6362a556b"
      },
      "execution_count": 790,
      "outputs": [
        {
          "output_type": "display_data",
          "data": {
            "text/plain": [
              "<Figure size 1440x1080 with 9 Axes>"
            ],
            "image/png": "[encoded data removed]"
          },
          "metadata": {
            "needs_background": "light"
          }
        }
      ]
    },
    {
      "cell_type": "code",
      "source": [
        "from pandas.plotting import scatter_matrix\n",
        "attributes = ['Price','Levy','Engine volume','Prod. year','Mileage']\n",
        "scatter_matrix(deleted_df[attributes], figsize=(12,8))\n",
        "plt.show()"
      ],
      "metadata": {
        "colab": {
          "base_uri": "https://localhost:8080/",
          "height": 517
        },
        "id": "1jiA1HfO1KE7",
        "outputId": "cf7b90e2-0442-4341-deb5-dfda9ec20fdb"
      },
      "execution_count": 791,
      "outputs": [
        {
          "output_type": "display_data",
          "data": {
            "text/plain": [
              "<Figure size 864x576 with 25 Axes>"
            ],
            "image/png": "[encoded data removed]"
          },
          "metadata": {
            "needs_background": "light"
          }
        }
      ]
    },
    {
      "cell_type": "code",
      "source": [
        "plt.figure(figsize=(8,6))\n",
        "sns.heatmap(deleted_df.corr(),annot=True, cbar = True)\n",
        "plt.title('Correlation Matrix')\n",
        "plt.show()"
      ],
      "metadata": {
        "id": "IIR9nZjJ1XAW",
        "colab": {
          "base_uri": "https://localhost:8080/",
          "height": 458
        },
        "outputId": "5e3f62fd-220e-4078-8c54-c85bfac968e8"
      },
      "execution_count": 792,
      "outputs": [
        {
          "output_type": "display_data",
          "data": {
            "text/plain": [
              "<Figure size 576x432 with 2 Axes>"
            ],
            "image/png": "[encoded data removed]"
          },
          "metadata": {
            "needs_background": "light"
          }
        }
      ]
    },
    {
      "cell_type": "code",
      "source": [
        "deleted_df.columns"
      ],
      "metadata": {
        "colab": {
          "base_uri": "https://localhost:8080/"
        },
        "id": "i5VFVcG37KSg",
        "outputId": "91bef1fd-0eb1-4878-8ca8-9f7b2cc49050"
      },
      "execution_count": 793,
      "outputs": [
        {
          "output_type": "execute_result",
          "data": {
            "text/plain": [
              "Index(['Price', 'Levy', 'Manufacturer', 'Model', 'Prod. year', 'Category',\n",
              "       'Leather interior', 'Fuel type', 'Engine volume', 'Mileage',\n",
              "       'Cylinders', 'Gear box type', 'Drive wheels', 'Doors', 'Wheel', 'Color',\n",
              "       'Airbags', 'Turbo'],\n",
              "      dtype='object')"
            ]
          },
          "metadata": {},
          "execution_count": 793
        }
      ]
    },
    {
      "cell_type": "code",
      "source": [
        "df5 = pd.DataFrame(deleted_df, columns= ['Levy', 'Manufacturer', 'Model', 'Prod. year', 'Category',\n",
        "       'Leather interior', 'Fuel type','Cylinders', 'Gear box type', 'Drive wheels', 'Doors', 'Wheel', 'Color',\n",
        "       'Airbags', 'Turbo'])"
      ],
      "metadata": {
        "id": "tfAD0A0iAOGX"
      },
      "execution_count": 794,
      "outputs": []
    },
    {
      "cell_type": "code",
      "source": [
        "df4 = pd.DataFrame(deleted_df, columns= ['Price','Engine volume','Mileage'])"
      ],
      "metadata": {
        "id": "ynucZFI17GSr"
      },
      "execution_count": 795,
      "outputs": []
    },
    {
      "cell_type": "code",
      "source": [
        "\n",
        "from sklearn.preprocessing import RobustScaler\n",
        "transformer = RobustScaler().fit(df4)\n",
        "res = transformer.transform(df4)"
      ],
      "metadata": {
        "id": "y9XNldwk7GVZ"
      },
      "execution_count": 796,
      "outputs": []
    },
    {
      "cell_type": "code",
      "source": [
        "df4 = pd.DataFrame(res, columns =['Price','Engine volume','Mileage'])"
      ],
      "metadata": {
        "id": "y0VtVHj77GYR"
      },
      "execution_count": 797,
      "outputs": []
    },
    {
      "cell_type": "code",
      "source": [
        "df4"
      ],
      "metadata": {
        "colab": {
          "base_uri": "https://localhost:8080/",
          "height": 423
        },
        "id": "RjMwhqRU7GbS",
        "outputId": "20aa03e2-b884-43d8-b469-b3f109d5fe2a"
      },
      "execution_count": 798,
      "outputs": [
        {
          "output_type": "execute_result",
          "data": {
            "text/plain": [
              "          Price  Engine volume   Mileage\n",
              "0      0.013089       2.142857  0.572234\n",
              "1      0.289394       1.428571  0.629405\n",
              "2     -0.394781      -1.000000  0.705696\n",
              "3     -0.802568       0.714286  0.409742\n",
              "4     -0.121329      -1.000000 -0.325183\n",
              "...         ...            ...       ...\n",
              "19232 -0.394781       0.000000  1.659340\n",
              "19233  0.210522       0.571429  0.339497\n",
              "19234  1.085417       0.000000 -0.091884\n",
              "19235 -0.657912       0.000000 -0.712772\n",
              "19236 -1.065783       0.571429  0.580988\n",
              "\n",
              "[19237 rows x 3 columns]"
            ],
            "text/html": [
              "\n",
              "  <div id=\"df-213bc99e-cdac-4372-aee1-262f08d0cb4c\">\n",
              "    <div class=\"colab-df-container\">\n",
              "      <div>\n",
              "<style scoped>\n",
              "    .dataframe tbody tr th:only-of-type {\n",
              "        vertical-align: middle;\n",
              "    }\n",
              "\n",
              "    .dataframe tbody tr th {\n",
              "        vertical-align: top;\n",
              "    }\n",
              "\n",
              "    .dataframe thead th {\n",
              "        text-align: right;\n",
              "    }\n",
              "</style>\n",
              "<table border=\"1\" class=\"dataframe\">\n",
              "  <thead>\n",
              "    <tr style=\"text-align: right;\">\n",
              "      <th></th>\n",
              "      <th>Price</th>\n",
              "      <th>Engine volume</th>\n",
              "      <th>Mileage</th>\n",
              "    </tr>\n",
              "  </thead>\n",
              "  <tbody>\n",
              "    <tr>\n",
              "      <th>0</th>\n",
              "      <td>0.013089</td>\n",
              "      <td>2.142857</td>\n",
              "      <td>0.572234</td>\n",
              "    </tr>\n",
              "    <tr>\n",
              "      <th>1</th>\n",
              "      <td>0.289394</td>\n",
              "      <td>1.428571</td>\n",
              "      <td>0.629405</td>\n",
              "    </tr>\n",
              "    <tr>\n",
              "      <th>2</th>\n",
              "      <td>-0.394781</td>\n",
              "      <td>-1.000000</td>\n",
              "      <td>0.705696</td>\n",
              "    </tr>\n",
              "    <tr>\n",
              "      <th>3</th>\n",
              "      <td>-0.802568</td>\n",
              "      <td>0.714286</td>\n",
              "      <td>0.409742</td>\n",
              "    </tr>\n",
              "    <tr>\n",
              "      <th>4</th>\n",
              "      <td>-0.121329</td>\n",
              "      <td>-1.000000</td>\n",
              "      <td>-0.325183</td>\n",
              "    </tr>\n",
              "    <tr>\n",
              "      <th>...</th>\n",
              "      <td>...</td>\n",
              "      <td>...</td>\n",
              "      <td>...</td>\n",
              "    </tr>\n",
              "    <tr>\n",
              "      <th>19232</th>\n",
              "      <td>-0.394781</td>\n",
              "      <td>0.000000</td>\n",
              "      <td>1.659340</td>\n",
              "    </tr>\n",
              "    <tr>\n",
              "      <th>19233</th>\n",
              "      <td>0.210522</td>\n",
              "      <td>0.571429</td>\n",
              "      <td>0.339497</td>\n",
              "    </tr>\n",
              "    <tr>\n",
              "      <th>19234</th>\n",
              "      <td>1.085417</td>\n",
              "      <td>0.000000</td>\n",
              "      <td>-0.091884</td>\n",
              "    </tr>\n",
              "    <tr>\n",
              "      <th>19235</th>\n",
              "      <td>-0.657912</td>\n",
              "      <td>0.000000</td>\n",
              "      <td>-0.712772</td>\n",
              "    </tr>\n",
              "    <tr>\n",
              "      <th>19236</th>\n",
              "      <td>-1.065783</td>\n",
              "      <td>0.571429</td>\n",
              "      <td>0.580988</td>\n",
              "    </tr>\n",
              "  </tbody>\n",
              "</table>\n",
              "<p>19237 rows × 3 columns</p>\n",
              "</div>\n",
              "      <button class=\"colab-df-convert\" onclick=\"convertToInteractive('df-213bc99e-cdac-4372-aee1-262f08d0cb4c')\"\n",
              "              title=\"Convert this dataframe to an interactive table.\"\n",
              "              style=\"display:none;\">\n",
              "        \n",
              "  <svg xmlns=\"http://www.w3.org/2000/svg\" height=\"24px\"viewBox=\"0 0 24 24\"\n",
              "       width=\"24px\">\n",
              "    <path d=\"M0 0h24v24H0V0z\" fill=\"none\"/>\n",
              "    <path d=\"M18.56 5.44l.94 2.06.94-2.06 2.06-.94-2.06-.94-.94-2.06-.94 2.06-2.06.94zm-11 1L8.5 8.5l.94-2.06 2.06-.94-2.06-.94L8.5 2.5l-.94 2.06-2.06.94zm10 10l.94 2.06.94-2.06 2.06-.94-2.06-.94-.94-2.06-.94 2.06-2.06.94z\"/><path d=\"M17.41 7.96l-1.37-1.37c-.4-.4-.92-.59-1.43-.59-.52 0-1.04.2-1.43.59L10.3 9.45l-7.72 7.72c-.78.78-.78 2.05 0 2.83L4 21.41c.39.39.9.59 1.41.59.51 0 1.02-.2 1.41-.59l7.78-7.78 2.81-2.81c.8-.78.8-2.07 0-2.86zM5.41 20L4 18.59l7.72-7.72 1.47 1.35L5.41 20z\"/>\n",
              "  </svg>\n",
              "      </button>\n",
              "      \n",
              "  <style>\n",
              "    .colab-df-container {\n",
              "      display:flex;\n",
              "      flex-wrap:wrap;\n",
              "      gap: 12px;\n",
              "    }\n",
              "\n",
              "    .colab-df-convert {\n",
              "      background-color: #E8F0FE;\n",
              "      border: none;\n",
              "      border-radius: 50%;\n",
              "      cursor: pointer;\n",
              "      display: none;\n",
              "      fill: #1967D2;\n",
              "      height: 32px;\n",
              "      padding: 0 0 0 0;\n",
              "      width: 32px;\n",
              "    }\n",
              "\n",
              "    .colab-df-convert:hover {\n",
              "      background-color: #E2EBFA;\n",
              "      box-shadow: 0px 1px 2px rgba(60, 64, 67, 0.3), 0px 1px 3px 1px rgba(60, 64, 67, 0.15);\n",
              "      fill: #174EA6;\n",
              "    }\n",
              "\n",
              "    [theme=dark] .colab-df-convert {\n",
              "      background-color: #3B4455;\n",
              "      fill: #D2E3FC;\n",
              "    }\n",
              "\n",
              "    [theme=dark] .colab-df-convert:hover {\n",
              "      background-color: #434B5C;\n",
              "      box-shadow: 0px 1px 3px 1px rgba(0, 0, 0, 0.15);\n",
              "      filter: drop-shadow(0px 1px 2px rgba(0, 0, 0, 0.3));\n",
              "      fill: #FFFFFF;\n",
              "    }\n",
              "  </style>\n",
              "\n",
              "      <script>\n",
              "        const buttonEl =\n",
              "          document.querySelector('#df-213bc99e-cdac-4372-aee1-262f08d0cb4c button.colab-df-convert');\n",
              "        buttonEl.style.display =\n",
              "          google.colab.kernel.accessAllowed ? 'block' : 'none';\n",
              "\n",
              "        async function convertToInteractive(key) {\n",
              "          const element = document.querySelector('#df-213bc99e-cdac-4372-aee1-262f08d0cb4c');\n",
              "          const dataTable =\n",
              "            await google.colab.kernel.invokeFunction('convertToInteractive',\n",
              "                                                     [key], {});\n",
              "          if (!dataTable) return;\n",
              "\n",
              "          const docLinkHtml = 'Like what you see? Visit the ' +\n",
              "            '<a target=\"_blank\" href=https://colab.research.google.com/notebooks/data_table.ipynb>data table notebook</a>'\n",
              "            + ' to learn more about interactive tables.';\n",
              "          element.innerHTML = '';\n",
              "          dataTable['output_type'] = 'display_data';\n",
              "          await google.colab.output.renderOutput(dataTable, element);\n",
              "          const docLink = document.createElement('div');\n",
              "          docLink.innerHTML = docLinkHtml;\n",
              "          element.appendChild(docLink);\n",
              "        }\n",
              "      </script>\n",
              "    </div>\n",
              "  </div>\n",
              "  "
            ]
          },
          "metadata": {},
          "execution_count": 798
        }
      ]
    },
    {
      "cell_type": "code",
      "source": [
        "deleted_df = pd.concat([df4.reset_index(drop=True), df5.reset_index(drop=True)], axis=1)"
      ],
      "metadata": {
        "id": "61CTu9ch7Geq"
      },
      "execution_count": 799,
      "outputs": []
    },
    {
      "cell_type": "code",
      "source": [
        "deleted_df"
      ],
      "metadata": {
        "colab": {
          "base_uri": "https://localhost:8080/",
          "height": 676
        },
        "id": "PpSZH6Jz_81M",
        "outputId": "4bdc05b5-2bfe-4193-9bbd-5ac4d9b7b276"
      },
      "execution_count": 800,
      "outputs": [
        {
          "output_type": "execute_result",
          "data": {
            "text/plain": [
              "          Price  Engine volume   Mileage   Levy   Manufacturer    Model  \\\n",
              "0      0.013089       2.142857  0.572234  781.0          LEXUS   RX 450   \n",
              "1      0.289394       1.428571  0.629405  781.0      CHEVROLET  Equinox   \n",
              "2     -0.394781      -1.000000  0.705696  781.0          HONDA      FIT   \n",
              "3     -0.802568       0.714286  0.409742  781.0           FORD   Escape   \n",
              "4     -0.121329      -1.000000 -0.325183  781.0          HONDA      FIT   \n",
              "...         ...            ...       ...    ...            ...      ...   \n",
              "19232 -0.394781       0.000000  1.659340  781.0  MERCEDES-BENZ  CLK 200   \n",
              "19233  0.210522       0.571429  0.339497  781.0        HYUNDAI   Sonata   \n",
              "19234  1.085417       0.000000 -0.091884  781.0        HYUNDAI   Tucson   \n",
              "19235 -0.657912       0.000000 -0.712772  781.0      CHEVROLET  Captiva   \n",
              "19236 -1.065783       0.571429  0.580988  781.0        HYUNDAI   Sonata   \n",
              "\n",
              "       Prod. year   Category  Leather interior Fuel type  Cylinders  \\\n",
              "0            2010       Jeep              True    Hybrid        6.0   \n",
              "1            2011       Jeep             False    Petrol        6.0   \n",
              "2            2006  Hatchback             False    Petrol        4.0   \n",
              "3            2011       Jeep              True    Hybrid        4.0   \n",
              "4            2014  Hatchback              True    Petrol        4.0   \n",
              "...           ...        ...               ...       ...        ...   \n",
              "19232        1999      Coupe              True       CNG        4.0   \n",
              "19233        2011      Sedan              True    Petrol        4.0   \n",
              "19234        2010       Jeep              True    Diesel        4.0   \n",
              "19235        2007       Jeep              True    Diesel        4.0   \n",
              "19236        2012      Sedan              True    Hybrid        4.0   \n",
              "\n",
              "      Gear box type Drive wheels  Doors             Wheel   Color  Airbags  \\\n",
              "0         Automatic          4x4      4        Left wheel  Silver       12   \n",
              "1         Tiptronic          4x4      4        Left wheel   Black        8   \n",
              "2          Variator        Front      4  Right-hand drive   Black        2   \n",
              "3         Automatic          4x4      4        Left wheel   White        0   \n",
              "4         Automatic        Front      4        Left wheel  Silver        4   \n",
              "...             ...          ...    ...               ...     ...      ...   \n",
              "19232        Manual         Rear      2        Left wheel  Silver        5   \n",
              "19233     Tiptronic        Front      4        Left wheel     Red        8   \n",
              "19234     Automatic        Front      4        Left wheel    Grey        4   \n",
              "19235     Automatic        Front      4        Left wheel   Black        4   \n",
              "19236     Automatic        Front      4        Left wheel   White       12   \n",
              "\n",
              "       Turbo  \n",
              "0      False  \n",
              "1      False  \n",
              "2      False  \n",
              "3      False  \n",
              "4      False  \n",
              "...      ...  \n",
              "19232   True  \n",
              "19233  False  \n",
              "19234  False  \n",
              "19235  False  \n",
              "19236  False  \n",
              "\n",
              "[19237 rows x 18 columns]"
            ],
            "text/html": [
              "\n",
              "  <div id=\"df-002c7d16-fb50-440f-81b9-66d261b47960\">\n",
              "    <div class=\"colab-df-container\">\n",
              "      <div>\n",
              "<style scoped>\n",
              "    .dataframe tbody tr th:only-of-type {\n",
              "        vertical-align: middle;\n",
              "    }\n",
              "\n",
              "    .dataframe tbody tr th {\n",
              "        vertical-align: top;\n",
              "    }\n",
              "\n",
              "    .dataframe thead th {\n",
              "        text-align: right;\n",
              "    }\n",
              "</style>\n",
              "<table border=\"1\" class=\"dataframe\">\n",
              "  <thead>\n",
              "    <tr style=\"text-align: right;\">\n",
              "      <th></th>\n",
              "      <th>Price</th>\n",
              "      <th>Engine volume</th>\n",
              "      <th>Mileage</th>\n",
              "      <th>Levy</th>\n",
              "      <th>Manufacturer</th>\n",
              "      <th>Model</th>\n",
              "      <th>Prod. year</th>\n",
              "      <th>Category</th>\n",
              "      <th>Leather interior</th>\n",
              "      <th>Fuel type</th>\n",
              "      <th>Cylinders</th>\n",
              "      <th>Gear box type</th>\n",
              "      <th>Drive wheels</th>\n",
              "      <th>Doors</th>\n",
              "      <th>Wheel</th>\n",
              "      <th>Color</th>\n",
              "      <th>Airbags</th>\n",
              "      <th>Turbo</th>\n",
              "    </tr>\n",
              "  </thead>\n",
              "  <tbody>\n",
              "    <tr>\n",
              "      <th>0</th>\n",
              "      <td>0.013089</td>\n",
              "      <td>2.142857</td>\n",
              "      <td>0.572234</td>\n",
              "      <td>781.0</td>\n",
              "      <td>LEXUS</td>\n",
              "      <td>RX 450</td>\n",
              "      <td>2010</td>\n",
              "      <td>Jeep</td>\n",
              "      <td>True</td>\n",
              "      <td>Hybrid</td>\n",
              "      <td>6.0</td>\n",
              "      <td>Automatic</td>\n",
              "      <td>4x4</td>\n",
              "      <td>4</td>\n",
              "      <td>Left wheel</td>\n",
              "      <td>Silver</td>\n",
              "      <td>12</td>\n",
              "      <td>False</td>\n",
              "    </tr>\n",
              "    <tr>\n",
              "      <th>1</th>\n",
              "      <td>0.289394</td>\n",
              "      <td>1.428571</td>\n",
              "      <td>0.629405</td>\n",
              "      <td>781.0</td>\n",
              "      <td>CHEVROLET</td>\n",
              "      <td>Equinox</td>\n",
              "      <td>2011</td>\n",
              "      <td>Jeep</td>\n",
              "      <td>False</td>\n",
              "      <td>Petrol</td>\n",
              "      <td>6.0</td>\n",
              "      <td>Tiptronic</td>\n",
              "      <td>4x4</td>\n",
              "      <td>4</td>\n",
              "      <td>Left wheel</td>\n",
              "      <td>Black</td>\n",
              "      <td>8</td>\n",
              "      <td>False</td>\n",
              "    </tr>\n",
              "    <tr>\n",
              "      <th>2</th>\n",
              "      <td>-0.394781</td>\n",
              "      <td>-1.000000</td>\n",
              "      <td>0.705696</td>\n",
              "      <td>781.0</td>\n",
              "      <td>HONDA</td>\n",
              "      <td>FIT</td>\n",
              "      <td>2006</td>\n",
              "      <td>Hatchback</td>\n",
              "      <td>False</td>\n",
              "      <td>Petrol</td>\n",
              "      <td>4.0</td>\n",
              "      <td>Variator</td>\n",
              "      <td>Front</td>\n",
              "      <td>4</td>\n",
              "      <td>Right-hand drive</td>\n",
              "      <td>Black</td>\n",
              "      <td>2</td>\n",
              "      <td>False</td>\n",
              "    </tr>\n",
              "    <tr>\n",
              "      <th>3</th>\n",
              "      <td>-0.802568</td>\n",
              "      <td>0.714286</td>\n",
              "      <td>0.409742</td>\n",
              "      <td>781.0</td>\n",
              "      <td>FORD</td>\n",
              "      <td>Escape</td>\n",
              "      <td>2011</td>\n",
              "      <td>Jeep</td>\n",
              "      <td>True</td>\n",
              "      <td>Hybrid</td>\n",
              "      <td>4.0</td>\n",
              "      <td>Automatic</td>\n",
              "      <td>4x4</td>\n",
              "      <td>4</td>\n",
              "      <td>Left wheel</td>\n",
              "      <td>White</td>\n",
              "      <td>0</td>\n",
              "      <td>False</td>\n",
              "    </tr>\n",
              "    <tr>\n",
              "      <th>4</th>\n",
              "      <td>-0.121329</td>\n",
              "      <td>-1.000000</td>\n",
              "      <td>-0.325183</td>\n",
              "      <td>781.0</td>\n",
              "      <td>HONDA</td>\n",
              "      <td>FIT</td>\n",
              "      <td>2014</td>\n",
              "      <td>Hatchback</td>\n",
              "      <td>True</td>\n",
              "      <td>Petrol</td>\n",
              "      <td>4.0</td>\n",
              "      <td>Automatic</td>\n",
              "      <td>Front</td>\n",
              "      <td>4</td>\n",
              "      <td>Left wheel</td>\n",
              "      <td>Silver</td>\n",
              "      <td>4</td>\n",
              "      <td>False</td>\n",
              "    </tr>\n",
              "    <tr>\n",
              "      <th>...</th>\n",
              "      <td>...</td>\n",
              "      <td>...</td>\n",
              "      <td>...</td>\n",
              "      <td>...</td>\n",
              "      <td>...</td>\n",
              "      <td>...</td>\n",
              "      <td>...</td>\n",
              "      <td>...</td>\n",
              "      <td>...</td>\n",
              "      <td>...</td>\n",
              "      <td>...</td>\n",
              "      <td>...</td>\n",
              "      <td>...</td>\n",
              "      <td>...</td>\n",
              "      <td>...</td>\n",
              "      <td>...</td>\n",
              "      <td>...</td>\n",
              "      <td>...</td>\n",
              "    </tr>\n",
              "    <tr>\n",
              "      <th>19232</th>\n",
              "      <td>-0.394781</td>\n",
              "      <td>0.000000</td>\n",
              "      <td>1.659340</td>\n",
              "      <td>781.0</td>\n",
              "      <td>MERCEDES-BENZ</td>\n",
              "      <td>CLK 200</td>\n",
              "      <td>1999</td>\n",
              "      <td>Coupe</td>\n",
              "      <td>True</td>\n",
              "      <td>CNG</td>\n",
              "      <td>4.0</td>\n",
              "      <td>Manual</td>\n",
              "      <td>Rear</td>\n",
              "      <td>2</td>\n",
              "      <td>Left wheel</td>\n",
              "      <td>Silver</td>\n",
              "      <td>5</td>\n",
              "      <td>True</td>\n",
              "    </tr>\n",
              "    <tr>\n",
              "      <th>19233</th>\n",
              "      <td>0.210522</td>\n",
              "      <td>0.571429</td>\n",
              "      <td>0.339497</td>\n",
              "      <td>781.0</td>\n",
              "      <td>HYUNDAI</td>\n",
              "      <td>Sonata</td>\n",
              "      <td>2011</td>\n",
              "      <td>Sedan</td>\n",
              "      <td>True</td>\n",
              "      <td>Petrol</td>\n",
              "      <td>4.0</td>\n",
              "      <td>Tiptronic</td>\n",
              "      <td>Front</td>\n",
              "      <td>4</td>\n",
              "      <td>Left wheel</td>\n",
              "      <td>Red</td>\n",
              "      <td>8</td>\n",
              "      <td>False</td>\n",
              "    </tr>\n",
              "    <tr>\n",
              "      <th>19234</th>\n",
              "      <td>1.085417</td>\n",
              "      <td>0.000000</td>\n",
              "      <td>-0.091884</td>\n",
              "      <td>781.0</td>\n",
              "      <td>HYUNDAI</td>\n",
              "      <td>Tucson</td>\n",
              "      <td>2010</td>\n",
              "      <td>Jeep</td>\n",
              "      <td>True</td>\n",
              "      <td>Diesel</td>\n",
              "      <td>4.0</td>\n",
              "      <td>Automatic</td>\n",
              "      <td>Front</td>\n",
              "      <td>4</td>\n",
              "      <td>Left wheel</td>\n",
              "      <td>Grey</td>\n",
              "      <td>4</td>\n",
              "      <td>False</td>\n",
              "    </tr>\n",
              "    <tr>\n",
              "      <th>19235</th>\n",
              "      <td>-0.657912</td>\n",
              "      <td>0.000000</td>\n",
              "      <td>-0.712772</td>\n",
              "      <td>781.0</td>\n",
              "      <td>CHEVROLET</td>\n",
              "      <td>Captiva</td>\n",
              "      <td>2007</td>\n",
              "      <td>Jeep</td>\n",
              "      <td>True</td>\n",
              "      <td>Diesel</td>\n",
              "      <td>4.0</td>\n",
              "      <td>Automatic</td>\n",
              "      <td>Front</td>\n",
              "      <td>4</td>\n",
              "      <td>Left wheel</td>\n",
              "      <td>Black</td>\n",
              "      <td>4</td>\n",
              "      <td>False</td>\n",
              "    </tr>\n",
              "    <tr>\n",
              "      <th>19236</th>\n",
              "      <td>-1.065783</td>\n",
              "      <td>0.571429</td>\n",
              "      <td>0.580988</td>\n",
              "      <td>781.0</td>\n",
              "      <td>HYUNDAI</td>\n",
              "      <td>Sonata</td>\n",
              "      <td>2012</td>\n",
              "      <td>Sedan</td>\n",
              "      <td>True</td>\n",
              "      <td>Hybrid</td>\n",
              "      <td>4.0</td>\n",
              "      <td>Automatic</td>\n",
              "      <td>Front</td>\n",
              "      <td>4</td>\n",
              "      <td>Left wheel</td>\n",
              "      <td>White</td>\n",
              "      <td>12</td>\n",
              "      <td>False</td>\n",
              "    </tr>\n",
              "  </tbody>\n",
              "</table>\n",
              "<p>19237 rows × 18 columns</p>\n",
              "</div>\n",
              "      <button class=\"colab-df-convert\" onclick=\"convertToInteractive('df-002c7d16-fb50-440f-81b9-66d261b47960')\"\n",
              "              title=\"Convert this dataframe to an interactive table.\"\n",
              "              style=\"display:none;\">\n",
              "        \n",
              "  <svg xmlns=\"http://www.w3.org/2000/svg\" height=\"24px\"viewBox=\"0 0 24 24\"\n",
              "       width=\"24px\">\n",
              "    <path d=\"M0 0h24v24H0V0z\" fill=\"none\"/>\n",
              "    <path d=\"M18.56 5.44l.94 2.06.94-2.06 2.06-.94-2.06-.94-.94-2.06-.94 2.06-2.06.94zm-11 1L8.5 8.5l.94-2.06 2.06-.94-2.06-.94L8.5 2.5l-.94 2.06-2.06.94zm10 10l.94 2.06.94-2.06 2.06-.94-2.06-.94-.94-2.06-.94 2.06-2.06.94z\"/><path d=\"M17.41 7.96l-1.37-1.37c-.4-.4-.92-.59-1.43-.59-.52 0-1.04.2-1.43.59L10.3 9.45l-7.72 7.72c-.78.78-.78 2.05 0 2.83L4 21.41c.39.39.9.59 1.41.59.51 0 1.02-.2 1.41-.59l7.78-7.78 2.81-2.81c.8-.78.8-2.07 0-2.86zM5.41 20L4 18.59l7.72-7.72 1.47 1.35L5.41 20z\"/>\n",
              "  </svg>\n",
              "      </button>\n",
              "      \n",
              "  <style>\n",
              "    .colab-df-container {\n",
              "      display:flex;\n",
              "      flex-wrap:wrap;\n",
              "      gap: 12px;\n",
              "    }\n",
              "\n",
              "    .colab-df-convert {\n",
              "      background-color: #E8F0FE;\n",
              "      border: none;\n",
              "      border-radius: 50%;\n",
              "      cursor: pointer;\n",
              "      display: none;\n",
              "      fill: #1967D2;\n",
              "      height: 32px;\n",
              "      padding: 0 0 0 0;\n",
              "      width: 32px;\n",
              "    }\n",
              "\n",
              "    .colab-df-convert:hover {\n",
              "      background-color: #E2EBFA;\n",
              "      box-shadow: 0px 1px 2px rgba(60, 64, 67, 0.3), 0px 1px 3px 1px rgba(60, 64, 67, 0.15);\n",
              "      fill: #174EA6;\n",
              "    }\n",
              "\n",
              "    [theme=dark] .colab-df-convert {\n",
              "      background-color: #3B4455;\n",
              "      fill: #D2E3FC;\n",
              "    }\n",
              "\n",
              "    [theme=dark] .colab-df-convert:hover {\n",
              "      background-color: #434B5C;\n",
              "      box-shadow: 0px 1px 3px 1px rgba(0, 0, 0, 0.15);\n",
              "      filter: drop-shadow(0px 1px 2px rgba(0, 0, 0, 0.3));\n",
              "      fill: #FFFFFF;\n",
              "    }\n",
              "  </style>\n",
              "\n",
              "      <script>\n",
              "        const buttonEl =\n",
              "          document.querySelector('#df-002c7d16-fb50-440f-81b9-66d261b47960 button.colab-df-convert');\n",
              "        buttonEl.style.display =\n",
              "          google.colab.kernel.accessAllowed ? 'block' : 'none';\n",
              "\n",
              "        async function convertToInteractive(key) {\n",
              "          const element = document.querySelector('#df-002c7d16-fb50-440f-81b9-66d261b47960');\n",
              "          const dataTable =\n",
              "            await google.colab.kernel.invokeFunction('convertToInteractive',\n",
              "                                                     [key], {});\n",
              "          if (!dataTable) return;\n",
              "\n",
              "          const docLinkHtml = 'Like what you see? Visit the ' +\n",
              "            '<a target=\"_blank\" href=https://colab.research.google.com/notebooks/data_table.ipynb>data table notebook</a>'\n",
              "            + ' to learn more about interactive tables.';\n",
              "          element.innerHTML = '';\n",
              "          dataTable['output_type'] = 'display_data';\n",
              "          await google.colab.output.renderOutput(dataTable, element);\n",
              "          const docLink = document.createElement('div');\n",
              "          docLink.innerHTML = docLinkHtml;\n",
              "          element.appendChild(docLink);\n",
              "        }\n",
              "      </script>\n",
              "    </div>\n",
              "  </div>\n",
              "  "
            ]
          },
          "metadata": {},
          "execution_count": 800
        }
      ]
    },
    {
      "cell_type": "code",
      "source": [
        "deleted_df.info()"
      ],
      "metadata": {
        "colab": {
          "base_uri": "https://localhost:8080/"
        },
        "id": "6Gmh9KFZ_83j",
        "outputId": "1d73f8e4-1df3-4b4b-adda-fd7d639c772f"
      },
      "execution_count": 801,
      "outputs": [
        {
          "output_type": "stream",
          "name": "stdout",
          "text": [
            "<class 'pandas.core.frame.DataFrame'>\n",
            "RangeIndex: 19237 entries, 0 to 19236\n",
            "Data columns (total 18 columns):\n",
            " #   Column            Non-Null Count  Dtype  \n",
            "---  ------            --------------  -----  \n",
            " 0   Price             19237 non-null  float64\n",
            " 1   Engine volume     19237 non-null  float64\n",
            " 2   Mileage           19237 non-null  float64\n",
            " 3   Levy              19237 non-null  float64\n",
            " 4   Manufacturer      19237 non-null  object \n",
            " 5   Model             19237 non-null  object \n",
            " 6   Prod. year        19237 non-null  int64  \n",
            " 7   Category          19237 non-null  object \n",
            " 8   Leather interior  19237 non-null  bool   \n",
            " 9   Fuel type         19237 non-null  object \n",
            " 10  Cylinders         19237 non-null  float64\n",
            " 11  Gear box type     19237 non-null  object \n",
            " 12  Drive wheels      19237 non-null  object \n",
            " 13  Doors             19237 non-null  int64  \n",
            " 14  Wheel             19237 non-null  object \n",
            " 15  Color             19237 non-null  object \n",
            " 16  Airbags           19237 non-null  int64  \n",
            " 17  Turbo             19237 non-null  bool   \n",
            "dtypes: bool(2), float64(5), int64(3), object(8)\n",
            "memory usage: 2.4+ MB\n"
          ]
        }
      ]
    },
    {
      "cell_type": "code",
      "source": [
        "deleted_df.nunique()"
      ],
      "metadata": {
        "colab": {
          "base_uri": "https://localhost:8080/"
        },
        "id": "jNiDlo573jan",
        "outputId": "8a84be1e-1b01-482e-ec25-b7e2cc8d5382"
      },
      "execution_count": 802,
      "outputs": [
        {
          "output_type": "execute_result",
          "data": {
            "text/plain": [
              "Price               1513\n",
              "Engine volume         65\n",
              "Mileage             7220\n",
              "Levy                   1\n",
              "Manufacturer          65\n",
              "Model               1590\n",
              "Prod. year            54\n",
              "Category              11\n",
              "Leather interior       2\n",
              "Fuel type              7\n",
              "Cylinders             13\n",
              "Gear box type          4\n",
              "Drive wheels           3\n",
              "Doors                  3\n",
              "Wheel                  2\n",
              "Color                 16\n",
              "Airbags               17\n",
              "Turbo                  2\n",
              "dtype: int64"
            ]
          },
          "metadata": {},
          "execution_count": 802
        }
      ]
    },
    {
      "cell_type": "code",
      "source": [
        "deleted_df.columns"
      ],
      "metadata": {
        "colab": {
          "base_uri": "https://localhost:8080/"
        },
        "id": "xjdlySawI05C",
        "outputId": "36db4147-a2df-4bc3-ed8b-2942b90991f3"
      },
      "execution_count": 803,
      "outputs": [
        {
          "output_type": "execute_result",
          "data": {
            "text/plain": [
              "Index(['Price', 'Engine volume', 'Mileage', 'Levy', 'Manufacturer', 'Model',\n",
              "       'Prod. year', 'Category', 'Leather interior', 'Fuel type', 'Cylinders',\n",
              "       'Gear box type', 'Drive wheels', 'Doors', 'Wheel', 'Color', 'Airbags',\n",
              "       'Turbo'],\n",
              "      dtype='object')"
            ]
          },
          "metadata": {},
          "execution_count": 803
        }
      ]
    },
    {
      "cell_type": "code",
      "source": [
        "# Defining a function to find the statistical relationship with all the categorical variables\n",
        "def FunctionAnova(inpData, TargetVariable, CategoricalPredictorList):\n",
        "    from scipy.stats import f_oneway\n",
        "\n",
        "    # Creating an empty list of final selected predictors\n",
        "    SelectedPredictors=[]\n",
        "    \n",
        "    print('##### ANOVA Results ##### \\n')\n",
        "    for predictor in CategoricalPredictorList:\n",
        "        CategoryGroupLists=inpData.groupby(predictor)[TargetVariable].apply(list)\n",
        "        AnovaResults = f_oneway(*CategoryGroupLists)\n",
        "        \n",
        "        # If the ANOVA P-Value is <0.05, that means we reject H0\n",
        "        if (AnovaResults[1] < 0.05):\n",
        "            print(predictor, 'is correlated with', TargetVariable, '| P-Value:', AnovaResults[1])\n",
        "            SelectedPredictors.append(predictor)\n",
        "        else:\n",
        "            print(predictor, 'is NOT correlated with', TargetVariable, '| P-Value:', AnovaResults[1])\n",
        "    \n",
        "    return(SelectedPredictors)"
      ],
      "metadata": {
        "id": "Rh9pSCWTImr2"
      },
      "execution_count": 804,
      "outputs": []
    },
    {
      "cell_type": "code",
      "source": [
        "# Calling the function to check which categorical variables are correlated with target\n",
        "# Calling the function to check which categorical variables are correlated with target\n",
        "CategoricalPredictorList=['Manufacturer', 'Model',\n",
        "       'Prod. year', 'Category', 'Leather interior', 'Fuel type', 'Cylinders',\n",
        "       'Gear box type', 'Drive wheels', 'Doors', 'Wheel', 'Color', 'Airbags',\n",
        "       'Turbo']\n",
        "FunctionAnova(inpData=deleted_df, \n",
        "              TargetVariable='Price', \n",
        "              CategoricalPredictorList=CategoricalPredictorList)"
      ],
      "metadata": {
        "colab": {
          "base_uri": "https://localhost:8080/"
        },
        "id": "uVssSNQvIr4W",
        "outputId": "5e5c774c-45d1-4ead-b2c3-d6e46854c642"
      },
      "execution_count": 805,
      "outputs": [
        {
          "output_type": "stream",
          "name": "stdout",
          "text": [
            "##### ANOVA Results ##### \n",
            "\n",
            "Manufacturer is correlated with Price | P-Value: 1.6777611671671883e-302\n",
            "Model is correlated with Price | P-Value: 0.0\n",
            "Prod. year is correlated with Price | P-Value: 3.1377854663239692e-177\n",
            "Category is correlated with Price | P-Value: 5.462030494877262e-76\n",
            "Leather interior is NOT correlated with Price | P-Value: 0.5802120087547344\n",
            "Fuel type is correlated with Price | P-Value: 5.108398856115434e-210\n",
            "Cylinders is correlated with Price | P-Value: 9.2281083393445e-30\n",
            "Gear box type is correlated with Price | P-Value: 8.996859869355648e-226\n",
            "Drive wheels is correlated with Price | P-Value: 5.767643686883744e-29\n",
            "Doors is correlated with Price | P-Value: 0.0005660868403114363\n",
            "Wheel is correlated with Price | P-Value: 6.0995208479578984e-61\n",
            "Color is correlated with Price | P-Value: 4.675362095718551e-34\n",
            "Airbags is correlated with Price | P-Value: 0.0\n",
            "Turbo is correlated with Price | P-Value: 3.755229102490685e-102\n"
          ]
        },
        {
          "output_type": "execute_result",
          "data": {
            "text/plain": [
              "['Manufacturer',\n",
              " 'Model',\n",
              " 'Prod. year',\n",
              " 'Category',\n",
              " 'Fuel type',\n",
              " 'Cylinders',\n",
              " 'Gear box type',\n",
              " 'Drive wheels',\n",
              " 'Doors',\n",
              " 'Wheel',\n",
              " 'Color',\n",
              " 'Airbags',\n",
              " 'Turbo']"
            ]
          },
          "metadata": {},
          "execution_count": 805
        }
      ]
    },
    {
      "cell_type": "code",
      "source": [
        "deleted_df = deleted_df.drop(columns=['Levy'])\n",
        "deleted_df = deleted_df.drop(columns=['Leather interior'])\n"
      ],
      "metadata": {
        "id": "i1g8YleeKuOH"
      },
      "execution_count": 806,
      "outputs": []
    },
    {
      "cell_type": "code",
      "source": [
        "from sklearn.preprocessing import LabelEncoder\n",
        "# create a label encoder object\n",
        "le = LabelEncoder()\n",
        "\n",
        "# apply label encoding to each categorical variable\n",
        "deleted_df['Gear box type'] = le.fit_transform(deleted_df['Gear box type'])\n",
        "deleted_df['Fuel type'] = le.fit_transform(deleted_df['Fuel type'])\n",
        "deleted_df['Wheel'] = le.fit_transform(deleted_df['Wheel'])\n",
        "deleted_df['Color'] = le.fit_transform(deleted_df['Color'])\n",
        "deleted_df['Drive wheels'] = le.fit_transform(deleted_df['Drive wheels'])\n",
        "deleted_df['Category'] = le.fit_transform(deleted_df['Category'])\n",
        "deleted_df['Manufacturer'] = le.fit_transform(deleted_df['Manufacturer'])\n",
        "deleted_df['Model'] = le.fit_transform(deleted_df['Model'])\n",
        "\n",
        "# print the encoded data frame\n",
        "deleted_df"
      ],
      "metadata": {
        "colab": {
          "base_uri": "https://localhost:8080/",
          "height": 485
        },
        "id": "VMHw-rU_86I_",
        "outputId": "a2432507-9d9d-4011-9fd4-45637279b245"
      },
      "execution_count": 807,
      "outputs": [
        {
          "output_type": "execute_result",
          "data": {
            "text/plain": [
              "          Price  Engine volume   Mileage  Manufacturer  Model  Prod. year  \\\n",
              "0      0.013089       2.142857  0.572234            32   1242        2010   \n",
              "1      0.289394       1.428571  0.629405             8    658        2011   \n",
              "2     -0.394781      -1.000000  0.705696            21    684        2006   \n",
              "3     -0.802568       0.714286  0.409742            16    661        2011   \n",
              "4     -0.121329      -1.000000 -0.325183            21    684        2014   \n",
              "...         ...            ...       ...           ...    ...         ...   \n",
              "19232 -0.394781       0.000000  1.659340            36    385        1999   \n",
              "19233  0.210522       0.571429  0.339497            23   1334        2011   \n",
              "19234  1.085417       0.000000 -0.091884            23   1442        2010   \n",
              "19235 -0.657912       0.000000 -0.712772             8    456        2007   \n",
              "19236 -1.065783       0.571429  0.580988            23   1334        2012   \n",
              "\n",
              "       Category  Fuel type  Cylinders  Gear box type  Drive wheels  Doors  \\\n",
              "0             4          2        6.0              0             0      4   \n",
              "1             4          5        6.0              2             0      4   \n",
              "2             3          5        4.0              3             1      4   \n",
              "3             4          2        4.0              0             0      4   \n",
              "4             3          5        4.0              0             1      4   \n",
              "...         ...        ...        ...            ...           ...    ...   \n",
              "19232         1          0        4.0              1             2      2   \n",
              "19233         9          5        4.0              2             1      4   \n",
              "19234         4          1        4.0              0             1      4   \n",
              "19235         4          1        4.0              0             1      4   \n",
              "19236         9          2        4.0              0             1      4   \n",
              "\n",
              "       Wheel  Color  Airbags  Turbo  \n",
              "0          0     12       12  False  \n",
              "1          0      1        8  False  \n",
              "2          1      1        2  False  \n",
              "3          0     14        0  False  \n",
              "4          0     12        4  False  \n",
              "...      ...    ...      ...    ...  \n",
              "19232      0     12        5   True  \n",
              "19233      0     11        8  False  \n",
              "19234      0      7        4  False  \n",
              "19235      0      1        4  False  \n",
              "19236      0     14       12  False  \n",
              "\n",
              "[19237 rows x 16 columns]"
            ],
            "text/html": [
              "\n",
              "  <div id=\"df-c52316ff-dc23-46b3-9606-505c83a6bb48\">\n",
              "    <div class=\"colab-df-container\">\n",
              "      <div>\n",
              "<style scoped>\n",
              "    .dataframe tbody tr th:only-of-type {\n",
              "        vertical-align: middle;\n",
              "    }\n",
              "\n",
              "    .dataframe tbody tr th {\n",
              "        vertical-align: top;\n",
              "    }\n",
              "\n",
              "    .dataframe thead th {\n",
              "        text-align: right;\n",
              "    }\n",
              "</style>\n",
              "<table border=\"1\" class=\"dataframe\">\n",
              "  <thead>\n",
              "    <tr style=\"text-align: right;\">\n",
              "      <th></th>\n",
              "      <th>Price</th>\n",
              "      <th>Engine volume</th>\n",
              "      <th>Mileage</th>\n",
              "      <th>Manufacturer</th>\n",
              "      <th>Model</th>\n",
              "      <th>Prod. year</th>\n",
              "      <th>Category</th>\n",
              "      <th>Fuel type</th>\n",
              "      <th>Cylinders</th>\n",
              "      <th>Gear box type</th>\n",
              "      <th>Drive wheels</th>\n",
              "      <th>Doors</th>\n",
              "      <th>Wheel</th>\n",
              "      <th>Color</th>\n",
              "      <th>Airbags</th>\n",
              "      <th>Turbo</th>\n",
              "    </tr>\n",
              "  </thead>\n",
              "  <tbody>\n",
              "    <tr>\n",
              "      <th>0</th>\n",
              "      <td>0.013089</td>\n",
              "      <td>2.142857</td>\n",
              "      <td>0.572234</td>\n",
              "      <td>32</td>\n",
              "      <td>1242</td>\n",
              "      <td>2010</td>\n",
              "      <td>4</td>\n",
              "      <td>2</td>\n",
              "      <td>6.0</td>\n",
              "      <td>0</td>\n",
              "      <td>0</td>\n",
              "      <td>4</td>\n",
              "      <td>0</td>\n",
              "      <td>12</td>\n",
              "      <td>12</td>\n",
              "      <td>False</td>\n",
              "    </tr>\n",
              "    <tr>\n",
              "      <th>1</th>\n",
              "      <td>0.289394</td>\n",
              "      <td>1.428571</td>\n",
              "      <td>0.629405</td>\n",
              "      <td>8</td>\n",
              "      <td>658</td>\n",
              "      <td>2011</td>\n",
              "      <td>4</td>\n",
              "      <td>5</td>\n",
              "      <td>6.0</td>\n",
              "      <td>2</td>\n",
              "      <td>0</td>\n",
              "      <td>4</td>\n",
              "      <td>0</td>\n",
              "      <td>1</td>\n",
              "      <td>8</td>\n",
              "      <td>False</td>\n",
              "    </tr>\n",
              "    <tr>\n",
              "      <th>2</th>\n",
              "      <td>-0.394781</td>\n",
              "      <td>-1.000000</td>\n",
              "      <td>0.705696</td>\n",
              "      <td>21</td>\n",
              "      <td>684</td>\n",
              "      <td>2006</td>\n",
              "      <td>3</td>\n",
              "      <td>5</td>\n",
              "      <td>4.0</td>\n",
              "      <td>3</td>\n",
              "      <td>1</td>\n",
              "      <td>4</td>\n",
              "      <td>1</td>\n",
              "      <td>1</td>\n",
              "      <td>2</td>\n",
              "      <td>False</td>\n",
              "    </tr>\n",
              "    <tr>\n",
              "      <th>3</th>\n",
              "      <td>-0.802568</td>\n",
              "      <td>0.714286</td>\n",
              "      <td>0.409742</td>\n",
              "      <td>16</td>\n",
              "      <td>661</td>\n",
              "      <td>2011</td>\n",
              "      <td>4</td>\n",
              "      <td>2</td>\n",
              "      <td>4.0</td>\n",
              "      <td>0</td>\n",
              "      <td>0</td>\n",
              "      <td>4</td>\n",
              "      <td>0</td>\n",
              "      <td>14</td>\n",
              "      <td>0</td>\n",
              "      <td>False</td>\n",
              "    </tr>\n",
              "    <tr>\n",
              "      <th>4</th>\n",
              "      <td>-0.121329</td>\n",
              "      <td>-1.000000</td>\n",
              "      <td>-0.325183</td>\n",
              "      <td>21</td>\n",
              "      <td>684</td>\n",
              "      <td>2014</td>\n",
              "      <td>3</td>\n",
              "      <td>5</td>\n",
              "      <td>4.0</td>\n",
              "      <td>0</td>\n",
              "      <td>1</td>\n",
              "      <td>4</td>\n",
              "      <td>0</td>\n",
              "      <td>12</td>\n",
              "      <td>4</td>\n",
              "      <td>False</td>\n",
              "    </tr>\n",
              "    <tr>\n",
              "      <th>...</th>\n",
              "      <td>...</td>\n",
              "      <td>...</td>\n",
              "      <td>...</td>\n",
              "      <td>...</td>\n",
              "      <td>...</td>\n",
              "      <td>...</td>\n",
              "      <td>...</td>\n",
              "      <td>...</td>\n",
              "      <td>...</td>\n",
              "      <td>...</td>\n",
              "      <td>...</td>\n",
              "      <td>...</td>\n",
              "      <td>...</td>\n",
              "      <td>...</td>\n",
              "      <td>...</td>\n",
              "      <td>...</td>\n",
              "    </tr>\n",
              "    <tr>\n",
              "      <th>19232</th>\n",
              "      <td>-0.394781</td>\n",
              "      <td>0.000000</td>\n",
              "      <td>1.659340</td>\n",
              "      <td>36</td>\n",
              "      <td>385</td>\n",
              "      <td>1999</td>\n",
              "      <td>1</td>\n",
              "      <td>0</td>\n",
              "      <td>4.0</td>\n",
              "      <td>1</td>\n",
              "      <td>2</td>\n",
              "      <td>2</td>\n",
              "      <td>0</td>\n",
              "      <td>12</td>\n",
              "      <td>5</td>\n",
              "      <td>True</td>\n",
              "    </tr>\n",
              "    <tr>\n",
              "      <th>19233</th>\n",
              "      <td>0.210522</td>\n",
              "      <td>0.571429</td>\n",
              "      <td>0.339497</td>\n",
              "      <td>23</td>\n",
              "      <td>1334</td>\n",
              "      <td>2011</td>\n",
              "      <td>9</td>\n",
              "      <td>5</td>\n",
              "      <td>4.0</td>\n",
              "      <td>2</td>\n",
              "      <td>1</td>\n",
              "      <td>4</td>\n",
              "      <td>0</td>\n",
              "      <td>11</td>\n",
              "      <td>8</td>\n",
              "      <td>False</td>\n",
              "    </tr>\n",
              "    <tr>\n",
              "      <th>19234</th>\n",
              "      <td>1.085417</td>\n",
              "      <td>0.000000</td>\n",
              "      <td>-0.091884</td>\n",
              "      <td>23</td>\n",
              "      <td>1442</td>\n",
              "      <td>2010</td>\n",
              "      <td>4</td>\n",
              "      <td>1</td>\n",
              "      <td>4.0</td>\n",
              "      <td>0</td>\n",
              "      <td>1</td>\n",
              "      <td>4</td>\n",
              "      <td>0</td>\n",
              "      <td>7</td>\n",
              "      <td>4</td>\n",
              "      <td>False</td>\n",
              "    </tr>\n",
              "    <tr>\n",
              "      <th>19235</th>\n",
              "      <td>-0.657912</td>\n",
              "      <td>0.000000</td>\n",
              "      <td>-0.712772</td>\n",
              "      <td>8</td>\n",
              "      <td>456</td>\n",
              "      <td>2007</td>\n",
              "      <td>4</td>\n",
              "      <td>1</td>\n",
              "      <td>4.0</td>\n",
              "      <td>0</td>\n",
              "      <td>1</td>\n",
              "      <td>4</td>\n",
              "      <td>0</td>\n",
              "      <td>1</td>\n",
              "      <td>4</td>\n",
              "      <td>False</td>\n",
              "    </tr>\n",
              "    <tr>\n",
              "      <th>19236</th>\n",
              "      <td>-1.065783</td>\n",
              "      <td>0.571429</td>\n",
              "      <td>0.580988</td>\n",
              "      <td>23</td>\n",
              "      <td>1334</td>\n",
              "      <td>2012</td>\n",
              "      <td>9</td>\n",
              "      <td>2</td>\n",
              "      <td>4.0</td>\n",
              "      <td>0</td>\n",
              "      <td>1</td>\n",
              "      <td>4</td>\n",
              "      <td>0</td>\n",
              "      <td>14</td>\n",
              "      <td>12</td>\n",
              "      <td>False</td>\n",
              "    </tr>\n",
              "  </tbody>\n",
              "</table>\n",
              "<p>19237 rows × 16 columns</p>\n",
              "</div>\n",
              "      <button class=\"colab-df-convert\" onclick=\"convertToInteractive('df-c52316ff-dc23-46b3-9606-505c83a6bb48')\"\n",
              "              title=\"Convert this dataframe to an interactive table.\"\n",
              "              style=\"display:none;\">\n",
              "        \n",
              "  <svg xmlns=\"http://www.w3.org/2000/svg\" height=\"24px\"viewBox=\"0 0 24 24\"\n",
              "       width=\"24px\">\n",
              "    <path d=\"M0 0h24v24H0V0z\" fill=\"none\"/>\n",
              "    <path d=\"M18.56 5.44l.94 2.06.94-2.06 2.06-.94-2.06-.94-.94-2.06-.94 2.06-2.06.94zm-11 1L8.5 8.5l.94-2.06 2.06-.94-2.06-.94L8.5 2.5l-.94 2.06-2.06.94zm10 10l.94 2.06.94-2.06 2.06-.94-2.06-.94-.94-2.06-.94 2.06-2.06.94z\"/><path d=\"M17.41 7.96l-1.37-1.37c-.4-.4-.92-.59-1.43-.59-.52 0-1.04.2-1.43.59L10.3 9.45l-7.72 7.72c-.78.78-.78 2.05 0 2.83L4 21.41c.39.39.9.59 1.41.59.51 0 1.02-.2 1.41-.59l7.78-7.78 2.81-2.81c.8-.78.8-2.07 0-2.86zM5.41 20L4 18.59l7.72-7.72 1.47 1.35L5.41 20z\"/>\n",
              "  </svg>\n",
              "      </button>\n",
              "      \n",
              "  <style>\n",
              "    .colab-df-container {\n",
              "      display:flex;\n",
              "      flex-wrap:wrap;\n",
              "      gap: 12px;\n",
              "    }\n",
              "\n",
              "    .colab-df-convert {\n",
              "      background-color: #E8F0FE;\n",
              "      border: none;\n",
              "      border-radius: 50%;\n",
              "      cursor: pointer;\n",
              "      display: none;\n",
              "      fill: #1967D2;\n",
              "      height: 32px;\n",
              "      padding: 0 0 0 0;\n",
              "      width: 32px;\n",
              "    }\n",
              "\n",
              "    .colab-df-convert:hover {\n",
              "      background-color: #E2EBFA;\n",
              "      box-shadow: 0px 1px 2px rgba(60, 64, 67, 0.3), 0px 1px 3px 1px rgba(60, 64, 67, 0.15);\n",
              "      fill: #174EA6;\n",
              "    }\n",
              "\n",
              "    [theme=dark] .colab-df-convert {\n",
              "      background-color: #3B4455;\n",
              "      fill: #D2E3FC;\n",
              "    }\n",
              "\n",
              "    [theme=dark] .colab-df-convert:hover {\n",
              "      background-color: #434B5C;\n",
              "      box-shadow: 0px 1px 3px 1px rgba(0, 0, 0, 0.15);\n",
              "      filter: drop-shadow(0px 1px 2px rgba(0, 0, 0, 0.3));\n",
              "      fill: #FFFFFF;\n",
              "    }\n",
              "  </style>\n",
              "\n",
              "      <script>\n",
              "        const buttonEl =\n",
              "          document.querySelector('#df-c52316ff-dc23-46b3-9606-505c83a6bb48 button.colab-df-convert');\n",
              "        buttonEl.style.display =\n",
              "          google.colab.kernel.accessAllowed ? 'block' : 'none';\n",
              "\n",
              "        async function convertToInteractive(key) {\n",
              "          const element = document.querySelector('#df-c52316ff-dc23-46b3-9606-505c83a6bb48');\n",
              "          const dataTable =\n",
              "            await google.colab.kernel.invokeFunction('convertToInteractive',\n",
              "                                                     [key], {});\n",
              "          if (!dataTable) return;\n",
              "\n",
              "          const docLinkHtml = 'Like what you see? Visit the ' +\n",
              "            '<a target=\"_blank\" href=https://colab.research.google.com/notebooks/data_table.ipynb>data table notebook</a>'\n",
              "            + ' to learn more about interactive tables.';\n",
              "          element.innerHTML = '';\n",
              "          dataTable['output_type'] = 'display_data';\n",
              "          await google.colab.output.renderOutput(dataTable, element);\n",
              "          const docLink = document.createElement('div');\n",
              "          docLink.innerHTML = docLinkHtml;\n",
              "          element.appendChild(docLink);\n",
              "        }\n",
              "      </script>\n",
              "    </div>\n",
              "  </div>\n",
              "  "
            ]
          },
          "metadata": {},
          "execution_count": 807
        }
      ]
    },
    {
      "cell_type": "code",
      "source": [
        "deleted_df.info()"
      ],
      "metadata": {
        "colab": {
          "base_uri": "https://localhost:8080/"
        },
        "id": "c_fUGFLy86Lh",
        "outputId": "99403a9a-0dbc-49cf-91c0-fd0e993b908f"
      },
      "execution_count": 808,
      "outputs": [
        {
          "output_type": "stream",
          "name": "stdout",
          "text": [
            "<class 'pandas.core.frame.DataFrame'>\n",
            "RangeIndex: 19237 entries, 0 to 19236\n",
            "Data columns (total 16 columns):\n",
            " #   Column         Non-Null Count  Dtype  \n",
            "---  ------         --------------  -----  \n",
            " 0   Price          19237 non-null  float64\n",
            " 1   Engine volume  19237 non-null  float64\n",
            " 2   Mileage        19237 non-null  float64\n",
            " 3   Manufacturer   19237 non-null  int64  \n",
            " 4   Model          19237 non-null  int64  \n",
            " 5   Prod. year     19237 non-null  int64  \n",
            " 6   Category       19237 non-null  int64  \n",
            " 7   Fuel type      19237 non-null  int64  \n",
            " 8   Cylinders      19237 non-null  float64\n",
            " 9   Gear box type  19237 non-null  int64  \n",
            " 10  Drive wheels   19237 non-null  int64  \n",
            " 11  Doors          19237 non-null  int64  \n",
            " 12  Wheel          19237 non-null  int64  \n",
            " 13  Color          19237 non-null  int64  \n",
            " 14  Airbags        19237 non-null  int64  \n",
            " 15  Turbo          19237 non-null  bool   \n",
            "dtypes: bool(1), float64(4), int64(11)\n",
            "memory usage: 2.2 MB\n"
          ]
        }
      ]
    },
    {
      "cell_type": "code",
      "source": [
        "deleted_df = deleted_df.reset_index()"
      ],
      "metadata": {
        "id": "uXRnFPji5c42"
      },
      "execution_count": 809,
      "outputs": []
    },
    {
      "cell_type": "code",
      "source": [
        "deleted_df.head()"
      ],
      "metadata": {
        "colab": {
          "base_uri": "https://localhost:8080/",
          "height": 267
        },
        "id": "7NuX9enJ2rBG",
        "outputId": "a6f7e82a-221c-407b-d049-23fa26da5c96"
      },
      "execution_count": 810,
      "outputs": [
        {
          "output_type": "execute_result",
          "data": {
            "text/plain": [
              "   index     Price  Engine volume   Mileage  Manufacturer  Model  Prod. year  \\\n",
              "0      0  0.013089       2.142857  0.572234            32   1242        2010   \n",
              "1      1  0.289394       1.428571  0.629405             8    658        2011   \n",
              "2      2 -0.394781      -1.000000  0.705696            21    684        2006   \n",
              "3      3 -0.802568       0.714286  0.409742            16    661        2011   \n",
              "4      4 -0.121329      -1.000000 -0.325183            21    684        2014   \n",
              "\n",
              "   Category  Fuel type  Cylinders  Gear box type  Drive wheels  Doors  Wheel  \\\n",
              "0         4          2        6.0              0             0      4      0   \n",
              "1         4          5        6.0              2             0      4      0   \n",
              "2         3          5        4.0              3             1      4      1   \n",
              "3         4          2        4.0              0             0      4      0   \n",
              "4         3          5        4.0              0             1      4      0   \n",
              "\n",
              "   Color  Airbags  Turbo  \n",
              "0     12       12  False  \n",
              "1      1        8  False  \n",
              "2      1        2  False  \n",
              "3     14        0  False  \n",
              "4     12        4  False  "
            ],
            "text/html": [
              "\n",
              "  <div id=\"df-65974102-77ea-4fea-ba16-5d1e182bee53\">\n",
              "    <div class=\"colab-df-container\">\n",
              "      <div>\n",
              "<style scoped>\n",
              "    .dataframe tbody tr th:only-of-type {\n",
              "        vertical-align: middle;\n",
              "    }\n",
              "\n",
              "    .dataframe tbody tr th {\n",
              "        vertical-align: top;\n",
              "    }\n",
              "\n",
              "    .dataframe thead th {\n",
              "        text-align: right;\n",
              "    }\n",
              "</style>\n",
              "<table border=\"1\" class=\"dataframe\">\n",
              "  <thead>\n",
              "    <tr style=\"text-align: right;\">\n",
              "      <th></th>\n",
              "      <th>index</th>\n",
              "      <th>Price</th>\n",
              "      <th>Engine volume</th>\n",
              "      <th>Mileage</th>\n",
              "      <th>Manufacturer</th>\n",
              "      <th>Model</th>\n",
              "      <th>Prod. year</th>\n",
              "      <th>Category</th>\n",
              "      <th>Fuel type</th>\n",
              "      <th>Cylinders</th>\n",
              "      <th>Gear box type</th>\n",
              "      <th>Drive wheels</th>\n",
              "      <th>Doors</th>\n",
              "      <th>Wheel</th>\n",
              "      <th>Color</th>\n",
              "      <th>Airbags</th>\n",
              "      <th>Turbo</th>\n",
              "    </tr>\n",
              "  </thead>\n",
              "  <tbody>\n",
              "    <tr>\n",
              "      <th>0</th>\n",
              "      <td>0</td>\n",
              "      <td>0.013089</td>\n",
              "      <td>2.142857</td>\n",
              "      <td>0.572234</td>\n",
              "      <td>32</td>\n",
              "      <td>1242</td>\n",
              "      <td>2010</td>\n",
              "      <td>4</td>\n",
              "      <td>2</td>\n",
              "      <td>6.0</td>\n",
              "      <td>0</td>\n",
              "      <td>0</td>\n",
              "      <td>4</td>\n",
              "      <td>0</td>\n",
              "      <td>12</td>\n",
              "      <td>12</td>\n",
              "      <td>False</td>\n",
              "    </tr>\n",
              "    <tr>\n",
              "      <th>1</th>\n",
              "      <td>1</td>\n",
              "      <td>0.289394</td>\n",
              "      <td>1.428571</td>\n",
              "      <td>0.629405</td>\n",
              "      <td>8</td>\n",
              "      <td>658</td>\n",
              "      <td>2011</td>\n",
              "      <td>4</td>\n",
              "      <td>5</td>\n",
              "      <td>6.0</td>\n",
              "      <td>2</td>\n",
              "      <td>0</td>\n",
              "      <td>4</td>\n",
              "      <td>0</td>\n",
              "      <td>1</td>\n",
              "      <td>8</td>\n",
              "      <td>False</td>\n",
              "    </tr>\n",
              "    <tr>\n",
              "      <th>2</th>\n",
              "      <td>2</td>\n",
              "      <td>-0.394781</td>\n",
              "      <td>-1.000000</td>\n",
              "      <td>0.705696</td>\n",
              "      <td>21</td>\n",
              "      <td>684</td>\n",
              "      <td>2006</td>\n",
              "      <td>3</td>\n",
              "      <td>5</td>\n",
              "      <td>4.0</td>\n",
              "      <td>3</td>\n",
              "      <td>1</td>\n",
              "      <td>4</td>\n",
              "      <td>1</td>\n",
              "      <td>1</td>\n",
              "      <td>2</td>\n",
              "      <td>False</td>\n",
              "    </tr>\n",
              "    <tr>\n",
              "      <th>3</th>\n",
              "      <td>3</td>\n",
              "      <td>-0.802568</td>\n",
              "      <td>0.714286</td>\n",
              "      <td>0.409742</td>\n",
              "      <td>16</td>\n",
              "      <td>661</td>\n",
              "      <td>2011</td>\n",
              "      <td>4</td>\n",
              "      <td>2</td>\n",
              "      <td>4.0</td>\n",
              "      <td>0</td>\n",
              "      <td>0</td>\n",
              "      <td>4</td>\n",
              "      <td>0</td>\n",
              "      <td>14</td>\n",
              "      <td>0</td>\n",
              "      <td>False</td>\n",
              "    </tr>\n",
              "    <tr>\n",
              "      <th>4</th>\n",
              "      <td>4</td>\n",
              "      <td>-0.121329</td>\n",
              "      <td>-1.000000</td>\n",
              "      <td>-0.325183</td>\n",
              "      <td>21</td>\n",
              "      <td>684</td>\n",
              "      <td>2014</td>\n",
              "      <td>3</td>\n",
              "      <td>5</td>\n",
              "      <td>4.0</td>\n",
              "      <td>0</td>\n",
              "      <td>1</td>\n",
              "      <td>4</td>\n",
              "      <td>0</td>\n",
              "      <td>12</td>\n",
              "      <td>4</td>\n",
              "      <td>False</td>\n",
              "    </tr>\n",
              "  </tbody>\n",
              "</table>\n",
              "</div>\n",
              "      <button class=\"colab-df-convert\" onclick=\"convertToInteractive('df-65974102-77ea-4fea-ba16-5d1e182bee53')\"\n",
              "              title=\"Convert this dataframe to an interactive table.\"\n",
              "              style=\"display:none;\">\n",
              "        \n",
              "  <svg xmlns=\"http://www.w3.org/2000/svg\" height=\"24px\"viewBox=\"0 0 24 24\"\n",
              "       width=\"24px\">\n",
              "    <path d=\"M0 0h24v24H0V0z\" fill=\"none\"/>\n",
              "    <path d=\"M18.56 5.44l.94 2.06.94-2.06 2.06-.94-2.06-.94-.94-2.06-.94 2.06-2.06.94zm-11 1L8.5 8.5l.94-2.06 2.06-.94-2.06-.94L8.5 2.5l-.94 2.06-2.06.94zm10 10l.94 2.06.94-2.06 2.06-.94-2.06-.94-.94-2.06-.94 2.06-2.06.94z\"/><path d=\"M17.41 7.96l-1.37-1.37c-.4-.4-.92-.59-1.43-.59-.52 0-1.04.2-1.43.59L10.3 9.45l-7.72 7.72c-.78.78-.78 2.05 0 2.83L4 21.41c.39.39.9.59 1.41.59.51 0 1.02-.2 1.41-.59l7.78-7.78 2.81-2.81c.8-.78.8-2.07 0-2.86zM5.41 20L4 18.59l7.72-7.72 1.47 1.35L5.41 20z\"/>\n",
              "  </svg>\n",
              "      </button>\n",
              "      \n",
              "  <style>\n",
              "    .colab-df-container {\n",
              "      display:flex;\n",
              "      flex-wrap:wrap;\n",
              "      gap: 12px;\n",
              "    }\n",
              "\n",
              "    .colab-df-convert {\n",
              "      background-color: #E8F0FE;\n",
              "      border: none;\n",
              "      border-radius: 50%;\n",
              "      cursor: pointer;\n",
              "      display: none;\n",
              "      fill: #1967D2;\n",
              "      height: 32px;\n",
              "      padding: 0 0 0 0;\n",
              "      width: 32px;\n",
              "    }\n",
              "\n",
              "    .colab-df-convert:hover {\n",
              "      background-color: #E2EBFA;\n",
              "      box-shadow: 0px 1px 2px rgba(60, 64, 67, 0.3), 0px 1px 3px 1px rgba(60, 64, 67, 0.15);\n",
              "      fill: #174EA6;\n",
              "    }\n",
              "\n",
              "    [theme=dark] .colab-df-convert {\n",
              "      background-color: #3B4455;\n",
              "      fill: #D2E3FC;\n",
              "    }\n",
              "\n",
              "    [theme=dark] .colab-df-convert:hover {\n",
              "      background-color: #434B5C;\n",
              "      box-shadow: 0px 1px 3px 1px rgba(0, 0, 0, 0.15);\n",
              "      filter: drop-shadow(0px 1px 2px rgba(0, 0, 0, 0.3));\n",
              "      fill: #FFFFFF;\n",
              "    }\n",
              "  </style>\n",
              "\n",
              "      <script>\n",
              "        const buttonEl =\n",
              "          document.querySelector('#df-65974102-77ea-4fea-ba16-5d1e182bee53 button.colab-df-convert');\n",
              "        buttonEl.style.display =\n",
              "          google.colab.kernel.accessAllowed ? 'block' : 'none';\n",
              "\n",
              "        async function convertToInteractive(key) {\n",
              "          const element = document.querySelector('#df-65974102-77ea-4fea-ba16-5d1e182bee53');\n",
              "          const dataTable =\n",
              "            await google.colab.kernel.invokeFunction('convertToInteractive',\n",
              "                                                     [key], {});\n",
              "          if (!dataTable) return;\n",
              "\n",
              "          const docLinkHtml = 'Like what you see? Visit the ' +\n",
              "            '<a target=\"_blank\" href=https://colab.research.google.com/notebooks/data_table.ipynb>data table notebook</a>'\n",
              "            + ' to learn more about interactive tables.';\n",
              "          element.innerHTML = '';\n",
              "          dataTable['output_type'] = 'display_data';\n",
              "          await google.colab.output.renderOutput(dataTable, element);\n",
              "          const docLink = document.createElement('div');\n",
              "          docLink.innerHTML = docLinkHtml;\n",
              "          element.appendChild(docLink);\n",
              "        }\n",
              "      </script>\n",
              "    </div>\n",
              "  </div>\n",
              "  "
            ]
          },
          "metadata": {},
          "execution_count": 810
        }
      ]
    },
    {
      "cell_type": "code",
      "source": [
        "df2 = deleted_df.drop(columns=['index'])"
      ],
      "metadata": {
        "id": "v-GnpVo62vLl"
      },
      "execution_count": 811,
      "outputs": []
    },
    {
      "cell_type": "code",
      "source": [
        "df3 = df2.sample(frac = 1)"
      ],
      "metadata": {
        "id": "Iymr8n2D22y1"
      },
      "execution_count": 812,
      "outputs": []
    },
    {
      "cell_type": "code",
      "source": [
        "X = np.array(df3.drop([\"Price\"],1))\n",
        "print(\"Shape of X:\",X.shape)\n",
        "print(X)"
      ],
      "metadata": {
        "colab": {
          "base_uri": "https://localhost:8080/"
        },
        "id": "fbU0L5Xt26ud",
        "outputId": "fdcfb206-f05d-4887-9baa-52661d1886a4"
      },
      "execution_count": 813,
      "outputs": [
        {
          "output_type": "stream",
          "name": "stdout",
          "text": [
            "Shape of X: (19237, 15)\n",
            "[[0.7142857142857143 -1.0585441679938203 5 ... 2 2 False]\n",
            " [0.0 -0.6376441193580072 8 ... 12 4 False]\n",
            " [0.0 1.39231935609998 16 ... 7 4 False]\n",
            " ...\n",
            " [2.142857142857143 -0.7724511496171121 41 ... 14 12 False]\n",
            " [-0.28571428571428564 -0.4003299606145278 58 ... 4 8 False]\n",
            " [0.4285714285714283 0.5746082909756726 16 ... 13 4 False]]\n"
          ]
        }
      ]
    },
    {
      "cell_type": "code",
      "source": [
        "y = np.array(df3[\"Price\"])\n",
        "print(\"Shape of y:\",y.shape)\n",
        "print(y)"
      ],
      "metadata": {
        "colab": {
          "base_uri": "https://localhost:8080/"
        },
        "id": "1uNYOCve2-8e",
        "outputId": "7ab4219b-33ae-42b8-862b-e0b98f6c6f22"
      },
      "execution_count": 814,
      "outputs": [
        {
          "output_type": "stream",
          "name": "stdout",
          "text": [
            "Shape of y: (19237,)\n",
            "[ 0.15782849 -0.7631314   0.23728814 ...  1.78931029  0.86835039\n",
            "  0.36314818]\n"
          ]
        }
      ]
    },
    {
      "cell_type": "code",
      "source": [
        "size = X.shape[0]\n",
        "X_train = X[:int(0.7 * size),:]\n",
        "X_test = X[int(0.7 * size):,:]\n",
        "y_train = y[:int(0.7 * size)]\n",
        "y_test = y[int(0.7 * size):]"
      ],
      "metadata": {
        "id": "QrAshnHN_0Vd"
      },
      "execution_count": 815,
      "outputs": []
    },
    {
      "cell_type": "code",
      "source": [
        "print(X_train.shape)\n",
        "print(X_test.shape)\n",
        "print(y_train.shape)\n",
        "print(y_test.shape)\n"
      ],
      "metadata": {
        "colab": {
          "base_uri": "https://localhost:8080/"
        },
        "id": "ZeVxXKUk_5ct",
        "outputId": "f436d982-e762-4af5-a344-9a03881dbf5f"
      },
      "execution_count": 816,
      "outputs": [
        {
          "output_type": "stream",
          "name": "stdout",
          "text": [
            "(13465, 15)\n",
            "(5772, 15)\n",
            "(13465,)\n",
            "(5772,)\n"
          ]
        }
      ]
    },
    {
      "cell_type": "code",
      "source": [
        "y_train = y_train.reshape(len(y_train),1)\n",
        "y_test = y_test.reshape(len(y_test),1)\n",
        "y_pred = np.zeros(y_test.shape)\n",
        "y_train.shape, y_test.shape,y_pred.shape"
      ],
      "metadata": {
        "colab": {
          "base_uri": "https://localhost:8080/"
        },
        "id": "busk0M0d_7yE",
        "outputId": "18b06b5f-0afd-4d96-cbca-6c284fefea82"
      },
      "execution_count": 817,
      "outputs": [
        {
          "output_type": "execute_result",
          "data": {
            "text/plain": [
              "((13465, 1), (5772, 1), (5772, 1))"
            ]
          },
          "metadata": {},
          "execution_count": 817
        }
      ]
    },
    {
      "cell_type": "code",
      "source": [
        "from sklearn.neighbors import KNeighborsRegressor\n",
        "RegModel = KNeighborsRegressor(n_neighbors=3)\n"
      ],
      "metadata": {
        "id": "p20RJtH-ABud"
      },
      "execution_count": 818,
      "outputs": []
    },
    {
      "cell_type": "code",
      "source": [
        "print(RegModel)"
      ],
      "metadata": {
        "colab": {
          "base_uri": "https://localhost:8080/"
        },
        "id": "2EO480W7Bkqb",
        "outputId": "387a2fd0-0219-44df-ceef-8d34c7732065"
      },
      "execution_count": 819,
      "outputs": [
        {
          "output_type": "stream",
          "name": "stdout",
          "text": [
            "KNeighborsRegressor(n_neighbors=3)\n"
          ]
        }
      ]
    },
    {
      "cell_type": "code",
      "source": [
        "from sklearn.model_selection import GridSearchCV\n",
        "param={'n_neighbors': range(1,50)}\n",
        "grid_kn=GridSearchCV(estimator=RegModel,param_grid=param,scoring='neg_mean_squared_error',cv=5,verbose=1,n_jobs=-1)\n",
        "grid_kn.fit(X_train,y_train)\n",
        "print('Best K For Model is: ',grid_kn.best_params_)\n",
        "print('Best Score is: ',grid_kn.best_score_)"
      ],
      "metadata": {
        "colab": {
          "base_uri": "https://localhost:8080/"
        },
        "id": "pFWc6sHhBmrS",
        "outputId": "03e62dd2-f3b5-48ba-a93b-3a3b70430a26"
      },
      "execution_count": 820,
      "outputs": [
        {
          "output_type": "stream",
          "name": "stdout",
          "text": [
            "Fitting 5 folds for each of 49 candidates, totalling 245 fits\n",
            "Best K For Model is:  {'n_neighbors': 4}\n",
            "Best Score is:  -0.29035575246524703\n"
          ]
        }
      ]
    },
    {
      "cell_type": "code",
      "source": [
        "RegModel = KNeighborsRegressor(n_neighbors=4)"
      ],
      "metadata": {
        "id": "vujNEqgpDufW"
      },
      "execution_count": 821,
      "outputs": []
    },
    {
      "cell_type": "code",
      "source": [
        "KNN=RegModel.fit(X_train,y_train)\n",
        "prediction=KNN.predict(X_test)"
      ],
      "metadata": {
        "id": "31L4iYfBDuh6"
      },
      "execution_count": 822,
      "outputs": []
    },
    {
      "cell_type": "code",
      "source": [
        "from sklearn import metrics\n",
        "# Measuring Goodness of fit in Training data\n",
        "print('R2 Value:',metrics.r2_score(y_train, KNN.predict(X_train)))"
      ],
      "metadata": {
        "colab": {
          "base_uri": "https://localhost:8080/"
        },
        "id": "kT6AEBPABoRb",
        "outputId": "899c721c-fa89-4d9d-996d-9b967f278096"
      },
      "execution_count": 823,
      "outputs": [
        {
          "output_type": "stream",
          "name": "stdout",
          "text": [
            "R2 Value: 0.6856796176279565\n"
          ]
        }
      ]
    },
    {
      "cell_type": "code",
      "source": [],
      "metadata": {
        "id": "UdUMNiyUEEEJ"
      },
      "execution_count": 823,
      "outputs": []
    }
  ]
}
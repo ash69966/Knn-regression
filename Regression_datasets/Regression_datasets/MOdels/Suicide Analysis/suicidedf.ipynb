{
  "nbformat": 4,
  "nbformat_minor": 0,
  "metadata": {
    "colab": {
      "provenance": []
    },
    "kernelspec": {
      "name": "python3",
      "display_name": "Python 3"
    },
    "language_info": {
      "name": "python"
    }
  },
  "cells": [
    {
      "cell_type": "code",
      "execution_count": 426,
      "metadata": {
        "id": "Ksb4WIeZduat"
      },
      "outputs": [],
      "source": [
        "%matplotlib inline \n",
        "\n",
        "import pandas as pd\n",
        "import numpy as np\n",
        "import matplotlib.pyplot as plt\n",
        "import seaborn as sns\n",
        "\n",
        "import warnings\n",
        "warnings.filterwarnings(action='ignore')"
      ]
    },
    {
      "cell_type": "code",
      "source": [
        "df1 = pd.read_csv(\"/content/suicide(1).csv\")\n",
        "df2 = pd.read_csv(\"/content/suicide(2).csv\")\n",
        "\n",
        "df1"
      ],
      "metadata": {
        "colab": {
          "base_uri": "https://localhost:8080/",
          "height": 423
        },
        "id": "7GkjTxFCgnvi",
        "outputId": "d259e13a-2892-4089-da23-31adc3d6bcf1"
      },
      "execution_count": 427,
      "outputs": [
        {
          "output_type": "execute_result",
          "data": {
            "text/plain": [
              "          id    country-year  HDI for year  gdp_for_year ($)   \\\n",
              "0          1     Albania1987           NaN      2,156,624,900   \n",
              "1          2     Albania1987           NaN      2,156,624,900   \n",
              "2          3     Albania1987           NaN      2,156,624,900   \n",
              "3          4     Albania1987           NaN      2,156,624,900   \n",
              "4          5     Albania1987           NaN      2,156,624,900   \n",
              "...      ...             ...           ...                ...   \n",
              "27815  27816  Uzbekistan2014         0.675     63,067,077,179   \n",
              "27816  27817  Uzbekistan2014         0.675     63,067,077,179   \n",
              "27817  27818  Uzbekistan2014         0.675     63,067,077,179   \n",
              "27818  27819  Uzbekistan2014         0.675     63,067,077,179   \n",
              "27819  27820  Uzbekistan2014         0.675     63,067,077,179   \n",
              "\n",
              "       gdp_per_capita ($)       generation  \n",
              "0                   796.0     Generation X  \n",
              "1                     NaN           Silent  \n",
              "2                   796.0     Generation X  \n",
              "3                   796.0  G.I. Generation  \n",
              "4                   796.0          Boomers  \n",
              "...                   ...              ...  \n",
              "27815              2309.0     Generation X  \n",
              "27816              2309.0           Silent  \n",
              "27817              2309.0     Generation Z  \n",
              "27818                 NaN     Generation Z  \n",
              "27819                 NaN          Boomers  \n",
              "\n",
              "[27820 rows x 6 columns]"
            ],
            "text/html": [
              "\n",
              "  <div id=\"df-ec0140a7-18f8-4ed9-9b60-1241f884f6ac\">\n",
              "    <div class=\"colab-df-container\">\n",
              "      <div>\n",
              "<style scoped>\n",
              "    .dataframe tbody tr th:only-of-type {\n",
              "        vertical-align: middle;\n",
              "    }\n",
              "\n",
              "    .dataframe tbody tr th {\n",
              "        vertical-align: top;\n",
              "    }\n",
              "\n",
              "    .dataframe thead th {\n",
              "        text-align: right;\n",
              "    }\n",
              "</style>\n",
              "<table border=\"1\" class=\"dataframe\">\n",
              "  <thead>\n",
              "    <tr style=\"text-align: right;\">\n",
              "      <th></th>\n",
              "      <th>id</th>\n",
              "      <th>country-year</th>\n",
              "      <th>HDI for year</th>\n",
              "      <th>gdp_for_year ($)</th>\n",
              "      <th>gdp_per_capita ($)</th>\n",
              "      <th>generation</th>\n",
              "    </tr>\n",
              "  </thead>\n",
              "  <tbody>\n",
              "    <tr>\n",
              "      <th>0</th>\n",
              "      <td>1</td>\n",
              "      <td>Albania1987</td>\n",
              "      <td>NaN</td>\n",
              "      <td>2,156,624,900</td>\n",
              "      <td>796.0</td>\n",
              "      <td>Generation X</td>\n",
              "    </tr>\n",
              "    <tr>\n",
              "      <th>1</th>\n",
              "      <td>2</td>\n",
              "      <td>Albania1987</td>\n",
              "      <td>NaN</td>\n",
              "      <td>2,156,624,900</td>\n",
              "      <td>NaN</td>\n",
              "      <td>Silent</td>\n",
              "    </tr>\n",
              "    <tr>\n",
              "      <th>2</th>\n",
              "      <td>3</td>\n",
              "      <td>Albania1987</td>\n",
              "      <td>NaN</td>\n",
              "      <td>2,156,624,900</td>\n",
              "      <td>796.0</td>\n",
              "      <td>Generation X</td>\n",
              "    </tr>\n",
              "    <tr>\n",
              "      <th>3</th>\n",
              "      <td>4</td>\n",
              "      <td>Albania1987</td>\n",
              "      <td>NaN</td>\n",
              "      <td>2,156,624,900</td>\n",
              "      <td>796.0</td>\n",
              "      <td>G.I. Generation</td>\n",
              "    </tr>\n",
              "    <tr>\n",
              "      <th>4</th>\n",
              "      <td>5</td>\n",
              "      <td>Albania1987</td>\n",
              "      <td>NaN</td>\n",
              "      <td>2,156,624,900</td>\n",
              "      <td>796.0</td>\n",
              "      <td>Boomers</td>\n",
              "    </tr>\n",
              "    <tr>\n",
              "      <th>...</th>\n",
              "      <td>...</td>\n",
              "      <td>...</td>\n",
              "      <td>...</td>\n",
              "      <td>...</td>\n",
              "      <td>...</td>\n",
              "      <td>...</td>\n",
              "    </tr>\n",
              "    <tr>\n",
              "      <th>27815</th>\n",
              "      <td>27816</td>\n",
              "      <td>Uzbekistan2014</td>\n",
              "      <td>0.675</td>\n",
              "      <td>63,067,077,179</td>\n",
              "      <td>2309.0</td>\n",
              "      <td>Generation X</td>\n",
              "    </tr>\n",
              "    <tr>\n",
              "      <th>27816</th>\n",
              "      <td>27817</td>\n",
              "      <td>Uzbekistan2014</td>\n",
              "      <td>0.675</td>\n",
              "      <td>63,067,077,179</td>\n",
              "      <td>2309.0</td>\n",
              "      <td>Silent</td>\n",
              "    </tr>\n",
              "    <tr>\n",
              "      <th>27817</th>\n",
              "      <td>27818</td>\n",
              "      <td>Uzbekistan2014</td>\n",
              "      <td>0.675</td>\n",
              "      <td>63,067,077,179</td>\n",
              "      <td>2309.0</td>\n",
              "      <td>Generation Z</td>\n",
              "    </tr>\n",
              "    <tr>\n",
              "      <th>27818</th>\n",
              "      <td>27819</td>\n",
              "      <td>Uzbekistan2014</td>\n",
              "      <td>0.675</td>\n",
              "      <td>63,067,077,179</td>\n",
              "      <td>NaN</td>\n",
              "      <td>Generation Z</td>\n",
              "    </tr>\n",
              "    <tr>\n",
              "      <th>27819</th>\n",
              "      <td>27820</td>\n",
              "      <td>Uzbekistan2014</td>\n",
              "      <td>0.675</td>\n",
              "      <td>63,067,077,179</td>\n",
              "      <td>NaN</td>\n",
              "      <td>Boomers</td>\n",
              "    </tr>\n",
              "  </tbody>\n",
              "</table>\n",
              "<p>27820 rows × 6 columns</p>\n",
              "</div>\n",
              "      <button class=\"colab-df-convert\" onclick=\"convertToInteractive('df-ec0140a7-18f8-4ed9-9b60-1241f884f6ac')\"\n",
              "              title=\"Convert this dataframe to an interactive table.\"\n",
              "              style=\"display:none;\">\n",
              "        \n",
              "  <svg xmlns=\"http://www.w3.org/2000/svg\" height=\"24px\"viewBox=\"0 0 24 24\"\n",
              "       width=\"24px\">\n",
              "    <path d=\"M0 0h24v24H0V0z\" fill=\"none\"/>\n",
              "    <path d=\"M18.56 5.44l.94 2.06.94-2.06 2.06-.94-2.06-.94-.94-2.06-.94 2.06-2.06.94zm-11 1L8.5 8.5l.94-2.06 2.06-.94-2.06-.94L8.5 2.5l-.94 2.06-2.06.94zm10 10l.94 2.06.94-2.06 2.06-.94-2.06-.94-.94-2.06-.94 2.06-2.06.94z\"/><path d=\"M17.41 7.96l-1.37-1.37c-.4-.4-.92-.59-1.43-.59-.52 0-1.04.2-1.43.59L10.3 9.45l-7.72 7.72c-.78.78-.78 2.05 0 2.83L4 21.41c.39.39.9.59 1.41.59.51 0 1.02-.2 1.41-.59l7.78-7.78 2.81-2.81c.8-.78.8-2.07 0-2.86zM5.41 20L4 18.59l7.72-7.72 1.47 1.35L5.41 20z\"/>\n",
              "  </svg>\n",
              "      </button>\n",
              "      \n",
              "  <style>\n",
              "    .colab-df-container {\n",
              "      display:flex;\n",
              "      flex-wrap:wrap;\n",
              "      gap: 12px;\n",
              "    }\n",
              "\n",
              "    .colab-df-convert {\n",
              "      background-color: #E8F0FE;\n",
              "      border: none;\n",
              "      border-radius: 50%;\n",
              "      cursor: pointer;\n",
              "      display: none;\n",
              "      fill: #1967D2;\n",
              "      height: 32px;\n",
              "      padding: 0 0 0 0;\n",
              "      width: 32px;\n",
              "    }\n",
              "\n",
              "    .colab-df-convert:hover {\n",
              "      background-color: #E2EBFA;\n",
              "      box-shadow: 0px 1px 2px rgba(60, 64, 67, 0.3), 0px 1px 3px 1px rgba(60, 64, 67, 0.15);\n",
              "      fill: #174EA6;\n",
              "    }\n",
              "\n",
              "    [theme=dark] .colab-df-convert {\n",
              "      background-color: #3B4455;\n",
              "      fill: #D2E3FC;\n",
              "    }\n",
              "\n",
              "    [theme=dark] .colab-df-convert:hover {\n",
              "      background-color: #434B5C;\n",
              "      box-shadow: 0px 1px 3px 1px rgba(0, 0, 0, 0.15);\n",
              "      filter: drop-shadow(0px 1px 2px rgba(0, 0, 0, 0.3));\n",
              "      fill: #FFFFFF;\n",
              "    }\n",
              "  </style>\n",
              "\n",
              "      <script>\n",
              "        const buttonEl =\n",
              "          document.querySelector('#df-ec0140a7-18f8-4ed9-9b60-1241f884f6ac button.colab-df-convert');\n",
              "        buttonEl.style.display =\n",
              "          google.colab.kernel.accessAllowed ? 'block' : 'none';\n",
              "\n",
              "        async function convertToInteractive(key) {\n",
              "          const element = document.querySelector('#df-ec0140a7-18f8-4ed9-9b60-1241f884f6ac');\n",
              "          const dataTable =\n",
              "            await google.colab.kernel.invokeFunction('convertToInteractive',\n",
              "                                                     [key], {});\n",
              "          if (!dataTable) return;\n",
              "\n",
              "          const docLinkHtml = 'Like what you see? Visit the ' +\n",
              "            '<a target=\"_blank\" href=https://colab.research.google.com/notebooks/data_table.ipynb>data table notebook</a>'\n",
              "            + ' to learn more about interactive tables.';\n",
              "          element.innerHTML = '';\n",
              "          dataTable['output_type'] = 'display_data';\n",
              "          await google.colab.output.renderOutput(dataTable, element);\n",
              "          const docLink = document.createElement('div');\n",
              "          docLink.innerHTML = docLinkHtml;\n",
              "          element.appendChild(docLink);\n",
              "        }\n",
              "      </script>\n",
              "    </div>\n",
              "  </div>\n",
              "  "
            ]
          },
          "metadata": {},
          "execution_count": 427
        }
      ]
    },
    {
      "cell_type": "code",
      "source": [
        "df2\n"
      ],
      "metadata": {
        "colab": {
          "base_uri": "https://localhost:8080/",
          "height": 423
        },
        "id": "ME0_k614i0Ch",
        "outputId": "c72c58fb-f869-4b2e-a803-7f8a58ec9803"
      },
      "execution_count": 428,
      "outputs": [
        {
          "output_type": "execute_result",
          "data": {
            "text/plain": [
              "          id     country    year     sex          age  suicides_no population  \\\n",
              "0          1     Albania  1987.0    male          NaN           21   312900.0   \n",
              "1          2     Albania  1987.0    male          NaN           16   308000.0   \n",
              "2          3     Albania     NaN  female  15-24 years           14   289700.0   \n",
              "3          4     Albania  1987.0    male    75+ years            1        NaN   \n",
              "4          5     Albania  1987.0    male  25-34 years            9   274300.0   \n",
              "...      ...         ...     ...     ...          ...          ...        ...   \n",
              "27815  27816  Uzbekistan  2014.0  female  35-54 years          107  3620833.0   \n",
              "27816  27817  Uzbekistan  2014.0  female          NaN            9   348465.0   \n",
              "27817  27818  Uzbekistan  2014.0    male   5-14 years           60  2762158.0   \n",
              "27818  27819  Uzbekistan  2014.0  female          NaN           44        NaN   \n",
              "27819  27820  Uzbekistan  2014.0  female          NaN           21  1438935.0   \n",
              "\n",
              "       suicides/100k pop  \n",
              "0                   6.71  \n",
              "1                   5.19  \n",
              "2                   4.83  \n",
              "3                   4.59  \n",
              "4                   3.28  \n",
              "...                  ...  \n",
              "27815               2.96  \n",
              "27816               2.58  \n",
              "27817               2.17  \n",
              "27818               1.67  \n",
              "27819               1.46  \n",
              "\n",
              "[27820 rows x 8 columns]"
            ],
            "text/html": [
              "\n",
              "  <div id=\"df-5c781d93-9616-4345-8d83-608cf2803b64\">\n",
              "    <div class=\"colab-df-container\">\n",
              "      <div>\n",
              "<style scoped>\n",
              "    .dataframe tbody tr th:only-of-type {\n",
              "        vertical-align: middle;\n",
              "    }\n",
              "\n",
              "    .dataframe tbody tr th {\n",
              "        vertical-align: top;\n",
              "    }\n",
              "\n",
              "    .dataframe thead th {\n",
              "        text-align: right;\n",
              "    }\n",
              "</style>\n",
              "<table border=\"1\" class=\"dataframe\">\n",
              "  <thead>\n",
              "    <tr style=\"text-align: right;\">\n",
              "      <th></th>\n",
              "      <th>id</th>\n",
              "      <th>country</th>\n",
              "      <th>year</th>\n",
              "      <th>sex</th>\n",
              "      <th>age</th>\n",
              "      <th>suicides_no</th>\n",
              "      <th>population</th>\n",
              "      <th>suicides/100k pop</th>\n",
              "    </tr>\n",
              "  </thead>\n",
              "  <tbody>\n",
              "    <tr>\n",
              "      <th>0</th>\n",
              "      <td>1</td>\n",
              "      <td>Albania</td>\n",
              "      <td>1987.0</td>\n",
              "      <td>male</td>\n",
              "      <td>NaN</td>\n",
              "      <td>21</td>\n",
              "      <td>312900.0</td>\n",
              "      <td>6.71</td>\n",
              "    </tr>\n",
              "    <tr>\n",
              "      <th>1</th>\n",
              "      <td>2</td>\n",
              "      <td>Albania</td>\n",
              "      <td>1987.0</td>\n",
              "      <td>male</td>\n",
              "      <td>NaN</td>\n",
              "      <td>16</td>\n",
              "      <td>308000.0</td>\n",
              "      <td>5.19</td>\n",
              "    </tr>\n",
              "    <tr>\n",
              "      <th>2</th>\n",
              "      <td>3</td>\n",
              "      <td>Albania</td>\n",
              "      <td>NaN</td>\n",
              "      <td>female</td>\n",
              "      <td>15-24 years</td>\n",
              "      <td>14</td>\n",
              "      <td>289700.0</td>\n",
              "      <td>4.83</td>\n",
              "    </tr>\n",
              "    <tr>\n",
              "      <th>3</th>\n",
              "      <td>4</td>\n",
              "      <td>Albania</td>\n",
              "      <td>1987.0</td>\n",
              "      <td>male</td>\n",
              "      <td>75+ years</td>\n",
              "      <td>1</td>\n",
              "      <td>NaN</td>\n",
              "      <td>4.59</td>\n",
              "    </tr>\n",
              "    <tr>\n",
              "      <th>4</th>\n",
              "      <td>5</td>\n",
              "      <td>Albania</td>\n",
              "      <td>1987.0</td>\n",
              "      <td>male</td>\n",
              "      <td>25-34 years</td>\n",
              "      <td>9</td>\n",
              "      <td>274300.0</td>\n",
              "      <td>3.28</td>\n",
              "    </tr>\n",
              "    <tr>\n",
              "      <th>...</th>\n",
              "      <td>...</td>\n",
              "      <td>...</td>\n",
              "      <td>...</td>\n",
              "      <td>...</td>\n",
              "      <td>...</td>\n",
              "      <td>...</td>\n",
              "      <td>...</td>\n",
              "      <td>...</td>\n",
              "    </tr>\n",
              "    <tr>\n",
              "      <th>27815</th>\n",
              "      <td>27816</td>\n",
              "      <td>Uzbekistan</td>\n",
              "      <td>2014.0</td>\n",
              "      <td>female</td>\n",
              "      <td>35-54 years</td>\n",
              "      <td>107</td>\n",
              "      <td>3620833.0</td>\n",
              "      <td>2.96</td>\n",
              "    </tr>\n",
              "    <tr>\n",
              "      <th>27816</th>\n",
              "      <td>27817</td>\n",
              "      <td>Uzbekistan</td>\n",
              "      <td>2014.0</td>\n",
              "      <td>female</td>\n",
              "      <td>NaN</td>\n",
              "      <td>9</td>\n",
              "      <td>348465.0</td>\n",
              "      <td>2.58</td>\n",
              "    </tr>\n",
              "    <tr>\n",
              "      <th>27817</th>\n",
              "      <td>27818</td>\n",
              "      <td>Uzbekistan</td>\n",
              "      <td>2014.0</td>\n",
              "      <td>male</td>\n",
              "      <td>5-14 years</td>\n",
              "      <td>60</td>\n",
              "      <td>2762158.0</td>\n",
              "      <td>2.17</td>\n",
              "    </tr>\n",
              "    <tr>\n",
              "      <th>27818</th>\n",
              "      <td>27819</td>\n",
              "      <td>Uzbekistan</td>\n",
              "      <td>2014.0</td>\n",
              "      <td>female</td>\n",
              "      <td>NaN</td>\n",
              "      <td>44</td>\n",
              "      <td>NaN</td>\n",
              "      <td>1.67</td>\n",
              "    </tr>\n",
              "    <tr>\n",
              "      <th>27819</th>\n",
              "      <td>27820</td>\n",
              "      <td>Uzbekistan</td>\n",
              "      <td>2014.0</td>\n",
              "      <td>female</td>\n",
              "      <td>NaN</td>\n",
              "      <td>21</td>\n",
              "      <td>1438935.0</td>\n",
              "      <td>1.46</td>\n",
              "    </tr>\n",
              "  </tbody>\n",
              "</table>\n",
              "<p>27820 rows × 8 columns</p>\n",
              "</div>\n",
              "      <button class=\"colab-df-convert\" onclick=\"convertToInteractive('df-5c781d93-9616-4345-8d83-608cf2803b64')\"\n",
              "              title=\"Convert this dataframe to an interactive table.\"\n",
              "              style=\"display:none;\">\n",
              "        \n",
              "  <svg xmlns=\"http://www.w3.org/2000/svg\" height=\"24px\"viewBox=\"0 0 24 24\"\n",
              "       width=\"24px\">\n",
              "    <path d=\"M0 0h24v24H0V0z\" fill=\"none\"/>\n",
              "    <path d=\"M18.56 5.44l.94 2.06.94-2.06 2.06-.94-2.06-.94-.94-2.06-.94 2.06-2.06.94zm-11 1L8.5 8.5l.94-2.06 2.06-.94-2.06-.94L8.5 2.5l-.94 2.06-2.06.94zm10 10l.94 2.06.94-2.06 2.06-.94-2.06-.94-.94-2.06-.94 2.06-2.06.94z\"/><path d=\"M17.41 7.96l-1.37-1.37c-.4-.4-.92-.59-1.43-.59-.52 0-1.04.2-1.43.59L10.3 9.45l-7.72 7.72c-.78.78-.78 2.05 0 2.83L4 21.41c.39.39.9.59 1.41.59.51 0 1.02-.2 1.41-.59l7.78-7.78 2.81-2.81c.8-.78.8-2.07 0-2.86zM5.41 20L4 18.59l7.72-7.72 1.47 1.35L5.41 20z\"/>\n",
              "  </svg>\n",
              "      </button>\n",
              "      \n",
              "  <style>\n",
              "    .colab-df-container {\n",
              "      display:flex;\n",
              "      flex-wrap:wrap;\n",
              "      gap: 12px;\n",
              "    }\n",
              "\n",
              "    .colab-df-convert {\n",
              "      background-color: #E8F0FE;\n",
              "      border: none;\n",
              "      border-radius: 50%;\n",
              "      cursor: pointer;\n",
              "      display: none;\n",
              "      fill: #1967D2;\n",
              "      height: 32px;\n",
              "      padding: 0 0 0 0;\n",
              "      width: 32px;\n",
              "    }\n",
              "\n",
              "    .colab-df-convert:hover {\n",
              "      background-color: #E2EBFA;\n",
              "      box-shadow: 0px 1px 2px rgba(60, 64, 67, 0.3), 0px 1px 3px 1px rgba(60, 64, 67, 0.15);\n",
              "      fill: #174EA6;\n",
              "    }\n",
              "\n",
              "    [theme=dark] .colab-df-convert {\n",
              "      background-color: #3B4455;\n",
              "      fill: #D2E3FC;\n",
              "    }\n",
              "\n",
              "    [theme=dark] .colab-df-convert:hover {\n",
              "      background-color: #434B5C;\n",
              "      box-shadow: 0px 1px 3px 1px rgba(0, 0, 0, 0.15);\n",
              "      filter: drop-shadow(0px 1px 2px rgba(0, 0, 0, 0.3));\n",
              "      fill: #FFFFFF;\n",
              "    }\n",
              "  </style>\n",
              "\n",
              "      <script>\n",
              "        const buttonEl =\n",
              "          document.querySelector('#df-5c781d93-9616-4345-8d83-608cf2803b64 button.colab-df-convert');\n",
              "        buttonEl.style.display =\n",
              "          google.colab.kernel.accessAllowed ? 'block' : 'none';\n",
              "\n",
              "        async function convertToInteractive(key) {\n",
              "          const element = document.querySelector('#df-5c781d93-9616-4345-8d83-608cf2803b64');\n",
              "          const dataTable =\n",
              "            await google.colab.kernel.invokeFunction('convertToInteractive',\n",
              "                                                     [key], {});\n",
              "          if (!dataTable) return;\n",
              "\n",
              "          const docLinkHtml = 'Like what you see? Visit the ' +\n",
              "            '<a target=\"_blank\" href=https://colab.research.google.com/notebooks/data_table.ipynb>data table notebook</a>'\n",
              "            + ' to learn more about interactive tables.';\n",
              "          element.innerHTML = '';\n",
              "          dataTable['output_type'] = 'display_data';\n",
              "          await google.colab.output.renderOutput(dataTable, element);\n",
              "          const docLink = document.createElement('div');\n",
              "          docLink.innerHTML = docLinkHtml;\n",
              "          element.appendChild(docLink);\n",
              "        }\n",
              "      </script>\n",
              "    </div>\n",
              "  </div>\n",
              "  "
            ]
          },
          "metadata": {},
          "execution_count": 428
        }
      ]
    },
    {
      "cell_type": "code",
      "source": [
        "data_sets = df1, df2"
      ],
      "metadata": {
        "id": "Ow6r1vqbjKGc"
      },
      "execution_count": 429,
      "outputs": []
    },
    {
      "cell_type": "code",
      "source": [
        "for df in data_sets : \n",
        "    df1['country']=df1['country-year'].str[:-4]\n",
        "    df1['year']=df1['country-year'].str[-4:]"
      ],
      "metadata": {
        "id": "VF3M5VnHhZqy"
      },
      "execution_count": 430,
      "outputs": []
    },
    {
      "cell_type": "code",
      "source": [
        "df1"
      ],
      "metadata": {
        "colab": {
          "base_uri": "https://localhost:8080/",
          "height": 423
        },
        "id": "x56xCkhujV2x",
        "outputId": "d4118073-4d16-4fd6-8d5e-b7d0ec8d0f3e"
      },
      "execution_count": 431,
      "outputs": [
        {
          "output_type": "execute_result",
          "data": {
            "text/plain": [
              "          id    country-year  HDI for year  gdp_for_year ($)   \\\n",
              "0          1     Albania1987           NaN      2,156,624,900   \n",
              "1          2     Albania1987           NaN      2,156,624,900   \n",
              "2          3     Albania1987           NaN      2,156,624,900   \n",
              "3          4     Albania1987           NaN      2,156,624,900   \n",
              "4          5     Albania1987           NaN      2,156,624,900   \n",
              "...      ...             ...           ...                ...   \n",
              "27815  27816  Uzbekistan2014         0.675     63,067,077,179   \n",
              "27816  27817  Uzbekistan2014         0.675     63,067,077,179   \n",
              "27817  27818  Uzbekistan2014         0.675     63,067,077,179   \n",
              "27818  27819  Uzbekistan2014         0.675     63,067,077,179   \n",
              "27819  27820  Uzbekistan2014         0.675     63,067,077,179   \n",
              "\n",
              "       gdp_per_capita ($)       generation     country  year  \n",
              "0                   796.0     Generation X     Albania  1987  \n",
              "1                     NaN           Silent     Albania  1987  \n",
              "2                   796.0     Generation X     Albania  1987  \n",
              "3                   796.0  G.I. Generation     Albania  1987  \n",
              "4                   796.0          Boomers     Albania  1987  \n",
              "...                   ...              ...         ...   ...  \n",
              "27815              2309.0     Generation X  Uzbekistan  2014  \n",
              "27816              2309.0           Silent  Uzbekistan  2014  \n",
              "27817              2309.0     Generation Z  Uzbekistan  2014  \n",
              "27818                 NaN     Generation Z  Uzbekistan  2014  \n",
              "27819                 NaN          Boomers  Uzbekistan  2014  \n",
              "\n",
              "[27820 rows x 8 columns]"
            ],
            "text/html": [
              "\n",
              "  <div id=\"df-ec8c5f73-581c-488c-a87e-602fec600d76\">\n",
              "    <div class=\"colab-df-container\">\n",
              "      <div>\n",
              "<style scoped>\n",
              "    .dataframe tbody tr th:only-of-type {\n",
              "        vertical-align: middle;\n",
              "    }\n",
              "\n",
              "    .dataframe tbody tr th {\n",
              "        vertical-align: top;\n",
              "    }\n",
              "\n",
              "    .dataframe thead th {\n",
              "        text-align: right;\n",
              "    }\n",
              "</style>\n",
              "<table border=\"1\" class=\"dataframe\">\n",
              "  <thead>\n",
              "    <tr style=\"text-align: right;\">\n",
              "      <th></th>\n",
              "      <th>id</th>\n",
              "      <th>country-year</th>\n",
              "      <th>HDI for year</th>\n",
              "      <th>gdp_for_year ($)</th>\n",
              "      <th>gdp_per_capita ($)</th>\n",
              "      <th>generation</th>\n",
              "      <th>country</th>\n",
              "      <th>year</th>\n",
              "    </tr>\n",
              "  </thead>\n",
              "  <tbody>\n",
              "    <tr>\n",
              "      <th>0</th>\n",
              "      <td>1</td>\n",
              "      <td>Albania1987</td>\n",
              "      <td>NaN</td>\n",
              "      <td>2,156,624,900</td>\n",
              "      <td>796.0</td>\n",
              "      <td>Generation X</td>\n",
              "      <td>Albania</td>\n",
              "      <td>1987</td>\n",
              "    </tr>\n",
              "    <tr>\n",
              "      <th>1</th>\n",
              "      <td>2</td>\n",
              "      <td>Albania1987</td>\n",
              "      <td>NaN</td>\n",
              "      <td>2,156,624,900</td>\n",
              "      <td>NaN</td>\n",
              "      <td>Silent</td>\n",
              "      <td>Albania</td>\n",
              "      <td>1987</td>\n",
              "    </tr>\n",
              "    <tr>\n",
              "      <th>2</th>\n",
              "      <td>3</td>\n",
              "      <td>Albania1987</td>\n",
              "      <td>NaN</td>\n",
              "      <td>2,156,624,900</td>\n",
              "      <td>796.0</td>\n",
              "      <td>Generation X</td>\n",
              "      <td>Albania</td>\n",
              "      <td>1987</td>\n",
              "    </tr>\n",
              "    <tr>\n",
              "      <th>3</th>\n",
              "      <td>4</td>\n",
              "      <td>Albania1987</td>\n",
              "      <td>NaN</td>\n",
              "      <td>2,156,624,900</td>\n",
              "      <td>796.0</td>\n",
              "      <td>G.I. Generation</td>\n",
              "      <td>Albania</td>\n",
              "      <td>1987</td>\n",
              "    </tr>\n",
              "    <tr>\n",
              "      <th>4</th>\n",
              "      <td>5</td>\n",
              "      <td>Albania1987</td>\n",
              "      <td>NaN</td>\n",
              "      <td>2,156,624,900</td>\n",
              "      <td>796.0</td>\n",
              "      <td>Boomers</td>\n",
              "      <td>Albania</td>\n",
              "      <td>1987</td>\n",
              "    </tr>\n",
              "    <tr>\n",
              "      <th>...</th>\n",
              "      <td>...</td>\n",
              "      <td>...</td>\n",
              "      <td>...</td>\n",
              "      <td>...</td>\n",
              "      <td>...</td>\n",
              "      <td>...</td>\n",
              "      <td>...</td>\n",
              "      <td>...</td>\n",
              "    </tr>\n",
              "    <tr>\n",
              "      <th>27815</th>\n",
              "      <td>27816</td>\n",
              "      <td>Uzbekistan2014</td>\n",
              "      <td>0.675</td>\n",
              "      <td>63,067,077,179</td>\n",
              "      <td>2309.0</td>\n",
              "      <td>Generation X</td>\n",
              "      <td>Uzbekistan</td>\n",
              "      <td>2014</td>\n",
              "    </tr>\n",
              "    <tr>\n",
              "      <th>27816</th>\n",
              "      <td>27817</td>\n",
              "      <td>Uzbekistan2014</td>\n",
              "      <td>0.675</td>\n",
              "      <td>63,067,077,179</td>\n",
              "      <td>2309.0</td>\n",
              "      <td>Silent</td>\n",
              "      <td>Uzbekistan</td>\n",
              "      <td>2014</td>\n",
              "    </tr>\n",
              "    <tr>\n",
              "      <th>27817</th>\n",
              "      <td>27818</td>\n",
              "      <td>Uzbekistan2014</td>\n",
              "      <td>0.675</td>\n",
              "      <td>63,067,077,179</td>\n",
              "      <td>2309.0</td>\n",
              "      <td>Generation Z</td>\n",
              "      <td>Uzbekistan</td>\n",
              "      <td>2014</td>\n",
              "    </tr>\n",
              "    <tr>\n",
              "      <th>27818</th>\n",
              "      <td>27819</td>\n",
              "      <td>Uzbekistan2014</td>\n",
              "      <td>0.675</td>\n",
              "      <td>63,067,077,179</td>\n",
              "      <td>NaN</td>\n",
              "      <td>Generation Z</td>\n",
              "      <td>Uzbekistan</td>\n",
              "      <td>2014</td>\n",
              "    </tr>\n",
              "    <tr>\n",
              "      <th>27819</th>\n",
              "      <td>27820</td>\n",
              "      <td>Uzbekistan2014</td>\n",
              "      <td>0.675</td>\n",
              "      <td>63,067,077,179</td>\n",
              "      <td>NaN</td>\n",
              "      <td>Boomers</td>\n",
              "      <td>Uzbekistan</td>\n",
              "      <td>2014</td>\n",
              "    </tr>\n",
              "  </tbody>\n",
              "</table>\n",
              "<p>27820 rows × 8 columns</p>\n",
              "</div>\n",
              "      <button class=\"colab-df-convert\" onclick=\"convertToInteractive('df-ec8c5f73-581c-488c-a87e-602fec600d76')\"\n",
              "              title=\"Convert this dataframe to an interactive table.\"\n",
              "              style=\"display:none;\">\n",
              "        \n",
              "  <svg xmlns=\"http://www.w3.org/2000/svg\" height=\"24px\"viewBox=\"0 0 24 24\"\n",
              "       width=\"24px\">\n",
              "    <path d=\"M0 0h24v24H0V0z\" fill=\"none\"/>\n",
              "    <path d=\"M18.56 5.44l.94 2.06.94-2.06 2.06-.94-2.06-.94-.94-2.06-.94 2.06-2.06.94zm-11 1L8.5 8.5l.94-2.06 2.06-.94-2.06-.94L8.5 2.5l-.94 2.06-2.06.94zm10 10l.94 2.06.94-2.06 2.06-.94-2.06-.94-.94-2.06-.94 2.06-2.06.94z\"/><path d=\"M17.41 7.96l-1.37-1.37c-.4-.4-.92-.59-1.43-.59-.52 0-1.04.2-1.43.59L10.3 9.45l-7.72 7.72c-.78.78-.78 2.05 0 2.83L4 21.41c.39.39.9.59 1.41.59.51 0 1.02-.2 1.41-.59l7.78-7.78 2.81-2.81c.8-.78.8-2.07 0-2.86zM5.41 20L4 18.59l7.72-7.72 1.47 1.35L5.41 20z\"/>\n",
              "  </svg>\n",
              "      </button>\n",
              "      \n",
              "  <style>\n",
              "    .colab-df-container {\n",
              "      display:flex;\n",
              "      flex-wrap:wrap;\n",
              "      gap: 12px;\n",
              "    }\n",
              "\n",
              "    .colab-df-convert {\n",
              "      background-color: #E8F0FE;\n",
              "      border: none;\n",
              "      border-radius: 50%;\n",
              "      cursor: pointer;\n",
              "      display: none;\n",
              "      fill: #1967D2;\n",
              "      height: 32px;\n",
              "      padding: 0 0 0 0;\n",
              "      width: 32px;\n",
              "    }\n",
              "\n",
              "    .colab-df-convert:hover {\n",
              "      background-color: #E2EBFA;\n",
              "      box-shadow: 0px 1px 2px rgba(60, 64, 67, 0.3), 0px 1px 3px 1px rgba(60, 64, 67, 0.15);\n",
              "      fill: #174EA6;\n",
              "    }\n",
              "\n",
              "    [theme=dark] .colab-df-convert {\n",
              "      background-color: #3B4455;\n",
              "      fill: #D2E3FC;\n",
              "    }\n",
              "\n",
              "    [theme=dark] .colab-df-convert:hover {\n",
              "      background-color: #434B5C;\n",
              "      box-shadow: 0px 1px 3px 1px rgba(0, 0, 0, 0.15);\n",
              "      filter: drop-shadow(0px 1px 2px rgba(0, 0, 0, 0.3));\n",
              "      fill: #FFFFFF;\n",
              "    }\n",
              "  </style>\n",
              "\n",
              "      <script>\n",
              "        const buttonEl =\n",
              "          document.querySelector('#df-ec8c5f73-581c-488c-a87e-602fec600d76 button.colab-df-convert');\n",
              "        buttonEl.style.display =\n",
              "          google.colab.kernel.accessAllowed ? 'block' : 'none';\n",
              "\n",
              "        async function convertToInteractive(key) {\n",
              "          const element = document.querySelector('#df-ec8c5f73-581c-488c-a87e-602fec600d76');\n",
              "          const dataTable =\n",
              "            await google.colab.kernel.invokeFunction('convertToInteractive',\n",
              "                                                     [key], {});\n",
              "          if (!dataTable) return;\n",
              "\n",
              "          const docLinkHtml = 'Like what you see? Visit the ' +\n",
              "            '<a target=\"_blank\" href=https://colab.research.google.com/notebooks/data_table.ipynb>data table notebook</a>'\n",
              "            + ' to learn more about interactive tables.';\n",
              "          element.innerHTML = '';\n",
              "          dataTable['output_type'] = 'display_data';\n",
              "          await google.colab.output.renderOutput(dataTable, element);\n",
              "          const docLink = document.createElement('div');\n",
              "          docLink.innerHTML = docLinkHtml;\n",
              "          element.appendChild(docLink);\n",
              "        }\n",
              "      </script>\n",
              "    </div>\n",
              "  </div>\n",
              "  "
            ]
          },
          "metadata": {},
          "execution_count": 431
        }
      ]
    },
    {
      "cell_type": "code",
      "source": [
        "df1 = df1.drop(columns=['country-year'])"
      ],
      "metadata": {
        "id": "h_OGaBXRlA8L"
      },
      "execution_count": 432,
      "outputs": []
    },
    {
      "cell_type": "code",
      "source": [
        "df1"
      ],
      "metadata": {
        "colab": {
          "base_uri": "https://localhost:8080/",
          "height": 423
        },
        "id": "8YaTN7Qclmmd",
        "outputId": "0d837d98-ec3e-4dcc-ca3a-16628804cbd9"
      },
      "execution_count": 433,
      "outputs": [
        {
          "output_type": "execute_result",
          "data": {
            "text/plain": [
              "          id  HDI for year  gdp_for_year ($)   gdp_per_capita ($)  \\\n",
              "0          1           NaN      2,156,624,900               796.0   \n",
              "1          2           NaN      2,156,624,900                 NaN   \n",
              "2          3           NaN      2,156,624,900               796.0   \n",
              "3          4           NaN      2,156,624,900               796.0   \n",
              "4          5           NaN      2,156,624,900               796.0   \n",
              "...      ...           ...                ...                 ...   \n",
              "27815  27816         0.675     63,067,077,179              2309.0   \n",
              "27816  27817         0.675     63,067,077,179              2309.0   \n",
              "27817  27818         0.675     63,067,077,179              2309.0   \n",
              "27818  27819         0.675     63,067,077,179                 NaN   \n",
              "27819  27820         0.675     63,067,077,179                 NaN   \n",
              "\n",
              "            generation     country  year  \n",
              "0         Generation X     Albania  1987  \n",
              "1               Silent     Albania  1987  \n",
              "2         Generation X     Albania  1987  \n",
              "3      G.I. Generation     Albania  1987  \n",
              "4              Boomers     Albania  1987  \n",
              "...                ...         ...   ...  \n",
              "27815     Generation X  Uzbekistan  2014  \n",
              "27816           Silent  Uzbekistan  2014  \n",
              "27817     Generation Z  Uzbekistan  2014  \n",
              "27818     Generation Z  Uzbekistan  2014  \n",
              "27819          Boomers  Uzbekistan  2014  \n",
              "\n",
              "[27820 rows x 7 columns]"
            ],
            "text/html": [
              "\n",
              "  <div id=\"df-c3e9592a-363d-49ac-b62c-d9dff351daea\">\n",
              "    <div class=\"colab-df-container\">\n",
              "      <div>\n",
              "<style scoped>\n",
              "    .dataframe tbody tr th:only-of-type {\n",
              "        vertical-align: middle;\n",
              "    }\n",
              "\n",
              "    .dataframe tbody tr th {\n",
              "        vertical-align: top;\n",
              "    }\n",
              "\n",
              "    .dataframe thead th {\n",
              "        text-align: right;\n",
              "    }\n",
              "</style>\n",
              "<table border=\"1\" class=\"dataframe\">\n",
              "  <thead>\n",
              "    <tr style=\"text-align: right;\">\n",
              "      <th></th>\n",
              "      <th>id</th>\n",
              "      <th>HDI for year</th>\n",
              "      <th>gdp_for_year ($)</th>\n",
              "      <th>gdp_per_capita ($)</th>\n",
              "      <th>generation</th>\n",
              "      <th>country</th>\n",
              "      <th>year</th>\n",
              "    </tr>\n",
              "  </thead>\n",
              "  <tbody>\n",
              "    <tr>\n",
              "      <th>0</th>\n",
              "      <td>1</td>\n",
              "      <td>NaN</td>\n",
              "      <td>2,156,624,900</td>\n",
              "      <td>796.0</td>\n",
              "      <td>Generation X</td>\n",
              "      <td>Albania</td>\n",
              "      <td>1987</td>\n",
              "    </tr>\n",
              "    <tr>\n",
              "      <th>1</th>\n",
              "      <td>2</td>\n",
              "      <td>NaN</td>\n",
              "      <td>2,156,624,900</td>\n",
              "      <td>NaN</td>\n",
              "      <td>Silent</td>\n",
              "      <td>Albania</td>\n",
              "      <td>1987</td>\n",
              "    </tr>\n",
              "    <tr>\n",
              "      <th>2</th>\n",
              "      <td>3</td>\n",
              "      <td>NaN</td>\n",
              "      <td>2,156,624,900</td>\n",
              "      <td>796.0</td>\n",
              "      <td>Generation X</td>\n",
              "      <td>Albania</td>\n",
              "      <td>1987</td>\n",
              "    </tr>\n",
              "    <tr>\n",
              "      <th>3</th>\n",
              "      <td>4</td>\n",
              "      <td>NaN</td>\n",
              "      <td>2,156,624,900</td>\n",
              "      <td>796.0</td>\n",
              "      <td>G.I. Generation</td>\n",
              "      <td>Albania</td>\n",
              "      <td>1987</td>\n",
              "    </tr>\n",
              "    <tr>\n",
              "      <th>4</th>\n",
              "      <td>5</td>\n",
              "      <td>NaN</td>\n",
              "      <td>2,156,624,900</td>\n",
              "      <td>796.0</td>\n",
              "      <td>Boomers</td>\n",
              "      <td>Albania</td>\n",
              "      <td>1987</td>\n",
              "    </tr>\n",
              "    <tr>\n",
              "      <th>...</th>\n",
              "      <td>...</td>\n",
              "      <td>...</td>\n",
              "      <td>...</td>\n",
              "      <td>...</td>\n",
              "      <td>...</td>\n",
              "      <td>...</td>\n",
              "      <td>...</td>\n",
              "    </tr>\n",
              "    <tr>\n",
              "      <th>27815</th>\n",
              "      <td>27816</td>\n",
              "      <td>0.675</td>\n",
              "      <td>63,067,077,179</td>\n",
              "      <td>2309.0</td>\n",
              "      <td>Generation X</td>\n",
              "      <td>Uzbekistan</td>\n",
              "      <td>2014</td>\n",
              "    </tr>\n",
              "    <tr>\n",
              "      <th>27816</th>\n",
              "      <td>27817</td>\n",
              "      <td>0.675</td>\n",
              "      <td>63,067,077,179</td>\n",
              "      <td>2309.0</td>\n",
              "      <td>Silent</td>\n",
              "      <td>Uzbekistan</td>\n",
              "      <td>2014</td>\n",
              "    </tr>\n",
              "    <tr>\n",
              "      <th>27817</th>\n",
              "      <td>27818</td>\n",
              "      <td>0.675</td>\n",
              "      <td>63,067,077,179</td>\n",
              "      <td>2309.0</td>\n",
              "      <td>Generation Z</td>\n",
              "      <td>Uzbekistan</td>\n",
              "      <td>2014</td>\n",
              "    </tr>\n",
              "    <tr>\n",
              "      <th>27818</th>\n",
              "      <td>27819</td>\n",
              "      <td>0.675</td>\n",
              "      <td>63,067,077,179</td>\n",
              "      <td>NaN</td>\n",
              "      <td>Generation Z</td>\n",
              "      <td>Uzbekistan</td>\n",
              "      <td>2014</td>\n",
              "    </tr>\n",
              "    <tr>\n",
              "      <th>27819</th>\n",
              "      <td>27820</td>\n",
              "      <td>0.675</td>\n",
              "      <td>63,067,077,179</td>\n",
              "      <td>NaN</td>\n",
              "      <td>Boomers</td>\n",
              "      <td>Uzbekistan</td>\n",
              "      <td>2014</td>\n",
              "    </tr>\n",
              "  </tbody>\n",
              "</table>\n",
              "<p>27820 rows × 7 columns</p>\n",
              "</div>\n",
              "      <button class=\"colab-df-convert\" onclick=\"convertToInteractive('df-c3e9592a-363d-49ac-b62c-d9dff351daea')\"\n",
              "              title=\"Convert this dataframe to an interactive table.\"\n",
              "              style=\"display:none;\">\n",
              "        \n",
              "  <svg xmlns=\"http://www.w3.org/2000/svg\" height=\"24px\"viewBox=\"0 0 24 24\"\n",
              "       width=\"24px\">\n",
              "    <path d=\"M0 0h24v24H0V0z\" fill=\"none\"/>\n",
              "    <path d=\"M18.56 5.44l.94 2.06.94-2.06 2.06-.94-2.06-.94-.94-2.06-.94 2.06-2.06.94zm-11 1L8.5 8.5l.94-2.06 2.06-.94-2.06-.94L8.5 2.5l-.94 2.06-2.06.94zm10 10l.94 2.06.94-2.06 2.06-.94-2.06-.94-.94-2.06-.94 2.06-2.06.94z\"/><path d=\"M17.41 7.96l-1.37-1.37c-.4-.4-.92-.59-1.43-.59-.52 0-1.04.2-1.43.59L10.3 9.45l-7.72 7.72c-.78.78-.78 2.05 0 2.83L4 21.41c.39.39.9.59 1.41.59.51 0 1.02-.2 1.41-.59l7.78-7.78 2.81-2.81c.8-.78.8-2.07 0-2.86zM5.41 20L4 18.59l7.72-7.72 1.47 1.35L5.41 20z\"/>\n",
              "  </svg>\n",
              "      </button>\n",
              "      \n",
              "  <style>\n",
              "    .colab-df-container {\n",
              "      display:flex;\n",
              "      flex-wrap:wrap;\n",
              "      gap: 12px;\n",
              "    }\n",
              "\n",
              "    .colab-df-convert {\n",
              "      background-color: #E8F0FE;\n",
              "      border: none;\n",
              "      border-radius: 50%;\n",
              "      cursor: pointer;\n",
              "      display: none;\n",
              "      fill: #1967D2;\n",
              "      height: 32px;\n",
              "      padding: 0 0 0 0;\n",
              "      width: 32px;\n",
              "    }\n",
              "\n",
              "    .colab-df-convert:hover {\n",
              "      background-color: #E2EBFA;\n",
              "      box-shadow: 0px 1px 2px rgba(60, 64, 67, 0.3), 0px 1px 3px 1px rgba(60, 64, 67, 0.15);\n",
              "      fill: #174EA6;\n",
              "    }\n",
              "\n",
              "    [theme=dark] .colab-df-convert {\n",
              "      background-color: #3B4455;\n",
              "      fill: #D2E3FC;\n",
              "    }\n",
              "\n",
              "    [theme=dark] .colab-df-convert:hover {\n",
              "      background-color: #434B5C;\n",
              "      box-shadow: 0px 1px 3px 1px rgba(0, 0, 0, 0.15);\n",
              "      filter: drop-shadow(0px 1px 2px rgba(0, 0, 0, 0.3));\n",
              "      fill: #FFFFFF;\n",
              "    }\n",
              "  </style>\n",
              "\n",
              "      <script>\n",
              "        const buttonEl =\n",
              "          document.querySelector('#df-c3e9592a-363d-49ac-b62c-d9dff351daea button.colab-df-convert');\n",
              "        buttonEl.style.display =\n",
              "          google.colab.kernel.accessAllowed ? 'block' : 'none';\n",
              "\n",
              "        async function convertToInteractive(key) {\n",
              "          const element = document.querySelector('#df-c3e9592a-363d-49ac-b62c-d9dff351daea');\n",
              "          const dataTable =\n",
              "            await google.colab.kernel.invokeFunction('convertToInteractive',\n",
              "                                                     [key], {});\n",
              "          if (!dataTable) return;\n",
              "\n",
              "          const docLinkHtml = 'Like what you see? Visit the ' +\n",
              "            '<a target=\"_blank\" href=https://colab.research.google.com/notebooks/data_table.ipynb>data table notebook</a>'\n",
              "            + ' to learn more about interactive tables.';\n",
              "          element.innerHTML = '';\n",
              "          dataTable['output_type'] = 'display_data';\n",
              "          await google.colab.output.renderOutput(dataTable, element);\n",
              "          const docLink = document.createElement('div');\n",
              "          docLink.innerHTML = docLinkHtml;\n",
              "          element.appendChild(docLink);\n",
              "        }\n",
              "      </script>\n",
              "    </div>\n",
              "  </div>\n",
              "  "
            ]
          },
          "metadata": {},
          "execution_count": 433
        }
      ]
    },
    {
      "cell_type": "code",
      "source": [
        "df1.info()"
      ],
      "metadata": {
        "colab": {
          "base_uri": "https://localhost:8080/"
        },
        "id": "3NuhKjyfm35-",
        "outputId": "9c35e0e3-2d93-4fc2-a0f6-3662c0e50b77"
      },
      "execution_count": 434,
      "outputs": [
        {
          "output_type": "stream",
          "name": "stdout",
          "text": [
            "<class 'pandas.core.frame.DataFrame'>\n",
            "RangeIndex: 27820 entries, 0 to 27819\n",
            "Data columns (total 7 columns):\n",
            " #   Column              Non-Null Count  Dtype  \n",
            "---  ------              --------------  -----  \n",
            " 0   id                  27820 non-null  int64  \n",
            " 1   HDI for year        8364 non-null   float64\n",
            " 2    gdp_for_year ($)   27820 non-null  object \n",
            " 3   gdp_per_capita ($)  23820 non-null  float64\n",
            " 4   generation          27820 non-null  object \n",
            " 5   country             27820 non-null  object \n",
            " 6   year                27820 non-null  object \n",
            "dtypes: float64(2), int64(1), object(4)\n",
            "memory usage: 1.5+ MB\n"
          ]
        }
      ]
    },
    {
      "cell_type": "code",
      "source": [
        "df1['year'] = df1['year'].astype(float)\n"
      ],
      "metadata": {
        "id": "CvwxtuPmnDkx"
      },
      "execution_count": 435,
      "outputs": []
    },
    {
      "cell_type": "code",
      "source": [
        "df2.info()"
      ],
      "metadata": {
        "colab": {
          "base_uri": "https://localhost:8080/"
        },
        "id": "YKTJVQdjm-Vo",
        "outputId": "c761e508-483f-4f8f-9fd9-1bb1ffe9cf03"
      },
      "execution_count": 436,
      "outputs": [
        {
          "output_type": "stream",
          "name": "stdout",
          "text": [
            "<class 'pandas.core.frame.DataFrame'>\n",
            "RangeIndex: 27820 entries, 0 to 27819\n",
            "Data columns (total 8 columns):\n",
            " #   Column             Non-Null Count  Dtype  \n",
            "---  ------             --------------  -----  \n",
            " 0   id                 27820 non-null  int64  \n",
            " 1   country            27820 non-null  object \n",
            " 2   year               22820 non-null  float64\n",
            " 3   sex                27820 non-null  object \n",
            " 4   age                23820 non-null  object \n",
            " 5   suicides_no        27820 non-null  int64  \n",
            " 6   population         23201 non-null  object \n",
            " 7   suicides/100k pop  27820 non-null  float64\n",
            "dtypes: float64(2), int64(2), object(4)\n",
            "memory usage: 1.7+ MB\n"
          ]
        }
      ]
    },
    {
      "cell_type": "code",
      "source": [
        "df = pd.merge(df1, df2, on=['id','year','country'])"
      ],
      "metadata": {
        "id": "DtV7xgcPlnts"
      },
      "execution_count": 437,
      "outputs": []
    },
    {
      "cell_type": "code",
      "source": [
        "df\n"
      ],
      "metadata": {
        "colab": {
          "base_uri": "https://localhost:8080/",
          "height": 423
        },
        "id": "sD7fZcrimObc",
        "outputId": "1e9df08c-0ac7-4784-96e2-d28af4f19782"
      },
      "execution_count": 438,
      "outputs": [
        {
          "output_type": "execute_result",
          "data": {
            "text/plain": [
              "          id  HDI for year  gdp_for_year ($)   gdp_per_capita ($)  \\\n",
              "0          1           NaN      2,156,624,900               796.0   \n",
              "1          2           NaN      2,156,624,900                 NaN   \n",
              "2          4           NaN      2,156,624,900               796.0   \n",
              "3          5           NaN      2,156,624,900               796.0   \n",
              "4          6           NaN      2,156,624,900               796.0   \n",
              "...      ...           ...                ...                 ...   \n",
              "22815  27816         0.675     63,067,077,179              2309.0   \n",
              "22816  27817         0.675     63,067,077,179              2309.0   \n",
              "22817  27818         0.675     63,067,077,179              2309.0   \n",
              "22818  27819         0.675     63,067,077,179                 NaN   \n",
              "22819  27820         0.675     63,067,077,179                 NaN   \n",
              "\n",
              "            generation     country    year     sex          age  suicides_no  \\\n",
              "0         Generation X     Albania  1987.0    male          NaN           21   \n",
              "1               Silent     Albania  1987.0    male          NaN           16   \n",
              "2      G.I. Generation     Albania  1987.0    male    75+ years            1   \n",
              "3              Boomers     Albania  1987.0    male  25-34 years            9   \n",
              "4      G.I. Generation     Albania  1987.0  female    75+ years            1   \n",
              "...                ...         ...     ...     ...          ...          ...   \n",
              "22815     Generation X  Uzbekistan  2014.0  female  35-54 years          107   \n",
              "22816           Silent  Uzbekistan  2014.0  female          NaN            9   \n",
              "22817     Generation Z  Uzbekistan  2014.0    male   5-14 years           60   \n",
              "22818     Generation Z  Uzbekistan  2014.0  female          NaN           44   \n",
              "22819          Boomers  Uzbekistan  2014.0  female          NaN           21   \n",
              "\n",
              "      population  suicides/100k pop  \n",
              "0       312900.0               6.71  \n",
              "1       308000.0               5.19  \n",
              "2            NaN               4.59  \n",
              "3       274300.0               3.28  \n",
              "4        35600.0               2.81  \n",
              "...          ...                ...  \n",
              "22815  3620833.0               2.96  \n",
              "22816   348465.0               2.58  \n",
              "22817  2762158.0               2.17  \n",
              "22818        NaN               1.67  \n",
              "22819  1438935.0               1.46  \n",
              "\n",
              "[22820 rows x 12 columns]"
            ],
            "text/html": [
              "\n",
              "  <div id=\"df-16706d34-fb5e-408d-b1d7-0fb9435b2f4a\">\n",
              "    <div class=\"colab-df-container\">\n",
              "      <div>\n",
              "<style scoped>\n",
              "    .dataframe tbody tr th:only-of-type {\n",
              "        vertical-align: middle;\n",
              "    }\n",
              "\n",
              "    .dataframe tbody tr th {\n",
              "        vertical-align: top;\n",
              "    }\n",
              "\n",
              "    .dataframe thead th {\n",
              "        text-align: right;\n",
              "    }\n",
              "</style>\n",
              "<table border=\"1\" class=\"dataframe\">\n",
              "  <thead>\n",
              "    <tr style=\"text-align: right;\">\n",
              "      <th></th>\n",
              "      <th>id</th>\n",
              "      <th>HDI for year</th>\n",
              "      <th>gdp_for_year ($)</th>\n",
              "      <th>gdp_per_capita ($)</th>\n",
              "      <th>generation</th>\n",
              "      <th>country</th>\n",
              "      <th>year</th>\n",
              "      <th>sex</th>\n",
              "      <th>age</th>\n",
              "      <th>suicides_no</th>\n",
              "      <th>population</th>\n",
              "      <th>suicides/100k pop</th>\n",
              "    </tr>\n",
              "  </thead>\n",
              "  <tbody>\n",
              "    <tr>\n",
              "      <th>0</th>\n",
              "      <td>1</td>\n",
              "      <td>NaN</td>\n",
              "      <td>2,156,624,900</td>\n",
              "      <td>796.0</td>\n",
              "      <td>Generation X</td>\n",
              "      <td>Albania</td>\n",
              "      <td>1987.0</td>\n",
              "      <td>male</td>\n",
              "      <td>NaN</td>\n",
              "      <td>21</td>\n",
              "      <td>312900.0</td>\n",
              "      <td>6.71</td>\n",
              "    </tr>\n",
              "    <tr>\n",
              "      <th>1</th>\n",
              "      <td>2</td>\n",
              "      <td>NaN</td>\n",
              "      <td>2,156,624,900</td>\n",
              "      <td>NaN</td>\n",
              "      <td>Silent</td>\n",
              "      <td>Albania</td>\n",
              "      <td>1987.0</td>\n",
              "      <td>male</td>\n",
              "      <td>NaN</td>\n",
              "      <td>16</td>\n",
              "      <td>308000.0</td>\n",
              "      <td>5.19</td>\n",
              "    </tr>\n",
              "    <tr>\n",
              "      <th>2</th>\n",
              "      <td>4</td>\n",
              "      <td>NaN</td>\n",
              "      <td>2,156,624,900</td>\n",
              "      <td>796.0</td>\n",
              "      <td>G.I. Generation</td>\n",
              "      <td>Albania</td>\n",
              "      <td>1987.0</td>\n",
              "      <td>male</td>\n",
              "      <td>75+ years</td>\n",
              "      <td>1</td>\n",
              "      <td>NaN</td>\n",
              "      <td>4.59</td>\n",
              "    </tr>\n",
              "    <tr>\n",
              "      <th>3</th>\n",
              "      <td>5</td>\n",
              "      <td>NaN</td>\n",
              "      <td>2,156,624,900</td>\n",
              "      <td>796.0</td>\n",
              "      <td>Boomers</td>\n",
              "      <td>Albania</td>\n",
              "      <td>1987.0</td>\n",
              "      <td>male</td>\n",
              "      <td>25-34 years</td>\n",
              "      <td>9</td>\n",
              "      <td>274300.0</td>\n",
              "      <td>3.28</td>\n",
              "    </tr>\n",
              "    <tr>\n",
              "      <th>4</th>\n",
              "      <td>6</td>\n",
              "      <td>NaN</td>\n",
              "      <td>2,156,624,900</td>\n",
              "      <td>796.0</td>\n",
              "      <td>G.I. Generation</td>\n",
              "      <td>Albania</td>\n",
              "      <td>1987.0</td>\n",
              "      <td>female</td>\n",
              "      <td>75+ years</td>\n",
              "      <td>1</td>\n",
              "      <td>35600.0</td>\n",
              "      <td>2.81</td>\n",
              "    </tr>\n",
              "    <tr>\n",
              "      <th>...</th>\n",
              "      <td>...</td>\n",
              "      <td>...</td>\n",
              "      <td>...</td>\n",
              "      <td>...</td>\n",
              "      <td>...</td>\n",
              "      <td>...</td>\n",
              "      <td>...</td>\n",
              "      <td>...</td>\n",
              "      <td>...</td>\n",
              "      <td>...</td>\n",
              "      <td>...</td>\n",
              "      <td>...</td>\n",
              "    </tr>\n",
              "    <tr>\n",
              "      <th>22815</th>\n",
              "      <td>27816</td>\n",
              "      <td>0.675</td>\n",
              "      <td>63,067,077,179</td>\n",
              "      <td>2309.0</td>\n",
              "      <td>Generation X</td>\n",
              "      <td>Uzbekistan</td>\n",
              "      <td>2014.0</td>\n",
              "      <td>female</td>\n",
              "      <td>35-54 years</td>\n",
              "      <td>107</td>\n",
              "      <td>3620833.0</td>\n",
              "      <td>2.96</td>\n",
              "    </tr>\n",
              "    <tr>\n",
              "      <th>22816</th>\n",
              "      <td>27817</td>\n",
              "      <td>0.675</td>\n",
              "      <td>63,067,077,179</td>\n",
              "      <td>2309.0</td>\n",
              "      <td>Silent</td>\n",
              "      <td>Uzbekistan</td>\n",
              "      <td>2014.0</td>\n",
              "      <td>female</td>\n",
              "      <td>NaN</td>\n",
              "      <td>9</td>\n",
              "      <td>348465.0</td>\n",
              "      <td>2.58</td>\n",
              "    </tr>\n",
              "    <tr>\n",
              "      <th>22817</th>\n",
              "      <td>27818</td>\n",
              "      <td>0.675</td>\n",
              "      <td>63,067,077,179</td>\n",
              "      <td>2309.0</td>\n",
              "      <td>Generation Z</td>\n",
              "      <td>Uzbekistan</td>\n",
              "      <td>2014.0</td>\n",
              "      <td>male</td>\n",
              "      <td>5-14 years</td>\n",
              "      <td>60</td>\n",
              "      <td>2762158.0</td>\n",
              "      <td>2.17</td>\n",
              "    </tr>\n",
              "    <tr>\n",
              "      <th>22818</th>\n",
              "      <td>27819</td>\n",
              "      <td>0.675</td>\n",
              "      <td>63,067,077,179</td>\n",
              "      <td>NaN</td>\n",
              "      <td>Generation Z</td>\n",
              "      <td>Uzbekistan</td>\n",
              "      <td>2014.0</td>\n",
              "      <td>female</td>\n",
              "      <td>NaN</td>\n",
              "      <td>44</td>\n",
              "      <td>NaN</td>\n",
              "      <td>1.67</td>\n",
              "    </tr>\n",
              "    <tr>\n",
              "      <th>22819</th>\n",
              "      <td>27820</td>\n",
              "      <td>0.675</td>\n",
              "      <td>63,067,077,179</td>\n",
              "      <td>NaN</td>\n",
              "      <td>Boomers</td>\n",
              "      <td>Uzbekistan</td>\n",
              "      <td>2014.0</td>\n",
              "      <td>female</td>\n",
              "      <td>NaN</td>\n",
              "      <td>21</td>\n",
              "      <td>1438935.0</td>\n",
              "      <td>1.46</td>\n",
              "    </tr>\n",
              "  </tbody>\n",
              "</table>\n",
              "<p>22820 rows × 12 columns</p>\n",
              "</div>\n",
              "      <button class=\"colab-df-convert\" onclick=\"convertToInteractive('df-16706d34-fb5e-408d-b1d7-0fb9435b2f4a')\"\n",
              "              title=\"Convert this dataframe to an interactive table.\"\n",
              "              style=\"display:none;\">\n",
              "        \n",
              "  <svg xmlns=\"http://www.w3.org/2000/svg\" height=\"24px\"viewBox=\"0 0 24 24\"\n",
              "       width=\"24px\">\n",
              "    <path d=\"M0 0h24v24H0V0z\" fill=\"none\"/>\n",
              "    <path d=\"M18.56 5.44l.94 2.06.94-2.06 2.06-.94-2.06-.94-.94-2.06-.94 2.06-2.06.94zm-11 1L8.5 8.5l.94-2.06 2.06-.94-2.06-.94L8.5 2.5l-.94 2.06-2.06.94zm10 10l.94 2.06.94-2.06 2.06-.94-2.06-.94-.94-2.06-.94 2.06-2.06.94z\"/><path d=\"M17.41 7.96l-1.37-1.37c-.4-.4-.92-.59-1.43-.59-.52 0-1.04.2-1.43.59L10.3 9.45l-7.72 7.72c-.78.78-.78 2.05 0 2.83L4 21.41c.39.39.9.59 1.41.59.51 0 1.02-.2 1.41-.59l7.78-7.78 2.81-2.81c.8-.78.8-2.07 0-2.86zM5.41 20L4 18.59l7.72-7.72 1.47 1.35L5.41 20z\"/>\n",
              "  </svg>\n",
              "      </button>\n",
              "      \n",
              "  <style>\n",
              "    .colab-df-container {\n",
              "      display:flex;\n",
              "      flex-wrap:wrap;\n",
              "      gap: 12px;\n",
              "    }\n",
              "\n",
              "    .colab-df-convert {\n",
              "      background-color: #E8F0FE;\n",
              "      border: none;\n",
              "      border-radius: 50%;\n",
              "      cursor: pointer;\n",
              "      display: none;\n",
              "      fill: #1967D2;\n",
              "      height: 32px;\n",
              "      padding: 0 0 0 0;\n",
              "      width: 32px;\n",
              "    }\n",
              "\n",
              "    .colab-df-convert:hover {\n",
              "      background-color: #E2EBFA;\n",
              "      box-shadow: 0px 1px 2px rgba(60, 64, 67, 0.3), 0px 1px 3px 1px rgba(60, 64, 67, 0.15);\n",
              "      fill: #174EA6;\n",
              "    }\n",
              "\n",
              "    [theme=dark] .colab-df-convert {\n",
              "      background-color: #3B4455;\n",
              "      fill: #D2E3FC;\n",
              "    }\n",
              "\n",
              "    [theme=dark] .colab-df-convert:hover {\n",
              "      background-color: #434B5C;\n",
              "      box-shadow: 0px 1px 3px 1px rgba(0, 0, 0, 0.15);\n",
              "      filter: drop-shadow(0px 1px 2px rgba(0, 0, 0, 0.3));\n",
              "      fill: #FFFFFF;\n",
              "    }\n",
              "  </style>\n",
              "\n",
              "      <script>\n",
              "        const buttonEl =\n",
              "          document.querySelector('#df-16706d34-fb5e-408d-b1d7-0fb9435b2f4a button.colab-df-convert');\n",
              "        buttonEl.style.display =\n",
              "          google.colab.kernel.accessAllowed ? 'block' : 'none';\n",
              "\n",
              "        async function convertToInteractive(key) {\n",
              "          const element = document.querySelector('#df-16706d34-fb5e-408d-b1d7-0fb9435b2f4a');\n",
              "          const dataTable =\n",
              "            await google.colab.kernel.invokeFunction('convertToInteractive',\n",
              "                                                     [key], {});\n",
              "          if (!dataTable) return;\n",
              "\n",
              "          const docLinkHtml = 'Like what you see? Visit the ' +\n",
              "            '<a target=\"_blank\" href=https://colab.research.google.com/notebooks/data_table.ipynb>data table notebook</a>'\n",
              "            + ' to learn more about interactive tables.';\n",
              "          element.innerHTML = '';\n",
              "          dataTable['output_type'] = 'display_data';\n",
              "          await google.colab.output.renderOutput(dataTable, element);\n",
              "          const docLink = document.createElement('div');\n",
              "          docLink.innerHTML = docLinkHtml;\n",
              "          element.appendChild(docLink);\n",
              "        }\n",
              "      </script>\n",
              "    </div>\n",
              "  </div>\n",
              "  "
            ]
          },
          "metadata": {},
          "execution_count": 438
        }
      ]
    },
    {
      "cell_type": "code",
      "source": [
        "df.info()"
      ],
      "metadata": {
        "colab": {
          "base_uri": "https://localhost:8080/"
        },
        "id": "p-0NK4S0mWSF",
        "outputId": "60231a87-b0c5-4851-cea5-b6d17c075f9c"
      },
      "execution_count": 439,
      "outputs": [
        {
          "output_type": "stream",
          "name": "stdout",
          "text": [
            "<class 'pandas.core.frame.DataFrame'>\n",
            "Int64Index: 22820 entries, 0 to 22819\n",
            "Data columns (total 12 columns):\n",
            " #   Column              Non-Null Count  Dtype  \n",
            "---  ------              --------------  -----  \n",
            " 0   id                  22820 non-null  int64  \n",
            " 1   HDI for year        6925 non-null   float64\n",
            " 2    gdp_for_year ($)   22820 non-null  object \n",
            " 3   gdp_per_capita ($)  19546 non-null  float64\n",
            " 4   generation          22820 non-null  object \n",
            " 5   country             22820 non-null  object \n",
            " 6   year                22820 non-null  float64\n",
            " 7   sex                 22820 non-null  object \n",
            " 8   age                 19527 non-null  object \n",
            " 9   suicides_no         22820 non-null  int64  \n",
            " 10  population          19042 non-null  object \n",
            " 11  suicides/100k pop   22820 non-null  float64\n",
            "dtypes: float64(4), int64(2), object(6)\n",
            "memory usage: 2.3+ MB\n"
          ]
        }
      ]
    },
    {
      "cell_type": "code",
      "source": [
        "df.isnull().sum()"
      ],
      "metadata": {
        "colab": {
          "base_uri": "https://localhost:8080/"
        },
        "id": "DnzPKVdFnosV",
        "outputId": "a846f41d-d491-41d4-9baf-2fca561b99de"
      },
      "execution_count": 440,
      "outputs": [
        {
          "output_type": "execute_result",
          "data": {
            "text/plain": [
              "id                        0\n",
              "HDI for year          15895\n",
              " gdp_for_year ($)         0\n",
              "gdp_per_capita ($)     3274\n",
              "generation                0\n",
              "country                   0\n",
              "year                      0\n",
              "sex                       0\n",
              "age                    3293\n",
              "suicides_no               0\n",
              "population             3778\n",
              "suicides/100k pop         0\n",
              "dtype: int64"
            ]
          },
          "metadata": {},
          "execution_count": 440
        }
      ]
    },
    {
      "cell_type": "code",
      "source": [
        "df['HDI for year'].value_counts()"
      ],
      "metadata": {
        "colab": {
          "base_uri": "https://localhost:8080/"
        },
        "id": "zteIy9eMXL80",
        "outputId": "12fbd1f7-97b0-40e9-892e-4829d2764ec8"
      },
      "execution_count": 441,
      "outputs": [
        {
          "output_type": "execute_result",
          "data": {
            "text/plain": [
              "0.713    76\n",
              "0.772    72\n",
              "0.888    68\n",
              "0.756    62\n",
              "0.909    60\n",
              "         ..\n",
              "0.661     8\n",
              "0.862     7\n",
              "0.703     7\n",
              "0.847     7\n",
              "0.922     7\n",
              "Name: HDI for year, Length: 305, dtype: int64"
            ]
          },
          "metadata": {},
          "execution_count": 441
        }
      ]
    },
    {
      "cell_type": "code",
      "source": [
        "#df = df.drop(columns=['HDI for year'])"
      ],
      "metadata": {
        "id": "LC9Y2jNtnxGZ"
      },
      "execution_count": 442,
      "outputs": []
    },
    {
      "cell_type": "code",
      "source": [
        "df.isnull().sum()"
      ],
      "metadata": {
        "colab": {
          "base_uri": "https://localhost:8080/"
        },
        "id": "8aDlLyX2oftv",
        "outputId": "a58c6af7-e61c-402a-b32a-b0fcc0783707"
      },
      "execution_count": 443,
      "outputs": [
        {
          "output_type": "execute_result",
          "data": {
            "text/plain": [
              "id                        0\n",
              "HDI for year          15895\n",
              " gdp_for_year ($)         0\n",
              "gdp_per_capita ($)     3274\n",
              "generation                0\n",
              "country                   0\n",
              "year                      0\n",
              "sex                       0\n",
              "age                    3293\n",
              "suicides_no               0\n",
              "population             3778\n",
              "suicides/100k pop         0\n",
              "dtype: int64"
            ]
          },
          "metadata": {},
          "execution_count": 443
        }
      ]
    },
    {
      "cell_type": "code",
      "source": [
        "for col in df.columns:\n",
        "    print(col)\n",
        "    print(df[f'{col}'].unique())\n",
        "    print('*'*75)"
      ],
      "metadata": {
        "colab": {
          "base_uri": "https://localhost:8080/"
        },
        "id": "GcRizSfCPeLT",
        "outputId": "c9403216-8530-4c75-c833-2927d41f4d25"
      },
      "execution_count": 444,
      "outputs": [
        {
          "output_type": "stream",
          "name": "stdout",
          "text": [
            "id\n",
            "[    1     2     4 ... 27818 27819 27820]\n",
            "***************************************************************************\n",
            "HDI for year\n",
            "[  nan 0.619 0.656 0.695 0.722 0.781 0.783 0.694 0.705 0.731 0.762 0.775\n",
            " 0.811 0.818 0.831 0.833 0.836 0.632 0.605 0.648 0.721 0.723 0.728 0.733\n",
            " 0.865 0.882 0.898 0.927 0.93  0.932 0.933 0.935 0.764 0.794 0.815 0.853\n",
            " 0.879 0.881 0.884 0.885 0.609 0.64  0.778 0.78  0.774 0.786 0.727 0.816\n",
            " 0.819 0.817 0.821 0.824 0.7   0.716 0.753 0.765 0.793 0.785 0.683 0.796\n",
            " 0.798 0.806 0.851 0.874 0.866 0.883 0.886 0.889 0.888 0.89  0.644 0.664\n",
            " 0.701 0.71  0.711 0.715 0.724 0.576 0.608 0.702 0.737 0.742 0.746 0.752\n",
            " 0.755 0.686 0.696 0.713 0.749 0.773 0.779 0.782 0.827 0.849 0.861 0.867\n",
            " 0.892 0.903 0.909 0.91  0.912 0.654 0.699 0.788 0.814 0.83  0.832 0.573\n",
            " 0.596 0.629 0.679 0.706 0.718 0.72  0.623 0.652 0.682 0.704 0.75  0.756\n",
            " 0.761 0.766 0.807 0.653 0.685 0.73  0.776 0.772 0.768 0.769 0.8   0.848\n",
            " 0.852 0.85  0.847 0.863 0.868 0.87  0.862 0.902 0.908 0.92  0.921 0.923\n",
            " 0.631 0.645 0.665 0.674 0.698 0.717 0.732 0.522 0.566 0.603 0.638 0.658\n",
            " 0.662 0.666 0.719 0.838 0.855 0.859 0.857 0.869 0.878 0.741 0.825 0.887\n",
            " 0.672 0.735 0.74  0.747 0.754 0.801 0.906 0.911 0.915 0.916 0.759 0.799\n",
            " 0.864 0.739 0.483 0.513 0.552 0.611 0.617 0.624 0.626 0.627 0.542 0.581\n",
            " 0.618 0.63  0.634 0.802 0.823 0.828 0.826 0.896 0.897 0.899 0.77  0.803\n",
            " 0.895 0.893 0.894 0.738 0.829 0.856 0.873 0.872 0.65  0.671 0.729 0.791\n",
            " 0.891 0.69  0.804 0.795 0.809 0.812 0.615 0.562 0.593 0.614 0.639 0.655\n",
            " 0.67  0.813 0.837 0.839 0.805 0.88  0.822 0.575 0.647 0.777 0.748 0.877\n",
            " 0.919 0.922 0.82  0.905 0.907 0.625 0.628 0.917 0.931 0.94  0.941 0.942\n",
            " 0.944 0.714 0.564 0.579 0.604 0.646 0.668 0.669 0.677 0.84  0.843 0.676\n",
            " 0.844 0.841 0.703 0.751 0.691 0.697 0.757 0.771 0.736 0.743 0.767 0.763\n",
            " 0.876 0.613 0.643 0.651 0.659 0.663 0.725 0.845 0.597 0.692 0.707 0.709\n",
            " 0.901 0.904 0.846 0.924 0.925 0.928 0.539 0.572 0.684 0.726 0.673 0.688\n",
            " 0.913 0.667 0.79  0.594 0.661 0.675]\n",
            "***************************************************************************\n",
            " gdp_for_year ($) \n",
            "['2,156,624,900' '2,126,000,000' '2,335,124,988' ... '51,821,573,338'\n",
            " '57,690,453,461' '63,067,077,179']\n",
            "***************************************************************************\n",
            "gdp_per_capita ($)\n",
            "[ 796.   nan  769. ... 1964. 2150. 2309.]\n",
            "***************************************************************************\n",
            "generation\n",
            "['Generation X' 'Silent' 'G.I. Generation' 'Boomers' 'Millenials'\n",
            " 'Generation Z']\n",
            "***************************************************************************\n",
            "country\n",
            "['Albania' 'Antigua and Barbuda' 'Argentina' 'Armenia' 'Aruba' 'Australia'\n",
            " 'Austria' 'Azerbaijan' 'Bahamas' 'Bahrain' 'Barbados' 'Belarus' 'Belgium'\n",
            " 'Belize' 'Bosnia and Herzegovina' 'Brazil' 'Bulgaria' 'Cabo Verde'\n",
            " 'Canada' 'Chile' 'Colombia' 'Costa Rica' 'Croatia' 'Cuba' 'Cyprus'\n",
            " 'Czech Republic' 'Denmark' 'Dominica' 'Ecuador' 'El Salvador' 'Estonia'\n",
            " 'Fiji' 'Finland' 'France' 'Georgia' 'Germany' 'Greece' 'Grenada'\n",
            " 'Guatemala' 'Guyana' 'Hungary' 'Iceland' 'Ireland' 'Israel' 'Italy'\n",
            " 'Jamaica' 'Japan' 'Kazakhstan' 'Kiribati' 'Kuwait' 'Kyrgyzstan' 'Latvia'\n",
            " 'Lithuania' 'Luxembourg' 'Macau' 'Maldives' 'Malta' 'Mauritius' 'Mexico'\n",
            " 'Mongolia' 'Montenegro' 'Netherlands' 'New Zealand' 'Nicaragua' 'Norway'\n",
            " 'Oman' 'Panama' 'Paraguay' 'Philippines' 'Poland' 'Portugal'\n",
            " 'Puerto Rico' 'Qatar' 'Republic of Korea' 'Romania' 'Russian Federation'\n",
            " 'Saint Kitts and Nevis' 'Saint Lucia' 'Saint Vincent and Grenadines'\n",
            " 'San Marino' 'Serbia' 'Seychelles' 'Singapore' 'Slovakia' 'Slovenia'\n",
            " 'South Africa' 'Spain' 'Sri Lanka' 'Suriname' 'Sweden' 'Switzerland'\n",
            " 'Thailand' 'Trinidad and Tobago' 'Turkey' 'Turkmenistan' 'Ukraine'\n",
            " 'United Arab Emirates' 'United Kingdom' 'United States' 'Uruguay'\n",
            " 'Uzbekistan']\n",
            "***************************************************************************\n",
            "year\n",
            "[1987. 1988. 1989. 1992. 1993. 1994. 1995. 1996. 1997. 1998. 1999. 2000.\n",
            " 2001. 2002. 2003. 2004. 2005. 2006. 2007. 2008. 2009. 2010. 1985. 1986.\n",
            " 1990. 1991. 2012. 2013. 2014. 2015. 2011. 2016.]\n",
            "***************************************************************************\n",
            "sex\n",
            "['male' 'female']\n",
            "***************************************************************************\n",
            "age\n",
            "[nan '75+ years' '25-34 years' '5-14 years' '15-24 years' '55-74 years'\n",
            " '35-54 years']\n",
            "***************************************************************************\n",
            "suicides_no\n",
            "[  21   16    1 ... 4359 4053 2872]\n",
            "***************************************************************************\n",
            "population\n",
            "['312900.0' '308000.0' nan ... '348465.0' '2762158.0' '1438935.0']\n",
            "***************************************************************************\n",
            "suicides/100k pop\n",
            "[ 6.71  5.19  4.59 ... 73.42 40.75 26.61]\n",
            "***************************************************************************\n"
          ]
        }
      ]
    },
    {
      "cell_type": "code",
      "source": [
        "df[df['population'] == '?']"
      ],
      "metadata": {
        "colab": {
          "base_uri": "https://localhost:8080/",
          "height": 423
        },
        "id": "HTAMJUP6RZcR",
        "outputId": "bd08ffce-316f-4ded-f01b-482000078611"
      },
      "execution_count": 445,
      "outputs": [
        {
          "output_type": "execute_result",
          "data": {
            "text/plain": [
              "          id  HDI for year  gdp_for_year ($)   gdp_per_capita ($)  \\\n",
              "5          8           NaN      2,156,624,900               796.0   \n",
              "23        32           NaN      2,335,124,988                 NaN   \n",
              "33        43           NaN        709,452,584               251.0   \n",
              "34        44           NaN        709,452,584                 NaN   \n",
              "44        55           NaN      1,228,071,038               437.0   \n",
              "...      ...           ...                ...                 ...   \n",
              "22774  27759           NaN     33,689,223,673              1332.0   \n",
              "22779  27767         0.655     39,332,770,929              1533.0   \n",
              "22780  27768         0.655     39,332,770,929                 NaN   \n",
              "22797  27793         0.668     51,821,573,338              1964.0   \n",
              "22809  27809         0.675     63,067,077,179              2309.0   \n",
              "\n",
              "         generation     country    year     sex          age  suicides_no  \\\n",
              "5           Boomers     Albania  1987.0  female  25-34 years            4   \n",
              "23          Boomers     Albania  1989.0  female  25-34 years            2   \n",
              "33          Boomers     Albania  1992.0  female          NaN            2   \n",
              "34           Silent     Albania  1992.0  female  55-74 years            1   \n",
              "44          Boomers     Albania  1993.0  female  25-34 years            7   \n",
              "...             ...         ...     ...     ...          ...          ...   \n",
              "22774  Generation Z  Uzbekistan  2009.0    male   5-14 years           37   \n",
              "22779  Generation X  Uzbekistan  2010.0  female  25-34 years           93   \n",
              "22780  Generation X  Uzbekistan  2010.0  female  35-54 years          101   \n",
              "22797  Generation Z  Uzbekistan  2012.0    male   5-14 years           67   \n",
              "22809  Generation X  Uzbekistan  2014.0    male          NaN          519   \n",
              "\n",
              "      population  suicides/100k pop  \n",
              "5              ?               1.56  \n",
              "23             ?               0.75  \n",
              "33             ?               0.62  \n",
              "34             ?               0.61  \n",
              "44             ?               2.67  \n",
              "...          ...                ...  \n",
              "22774          ?               1.32  \n",
              "22779          ?               3.89  \n",
              "22780          ?               3.02  \n",
              "22797          ?               2.48  \n",
              "22809          ?              15.17  \n",
              "\n",
              "[1637 rows x 12 columns]"
            ],
            "text/html": [
              "\n",
              "  <div id=\"df-e44406e2-be1c-4e87-b79a-57a08b5a7f45\">\n",
              "    <div class=\"colab-df-container\">\n",
              "      <div>\n",
              "<style scoped>\n",
              "    .dataframe tbody tr th:only-of-type {\n",
              "        vertical-align: middle;\n",
              "    }\n",
              "\n",
              "    .dataframe tbody tr th {\n",
              "        vertical-align: top;\n",
              "    }\n",
              "\n",
              "    .dataframe thead th {\n",
              "        text-align: right;\n",
              "    }\n",
              "</style>\n",
              "<table border=\"1\" class=\"dataframe\">\n",
              "  <thead>\n",
              "    <tr style=\"text-align: right;\">\n",
              "      <th></th>\n",
              "      <th>id</th>\n",
              "      <th>HDI for year</th>\n",
              "      <th>gdp_for_year ($)</th>\n",
              "      <th>gdp_per_capita ($)</th>\n",
              "      <th>generation</th>\n",
              "      <th>country</th>\n",
              "      <th>year</th>\n",
              "      <th>sex</th>\n",
              "      <th>age</th>\n",
              "      <th>suicides_no</th>\n",
              "      <th>population</th>\n",
              "      <th>suicides/100k pop</th>\n",
              "    </tr>\n",
              "  </thead>\n",
              "  <tbody>\n",
              "    <tr>\n",
              "      <th>5</th>\n",
              "      <td>8</td>\n",
              "      <td>NaN</td>\n",
              "      <td>2,156,624,900</td>\n",
              "      <td>796.0</td>\n",
              "      <td>Boomers</td>\n",
              "      <td>Albania</td>\n",
              "      <td>1987.0</td>\n",
              "      <td>female</td>\n",
              "      <td>25-34 years</td>\n",
              "      <td>4</td>\n",
              "      <td>?</td>\n",
              "      <td>1.56</td>\n",
              "    </tr>\n",
              "    <tr>\n",
              "      <th>23</th>\n",
              "      <td>32</td>\n",
              "      <td>NaN</td>\n",
              "      <td>2,335,124,988</td>\n",
              "      <td>NaN</td>\n",
              "      <td>Boomers</td>\n",
              "      <td>Albania</td>\n",
              "      <td>1989.0</td>\n",
              "      <td>female</td>\n",
              "      <td>25-34 years</td>\n",
              "      <td>2</td>\n",
              "      <td>?</td>\n",
              "      <td>0.75</td>\n",
              "    </tr>\n",
              "    <tr>\n",
              "      <th>33</th>\n",
              "      <td>43</td>\n",
              "      <td>NaN</td>\n",
              "      <td>709,452,584</td>\n",
              "      <td>251.0</td>\n",
              "      <td>Boomers</td>\n",
              "      <td>Albania</td>\n",
              "      <td>1992.0</td>\n",
              "      <td>female</td>\n",
              "      <td>NaN</td>\n",
              "      <td>2</td>\n",
              "      <td>?</td>\n",
              "      <td>0.62</td>\n",
              "    </tr>\n",
              "    <tr>\n",
              "      <th>34</th>\n",
              "      <td>44</td>\n",
              "      <td>NaN</td>\n",
              "      <td>709,452,584</td>\n",
              "      <td>NaN</td>\n",
              "      <td>Silent</td>\n",
              "      <td>Albania</td>\n",
              "      <td>1992.0</td>\n",
              "      <td>female</td>\n",
              "      <td>55-74 years</td>\n",
              "      <td>1</td>\n",
              "      <td>?</td>\n",
              "      <td>0.61</td>\n",
              "    </tr>\n",
              "    <tr>\n",
              "      <th>44</th>\n",
              "      <td>55</td>\n",
              "      <td>NaN</td>\n",
              "      <td>1,228,071,038</td>\n",
              "      <td>437.0</td>\n",
              "      <td>Boomers</td>\n",
              "      <td>Albania</td>\n",
              "      <td>1993.0</td>\n",
              "      <td>female</td>\n",
              "      <td>25-34 years</td>\n",
              "      <td>7</td>\n",
              "      <td>?</td>\n",
              "      <td>2.67</td>\n",
              "    </tr>\n",
              "    <tr>\n",
              "      <th>...</th>\n",
              "      <td>...</td>\n",
              "      <td>...</td>\n",
              "      <td>...</td>\n",
              "      <td>...</td>\n",
              "      <td>...</td>\n",
              "      <td>...</td>\n",
              "      <td>...</td>\n",
              "      <td>...</td>\n",
              "      <td>...</td>\n",
              "      <td>...</td>\n",
              "      <td>...</td>\n",
              "      <td>...</td>\n",
              "    </tr>\n",
              "    <tr>\n",
              "      <th>22774</th>\n",
              "      <td>27759</td>\n",
              "      <td>NaN</td>\n",
              "      <td>33,689,223,673</td>\n",
              "      <td>1332.0</td>\n",
              "      <td>Generation Z</td>\n",
              "      <td>Uzbekistan</td>\n",
              "      <td>2009.0</td>\n",
              "      <td>male</td>\n",
              "      <td>5-14 years</td>\n",
              "      <td>37</td>\n",
              "      <td>?</td>\n",
              "      <td>1.32</td>\n",
              "    </tr>\n",
              "    <tr>\n",
              "      <th>22779</th>\n",
              "      <td>27767</td>\n",
              "      <td>0.655</td>\n",
              "      <td>39,332,770,929</td>\n",
              "      <td>1533.0</td>\n",
              "      <td>Generation X</td>\n",
              "      <td>Uzbekistan</td>\n",
              "      <td>2010.0</td>\n",
              "      <td>female</td>\n",
              "      <td>25-34 years</td>\n",
              "      <td>93</td>\n",
              "      <td>?</td>\n",
              "      <td>3.89</td>\n",
              "    </tr>\n",
              "    <tr>\n",
              "      <th>22780</th>\n",
              "      <td>27768</td>\n",
              "      <td>0.655</td>\n",
              "      <td>39,332,770,929</td>\n",
              "      <td>NaN</td>\n",
              "      <td>Generation X</td>\n",
              "      <td>Uzbekistan</td>\n",
              "      <td>2010.0</td>\n",
              "      <td>female</td>\n",
              "      <td>35-54 years</td>\n",
              "      <td>101</td>\n",
              "      <td>?</td>\n",
              "      <td>3.02</td>\n",
              "    </tr>\n",
              "    <tr>\n",
              "      <th>22797</th>\n",
              "      <td>27793</td>\n",
              "      <td>0.668</td>\n",
              "      <td>51,821,573,338</td>\n",
              "      <td>1964.0</td>\n",
              "      <td>Generation Z</td>\n",
              "      <td>Uzbekistan</td>\n",
              "      <td>2012.0</td>\n",
              "      <td>male</td>\n",
              "      <td>5-14 years</td>\n",
              "      <td>67</td>\n",
              "      <td>?</td>\n",
              "      <td>2.48</td>\n",
              "    </tr>\n",
              "    <tr>\n",
              "      <th>22809</th>\n",
              "      <td>27809</td>\n",
              "      <td>0.675</td>\n",
              "      <td>63,067,077,179</td>\n",
              "      <td>2309.0</td>\n",
              "      <td>Generation X</td>\n",
              "      <td>Uzbekistan</td>\n",
              "      <td>2014.0</td>\n",
              "      <td>male</td>\n",
              "      <td>NaN</td>\n",
              "      <td>519</td>\n",
              "      <td>?</td>\n",
              "      <td>15.17</td>\n",
              "    </tr>\n",
              "  </tbody>\n",
              "</table>\n",
              "<p>1637 rows × 12 columns</p>\n",
              "</div>\n",
              "      <button class=\"colab-df-convert\" onclick=\"convertToInteractive('df-e44406e2-be1c-4e87-b79a-57a08b5a7f45')\"\n",
              "              title=\"Convert this dataframe to an interactive table.\"\n",
              "              style=\"display:none;\">\n",
              "        \n",
              "  <svg xmlns=\"http://www.w3.org/2000/svg\" height=\"24px\"viewBox=\"0 0 24 24\"\n",
              "       width=\"24px\">\n",
              "    <path d=\"M0 0h24v24H0V0z\" fill=\"none\"/>\n",
              "    <path d=\"M18.56 5.44l.94 2.06.94-2.06 2.06-.94-2.06-.94-.94-2.06-.94 2.06-2.06.94zm-11 1L8.5 8.5l.94-2.06 2.06-.94-2.06-.94L8.5 2.5l-.94 2.06-2.06.94zm10 10l.94 2.06.94-2.06 2.06-.94-2.06-.94-.94-2.06-.94 2.06-2.06.94z\"/><path d=\"M17.41 7.96l-1.37-1.37c-.4-.4-.92-.59-1.43-.59-.52 0-1.04.2-1.43.59L10.3 9.45l-7.72 7.72c-.78.78-.78 2.05 0 2.83L4 21.41c.39.39.9.59 1.41.59.51 0 1.02-.2 1.41-.59l7.78-7.78 2.81-2.81c.8-.78.8-2.07 0-2.86zM5.41 20L4 18.59l7.72-7.72 1.47 1.35L5.41 20z\"/>\n",
              "  </svg>\n",
              "      </button>\n",
              "      \n",
              "  <style>\n",
              "    .colab-df-container {\n",
              "      display:flex;\n",
              "      flex-wrap:wrap;\n",
              "      gap: 12px;\n",
              "    }\n",
              "\n",
              "    .colab-df-convert {\n",
              "      background-color: #E8F0FE;\n",
              "      border: none;\n",
              "      border-radius: 50%;\n",
              "      cursor: pointer;\n",
              "      display: none;\n",
              "      fill: #1967D2;\n",
              "      height: 32px;\n",
              "      padding: 0 0 0 0;\n",
              "      width: 32px;\n",
              "    }\n",
              "\n",
              "    .colab-df-convert:hover {\n",
              "      background-color: #E2EBFA;\n",
              "      box-shadow: 0px 1px 2px rgba(60, 64, 67, 0.3), 0px 1px 3px 1px rgba(60, 64, 67, 0.15);\n",
              "      fill: #174EA6;\n",
              "    }\n",
              "\n",
              "    [theme=dark] .colab-df-convert {\n",
              "      background-color: #3B4455;\n",
              "      fill: #D2E3FC;\n",
              "    }\n",
              "\n",
              "    [theme=dark] .colab-df-convert:hover {\n",
              "      background-color: #434B5C;\n",
              "      box-shadow: 0px 1px 3px 1px rgba(0, 0, 0, 0.15);\n",
              "      filter: drop-shadow(0px 1px 2px rgba(0, 0, 0, 0.3));\n",
              "      fill: #FFFFFF;\n",
              "    }\n",
              "  </style>\n",
              "\n",
              "      <script>\n",
              "        const buttonEl =\n",
              "          document.querySelector('#df-e44406e2-be1c-4e87-b79a-57a08b5a7f45 button.colab-df-convert');\n",
              "        buttonEl.style.display =\n",
              "          google.colab.kernel.accessAllowed ? 'block' : 'none';\n",
              "\n",
              "        async function convertToInteractive(key) {\n",
              "          const element = document.querySelector('#df-e44406e2-be1c-4e87-b79a-57a08b5a7f45');\n",
              "          const dataTable =\n",
              "            await google.colab.kernel.invokeFunction('convertToInteractive',\n",
              "                                                     [key], {});\n",
              "          if (!dataTable) return;\n",
              "\n",
              "          const docLinkHtml = 'Like what you see? Visit the ' +\n",
              "            '<a target=\"_blank\" href=https://colab.research.google.com/notebooks/data_table.ipynb>data table notebook</a>'\n",
              "            + ' to learn more about interactive tables.';\n",
              "          element.innerHTML = '';\n",
              "          dataTable['output_type'] = 'display_data';\n",
              "          await google.colab.output.renderOutput(dataTable, element);\n",
              "          const docLink = document.createElement('div');\n",
              "          docLink.innerHTML = docLinkHtml;\n",
              "          element.appendChild(docLink);\n",
              "        }\n",
              "      </script>\n",
              "    </div>\n",
              "  </div>\n",
              "  "
            ]
          },
          "metadata": {},
          "execution_count": 445
        }
      ]
    },
    {
      "cell_type": "code",
      "source": [
        "# Replacing '-' with null\n",
        "df['population'].replace({'?':np.nan}, inplace = True)\n",
        "# Converting Levy type to float\n",
        "df['population'] = df['population'].astype('float64')"
      ],
      "metadata": {
        "id": "cevubeMVRvcX"
      },
      "execution_count": 446,
      "outputs": []
    },
    {
      "cell_type": "code",
      "source": [
        "df.isnull().sum()"
      ],
      "metadata": {
        "colab": {
          "base_uri": "https://localhost:8080/"
        },
        "id": "qqgjvq_gR8gc",
        "outputId": "3facddeb-d9cb-4dfe-cbc0-e32a280570c0"
      },
      "execution_count": 447,
      "outputs": [
        {
          "output_type": "execute_result",
          "data": {
            "text/plain": [
              "id                        0\n",
              "HDI for year          15895\n",
              " gdp_for_year ($)         0\n",
              "gdp_per_capita ($)     3274\n",
              "generation                0\n",
              "country                   0\n",
              "year                      0\n",
              "sex                       0\n",
              "age                    3293\n",
              "suicides_no               0\n",
              "population             5415\n",
              "suicides/100k pop         0\n",
              "dtype: int64"
            ]
          },
          "metadata": {},
          "execution_count": 447
        }
      ]
    },
    {
      "cell_type": "code",
      "source": [
        "df['age'].value_counts()"
      ],
      "metadata": {
        "colab": {
          "base_uri": "https://localhost:8080/"
        },
        "id": "geoQDnImYS7G",
        "outputId": "659f23d7-a0df-46e3-fae8-0a06e1398569"
      },
      "execution_count": 448,
      "outputs": [
        {
          "output_type": "execute_result",
          "data": {
            "text/plain": [
              "75+ years      3326\n",
              "5-14 years     3266\n",
              "35-54 years    3257\n",
              "55-74 years    3256\n",
              "15-24 years    3225\n",
              "25-34 years    3197\n",
              "Name: age, dtype: int64"
            ]
          },
          "metadata": {},
          "execution_count": 448
        }
      ]
    },
    {
      "cell_type": "code",
      "source": [
        "#df['age']=df['age'].map(lambda x: str(x).strip().split(\" \")[0])"
      ],
      "metadata": {
        "id": "Y3ml4h3HUem8"
      },
      "execution_count": 449,
      "outputs": []
    },
    {
      "cell_type": "code",
      "source": [
        "df"
      ],
      "metadata": {
        "colab": {
          "base_uri": "https://localhost:8080/",
          "height": 423
        },
        "id": "W1PyNQ5OVNTv",
        "outputId": "09685fdd-b1fb-4296-9208-d7d33612c042"
      },
      "execution_count": 450,
      "outputs": [
        {
          "output_type": "execute_result",
          "data": {
            "text/plain": [
              "          id  HDI for year  gdp_for_year ($)   gdp_per_capita ($)  \\\n",
              "0          1           NaN      2,156,624,900               796.0   \n",
              "1          2           NaN      2,156,624,900                 NaN   \n",
              "2          4           NaN      2,156,624,900               796.0   \n",
              "3          5           NaN      2,156,624,900               796.0   \n",
              "4          6           NaN      2,156,624,900               796.0   \n",
              "...      ...           ...                ...                 ...   \n",
              "22815  27816         0.675     63,067,077,179              2309.0   \n",
              "22816  27817         0.675     63,067,077,179              2309.0   \n",
              "22817  27818         0.675     63,067,077,179              2309.0   \n",
              "22818  27819         0.675     63,067,077,179                 NaN   \n",
              "22819  27820         0.675     63,067,077,179                 NaN   \n",
              "\n",
              "            generation     country    year     sex          age  suicides_no  \\\n",
              "0         Generation X     Albania  1987.0    male          NaN           21   \n",
              "1               Silent     Albania  1987.0    male          NaN           16   \n",
              "2      G.I. Generation     Albania  1987.0    male    75+ years            1   \n",
              "3              Boomers     Albania  1987.0    male  25-34 years            9   \n",
              "4      G.I. Generation     Albania  1987.0  female    75+ years            1   \n",
              "...                ...         ...     ...     ...          ...          ...   \n",
              "22815     Generation X  Uzbekistan  2014.0  female  35-54 years          107   \n",
              "22816           Silent  Uzbekistan  2014.0  female          NaN            9   \n",
              "22817     Generation Z  Uzbekistan  2014.0    male   5-14 years           60   \n",
              "22818     Generation Z  Uzbekistan  2014.0  female          NaN           44   \n",
              "22819          Boomers  Uzbekistan  2014.0  female          NaN           21   \n",
              "\n",
              "       population  suicides/100k pop  \n",
              "0        312900.0               6.71  \n",
              "1        308000.0               5.19  \n",
              "2             NaN               4.59  \n",
              "3        274300.0               3.28  \n",
              "4         35600.0               2.81  \n",
              "...           ...                ...  \n",
              "22815   3620833.0               2.96  \n",
              "22816    348465.0               2.58  \n",
              "22817   2762158.0               2.17  \n",
              "22818         NaN               1.67  \n",
              "22819   1438935.0               1.46  \n",
              "\n",
              "[22820 rows x 12 columns]"
            ],
            "text/html": [
              "\n",
              "  <div id=\"df-cdbd6487-a7c9-4375-8a58-0a78f671fb3c\">\n",
              "    <div class=\"colab-df-container\">\n",
              "      <div>\n",
              "<style scoped>\n",
              "    .dataframe tbody tr th:only-of-type {\n",
              "        vertical-align: middle;\n",
              "    }\n",
              "\n",
              "    .dataframe tbody tr th {\n",
              "        vertical-align: top;\n",
              "    }\n",
              "\n",
              "    .dataframe thead th {\n",
              "        text-align: right;\n",
              "    }\n",
              "</style>\n",
              "<table border=\"1\" class=\"dataframe\">\n",
              "  <thead>\n",
              "    <tr style=\"text-align: right;\">\n",
              "      <th></th>\n",
              "      <th>id</th>\n",
              "      <th>HDI for year</th>\n",
              "      <th>gdp_for_year ($)</th>\n",
              "      <th>gdp_per_capita ($)</th>\n",
              "      <th>generation</th>\n",
              "      <th>country</th>\n",
              "      <th>year</th>\n",
              "      <th>sex</th>\n",
              "      <th>age</th>\n",
              "      <th>suicides_no</th>\n",
              "      <th>population</th>\n",
              "      <th>suicides/100k pop</th>\n",
              "    </tr>\n",
              "  </thead>\n",
              "  <tbody>\n",
              "    <tr>\n",
              "      <th>0</th>\n",
              "      <td>1</td>\n",
              "      <td>NaN</td>\n",
              "      <td>2,156,624,900</td>\n",
              "      <td>796.0</td>\n",
              "      <td>Generation X</td>\n",
              "      <td>Albania</td>\n",
              "      <td>1987.0</td>\n",
              "      <td>male</td>\n",
              "      <td>NaN</td>\n",
              "      <td>21</td>\n",
              "      <td>312900.0</td>\n",
              "      <td>6.71</td>\n",
              "    </tr>\n",
              "    <tr>\n",
              "      <th>1</th>\n",
              "      <td>2</td>\n",
              "      <td>NaN</td>\n",
              "      <td>2,156,624,900</td>\n",
              "      <td>NaN</td>\n",
              "      <td>Silent</td>\n",
              "      <td>Albania</td>\n",
              "      <td>1987.0</td>\n",
              "      <td>male</td>\n",
              "      <td>NaN</td>\n",
              "      <td>16</td>\n",
              "      <td>308000.0</td>\n",
              "      <td>5.19</td>\n",
              "    </tr>\n",
              "    <tr>\n",
              "      <th>2</th>\n",
              "      <td>4</td>\n",
              "      <td>NaN</td>\n",
              "      <td>2,156,624,900</td>\n",
              "      <td>796.0</td>\n",
              "      <td>G.I. Generation</td>\n",
              "      <td>Albania</td>\n",
              "      <td>1987.0</td>\n",
              "      <td>male</td>\n",
              "      <td>75+ years</td>\n",
              "      <td>1</td>\n",
              "      <td>NaN</td>\n",
              "      <td>4.59</td>\n",
              "    </tr>\n",
              "    <tr>\n",
              "      <th>3</th>\n",
              "      <td>5</td>\n",
              "      <td>NaN</td>\n",
              "      <td>2,156,624,900</td>\n",
              "      <td>796.0</td>\n",
              "      <td>Boomers</td>\n",
              "      <td>Albania</td>\n",
              "      <td>1987.0</td>\n",
              "      <td>male</td>\n",
              "      <td>25-34 years</td>\n",
              "      <td>9</td>\n",
              "      <td>274300.0</td>\n",
              "      <td>3.28</td>\n",
              "    </tr>\n",
              "    <tr>\n",
              "      <th>4</th>\n",
              "      <td>6</td>\n",
              "      <td>NaN</td>\n",
              "      <td>2,156,624,900</td>\n",
              "      <td>796.0</td>\n",
              "      <td>G.I. Generation</td>\n",
              "      <td>Albania</td>\n",
              "      <td>1987.0</td>\n",
              "      <td>female</td>\n",
              "      <td>75+ years</td>\n",
              "      <td>1</td>\n",
              "      <td>35600.0</td>\n",
              "      <td>2.81</td>\n",
              "    </tr>\n",
              "    <tr>\n",
              "      <th>...</th>\n",
              "      <td>...</td>\n",
              "      <td>...</td>\n",
              "      <td>...</td>\n",
              "      <td>...</td>\n",
              "      <td>...</td>\n",
              "      <td>...</td>\n",
              "      <td>...</td>\n",
              "      <td>...</td>\n",
              "      <td>...</td>\n",
              "      <td>...</td>\n",
              "      <td>...</td>\n",
              "      <td>...</td>\n",
              "    </tr>\n",
              "    <tr>\n",
              "      <th>22815</th>\n",
              "      <td>27816</td>\n",
              "      <td>0.675</td>\n",
              "      <td>63,067,077,179</td>\n",
              "      <td>2309.0</td>\n",
              "      <td>Generation X</td>\n",
              "      <td>Uzbekistan</td>\n",
              "      <td>2014.0</td>\n",
              "      <td>female</td>\n",
              "      <td>35-54 years</td>\n",
              "      <td>107</td>\n",
              "      <td>3620833.0</td>\n",
              "      <td>2.96</td>\n",
              "    </tr>\n",
              "    <tr>\n",
              "      <th>22816</th>\n",
              "      <td>27817</td>\n",
              "      <td>0.675</td>\n",
              "      <td>63,067,077,179</td>\n",
              "      <td>2309.0</td>\n",
              "      <td>Silent</td>\n",
              "      <td>Uzbekistan</td>\n",
              "      <td>2014.0</td>\n",
              "      <td>female</td>\n",
              "      <td>NaN</td>\n",
              "      <td>9</td>\n",
              "      <td>348465.0</td>\n",
              "      <td>2.58</td>\n",
              "    </tr>\n",
              "    <tr>\n",
              "      <th>22817</th>\n",
              "      <td>27818</td>\n",
              "      <td>0.675</td>\n",
              "      <td>63,067,077,179</td>\n",
              "      <td>2309.0</td>\n",
              "      <td>Generation Z</td>\n",
              "      <td>Uzbekistan</td>\n",
              "      <td>2014.0</td>\n",
              "      <td>male</td>\n",
              "      <td>5-14 years</td>\n",
              "      <td>60</td>\n",
              "      <td>2762158.0</td>\n",
              "      <td>2.17</td>\n",
              "    </tr>\n",
              "    <tr>\n",
              "      <th>22818</th>\n",
              "      <td>27819</td>\n",
              "      <td>0.675</td>\n",
              "      <td>63,067,077,179</td>\n",
              "      <td>NaN</td>\n",
              "      <td>Generation Z</td>\n",
              "      <td>Uzbekistan</td>\n",
              "      <td>2014.0</td>\n",
              "      <td>female</td>\n",
              "      <td>NaN</td>\n",
              "      <td>44</td>\n",
              "      <td>NaN</td>\n",
              "      <td>1.67</td>\n",
              "    </tr>\n",
              "    <tr>\n",
              "      <th>22819</th>\n",
              "      <td>27820</td>\n",
              "      <td>0.675</td>\n",
              "      <td>63,067,077,179</td>\n",
              "      <td>NaN</td>\n",
              "      <td>Boomers</td>\n",
              "      <td>Uzbekistan</td>\n",
              "      <td>2014.0</td>\n",
              "      <td>female</td>\n",
              "      <td>NaN</td>\n",
              "      <td>21</td>\n",
              "      <td>1438935.0</td>\n",
              "      <td>1.46</td>\n",
              "    </tr>\n",
              "  </tbody>\n",
              "</table>\n",
              "<p>22820 rows × 12 columns</p>\n",
              "</div>\n",
              "      <button class=\"colab-df-convert\" onclick=\"convertToInteractive('df-cdbd6487-a7c9-4375-8a58-0a78f671fb3c')\"\n",
              "              title=\"Convert this dataframe to an interactive table.\"\n",
              "              style=\"display:none;\">\n",
              "        \n",
              "  <svg xmlns=\"http://www.w3.org/2000/svg\" height=\"24px\"viewBox=\"0 0 24 24\"\n",
              "       width=\"24px\">\n",
              "    <path d=\"M0 0h24v24H0V0z\" fill=\"none\"/>\n",
              "    <path d=\"M18.56 5.44l.94 2.06.94-2.06 2.06-.94-2.06-.94-.94-2.06-.94 2.06-2.06.94zm-11 1L8.5 8.5l.94-2.06 2.06-.94-2.06-.94L8.5 2.5l-.94 2.06-2.06.94zm10 10l.94 2.06.94-2.06 2.06-.94-2.06-.94-.94-2.06-.94 2.06-2.06.94z\"/><path d=\"M17.41 7.96l-1.37-1.37c-.4-.4-.92-.59-1.43-.59-.52 0-1.04.2-1.43.59L10.3 9.45l-7.72 7.72c-.78.78-.78 2.05 0 2.83L4 21.41c.39.39.9.59 1.41.59.51 0 1.02-.2 1.41-.59l7.78-7.78 2.81-2.81c.8-.78.8-2.07 0-2.86zM5.41 20L4 18.59l7.72-7.72 1.47 1.35L5.41 20z\"/>\n",
              "  </svg>\n",
              "      </button>\n",
              "      \n",
              "  <style>\n",
              "    .colab-df-container {\n",
              "      display:flex;\n",
              "      flex-wrap:wrap;\n",
              "      gap: 12px;\n",
              "    }\n",
              "\n",
              "    .colab-df-convert {\n",
              "      background-color: #E8F0FE;\n",
              "      border: none;\n",
              "      border-radius: 50%;\n",
              "      cursor: pointer;\n",
              "      display: none;\n",
              "      fill: #1967D2;\n",
              "      height: 32px;\n",
              "      padding: 0 0 0 0;\n",
              "      width: 32px;\n",
              "    }\n",
              "\n",
              "    .colab-df-convert:hover {\n",
              "      background-color: #E2EBFA;\n",
              "      box-shadow: 0px 1px 2px rgba(60, 64, 67, 0.3), 0px 1px 3px 1px rgba(60, 64, 67, 0.15);\n",
              "      fill: #174EA6;\n",
              "    }\n",
              "\n",
              "    [theme=dark] .colab-df-convert {\n",
              "      background-color: #3B4455;\n",
              "      fill: #D2E3FC;\n",
              "    }\n",
              "\n",
              "    [theme=dark] .colab-df-convert:hover {\n",
              "      background-color: #434B5C;\n",
              "      box-shadow: 0px 1px 3px 1px rgba(0, 0, 0, 0.15);\n",
              "      filter: drop-shadow(0px 1px 2px rgba(0, 0, 0, 0.3));\n",
              "      fill: #FFFFFF;\n",
              "    }\n",
              "  </style>\n",
              "\n",
              "      <script>\n",
              "        const buttonEl =\n",
              "          document.querySelector('#df-cdbd6487-a7c9-4375-8a58-0a78f671fb3c button.colab-df-convert');\n",
              "        buttonEl.style.display =\n",
              "          google.colab.kernel.accessAllowed ? 'block' : 'none';\n",
              "\n",
              "        async function convertToInteractive(key) {\n",
              "          const element = document.querySelector('#df-cdbd6487-a7c9-4375-8a58-0a78f671fb3c');\n",
              "          const dataTable =\n",
              "            await google.colab.kernel.invokeFunction('convertToInteractive',\n",
              "                                                     [key], {});\n",
              "          if (!dataTable) return;\n",
              "\n",
              "          const docLinkHtml = 'Like what you see? Visit the ' +\n",
              "            '<a target=\"_blank\" href=https://colab.research.google.com/notebooks/data_table.ipynb>data table notebook</a>'\n",
              "            + ' to learn more about interactive tables.';\n",
              "          element.innerHTML = '';\n",
              "          dataTable['output_type'] = 'display_data';\n",
              "          await google.colab.output.renderOutput(dataTable, element);\n",
              "          const docLink = document.createElement('div');\n",
              "          docLink.innerHTML = docLinkHtml;\n",
              "          element.appendChild(docLink);\n",
              "        }\n",
              "      </script>\n",
              "    </div>\n",
              "  </div>\n",
              "  "
            ]
          },
          "metadata": {},
          "execution_count": 450
        }
      ]
    },
    {
      "cell_type": "code",
      "source": [
        "df.isnull().sum()"
      ],
      "metadata": {
        "colab": {
          "base_uri": "https://localhost:8080/"
        },
        "id": "_SqdlpPFVfaE",
        "outputId": "58854f93-dd1c-4619-8205-fa5462cb3cc8"
      },
      "execution_count": 451,
      "outputs": [
        {
          "output_type": "execute_result",
          "data": {
            "text/plain": [
              "id                        0\n",
              "HDI for year          15895\n",
              " gdp_for_year ($)         0\n",
              "gdp_per_capita ($)     3274\n",
              "generation                0\n",
              "country                   0\n",
              "year                      0\n",
              "sex                       0\n",
              "age                    3293\n",
              "suicides_no               0\n",
              "population             5415\n",
              "suicides/100k pop         0\n",
              "dtype: int64"
            ]
          },
          "metadata": {},
          "execution_count": 451
        }
      ]
    },
    {
      "cell_type": "code",
      "source": [
        "#df['population'].fillna(value=df['population'].median(), inplace=True)"
      ],
      "metadata": {
        "id": "Yz-sutrUVjus"
      },
      "execution_count": 452,
      "outputs": []
    },
    {
      "cell_type": "code",
      "source": [
        "#df['gdp_per_capita ($)'].fillna(value=df['gdp_per_capita ($)'].median(), inplace=True)"
      ],
      "metadata": {
        "id": "eTCEv--beB4Y"
      },
      "execution_count": 453,
      "outputs": []
    },
    {
      "cell_type": "code",
      "source": [
        "df.isnull().sum()"
      ],
      "metadata": {
        "colab": {
          "base_uri": "https://localhost:8080/"
        },
        "id": "XdkXMI_TXPJE",
        "outputId": "c9f0e46f-5ae3-475e-cb5f-b4ce3f4d48a3"
      },
      "execution_count": 454,
      "outputs": [
        {
          "output_type": "execute_result",
          "data": {
            "text/plain": [
              "id                        0\n",
              "HDI for year          15895\n",
              " gdp_for_year ($)         0\n",
              "gdp_per_capita ($)     3274\n",
              "generation                0\n",
              "country                   0\n",
              "year                      0\n",
              "sex                       0\n",
              "age                    3293\n",
              "suicides_no               0\n",
              "population             5415\n",
              "suicides/100k pop         0\n",
              "dtype: int64"
            ]
          },
          "metadata": {},
          "execution_count": 454
        }
      ]
    },
    {
      "cell_type": "code",
      "source": [
        "df.describe()"
      ],
      "metadata": {
        "colab": {
          "base_uri": "https://localhost:8080/",
          "height": 300
        },
        "id": "5MuDKrDVeMmm",
        "outputId": "2467a79c-8a8f-491e-aeac-82562c6156a7"
      },
      "execution_count": 455,
      "outputs": [
        {
          "output_type": "execute_result",
          "data": {
            "text/plain": [
              "                 id  HDI for year  gdp_per_capita ($)          year  \\\n",
              "count  22820.000000   6925.000000        19546.000000  22820.000000   \n",
              "mean   13891.571911      0.776149        16848.077202   2001.248861   \n",
              "std     8024.991391      0.093598        19078.307924      8.480176   \n",
              "min        1.000000      0.483000          251.000000   1985.000000   \n",
              "25%     6920.500000      0.713000         3447.000000   1994.000000   \n",
              "50%    13906.500000      0.779000         9176.000000   2002.000000   \n",
              "75%    20813.250000      0.855000        24718.000000   2008.000000   \n",
              "max    27820.000000      0.944000       126352.000000   2016.000000   \n",
              "\n",
              "        suicides_no    population  suicides/100k pop  \n",
              "count  22820.000000  1.740500e+04       22820.000000  \n",
              "mean     237.946188  1.840699e+06          12.746376  \n",
              "std      874.043851  3.881005e+06          18.824848  \n",
              "min        0.000000  2.780000e+02           0.000000  \n",
              "25%        2.000000  9.685000e+04           0.900000  \n",
              "50%       25.000000  4.341300e+05           5.930000  \n",
              "75%      130.000000  1.494867e+06          16.542500  \n",
              "max    22338.000000  4.360790e+07         224.970000  "
            ],
            "text/html": [
              "\n",
              "  <div id=\"df-21273d08-28b0-4af5-9768-5d63cc5be343\">\n",
              "    <div class=\"colab-df-container\">\n",
              "      <div>\n",
              "<style scoped>\n",
              "    .dataframe tbody tr th:only-of-type {\n",
              "        vertical-align: middle;\n",
              "    }\n",
              "\n",
              "    .dataframe tbody tr th {\n",
              "        vertical-align: top;\n",
              "    }\n",
              "\n",
              "    .dataframe thead th {\n",
              "        text-align: right;\n",
              "    }\n",
              "</style>\n",
              "<table border=\"1\" class=\"dataframe\">\n",
              "  <thead>\n",
              "    <tr style=\"text-align: right;\">\n",
              "      <th></th>\n",
              "      <th>id</th>\n",
              "      <th>HDI for year</th>\n",
              "      <th>gdp_per_capita ($)</th>\n",
              "      <th>year</th>\n",
              "      <th>suicides_no</th>\n",
              "      <th>population</th>\n",
              "      <th>suicides/100k pop</th>\n",
              "    </tr>\n",
              "  </thead>\n",
              "  <tbody>\n",
              "    <tr>\n",
              "      <th>count</th>\n",
              "      <td>22820.000000</td>\n",
              "      <td>6925.000000</td>\n",
              "      <td>19546.000000</td>\n",
              "      <td>22820.000000</td>\n",
              "      <td>22820.000000</td>\n",
              "      <td>1.740500e+04</td>\n",
              "      <td>22820.000000</td>\n",
              "    </tr>\n",
              "    <tr>\n",
              "      <th>mean</th>\n",
              "      <td>13891.571911</td>\n",
              "      <td>0.776149</td>\n",
              "      <td>16848.077202</td>\n",
              "      <td>2001.248861</td>\n",
              "      <td>237.946188</td>\n",
              "      <td>1.840699e+06</td>\n",
              "      <td>12.746376</td>\n",
              "    </tr>\n",
              "    <tr>\n",
              "      <th>std</th>\n",
              "      <td>8024.991391</td>\n",
              "      <td>0.093598</td>\n",
              "      <td>19078.307924</td>\n",
              "      <td>8.480176</td>\n",
              "      <td>874.043851</td>\n",
              "      <td>3.881005e+06</td>\n",
              "      <td>18.824848</td>\n",
              "    </tr>\n",
              "    <tr>\n",
              "      <th>min</th>\n",
              "      <td>1.000000</td>\n",
              "      <td>0.483000</td>\n",
              "      <td>251.000000</td>\n",
              "      <td>1985.000000</td>\n",
              "      <td>0.000000</td>\n",
              "      <td>2.780000e+02</td>\n",
              "      <td>0.000000</td>\n",
              "    </tr>\n",
              "    <tr>\n",
              "      <th>25%</th>\n",
              "      <td>6920.500000</td>\n",
              "      <td>0.713000</td>\n",
              "      <td>3447.000000</td>\n",
              "      <td>1994.000000</td>\n",
              "      <td>2.000000</td>\n",
              "      <td>9.685000e+04</td>\n",
              "      <td>0.900000</td>\n",
              "    </tr>\n",
              "    <tr>\n",
              "      <th>50%</th>\n",
              "      <td>13906.500000</td>\n",
              "      <td>0.779000</td>\n",
              "      <td>9176.000000</td>\n",
              "      <td>2002.000000</td>\n",
              "      <td>25.000000</td>\n",
              "      <td>4.341300e+05</td>\n",
              "      <td>5.930000</td>\n",
              "    </tr>\n",
              "    <tr>\n",
              "      <th>75%</th>\n",
              "      <td>20813.250000</td>\n",
              "      <td>0.855000</td>\n",
              "      <td>24718.000000</td>\n",
              "      <td>2008.000000</td>\n",
              "      <td>130.000000</td>\n",
              "      <td>1.494867e+06</td>\n",
              "      <td>16.542500</td>\n",
              "    </tr>\n",
              "    <tr>\n",
              "      <th>max</th>\n",
              "      <td>27820.000000</td>\n",
              "      <td>0.944000</td>\n",
              "      <td>126352.000000</td>\n",
              "      <td>2016.000000</td>\n",
              "      <td>22338.000000</td>\n",
              "      <td>4.360790e+07</td>\n",
              "      <td>224.970000</td>\n",
              "    </tr>\n",
              "  </tbody>\n",
              "</table>\n",
              "</div>\n",
              "      <button class=\"colab-df-convert\" onclick=\"convertToInteractive('df-21273d08-28b0-4af5-9768-5d63cc5be343')\"\n",
              "              title=\"Convert this dataframe to an interactive table.\"\n",
              "              style=\"display:none;\">\n",
              "        \n",
              "  <svg xmlns=\"http://www.w3.org/2000/svg\" height=\"24px\"viewBox=\"0 0 24 24\"\n",
              "       width=\"24px\">\n",
              "    <path d=\"M0 0h24v24H0V0z\" fill=\"none\"/>\n",
              "    <path d=\"M18.56 5.44l.94 2.06.94-2.06 2.06-.94-2.06-.94-.94-2.06-.94 2.06-2.06.94zm-11 1L8.5 8.5l.94-2.06 2.06-.94-2.06-.94L8.5 2.5l-.94 2.06-2.06.94zm10 10l.94 2.06.94-2.06 2.06-.94-2.06-.94-.94-2.06-.94 2.06-2.06.94z\"/><path d=\"M17.41 7.96l-1.37-1.37c-.4-.4-.92-.59-1.43-.59-.52 0-1.04.2-1.43.59L10.3 9.45l-7.72 7.72c-.78.78-.78 2.05 0 2.83L4 21.41c.39.39.9.59 1.41.59.51 0 1.02-.2 1.41-.59l7.78-7.78 2.81-2.81c.8-.78.8-2.07 0-2.86zM5.41 20L4 18.59l7.72-7.72 1.47 1.35L5.41 20z\"/>\n",
              "  </svg>\n",
              "      </button>\n",
              "      \n",
              "  <style>\n",
              "    .colab-df-container {\n",
              "      display:flex;\n",
              "      flex-wrap:wrap;\n",
              "      gap: 12px;\n",
              "    }\n",
              "\n",
              "    .colab-df-convert {\n",
              "      background-color: #E8F0FE;\n",
              "      border: none;\n",
              "      border-radius: 50%;\n",
              "      cursor: pointer;\n",
              "      display: none;\n",
              "      fill: #1967D2;\n",
              "      height: 32px;\n",
              "      padding: 0 0 0 0;\n",
              "      width: 32px;\n",
              "    }\n",
              "\n",
              "    .colab-df-convert:hover {\n",
              "      background-color: #E2EBFA;\n",
              "      box-shadow: 0px 1px 2px rgba(60, 64, 67, 0.3), 0px 1px 3px 1px rgba(60, 64, 67, 0.15);\n",
              "      fill: #174EA6;\n",
              "    }\n",
              "\n",
              "    [theme=dark] .colab-df-convert {\n",
              "      background-color: #3B4455;\n",
              "      fill: #D2E3FC;\n",
              "    }\n",
              "\n",
              "    [theme=dark] .colab-df-convert:hover {\n",
              "      background-color: #434B5C;\n",
              "      box-shadow: 0px 1px 3px 1px rgba(0, 0, 0, 0.15);\n",
              "      filter: drop-shadow(0px 1px 2px rgba(0, 0, 0, 0.3));\n",
              "      fill: #FFFFFF;\n",
              "    }\n",
              "  </style>\n",
              "\n",
              "      <script>\n",
              "        const buttonEl =\n",
              "          document.querySelector('#df-21273d08-28b0-4af5-9768-5d63cc5be343 button.colab-df-convert');\n",
              "        buttonEl.style.display =\n",
              "          google.colab.kernel.accessAllowed ? 'block' : 'none';\n",
              "\n",
              "        async function convertToInteractive(key) {\n",
              "          const element = document.querySelector('#df-21273d08-28b0-4af5-9768-5d63cc5be343');\n",
              "          const dataTable =\n",
              "            await google.colab.kernel.invokeFunction('convertToInteractive',\n",
              "                                                     [key], {});\n",
              "          if (!dataTable) return;\n",
              "\n",
              "          const docLinkHtml = 'Like what you see? Visit the ' +\n",
              "            '<a target=\"_blank\" href=https://colab.research.google.com/notebooks/data_table.ipynb>data table notebook</a>'\n",
              "            + ' to learn more about interactive tables.';\n",
              "          element.innerHTML = '';\n",
              "          dataTable['output_type'] = 'display_data';\n",
              "          await google.colab.output.renderOutput(dataTable, element);\n",
              "          const docLink = document.createElement('div');\n",
              "          docLink.innerHTML = docLinkHtml;\n",
              "          element.appendChild(docLink);\n",
              "        }\n",
              "      </script>\n",
              "    </div>\n",
              "  </div>\n",
              "  "
            ]
          },
          "metadata": {},
          "execution_count": 455
        }
      ]
    },
    {
      "cell_type": "code",
      "source": [
        "df.info()"
      ],
      "metadata": {
        "colab": {
          "base_uri": "https://localhost:8080/"
        },
        "id": "afefZEyvibrU",
        "outputId": "65f6657d-6687-4cf0-ba51-8e69da94e9d8"
      },
      "execution_count": 456,
      "outputs": [
        {
          "output_type": "stream",
          "name": "stdout",
          "text": [
            "<class 'pandas.core.frame.DataFrame'>\n",
            "Int64Index: 22820 entries, 0 to 22819\n",
            "Data columns (total 12 columns):\n",
            " #   Column              Non-Null Count  Dtype  \n",
            "---  ------              --------------  -----  \n",
            " 0   id                  22820 non-null  int64  \n",
            " 1   HDI for year        6925 non-null   float64\n",
            " 2    gdp_for_year ($)   22820 non-null  object \n",
            " 3   gdp_per_capita ($)  19546 non-null  float64\n",
            " 4   generation          22820 non-null  object \n",
            " 5   country             22820 non-null  object \n",
            " 6   year                22820 non-null  float64\n",
            " 7   sex                 22820 non-null  object \n",
            " 8   age                 19527 non-null  object \n",
            " 9   suicides_no         22820 non-null  int64  \n",
            " 10  population          17405 non-null  float64\n",
            " 11  suicides/100k pop   22820 non-null  float64\n",
            "dtypes: float64(5), int64(2), object(5)\n",
            "memory usage: 2.3+ MB\n"
          ]
        }
      ]
    },
    {
      "cell_type": "code",
      "source": [
        "df['year'] = df['year'].astype(int)"
      ],
      "metadata": {
        "id": "S73G_DhNYyYX"
      },
      "execution_count": 457,
      "outputs": []
    },
    {
      "cell_type": "code",
      "source": [
        "df"
      ],
      "metadata": {
        "colab": {
          "base_uri": "https://localhost:8080/",
          "height": 423
        },
        "id": "QNZ_yTEEZJzd",
        "outputId": "093ea3ef-a307-4588-8c4d-444290536bf9"
      },
      "execution_count": 458,
      "outputs": [
        {
          "output_type": "execute_result",
          "data": {
            "text/plain": [
              "          id  HDI for year  gdp_for_year ($)   gdp_per_capita ($)  \\\n",
              "0          1           NaN      2,156,624,900               796.0   \n",
              "1          2           NaN      2,156,624,900                 NaN   \n",
              "2          4           NaN      2,156,624,900               796.0   \n",
              "3          5           NaN      2,156,624,900               796.0   \n",
              "4          6           NaN      2,156,624,900               796.0   \n",
              "...      ...           ...                ...                 ...   \n",
              "22815  27816         0.675     63,067,077,179              2309.0   \n",
              "22816  27817         0.675     63,067,077,179              2309.0   \n",
              "22817  27818         0.675     63,067,077,179              2309.0   \n",
              "22818  27819         0.675     63,067,077,179                 NaN   \n",
              "22819  27820         0.675     63,067,077,179                 NaN   \n",
              "\n",
              "            generation     country  year     sex          age  suicides_no  \\\n",
              "0         Generation X     Albania  1987    male          NaN           21   \n",
              "1               Silent     Albania  1987    male          NaN           16   \n",
              "2      G.I. Generation     Albania  1987    male    75+ years            1   \n",
              "3              Boomers     Albania  1987    male  25-34 years            9   \n",
              "4      G.I. Generation     Albania  1987  female    75+ years            1   \n",
              "...                ...         ...   ...     ...          ...          ...   \n",
              "22815     Generation X  Uzbekistan  2014  female  35-54 years          107   \n",
              "22816           Silent  Uzbekistan  2014  female          NaN            9   \n",
              "22817     Generation Z  Uzbekistan  2014    male   5-14 years           60   \n",
              "22818     Generation Z  Uzbekistan  2014  female          NaN           44   \n",
              "22819          Boomers  Uzbekistan  2014  female          NaN           21   \n",
              "\n",
              "       population  suicides/100k pop  \n",
              "0        312900.0               6.71  \n",
              "1        308000.0               5.19  \n",
              "2             NaN               4.59  \n",
              "3        274300.0               3.28  \n",
              "4         35600.0               2.81  \n",
              "...           ...                ...  \n",
              "22815   3620833.0               2.96  \n",
              "22816    348465.0               2.58  \n",
              "22817   2762158.0               2.17  \n",
              "22818         NaN               1.67  \n",
              "22819   1438935.0               1.46  \n",
              "\n",
              "[22820 rows x 12 columns]"
            ],
            "text/html": [
              "\n",
              "  <div id=\"df-f7c8b6d2-e1a6-4ef5-969c-9ed03266f4a0\">\n",
              "    <div class=\"colab-df-container\">\n",
              "      <div>\n",
              "<style scoped>\n",
              "    .dataframe tbody tr th:only-of-type {\n",
              "        vertical-align: middle;\n",
              "    }\n",
              "\n",
              "    .dataframe tbody tr th {\n",
              "        vertical-align: top;\n",
              "    }\n",
              "\n",
              "    .dataframe thead th {\n",
              "        text-align: right;\n",
              "    }\n",
              "</style>\n",
              "<table border=\"1\" class=\"dataframe\">\n",
              "  <thead>\n",
              "    <tr style=\"text-align: right;\">\n",
              "      <th></th>\n",
              "      <th>id</th>\n",
              "      <th>HDI for year</th>\n",
              "      <th>gdp_for_year ($)</th>\n",
              "      <th>gdp_per_capita ($)</th>\n",
              "      <th>generation</th>\n",
              "      <th>country</th>\n",
              "      <th>year</th>\n",
              "      <th>sex</th>\n",
              "      <th>age</th>\n",
              "      <th>suicides_no</th>\n",
              "      <th>population</th>\n",
              "      <th>suicides/100k pop</th>\n",
              "    </tr>\n",
              "  </thead>\n",
              "  <tbody>\n",
              "    <tr>\n",
              "      <th>0</th>\n",
              "      <td>1</td>\n",
              "      <td>NaN</td>\n",
              "      <td>2,156,624,900</td>\n",
              "      <td>796.0</td>\n",
              "      <td>Generation X</td>\n",
              "      <td>Albania</td>\n",
              "      <td>1987</td>\n",
              "      <td>male</td>\n",
              "      <td>NaN</td>\n",
              "      <td>21</td>\n",
              "      <td>312900.0</td>\n",
              "      <td>6.71</td>\n",
              "    </tr>\n",
              "    <tr>\n",
              "      <th>1</th>\n",
              "      <td>2</td>\n",
              "      <td>NaN</td>\n",
              "      <td>2,156,624,900</td>\n",
              "      <td>NaN</td>\n",
              "      <td>Silent</td>\n",
              "      <td>Albania</td>\n",
              "      <td>1987</td>\n",
              "      <td>male</td>\n",
              "      <td>NaN</td>\n",
              "      <td>16</td>\n",
              "      <td>308000.0</td>\n",
              "      <td>5.19</td>\n",
              "    </tr>\n",
              "    <tr>\n",
              "      <th>2</th>\n",
              "      <td>4</td>\n",
              "      <td>NaN</td>\n",
              "      <td>2,156,624,900</td>\n",
              "      <td>796.0</td>\n",
              "      <td>G.I. Generation</td>\n",
              "      <td>Albania</td>\n",
              "      <td>1987</td>\n",
              "      <td>male</td>\n",
              "      <td>75+ years</td>\n",
              "      <td>1</td>\n",
              "      <td>NaN</td>\n",
              "      <td>4.59</td>\n",
              "    </tr>\n",
              "    <tr>\n",
              "      <th>3</th>\n",
              "      <td>5</td>\n",
              "      <td>NaN</td>\n",
              "      <td>2,156,624,900</td>\n",
              "      <td>796.0</td>\n",
              "      <td>Boomers</td>\n",
              "      <td>Albania</td>\n",
              "      <td>1987</td>\n",
              "      <td>male</td>\n",
              "      <td>25-34 years</td>\n",
              "      <td>9</td>\n",
              "      <td>274300.0</td>\n",
              "      <td>3.28</td>\n",
              "    </tr>\n",
              "    <tr>\n",
              "      <th>4</th>\n",
              "      <td>6</td>\n",
              "      <td>NaN</td>\n",
              "      <td>2,156,624,900</td>\n",
              "      <td>796.0</td>\n",
              "      <td>G.I. Generation</td>\n",
              "      <td>Albania</td>\n",
              "      <td>1987</td>\n",
              "      <td>female</td>\n",
              "      <td>75+ years</td>\n",
              "      <td>1</td>\n",
              "      <td>35600.0</td>\n",
              "      <td>2.81</td>\n",
              "    </tr>\n",
              "    <tr>\n",
              "      <th>...</th>\n",
              "      <td>...</td>\n",
              "      <td>...</td>\n",
              "      <td>...</td>\n",
              "      <td>...</td>\n",
              "      <td>...</td>\n",
              "      <td>...</td>\n",
              "      <td>...</td>\n",
              "      <td>...</td>\n",
              "      <td>...</td>\n",
              "      <td>...</td>\n",
              "      <td>...</td>\n",
              "      <td>...</td>\n",
              "    </tr>\n",
              "    <tr>\n",
              "      <th>22815</th>\n",
              "      <td>27816</td>\n",
              "      <td>0.675</td>\n",
              "      <td>63,067,077,179</td>\n",
              "      <td>2309.0</td>\n",
              "      <td>Generation X</td>\n",
              "      <td>Uzbekistan</td>\n",
              "      <td>2014</td>\n",
              "      <td>female</td>\n",
              "      <td>35-54 years</td>\n",
              "      <td>107</td>\n",
              "      <td>3620833.0</td>\n",
              "      <td>2.96</td>\n",
              "    </tr>\n",
              "    <tr>\n",
              "      <th>22816</th>\n",
              "      <td>27817</td>\n",
              "      <td>0.675</td>\n",
              "      <td>63,067,077,179</td>\n",
              "      <td>2309.0</td>\n",
              "      <td>Silent</td>\n",
              "      <td>Uzbekistan</td>\n",
              "      <td>2014</td>\n",
              "      <td>female</td>\n",
              "      <td>NaN</td>\n",
              "      <td>9</td>\n",
              "      <td>348465.0</td>\n",
              "      <td>2.58</td>\n",
              "    </tr>\n",
              "    <tr>\n",
              "      <th>22817</th>\n",
              "      <td>27818</td>\n",
              "      <td>0.675</td>\n",
              "      <td>63,067,077,179</td>\n",
              "      <td>2309.0</td>\n",
              "      <td>Generation Z</td>\n",
              "      <td>Uzbekistan</td>\n",
              "      <td>2014</td>\n",
              "      <td>male</td>\n",
              "      <td>5-14 years</td>\n",
              "      <td>60</td>\n",
              "      <td>2762158.0</td>\n",
              "      <td>2.17</td>\n",
              "    </tr>\n",
              "    <tr>\n",
              "      <th>22818</th>\n",
              "      <td>27819</td>\n",
              "      <td>0.675</td>\n",
              "      <td>63,067,077,179</td>\n",
              "      <td>NaN</td>\n",
              "      <td>Generation Z</td>\n",
              "      <td>Uzbekistan</td>\n",
              "      <td>2014</td>\n",
              "      <td>female</td>\n",
              "      <td>NaN</td>\n",
              "      <td>44</td>\n",
              "      <td>NaN</td>\n",
              "      <td>1.67</td>\n",
              "    </tr>\n",
              "    <tr>\n",
              "      <th>22819</th>\n",
              "      <td>27820</td>\n",
              "      <td>0.675</td>\n",
              "      <td>63,067,077,179</td>\n",
              "      <td>NaN</td>\n",
              "      <td>Boomers</td>\n",
              "      <td>Uzbekistan</td>\n",
              "      <td>2014</td>\n",
              "      <td>female</td>\n",
              "      <td>NaN</td>\n",
              "      <td>21</td>\n",
              "      <td>1438935.0</td>\n",
              "      <td>1.46</td>\n",
              "    </tr>\n",
              "  </tbody>\n",
              "</table>\n",
              "<p>22820 rows × 12 columns</p>\n",
              "</div>\n",
              "      <button class=\"colab-df-convert\" onclick=\"convertToInteractive('df-f7c8b6d2-e1a6-4ef5-969c-9ed03266f4a0')\"\n",
              "              title=\"Convert this dataframe to an interactive table.\"\n",
              "              style=\"display:none;\">\n",
              "        \n",
              "  <svg xmlns=\"http://www.w3.org/2000/svg\" height=\"24px\"viewBox=\"0 0 24 24\"\n",
              "       width=\"24px\">\n",
              "    <path d=\"M0 0h24v24H0V0z\" fill=\"none\"/>\n",
              "    <path d=\"M18.56 5.44l.94 2.06.94-2.06 2.06-.94-2.06-.94-.94-2.06-.94 2.06-2.06.94zm-11 1L8.5 8.5l.94-2.06 2.06-.94-2.06-.94L8.5 2.5l-.94 2.06-2.06.94zm10 10l.94 2.06.94-2.06 2.06-.94-2.06-.94-.94-2.06-.94 2.06-2.06.94z\"/><path d=\"M17.41 7.96l-1.37-1.37c-.4-.4-.92-.59-1.43-.59-.52 0-1.04.2-1.43.59L10.3 9.45l-7.72 7.72c-.78.78-.78 2.05 0 2.83L4 21.41c.39.39.9.59 1.41.59.51 0 1.02-.2 1.41-.59l7.78-7.78 2.81-2.81c.8-.78.8-2.07 0-2.86zM5.41 20L4 18.59l7.72-7.72 1.47 1.35L5.41 20z\"/>\n",
              "  </svg>\n",
              "      </button>\n",
              "      \n",
              "  <style>\n",
              "    .colab-df-container {\n",
              "      display:flex;\n",
              "      flex-wrap:wrap;\n",
              "      gap: 12px;\n",
              "    }\n",
              "\n",
              "    .colab-df-convert {\n",
              "      background-color: #E8F0FE;\n",
              "      border: none;\n",
              "      border-radius: 50%;\n",
              "      cursor: pointer;\n",
              "      display: none;\n",
              "      fill: #1967D2;\n",
              "      height: 32px;\n",
              "      padding: 0 0 0 0;\n",
              "      width: 32px;\n",
              "    }\n",
              "\n",
              "    .colab-df-convert:hover {\n",
              "      background-color: #E2EBFA;\n",
              "      box-shadow: 0px 1px 2px rgba(60, 64, 67, 0.3), 0px 1px 3px 1px rgba(60, 64, 67, 0.15);\n",
              "      fill: #174EA6;\n",
              "    }\n",
              "\n",
              "    [theme=dark] .colab-df-convert {\n",
              "      background-color: #3B4455;\n",
              "      fill: #D2E3FC;\n",
              "    }\n",
              "\n",
              "    [theme=dark] .colab-df-convert:hover {\n",
              "      background-color: #434B5C;\n",
              "      box-shadow: 0px 1px 3px 1px rgba(0, 0, 0, 0.15);\n",
              "      filter: drop-shadow(0px 1px 2px rgba(0, 0, 0, 0.3));\n",
              "      fill: #FFFFFF;\n",
              "    }\n",
              "  </style>\n",
              "\n",
              "      <script>\n",
              "        const buttonEl =\n",
              "          document.querySelector('#df-f7c8b6d2-e1a6-4ef5-969c-9ed03266f4a0 button.colab-df-convert');\n",
              "        buttonEl.style.display =\n",
              "          google.colab.kernel.accessAllowed ? 'block' : 'none';\n",
              "\n",
              "        async function convertToInteractive(key) {\n",
              "          const element = document.querySelector('#df-f7c8b6d2-e1a6-4ef5-969c-9ed03266f4a0');\n",
              "          const dataTable =\n",
              "            await google.colab.kernel.invokeFunction('convertToInteractive',\n",
              "                                                     [key], {});\n",
              "          if (!dataTable) return;\n",
              "\n",
              "          const docLinkHtml = 'Like what you see? Visit the ' +\n",
              "            '<a target=\"_blank\" href=https://colab.research.google.com/notebooks/data_table.ipynb>data table notebook</a>'\n",
              "            + ' to learn more about interactive tables.';\n",
              "          element.innerHTML = '';\n",
              "          dataTable['output_type'] = 'display_data';\n",
              "          await google.colab.output.renderOutput(dataTable, element);\n",
              "          const docLink = document.createElement('div');\n",
              "          docLink.innerHTML = docLinkHtml;\n",
              "          element.appendChild(docLink);\n",
              "        }\n",
              "      </script>\n",
              "    </div>\n",
              "  </div>\n",
              "  "
            ]
          },
          "metadata": {},
          "execution_count": 458
        }
      ]
    },
    {
      "cell_type": "code",
      "source": [
        "df.info()"
      ],
      "metadata": {
        "colab": {
          "base_uri": "https://localhost:8080/"
        },
        "id": "HqEGJzsqZUkL",
        "outputId": "a349529b-9e00-4487-fb1a-7194e2203013"
      },
      "execution_count": 459,
      "outputs": [
        {
          "output_type": "stream",
          "name": "stdout",
          "text": [
            "<class 'pandas.core.frame.DataFrame'>\n",
            "Int64Index: 22820 entries, 0 to 22819\n",
            "Data columns (total 12 columns):\n",
            " #   Column              Non-Null Count  Dtype  \n",
            "---  ------              --------------  -----  \n",
            " 0   id                  22820 non-null  int64  \n",
            " 1   HDI for year        6925 non-null   float64\n",
            " 2    gdp_for_year ($)   22820 non-null  object \n",
            " 3   gdp_per_capita ($)  19546 non-null  float64\n",
            " 4   generation          22820 non-null  object \n",
            " 5   country             22820 non-null  object \n",
            " 6   year                22820 non-null  int64  \n",
            " 7   sex                 22820 non-null  object \n",
            " 8   age                 19527 non-null  object \n",
            " 9   suicides_no         22820 non-null  int64  \n",
            " 10  population          17405 non-null  float64\n",
            " 11  suicides/100k pop   22820 non-null  float64\n",
            "dtypes: float64(4), int64(3), object(5)\n",
            "memory usage: 2.3+ MB\n"
          ]
        }
      ]
    },
    {
      "cell_type": "code",
      "source": [
        "df.nunique()"
      ],
      "metadata": {
        "colab": {
          "base_uri": "https://localhost:8080/"
        },
        "id": "OgvPDsm9tMPP",
        "outputId": "6c16d3c1-3cc5-466d-9a7e-becb281e0b37"
      },
      "execution_count": 460,
      "outputs": [
        {
          "output_type": "execute_result",
          "data": {
            "text/plain": [
              "id                    22820\n",
              "HDI for year            305\n",
              " gdp_for_year ($)      2321\n",
              "gdp_per_capita ($)     2233\n",
              "generation                6\n",
              "country                 101\n",
              "year                     32\n",
              "sex                       2\n",
              "age                       6\n",
              "suicides_no            1878\n",
              "population            16375\n",
              "suicides/100k pop      4890\n",
              "dtype: int64"
            ]
          },
          "metadata": {},
          "execution_count": 460
        }
      ]
    },
    {
      "cell_type": "code",
      "source": [
        "df"
      ],
      "metadata": {
        "colab": {
          "base_uri": "https://localhost:8080/",
          "height": 423
        },
        "id": "jFe8P8KvtV6Y",
        "outputId": "22ebfad0-8695-45df-d197-3e55750b79d1"
      },
      "execution_count": 461,
      "outputs": [
        {
          "output_type": "execute_result",
          "data": {
            "text/plain": [
              "          id  HDI for year  gdp_for_year ($)   gdp_per_capita ($)  \\\n",
              "0          1           NaN      2,156,624,900               796.0   \n",
              "1          2           NaN      2,156,624,900                 NaN   \n",
              "2          4           NaN      2,156,624,900               796.0   \n",
              "3          5           NaN      2,156,624,900               796.0   \n",
              "4          6           NaN      2,156,624,900               796.0   \n",
              "...      ...           ...                ...                 ...   \n",
              "22815  27816         0.675     63,067,077,179              2309.0   \n",
              "22816  27817         0.675     63,067,077,179              2309.0   \n",
              "22817  27818         0.675     63,067,077,179              2309.0   \n",
              "22818  27819         0.675     63,067,077,179                 NaN   \n",
              "22819  27820         0.675     63,067,077,179                 NaN   \n",
              "\n",
              "            generation     country  year     sex          age  suicides_no  \\\n",
              "0         Generation X     Albania  1987    male          NaN           21   \n",
              "1               Silent     Albania  1987    male          NaN           16   \n",
              "2      G.I. Generation     Albania  1987    male    75+ years            1   \n",
              "3              Boomers     Albania  1987    male  25-34 years            9   \n",
              "4      G.I. Generation     Albania  1987  female    75+ years            1   \n",
              "...                ...         ...   ...     ...          ...          ...   \n",
              "22815     Generation X  Uzbekistan  2014  female  35-54 years          107   \n",
              "22816           Silent  Uzbekistan  2014  female          NaN            9   \n",
              "22817     Generation Z  Uzbekistan  2014    male   5-14 years           60   \n",
              "22818     Generation Z  Uzbekistan  2014  female          NaN           44   \n",
              "22819          Boomers  Uzbekistan  2014  female          NaN           21   \n",
              "\n",
              "       population  suicides/100k pop  \n",
              "0        312900.0               6.71  \n",
              "1        308000.0               5.19  \n",
              "2             NaN               4.59  \n",
              "3        274300.0               3.28  \n",
              "4         35600.0               2.81  \n",
              "...           ...                ...  \n",
              "22815   3620833.0               2.96  \n",
              "22816    348465.0               2.58  \n",
              "22817   2762158.0               2.17  \n",
              "22818         NaN               1.67  \n",
              "22819   1438935.0               1.46  \n",
              "\n",
              "[22820 rows x 12 columns]"
            ],
            "text/html": [
              "\n",
              "  <div id=\"df-3a9bbf2e-5821-48d7-9258-794578441be5\">\n",
              "    <div class=\"colab-df-container\">\n",
              "      <div>\n",
              "<style scoped>\n",
              "    .dataframe tbody tr th:only-of-type {\n",
              "        vertical-align: middle;\n",
              "    }\n",
              "\n",
              "    .dataframe tbody tr th {\n",
              "        vertical-align: top;\n",
              "    }\n",
              "\n",
              "    .dataframe thead th {\n",
              "        text-align: right;\n",
              "    }\n",
              "</style>\n",
              "<table border=\"1\" class=\"dataframe\">\n",
              "  <thead>\n",
              "    <tr style=\"text-align: right;\">\n",
              "      <th></th>\n",
              "      <th>id</th>\n",
              "      <th>HDI for year</th>\n",
              "      <th>gdp_for_year ($)</th>\n",
              "      <th>gdp_per_capita ($)</th>\n",
              "      <th>generation</th>\n",
              "      <th>country</th>\n",
              "      <th>year</th>\n",
              "      <th>sex</th>\n",
              "      <th>age</th>\n",
              "      <th>suicides_no</th>\n",
              "      <th>population</th>\n",
              "      <th>suicides/100k pop</th>\n",
              "    </tr>\n",
              "  </thead>\n",
              "  <tbody>\n",
              "    <tr>\n",
              "      <th>0</th>\n",
              "      <td>1</td>\n",
              "      <td>NaN</td>\n",
              "      <td>2,156,624,900</td>\n",
              "      <td>796.0</td>\n",
              "      <td>Generation X</td>\n",
              "      <td>Albania</td>\n",
              "      <td>1987</td>\n",
              "      <td>male</td>\n",
              "      <td>NaN</td>\n",
              "      <td>21</td>\n",
              "      <td>312900.0</td>\n",
              "      <td>6.71</td>\n",
              "    </tr>\n",
              "    <tr>\n",
              "      <th>1</th>\n",
              "      <td>2</td>\n",
              "      <td>NaN</td>\n",
              "      <td>2,156,624,900</td>\n",
              "      <td>NaN</td>\n",
              "      <td>Silent</td>\n",
              "      <td>Albania</td>\n",
              "      <td>1987</td>\n",
              "      <td>male</td>\n",
              "      <td>NaN</td>\n",
              "      <td>16</td>\n",
              "      <td>308000.0</td>\n",
              "      <td>5.19</td>\n",
              "    </tr>\n",
              "    <tr>\n",
              "      <th>2</th>\n",
              "      <td>4</td>\n",
              "      <td>NaN</td>\n",
              "      <td>2,156,624,900</td>\n",
              "      <td>796.0</td>\n",
              "      <td>G.I. Generation</td>\n",
              "      <td>Albania</td>\n",
              "      <td>1987</td>\n",
              "      <td>male</td>\n",
              "      <td>75+ years</td>\n",
              "      <td>1</td>\n",
              "      <td>NaN</td>\n",
              "      <td>4.59</td>\n",
              "    </tr>\n",
              "    <tr>\n",
              "      <th>3</th>\n",
              "      <td>5</td>\n",
              "      <td>NaN</td>\n",
              "      <td>2,156,624,900</td>\n",
              "      <td>796.0</td>\n",
              "      <td>Boomers</td>\n",
              "      <td>Albania</td>\n",
              "      <td>1987</td>\n",
              "      <td>male</td>\n",
              "      <td>25-34 years</td>\n",
              "      <td>9</td>\n",
              "      <td>274300.0</td>\n",
              "      <td>3.28</td>\n",
              "    </tr>\n",
              "    <tr>\n",
              "      <th>4</th>\n",
              "      <td>6</td>\n",
              "      <td>NaN</td>\n",
              "      <td>2,156,624,900</td>\n",
              "      <td>796.0</td>\n",
              "      <td>G.I. Generation</td>\n",
              "      <td>Albania</td>\n",
              "      <td>1987</td>\n",
              "      <td>female</td>\n",
              "      <td>75+ years</td>\n",
              "      <td>1</td>\n",
              "      <td>35600.0</td>\n",
              "      <td>2.81</td>\n",
              "    </tr>\n",
              "    <tr>\n",
              "      <th>...</th>\n",
              "      <td>...</td>\n",
              "      <td>...</td>\n",
              "      <td>...</td>\n",
              "      <td>...</td>\n",
              "      <td>...</td>\n",
              "      <td>...</td>\n",
              "      <td>...</td>\n",
              "      <td>...</td>\n",
              "      <td>...</td>\n",
              "      <td>...</td>\n",
              "      <td>...</td>\n",
              "      <td>...</td>\n",
              "    </tr>\n",
              "    <tr>\n",
              "      <th>22815</th>\n",
              "      <td>27816</td>\n",
              "      <td>0.675</td>\n",
              "      <td>63,067,077,179</td>\n",
              "      <td>2309.0</td>\n",
              "      <td>Generation X</td>\n",
              "      <td>Uzbekistan</td>\n",
              "      <td>2014</td>\n",
              "      <td>female</td>\n",
              "      <td>35-54 years</td>\n",
              "      <td>107</td>\n",
              "      <td>3620833.0</td>\n",
              "      <td>2.96</td>\n",
              "    </tr>\n",
              "    <tr>\n",
              "      <th>22816</th>\n",
              "      <td>27817</td>\n",
              "      <td>0.675</td>\n",
              "      <td>63,067,077,179</td>\n",
              "      <td>2309.0</td>\n",
              "      <td>Silent</td>\n",
              "      <td>Uzbekistan</td>\n",
              "      <td>2014</td>\n",
              "      <td>female</td>\n",
              "      <td>NaN</td>\n",
              "      <td>9</td>\n",
              "      <td>348465.0</td>\n",
              "      <td>2.58</td>\n",
              "    </tr>\n",
              "    <tr>\n",
              "      <th>22817</th>\n",
              "      <td>27818</td>\n",
              "      <td>0.675</td>\n",
              "      <td>63,067,077,179</td>\n",
              "      <td>2309.0</td>\n",
              "      <td>Generation Z</td>\n",
              "      <td>Uzbekistan</td>\n",
              "      <td>2014</td>\n",
              "      <td>male</td>\n",
              "      <td>5-14 years</td>\n",
              "      <td>60</td>\n",
              "      <td>2762158.0</td>\n",
              "      <td>2.17</td>\n",
              "    </tr>\n",
              "    <tr>\n",
              "      <th>22818</th>\n",
              "      <td>27819</td>\n",
              "      <td>0.675</td>\n",
              "      <td>63,067,077,179</td>\n",
              "      <td>NaN</td>\n",
              "      <td>Generation Z</td>\n",
              "      <td>Uzbekistan</td>\n",
              "      <td>2014</td>\n",
              "      <td>female</td>\n",
              "      <td>NaN</td>\n",
              "      <td>44</td>\n",
              "      <td>NaN</td>\n",
              "      <td>1.67</td>\n",
              "    </tr>\n",
              "    <tr>\n",
              "      <th>22819</th>\n",
              "      <td>27820</td>\n",
              "      <td>0.675</td>\n",
              "      <td>63,067,077,179</td>\n",
              "      <td>NaN</td>\n",
              "      <td>Boomers</td>\n",
              "      <td>Uzbekistan</td>\n",
              "      <td>2014</td>\n",
              "      <td>female</td>\n",
              "      <td>NaN</td>\n",
              "      <td>21</td>\n",
              "      <td>1438935.0</td>\n",
              "      <td>1.46</td>\n",
              "    </tr>\n",
              "  </tbody>\n",
              "</table>\n",
              "<p>22820 rows × 12 columns</p>\n",
              "</div>\n",
              "      <button class=\"colab-df-convert\" onclick=\"convertToInteractive('df-3a9bbf2e-5821-48d7-9258-794578441be5')\"\n",
              "              title=\"Convert this dataframe to an interactive table.\"\n",
              "              style=\"display:none;\">\n",
              "        \n",
              "  <svg xmlns=\"http://www.w3.org/2000/svg\" height=\"24px\"viewBox=\"0 0 24 24\"\n",
              "       width=\"24px\">\n",
              "    <path d=\"M0 0h24v24H0V0z\" fill=\"none\"/>\n",
              "    <path d=\"M18.56 5.44l.94 2.06.94-2.06 2.06-.94-2.06-.94-.94-2.06-.94 2.06-2.06.94zm-11 1L8.5 8.5l.94-2.06 2.06-.94-2.06-.94L8.5 2.5l-.94 2.06-2.06.94zm10 10l.94 2.06.94-2.06 2.06-.94-2.06-.94-.94-2.06-.94 2.06-2.06.94z\"/><path d=\"M17.41 7.96l-1.37-1.37c-.4-.4-.92-.59-1.43-.59-.52 0-1.04.2-1.43.59L10.3 9.45l-7.72 7.72c-.78.78-.78 2.05 0 2.83L4 21.41c.39.39.9.59 1.41.59.51 0 1.02-.2 1.41-.59l7.78-7.78 2.81-2.81c.8-.78.8-2.07 0-2.86zM5.41 20L4 18.59l7.72-7.72 1.47 1.35L5.41 20z\"/>\n",
              "  </svg>\n",
              "      </button>\n",
              "      \n",
              "  <style>\n",
              "    .colab-df-container {\n",
              "      display:flex;\n",
              "      flex-wrap:wrap;\n",
              "      gap: 12px;\n",
              "    }\n",
              "\n",
              "    .colab-df-convert {\n",
              "      background-color: #E8F0FE;\n",
              "      border: none;\n",
              "      border-radius: 50%;\n",
              "      cursor: pointer;\n",
              "      display: none;\n",
              "      fill: #1967D2;\n",
              "      height: 32px;\n",
              "      padding: 0 0 0 0;\n",
              "      width: 32px;\n",
              "    }\n",
              "\n",
              "    .colab-df-convert:hover {\n",
              "      background-color: #E2EBFA;\n",
              "      box-shadow: 0px 1px 2px rgba(60, 64, 67, 0.3), 0px 1px 3px 1px rgba(60, 64, 67, 0.15);\n",
              "      fill: #174EA6;\n",
              "    }\n",
              "\n",
              "    [theme=dark] .colab-df-convert {\n",
              "      background-color: #3B4455;\n",
              "      fill: #D2E3FC;\n",
              "    }\n",
              "\n",
              "    [theme=dark] .colab-df-convert:hover {\n",
              "      background-color: #434B5C;\n",
              "      box-shadow: 0px 1px 3px 1px rgba(0, 0, 0, 0.15);\n",
              "      filter: drop-shadow(0px 1px 2px rgba(0, 0, 0, 0.3));\n",
              "      fill: #FFFFFF;\n",
              "    }\n",
              "  </style>\n",
              "\n",
              "      <script>\n",
              "        const buttonEl =\n",
              "          document.querySelector('#df-3a9bbf2e-5821-48d7-9258-794578441be5 button.colab-df-convert');\n",
              "        buttonEl.style.display =\n",
              "          google.colab.kernel.accessAllowed ? 'block' : 'none';\n",
              "\n",
              "        async function convertToInteractive(key) {\n",
              "          const element = document.querySelector('#df-3a9bbf2e-5821-48d7-9258-794578441be5');\n",
              "          const dataTable =\n",
              "            await google.colab.kernel.invokeFunction('convertToInteractive',\n",
              "                                                     [key], {});\n",
              "          if (!dataTable) return;\n",
              "\n",
              "          const docLinkHtml = 'Like what you see? Visit the ' +\n",
              "            '<a target=\"_blank\" href=https://colab.research.google.com/notebooks/data_table.ipynb>data table notebook</a>'\n",
              "            + ' to learn more about interactive tables.';\n",
              "          element.innerHTML = '';\n",
              "          dataTable['output_type'] = 'display_data';\n",
              "          await google.colab.output.renderOutput(dataTable, element);\n",
              "          const docLink = document.createElement('div');\n",
              "          docLink.innerHTML = docLinkHtml;\n",
              "          element.appendChild(docLink);\n",
              "        }\n",
              "      </script>\n",
              "    </div>\n",
              "  </div>\n",
              "  "
            ]
          },
          "metadata": {},
          "execution_count": 461
        }
      ]
    },
    {
      "cell_type": "code",
      "source": [
        "df['generation'].value_counts()"
      ],
      "metadata": {
        "colab": {
          "base_uri": "https://localhost:8080/"
        },
        "id": "_Po7iY8XtgU5",
        "outputId": "7ee185c8-bd1d-4454-8618-f05928bb8873"
      },
      "execution_count": 462,
      "outputs": [
        {
          "output_type": "execute_result",
          "data": {
            "text/plain": [
              "Silent             5247\n",
              "Generation X       5246\n",
              "Millenials         4803\n",
              "Boomers            4050\n",
              "G.I. Generation    2263\n",
              "Generation Z       1211\n",
              "Name: generation, dtype: int64"
            ]
          },
          "metadata": {},
          "execution_count": 462
        }
      ]
    },
    {
      "cell_type": "code",
      "source": [
        "df['age'].value_counts()"
      ],
      "metadata": {
        "colab": {
          "base_uri": "https://localhost:8080/"
        },
        "id": "uFdPQ2vztgXT",
        "outputId": "3d258a9d-db46-4deb-cef7-48b3d8a228a5"
      },
      "execution_count": 463,
      "outputs": [
        {
          "output_type": "execute_result",
          "data": {
            "text/plain": [
              "75+ years      3326\n",
              "5-14 years     3266\n",
              "35-54 years    3257\n",
              "55-74 years    3256\n",
              "15-24 years    3225\n",
              "25-34 years    3197\n",
              "Name: age, dtype: int64"
            ]
          },
          "metadata": {},
          "execution_count": 463
        }
      ]
    },
    {
      "cell_type": "code",
      "source": [
        "# Replacing '-' with null\n",
        "df['age'].replace({'nan':np.nan}, inplace = True)\n"
      ],
      "metadata": {
        "id": "-nd-OOGEuEOu"
      },
      "execution_count": 464,
      "outputs": []
    },
    {
      "cell_type": "code",
      "source": [
        "df.isnull().sum()"
      ],
      "metadata": {
        "colab": {
          "base_uri": "https://localhost:8080/"
        },
        "id": "KpYhJyciuK25",
        "outputId": "9917a3ec-28b7-4378-8fdd-cb06ad12ebe8"
      },
      "execution_count": 465,
      "outputs": [
        {
          "output_type": "execute_result",
          "data": {
            "text/plain": [
              "id                        0\n",
              "HDI for year          15895\n",
              " gdp_for_year ($)         0\n",
              "gdp_per_capita ($)     3274\n",
              "generation                0\n",
              "country                   0\n",
              "year                      0\n",
              "sex                       0\n",
              "age                    3293\n",
              "suicides_no               0\n",
              "population             5415\n",
              "suicides/100k pop         0\n",
              "dtype: int64"
            ]
          },
          "metadata": {},
          "execution_count": 465
        }
      ]
    },
    {
      "cell_type": "code",
      "source": [
        "df.info()"
      ],
      "metadata": {
        "colab": {
          "base_uri": "https://localhost:8080/"
        },
        "id": "-gdhfch3uQ22",
        "outputId": "1bc5087e-09c8-48b0-9014-814d36952e71"
      },
      "execution_count": 466,
      "outputs": [
        {
          "output_type": "stream",
          "name": "stdout",
          "text": [
            "<class 'pandas.core.frame.DataFrame'>\n",
            "Int64Index: 22820 entries, 0 to 22819\n",
            "Data columns (total 12 columns):\n",
            " #   Column              Non-Null Count  Dtype  \n",
            "---  ------              --------------  -----  \n",
            " 0   id                  22820 non-null  int64  \n",
            " 1   HDI for year        6925 non-null   float64\n",
            " 2    gdp_for_year ($)   22820 non-null  object \n",
            " 3   gdp_per_capita ($)  19546 non-null  float64\n",
            " 4   generation          22820 non-null  object \n",
            " 5   country             22820 non-null  object \n",
            " 6   year                22820 non-null  int64  \n",
            " 7   sex                 22820 non-null  object \n",
            " 8   age                 19527 non-null  object \n",
            " 9   suicides_no         22820 non-null  int64  \n",
            " 10  population          17405 non-null  float64\n",
            " 11  suicides/100k pop   22820 non-null  float64\n",
            "dtypes: float64(4), int64(3), object(5)\n",
            "memory usage: 2.3+ MB\n"
          ]
        }
      ]
    },
    {
      "cell_type": "code",
      "source": [
        "#df['age'].fillna(value=df['age'].mode()[0], inplace=True)\n"
      ],
      "metadata": {
        "id": "i6GrLG51uQ5H"
      },
      "execution_count": 467,
      "outputs": []
    },
    {
      "cell_type": "code",
      "source": [
        "df.isnull().sum()"
      ],
      "metadata": {
        "colab": {
          "base_uri": "https://localhost:8080/"
        },
        "id": "ypQrQjLcue6w",
        "outputId": "cbc812db-8fb1-42d2-f2d4-a143d61ab585"
      },
      "execution_count": 468,
      "outputs": [
        {
          "output_type": "execute_result",
          "data": {
            "text/plain": [
              "id                        0\n",
              "HDI for year          15895\n",
              " gdp_for_year ($)         0\n",
              "gdp_per_capita ($)     3274\n",
              "generation                0\n",
              "country                   0\n",
              "year                      0\n",
              "sex                       0\n",
              "age                    3293\n",
              "suicides_no               0\n",
              "population             5415\n",
              "suicides/100k pop         0\n",
              "dtype: int64"
            ]
          },
          "metadata": {},
          "execution_count": 468
        }
      ]
    },
    {
      "cell_type": "code",
      "source": [
        "df['age'].value_counts()"
      ],
      "metadata": {
        "colab": {
          "base_uri": "https://localhost:8080/"
        },
        "id": "vVonsE_SuksN",
        "outputId": "8473185a-a608-450a-d5d9-cbd0f4acef8b"
      },
      "execution_count": 469,
      "outputs": [
        {
          "output_type": "execute_result",
          "data": {
            "text/plain": [
              "75+ years      3326\n",
              "5-14 years     3266\n",
              "35-54 years    3257\n",
              "55-74 years    3256\n",
              "15-24 years    3225\n",
              "25-34 years    3197\n",
              "Name: age, dtype: int64"
            ]
          },
          "metadata": {},
          "execution_count": 469
        }
      ]
    },
    {
      "cell_type": "code",
      "source": [
        "df.info()"
      ],
      "metadata": {
        "colab": {
          "base_uri": "https://localhost:8080/"
        },
        "id": "Gjqrl5iuaBqO",
        "outputId": "d8d8b30e-6d86-46a4-dac3-2607a8413757"
      },
      "execution_count": 470,
      "outputs": [
        {
          "output_type": "stream",
          "name": "stdout",
          "text": [
            "<class 'pandas.core.frame.DataFrame'>\n",
            "Int64Index: 22820 entries, 0 to 22819\n",
            "Data columns (total 12 columns):\n",
            " #   Column              Non-Null Count  Dtype  \n",
            "---  ------              --------------  -----  \n",
            " 0   id                  22820 non-null  int64  \n",
            " 1   HDI for year        6925 non-null   float64\n",
            " 2    gdp_for_year ($)   22820 non-null  object \n",
            " 3   gdp_per_capita ($)  19546 non-null  float64\n",
            " 4   generation          22820 non-null  object \n",
            " 5   country             22820 non-null  object \n",
            " 6   year                22820 non-null  int64  \n",
            " 7   sex                 22820 non-null  object \n",
            " 8   age                 19527 non-null  object \n",
            " 9   suicides_no         22820 non-null  int64  \n",
            " 10  population          17405 non-null  float64\n",
            " 11  suicides/100k pop   22820 non-null  float64\n",
            "dtypes: float64(4), int64(3), object(5)\n",
            "memory usage: 2.3+ MB\n"
          ]
        }
      ]
    },
    {
      "cell_type": "code",
      "source": [
        "df[' gdp_for_year ($) '].value_counts()"
      ],
      "metadata": {
        "colab": {
          "base_uri": "https://localhost:8080/"
        },
        "id": "HMcOsojybkjc",
        "outputId": "28d394fd-3bce-4549-ae82-16e09a65dbb9"
      },
      "execution_count": 471,
      "outputs": [
        {
          "output_type": "execute_result",
          "data": {
            "text/plain": [
              "78,039,572,222       12\n",
              "130,133,845,771      12\n",
              "1,170,787,352,906    12\n",
              "1,305,604,981,272    12\n",
              "535,101,248,776      12\n",
              "                     ..\n",
              "12,232,463,656        5\n",
              "25,017,300,000        5\n",
              "15,091,913,884        5\n",
              "22,585,841,200        5\n",
              "1,368,431,037         4\n",
              "Name:  gdp_for_year ($) , Length: 2321, dtype: int64"
            ]
          },
          "metadata": {},
          "execution_count": 471
        }
      ]
    },
    {
      "cell_type": "code",
      "source": [
        "# remove commas and convert to float dtype\n",
        "df[' gdp_for_year ($) '] = df[' gdp_for_year ($) '].str.replace(',', '').astype(float)"
      ],
      "metadata": {
        "id": "NcmnVwP5clPO"
      },
      "execution_count": 472,
      "outputs": []
    },
    {
      "cell_type": "code",
      "source": [
        "from sklearn.impute import KNNImputer\n",
        "\n",
        "# select numerical columns only\n",
        "num_cols = df.select_dtypes(include='number').columns\n",
        "\n",
        "# create a KNN imputer object and fit to the numerical columns\n",
        "imputer = KNNImputer(n_neighbors=2)\n",
        "imputer.fit(df[num_cols])\n",
        "\n",
        "# transform the numerical columns with missing values using the imputer\n",
        "df[num_cols] = imputer.transform(df[num_cols])\n",
        "\n",
        "# print the updated dataframe\n",
        "df"
      ],
      "metadata": {
        "colab": {
          "base_uri": "https://localhost:8080/",
          "height": 467
        },
        "id": "lqBUtDRRbFMV",
        "outputId": "d7422aed-0cd4-460a-b91a-edb0c84c65d2"
      },
      "execution_count": 473,
      "outputs": [
        {
          "output_type": "execute_result",
          "data": {
            "text/plain": [
              "            id  HDI for year   gdp_for_year ($)   gdp_per_capita ($)  \\\n",
              "0          1.0         0.650        2.156625e+09               796.0   \n",
              "1          2.0         0.650        2.156625e+09               796.0   \n",
              "2          4.0         0.650        2.156625e+09               796.0   \n",
              "3          5.0         0.650        2.156625e+09               796.0   \n",
              "4          6.0         0.650        2.156625e+09               796.0   \n",
              "...        ...           ...                 ...                 ...   \n",
              "22815  27816.0         0.675        6.306708e+10              2309.0   \n",
              "22816  27817.0         0.675        6.306708e+10              2309.0   \n",
              "22817  27818.0         0.675        6.306708e+10              2309.0   \n",
              "22818  27819.0         0.675        6.306708e+10              2309.0   \n",
              "22819  27820.0         0.675        6.306708e+10              2309.0   \n",
              "\n",
              "            generation     country    year     sex          age  suicides_no  \\\n",
              "0         Generation X     Albania  1987.0    male          NaN         21.0   \n",
              "1               Silent     Albania  1987.0    male          NaN         16.0   \n",
              "2      G.I. Generation     Albania  1987.0    male    75+ years          1.0   \n",
              "3              Boomers     Albania  1987.0    male  25-34 years          9.0   \n",
              "4      G.I. Generation     Albania  1987.0  female    75+ years          1.0   \n",
              "...                ...         ...     ...     ...          ...          ...   \n",
              "22815     Generation X  Uzbekistan  2014.0  female  35-54 years        107.0   \n",
              "22816           Silent  Uzbekistan  2014.0  female          NaN          9.0   \n",
              "22817     Generation Z  Uzbekistan  2014.0    male   5-14 years         60.0   \n",
              "22818     Generation Z  Uzbekistan  2014.0  female          NaN         44.0   \n",
              "22819          Boomers  Uzbekistan  2014.0  female          NaN         21.0   \n",
              "\n",
              "       population  suicides/100k pop  \n",
              "0        312900.0               6.71  \n",
              "1        308000.0               5.19  \n",
              "2        154950.0               4.59  \n",
              "3        274300.0               3.28  \n",
              "4         35600.0               2.81  \n",
              "...           ...                ...  \n",
              "22815   3620833.0               2.96  \n",
              "22816    348465.0               2.58  \n",
              "22817   2762158.0               2.17  \n",
              "22818   2865983.5               1.67  \n",
              "22819   1438935.0               1.46  \n",
              "\n",
              "[22820 rows x 12 columns]"
            ],
            "text/html": [
              "\n",
              "  <div id=\"df-85178753-cd45-4faf-9493-52c2ea44c477\">\n",
              "    <div class=\"colab-df-container\">\n",
              "      <div>\n",
              "<style scoped>\n",
              "    .dataframe tbody tr th:only-of-type {\n",
              "        vertical-align: middle;\n",
              "    }\n",
              "\n",
              "    .dataframe tbody tr th {\n",
              "        vertical-align: top;\n",
              "    }\n",
              "\n",
              "    .dataframe thead th {\n",
              "        text-align: right;\n",
              "    }\n",
              "</style>\n",
              "<table border=\"1\" class=\"dataframe\">\n",
              "  <thead>\n",
              "    <tr style=\"text-align: right;\">\n",
              "      <th></th>\n",
              "      <th>id</th>\n",
              "      <th>HDI for year</th>\n",
              "      <th>gdp_for_year ($)</th>\n",
              "      <th>gdp_per_capita ($)</th>\n",
              "      <th>generation</th>\n",
              "      <th>country</th>\n",
              "      <th>year</th>\n",
              "      <th>sex</th>\n",
              "      <th>age</th>\n",
              "      <th>suicides_no</th>\n",
              "      <th>population</th>\n",
              "      <th>suicides/100k pop</th>\n",
              "    </tr>\n",
              "  </thead>\n",
              "  <tbody>\n",
              "    <tr>\n",
              "      <th>0</th>\n",
              "      <td>1.0</td>\n",
              "      <td>0.650</td>\n",
              "      <td>2.156625e+09</td>\n",
              "      <td>796.0</td>\n",
              "      <td>Generation X</td>\n",
              "      <td>Albania</td>\n",
              "      <td>1987.0</td>\n",
              "      <td>male</td>\n",
              "      <td>NaN</td>\n",
              "      <td>21.0</td>\n",
              "      <td>312900.0</td>\n",
              "      <td>6.71</td>\n",
              "    </tr>\n",
              "    <tr>\n",
              "      <th>1</th>\n",
              "      <td>2.0</td>\n",
              "      <td>0.650</td>\n",
              "      <td>2.156625e+09</td>\n",
              "      <td>796.0</td>\n",
              "      <td>Silent</td>\n",
              "      <td>Albania</td>\n",
              "      <td>1987.0</td>\n",
              "      <td>male</td>\n",
              "      <td>NaN</td>\n",
              "      <td>16.0</td>\n",
              "      <td>308000.0</td>\n",
              "      <td>5.19</td>\n",
              "    </tr>\n",
              "    <tr>\n",
              "      <th>2</th>\n",
              "      <td>4.0</td>\n",
              "      <td>0.650</td>\n",
              "      <td>2.156625e+09</td>\n",
              "      <td>796.0</td>\n",
              "      <td>G.I. Generation</td>\n",
              "      <td>Albania</td>\n",
              "      <td>1987.0</td>\n",
              "      <td>male</td>\n",
              "      <td>75+ years</td>\n",
              "      <td>1.0</td>\n",
              "      <td>154950.0</td>\n",
              "      <td>4.59</td>\n",
              "    </tr>\n",
              "    <tr>\n",
              "      <th>3</th>\n",
              "      <td>5.0</td>\n",
              "      <td>0.650</td>\n",
              "      <td>2.156625e+09</td>\n",
              "      <td>796.0</td>\n",
              "      <td>Boomers</td>\n",
              "      <td>Albania</td>\n",
              "      <td>1987.0</td>\n",
              "      <td>male</td>\n",
              "      <td>25-34 years</td>\n",
              "      <td>9.0</td>\n",
              "      <td>274300.0</td>\n",
              "      <td>3.28</td>\n",
              "    </tr>\n",
              "    <tr>\n",
              "      <th>4</th>\n",
              "      <td>6.0</td>\n",
              "      <td>0.650</td>\n",
              "      <td>2.156625e+09</td>\n",
              "      <td>796.0</td>\n",
              "      <td>G.I. Generation</td>\n",
              "      <td>Albania</td>\n",
              "      <td>1987.0</td>\n",
              "      <td>female</td>\n",
              "      <td>75+ years</td>\n",
              "      <td>1.0</td>\n",
              "      <td>35600.0</td>\n",
              "      <td>2.81</td>\n",
              "    </tr>\n",
              "    <tr>\n",
              "      <th>...</th>\n",
              "      <td>...</td>\n",
              "      <td>...</td>\n",
              "      <td>...</td>\n",
              "      <td>...</td>\n",
              "      <td>...</td>\n",
              "      <td>...</td>\n",
              "      <td>...</td>\n",
              "      <td>...</td>\n",
              "      <td>...</td>\n",
              "      <td>...</td>\n",
              "      <td>...</td>\n",
              "      <td>...</td>\n",
              "    </tr>\n",
              "    <tr>\n",
              "      <th>22815</th>\n",
              "      <td>27816.0</td>\n",
              "      <td>0.675</td>\n",
              "      <td>6.306708e+10</td>\n",
              "      <td>2309.0</td>\n",
              "      <td>Generation X</td>\n",
              "      <td>Uzbekistan</td>\n",
              "      <td>2014.0</td>\n",
              "      <td>female</td>\n",
              "      <td>35-54 years</td>\n",
              "      <td>107.0</td>\n",
              "      <td>3620833.0</td>\n",
              "      <td>2.96</td>\n",
              "    </tr>\n",
              "    <tr>\n",
              "      <th>22816</th>\n",
              "      <td>27817.0</td>\n",
              "      <td>0.675</td>\n",
              "      <td>6.306708e+10</td>\n",
              "      <td>2309.0</td>\n",
              "      <td>Silent</td>\n",
              "      <td>Uzbekistan</td>\n",
              "      <td>2014.0</td>\n",
              "      <td>female</td>\n",
              "      <td>NaN</td>\n",
              "      <td>9.0</td>\n",
              "      <td>348465.0</td>\n",
              "      <td>2.58</td>\n",
              "    </tr>\n",
              "    <tr>\n",
              "      <th>22817</th>\n",
              "      <td>27818.0</td>\n",
              "      <td>0.675</td>\n",
              "      <td>6.306708e+10</td>\n",
              "      <td>2309.0</td>\n",
              "      <td>Generation Z</td>\n",
              "      <td>Uzbekistan</td>\n",
              "      <td>2014.0</td>\n",
              "      <td>male</td>\n",
              "      <td>5-14 years</td>\n",
              "      <td>60.0</td>\n",
              "      <td>2762158.0</td>\n",
              "      <td>2.17</td>\n",
              "    </tr>\n",
              "    <tr>\n",
              "      <th>22818</th>\n",
              "      <td>27819.0</td>\n",
              "      <td>0.675</td>\n",
              "      <td>6.306708e+10</td>\n",
              "      <td>2309.0</td>\n",
              "      <td>Generation Z</td>\n",
              "      <td>Uzbekistan</td>\n",
              "      <td>2014.0</td>\n",
              "      <td>female</td>\n",
              "      <td>NaN</td>\n",
              "      <td>44.0</td>\n",
              "      <td>2865983.5</td>\n",
              "      <td>1.67</td>\n",
              "    </tr>\n",
              "    <tr>\n",
              "      <th>22819</th>\n",
              "      <td>27820.0</td>\n",
              "      <td>0.675</td>\n",
              "      <td>6.306708e+10</td>\n",
              "      <td>2309.0</td>\n",
              "      <td>Boomers</td>\n",
              "      <td>Uzbekistan</td>\n",
              "      <td>2014.0</td>\n",
              "      <td>female</td>\n",
              "      <td>NaN</td>\n",
              "      <td>21.0</td>\n",
              "      <td>1438935.0</td>\n",
              "      <td>1.46</td>\n",
              "    </tr>\n",
              "  </tbody>\n",
              "</table>\n",
              "<p>22820 rows × 12 columns</p>\n",
              "</div>\n",
              "      <button class=\"colab-df-convert\" onclick=\"convertToInteractive('df-85178753-cd45-4faf-9493-52c2ea44c477')\"\n",
              "              title=\"Convert this dataframe to an interactive table.\"\n",
              "              style=\"display:none;\">\n",
              "        \n",
              "  <svg xmlns=\"http://www.w3.org/2000/svg\" height=\"24px\"viewBox=\"0 0 24 24\"\n",
              "       width=\"24px\">\n",
              "    <path d=\"M0 0h24v24H0V0z\" fill=\"none\"/>\n",
              "    <path d=\"M18.56 5.44l.94 2.06.94-2.06 2.06-.94-2.06-.94-.94-2.06-.94 2.06-2.06.94zm-11 1L8.5 8.5l.94-2.06 2.06-.94-2.06-.94L8.5 2.5l-.94 2.06-2.06.94zm10 10l.94 2.06.94-2.06 2.06-.94-2.06-.94-.94-2.06-.94 2.06-2.06.94z\"/><path d=\"M17.41 7.96l-1.37-1.37c-.4-.4-.92-.59-1.43-.59-.52 0-1.04.2-1.43.59L10.3 9.45l-7.72 7.72c-.78.78-.78 2.05 0 2.83L4 21.41c.39.39.9.59 1.41.59.51 0 1.02-.2 1.41-.59l7.78-7.78 2.81-2.81c.8-.78.8-2.07 0-2.86zM5.41 20L4 18.59l7.72-7.72 1.47 1.35L5.41 20z\"/>\n",
              "  </svg>\n",
              "      </button>\n",
              "      \n",
              "  <style>\n",
              "    .colab-df-container {\n",
              "      display:flex;\n",
              "      flex-wrap:wrap;\n",
              "      gap: 12px;\n",
              "    }\n",
              "\n",
              "    .colab-df-convert {\n",
              "      background-color: #E8F0FE;\n",
              "      border: none;\n",
              "      border-radius: 50%;\n",
              "      cursor: pointer;\n",
              "      display: none;\n",
              "      fill: #1967D2;\n",
              "      height: 32px;\n",
              "      padding: 0 0 0 0;\n",
              "      width: 32px;\n",
              "    }\n",
              "\n",
              "    .colab-df-convert:hover {\n",
              "      background-color: #E2EBFA;\n",
              "      box-shadow: 0px 1px 2px rgba(60, 64, 67, 0.3), 0px 1px 3px 1px rgba(60, 64, 67, 0.15);\n",
              "      fill: #174EA6;\n",
              "    }\n",
              "\n",
              "    [theme=dark] .colab-df-convert {\n",
              "      background-color: #3B4455;\n",
              "      fill: #D2E3FC;\n",
              "    }\n",
              "\n",
              "    [theme=dark] .colab-df-convert:hover {\n",
              "      background-color: #434B5C;\n",
              "      box-shadow: 0px 1px 3px 1px rgba(0, 0, 0, 0.15);\n",
              "      filter: drop-shadow(0px 1px 2px rgba(0, 0, 0, 0.3));\n",
              "      fill: #FFFFFF;\n",
              "    }\n",
              "  </style>\n",
              "\n",
              "      <script>\n",
              "        const buttonEl =\n",
              "          document.querySelector('#df-85178753-cd45-4faf-9493-52c2ea44c477 button.colab-df-convert');\n",
              "        buttonEl.style.display =\n",
              "          google.colab.kernel.accessAllowed ? 'block' : 'none';\n",
              "\n",
              "        async function convertToInteractive(key) {\n",
              "          const element = document.querySelector('#df-85178753-cd45-4faf-9493-52c2ea44c477');\n",
              "          const dataTable =\n",
              "            await google.colab.kernel.invokeFunction('convertToInteractive',\n",
              "                                                     [key], {});\n",
              "          if (!dataTable) return;\n",
              "\n",
              "          const docLinkHtml = 'Like what you see? Visit the ' +\n",
              "            '<a target=\"_blank\" href=https://colab.research.google.com/notebooks/data_table.ipynb>data table notebook</a>'\n",
              "            + ' to learn more about interactive tables.';\n",
              "          element.innerHTML = '';\n",
              "          dataTable['output_type'] = 'display_data';\n",
              "          await google.colab.output.renderOutput(dataTable, element);\n",
              "          const docLink = document.createElement('div');\n",
              "          docLink.innerHTML = docLinkHtml;\n",
              "          element.appendChild(docLink);\n",
              "        }\n",
              "      </script>\n",
              "    </div>\n",
              "  </div>\n",
              "  "
            ]
          },
          "metadata": {},
          "execution_count": 473
        }
      ]
    },
    {
      "cell_type": "code",
      "source": [
        "df.isnull().sum()"
      ],
      "metadata": {
        "colab": {
          "base_uri": "https://localhost:8080/"
        },
        "id": "ZEz0zWbKfZ9t",
        "outputId": "10d7b7ed-6494-4fae-adee-cec8d80967a7"
      },
      "execution_count": 474,
      "outputs": [
        {
          "output_type": "execute_result",
          "data": {
            "text/plain": [
              "id                       0\n",
              "HDI for year             0\n",
              " gdp_for_year ($)        0\n",
              "gdp_per_capita ($)       0\n",
              "generation               0\n",
              "country                  0\n",
              "year                     0\n",
              "sex                      0\n",
              "age                   3293\n",
              "suicides_no              0\n",
              "population               0\n",
              "suicides/100k pop        0\n",
              "dtype: int64"
            ]
          },
          "metadata": {},
          "execution_count": 474
        }
      ]
    },
    {
      "cell_type": "code",
      "source": [
        "df['age'].fillna(value=df['age'].mode()[0], inplace=True)"
      ],
      "metadata": {
        "id": "ccDK2MhxVOUT"
      },
      "execution_count": 475,
      "outputs": []
    },
    {
      "cell_type": "code",
      "source": [
        "df.isnull().sum()"
      ],
      "metadata": {
        "colab": {
          "base_uri": "https://localhost:8080/"
        },
        "id": "0oQkMQcvfuyd",
        "outputId": "7d9737a7-d220-4eeb-a5f0-2f65c817addd"
      },
      "execution_count": 476,
      "outputs": [
        {
          "output_type": "execute_result",
          "data": {
            "text/plain": [
              "id                    0\n",
              "HDI for year          0\n",
              " gdp_for_year ($)     0\n",
              "gdp_per_capita ($)    0\n",
              "generation            0\n",
              "country               0\n",
              "year                  0\n",
              "sex                   0\n",
              "age                   0\n",
              "suicides_no           0\n",
              "population            0\n",
              "suicides/100k pop     0\n",
              "dtype: int64"
            ]
          },
          "metadata": {},
          "execution_count": 476
        }
      ]
    },
    {
      "cell_type": "code",
      "source": [
        "df['age'].value_counts()"
      ],
      "metadata": {
        "colab": {
          "base_uri": "https://localhost:8080/"
        },
        "id": "vPVp5SKdf0j6",
        "outputId": "965e3b4f-2b35-489c-9502-b6f73b13024f"
      },
      "execution_count": 477,
      "outputs": [
        {
          "output_type": "execute_result",
          "data": {
            "text/plain": [
              "75+ years      6619\n",
              "5-14 years     3266\n",
              "35-54 years    3257\n",
              "55-74 years    3256\n",
              "15-24 years    3225\n",
              "25-34 years    3197\n",
              "Name: age, dtype: int64"
            ]
          },
          "metadata": {},
          "execution_count": 477
        }
      ]
    },
    {
      "cell_type": "code",
      "source": [
        "df3 = pd.DataFrame(df, columns = ['gdp_per_capita ($)','population','HDI for year','suicides/100k pop'])  \n",
        "plt.figure(figsize = (10, 20)) \n",
        "  \n",
        "df3.boxplot()"
      ],
      "metadata": {
        "colab": {
          "base_uri": "https://localhost:8080/",
          "height": 1000
        },
        "id": "mYQ44d5Rt2V0",
        "outputId": "da33827c-8998-4bec-88d9-181f0e627130"
      },
      "execution_count": 478,
      "outputs": [
        {
          "output_type": "execute_result",
          "data": {
            "text/plain": [
              "<AxesSubplot:>"
            ]
          },
          "metadata": {},
          "execution_count": 478
        },
        {
          "output_type": "display_data",
          "data": {
            "text/plain": [
              "<Figure size 720x1440 with 1 Axes>"
            ],
            "image/png": "[encoded data removed]"
          },
          "metadata": {
            "needs_background": "light"
          }
        }
      ]
    },
    {
      "cell_type": "code",
      "source": [
        "def replace_outliers_median(x):\n",
        "    q1 = np.percentile(x, 25)\n",
        "    q3 = np.percentile(x, 75)\n",
        "    iqr = q3 - q1\n",
        "    lower_bound = q1 - 1.5 * iqr\n",
        "    upper_bound = q3 + 1.5 * iqr\n",
        "    x[x < lower_bound] = np.median(x)\n",
        "    x[x > upper_bound] = np.median(x)\n",
        "    return x\n",
        "\n",
        "# Define a function to replace outliers with the mode for categorical variables\n",
        "def replace_outliers_mode(x):\n",
        "    mode = x.mode()[0]\n",
        "    x[x != mode] = mode\n",
        "    return x\n"
      ],
      "metadata": {
        "id": "OSB9cPthwYj4"
      },
      "execution_count": 479,
      "outputs": []
    },
    {
      "cell_type": "code",
      "source": [
        "# Apply the functions to the data\n",
        "df[['gdp_per_capita ($)','population','HDI for year','suicides/100k pop']] = df[['gdp_per_capita ($)','population','HDI for year','suicides/100k pop']].apply(replace_outliers_median)"
      ],
      "metadata": {
        "id": "eZ5j957_z7Il"
      },
      "execution_count": 480,
      "outputs": []
    },
    {
      "cell_type": "code",
      "source": [
        "df3 = pd.DataFrame(df, columns = ['gdp_per_capita ($)','population','HDI for year','suicides/100k pop'])  \n",
        "plt.figure(figsize = (10, 20)) \n",
        "  \n",
        "df3.boxplot()"
      ],
      "metadata": {
        "colab": {
          "base_uri": "https://localhost:8080/",
          "height": 1000
        },
        "id": "jvwsDqJH0LyZ",
        "outputId": "b46f9fec-be6b-4f77-e66c-0cf5d07af028"
      },
      "execution_count": 481,
      "outputs": [
        {
          "output_type": "execute_result",
          "data": {
            "text/plain": [
              "<AxesSubplot:>"
            ]
          },
          "metadata": {},
          "execution_count": 481
        },
        {
          "output_type": "display_data",
          "data": {
            "text/plain": [
              "<Figure size 720x1440 with 1 Axes>"
            ],
            "image/png": "[encoded data removed]"
          },
          "metadata": {
            "needs_background": "light"
          }
        }
      ]
    },
    {
      "cell_type": "code",
      "source": [
        "# Apply the functions to the data\n",
        "df[['gdp_per_capita ($)','population','HDI for year','suicides/100k pop']] = df[['gdp_per_capita ($)','population','HDI for year','suicides/100k pop']].apply(replace_outliers_median)"
      ],
      "metadata": {
        "id": "-BW8ba-70OwU"
      },
      "execution_count": 482,
      "outputs": []
    },
    {
      "cell_type": "code",
      "source": [
        "df3 = pd.DataFrame(df, columns = ['gdp_per_capita ($)','population','HDI for year','suicides/100k pop'])  \n",
        "plt.figure(figsize = (10, 20)) \n",
        "  \n",
        "df3.boxplot()"
      ],
      "metadata": {
        "colab": {
          "base_uri": "https://localhost:8080/",
          "height": 1000
        },
        "id": "q99K6S4r0Wol",
        "outputId": "68e4ebb0-a5ce-4932-9e05-085ac004e2d1"
      },
      "execution_count": 483,
      "outputs": [
        {
          "output_type": "execute_result",
          "data": {
            "text/plain": [
              "<AxesSubplot:>"
            ]
          },
          "metadata": {},
          "execution_count": 483
        },
        {
          "output_type": "display_data",
          "data": {
            "text/plain": [
              "<Figure size 720x1440 with 1 Axes>"
            ],
            "image/png": "[encoded data removed]"
          },
          "metadata": {
            "needs_background": "light"
          }
        }
      ]
    },
    {
      "cell_type": "code",
      "source": [
        "# Apply the functions to the data\n",
        "df[['gdp_per_capita ($)','population','suicides/100k pop']] = df[['gdp_per_capita ($)','population','suicides/100k pop']].apply(replace_outliers_median)"
      ],
      "metadata": {
        "id": "hrHNuDTm0Zed"
      },
      "execution_count": 484,
      "outputs": []
    },
    {
      "cell_type": "code",
      "source": [
        "df3 = pd.DataFrame(df, columns = ['gdp_per_capita ($)','population','HDI for year','suicides/100k pop'])  \n",
        "plt.figure(figsize = (10, 20)) \n",
        "  \n",
        "df3.boxplot()"
      ],
      "metadata": {
        "colab": {
          "base_uri": "https://localhost:8080/",
          "height": 1000
        },
        "id": "I191tF4p0k3X",
        "outputId": "2e4656a7-187c-452a-d77b-1aa251bd1b10"
      },
      "execution_count": 485,
      "outputs": [
        {
          "output_type": "execute_result",
          "data": {
            "text/plain": [
              "<AxesSubplot:>"
            ]
          },
          "metadata": {},
          "execution_count": 485
        },
        {
          "output_type": "display_data",
          "data": {
            "text/plain": [
              "<Figure size 720x1440 with 1 Axes>"
            ],
            "image/png": "[encoded data removed]"
          },
          "metadata": {
            "needs_background": "light"
          }
        }
      ]
    },
    {
      "cell_type": "code",
      "source": [
        "# Apply the functions to the data\n",
        "df[['gdp_per_capita ($)','suicides/100k pop']] = df[['gdp_per_capita ($)','suicides/100k pop']].apply(replace_outliers_median)"
      ],
      "metadata": {
        "id": "-NKrFAIE0n5X"
      },
      "execution_count": 486,
      "outputs": []
    },
    {
      "cell_type": "code",
      "source": [
        "df3 = pd.DataFrame(df, columns = ['gdp_per_capita ($)','population','HDI for year','suicides/100k pop'])  \n",
        "plt.figure(figsize = (10, 20)) \n",
        "  \n",
        "df3.boxplot()"
      ],
      "metadata": {
        "colab": {
          "base_uri": "https://localhost:8080/",
          "height": 1000
        },
        "id": "_eJ8Uw7u0wLR",
        "outputId": "552e411a-adc8-4385-af24-5682b353a53f"
      },
      "execution_count": 487,
      "outputs": [
        {
          "output_type": "execute_result",
          "data": {
            "text/plain": [
              "<AxesSubplot:>"
            ]
          },
          "metadata": {},
          "execution_count": 487
        },
        {
          "output_type": "display_data",
          "data": {
            "text/plain": [
              "<Figure size 720x1440 with 1 Axes>"
            ],
            "image/png": "[encoded data removed]"
          },
          "metadata": {
            "needs_background": "light"
          }
        }
      ]
    },
    {
      "cell_type": "code",
      "source": [
        "# Apply the functions to the data\n",
        "df[['gdp_per_capita ($)','suicides/100k pop']] = df[['gdp_per_capita ($)','suicides/100k pop']].apply(replace_outliers_median)"
      ],
      "metadata": {
        "id": "87LGNHHnggQl"
      },
      "execution_count": 488,
      "outputs": []
    },
    {
      "cell_type": "code",
      "source": [
        "df3 = pd.DataFrame(df, columns = ['gdp_per_capita ($)','population','HDI for year','suicides/100k pop'])  \n",
        "plt.figure(figsize = (10, 20)) \n",
        "  \n",
        "df3.boxplot()"
      ],
      "metadata": {
        "colab": {
          "base_uri": "https://localhost:8080/",
          "height": 1000
        },
        "id": "YofADD8jgk0S",
        "outputId": "f3b3e75d-89f2-4b3f-a38b-980461005c3c"
      },
      "execution_count": 489,
      "outputs": [
        {
          "output_type": "execute_result",
          "data": {
            "text/plain": [
              "<AxesSubplot:>"
            ]
          },
          "metadata": {},
          "execution_count": 489
        },
        {
          "output_type": "display_data",
          "data": {
            "text/plain": [
              "<Figure size 720x1440 with 1 Axes>"
            ],
            "image/png": "[encoded data removed]"
          },
          "metadata": {
            "needs_background": "light"
          }
        }
      ]
    },
    {
      "cell_type": "code",
      "source": [
        "# Apply the functions to the data\n",
        "df[['gdp_per_capita ($)','suicides/100k pop']] = df[['gdp_per_capita ($)','suicides/100k pop']].apply(replace_outliers_median)"
      ],
      "metadata": {
        "id": "ECVGRFRYgnwL"
      },
      "execution_count": 490,
      "outputs": []
    },
    {
      "cell_type": "code",
      "source": [
        "df3 = pd.DataFrame(df, columns = ['gdp_per_capita ($)','population','HDI for year','suicides/100k pop'])  \n",
        "plt.figure(figsize = (10, 20)) \n",
        "  \n",
        "df3.boxplot()"
      ],
      "metadata": {
        "colab": {
          "base_uri": "https://localhost:8080/",
          "height": 1000
        },
        "id": "BJUH9zUzgrWM",
        "outputId": "61d0458b-ac81-45a0-db9a-0b2ecfd2c3a7"
      },
      "execution_count": 491,
      "outputs": [
        {
          "output_type": "execute_result",
          "data": {
            "text/plain": [
              "<AxesSubplot:>"
            ]
          },
          "metadata": {},
          "execution_count": 491
        },
        {
          "output_type": "display_data",
          "data": {
            "text/plain": [
              "<Figure size 720x1440 with 1 Axes>"
            ],
            "image/png": "[encoded data removed]"
          },
          "metadata": {
            "needs_background": "light"
          }
        }
      ]
    },
    {
      "cell_type": "code",
      "source": [
        "# Apply the functions to the data\n",
        "df[['gdp_per_capita ($)']] = df[['gdp_per_capita ($)']].apply(replace_outliers_median)"
      ],
      "metadata": {
        "id": "izUedJeTgy2T"
      },
      "execution_count": 492,
      "outputs": []
    },
    {
      "cell_type": "code",
      "source": [
        "df3 = pd.DataFrame(df, columns = ['gdp_per_capita ($)','population','HDI for year','suicides/100k pop'])  \n",
        "plt.figure(figsize = (10, 20)) \n",
        "  \n",
        "df3.boxplot()"
      ],
      "metadata": {
        "colab": {
          "base_uri": "https://localhost:8080/",
          "height": 1000
        },
        "id": "YuVm9qRXgy5W",
        "outputId": "6af7e908-dbbf-44ec-8eee-8b19a5ab6f9a"
      },
      "execution_count": 493,
      "outputs": [
        {
          "output_type": "execute_result",
          "data": {
            "text/plain": [
              "<AxesSubplot:>"
            ]
          },
          "metadata": {},
          "execution_count": 493
        },
        {
          "output_type": "display_data",
          "data": {
            "text/plain": [
              "<Figure size 720x1440 with 1 Axes>"
            ],
            "image/png": "[encoded data removed]"
          },
          "metadata": {
            "needs_background": "light"
          }
        }
      ]
    },
    {
      "cell_type": "code",
      "source": [
        " \n",
        "  \n",
        "# plotting correlation heatmap\n",
        "dataplot=sns.heatmap(df.corr())\n",
        "  \n",
        "# displaying heatmap\n",
        "plt.show()"
      ],
      "metadata": {
        "id": "AZYCzoOI1OXR",
        "colab": {
          "base_uri": "https://localhost:8080/",
          "height": 353
        },
        "outputId": "befc38a0-468a-4ab7-8383-0edb4d670c6b"
      },
      "execution_count": 494,
      "outputs": [
        {
          "output_type": "display_data",
          "data": {
            "text/plain": [
              "<Figure size 432x288 with 2 Axes>"
            ],
            "image/png": "[encoded data removed]"
          },
          "metadata": {
            "needs_background": "light"
          }
        }
      ]
    },
    {
      "cell_type": "code",
      "source": [
        "df.columns"
      ],
      "metadata": {
        "colab": {
          "base_uri": "https://localhost:8080/"
        },
        "id": "n_uDzlBW7-QY",
        "outputId": "658b0954-6bf0-4504-d998-1761a7fca6c3"
      },
      "execution_count": 495,
      "outputs": [
        {
          "output_type": "execute_result",
          "data": {
            "text/plain": [
              "Index(['id', 'HDI for year', ' gdp_for_year ($) ', 'gdp_per_capita ($)',\n",
              "       'generation', 'country', 'year', 'sex', 'age', 'suicides_no',\n",
              "       'population', 'suicides/100k pop'],\n",
              "      dtype='object')"
            ]
          },
          "metadata": {},
          "execution_count": 495
        }
      ]
    },
    {
      "cell_type": "code",
      "source": [
        "#df = df.drop(columns = ' gdp_for_year ($) ')"
      ],
      "metadata": {
        "id": "je0sJW47FhXs"
      },
      "execution_count": 496,
      "outputs": []
    },
    {
      "cell_type": "code",
      "source": [
        "gender_suicides = df.groupby('sex')['suicides_no'].sum()\n",
        "\n",
        "# Create a bar chart with the counts for each gender\n",
        "gender_suicides.plot(kind='bar', color=['blue', 'pink'])\n",
        "plt.xlabel('Gender')\n",
        "plt.ylabel('Number of Suicides')\n",
        "plt.show()"
      ],
      "metadata": {
        "colab": {
          "base_uri": "https://localhost:8080/",
          "height": 315
        },
        "id": "MwW2cVOb7-TO",
        "outputId": "53c273ae-c72d-43f4-dce5-a3cceb35feaa"
      },
      "execution_count": 497,
      "outputs": [
        {
          "output_type": "display_data",
          "data": {
            "text/plain": [
              "<Figure size 432x288 with 1 Axes>"
            ],
            "image/png": "[encoded data removed]"
          },
          "metadata": {
            "needs_background": "light"
          }
        }
      ]
    },
    {
      "cell_type": "code",
      "source": [
        "gender_suicides"
      ],
      "metadata": {
        "colab": {
          "base_uri": "https://localhost:8080/"
        },
        "id": "mc2w7rGD_q6W",
        "outputId": "e39e30ed-6cb2-4835-e9df-ac0ee56d6274"
      },
      "execution_count": 498,
      "outputs": [
        {
          "output_type": "execute_result",
          "data": {
            "text/plain": [
              "sex\n",
              "female    1270981.0\n",
              "male      4158951.0\n",
              "Name: suicides_no, dtype: float64"
            ]
          },
          "metadata": {},
          "execution_count": 498
        }
      ]
    },
    {
      "cell_type": "code",
      "source": [
        "age_sex_suicides = df.groupby(['age', 'sex'])['suicides_no'].sum()\n",
        "\n",
        "# Unstack the sex index to create separate bars for male and female for each age group\n",
        "age_sex_suicides = age_sex_suicides.unstack()\n",
        "\n",
        "# Create a grouped bar chart with the counts for each age and sex\n",
        "age_sex_suicides.plot(kind='bar', color=['blue', 'pink'])\n",
        "plt.xlabel('Age')\n",
        "plt.ylabel('Number of Suicides')\n",
        "plt.legend(title='Sex', labels=['Female', 'Male'])\n",
        "plt.show()"
      ],
      "metadata": {
        "colab": {
          "base_uri": "https://localhost:8080/",
          "height": 340
        },
        "id": "3wr9OqlaAV1s",
        "outputId": "14aab8c8-5d45-4c2a-9b72-2596e48069e2"
      },
      "execution_count": 499,
      "outputs": [
        {
          "output_type": "display_data",
          "data": {
            "text/plain": [
              "<Figure size 432x288 with 1 Axes>"
            ],
            "image/png": "[encoded data removed]"
          },
          "metadata": {
            "needs_background": "light"
          }
        }
      ]
    },
    {
      "cell_type": "code",
      "source": [
        "age_sex_suicides = df.groupby(['generation', 'sex'])['suicides_no'].sum()\n",
        "\n",
        "# Unstack the sex index to create separate bars for male and female for each age group\n",
        "age_sex_suicides = age_sex_suicides.unstack()\n",
        "\n",
        "# Create a grouped bar chart with the counts for each age and sex\n",
        "age_sex_suicides.plot(kind='bar', color=['blue', 'pink'])\n",
        "plt.xlabel('generation')\n",
        "plt.ylabel('Number of Suicides')\n",
        "plt.legend(title='Sex', labels=['Female', 'Male'])\n",
        "plt.show()"
      ],
      "metadata": {
        "colab": {
          "base_uri": "https://localhost:8080/",
          "height": 356
        },
        "id": "mpPGBm2bAV4m",
        "outputId": "4a3834fc-ccf7-468b-8462-120f4abfbd55"
      },
      "execution_count": 500,
      "outputs": [
        {
          "output_type": "display_data",
          "data": {
            "text/plain": [
              "<Figure size 432x288 with 1 Axes>"
            ],
            "image/png": "[encoded data removed]"
          },
          "metadata": {
            "needs_background": "light"
          }
        }
      ]
    },
    {
      "cell_type": "code",
      "source": [
        "top10_cars = df['country'].value_counts().sort_values(ascending = False)[:10]\n",
        "top10_mean_prices = [df[df['country'] == i]['suicides_no'].mean() for i in list(top10_cars.index)]\n",
        "\n",
        "fig = plt.figure(figsize=(14,6))\n",
        "ax = fig.add_subplot(121)\n",
        "sns.barplot(top10_cars.index, top10_cars.values, palette='hot')\n",
        "plt.xticks(rotation = 90)\n",
        "plt.ylabel('# Cars')\n",
        "plt.title('Distribution of Category')\n",
        "\n",
        "ax2 = fig.add_subplot(122)\n",
        "sns.lineplot(top10_cars.index, top10_mean_prices, color='r')\n",
        "plt.xticks(rotation = 90)\n",
        "plt.ylabel('mean of suicides')\n",
        "plt.title(\"Categories and its Mean Suicides\")\n",
        "plt.show()"
      ],
      "metadata": {
        "colab": {
          "base_uri": "https://localhost:8080/",
          "height": 467
        },
        "id": "PQGl-ikGAV7g",
        "outputId": "f98e3de7-f73c-4846-a756-e5bd0909201a"
      },
      "execution_count": 501,
      "outputs": [
        {
          "output_type": "display_data",
          "data": {
            "text/plain": [
              "<Figure size 1008x432 with 2 Axes>"
            ],
            "image/png": "[encoded data removed]"
          },
          "metadata": {
            "needs_background": "light"
          }
        }
      ]
    },
    {
      "cell_type": "code",
      "source": [
        "malta_data = df[df['country'] == 'Republic of Korea']\n",
        "\n",
        "# Compute the mean of 'gdp per capita'\n",
        "mean_gdp = malta_data['gdp_per_capita ($)'].mean()\n",
        "\n",
        "print(\"Mean GDP per capita of Malta: \", mean_gdp)"
      ],
      "metadata": {
        "colab": {
          "base_uri": "https://localhost:8080/"
        },
        "id": "2EGLAARkFQiK",
        "outputId": "dcd42d69-7918-483a-9d51-32e0300bbe54"
      },
      "execution_count": 502,
      "outputs": [
        {
          "output_type": "stream",
          "name": "stdout",
          "text": [
            "Mean GDP per capita of Malta:  11429.464516129032\n"
          ]
        }
      ]
    },
    {
      "cell_type": "code",
      "source": [
        "top10_cars = df['country'].value_counts().sort_values(ascending = False)[:10]\n",
        "top10_mean_prices = [df[df['country'] == i]['population'].mean() for i in list(top10_cars.index)]\n",
        "\n",
        "fig = plt.figure(figsize=(14,6))\n",
        "ax = fig.add_subplot(121)\n",
        "sns.barplot(top10_cars.index, top10_cars.values, palette='hot')\n",
        "plt.xticks(rotation = 90)\n",
        "plt.ylabel('# Cars')\n",
        "plt.title('Distribution of Category')\n",
        "\n",
        "ax2 = fig.add_subplot(122)\n",
        "sns.lineplot(top10_cars.index, top10_mean_prices, color='r')\n",
        "plt.xticks(rotation = 90)\n",
        "plt.ylabel('Mean Prices')\n",
        "plt.title(\"Categories and its Mean Prices\")\n",
        "plt.show()"
      ],
      "metadata": {
        "colab": {
          "base_uri": "https://localhost:8080/",
          "height": 467
        },
        "id": "K1Fi9akUGIn5",
        "outputId": "613907db-2563-4a24-90c1-b8180085a803"
      },
      "execution_count": 503,
      "outputs": [
        {
          "output_type": "display_data",
          "data": {
            "text/plain": [
              "<Figure size 1008x432 with 2 Axes>"
            ],
            "image/png": "[encoded data removed]"
          },
          "metadata": {
            "needs_background": "light"
          }
        }
      ]
    },
    {
      "cell_type": "code",
      "source": [
        "df= df.drop(columns = ['id'])"
      ],
      "metadata": {
        "id": "76RBx3Yqx50j"
      },
      "execution_count": 504,
      "outputs": []
    },
    {
      "cell_type": "code",
      "source": [
        "df.info()"
      ],
      "metadata": {
        "colab": {
          "base_uri": "https://localhost:8080/"
        },
        "id": "A1GHYiec7VwK",
        "outputId": "76c45fbd-60cd-4a24-8e2d-5ba058cca7c2"
      },
      "execution_count": 505,
      "outputs": [
        {
          "output_type": "stream",
          "name": "stdout",
          "text": [
            "<class 'pandas.core.frame.DataFrame'>\n",
            "Int64Index: 22820 entries, 0 to 22819\n",
            "Data columns (total 11 columns):\n",
            " #   Column              Non-Null Count  Dtype  \n",
            "---  ------              --------------  -----  \n",
            " 0   HDI for year        22820 non-null  float64\n",
            " 1    gdp_for_year ($)   22820 non-null  float64\n",
            " 2   gdp_per_capita ($)  22820 non-null  float64\n",
            " 3   generation          22820 non-null  object \n",
            " 4   country             22820 non-null  object \n",
            " 5   year                22820 non-null  float64\n",
            " 6   sex                 22820 non-null  object \n",
            " 7   age                 22820 non-null  object \n",
            " 8   suicides_no         22820 non-null  float64\n",
            " 9   population          22820 non-null  float64\n",
            " 10  suicides/100k pop   22820 non-null  float64\n",
            "dtypes: float64(7), object(4)\n",
            "memory usage: 2.1+ MB\n"
          ]
        }
      ]
    },
    {
      "cell_type": "code",
      "source": [
        "df.nunique()"
      ],
      "metadata": {
        "colab": {
          "base_uri": "https://localhost:8080/"
        },
        "id": "iieZhkit7cwF",
        "outputId": "65db2060-a02f-4ece-89de-f69d7ca30ccf"
      },
      "execution_count": 506,
      "outputs": [
        {
          "output_type": "execute_result",
          "data": {
            "text/plain": [
              "HDI for year            304\n",
              " gdp_for_year ($)      2321\n",
              "gdp_per_capita ($)     1604\n",
              "generation                6\n",
              "country                 101\n",
              "year                     32\n",
              "sex                       2\n",
              "age                       6\n",
              "suicides_no            1878\n",
              "population            12836\n",
              "suicides/100k pop      1344\n",
              "dtype: int64"
            ]
          },
          "metadata": {},
          "execution_count": 506
        }
      ]
    },
    {
      "cell_type": "code",
      "source": [
        "df['year'].value_counts()"
      ],
      "metadata": {
        "colab": {
          "base_uri": "https://localhost:8080/"
        },
        "id": "r0SfFins7gb5",
        "outputId": "eff5b72e-1861-4eb9-aee8-c030c1aa9c9d"
      },
      "execution_count": 507,
      "outputs": [
        {
          "output_type": "execute_result",
          "data": {
            "text/plain": [
              "2001.0    889\n",
              "2010.0    876\n",
              "2000.0    867\n",
              "2011.0    866\n",
              "2009.0    862\n",
              "2008.0    845\n",
              "2006.0    842\n",
              "2004.0    840\n",
              "2003.0    835\n",
              "2007.0    823\n",
              "2005.0    819\n",
              "2012.0    817\n",
              "2002.0    804\n",
              "1999.0    795\n",
              "2013.0    787\n",
              "1998.0    783\n",
              "1995.0    770\n",
              "1996.0    753\n",
              "2014.0    749\n",
              "1997.0    748\n",
              "1994.0    680\n",
              "1991.0    653\n",
              "1993.0    639\n",
              "1990.0    637\n",
              "2015.0    620\n",
              "1992.0    618\n",
              "1987.0    532\n",
              "1989.0    512\n",
              "1988.0    490\n",
              "1985.0    481\n",
              "1986.0    465\n",
              "2016.0    123\n",
              "Name: year, dtype: int64"
            ]
          },
          "metadata": {},
          "execution_count": 507
        }
      ]
    },
    {
      "cell_type": "code",
      "source": [
        "df.info()"
      ],
      "metadata": {
        "colab": {
          "base_uri": "https://localhost:8080/"
        },
        "id": "E9ygbAxLh2aH",
        "outputId": "f24cdf1e-b239-4d1d-b028-2ba9290e5cf8"
      },
      "execution_count": 508,
      "outputs": [
        {
          "output_type": "stream",
          "name": "stdout",
          "text": [
            "<class 'pandas.core.frame.DataFrame'>\n",
            "Int64Index: 22820 entries, 0 to 22819\n",
            "Data columns (total 11 columns):\n",
            " #   Column              Non-Null Count  Dtype  \n",
            "---  ------              --------------  -----  \n",
            " 0   HDI for year        22820 non-null  float64\n",
            " 1    gdp_for_year ($)   22820 non-null  float64\n",
            " 2   gdp_per_capita ($)  22820 non-null  float64\n",
            " 3   generation          22820 non-null  object \n",
            " 4   country             22820 non-null  object \n",
            " 5   year                22820 non-null  float64\n",
            " 6   sex                 22820 non-null  object \n",
            " 7   age                 22820 non-null  object \n",
            " 8   suicides_no         22820 non-null  float64\n",
            " 9   population          22820 non-null  float64\n",
            " 10  suicides/100k pop   22820 non-null  float64\n",
            "dtypes: float64(7), object(4)\n",
            "memory usage: 2.1+ MB\n"
          ]
        }
      ]
    },
    {
      "cell_type": "code",
      "source": [
        "from sklearn.preprocessing import LabelEncoder\n",
        "# create a label encoder object\n",
        "le = LabelEncoder()\n",
        "\n",
        "# apply label encoding to each categorical variable\n",
        "df['generation'] = le.fit_transform(df['generation'])\n",
        "df['country'] = le.fit_transform(df['country'])\n",
        "df['sex'] = le.fit_transform(df['sex'])\n",
        "df['age'] = le.fit_transform(df['age'])\n",
        "#df['year'] = le.fit_transform(df['year'])\n",
        "\n",
        "# print the encoded data frame\n",
        "df"
      ],
      "metadata": {
        "colab": {
          "base_uri": "https://localhost:8080/",
          "height": 423
        },
        "id": "j2uFhG_07pDF",
        "outputId": "463b516f-706c-48bc-c5b5-8160e6f77f37"
      },
      "execution_count": 509,
      "outputs": [
        {
          "output_type": "execute_result",
          "data": {
            "text/plain": [
              "       HDI for year   gdp_for_year ($)   gdp_per_capita ($)  generation  \\\n",
              "0             0.650        2.156625e+09               796.0           2   \n",
              "1             0.650        2.156625e+09               796.0           5   \n",
              "2             0.650        2.156625e+09               796.0           1   \n",
              "3             0.650        2.156625e+09               796.0           0   \n",
              "4             0.650        2.156625e+09               796.0           1   \n",
              "...             ...                 ...                 ...         ...   \n",
              "22815         0.675        6.306708e+10              2309.0           2   \n",
              "22816         0.675        6.306708e+10              2309.0           5   \n",
              "22817         0.675        6.306708e+10              2309.0           3   \n",
              "22818         0.675        6.306708e+10              2309.0           3   \n",
              "22819         0.675        6.306708e+10              2309.0           0   \n",
              "\n",
              "       country    year  sex  age  suicides_no  population  suicides/100k pop  \n",
              "0            0  1987.0    1    5         21.0   312900.00               6.71  \n",
              "1            0  1987.0    1    5         16.0   308000.00               5.19  \n",
              "2            0  1987.0    1    5          1.0   154950.00               4.59  \n",
              "3            0  1987.0    1    1          9.0   274300.00               3.28  \n",
              "4            0  1987.0    0    5          1.0    35600.00               2.81  \n",
              "...        ...     ...  ...  ...          ...         ...                ...  \n",
              "22815      100  2014.0    0    2        107.0   440431.00               2.96  \n",
              "22816      100  2014.0    0    5          9.0   348465.00               2.58  \n",
              "22817      100  2014.0    1    3         60.0   440415.50               2.17  \n",
              "22818      100  2014.0    0    5         44.0   440415.50               1.67  \n",
              "22819      100  2014.0    0    5         21.0   440407.75               1.46  \n",
              "\n",
              "[22820 rows x 11 columns]"
            ],
            "text/html": [
              "\n",
              "  <div id=\"df-e8735717-73f8-4761-9fbc-559b7a2b7c67\">\n",
              "    <div class=\"colab-df-container\">\n",
              "      <div>\n",
              "<style scoped>\n",
              "    .dataframe tbody tr th:only-of-type {\n",
              "        vertical-align: middle;\n",
              "    }\n",
              "\n",
              "    .dataframe tbody tr th {\n",
              "        vertical-align: top;\n",
              "    }\n",
              "\n",
              "    .dataframe thead th {\n",
              "        text-align: right;\n",
              "    }\n",
              "</style>\n",
              "<table border=\"1\" class=\"dataframe\">\n",
              "  <thead>\n",
              "    <tr style=\"text-align: right;\">\n",
              "      <th></th>\n",
              "      <th>HDI for year</th>\n",
              "      <th>gdp_for_year ($)</th>\n",
              "      <th>gdp_per_capita ($)</th>\n",
              "      <th>generation</th>\n",
              "      <th>country</th>\n",
              "      <th>year</th>\n",
              "      <th>sex</th>\n",
              "      <th>age</th>\n",
              "      <th>suicides_no</th>\n",
              "      <th>population</th>\n",
              "      <th>suicides/100k pop</th>\n",
              "    </tr>\n",
              "  </thead>\n",
              "  <tbody>\n",
              "    <tr>\n",
              "      <th>0</th>\n",
              "      <td>0.650</td>\n",
              "      <td>2.156625e+09</td>\n",
              "      <td>796.0</td>\n",
              "      <td>2</td>\n",
              "      <td>0</td>\n",
              "      <td>1987.0</td>\n",
              "      <td>1</td>\n",
              "      <td>5</td>\n",
              "      <td>21.0</td>\n",
              "      <td>312900.00</td>\n",
              "      <td>6.71</td>\n",
              "    </tr>\n",
              "    <tr>\n",
              "      <th>1</th>\n",
              "      <td>0.650</td>\n",
              "      <td>2.156625e+09</td>\n",
              "      <td>796.0</td>\n",
              "      <td>5</td>\n",
              "      <td>0</td>\n",
              "      <td>1987.0</td>\n",
              "      <td>1</td>\n",
              "      <td>5</td>\n",
              "      <td>16.0</td>\n",
              "      <td>308000.00</td>\n",
              "      <td>5.19</td>\n",
              "    </tr>\n",
              "    <tr>\n",
              "      <th>2</th>\n",
              "      <td>0.650</td>\n",
              "      <td>2.156625e+09</td>\n",
              "      <td>796.0</td>\n",
              "      <td>1</td>\n",
              "      <td>0</td>\n",
              "      <td>1987.0</td>\n",
              "      <td>1</td>\n",
              "      <td>5</td>\n",
              "      <td>1.0</td>\n",
              "      <td>154950.00</td>\n",
              "      <td>4.59</td>\n",
              "    </tr>\n",
              "    <tr>\n",
              "      <th>3</th>\n",
              "      <td>0.650</td>\n",
              "      <td>2.156625e+09</td>\n",
              "      <td>796.0</td>\n",
              "      <td>0</td>\n",
              "      <td>0</td>\n",
              "      <td>1987.0</td>\n",
              "      <td>1</td>\n",
              "      <td>1</td>\n",
              "      <td>9.0</td>\n",
              "      <td>274300.00</td>\n",
              "      <td>3.28</td>\n",
              "    </tr>\n",
              "    <tr>\n",
              "      <th>4</th>\n",
              "      <td>0.650</td>\n",
              "      <td>2.156625e+09</td>\n",
              "      <td>796.0</td>\n",
              "      <td>1</td>\n",
              "      <td>0</td>\n",
              "      <td>1987.0</td>\n",
              "      <td>0</td>\n",
              "      <td>5</td>\n",
              "      <td>1.0</td>\n",
              "      <td>35600.00</td>\n",
              "      <td>2.81</td>\n",
              "    </tr>\n",
              "    <tr>\n",
              "      <th>...</th>\n",
              "      <td>...</td>\n",
              "      <td>...</td>\n",
              "      <td>...</td>\n",
              "      <td>...</td>\n",
              "      <td>...</td>\n",
              "      <td>...</td>\n",
              "      <td>...</td>\n",
              "      <td>...</td>\n",
              "      <td>...</td>\n",
              "      <td>...</td>\n",
              "      <td>...</td>\n",
              "    </tr>\n",
              "    <tr>\n",
              "      <th>22815</th>\n",
              "      <td>0.675</td>\n",
              "      <td>6.306708e+10</td>\n",
              "      <td>2309.0</td>\n",
              "      <td>2</td>\n",
              "      <td>100</td>\n",
              "      <td>2014.0</td>\n",
              "      <td>0</td>\n",
              "      <td>2</td>\n",
              "      <td>107.0</td>\n",
              "      <td>440431.00</td>\n",
              "      <td>2.96</td>\n",
              "    </tr>\n",
              "    <tr>\n",
              "      <th>22816</th>\n",
              "      <td>0.675</td>\n",
              "      <td>6.306708e+10</td>\n",
              "      <td>2309.0</td>\n",
              "      <td>5</td>\n",
              "      <td>100</td>\n",
              "      <td>2014.0</td>\n",
              "      <td>0</td>\n",
              "      <td>5</td>\n",
              "      <td>9.0</td>\n",
              "      <td>348465.00</td>\n",
              "      <td>2.58</td>\n",
              "    </tr>\n",
              "    <tr>\n",
              "      <th>22817</th>\n",
              "      <td>0.675</td>\n",
              "      <td>6.306708e+10</td>\n",
              "      <td>2309.0</td>\n",
              "      <td>3</td>\n",
              "      <td>100</td>\n",
              "      <td>2014.0</td>\n",
              "      <td>1</td>\n",
              "      <td>3</td>\n",
              "      <td>60.0</td>\n",
              "      <td>440415.50</td>\n",
              "      <td>2.17</td>\n",
              "    </tr>\n",
              "    <tr>\n",
              "      <th>22818</th>\n",
              "      <td>0.675</td>\n",
              "      <td>6.306708e+10</td>\n",
              "      <td>2309.0</td>\n",
              "      <td>3</td>\n",
              "      <td>100</td>\n",
              "      <td>2014.0</td>\n",
              "      <td>0</td>\n",
              "      <td>5</td>\n",
              "      <td>44.0</td>\n",
              "      <td>440415.50</td>\n",
              "      <td>1.67</td>\n",
              "    </tr>\n",
              "    <tr>\n",
              "      <th>22819</th>\n",
              "      <td>0.675</td>\n",
              "      <td>6.306708e+10</td>\n",
              "      <td>2309.0</td>\n",
              "      <td>0</td>\n",
              "      <td>100</td>\n",
              "      <td>2014.0</td>\n",
              "      <td>0</td>\n",
              "      <td>5</td>\n",
              "      <td>21.0</td>\n",
              "      <td>440407.75</td>\n",
              "      <td>1.46</td>\n",
              "    </tr>\n",
              "  </tbody>\n",
              "</table>\n",
              "<p>22820 rows × 11 columns</p>\n",
              "</div>\n",
              "      <button class=\"colab-df-convert\" onclick=\"convertToInteractive('df-e8735717-73f8-4761-9fbc-559b7a2b7c67')\"\n",
              "              title=\"Convert this dataframe to an interactive table.\"\n",
              "              style=\"display:none;\">\n",
              "        \n",
              "  <svg xmlns=\"http://www.w3.org/2000/svg\" height=\"24px\"viewBox=\"0 0 24 24\"\n",
              "       width=\"24px\">\n",
              "    <path d=\"M0 0h24v24H0V0z\" fill=\"none\"/>\n",
              "    <path d=\"M18.56 5.44l.94 2.06.94-2.06 2.06-.94-2.06-.94-.94-2.06-.94 2.06-2.06.94zm-11 1L8.5 8.5l.94-2.06 2.06-.94-2.06-.94L8.5 2.5l-.94 2.06-2.06.94zm10 10l.94 2.06.94-2.06 2.06-.94-2.06-.94-.94-2.06-.94 2.06-2.06.94z\"/><path d=\"M17.41 7.96l-1.37-1.37c-.4-.4-.92-.59-1.43-.59-.52 0-1.04.2-1.43.59L10.3 9.45l-7.72 7.72c-.78.78-.78 2.05 0 2.83L4 21.41c.39.39.9.59 1.41.59.51 0 1.02-.2 1.41-.59l7.78-7.78 2.81-2.81c.8-.78.8-2.07 0-2.86zM5.41 20L4 18.59l7.72-7.72 1.47 1.35L5.41 20z\"/>\n",
              "  </svg>\n",
              "      </button>\n",
              "      \n",
              "  <style>\n",
              "    .colab-df-container {\n",
              "      display:flex;\n",
              "      flex-wrap:wrap;\n",
              "      gap: 12px;\n",
              "    }\n",
              "\n",
              "    .colab-df-convert {\n",
              "      background-color: #E8F0FE;\n",
              "      border: none;\n",
              "      border-radius: 50%;\n",
              "      cursor: pointer;\n",
              "      display: none;\n",
              "      fill: #1967D2;\n",
              "      height: 32px;\n",
              "      padding: 0 0 0 0;\n",
              "      width: 32px;\n",
              "    }\n",
              "\n",
              "    .colab-df-convert:hover {\n",
              "      background-color: #E2EBFA;\n",
              "      box-shadow: 0px 1px 2px rgba(60, 64, 67, 0.3), 0px 1px 3px 1px rgba(60, 64, 67, 0.15);\n",
              "      fill: #174EA6;\n",
              "    }\n",
              "\n",
              "    [theme=dark] .colab-df-convert {\n",
              "      background-color: #3B4455;\n",
              "      fill: #D2E3FC;\n",
              "    }\n",
              "\n",
              "    [theme=dark] .colab-df-convert:hover {\n",
              "      background-color: #434B5C;\n",
              "      box-shadow: 0px 1px 3px 1px rgba(0, 0, 0, 0.15);\n",
              "      filter: drop-shadow(0px 1px 2px rgba(0, 0, 0, 0.3));\n",
              "      fill: #FFFFFF;\n",
              "    }\n",
              "  </style>\n",
              "\n",
              "      <script>\n",
              "        const buttonEl =\n",
              "          document.querySelector('#df-e8735717-73f8-4761-9fbc-559b7a2b7c67 button.colab-df-convert');\n",
              "        buttonEl.style.display =\n",
              "          google.colab.kernel.accessAllowed ? 'block' : 'none';\n",
              "\n",
              "        async function convertToInteractive(key) {\n",
              "          const element = document.querySelector('#df-e8735717-73f8-4761-9fbc-559b7a2b7c67');\n",
              "          const dataTable =\n",
              "            await google.colab.kernel.invokeFunction('convertToInteractive',\n",
              "                                                     [key], {});\n",
              "          if (!dataTable) return;\n",
              "\n",
              "          const docLinkHtml = 'Like what you see? Visit the ' +\n",
              "            '<a target=\"_blank\" href=https://colab.research.google.com/notebooks/data_table.ipynb>data table notebook</a>'\n",
              "            + ' to learn more about interactive tables.';\n",
              "          element.innerHTML = '';\n",
              "          dataTable['output_type'] = 'display_data';\n",
              "          await google.colab.output.renderOutput(dataTable, element);\n",
              "          const docLink = document.createElement('div');\n",
              "          docLink.innerHTML = docLinkHtml;\n",
              "          element.appendChild(docLink);\n",
              "        }\n",
              "      </script>\n",
              "    </div>\n",
              "  </div>\n",
              "  "
            ]
          },
          "metadata": {},
          "execution_count": 509
        }
      ]
    },
    {
      "cell_type": "code",
      "source": [
        "df['generation'] = df['generation'].astype('category')\n",
        "df['country'] = df['country'].astype('category')\n",
        "df['age'] = df['age'].astype('category')\n",
        "df['sex'] = df['sex'].astype('category')\n",
        "df['year'] = df['year'].astype('category')"
      ],
      "metadata": {
        "id": "Dmmp3B298OI1"
      },
      "execution_count": 510,
      "outputs": []
    },
    {
      "cell_type": "code",
      "source": [
        "df.info()"
      ],
      "metadata": {
        "colab": {
          "base_uri": "https://localhost:8080/"
        },
        "id": "73nVV1uclCmE",
        "outputId": "1ad34ced-c292-4e60-f87f-cc833ad6f2a7"
      },
      "execution_count": 511,
      "outputs": [
        {
          "output_type": "stream",
          "name": "stdout",
          "text": [
            "<class 'pandas.core.frame.DataFrame'>\n",
            "Int64Index: 22820 entries, 0 to 22819\n",
            "Data columns (total 11 columns):\n",
            " #   Column              Non-Null Count  Dtype   \n",
            "---  ------              --------------  -----   \n",
            " 0   HDI for year        22820 non-null  float64 \n",
            " 1    gdp_for_year ($)   22820 non-null  float64 \n",
            " 2   gdp_per_capita ($)  22820 non-null  float64 \n",
            " 3   generation          22820 non-null  category\n",
            " 4   country             22820 non-null  category\n",
            " 5   year                22820 non-null  category\n",
            " 6   sex                 22820 non-null  category\n",
            " 7   age                 22820 non-null  category\n",
            " 8   suicides_no         22820 non-null  float64 \n",
            " 9   population          22820 non-null  float64 \n",
            " 10  suicides/100k pop   22820 non-null  float64 \n",
            "dtypes: category(5), float64(6)\n",
            "memory usage: 1.3 MB\n"
          ]
        }
      ]
    },
    {
      "cell_type": "code",
      "source": [
        "# Defining a function to find the statistical relationship with all the categorical variables\n",
        "def FunctionAnova(inpData, TargetVariable, CategoricalPredictorList):\n",
        "    from scipy.stats import f_oneway\n",
        "\n",
        "    # Creating an empty list of final selected predictors\n",
        "    SelectedPredictors=[]\n",
        "    \n",
        "    print('##### ANOVA Results ##### \\n')\n",
        "    for predictor in CategoricalPredictorList:\n",
        "        CategoryGroupLists=inpData.groupby(predictor)[TargetVariable].apply(list)\n",
        "        AnovaResults = f_oneway(*CategoryGroupLists)\n",
        "        \n",
        "        # If the ANOVA P-Value is <0.05, that means we reject H0\n",
        "        if (AnovaResults[1] < 0.05):\n",
        "            print(predictor, 'is correlated with', TargetVariable, '| P-Value:', AnovaResults[1])\n",
        "            SelectedPredictors.append(predictor)\n",
        "        else:\n",
        "            print(predictor, 'is NOT correlated with', TargetVariable, '| P-Value:', AnovaResults[1])\n",
        "    \n",
        "    return(SelectedPredictors)"
      ],
      "metadata": {
        "id": "MHQywMA4yJ2z"
      },
      "execution_count": 512,
      "outputs": []
    },
    {
      "cell_type": "code",
      "source": [
        "# Calling the function to check which categorical variables are correlated with target\n",
        "# Calling the function to check which categorical variables are correlated with target\n",
        "CategoricalPredictorList=['generation', 'country', 'sex','age','year']\n",
        "FunctionAnova(inpData=df, \n",
        "              TargetVariable='suicides/100k pop', \n",
        "              CategoricalPredictorList=CategoricalPredictorList)"
      ],
      "metadata": {
        "colab": {
          "base_uri": "https://localhost:8080/"
        },
        "id": "RHURBaityJ5R",
        "outputId": "c5c6f78d-706b-42ce-b621-2bff71cab87c"
      },
      "execution_count": 513,
      "outputs": [
        {
          "output_type": "stream",
          "name": "stdout",
          "text": [
            "##### ANOVA Results ##### \n",
            "\n",
            "generation is correlated with suicides/100k pop | P-Value: 0.0\n",
            "country is correlated with suicides/100k pop | P-Value: 0.0\n",
            "sex is correlated with suicides/100k pop | P-Value: 2.345622794612887e-205\n",
            "age is correlated with suicides/100k pop | P-Value: 0.0\n",
            "year is correlated with suicides/100k pop | P-Value: 0.0012485484447380712\n"
          ]
        },
        {
          "output_type": "execute_result",
          "data": {
            "text/plain": [
              "['generation', 'country', 'sex', 'age', 'year']"
            ]
          },
          "metadata": {},
          "execution_count": 513
        }
      ]
    },
    {
      "cell_type": "code",
      "source": [
        "df.columns"
      ],
      "metadata": {
        "colab": {
          "base_uri": "https://localhost:8080/"
        },
        "id": "263n-F-kmoYM",
        "outputId": "9d733967-106d-4ebf-95ac-f5bd0e5fbd0a"
      },
      "execution_count": 514,
      "outputs": [
        {
          "output_type": "execute_result",
          "data": {
            "text/plain": [
              "Index(['HDI for year', ' gdp_for_year ($) ', 'gdp_per_capita ($)',\n",
              "       'generation', 'country', 'year', 'sex', 'age', 'suicides_no',\n",
              "       'population', 'suicides/100k pop'],\n",
              "      dtype='object')"
            ]
          },
          "metadata": {},
          "execution_count": 514
        }
      ]
    },
    {
      "cell_type": "code",
      "source": [
        "# Create a histogram\n",
        "plt.hist(df['HDI for year'], bins=30)\n",
        "plt.show()"
      ],
      "metadata": {
        "colab": {
          "base_uri": "https://localhost:8080/",
          "height": 265
        },
        "id": "3JnMwKVOiG50",
        "outputId": "4d8f1050-da8f-4ddf-e795-3f98bde7db08"
      },
      "execution_count": 515,
      "outputs": [
        {
          "output_type": "display_data",
          "data": {
            "text/plain": [
              "<Figure size 432x288 with 1 Axes>"
            ],
            "image/png": "[encoded data removed]"
          },
          "metadata": {
            "needs_background": "light"
          }
        }
      ]
    },
    {
      "cell_type": "code",
      "source": [
        "# Create a histogram\n",
        "plt.hist(df[' gdp_for_year ($) '], bins=30)\n",
        "plt.show()"
      ],
      "metadata": {
        "colab": {
          "base_uri": "https://localhost:8080/",
          "height": 278
        },
        "id": "o-KCFHzXmmDV",
        "outputId": "52392745-14ba-4311-c3ce-74137b43829b"
      },
      "execution_count": 516,
      "outputs": [
        {
          "output_type": "display_data",
          "data": {
            "text/plain": [
              "<Figure size 432x288 with 1 Axes>"
            ],
            "image/png": "[encoded data removed]"
          },
          "metadata": {
            "needs_background": "light"
          }
        }
      ]
    },
    {
      "cell_type": "code",
      "source": [
        "# Create a histogram\n",
        "plt.hist(df['gdp_per_capita ($)'], bins=30)\n",
        "plt.show()"
      ],
      "metadata": {
        "colab": {
          "base_uri": "https://localhost:8080/",
          "height": 265
        },
        "id": "BXricOm-mmGZ",
        "outputId": "7e372615-3b25-4dd4-e137-0e3b2eee8a37"
      },
      "execution_count": 517,
      "outputs": [
        {
          "output_type": "display_data",
          "data": {
            "text/plain": [
              "<Figure size 432x288 with 1 Axes>"
            ],
            "image/png": "[encoded data removed]"
          },
          "metadata": {
            "needs_background": "light"
          }
        }
      ]
    },
    {
      "cell_type": "code",
      "source": [
        "# Create a histogram\n",
        "plt.hist(df['population'], bins=30)\n",
        "plt.show()"
      ],
      "metadata": {
        "colab": {
          "base_uri": "https://localhost:8080/",
          "height": 265
        },
        "id": "iChKRvccmmJY",
        "outputId": "9e6db320-9c26-4961-ebe3-6c019487a7c0"
      },
      "execution_count": 518,
      "outputs": [
        {
          "output_type": "display_data",
          "data": {
            "text/plain": [
              "<Figure size 432x288 with 1 Axes>"
            ],
            "image/png": "[encoded data removed]"
          },
          "metadata": {
            "needs_background": "light"
          }
        }
      ]
    },
    {
      "cell_type": "code",
      "source": [
        "# Create a histogram\n",
        "plt.hist(df['suicides/100k pop'], bins=30)\n",
        "plt.show()"
      ],
      "metadata": {
        "colab": {
          "base_uri": "https://localhost:8080/",
          "height": 265
        },
        "id": "SfaGak8MmmM0",
        "outputId": "b87c88be-c2e3-4b6e-a8b7-5442bdb6c74a"
      },
      "execution_count": 519,
      "outputs": [
        {
          "output_type": "display_data",
          "data": {
            "text/plain": [
              "<Figure size 432x288 with 1 Axes>"
            ],
            "image/png": "[encoded data removed]"
          },
          "metadata": {
            "needs_background": "light"
          }
        }
      ]
    },
    {
      "cell_type": "code",
      "source": [
        "# Create a histogram\n",
        "plt.hist(df['suicides_no'], bins=30)\n",
        "plt.show()"
      ],
      "metadata": {
        "colab": {
          "base_uri": "https://localhost:8080/",
          "height": 265
        },
        "id": "1v5dJABeiHLk",
        "outputId": "b0a50237-9aea-4132-93f9-050e76988726"
      },
      "execution_count": 520,
      "outputs": [
        {
          "output_type": "display_data",
          "data": {
            "text/plain": [
              "<Figure size 432x288 with 1 Axes>"
            ],
            "image/png": "[encoded data removed]"
          },
          "metadata": {
            "needs_background": "light"
          }
        }
      ]
    },
    {
      "cell_type": "code",
      "source": [
        "df['population'].value_counts()"
      ],
      "metadata": {
        "colab": {
          "base_uri": "https://localhost:8080/"
        },
        "id": "pLaFyNqqnvFL",
        "outputId": "7911523a-2983-4203-a77e-60690b810429"
      },
      "execution_count": 521,
      "outputs": [
        {
          "output_type": "execute_result",
          "data": {
            "text/plain": [
              "440431.00    3384\n",
              "440415.50    2337\n",
              "440407.75    1806\n",
              "24000.00       18\n",
              "20700.00        9\n",
              "             ... \n",
              "322353.00       1\n",
              "273822.00       1\n",
              "290188.00       1\n",
              "302997.00       1\n",
              "348465.00       1\n",
              "Name: population, Length: 12836, dtype: int64"
            ]
          },
          "metadata": {},
          "execution_count": 521
        }
      ]
    },
    {
      "cell_type": "code",
      "source": [
        "df.info()"
      ],
      "metadata": {
        "colab": {
          "base_uri": "https://localhost:8080/"
        },
        "id": "jkKcRfyrpwA_",
        "outputId": "f61ee8a3-1779-4f4f-c918-3de2fff5f92e"
      },
      "execution_count": 522,
      "outputs": [
        {
          "output_type": "stream",
          "name": "stdout",
          "text": [
            "<class 'pandas.core.frame.DataFrame'>\n",
            "Int64Index: 22820 entries, 0 to 22819\n",
            "Data columns (total 11 columns):\n",
            " #   Column              Non-Null Count  Dtype   \n",
            "---  ------              --------------  -----   \n",
            " 0   HDI for year        22820 non-null  float64 \n",
            " 1    gdp_for_year ($)   22820 non-null  float64 \n",
            " 2   gdp_per_capita ($)  22820 non-null  float64 \n",
            " 3   generation          22820 non-null  category\n",
            " 4   country             22820 non-null  category\n",
            " 5   year                22820 non-null  category\n",
            " 6   sex                 22820 non-null  category\n",
            " 7   age                 22820 non-null  category\n",
            " 8   suicides_no         22820 non-null  float64 \n",
            " 9   population          22820 non-null  float64 \n",
            " 10  suicides/100k pop   22820 non-null  float64 \n",
            "dtypes: category(5), float64(6)\n",
            "memory usage: 1.3 MB\n"
          ]
        }
      ]
    },
    {
      "cell_type": "code",
      "source": [
        "df.describe()"
      ],
      "metadata": {
        "colab": {
          "base_uri": "https://localhost:8080/",
          "height": 300
        },
        "id": "pgmw5RgZwGRR",
        "outputId": "a64bda5d-d16a-4753-c5bd-c06824733aea"
      },
      "execution_count": 523,
      "outputs": [
        {
          "output_type": "execute_result",
          "data": {
            "text/plain": [
              "       HDI for year   gdp_for_year ($)   gdp_per_capita ($)   suicides_no  \\\n",
              "count  22820.000000        2.282000e+04        22820.000000  22820.000000   \n",
              "mean       0.767828        4.403971e+11         7917.845684    237.946188   \n",
              "std        0.091460        1.433605e+12         5245.500350    874.043851   \n",
              "min        0.513000        4.691962e+07          251.000000      0.000000   \n",
              "25%        0.697000        8.985353e+09         3447.000000      2.000000   \n",
              "50%        0.769000        4.811626e+10         9283.000000     25.000000   \n",
              "75%        0.839000        2.605841e+11         9283.000000    130.000000   \n",
              "max        0.944000        1.812071e+13        23010.000000  22338.000000   \n",
              "\n",
              "          population  suicides/100k pop  \n",
              "count   22820.000000       22820.000000  \n",
              "mean   329368.125964           4.439462  \n",
              "std    220249.400928           3.426996  \n",
              "min       278.000000           0.000000  \n",
              "25%    101700.000000           0.900000  \n",
              "50%    440403.875000           5.930000  \n",
              "75%    440431.000000           5.930000  \n",
              "max    948435.000000          13.470000  "
            ],
            "text/html": [
              "\n",
              "  <div id=\"df-8239ce41-8a49-4e22-9487-dac22e8ff48c\">\n",
              "    <div class=\"colab-df-container\">\n",
              "      <div>\n",
              "<style scoped>\n",
              "    .dataframe tbody tr th:only-of-type {\n",
              "        vertical-align: middle;\n",
              "    }\n",
              "\n",
              "    .dataframe tbody tr th {\n",
              "        vertical-align: top;\n",
              "    }\n",
              "\n",
              "    .dataframe thead th {\n",
              "        text-align: right;\n",
              "    }\n",
              "</style>\n",
              "<table border=\"1\" class=\"dataframe\">\n",
              "  <thead>\n",
              "    <tr style=\"text-align: right;\">\n",
              "      <th></th>\n",
              "      <th>HDI for year</th>\n",
              "      <th>gdp_for_year ($)</th>\n",
              "      <th>gdp_per_capita ($)</th>\n",
              "      <th>suicides_no</th>\n",
              "      <th>population</th>\n",
              "      <th>suicides/100k pop</th>\n",
              "    </tr>\n",
              "  </thead>\n",
              "  <tbody>\n",
              "    <tr>\n",
              "      <th>count</th>\n",
              "      <td>22820.000000</td>\n",
              "      <td>2.282000e+04</td>\n",
              "      <td>22820.000000</td>\n",
              "      <td>22820.000000</td>\n",
              "      <td>22820.000000</td>\n",
              "      <td>22820.000000</td>\n",
              "    </tr>\n",
              "    <tr>\n",
              "      <th>mean</th>\n",
              "      <td>0.767828</td>\n",
              "      <td>4.403971e+11</td>\n",
              "      <td>7917.845684</td>\n",
              "      <td>237.946188</td>\n",
              "      <td>329368.125964</td>\n",
              "      <td>4.439462</td>\n",
              "    </tr>\n",
              "    <tr>\n",
              "      <th>std</th>\n",
              "      <td>0.091460</td>\n",
              "      <td>1.433605e+12</td>\n",
              "      <td>5245.500350</td>\n",
              "      <td>874.043851</td>\n",
              "      <td>220249.400928</td>\n",
              "      <td>3.426996</td>\n",
              "    </tr>\n",
              "    <tr>\n",
              "      <th>min</th>\n",
              "      <td>0.513000</td>\n",
              "      <td>4.691962e+07</td>\n",
              "      <td>251.000000</td>\n",
              "      <td>0.000000</td>\n",
              "      <td>278.000000</td>\n",
              "      <td>0.000000</td>\n",
              "    </tr>\n",
              "    <tr>\n",
              "      <th>25%</th>\n",
              "      <td>0.697000</td>\n",
              "      <td>8.985353e+09</td>\n",
              "      <td>3447.000000</td>\n",
              "      <td>2.000000</td>\n",
              "      <td>101700.000000</td>\n",
              "      <td>0.900000</td>\n",
              "    </tr>\n",
              "    <tr>\n",
              "      <th>50%</th>\n",
              "      <td>0.769000</td>\n",
              "      <td>4.811626e+10</td>\n",
              "      <td>9283.000000</td>\n",
              "      <td>25.000000</td>\n",
              "      <td>440403.875000</td>\n",
              "      <td>5.930000</td>\n",
              "    </tr>\n",
              "    <tr>\n",
              "      <th>75%</th>\n",
              "      <td>0.839000</td>\n",
              "      <td>2.605841e+11</td>\n",
              "      <td>9283.000000</td>\n",
              "      <td>130.000000</td>\n",
              "      <td>440431.000000</td>\n",
              "      <td>5.930000</td>\n",
              "    </tr>\n",
              "    <tr>\n",
              "      <th>max</th>\n",
              "      <td>0.944000</td>\n",
              "      <td>1.812071e+13</td>\n",
              "      <td>23010.000000</td>\n",
              "      <td>22338.000000</td>\n",
              "      <td>948435.000000</td>\n",
              "      <td>13.470000</td>\n",
              "    </tr>\n",
              "  </tbody>\n",
              "</table>\n",
              "</div>\n",
              "      <button class=\"colab-df-convert\" onclick=\"convertToInteractive('df-8239ce41-8a49-4e22-9487-dac22e8ff48c')\"\n",
              "              title=\"Convert this dataframe to an interactive table.\"\n",
              "              style=\"display:none;\">\n",
              "        \n",
              "  <svg xmlns=\"http://www.w3.org/2000/svg\" height=\"24px\"viewBox=\"0 0 24 24\"\n",
              "       width=\"24px\">\n",
              "    <path d=\"M0 0h24v24H0V0z\" fill=\"none\"/>\n",
              "    <path d=\"M18.56 5.44l.94 2.06.94-2.06 2.06-.94-2.06-.94-.94-2.06-.94 2.06-2.06.94zm-11 1L8.5 8.5l.94-2.06 2.06-.94-2.06-.94L8.5 2.5l-.94 2.06-2.06.94zm10 10l.94 2.06.94-2.06 2.06-.94-2.06-.94-.94-2.06-.94 2.06-2.06.94z\"/><path d=\"M17.41 7.96l-1.37-1.37c-.4-.4-.92-.59-1.43-.59-.52 0-1.04.2-1.43.59L10.3 9.45l-7.72 7.72c-.78.78-.78 2.05 0 2.83L4 21.41c.39.39.9.59 1.41.59.51 0 1.02-.2 1.41-.59l7.78-7.78 2.81-2.81c.8-.78.8-2.07 0-2.86zM5.41 20L4 18.59l7.72-7.72 1.47 1.35L5.41 20z\"/>\n",
              "  </svg>\n",
              "      </button>\n",
              "      \n",
              "  <style>\n",
              "    .colab-df-container {\n",
              "      display:flex;\n",
              "      flex-wrap:wrap;\n",
              "      gap: 12px;\n",
              "    }\n",
              "\n",
              "    .colab-df-convert {\n",
              "      background-color: #E8F0FE;\n",
              "      border: none;\n",
              "      border-radius: 50%;\n",
              "      cursor: pointer;\n",
              "      display: none;\n",
              "      fill: #1967D2;\n",
              "      height: 32px;\n",
              "      padding: 0 0 0 0;\n",
              "      width: 32px;\n",
              "    }\n",
              "\n",
              "    .colab-df-convert:hover {\n",
              "      background-color: #E2EBFA;\n",
              "      box-shadow: 0px 1px 2px rgba(60, 64, 67, 0.3), 0px 1px 3px 1px rgba(60, 64, 67, 0.15);\n",
              "      fill: #174EA6;\n",
              "    }\n",
              "\n",
              "    [theme=dark] .colab-df-convert {\n",
              "      background-color: #3B4455;\n",
              "      fill: #D2E3FC;\n",
              "    }\n",
              "\n",
              "    [theme=dark] .colab-df-convert:hover {\n",
              "      background-color: #434B5C;\n",
              "      box-shadow: 0px 1px 3px 1px rgba(0, 0, 0, 0.15);\n",
              "      filter: drop-shadow(0px 1px 2px rgba(0, 0, 0, 0.3));\n",
              "      fill: #FFFFFF;\n",
              "    }\n",
              "  </style>\n",
              "\n",
              "      <script>\n",
              "        const buttonEl =\n",
              "          document.querySelector('#df-8239ce41-8a49-4e22-9487-dac22e8ff48c button.colab-df-convert');\n",
              "        buttonEl.style.display =\n",
              "          google.colab.kernel.accessAllowed ? 'block' : 'none';\n",
              "\n",
              "        async function convertToInteractive(key) {\n",
              "          const element = document.querySelector('#df-8239ce41-8a49-4e22-9487-dac22e8ff48c');\n",
              "          const dataTable =\n",
              "            await google.colab.kernel.invokeFunction('convertToInteractive',\n",
              "                                                     [key], {});\n",
              "          if (!dataTable) return;\n",
              "\n",
              "          const docLinkHtml = 'Like what you see? Visit the ' +\n",
              "            '<a target=\"_blank\" href=https://colab.research.google.com/notebooks/data_table.ipynb>data table notebook</a>'\n",
              "            + ' to learn more about interactive tables.';\n",
              "          element.innerHTML = '';\n",
              "          dataTable['output_type'] = 'display_data';\n",
              "          await google.colab.output.renderOutput(dataTable, element);\n",
              "          const docLink = document.createElement('div');\n",
              "          docLink.innerHTML = docLinkHtml;\n",
              "          element.appendChild(docLink);\n",
              "        }\n",
              "      </script>\n",
              "    </div>\n",
              "  </div>\n",
              "  "
            ]
          },
          "metadata": {},
          "execution_count": 523
        }
      ]
    },
    {
      "cell_type": "code",
      "source": [
        "# Replacing '-' with null\n",
        "#df['suicides/100k pop'].replace({'NaN':np.nan}, inplace = True)\n"
      ],
      "metadata": {
        "id": "9YztN2t5w3Vb"
      },
      "execution_count": 524,
      "outputs": []
    },
    {
      "cell_type": "code",
      "source": [
        "df.isnull().sum()"
      ],
      "metadata": {
        "colab": {
          "base_uri": "https://localhost:8080/"
        },
        "id": "BeXoJSk5xlTT",
        "outputId": "036e7dee-5a6f-4b5c-eca6-f7984ce67df7"
      },
      "execution_count": 525,
      "outputs": [
        {
          "output_type": "execute_result",
          "data": {
            "text/plain": [
              "HDI for year          0\n",
              " gdp_for_year ($)     0\n",
              "gdp_per_capita ($)    0\n",
              "generation            0\n",
              "country               0\n",
              "year                  0\n",
              "sex                   0\n",
              "age                   0\n",
              "suicides_no           0\n",
              "population            0\n",
              "suicides/100k pop     0\n",
              "dtype: int64"
            ]
          },
          "metadata": {},
          "execution_count": 525
        }
      ]
    },
    {
      "cell_type": "code",
      "source": [
        "cols_to_transform = [' gdp_for_year ($) ', 'gdp_per_capita ($)', 'population','suicides/100k pop']\n",
        "df_transformed = df[cols_to_transform]\n",
        "df_transformed_log = np.log(df_transformed)\n",
        "df[cols_to_transform] = df_transformed_log"
      ],
      "metadata": {
        "id": "I1NZe31mnvIt"
      },
      "execution_count": 526,
      "outputs": []
    },
    {
      "cell_type": "code",
      "source": [
        "df.columns"
      ],
      "metadata": {
        "colab": {
          "base_uri": "https://localhost:8080/"
        },
        "id": "Ni-hNneAyJ8B",
        "outputId": "73fa28df-c71e-494c-d387-979d43d8ce43"
      },
      "execution_count": 527,
      "outputs": [
        {
          "output_type": "execute_result",
          "data": {
            "text/plain": [
              "Index(['HDI for year', ' gdp_for_year ($) ', 'gdp_per_capita ($)',\n",
              "       'generation', 'country', 'year', 'sex', 'age', 'suicides_no',\n",
              "       'population', 'suicides/100k pop'],\n",
              "      dtype='object')"
            ]
          },
          "metadata": {},
          "execution_count": 527
        }
      ]
    },
    {
      "cell_type": "code",
      "source": [
        "df"
      ],
      "metadata": {
        "colab": {
          "base_uri": "https://localhost:8080/",
          "height": 423
        },
        "id": "I-jn6-X3qrTN",
        "outputId": "7f211844-d0f8-4528-9173-48fab3cb1be8"
      },
      "execution_count": 528,
      "outputs": [
        {
          "output_type": "execute_result",
          "data": {
            "text/plain": [
              "       HDI for year   gdp_for_year ($)   gdp_per_capita ($) generation  \\\n",
              "0             0.650           21.491810            6.679599          2   \n",
              "1             0.650           21.491810            6.679599          5   \n",
              "2             0.650           21.491810            6.679599          1   \n",
              "3             0.650           21.491810            6.679599          0   \n",
              "4             0.650           21.491810            6.679599          1   \n",
              "...             ...                 ...                 ...        ...   \n",
              "22815         0.675           24.867465            7.744570          2   \n",
              "22816         0.675           24.867465            7.744570          5   \n",
              "22817         0.675           24.867465            7.744570          3   \n",
              "22818         0.675           24.867465            7.744570          3   \n",
              "22819         0.675           24.867465            7.744570          0   \n",
              "\n",
              "      country    year sex age  suicides_no  population  suicides/100k pop  \n",
              "0           0  1987.0   1   5         21.0   12.653639           1.903599  \n",
              "1           0  1987.0   1   5         16.0   12.637855           1.646734  \n",
              "2           0  1987.0   1   5          1.0   11.950858           1.523880  \n",
              "3           0  1987.0   1   1          9.0   12.521978           1.187843  \n",
              "4           0  1987.0   0   5          1.0   10.480101           1.033184  \n",
              "...       ...     ...  ..  ..          ...         ...                ...  \n",
              "22815     100  2014.0   0   2        107.0   12.995509           1.085189  \n",
              "22816     100  2014.0   0   5          9.0   12.761293           0.947789  \n",
              "22817     100  2014.0   1   3         60.0   12.995474           0.774727  \n",
              "22818     100  2014.0   0   5         44.0   12.995474           0.512824  \n",
              "22819     100  2014.0   0   5         21.0   12.995456           0.378436  \n",
              "\n",
              "[22820 rows x 11 columns]"
            ],
            "text/html": [
              "\n",
              "  <div id=\"df-1b971e37-c183-4b62-bcdf-9a5ceda2fcf1\">\n",
              "    <div class=\"colab-df-container\">\n",
              "      <div>\n",
              "<style scoped>\n",
              "    .dataframe tbody tr th:only-of-type {\n",
              "        vertical-align: middle;\n",
              "    }\n",
              "\n",
              "    .dataframe tbody tr th {\n",
              "        vertical-align: top;\n",
              "    }\n",
              "\n",
              "    .dataframe thead th {\n",
              "        text-align: right;\n",
              "    }\n",
              "</style>\n",
              "<table border=\"1\" class=\"dataframe\">\n",
              "  <thead>\n",
              "    <tr style=\"text-align: right;\">\n",
              "      <th></th>\n",
              "      <th>HDI for year</th>\n",
              "      <th>gdp_for_year ($)</th>\n",
              "      <th>gdp_per_capita ($)</th>\n",
              "      <th>generation</th>\n",
              "      <th>country</th>\n",
              "      <th>year</th>\n",
              "      <th>sex</th>\n",
              "      <th>age</th>\n",
              "      <th>suicides_no</th>\n",
              "      <th>population</th>\n",
              "      <th>suicides/100k pop</th>\n",
              "    </tr>\n",
              "  </thead>\n",
              "  <tbody>\n",
              "    <tr>\n",
              "      <th>0</th>\n",
              "      <td>0.650</td>\n",
              "      <td>21.491810</td>\n",
              "      <td>6.679599</td>\n",
              "      <td>2</td>\n",
              "      <td>0</td>\n",
              "      <td>1987.0</td>\n",
              "      <td>1</td>\n",
              "      <td>5</td>\n",
              "      <td>21.0</td>\n",
              "      <td>12.653639</td>\n",
              "      <td>1.903599</td>\n",
              "    </tr>\n",
              "    <tr>\n",
              "      <th>1</th>\n",
              "      <td>0.650</td>\n",
              "      <td>21.491810</td>\n",
              "      <td>6.679599</td>\n",
              "      <td>5</td>\n",
              "      <td>0</td>\n",
              "      <td>1987.0</td>\n",
              "      <td>1</td>\n",
              "      <td>5</td>\n",
              "      <td>16.0</td>\n",
              "      <td>12.637855</td>\n",
              "      <td>1.646734</td>\n",
              "    </tr>\n",
              "    <tr>\n",
              "      <th>2</th>\n",
              "      <td>0.650</td>\n",
              "      <td>21.491810</td>\n",
              "      <td>6.679599</td>\n",
              "      <td>1</td>\n",
              "      <td>0</td>\n",
              "      <td>1987.0</td>\n",
              "      <td>1</td>\n",
              "      <td>5</td>\n",
              "      <td>1.0</td>\n",
              "      <td>11.950858</td>\n",
              "      <td>1.523880</td>\n",
              "    </tr>\n",
              "    <tr>\n",
              "      <th>3</th>\n",
              "      <td>0.650</td>\n",
              "      <td>21.491810</td>\n",
              "      <td>6.679599</td>\n",
              "      <td>0</td>\n",
              "      <td>0</td>\n",
              "      <td>1987.0</td>\n",
              "      <td>1</td>\n",
              "      <td>1</td>\n",
              "      <td>9.0</td>\n",
              "      <td>12.521978</td>\n",
              "      <td>1.187843</td>\n",
              "    </tr>\n",
              "    <tr>\n",
              "      <th>4</th>\n",
              "      <td>0.650</td>\n",
              "      <td>21.491810</td>\n",
              "      <td>6.679599</td>\n",
              "      <td>1</td>\n",
              "      <td>0</td>\n",
              "      <td>1987.0</td>\n",
              "      <td>0</td>\n",
              "      <td>5</td>\n",
              "      <td>1.0</td>\n",
              "      <td>10.480101</td>\n",
              "      <td>1.033184</td>\n",
              "    </tr>\n",
              "    <tr>\n",
              "      <th>...</th>\n",
              "      <td>...</td>\n",
              "      <td>...</td>\n",
              "      <td>...</td>\n",
              "      <td>...</td>\n",
              "      <td>...</td>\n",
              "      <td>...</td>\n",
              "      <td>...</td>\n",
              "      <td>...</td>\n",
              "      <td>...</td>\n",
              "      <td>...</td>\n",
              "      <td>...</td>\n",
              "    </tr>\n",
              "    <tr>\n",
              "      <th>22815</th>\n",
              "      <td>0.675</td>\n",
              "      <td>24.867465</td>\n",
              "      <td>7.744570</td>\n",
              "      <td>2</td>\n",
              "      <td>100</td>\n",
              "      <td>2014.0</td>\n",
              "      <td>0</td>\n",
              "      <td>2</td>\n",
              "      <td>107.0</td>\n",
              "      <td>12.995509</td>\n",
              "      <td>1.085189</td>\n",
              "    </tr>\n",
              "    <tr>\n",
              "      <th>22816</th>\n",
              "      <td>0.675</td>\n",
              "      <td>24.867465</td>\n",
              "      <td>7.744570</td>\n",
              "      <td>5</td>\n",
              "      <td>100</td>\n",
              "      <td>2014.0</td>\n",
              "      <td>0</td>\n",
              "      <td>5</td>\n",
              "      <td>9.0</td>\n",
              "      <td>12.761293</td>\n",
              "      <td>0.947789</td>\n",
              "    </tr>\n",
              "    <tr>\n",
              "      <th>22817</th>\n",
              "      <td>0.675</td>\n",
              "      <td>24.867465</td>\n",
              "      <td>7.744570</td>\n",
              "      <td>3</td>\n",
              "      <td>100</td>\n",
              "      <td>2014.0</td>\n",
              "      <td>1</td>\n",
              "      <td>3</td>\n",
              "      <td>60.0</td>\n",
              "      <td>12.995474</td>\n",
              "      <td>0.774727</td>\n",
              "    </tr>\n",
              "    <tr>\n",
              "      <th>22818</th>\n",
              "      <td>0.675</td>\n",
              "      <td>24.867465</td>\n",
              "      <td>7.744570</td>\n",
              "      <td>3</td>\n",
              "      <td>100</td>\n",
              "      <td>2014.0</td>\n",
              "      <td>0</td>\n",
              "      <td>5</td>\n",
              "      <td>44.0</td>\n",
              "      <td>12.995474</td>\n",
              "      <td>0.512824</td>\n",
              "    </tr>\n",
              "    <tr>\n",
              "      <th>22819</th>\n",
              "      <td>0.675</td>\n",
              "      <td>24.867465</td>\n",
              "      <td>7.744570</td>\n",
              "      <td>0</td>\n",
              "      <td>100</td>\n",
              "      <td>2014.0</td>\n",
              "      <td>0</td>\n",
              "      <td>5</td>\n",
              "      <td>21.0</td>\n",
              "      <td>12.995456</td>\n",
              "      <td>0.378436</td>\n",
              "    </tr>\n",
              "  </tbody>\n",
              "</table>\n",
              "<p>22820 rows × 11 columns</p>\n",
              "</div>\n",
              "      <button class=\"colab-df-convert\" onclick=\"convertToInteractive('df-1b971e37-c183-4b62-bcdf-9a5ceda2fcf1')\"\n",
              "              title=\"Convert this dataframe to an interactive table.\"\n",
              "              style=\"display:none;\">\n",
              "        \n",
              "  <svg xmlns=\"http://www.w3.org/2000/svg\" height=\"24px\"viewBox=\"0 0 24 24\"\n",
              "       width=\"24px\">\n",
              "    <path d=\"M0 0h24v24H0V0z\" fill=\"none\"/>\n",
              "    <path d=\"M18.56 5.44l.94 2.06.94-2.06 2.06-.94-2.06-.94-.94-2.06-.94 2.06-2.06.94zm-11 1L8.5 8.5l.94-2.06 2.06-.94-2.06-.94L8.5 2.5l-.94 2.06-2.06.94zm10 10l.94 2.06.94-2.06 2.06-.94-2.06-.94-.94-2.06-.94 2.06-2.06.94z\"/><path d=\"M17.41 7.96l-1.37-1.37c-.4-.4-.92-.59-1.43-.59-.52 0-1.04.2-1.43.59L10.3 9.45l-7.72 7.72c-.78.78-.78 2.05 0 2.83L4 21.41c.39.39.9.59 1.41.59.51 0 1.02-.2 1.41-.59l7.78-7.78 2.81-2.81c.8-.78.8-2.07 0-2.86zM5.41 20L4 18.59l7.72-7.72 1.47 1.35L5.41 20z\"/>\n",
              "  </svg>\n",
              "      </button>\n",
              "      \n",
              "  <style>\n",
              "    .colab-df-container {\n",
              "      display:flex;\n",
              "      flex-wrap:wrap;\n",
              "      gap: 12px;\n",
              "    }\n",
              "\n",
              "    .colab-df-convert {\n",
              "      background-color: #E8F0FE;\n",
              "      border: none;\n",
              "      border-radius: 50%;\n",
              "      cursor: pointer;\n",
              "      display: none;\n",
              "      fill: #1967D2;\n",
              "      height: 32px;\n",
              "      padding: 0 0 0 0;\n",
              "      width: 32px;\n",
              "    }\n",
              "\n",
              "    .colab-df-convert:hover {\n",
              "      background-color: #E2EBFA;\n",
              "      box-shadow: 0px 1px 2px rgba(60, 64, 67, 0.3), 0px 1px 3px 1px rgba(60, 64, 67, 0.15);\n",
              "      fill: #174EA6;\n",
              "    }\n",
              "\n",
              "    [theme=dark] .colab-df-convert {\n",
              "      background-color: #3B4455;\n",
              "      fill: #D2E3FC;\n",
              "    }\n",
              "\n",
              "    [theme=dark] .colab-df-convert:hover {\n",
              "      background-color: #434B5C;\n",
              "      box-shadow: 0px 1px 3px 1px rgba(0, 0, 0, 0.15);\n",
              "      filter: drop-shadow(0px 1px 2px rgba(0, 0, 0, 0.3));\n",
              "      fill: #FFFFFF;\n",
              "    }\n",
              "  </style>\n",
              "\n",
              "      <script>\n",
              "        const buttonEl =\n",
              "          document.querySelector('#df-1b971e37-c183-4b62-bcdf-9a5ceda2fcf1 button.colab-df-convert');\n",
              "        buttonEl.style.display =\n",
              "          google.colab.kernel.accessAllowed ? 'block' : 'none';\n",
              "\n",
              "        async function convertToInteractive(key) {\n",
              "          const element = document.querySelector('#df-1b971e37-c183-4b62-bcdf-9a5ceda2fcf1');\n",
              "          const dataTable =\n",
              "            await google.colab.kernel.invokeFunction('convertToInteractive',\n",
              "                                                     [key], {});\n",
              "          if (!dataTable) return;\n",
              "\n",
              "          const docLinkHtml = 'Like what you see? Visit the ' +\n",
              "            '<a target=\"_blank\" href=https://colab.research.google.com/notebooks/data_table.ipynb>data table notebook</a>'\n",
              "            + ' to learn more about interactive tables.';\n",
              "          element.innerHTML = '';\n",
              "          dataTable['output_type'] = 'display_data';\n",
              "          await google.colab.output.renderOutput(dataTable, element);\n",
              "          const docLink = document.createElement('div');\n",
              "          docLink.innerHTML = docLinkHtml;\n",
              "          element.appendChild(docLink);\n",
              "        }\n",
              "      </script>\n",
              "    </div>\n",
              "  </div>\n",
              "  "
            ]
          },
          "metadata": {},
          "execution_count": 528
        }
      ]
    },
    {
      "cell_type": "code",
      "source": [
        "df= df.drop(columns = 'suicides/100k pop')"
      ],
      "metadata": {
        "id": "VRRvjZ2DuLri"
      },
      "execution_count": 529,
      "outputs": []
    },
    {
      "cell_type": "code",
      "source": [
        "df3 = df#.sample(frac = 1)"
      ],
      "metadata": {
        "id": "--7w6NcE1pag"
      },
      "execution_count": 530,
      "outputs": []
    },
    {
      "cell_type": "code",
      "source": [
        "X = np.array(df3.drop([\"suicides_no\"],1))\n",
        "print(\"Shape of X:\",X.shape)\n",
        "print(X)"
      ],
      "metadata": {
        "colab": {
          "base_uri": "https://localhost:8080/"
        },
        "id": "t98i-jtB8jaW",
        "outputId": "17859772-dc71-4b6d-8af7-e656565f5d83"
      },
      "execution_count": 531,
      "outputs": [
        {
          "output_type": "stream",
          "name": "stdout",
          "text": [
            "Shape of X: (22820, 9)\n",
            "[[ 0.65       21.49181029  6.67959919 ...  1.          5.\n",
            "  12.65363893]\n",
            " [ 0.65       21.49181029  6.67959919 ...  1.          5.\n",
            "  12.63785506]\n",
            " [ 0.65       21.49181029  6.67959919 ...  1.          5.\n",
            "  11.95085776]\n",
            " ...\n",
            " [ 0.675      24.86746471  7.74456981 ...  1.          3.\n",
            "  12.99547388]\n",
            " [ 0.675      24.86746471  7.74456981 ...  0.          5.\n",
            "  12.99547388]\n",
            " [ 0.675      24.86746471  7.74456981 ...  0.          5.\n",
            "  12.99545628]]\n"
          ]
        }
      ]
    },
    {
      "cell_type": "code",
      "source": [
        "y = np.array(df3[\"suicides_no\"])\n",
        "print(\"Shape of y:\",y.shape)\n",
        "print(y)"
      ],
      "metadata": {
        "colab": {
          "base_uri": "https://localhost:8080/"
        },
        "id": "luMeStdy8tBm",
        "outputId": "4ff2c708-31d0-4d70-8e38-40da2deb2fb4"
      },
      "execution_count": 532,
      "outputs": [
        {
          "output_type": "stream",
          "name": "stdout",
          "text": [
            "Shape of y: (22820,)\n",
            "[21. 16.  1. ... 60. 44. 21.]\n"
          ]
        }
      ]
    },
    {
      "cell_type": "code",
      "source": [
        "size = X.shape[0]\n",
        "X_train = X[:int(0.7 * size),:]\n",
        "X_test = X[int(0.7 * size):,:]\n",
        "y_train = y[:int(0.7 * size)]\n",
        "y_test = y[int(0.7 * size):]"
      ],
      "metadata": {
        "id": "F_NePVjn8y8E"
      },
      "execution_count": 533,
      "outputs": []
    },
    {
      "cell_type": "code",
      "source": [
        "\n",
        "#Standardizing the X_train and X_test daatsets\n",
        "mu = np.mean(X_train, 0)\n",
        "sigma = np.std(X_train, 0)\n",
        "\n",
        "X_train = (X_train - mu ) / sigma\n",
        "\n",
        "#We use the same mean and SD as the one of X_train as we dont know the mean of X_test\n",
        "X_test = (X_test - mu ) / sigma\n",
        "\n",
        "#Standardizing the y_train data\n",
        "mu_y = np.mean(y_train, 0)\n",
        "sigma_y = np.std(y_train, 0, ddof = 0)\n",
        "\n",
        "y_train = (y_train - mu_y ) / sigma_y"
      ],
      "metadata": {
        "id": "crU8FmZZSQBo"
      },
      "execution_count": 534,
      "outputs": []
    },
    {
      "cell_type": "code",
      "source": [
        "print(X_train.shape)\n",
        "print(X_test.shape)\n",
        "print(y_train.shape)\n",
        "print(y_test.shape)\n"
      ],
      "metadata": {
        "colab": {
          "base_uri": "https://localhost:8080/"
        },
        "id": "r3TtKQee82ye",
        "outputId": "3263e79e-f98d-45b5-a1d9-2182c8365cbb"
      },
      "execution_count": 535,
      "outputs": [
        {
          "output_type": "stream",
          "name": "stdout",
          "text": [
            "(15973, 9)\n",
            "(6847, 9)\n",
            "(15973,)\n",
            "(6847,)\n"
          ]
        }
      ]
    },
    {
      "cell_type": "code",
      "source": [
        "y_train = y_train.reshape(len(y_train),1)\n",
        "y_test = y_test.reshape(len(y_test),1)\n",
        "y_pred = np.zeros(y_test.shape)\n",
        "y_train.shape, y_test.shape,y_pred.shape"
      ],
      "metadata": {
        "colab": {
          "base_uri": "https://localhost:8080/"
        },
        "id": "BBxOSBJR85I4",
        "outputId": "fe55fa41-8a81-4db9-a69a-c1fe0caec66b"
      },
      "execution_count": 536,
      "outputs": [
        {
          "output_type": "execute_result",
          "data": {
            "text/plain": [
              "((15973, 1), (6847, 1), (6847, 1))"
            ]
          },
          "metadata": {},
          "execution_count": 536
        }
      ]
    },
    {
      "cell_type": "code",
      "source": [
        "n_neigh = 3\n",
        "for row in range(len(X_test)):\n",
        "    euclidian_distance = np.sqrt(np.sum((X_train - X_test[row])**2, axis = 1 ))\n",
        "    y_pred[row] = np.mean(y_train[np.argsort(euclidian_distance, axis = 0)[:n_neigh]])* sigma_y + mu_y\n",
        "    \n",
        "#Finding the root mean squared error \n",
        "\n",
        "RMSE = np.sqrt(np.mean((y_pred - y_test)**2))\n",
        "print(RMSE)"
      ],
      "metadata": {
        "colab": {
          "base_uri": "https://localhost:8080/"
        },
        "id": "79afjEQa87bq",
        "outputId": "f4970278-3093-4426-f2b1-274dcc072df2"
      },
      "execution_count": 537,
      "outputs": [
        {
          "output_type": "stream",
          "name": "stdout",
          "text": [
            "1330.600962684172\n"
          ]
        }
      ]
    },
    {
      "cell_type": "code",
      "source": [
        "# Calculate mean absolute error\n",
        "mae = np.mean(np.abs(y_test - y_pred))\n",
        "\n",
        "print(\"Mean Absolute Error:\", mae)"
      ],
      "metadata": {
        "id": "Hnc_F49y895O",
        "colab": {
          "base_uri": "https://localhost:8080/"
        },
        "outputId": "efe76279-c14f-4a50-955b-2eba53455dab"
      },
      "execution_count": 538,
      "outputs": [
        {
          "output_type": "stream",
          "name": "stdout",
          "text": [
            "Mean Absolute Error: 385.3792902000876\n"
          ]
        }
      ]
    },
    {
      "cell_type": "code",
      "source": [
        "# We are setting a range of K values and calculating the RMSE for each of them. This way we can chose the optimal K value\n",
        "k_list = [x for x in range(1,50,1)]\n",
        "\n",
        "# Calculating the distance matrix using numpy broadcasting technique \n",
        "distance = np.sqrt(((X_train[:, :, None] - X_test[:, :, None].T) ** 2).sum(1))\n",
        "\n",
        "#Sorting each data points of the distance matrix to reduce computational effort \n",
        "sorted_distance = np.argsort(distance, axis = 0)\n",
        "\n",
        "#The knn function takes in the sorted distance and returns the RMSE of the \n",
        "def knn(X_train,X_test,y_train,y_test,sorted_distance,k):\n",
        "    y_pred = np.zeros(y_test.shape)\n",
        "    for row in range(len(X_test)):\n",
        "        \n",
        "        #Transforming the y_train values to adjust the scale. \n",
        "        y_pred[row] = np.mean(y_train[sorted_distance[:,row][:k]])* sigma_y + mu_y\n",
        "\n",
        "    RMSE = np.sqrt(np.mean((y_test - y_pred)**2))\n",
        "    return RMSE\n",
        "\n",
        "#Storing the RMSE values in a list for each k value \n",
        "rmse_list = []\n",
        "for i in k_list:\n",
        "    rmse_list.append(knn(X_train,X_test,y_train,y_test,sorted_distance,i))"
      ],
      "metadata": {
        "id": "IM6IzPZ88QcP"
      },
      "execution_count": 539,
      "outputs": []
    },
    {
      "cell_type": "code",
      "source": [
        "#Finding the optimal K value\n",
        "min_rmse_k_value = k_list[rmse_list.index(min(rmse_list))]\n",
        "\n",
        "#Finding the lowest possible RMSE\n",
        "optimal_RMSE = knn(X_train,X_test,y_train,y_test,sorted_distance,min_rmse_k_value)\n",
        "optimal_RMSE"
      ],
      "metadata": {
        "colab": {
          "base_uri": "https://localhost:8080/"
        },
        "id": "-1-ARwfD8SwD",
        "outputId": "41c64851-3a8f-413e-85d1-b1b56af98571"
      },
      "execution_count": 540,
      "outputs": [
        {
          "output_type": "execute_result",
          "data": {
            "text/plain": [
              "1330.2971373349556"
            ]
          },
          "metadata": {},
          "execution_count": 540
        }
      ]
    },
    {
      "cell_type": "code",
      "source": [
        "min_rmse_k_value"
      ],
      "metadata": {
        "colab": {
          "base_uri": "https://localhost:8080/"
        },
        "id": "5xXii00j8b26",
        "outputId": "21116fdb-7aa1-4205-989e-9e3f7c703f10"
      },
      "execution_count": 541,
      "outputs": [
        {
          "output_type": "execute_result",
          "data": {
            "text/plain": [
              "2"
            ]
          },
          "metadata": {},
          "execution_count": 541
        }
      ]
    },
    {
      "cell_type": "code",
      "source": [
        "from sklearn.metrics import mean_squared_error\n",
        "from sklearn.metrics import r2_score,mean_absolute_error\n",
        "\n",
        "print(np.sqrt(mean_squared_error(y_test,y_pred))) \n",
        "r2scr = print(r2_score(y_test, y_pred))\n",
        "print(mean_absolute_error(y_test, y_pred))"
      ],
      "metadata": {
        "colab": {
          "base_uri": "https://localhost:8080/"
        },
        "id": "murU6j3l8eYr",
        "outputId": "ee9990cb-d64d-4497-8819-3dcd6789377a"
      },
      "execution_count": 542,
      "outputs": [
        {
          "output_type": "stream",
          "name": "stdout",
          "text": [
            "1330.600962684172\n",
            "0.06594294726242289\n",
            "385.3792902000876\n"
          ]
        }
      ]
    },
    {
      "cell_type": "code",
      "source": [
        "from sklearn.neighbors import KNeighborsRegressor\n",
        "RegModel = KNeighborsRegressor(n_neighbors=3)\n"
      ],
      "metadata": {
        "id": "rUy2wAlP8g6r"
      },
      "execution_count": 543,
      "outputs": []
    },
    {
      "cell_type": "code",
      "source": [
        "from sklearn.model_selection import GridSearchCV\n",
        "param={'n_neighbors': range(1,50)}\n",
        "grid_kn=GridSearchCV(estimator=RegModel,param_grid=param,scoring='neg_mean_squared_error',cv=5,verbose=1,n_jobs=-1)\n",
        "grid_kn.fit(X_train,y_train)\n",
        "print('Best K For Model is: ',grid_kn.best_params_)\n",
        "print('Best Score is: ',grid_kn.best_score_)"
      ],
      "metadata": {
        "colab": {
          "base_uri": "https://localhost:8080/"
        },
        "id": "XiJpz4it8mpi",
        "outputId": "bb9bd72d-5cef-446c-c287-0de4512db9f2"
      },
      "execution_count": 544,
      "outputs": [
        {
          "output_type": "stream",
          "name": "stdout",
          "text": [
            "Fitting 5 folds for each of 49 candidates, totalling 245 fits\n",
            "Best K For Model is:  {'n_neighbors': 16}\n",
            "Best Score is:  -0.6302849234171236\n"
          ]
        }
      ]
    },
    {
      "cell_type": "code",
      "source": [
        "RegModel = KNeighborsRegressor(n_neighbors=30)"
      ],
      "metadata": {
        "id": "KORnZBSG8oYk"
      },
      "execution_count": 545,
      "outputs": []
    },
    {
      "cell_type": "code",
      "source": [
        "KNN=RegModel.fit(X_train,y_train)\n",
        "prediction=KNN.predict(X_test)"
      ],
      "metadata": {
        "id": "ib53HDyc8ynF"
      },
      "execution_count": 546,
      "outputs": []
    },
    {
      "cell_type": "code",
      "source": [
        "from sklearn.metrics import mean_squared_error\n",
        "from sklearn.metrics import r2_score,mean_absolute_error\n",
        "\n",
        "print(np.sqrt(mean_squared_error(y_test,y_pred))) \n",
        "r2scr = print(r2_score(y_test, y_pred))\n",
        "print(mean_absolute_error(y_test, y_pred))"
      ],
      "metadata": {
        "colab": {
          "base_uri": "https://localhost:8080/"
        },
        "id": "bAynA8Dn81GA",
        "outputId": "60e45c55-c70c-412d-b548-cfcb378d56df"
      },
      "execution_count": 547,
      "outputs": [
        {
          "output_type": "stream",
          "name": "stdout",
          "text": [
            "1330.600962684172\n",
            "0.06594294726242289\n",
            "385.3792902000876\n"
          ]
        }
      ]
    },
    {
      "cell_type": "code",
      "source": [
        "from sklearn import metrics\n",
        "# Measuring Goodness of fit in Training data\n",
        "print('R2 Value:',metrics.r2_score(y_train, KNN.predict(X_train)))"
      ],
      "metadata": {
        "colab": {
          "base_uri": "https://localhost:8080/"
        },
        "id": "DJNTIPG_84mt",
        "outputId": "ce8beb7e-e7df-4304-85ec-26c680aeb5be"
      },
      "execution_count": 548,
      "outputs": [
        {
          "output_type": "stream",
          "name": "stdout",
          "text": [
            "R2 Value: 0.6549193012870212\n"
          ]
        }
      ]
    },
    {
      "cell_type": "code",
      "source": [],
      "metadata": {
        "id": "6VbfnwbB87d7"
      },
      "execution_count": 548,
      "outputs": []
    }
  ]
}
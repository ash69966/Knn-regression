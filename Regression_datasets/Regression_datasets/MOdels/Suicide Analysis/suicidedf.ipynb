{
  "nbformat": 4,
  "nbformat_minor": 0,
  "metadata": {
    "colab": {
      "provenance": []
    },
    "kernelspec": {
      "name": "python3",
      "display_name": "Python 3"
    },
    "language_info": {
      "name": "python"
    }
  },
  "cells": [
    {
      "cell_type": "code",
      "execution_count": 1,
      "metadata": {
        "id": "Ksb4WIeZduat"
      },
      "outputs": [],
      "source": [
        "%matplotlib inline \n",
        "\n",
        "import pandas as pd\n",
        "import numpy as np\n",
        "import matplotlib.pyplot as plt\n",
        "import seaborn as sns\n",
        "\n",
        "import warnings\n",
        "warnings.filterwarnings(action='ignore')"
      ]
    },
    {
      "cell_type": "code",
      "source": [
        "df1 = pd.read_csv(\"/content/suicide(1).csv\")\n",
        "df2 = pd.read_csv(\"/content/suicide(2).csv\")\n",
        "\n",
        "df1"
      ],
      "metadata": {
        "colab": {
          "base_uri": "https://localhost:8080/",
          "height": 423
        },
        "id": "7GkjTxFCgnvi",
        "outputId": "899c155f-81ed-4893-adb8-14d9b1eed489"
      },
      "execution_count": 2,
      "outputs": [
        {
          "output_type": "execute_result",
          "data": {
            "text/plain": [
              "          id    country-year  HDI for year  gdp_for_year ($)   \\\n",
              "0          1     Albania1987           NaN      2,156,624,900   \n",
              "1          2     Albania1987           NaN      2,156,624,900   \n",
              "2          3     Albania1987           NaN      2,156,624,900   \n",
              "3          4     Albania1987           NaN      2,156,624,900   \n",
              "4          5     Albania1987           NaN      2,156,624,900   \n",
              "...      ...             ...           ...                ...   \n",
              "27815  27816  Uzbekistan2014         0.675     63,067,077,179   \n",
              "27816  27817  Uzbekistan2014         0.675     63,067,077,179   \n",
              "27817  27818  Uzbekistan2014         0.675     63,067,077,179   \n",
              "27818  27819  Uzbekistan2014         0.675     63,067,077,179   \n",
              "27819  27820  Uzbekistan2014         0.675     63,067,077,179   \n",
              "\n",
              "       gdp_per_capita ($)       generation  \n",
              "0                   796.0     Generation X  \n",
              "1                     NaN           Silent  \n",
              "2                   796.0     Generation X  \n",
              "3                   796.0  G.I. Generation  \n",
              "4                   796.0          Boomers  \n",
              "...                   ...              ...  \n",
              "27815              2309.0     Generation X  \n",
              "27816              2309.0           Silent  \n",
              "27817              2309.0     Generation Z  \n",
              "27818                 NaN     Generation Z  \n",
              "27819                 NaN          Boomers  \n",
              "\n",
              "[27820 rows x 6 columns]"
            ],
            "text/html": [
              "\n",
              "  <div id=\"df-3f8a3485-f7f6-438d-9031-c38d140ce02a\">\n",
              "    <div class=\"colab-df-container\">\n",
              "      <div>\n",
              "<style scoped>\n",
              "    .dataframe tbody tr th:only-of-type {\n",
              "        vertical-align: middle;\n",
              "    }\n",
              "\n",
              "    .dataframe tbody tr th {\n",
              "        vertical-align: top;\n",
              "    }\n",
              "\n",
              "    .dataframe thead th {\n",
              "        text-align: right;\n",
              "    }\n",
              "</style>\n",
              "<table border=\"1\" class=\"dataframe\">\n",
              "  <thead>\n",
              "    <tr style=\"text-align: right;\">\n",
              "      <th></th>\n",
              "      <th>id</th>\n",
              "      <th>country-year</th>\n",
              "      <th>HDI for year</th>\n",
              "      <th>gdp_for_year ($)</th>\n",
              "      <th>gdp_per_capita ($)</th>\n",
              "      <th>generation</th>\n",
              "    </tr>\n",
              "  </thead>\n",
              "  <tbody>\n",
              "    <tr>\n",
              "      <th>0</th>\n",
              "      <td>1</td>\n",
              "      <td>Albania1987</td>\n",
              "      <td>NaN</td>\n",
              "      <td>2,156,624,900</td>\n",
              "      <td>796.0</td>\n",
              "      <td>Generation X</td>\n",
              "    </tr>\n",
              "    <tr>\n",
              "      <th>1</th>\n",
              "      <td>2</td>\n",
              "      <td>Albania1987</td>\n",
              "      <td>NaN</td>\n",
              "      <td>2,156,624,900</td>\n",
              "      <td>NaN</td>\n",
              "      <td>Silent</td>\n",
              "    </tr>\n",
              "    <tr>\n",
              "      <th>2</th>\n",
              "      <td>3</td>\n",
              "      <td>Albania1987</td>\n",
              "      <td>NaN</td>\n",
              "      <td>2,156,624,900</td>\n",
              "      <td>796.0</td>\n",
              "      <td>Generation X</td>\n",
              "    </tr>\n",
              "    <tr>\n",
              "      <th>3</th>\n",
              "      <td>4</td>\n",
              "      <td>Albania1987</td>\n",
              "      <td>NaN</td>\n",
              "      <td>2,156,624,900</td>\n",
              "      <td>796.0</td>\n",
              "      <td>G.I. Generation</td>\n",
              "    </tr>\n",
              "    <tr>\n",
              "      <th>4</th>\n",
              "      <td>5</td>\n",
              "      <td>Albania1987</td>\n",
              "      <td>NaN</td>\n",
              "      <td>2,156,624,900</td>\n",
              "      <td>796.0</td>\n",
              "      <td>Boomers</td>\n",
              "    </tr>\n",
              "    <tr>\n",
              "      <th>...</th>\n",
              "      <td>...</td>\n",
              "      <td>...</td>\n",
              "      <td>...</td>\n",
              "      <td>...</td>\n",
              "      <td>...</td>\n",
              "      <td>...</td>\n",
              "    </tr>\n",
              "    <tr>\n",
              "      <th>27815</th>\n",
              "      <td>27816</td>\n",
              "      <td>Uzbekistan2014</td>\n",
              "      <td>0.675</td>\n",
              "      <td>63,067,077,179</td>\n",
              "      <td>2309.0</td>\n",
              "      <td>Generation X</td>\n",
              "    </tr>\n",
              "    <tr>\n",
              "      <th>27816</th>\n",
              "      <td>27817</td>\n",
              "      <td>Uzbekistan2014</td>\n",
              "      <td>0.675</td>\n",
              "      <td>63,067,077,179</td>\n",
              "      <td>2309.0</td>\n",
              "      <td>Silent</td>\n",
              "    </tr>\n",
              "    <tr>\n",
              "      <th>27817</th>\n",
              "      <td>27818</td>\n",
              "      <td>Uzbekistan2014</td>\n",
              "      <td>0.675</td>\n",
              "      <td>63,067,077,179</td>\n",
              "      <td>2309.0</td>\n",
              "      <td>Generation Z</td>\n",
              "    </tr>\n",
              "    <tr>\n",
              "      <th>27818</th>\n",
              "      <td>27819</td>\n",
              "      <td>Uzbekistan2014</td>\n",
              "      <td>0.675</td>\n",
              "      <td>63,067,077,179</td>\n",
              "      <td>NaN</td>\n",
              "      <td>Generation Z</td>\n",
              "    </tr>\n",
              "    <tr>\n",
              "      <th>27819</th>\n",
              "      <td>27820</td>\n",
              "      <td>Uzbekistan2014</td>\n",
              "      <td>0.675</td>\n",
              "      <td>63,067,077,179</td>\n",
              "      <td>NaN</td>\n",
              "      <td>Boomers</td>\n",
              "    </tr>\n",
              "  </tbody>\n",
              "</table>\n",
              "<p>27820 rows × 6 columns</p>\n",
              "</div>\n",
              "      <button class=\"colab-df-convert\" onclick=\"convertToInteractive('df-3f8a3485-f7f6-438d-9031-c38d140ce02a')\"\n",
              "              title=\"Convert this dataframe to an interactive table.\"\n",
              "              style=\"display:none;\">\n",
              "        \n",
              "  <svg xmlns=\"http://www.w3.org/2000/svg\" height=\"24px\"viewBox=\"0 0 24 24\"\n",
              "       width=\"24px\">\n",
              "    <path d=\"M0 0h24v24H0V0z\" fill=\"none\"/>\n",
              "    <path d=\"M18.56 5.44l.94 2.06.94-2.06 2.06-.94-2.06-.94-.94-2.06-.94 2.06-2.06.94zm-11 1L8.5 8.5l.94-2.06 2.06-.94-2.06-.94L8.5 2.5l-.94 2.06-2.06.94zm10 10l.94 2.06.94-2.06 2.06-.94-2.06-.94-.94-2.06-.94 2.06-2.06.94z\"/><path d=\"M17.41 7.96l-1.37-1.37c-.4-.4-.92-.59-1.43-.59-.52 0-1.04.2-1.43.59L10.3 9.45l-7.72 7.72c-.78.78-.78 2.05 0 2.83L4 21.41c.39.39.9.59 1.41.59.51 0 1.02-.2 1.41-.59l7.78-7.78 2.81-2.81c.8-.78.8-2.07 0-2.86zM5.41 20L4 18.59l7.72-7.72 1.47 1.35L5.41 20z\"/>\n",
              "  </svg>\n",
              "      </button>\n",
              "      \n",
              "  <style>\n",
              "    .colab-df-container {\n",
              "      display:flex;\n",
              "      flex-wrap:wrap;\n",
              "      gap: 12px;\n",
              "    }\n",
              "\n",
              "    .colab-df-convert {\n",
              "      background-color: #E8F0FE;\n",
              "      border: none;\n",
              "      border-radius: 50%;\n",
              "      cursor: pointer;\n",
              "      display: none;\n",
              "      fill: #1967D2;\n",
              "      height: 32px;\n",
              "      padding: 0 0 0 0;\n",
              "      width: 32px;\n",
              "    }\n",
              "\n",
              "    .colab-df-convert:hover {\n",
              "      background-color: #E2EBFA;\n",
              "      box-shadow: 0px 1px 2px rgba(60, 64, 67, 0.3), 0px 1px 3px 1px rgba(60, 64, 67, 0.15);\n",
              "      fill: #174EA6;\n",
              "    }\n",
              "\n",
              "    [theme=dark] .colab-df-convert {\n",
              "      background-color: #3B4455;\n",
              "      fill: #D2E3FC;\n",
              "    }\n",
              "\n",
              "    [theme=dark] .colab-df-convert:hover {\n",
              "      background-color: #434B5C;\n",
              "      box-shadow: 0px 1px 3px 1px rgba(0, 0, 0, 0.15);\n",
              "      filter: drop-shadow(0px 1px 2px rgba(0, 0, 0, 0.3));\n",
              "      fill: #FFFFFF;\n",
              "    }\n",
              "  </style>\n",
              "\n",
              "      <script>\n",
              "        const buttonEl =\n",
              "          document.querySelector('#df-3f8a3485-f7f6-438d-9031-c38d140ce02a button.colab-df-convert');\n",
              "        buttonEl.style.display =\n",
              "          google.colab.kernel.accessAllowed ? 'block' : 'none';\n",
              "\n",
              "        async function convertToInteractive(key) {\n",
              "          const element = document.querySelector('#df-3f8a3485-f7f6-438d-9031-c38d140ce02a');\n",
              "          const dataTable =\n",
              "            await google.colab.kernel.invokeFunction('convertToInteractive',\n",
              "                                                     [key], {});\n",
              "          if (!dataTable) return;\n",
              "\n",
              "          const docLinkHtml = 'Like what you see? Visit the ' +\n",
              "            '<a target=\"_blank\" href=https://colab.research.google.com/notebooks/data_table.ipynb>data table notebook</a>'\n",
              "            + ' to learn more about interactive tables.';\n",
              "          element.innerHTML = '';\n",
              "          dataTable['output_type'] = 'display_data';\n",
              "          await google.colab.output.renderOutput(dataTable, element);\n",
              "          const docLink = document.createElement('div');\n",
              "          docLink.innerHTML = docLinkHtml;\n",
              "          element.appendChild(docLink);\n",
              "        }\n",
              "      </script>\n",
              "    </div>\n",
              "  </div>\n",
              "  "
            ]
          },
          "metadata": {},
          "execution_count": 2
        }
      ]
    },
    {
      "cell_type": "code",
      "source": [
        "df2\n"
      ],
      "metadata": {
        "colab": {
          "base_uri": "https://localhost:8080/",
          "height": 423
        },
        "id": "ME0_k614i0Ch",
        "outputId": "199aa465-ec75-4d73-cd29-309402638784"
      },
      "execution_count": 3,
      "outputs": [
        {
          "output_type": "execute_result",
          "data": {
            "text/plain": [
              "          id     country    year     sex          age  suicides_no population  \\\n",
              "0          1     Albania  1987.0    male          NaN           21   312900.0   \n",
              "1          2     Albania  1987.0    male          NaN           16   308000.0   \n",
              "2          3     Albania     NaN  female  15-24 years           14   289700.0   \n",
              "3          4     Albania  1987.0    male    75+ years            1        NaN   \n",
              "4          5     Albania  1987.0    male  25-34 years            9   274300.0   \n",
              "...      ...         ...     ...     ...          ...          ...        ...   \n",
              "27815  27816  Uzbekistan  2014.0  female  35-54 years          107  3620833.0   \n",
              "27816  27817  Uzbekistan  2014.0  female          NaN            9   348465.0   \n",
              "27817  27818  Uzbekistan  2014.0    male   5-14 years           60  2762158.0   \n",
              "27818  27819  Uzbekistan  2014.0  female          NaN           44        NaN   \n",
              "27819  27820  Uzbekistan  2014.0  female          NaN           21  1438935.0   \n",
              "\n",
              "       suicides/100k pop  \n",
              "0                   6.71  \n",
              "1                   5.19  \n",
              "2                   4.83  \n",
              "3                   4.59  \n",
              "4                   3.28  \n",
              "...                  ...  \n",
              "27815               2.96  \n",
              "27816               2.58  \n",
              "27817               2.17  \n",
              "27818               1.67  \n",
              "27819               1.46  \n",
              "\n",
              "[27820 rows x 8 columns]"
            ],
            "text/html": [
              "\n",
              "  <div id=\"df-186b1a2b-a883-4410-aa91-90418219cb44\">\n",
              "    <div class=\"colab-df-container\">\n",
              "      <div>\n",
              "<style scoped>\n",
              "    .dataframe tbody tr th:only-of-type {\n",
              "        vertical-align: middle;\n",
              "    }\n",
              "\n",
              "    .dataframe tbody tr th {\n",
              "        vertical-align: top;\n",
              "    }\n",
              "\n",
              "    .dataframe thead th {\n",
              "        text-align: right;\n",
              "    }\n",
              "</style>\n",
              "<table border=\"1\" class=\"dataframe\">\n",
              "  <thead>\n",
              "    <tr style=\"text-align: right;\">\n",
              "      <th></th>\n",
              "      <th>id</th>\n",
              "      <th>country</th>\n",
              "      <th>year</th>\n",
              "      <th>sex</th>\n",
              "      <th>age</th>\n",
              "      <th>suicides_no</th>\n",
              "      <th>population</th>\n",
              "      <th>suicides/100k pop</th>\n",
              "    </tr>\n",
              "  </thead>\n",
              "  <tbody>\n",
              "    <tr>\n",
              "      <th>0</th>\n",
              "      <td>1</td>\n",
              "      <td>Albania</td>\n",
              "      <td>1987.0</td>\n",
              "      <td>male</td>\n",
              "      <td>NaN</td>\n",
              "      <td>21</td>\n",
              "      <td>312900.0</td>\n",
              "      <td>6.71</td>\n",
              "    </tr>\n",
              "    <tr>\n",
              "      <th>1</th>\n",
              "      <td>2</td>\n",
              "      <td>Albania</td>\n",
              "      <td>1987.0</td>\n",
              "      <td>male</td>\n",
              "      <td>NaN</td>\n",
              "      <td>16</td>\n",
              "      <td>308000.0</td>\n",
              "      <td>5.19</td>\n",
              "    </tr>\n",
              "    <tr>\n",
              "      <th>2</th>\n",
              "      <td>3</td>\n",
              "      <td>Albania</td>\n",
              "      <td>NaN</td>\n",
              "      <td>female</td>\n",
              "      <td>15-24 years</td>\n",
              "      <td>14</td>\n",
              "      <td>289700.0</td>\n",
              "      <td>4.83</td>\n",
              "    </tr>\n",
              "    <tr>\n",
              "      <th>3</th>\n",
              "      <td>4</td>\n",
              "      <td>Albania</td>\n",
              "      <td>1987.0</td>\n",
              "      <td>male</td>\n",
              "      <td>75+ years</td>\n",
              "      <td>1</td>\n",
              "      <td>NaN</td>\n",
              "      <td>4.59</td>\n",
              "    </tr>\n",
              "    <tr>\n",
              "      <th>4</th>\n",
              "      <td>5</td>\n",
              "      <td>Albania</td>\n",
              "      <td>1987.0</td>\n",
              "      <td>male</td>\n",
              "      <td>25-34 years</td>\n",
              "      <td>9</td>\n",
              "      <td>274300.0</td>\n",
              "      <td>3.28</td>\n",
              "    </tr>\n",
              "    <tr>\n",
              "      <th>...</th>\n",
              "      <td>...</td>\n",
              "      <td>...</td>\n",
              "      <td>...</td>\n",
              "      <td>...</td>\n",
              "      <td>...</td>\n",
              "      <td>...</td>\n",
              "      <td>...</td>\n",
              "      <td>...</td>\n",
              "    </tr>\n",
              "    <tr>\n",
              "      <th>27815</th>\n",
              "      <td>27816</td>\n",
              "      <td>Uzbekistan</td>\n",
              "      <td>2014.0</td>\n",
              "      <td>female</td>\n",
              "      <td>35-54 years</td>\n",
              "      <td>107</td>\n",
              "      <td>3620833.0</td>\n",
              "      <td>2.96</td>\n",
              "    </tr>\n",
              "    <tr>\n",
              "      <th>27816</th>\n",
              "      <td>27817</td>\n",
              "      <td>Uzbekistan</td>\n",
              "      <td>2014.0</td>\n",
              "      <td>female</td>\n",
              "      <td>NaN</td>\n",
              "      <td>9</td>\n",
              "      <td>348465.0</td>\n",
              "      <td>2.58</td>\n",
              "    </tr>\n",
              "    <tr>\n",
              "      <th>27817</th>\n",
              "      <td>27818</td>\n",
              "      <td>Uzbekistan</td>\n",
              "      <td>2014.0</td>\n",
              "      <td>male</td>\n",
              "      <td>5-14 years</td>\n",
              "      <td>60</td>\n",
              "      <td>2762158.0</td>\n",
              "      <td>2.17</td>\n",
              "    </tr>\n",
              "    <tr>\n",
              "      <th>27818</th>\n",
              "      <td>27819</td>\n",
              "      <td>Uzbekistan</td>\n",
              "      <td>2014.0</td>\n",
              "      <td>female</td>\n",
              "      <td>NaN</td>\n",
              "      <td>44</td>\n",
              "      <td>NaN</td>\n",
              "      <td>1.67</td>\n",
              "    </tr>\n",
              "    <tr>\n",
              "      <th>27819</th>\n",
              "      <td>27820</td>\n",
              "      <td>Uzbekistan</td>\n",
              "      <td>2014.0</td>\n",
              "      <td>female</td>\n",
              "      <td>NaN</td>\n",
              "      <td>21</td>\n",
              "      <td>1438935.0</td>\n",
              "      <td>1.46</td>\n",
              "    </tr>\n",
              "  </tbody>\n",
              "</table>\n",
              "<p>27820 rows × 8 columns</p>\n",
              "</div>\n",
              "      <button class=\"colab-df-convert\" onclick=\"convertToInteractive('df-186b1a2b-a883-4410-aa91-90418219cb44')\"\n",
              "              title=\"Convert this dataframe to an interactive table.\"\n",
              "              style=\"display:none;\">\n",
              "        \n",
              "  <svg xmlns=\"http://www.w3.org/2000/svg\" height=\"24px\"viewBox=\"0 0 24 24\"\n",
              "       width=\"24px\">\n",
              "    <path d=\"M0 0h24v24H0V0z\" fill=\"none\"/>\n",
              "    <path d=\"M18.56 5.44l.94 2.06.94-2.06 2.06-.94-2.06-.94-.94-2.06-.94 2.06-2.06.94zm-11 1L8.5 8.5l.94-2.06 2.06-.94-2.06-.94L8.5 2.5l-.94 2.06-2.06.94zm10 10l.94 2.06.94-2.06 2.06-.94-2.06-.94-.94-2.06-.94 2.06-2.06.94z\"/><path d=\"M17.41 7.96l-1.37-1.37c-.4-.4-.92-.59-1.43-.59-.52 0-1.04.2-1.43.59L10.3 9.45l-7.72 7.72c-.78.78-.78 2.05 0 2.83L4 21.41c.39.39.9.59 1.41.59.51 0 1.02-.2 1.41-.59l7.78-7.78 2.81-2.81c.8-.78.8-2.07 0-2.86zM5.41 20L4 18.59l7.72-7.72 1.47 1.35L5.41 20z\"/>\n",
              "  </svg>\n",
              "      </button>\n",
              "      \n",
              "  <style>\n",
              "    .colab-df-container {\n",
              "      display:flex;\n",
              "      flex-wrap:wrap;\n",
              "      gap: 12px;\n",
              "    }\n",
              "\n",
              "    .colab-df-convert {\n",
              "      background-color: #E8F0FE;\n",
              "      border: none;\n",
              "      border-radius: 50%;\n",
              "      cursor: pointer;\n",
              "      display: none;\n",
              "      fill: #1967D2;\n",
              "      height: 32px;\n",
              "      padding: 0 0 0 0;\n",
              "      width: 32px;\n",
              "    }\n",
              "\n",
              "    .colab-df-convert:hover {\n",
              "      background-color: #E2EBFA;\n",
              "      box-shadow: 0px 1px 2px rgba(60, 64, 67, 0.3), 0px 1px 3px 1px rgba(60, 64, 67, 0.15);\n",
              "      fill: #174EA6;\n",
              "    }\n",
              "\n",
              "    [theme=dark] .colab-df-convert {\n",
              "      background-color: #3B4455;\n",
              "      fill: #D2E3FC;\n",
              "    }\n",
              "\n",
              "    [theme=dark] .colab-df-convert:hover {\n",
              "      background-color: #434B5C;\n",
              "      box-shadow: 0px 1px 3px 1px rgba(0, 0, 0, 0.15);\n",
              "      filter: drop-shadow(0px 1px 2px rgba(0, 0, 0, 0.3));\n",
              "      fill: #FFFFFF;\n",
              "    }\n",
              "  </style>\n",
              "\n",
              "      <script>\n",
              "        const buttonEl =\n",
              "          document.querySelector('#df-186b1a2b-a883-4410-aa91-90418219cb44 button.colab-df-convert');\n",
              "        buttonEl.style.display =\n",
              "          google.colab.kernel.accessAllowed ? 'block' : 'none';\n",
              "\n",
              "        async function convertToInteractive(key) {\n",
              "          const element = document.querySelector('#df-186b1a2b-a883-4410-aa91-90418219cb44');\n",
              "          const dataTable =\n",
              "            await google.colab.kernel.invokeFunction('convertToInteractive',\n",
              "                                                     [key], {});\n",
              "          if (!dataTable) return;\n",
              "\n",
              "          const docLinkHtml = 'Like what you see? Visit the ' +\n",
              "            '<a target=\"_blank\" href=https://colab.research.google.com/notebooks/data_table.ipynb>data table notebook</a>'\n",
              "            + ' to learn more about interactive tables.';\n",
              "          element.innerHTML = '';\n",
              "          dataTable['output_type'] = 'display_data';\n",
              "          await google.colab.output.renderOutput(dataTable, element);\n",
              "          const docLink = document.createElement('div');\n",
              "          docLink.innerHTML = docLinkHtml;\n",
              "          element.appendChild(docLink);\n",
              "        }\n",
              "      </script>\n",
              "    </div>\n",
              "  </div>\n",
              "  "
            ]
          },
          "metadata": {},
          "execution_count": 3
        }
      ]
    },
    {
      "cell_type": "code",
      "source": [
        "data_sets = df1, df2"
      ],
      "metadata": {
        "id": "Ow6r1vqbjKGc"
      },
      "execution_count": 4,
      "outputs": []
    },
    {
      "cell_type": "code",
      "source": [
        "for df in data_sets : \n",
        "    df1['country']=df1['country-year'].str[:-4]\n",
        "    df1['year']=df1['country-year'].str[-4:]"
      ],
      "metadata": {
        "id": "VF3M5VnHhZqy"
      },
      "execution_count": 5,
      "outputs": []
    },
    {
      "cell_type": "code",
      "source": [
        "df1"
      ],
      "metadata": {
        "colab": {
          "base_uri": "https://localhost:8080/",
          "height": 423
        },
        "id": "x56xCkhujV2x",
        "outputId": "c41b7996-a0f9-4126-e779-aee38b0be1a6"
      },
      "execution_count": 6,
      "outputs": [
        {
          "output_type": "execute_result",
          "data": {
            "text/plain": [
              "          id    country-year  HDI for year  gdp_for_year ($)   \\\n",
              "0          1     Albania1987           NaN      2,156,624,900   \n",
              "1          2     Albania1987           NaN      2,156,624,900   \n",
              "2          3     Albania1987           NaN      2,156,624,900   \n",
              "3          4     Albania1987           NaN      2,156,624,900   \n",
              "4          5     Albania1987           NaN      2,156,624,900   \n",
              "...      ...             ...           ...                ...   \n",
              "27815  27816  Uzbekistan2014         0.675     63,067,077,179   \n",
              "27816  27817  Uzbekistan2014         0.675     63,067,077,179   \n",
              "27817  27818  Uzbekistan2014         0.675     63,067,077,179   \n",
              "27818  27819  Uzbekistan2014         0.675     63,067,077,179   \n",
              "27819  27820  Uzbekistan2014         0.675     63,067,077,179   \n",
              "\n",
              "       gdp_per_capita ($)       generation     country  year  \n",
              "0                   796.0     Generation X     Albania  1987  \n",
              "1                     NaN           Silent     Albania  1987  \n",
              "2                   796.0     Generation X     Albania  1987  \n",
              "3                   796.0  G.I. Generation     Albania  1987  \n",
              "4                   796.0          Boomers     Albania  1987  \n",
              "...                   ...              ...         ...   ...  \n",
              "27815              2309.0     Generation X  Uzbekistan  2014  \n",
              "27816              2309.0           Silent  Uzbekistan  2014  \n",
              "27817              2309.0     Generation Z  Uzbekistan  2014  \n",
              "27818                 NaN     Generation Z  Uzbekistan  2014  \n",
              "27819                 NaN          Boomers  Uzbekistan  2014  \n",
              "\n",
              "[27820 rows x 8 columns]"
            ],
            "text/html": [
              "\n",
              "  <div id=\"df-1f29f885-256b-494c-8204-a9605743aa4c\">\n",
              "    <div class=\"colab-df-container\">\n",
              "      <div>\n",
              "<style scoped>\n",
              "    .dataframe tbody tr th:only-of-type {\n",
              "        vertical-align: middle;\n",
              "    }\n",
              "\n",
              "    .dataframe tbody tr th {\n",
              "        vertical-align: top;\n",
              "    }\n",
              "\n",
              "    .dataframe thead th {\n",
              "        text-align: right;\n",
              "    }\n",
              "</style>\n",
              "<table border=\"1\" class=\"dataframe\">\n",
              "  <thead>\n",
              "    <tr style=\"text-align: right;\">\n",
              "      <th></th>\n",
              "      <th>id</th>\n",
              "      <th>country-year</th>\n",
              "      <th>HDI for year</th>\n",
              "      <th>gdp_for_year ($)</th>\n",
              "      <th>gdp_per_capita ($)</th>\n",
              "      <th>generation</th>\n",
              "      <th>country</th>\n",
              "      <th>year</th>\n",
              "    </tr>\n",
              "  </thead>\n",
              "  <tbody>\n",
              "    <tr>\n",
              "      <th>0</th>\n",
              "      <td>1</td>\n",
              "      <td>Albania1987</td>\n",
              "      <td>NaN</td>\n",
              "      <td>2,156,624,900</td>\n",
              "      <td>796.0</td>\n",
              "      <td>Generation X</td>\n",
              "      <td>Albania</td>\n",
              "      <td>1987</td>\n",
              "    </tr>\n",
              "    <tr>\n",
              "      <th>1</th>\n",
              "      <td>2</td>\n",
              "      <td>Albania1987</td>\n",
              "      <td>NaN</td>\n",
              "      <td>2,156,624,900</td>\n",
              "      <td>NaN</td>\n",
              "      <td>Silent</td>\n",
              "      <td>Albania</td>\n",
              "      <td>1987</td>\n",
              "    </tr>\n",
              "    <tr>\n",
              "      <th>2</th>\n",
              "      <td>3</td>\n",
              "      <td>Albania1987</td>\n",
              "      <td>NaN</td>\n",
              "      <td>2,156,624,900</td>\n",
              "      <td>796.0</td>\n",
              "      <td>Generation X</td>\n",
              "      <td>Albania</td>\n",
              "      <td>1987</td>\n",
              "    </tr>\n",
              "    <tr>\n",
              "      <th>3</th>\n",
              "      <td>4</td>\n",
              "      <td>Albania1987</td>\n",
              "      <td>NaN</td>\n",
              "      <td>2,156,624,900</td>\n",
              "      <td>796.0</td>\n",
              "      <td>G.I. Generation</td>\n",
              "      <td>Albania</td>\n",
              "      <td>1987</td>\n",
              "    </tr>\n",
              "    <tr>\n",
              "      <th>4</th>\n",
              "      <td>5</td>\n",
              "      <td>Albania1987</td>\n",
              "      <td>NaN</td>\n",
              "      <td>2,156,624,900</td>\n",
              "      <td>796.0</td>\n",
              "      <td>Boomers</td>\n",
              "      <td>Albania</td>\n",
              "      <td>1987</td>\n",
              "    </tr>\n",
              "    <tr>\n",
              "      <th>...</th>\n",
              "      <td>...</td>\n",
              "      <td>...</td>\n",
              "      <td>...</td>\n",
              "      <td>...</td>\n",
              "      <td>...</td>\n",
              "      <td>...</td>\n",
              "      <td>...</td>\n",
              "      <td>...</td>\n",
              "    </tr>\n",
              "    <tr>\n",
              "      <th>27815</th>\n",
              "      <td>27816</td>\n",
              "      <td>Uzbekistan2014</td>\n",
              "      <td>0.675</td>\n",
              "      <td>63,067,077,179</td>\n",
              "      <td>2309.0</td>\n",
              "      <td>Generation X</td>\n",
              "      <td>Uzbekistan</td>\n",
              "      <td>2014</td>\n",
              "    </tr>\n",
              "    <tr>\n",
              "      <th>27816</th>\n",
              "      <td>27817</td>\n",
              "      <td>Uzbekistan2014</td>\n",
              "      <td>0.675</td>\n",
              "      <td>63,067,077,179</td>\n",
              "      <td>2309.0</td>\n",
              "      <td>Silent</td>\n",
              "      <td>Uzbekistan</td>\n",
              "      <td>2014</td>\n",
              "    </tr>\n",
              "    <tr>\n",
              "      <th>27817</th>\n",
              "      <td>27818</td>\n",
              "      <td>Uzbekistan2014</td>\n",
              "      <td>0.675</td>\n",
              "      <td>63,067,077,179</td>\n",
              "      <td>2309.0</td>\n",
              "      <td>Generation Z</td>\n",
              "      <td>Uzbekistan</td>\n",
              "      <td>2014</td>\n",
              "    </tr>\n",
              "    <tr>\n",
              "      <th>27818</th>\n",
              "      <td>27819</td>\n",
              "      <td>Uzbekistan2014</td>\n",
              "      <td>0.675</td>\n",
              "      <td>63,067,077,179</td>\n",
              "      <td>NaN</td>\n",
              "      <td>Generation Z</td>\n",
              "      <td>Uzbekistan</td>\n",
              "      <td>2014</td>\n",
              "    </tr>\n",
              "    <tr>\n",
              "      <th>27819</th>\n",
              "      <td>27820</td>\n",
              "      <td>Uzbekistan2014</td>\n",
              "      <td>0.675</td>\n",
              "      <td>63,067,077,179</td>\n",
              "      <td>NaN</td>\n",
              "      <td>Boomers</td>\n",
              "      <td>Uzbekistan</td>\n",
              "      <td>2014</td>\n",
              "    </tr>\n",
              "  </tbody>\n",
              "</table>\n",
              "<p>27820 rows × 8 columns</p>\n",
              "</div>\n",
              "      <button class=\"colab-df-convert\" onclick=\"convertToInteractive('df-1f29f885-256b-494c-8204-a9605743aa4c')\"\n",
              "              title=\"Convert this dataframe to an interactive table.\"\n",
              "              style=\"display:none;\">\n",
              "        \n",
              "  <svg xmlns=\"http://www.w3.org/2000/svg\" height=\"24px\"viewBox=\"0 0 24 24\"\n",
              "       width=\"24px\">\n",
              "    <path d=\"M0 0h24v24H0V0z\" fill=\"none\"/>\n",
              "    <path d=\"M18.56 5.44l.94 2.06.94-2.06 2.06-.94-2.06-.94-.94-2.06-.94 2.06-2.06.94zm-11 1L8.5 8.5l.94-2.06 2.06-.94-2.06-.94L8.5 2.5l-.94 2.06-2.06.94zm10 10l.94 2.06.94-2.06 2.06-.94-2.06-.94-.94-2.06-.94 2.06-2.06.94z\"/><path d=\"M17.41 7.96l-1.37-1.37c-.4-.4-.92-.59-1.43-.59-.52 0-1.04.2-1.43.59L10.3 9.45l-7.72 7.72c-.78.78-.78 2.05 0 2.83L4 21.41c.39.39.9.59 1.41.59.51 0 1.02-.2 1.41-.59l7.78-7.78 2.81-2.81c.8-.78.8-2.07 0-2.86zM5.41 20L4 18.59l7.72-7.72 1.47 1.35L5.41 20z\"/>\n",
              "  </svg>\n",
              "      </button>\n",
              "      \n",
              "  <style>\n",
              "    .colab-df-container {\n",
              "      display:flex;\n",
              "      flex-wrap:wrap;\n",
              "      gap: 12px;\n",
              "    }\n",
              "\n",
              "    .colab-df-convert {\n",
              "      background-color: #E8F0FE;\n",
              "      border: none;\n",
              "      border-radius: 50%;\n",
              "      cursor: pointer;\n",
              "      display: none;\n",
              "      fill: #1967D2;\n",
              "      height: 32px;\n",
              "      padding: 0 0 0 0;\n",
              "      width: 32px;\n",
              "    }\n",
              "\n",
              "    .colab-df-convert:hover {\n",
              "      background-color: #E2EBFA;\n",
              "      box-shadow: 0px 1px 2px rgba(60, 64, 67, 0.3), 0px 1px 3px 1px rgba(60, 64, 67, 0.15);\n",
              "      fill: #174EA6;\n",
              "    }\n",
              "\n",
              "    [theme=dark] .colab-df-convert {\n",
              "      background-color: #3B4455;\n",
              "      fill: #D2E3FC;\n",
              "    }\n",
              "\n",
              "    [theme=dark] .colab-df-convert:hover {\n",
              "      background-color: #434B5C;\n",
              "      box-shadow: 0px 1px 3px 1px rgba(0, 0, 0, 0.15);\n",
              "      filter: drop-shadow(0px 1px 2px rgba(0, 0, 0, 0.3));\n",
              "      fill: #FFFFFF;\n",
              "    }\n",
              "  </style>\n",
              "\n",
              "      <script>\n",
              "        const buttonEl =\n",
              "          document.querySelector('#df-1f29f885-256b-494c-8204-a9605743aa4c button.colab-df-convert');\n",
              "        buttonEl.style.display =\n",
              "          google.colab.kernel.accessAllowed ? 'block' : 'none';\n",
              "\n",
              "        async function convertToInteractive(key) {\n",
              "          const element = document.querySelector('#df-1f29f885-256b-494c-8204-a9605743aa4c');\n",
              "          const dataTable =\n",
              "            await google.colab.kernel.invokeFunction('convertToInteractive',\n",
              "                                                     [key], {});\n",
              "          if (!dataTable) return;\n",
              "\n",
              "          const docLinkHtml = 'Like what you see? Visit the ' +\n",
              "            '<a target=\"_blank\" href=https://colab.research.google.com/notebooks/data_table.ipynb>data table notebook</a>'\n",
              "            + ' to learn more about interactive tables.';\n",
              "          element.innerHTML = '';\n",
              "          dataTable['output_type'] = 'display_data';\n",
              "          await google.colab.output.renderOutput(dataTable, element);\n",
              "          const docLink = document.createElement('div');\n",
              "          docLink.innerHTML = docLinkHtml;\n",
              "          element.appendChild(docLink);\n",
              "        }\n",
              "      </script>\n",
              "    </div>\n",
              "  </div>\n",
              "  "
            ]
          },
          "metadata": {},
          "execution_count": 6
        }
      ]
    },
    {
      "cell_type": "code",
      "source": [
        "df1 = df1.drop(columns=['country-year'])"
      ],
      "metadata": {
        "id": "h_OGaBXRlA8L"
      },
      "execution_count": 7,
      "outputs": []
    },
    {
      "cell_type": "code",
      "source": [
        "df1"
      ],
      "metadata": {
        "colab": {
          "base_uri": "https://localhost:8080/",
          "height": 423
        },
        "id": "8YaTN7Qclmmd",
        "outputId": "ab831bfe-2b24-497f-eaf6-a778d960697a"
      },
      "execution_count": 8,
      "outputs": [
        {
          "output_type": "execute_result",
          "data": {
            "text/plain": [
              "          id  HDI for year  gdp_for_year ($)   gdp_per_capita ($)  \\\n",
              "0          1           NaN      2,156,624,900               796.0   \n",
              "1          2           NaN      2,156,624,900                 NaN   \n",
              "2          3           NaN      2,156,624,900               796.0   \n",
              "3          4           NaN      2,156,624,900               796.0   \n",
              "4          5           NaN      2,156,624,900               796.0   \n",
              "...      ...           ...                ...                 ...   \n",
              "27815  27816         0.675     63,067,077,179              2309.0   \n",
              "27816  27817         0.675     63,067,077,179              2309.0   \n",
              "27817  27818         0.675     63,067,077,179              2309.0   \n",
              "27818  27819         0.675     63,067,077,179                 NaN   \n",
              "27819  27820         0.675     63,067,077,179                 NaN   \n",
              "\n",
              "            generation     country  year  \n",
              "0         Generation X     Albania  1987  \n",
              "1               Silent     Albania  1987  \n",
              "2         Generation X     Albania  1987  \n",
              "3      G.I. Generation     Albania  1987  \n",
              "4              Boomers     Albania  1987  \n",
              "...                ...         ...   ...  \n",
              "27815     Generation X  Uzbekistan  2014  \n",
              "27816           Silent  Uzbekistan  2014  \n",
              "27817     Generation Z  Uzbekistan  2014  \n",
              "27818     Generation Z  Uzbekistan  2014  \n",
              "27819          Boomers  Uzbekistan  2014  \n",
              "\n",
              "[27820 rows x 7 columns]"
            ],
            "text/html": [
              "\n",
              "  <div id=\"df-37b69231-8268-4207-ab59-27234033cc9e\">\n",
              "    <div class=\"colab-df-container\">\n",
              "      <div>\n",
              "<style scoped>\n",
              "    .dataframe tbody tr th:only-of-type {\n",
              "        vertical-align: middle;\n",
              "    }\n",
              "\n",
              "    .dataframe tbody tr th {\n",
              "        vertical-align: top;\n",
              "    }\n",
              "\n",
              "    .dataframe thead th {\n",
              "        text-align: right;\n",
              "    }\n",
              "</style>\n",
              "<table border=\"1\" class=\"dataframe\">\n",
              "  <thead>\n",
              "    <tr style=\"text-align: right;\">\n",
              "      <th></th>\n",
              "      <th>id</th>\n",
              "      <th>HDI for year</th>\n",
              "      <th>gdp_for_year ($)</th>\n",
              "      <th>gdp_per_capita ($)</th>\n",
              "      <th>generation</th>\n",
              "      <th>country</th>\n",
              "      <th>year</th>\n",
              "    </tr>\n",
              "  </thead>\n",
              "  <tbody>\n",
              "    <tr>\n",
              "      <th>0</th>\n",
              "      <td>1</td>\n",
              "      <td>NaN</td>\n",
              "      <td>2,156,624,900</td>\n",
              "      <td>796.0</td>\n",
              "      <td>Generation X</td>\n",
              "      <td>Albania</td>\n",
              "      <td>1987</td>\n",
              "    </tr>\n",
              "    <tr>\n",
              "      <th>1</th>\n",
              "      <td>2</td>\n",
              "      <td>NaN</td>\n",
              "      <td>2,156,624,900</td>\n",
              "      <td>NaN</td>\n",
              "      <td>Silent</td>\n",
              "      <td>Albania</td>\n",
              "      <td>1987</td>\n",
              "    </tr>\n",
              "    <tr>\n",
              "      <th>2</th>\n",
              "      <td>3</td>\n",
              "      <td>NaN</td>\n",
              "      <td>2,156,624,900</td>\n",
              "      <td>796.0</td>\n",
              "      <td>Generation X</td>\n",
              "      <td>Albania</td>\n",
              "      <td>1987</td>\n",
              "    </tr>\n",
              "    <tr>\n",
              "      <th>3</th>\n",
              "      <td>4</td>\n",
              "      <td>NaN</td>\n",
              "      <td>2,156,624,900</td>\n",
              "      <td>796.0</td>\n",
              "      <td>G.I. Generation</td>\n",
              "      <td>Albania</td>\n",
              "      <td>1987</td>\n",
              "    </tr>\n",
              "    <tr>\n",
              "      <th>4</th>\n",
              "      <td>5</td>\n",
              "      <td>NaN</td>\n",
              "      <td>2,156,624,900</td>\n",
              "      <td>796.0</td>\n",
              "      <td>Boomers</td>\n",
              "      <td>Albania</td>\n",
              "      <td>1987</td>\n",
              "    </tr>\n",
              "    <tr>\n",
              "      <th>...</th>\n",
              "      <td>...</td>\n",
              "      <td>...</td>\n",
              "      <td>...</td>\n",
              "      <td>...</td>\n",
              "      <td>...</td>\n",
              "      <td>...</td>\n",
              "      <td>...</td>\n",
              "    </tr>\n",
              "    <tr>\n",
              "      <th>27815</th>\n",
              "      <td>27816</td>\n",
              "      <td>0.675</td>\n",
              "      <td>63,067,077,179</td>\n",
              "      <td>2309.0</td>\n",
              "      <td>Generation X</td>\n",
              "      <td>Uzbekistan</td>\n",
              "      <td>2014</td>\n",
              "    </tr>\n",
              "    <tr>\n",
              "      <th>27816</th>\n",
              "      <td>27817</td>\n",
              "      <td>0.675</td>\n",
              "      <td>63,067,077,179</td>\n",
              "      <td>2309.0</td>\n",
              "      <td>Silent</td>\n",
              "      <td>Uzbekistan</td>\n",
              "      <td>2014</td>\n",
              "    </tr>\n",
              "    <tr>\n",
              "      <th>27817</th>\n",
              "      <td>27818</td>\n",
              "      <td>0.675</td>\n",
              "      <td>63,067,077,179</td>\n",
              "      <td>2309.0</td>\n",
              "      <td>Generation Z</td>\n",
              "      <td>Uzbekistan</td>\n",
              "      <td>2014</td>\n",
              "    </tr>\n",
              "    <tr>\n",
              "      <th>27818</th>\n",
              "      <td>27819</td>\n",
              "      <td>0.675</td>\n",
              "      <td>63,067,077,179</td>\n",
              "      <td>NaN</td>\n",
              "      <td>Generation Z</td>\n",
              "      <td>Uzbekistan</td>\n",
              "      <td>2014</td>\n",
              "    </tr>\n",
              "    <tr>\n",
              "      <th>27819</th>\n",
              "      <td>27820</td>\n",
              "      <td>0.675</td>\n",
              "      <td>63,067,077,179</td>\n",
              "      <td>NaN</td>\n",
              "      <td>Boomers</td>\n",
              "      <td>Uzbekistan</td>\n",
              "      <td>2014</td>\n",
              "    </tr>\n",
              "  </tbody>\n",
              "</table>\n",
              "<p>27820 rows × 7 columns</p>\n",
              "</div>\n",
              "      <button class=\"colab-df-convert\" onclick=\"convertToInteractive('df-37b69231-8268-4207-ab59-27234033cc9e')\"\n",
              "              title=\"Convert this dataframe to an interactive table.\"\n",
              "              style=\"display:none;\">\n",
              "        \n",
              "  <svg xmlns=\"http://www.w3.org/2000/svg\" height=\"24px\"viewBox=\"0 0 24 24\"\n",
              "       width=\"24px\">\n",
              "    <path d=\"M0 0h24v24H0V0z\" fill=\"none\"/>\n",
              "    <path d=\"M18.56 5.44l.94 2.06.94-2.06 2.06-.94-2.06-.94-.94-2.06-.94 2.06-2.06.94zm-11 1L8.5 8.5l.94-2.06 2.06-.94-2.06-.94L8.5 2.5l-.94 2.06-2.06.94zm10 10l.94 2.06.94-2.06 2.06-.94-2.06-.94-.94-2.06-.94 2.06-2.06.94z\"/><path d=\"M17.41 7.96l-1.37-1.37c-.4-.4-.92-.59-1.43-.59-.52 0-1.04.2-1.43.59L10.3 9.45l-7.72 7.72c-.78.78-.78 2.05 0 2.83L4 21.41c.39.39.9.59 1.41.59.51 0 1.02-.2 1.41-.59l7.78-7.78 2.81-2.81c.8-.78.8-2.07 0-2.86zM5.41 20L4 18.59l7.72-7.72 1.47 1.35L5.41 20z\"/>\n",
              "  </svg>\n",
              "      </button>\n",
              "      \n",
              "  <style>\n",
              "    .colab-df-container {\n",
              "      display:flex;\n",
              "      flex-wrap:wrap;\n",
              "      gap: 12px;\n",
              "    }\n",
              "\n",
              "    .colab-df-convert {\n",
              "      background-color: #E8F0FE;\n",
              "      border: none;\n",
              "      border-radius: 50%;\n",
              "      cursor: pointer;\n",
              "      display: none;\n",
              "      fill: #1967D2;\n",
              "      height: 32px;\n",
              "      padding: 0 0 0 0;\n",
              "      width: 32px;\n",
              "    }\n",
              "\n",
              "    .colab-df-convert:hover {\n",
              "      background-color: #E2EBFA;\n",
              "      box-shadow: 0px 1px 2px rgba(60, 64, 67, 0.3), 0px 1px 3px 1px rgba(60, 64, 67, 0.15);\n",
              "      fill: #174EA6;\n",
              "    }\n",
              "\n",
              "    [theme=dark] .colab-df-convert {\n",
              "      background-color: #3B4455;\n",
              "      fill: #D2E3FC;\n",
              "    }\n",
              "\n",
              "    [theme=dark] .colab-df-convert:hover {\n",
              "      background-color: #434B5C;\n",
              "      box-shadow: 0px 1px 3px 1px rgba(0, 0, 0, 0.15);\n",
              "      filter: drop-shadow(0px 1px 2px rgba(0, 0, 0, 0.3));\n",
              "      fill: #FFFFFF;\n",
              "    }\n",
              "  </style>\n",
              "\n",
              "      <script>\n",
              "        const buttonEl =\n",
              "          document.querySelector('#df-37b69231-8268-4207-ab59-27234033cc9e button.colab-df-convert');\n",
              "        buttonEl.style.display =\n",
              "          google.colab.kernel.accessAllowed ? 'block' : 'none';\n",
              "\n",
              "        async function convertToInteractive(key) {\n",
              "          const element = document.querySelector('#df-37b69231-8268-4207-ab59-27234033cc9e');\n",
              "          const dataTable =\n",
              "            await google.colab.kernel.invokeFunction('convertToInteractive',\n",
              "                                                     [key], {});\n",
              "          if (!dataTable) return;\n",
              "\n",
              "          const docLinkHtml = 'Like what you see? Visit the ' +\n",
              "            '<a target=\"_blank\" href=https://colab.research.google.com/notebooks/data_table.ipynb>data table notebook</a>'\n",
              "            + ' to learn more about interactive tables.';\n",
              "          element.innerHTML = '';\n",
              "          dataTable['output_type'] = 'display_data';\n",
              "          await google.colab.output.renderOutput(dataTable, element);\n",
              "          const docLink = document.createElement('div');\n",
              "          docLink.innerHTML = docLinkHtml;\n",
              "          element.appendChild(docLink);\n",
              "        }\n",
              "      </script>\n",
              "    </div>\n",
              "  </div>\n",
              "  "
            ]
          },
          "metadata": {},
          "execution_count": 8
        }
      ]
    },
    {
      "cell_type": "code",
      "source": [
        "df1.info()"
      ],
      "metadata": {
        "colab": {
          "base_uri": "https://localhost:8080/"
        },
        "id": "3NuhKjyfm35-",
        "outputId": "6b7edba6-937d-45d7-980d-b306e68cb0f7"
      },
      "execution_count": 9,
      "outputs": [
        {
          "output_type": "stream",
          "name": "stdout",
          "text": [
            "<class 'pandas.core.frame.DataFrame'>\n",
            "RangeIndex: 27820 entries, 0 to 27819\n",
            "Data columns (total 7 columns):\n",
            " #   Column              Non-Null Count  Dtype  \n",
            "---  ------              --------------  -----  \n",
            " 0   id                  27820 non-null  int64  \n",
            " 1   HDI for year        8364 non-null   float64\n",
            " 2    gdp_for_year ($)   27820 non-null  object \n",
            " 3   gdp_per_capita ($)  23820 non-null  float64\n",
            " 4   generation          27820 non-null  object \n",
            " 5   country             27820 non-null  object \n",
            " 6   year                27820 non-null  object \n",
            "dtypes: float64(2), int64(1), object(4)\n",
            "memory usage: 1.5+ MB\n"
          ]
        }
      ]
    },
    {
      "cell_type": "code",
      "source": [
        "df1['year'] = df1['year'].astype(float)\n"
      ],
      "metadata": {
        "id": "CvwxtuPmnDkx"
      },
      "execution_count": 10,
      "outputs": []
    },
    {
      "cell_type": "code",
      "source": [
        "df2.info()"
      ],
      "metadata": {
        "colab": {
          "base_uri": "https://localhost:8080/"
        },
        "id": "YKTJVQdjm-Vo",
        "outputId": "d9970281-5b02-479c-db4e-8c9a0efd17f9"
      },
      "execution_count": 11,
      "outputs": [
        {
          "output_type": "stream",
          "name": "stdout",
          "text": [
            "<class 'pandas.core.frame.DataFrame'>\n",
            "RangeIndex: 27820 entries, 0 to 27819\n",
            "Data columns (total 8 columns):\n",
            " #   Column             Non-Null Count  Dtype  \n",
            "---  ------             --------------  -----  \n",
            " 0   id                 27820 non-null  int64  \n",
            " 1   country            27820 non-null  object \n",
            " 2   year               22820 non-null  float64\n",
            " 3   sex                27820 non-null  object \n",
            " 4   age                23820 non-null  object \n",
            " 5   suicides_no        27820 non-null  int64  \n",
            " 6   population         23201 non-null  object \n",
            " 7   suicides/100k pop  27820 non-null  float64\n",
            "dtypes: float64(2), int64(2), object(4)\n",
            "memory usage: 1.7+ MB\n"
          ]
        }
      ]
    },
    {
      "cell_type": "code",
      "source": [
        "df = pd.merge(df1, df2, on=['id','year','country'])"
      ],
      "metadata": {
        "id": "DtV7xgcPlnts"
      },
      "execution_count": 12,
      "outputs": []
    },
    {
      "cell_type": "code",
      "source": [
        "df\n"
      ],
      "metadata": {
        "colab": {
          "base_uri": "https://localhost:8080/",
          "height": 423
        },
        "id": "sD7fZcrimObc",
        "outputId": "7913fca7-621e-4cf8-b82a-285a556f3960"
      },
      "execution_count": 13,
      "outputs": [
        {
          "output_type": "execute_result",
          "data": {
            "text/plain": [
              "          id  HDI for year  gdp_for_year ($)   gdp_per_capita ($)  \\\n",
              "0          1           NaN      2,156,624,900               796.0   \n",
              "1          2           NaN      2,156,624,900                 NaN   \n",
              "2          4           NaN      2,156,624,900               796.0   \n",
              "3          5           NaN      2,156,624,900               796.0   \n",
              "4          6           NaN      2,156,624,900               796.0   \n",
              "...      ...           ...                ...                 ...   \n",
              "22815  27816         0.675     63,067,077,179              2309.0   \n",
              "22816  27817         0.675     63,067,077,179              2309.0   \n",
              "22817  27818         0.675     63,067,077,179              2309.0   \n",
              "22818  27819         0.675     63,067,077,179                 NaN   \n",
              "22819  27820         0.675     63,067,077,179                 NaN   \n",
              "\n",
              "            generation     country    year     sex          age  suicides_no  \\\n",
              "0         Generation X     Albania  1987.0    male          NaN           21   \n",
              "1               Silent     Albania  1987.0    male          NaN           16   \n",
              "2      G.I. Generation     Albania  1987.0    male    75+ years            1   \n",
              "3              Boomers     Albania  1987.0    male  25-34 years            9   \n",
              "4      G.I. Generation     Albania  1987.0  female    75+ years            1   \n",
              "...                ...         ...     ...     ...          ...          ...   \n",
              "22815     Generation X  Uzbekistan  2014.0  female  35-54 years          107   \n",
              "22816           Silent  Uzbekistan  2014.0  female          NaN            9   \n",
              "22817     Generation Z  Uzbekistan  2014.0    male   5-14 years           60   \n",
              "22818     Generation Z  Uzbekistan  2014.0  female          NaN           44   \n",
              "22819          Boomers  Uzbekistan  2014.0  female          NaN           21   \n",
              "\n",
              "      population  suicides/100k pop  \n",
              "0       312900.0               6.71  \n",
              "1       308000.0               5.19  \n",
              "2            NaN               4.59  \n",
              "3       274300.0               3.28  \n",
              "4        35600.0               2.81  \n",
              "...          ...                ...  \n",
              "22815  3620833.0               2.96  \n",
              "22816   348465.0               2.58  \n",
              "22817  2762158.0               2.17  \n",
              "22818        NaN               1.67  \n",
              "22819  1438935.0               1.46  \n",
              "\n",
              "[22820 rows x 12 columns]"
            ],
            "text/html": [
              "\n",
              "  <div id=\"df-c47264e8-91dc-4a43-af2d-02134f56a0f2\">\n",
              "    <div class=\"colab-df-container\">\n",
              "      <div>\n",
              "<style scoped>\n",
              "    .dataframe tbody tr th:only-of-type {\n",
              "        vertical-align: middle;\n",
              "    }\n",
              "\n",
              "    .dataframe tbody tr th {\n",
              "        vertical-align: top;\n",
              "    }\n",
              "\n",
              "    .dataframe thead th {\n",
              "        text-align: right;\n",
              "    }\n",
              "</style>\n",
              "<table border=\"1\" class=\"dataframe\">\n",
              "  <thead>\n",
              "    <tr style=\"text-align: right;\">\n",
              "      <th></th>\n",
              "      <th>id</th>\n",
              "      <th>HDI for year</th>\n",
              "      <th>gdp_for_year ($)</th>\n",
              "      <th>gdp_per_capita ($)</th>\n",
              "      <th>generation</th>\n",
              "      <th>country</th>\n",
              "      <th>year</th>\n",
              "      <th>sex</th>\n",
              "      <th>age</th>\n",
              "      <th>suicides_no</th>\n",
              "      <th>population</th>\n",
              "      <th>suicides/100k pop</th>\n",
              "    </tr>\n",
              "  </thead>\n",
              "  <tbody>\n",
              "    <tr>\n",
              "      <th>0</th>\n",
              "      <td>1</td>\n",
              "      <td>NaN</td>\n",
              "      <td>2,156,624,900</td>\n",
              "      <td>796.0</td>\n",
              "      <td>Generation X</td>\n",
              "      <td>Albania</td>\n",
              "      <td>1987.0</td>\n",
              "      <td>male</td>\n",
              "      <td>NaN</td>\n",
              "      <td>21</td>\n",
              "      <td>312900.0</td>\n",
              "      <td>6.71</td>\n",
              "    </tr>\n",
              "    <tr>\n",
              "      <th>1</th>\n",
              "      <td>2</td>\n",
              "      <td>NaN</td>\n",
              "      <td>2,156,624,900</td>\n",
              "      <td>NaN</td>\n",
              "      <td>Silent</td>\n",
              "      <td>Albania</td>\n",
              "      <td>1987.0</td>\n",
              "      <td>male</td>\n",
              "      <td>NaN</td>\n",
              "      <td>16</td>\n",
              "      <td>308000.0</td>\n",
              "      <td>5.19</td>\n",
              "    </tr>\n",
              "    <tr>\n",
              "      <th>2</th>\n",
              "      <td>4</td>\n",
              "      <td>NaN</td>\n",
              "      <td>2,156,624,900</td>\n",
              "      <td>796.0</td>\n",
              "      <td>G.I. Generation</td>\n",
              "      <td>Albania</td>\n",
              "      <td>1987.0</td>\n",
              "      <td>male</td>\n",
              "      <td>75+ years</td>\n",
              "      <td>1</td>\n",
              "      <td>NaN</td>\n",
              "      <td>4.59</td>\n",
              "    </tr>\n",
              "    <tr>\n",
              "      <th>3</th>\n",
              "      <td>5</td>\n",
              "      <td>NaN</td>\n",
              "      <td>2,156,624,900</td>\n",
              "      <td>796.0</td>\n",
              "      <td>Boomers</td>\n",
              "      <td>Albania</td>\n",
              "      <td>1987.0</td>\n",
              "      <td>male</td>\n",
              "      <td>25-34 years</td>\n",
              "      <td>9</td>\n",
              "      <td>274300.0</td>\n",
              "      <td>3.28</td>\n",
              "    </tr>\n",
              "    <tr>\n",
              "      <th>4</th>\n",
              "      <td>6</td>\n",
              "      <td>NaN</td>\n",
              "      <td>2,156,624,900</td>\n",
              "      <td>796.0</td>\n",
              "      <td>G.I. Generation</td>\n",
              "      <td>Albania</td>\n",
              "      <td>1987.0</td>\n",
              "      <td>female</td>\n",
              "      <td>75+ years</td>\n",
              "      <td>1</td>\n",
              "      <td>35600.0</td>\n",
              "      <td>2.81</td>\n",
              "    </tr>\n",
              "    <tr>\n",
              "      <th>...</th>\n",
              "      <td>...</td>\n",
              "      <td>...</td>\n",
              "      <td>...</td>\n",
              "      <td>...</td>\n",
              "      <td>...</td>\n",
              "      <td>...</td>\n",
              "      <td>...</td>\n",
              "      <td>...</td>\n",
              "      <td>...</td>\n",
              "      <td>...</td>\n",
              "      <td>...</td>\n",
              "      <td>...</td>\n",
              "    </tr>\n",
              "    <tr>\n",
              "      <th>22815</th>\n",
              "      <td>27816</td>\n",
              "      <td>0.675</td>\n",
              "      <td>63,067,077,179</td>\n",
              "      <td>2309.0</td>\n",
              "      <td>Generation X</td>\n",
              "      <td>Uzbekistan</td>\n",
              "      <td>2014.0</td>\n",
              "      <td>female</td>\n",
              "      <td>35-54 years</td>\n",
              "      <td>107</td>\n",
              "      <td>3620833.0</td>\n",
              "      <td>2.96</td>\n",
              "    </tr>\n",
              "    <tr>\n",
              "      <th>22816</th>\n",
              "      <td>27817</td>\n",
              "      <td>0.675</td>\n",
              "      <td>63,067,077,179</td>\n",
              "      <td>2309.0</td>\n",
              "      <td>Silent</td>\n",
              "      <td>Uzbekistan</td>\n",
              "      <td>2014.0</td>\n",
              "      <td>female</td>\n",
              "      <td>NaN</td>\n",
              "      <td>9</td>\n",
              "      <td>348465.0</td>\n",
              "      <td>2.58</td>\n",
              "    </tr>\n",
              "    <tr>\n",
              "      <th>22817</th>\n",
              "      <td>27818</td>\n",
              "      <td>0.675</td>\n",
              "      <td>63,067,077,179</td>\n",
              "      <td>2309.0</td>\n",
              "      <td>Generation Z</td>\n",
              "      <td>Uzbekistan</td>\n",
              "      <td>2014.0</td>\n",
              "      <td>male</td>\n",
              "      <td>5-14 years</td>\n",
              "      <td>60</td>\n",
              "      <td>2762158.0</td>\n",
              "      <td>2.17</td>\n",
              "    </tr>\n",
              "    <tr>\n",
              "      <th>22818</th>\n",
              "      <td>27819</td>\n",
              "      <td>0.675</td>\n",
              "      <td>63,067,077,179</td>\n",
              "      <td>NaN</td>\n",
              "      <td>Generation Z</td>\n",
              "      <td>Uzbekistan</td>\n",
              "      <td>2014.0</td>\n",
              "      <td>female</td>\n",
              "      <td>NaN</td>\n",
              "      <td>44</td>\n",
              "      <td>NaN</td>\n",
              "      <td>1.67</td>\n",
              "    </tr>\n",
              "    <tr>\n",
              "      <th>22819</th>\n",
              "      <td>27820</td>\n",
              "      <td>0.675</td>\n",
              "      <td>63,067,077,179</td>\n",
              "      <td>NaN</td>\n",
              "      <td>Boomers</td>\n",
              "      <td>Uzbekistan</td>\n",
              "      <td>2014.0</td>\n",
              "      <td>female</td>\n",
              "      <td>NaN</td>\n",
              "      <td>21</td>\n",
              "      <td>1438935.0</td>\n",
              "      <td>1.46</td>\n",
              "    </tr>\n",
              "  </tbody>\n",
              "</table>\n",
              "<p>22820 rows × 12 columns</p>\n",
              "</div>\n",
              "      <button class=\"colab-df-convert\" onclick=\"convertToInteractive('df-c47264e8-91dc-4a43-af2d-02134f56a0f2')\"\n",
              "              title=\"Convert this dataframe to an interactive table.\"\n",
              "              style=\"display:none;\">\n",
              "        \n",
              "  <svg xmlns=\"http://www.w3.org/2000/svg\" height=\"24px\"viewBox=\"0 0 24 24\"\n",
              "       width=\"24px\">\n",
              "    <path d=\"M0 0h24v24H0V0z\" fill=\"none\"/>\n",
              "    <path d=\"M18.56 5.44l.94 2.06.94-2.06 2.06-.94-2.06-.94-.94-2.06-.94 2.06-2.06.94zm-11 1L8.5 8.5l.94-2.06 2.06-.94-2.06-.94L8.5 2.5l-.94 2.06-2.06.94zm10 10l.94 2.06.94-2.06 2.06-.94-2.06-.94-.94-2.06-.94 2.06-2.06.94z\"/><path d=\"M17.41 7.96l-1.37-1.37c-.4-.4-.92-.59-1.43-.59-.52 0-1.04.2-1.43.59L10.3 9.45l-7.72 7.72c-.78.78-.78 2.05 0 2.83L4 21.41c.39.39.9.59 1.41.59.51 0 1.02-.2 1.41-.59l7.78-7.78 2.81-2.81c.8-.78.8-2.07 0-2.86zM5.41 20L4 18.59l7.72-7.72 1.47 1.35L5.41 20z\"/>\n",
              "  </svg>\n",
              "      </button>\n",
              "      \n",
              "  <style>\n",
              "    .colab-df-container {\n",
              "      display:flex;\n",
              "      flex-wrap:wrap;\n",
              "      gap: 12px;\n",
              "    }\n",
              "\n",
              "    .colab-df-convert {\n",
              "      background-color: #E8F0FE;\n",
              "      border: none;\n",
              "      border-radius: 50%;\n",
              "      cursor: pointer;\n",
              "      display: none;\n",
              "      fill: #1967D2;\n",
              "      height: 32px;\n",
              "      padding: 0 0 0 0;\n",
              "      width: 32px;\n",
              "    }\n",
              "\n",
              "    .colab-df-convert:hover {\n",
              "      background-color: #E2EBFA;\n",
              "      box-shadow: 0px 1px 2px rgba(60, 64, 67, 0.3), 0px 1px 3px 1px rgba(60, 64, 67, 0.15);\n",
              "      fill: #174EA6;\n",
              "    }\n",
              "\n",
              "    [theme=dark] .colab-df-convert {\n",
              "      background-color: #3B4455;\n",
              "      fill: #D2E3FC;\n",
              "    }\n",
              "\n",
              "    [theme=dark] .colab-df-convert:hover {\n",
              "      background-color: #434B5C;\n",
              "      box-shadow: 0px 1px 3px 1px rgba(0, 0, 0, 0.15);\n",
              "      filter: drop-shadow(0px 1px 2px rgba(0, 0, 0, 0.3));\n",
              "      fill: #FFFFFF;\n",
              "    }\n",
              "  </style>\n",
              "\n",
              "      <script>\n",
              "        const buttonEl =\n",
              "          document.querySelector('#df-c47264e8-91dc-4a43-af2d-02134f56a0f2 button.colab-df-convert');\n",
              "        buttonEl.style.display =\n",
              "          google.colab.kernel.accessAllowed ? 'block' : 'none';\n",
              "\n",
              "        async function convertToInteractive(key) {\n",
              "          const element = document.querySelector('#df-c47264e8-91dc-4a43-af2d-02134f56a0f2');\n",
              "          const dataTable =\n",
              "            await google.colab.kernel.invokeFunction('convertToInteractive',\n",
              "                                                     [key], {});\n",
              "          if (!dataTable) return;\n",
              "\n",
              "          const docLinkHtml = 'Like what you see? Visit the ' +\n",
              "            '<a target=\"_blank\" href=https://colab.research.google.com/notebooks/data_table.ipynb>data table notebook</a>'\n",
              "            + ' to learn more about interactive tables.';\n",
              "          element.innerHTML = '';\n",
              "          dataTable['output_type'] = 'display_data';\n",
              "          await google.colab.output.renderOutput(dataTable, element);\n",
              "          const docLink = document.createElement('div');\n",
              "          docLink.innerHTML = docLinkHtml;\n",
              "          element.appendChild(docLink);\n",
              "        }\n",
              "      </script>\n",
              "    </div>\n",
              "  </div>\n",
              "  "
            ]
          },
          "metadata": {},
          "execution_count": 13
        }
      ]
    },
    {
      "cell_type": "code",
      "source": [
        "df.info()"
      ],
      "metadata": {
        "colab": {
          "base_uri": "https://localhost:8080/"
        },
        "id": "p-0NK4S0mWSF",
        "outputId": "63a661b8-90ce-42cf-b35f-e137e631aff9"
      },
      "execution_count": 14,
      "outputs": [
        {
          "output_type": "stream",
          "name": "stdout",
          "text": [
            "<class 'pandas.core.frame.DataFrame'>\n",
            "Int64Index: 22820 entries, 0 to 22819\n",
            "Data columns (total 12 columns):\n",
            " #   Column              Non-Null Count  Dtype  \n",
            "---  ------              --------------  -----  \n",
            " 0   id                  22820 non-null  int64  \n",
            " 1   HDI for year        6925 non-null   float64\n",
            " 2    gdp_for_year ($)   22820 non-null  object \n",
            " 3   gdp_per_capita ($)  19546 non-null  float64\n",
            " 4   generation          22820 non-null  object \n",
            " 5   country             22820 non-null  object \n",
            " 6   year                22820 non-null  float64\n",
            " 7   sex                 22820 non-null  object \n",
            " 8   age                 19527 non-null  object \n",
            " 9   suicides_no         22820 non-null  int64  \n",
            " 10  population          19042 non-null  object \n",
            " 11  suicides/100k pop   22820 non-null  float64\n",
            "dtypes: float64(4), int64(2), object(6)\n",
            "memory usage: 2.3+ MB\n"
          ]
        }
      ]
    },
    {
      "cell_type": "code",
      "source": [
        "df.isnull().sum()"
      ],
      "metadata": {
        "colab": {
          "base_uri": "https://localhost:8080/"
        },
        "id": "DnzPKVdFnosV",
        "outputId": "981271ca-5deb-4cc7-ea85-10df310784f8"
      },
      "execution_count": 15,
      "outputs": [
        {
          "output_type": "execute_result",
          "data": {
            "text/plain": [
              "id                        0\n",
              "HDI for year          15895\n",
              " gdp_for_year ($)         0\n",
              "gdp_per_capita ($)     3274\n",
              "generation                0\n",
              "country                   0\n",
              "year                      0\n",
              "sex                       0\n",
              "age                    3293\n",
              "suicides_no               0\n",
              "population             3778\n",
              "suicides/100k pop         0\n",
              "dtype: int64"
            ]
          },
          "metadata": {},
          "execution_count": 15
        }
      ]
    },
    {
      "cell_type": "code",
      "source": [
        "df = df.drop(columns=['HDI for year'])"
      ],
      "metadata": {
        "id": "LC9Y2jNtnxGZ"
      },
      "execution_count": 16,
      "outputs": []
    },
    {
      "cell_type": "code",
      "source": [
        "df.isnull().sum()"
      ],
      "metadata": {
        "colab": {
          "base_uri": "https://localhost:8080/"
        },
        "id": "8aDlLyX2oftv",
        "outputId": "3593d161-1109-499b-f69f-26fe70845f65"
      },
      "execution_count": 17,
      "outputs": [
        {
          "output_type": "execute_result",
          "data": {
            "text/plain": [
              "id                       0\n",
              " gdp_for_year ($)        0\n",
              "gdp_per_capita ($)    3274\n",
              "generation               0\n",
              "country                  0\n",
              "year                     0\n",
              "sex                      0\n",
              "age                   3293\n",
              "suicides_no              0\n",
              "population            3778\n",
              "suicides/100k pop        0\n",
              "dtype: int64"
            ]
          },
          "metadata": {},
          "execution_count": 17
        }
      ]
    },
    {
      "cell_type": "code",
      "source": [
        "df.nunique()"
      ],
      "metadata": {
        "colab": {
          "base_uri": "https://localhost:8080/"
        },
        "id": "LfqjaisUoi8G",
        "outputId": "918ea4bd-377e-4c89-f477-1a990d271a59"
      },
      "execution_count": 18,
      "outputs": [
        {
          "output_type": "execute_result",
          "data": {
            "text/plain": [
              "id                    22820\n",
              " gdp_for_year ($)      2321\n",
              "gdp_per_capita ($)     2233\n",
              "generation                6\n",
              "country                 101\n",
              "year                     32\n",
              "sex                       2\n",
              "age                       6\n",
              "suicides_no            1878\n",
              "population            16376\n",
              "suicides/100k pop      4890\n",
              "dtype: int64"
            ]
          },
          "metadata": {},
          "execution_count": 18
        }
      ]
    },
    {
      "cell_type": "code",
      "source": [
        "for col in df.columns:\n",
        "    print(col)\n",
        "    print(df[f'{col}'].unique())\n",
        "    print('*'*75)"
      ],
      "metadata": {
        "colab": {
          "base_uri": "https://localhost:8080/"
        },
        "id": "GcRizSfCPeLT",
        "outputId": "f2ceb190-c891-45f2-91d1-046a5519a3e4"
      },
      "execution_count": 19,
      "outputs": [
        {
          "output_type": "stream",
          "name": "stdout",
          "text": [
            "id\n",
            "[    1     2     4 ... 27818 27819 27820]\n",
            "***************************************************************************\n",
            " gdp_for_year ($) \n",
            "['2,156,624,900' '2,126,000,000' '2,335,124,988' ... '51,821,573,338'\n",
            " '57,690,453,461' '63,067,077,179']\n",
            "***************************************************************************\n",
            "gdp_per_capita ($)\n",
            "[ 796.   nan  769. ... 1964. 2150. 2309.]\n",
            "***************************************************************************\n",
            "generation\n",
            "['Generation X' 'Silent' 'G.I. Generation' 'Boomers' 'Millenials'\n",
            " 'Generation Z']\n",
            "***************************************************************************\n",
            "country\n",
            "['Albania' 'Antigua and Barbuda' 'Argentina' 'Armenia' 'Aruba' 'Australia'\n",
            " 'Austria' 'Azerbaijan' 'Bahamas' 'Bahrain' 'Barbados' 'Belarus' 'Belgium'\n",
            " 'Belize' 'Bosnia and Herzegovina' 'Brazil' 'Bulgaria' 'Cabo Verde'\n",
            " 'Canada' 'Chile' 'Colombia' 'Costa Rica' 'Croatia' 'Cuba' 'Cyprus'\n",
            " 'Czech Republic' 'Denmark' 'Dominica' 'Ecuador' 'El Salvador' 'Estonia'\n",
            " 'Fiji' 'Finland' 'France' 'Georgia' 'Germany' 'Greece' 'Grenada'\n",
            " 'Guatemala' 'Guyana' 'Hungary' 'Iceland' 'Ireland' 'Israel' 'Italy'\n",
            " 'Jamaica' 'Japan' 'Kazakhstan' 'Kiribati' 'Kuwait' 'Kyrgyzstan' 'Latvia'\n",
            " 'Lithuania' 'Luxembourg' 'Macau' 'Maldives' 'Malta' 'Mauritius' 'Mexico'\n",
            " 'Mongolia' 'Montenegro' 'Netherlands' 'New Zealand' 'Nicaragua' 'Norway'\n",
            " 'Oman' 'Panama' 'Paraguay' 'Philippines' 'Poland' 'Portugal'\n",
            " 'Puerto Rico' 'Qatar' 'Republic of Korea' 'Romania' 'Russian Federation'\n",
            " 'Saint Kitts and Nevis' 'Saint Lucia' 'Saint Vincent and Grenadines'\n",
            " 'San Marino' 'Serbia' 'Seychelles' 'Singapore' 'Slovakia' 'Slovenia'\n",
            " 'South Africa' 'Spain' 'Sri Lanka' 'Suriname' 'Sweden' 'Switzerland'\n",
            " 'Thailand' 'Trinidad and Tobago' 'Turkey' 'Turkmenistan' 'Ukraine'\n",
            " 'United Arab Emirates' 'United Kingdom' 'United States' 'Uruguay'\n",
            " 'Uzbekistan']\n",
            "***************************************************************************\n",
            "year\n",
            "[1987. 1988. 1989. 1992. 1993. 1994. 1995. 1996. 1997. 1998. 1999. 2000.\n",
            " 2001. 2002. 2003. 2004. 2005. 2006. 2007. 2008. 2009. 2010. 1985. 1986.\n",
            " 1990. 1991. 2012. 2013. 2014. 2015. 2011. 2016.]\n",
            "***************************************************************************\n",
            "sex\n",
            "['male' 'female']\n",
            "***************************************************************************\n",
            "age\n",
            "[nan '75+ years' '25-34 years' '5-14 years' '15-24 years' '55-74 years'\n",
            " '35-54 years']\n",
            "***************************************************************************\n",
            "suicides_no\n",
            "[  21   16    1 ... 4359 4053 2872]\n",
            "***************************************************************************\n",
            "population\n",
            "['312900.0' '308000.0' nan ... '348465.0' '2762158.0' '1438935.0']\n",
            "***************************************************************************\n",
            "suicides/100k pop\n",
            "[ 6.71  5.19  4.59 ... 73.42 40.75 26.61]\n",
            "***************************************************************************\n"
          ]
        }
      ]
    },
    {
      "cell_type": "code",
      "source": [
        "df[df['population'] == '?']"
      ],
      "metadata": {
        "colab": {
          "base_uri": "https://localhost:8080/",
          "height": 423
        },
        "id": "HTAMJUP6RZcR",
        "outputId": "a4467b7e-d599-474c-f04b-3cef32989ffc"
      },
      "execution_count": 20,
      "outputs": [
        {
          "output_type": "execute_result",
          "data": {
            "text/plain": [
              "          id  gdp_for_year ($)   gdp_per_capita ($)    generation     country  \\\n",
              "5          8      2,156,624,900               796.0       Boomers     Albania   \n",
              "23        32      2,335,124,988                 NaN       Boomers     Albania   \n",
              "33        43        709,452,584               251.0       Boomers     Albania   \n",
              "34        44        709,452,584                 NaN        Silent     Albania   \n",
              "44        55      1,228,071,038               437.0       Boomers     Albania   \n",
              "...      ...                ...                 ...           ...         ...   \n",
              "22774  27759     33,689,223,673              1332.0  Generation Z  Uzbekistan   \n",
              "22779  27767     39,332,770,929              1533.0  Generation X  Uzbekistan   \n",
              "22780  27768     39,332,770,929                 NaN  Generation X  Uzbekistan   \n",
              "22797  27793     51,821,573,338              1964.0  Generation Z  Uzbekistan   \n",
              "22809  27809     63,067,077,179              2309.0  Generation X  Uzbekistan   \n",
              "\n",
              "         year     sex          age  suicides_no population  suicides/100k pop  \n",
              "5      1987.0  female  25-34 years            4          ?               1.56  \n",
              "23     1989.0  female  25-34 years            2          ?               0.75  \n",
              "33     1992.0  female          NaN            2          ?               0.62  \n",
              "34     1992.0  female  55-74 years            1          ?               0.61  \n",
              "44     1993.0  female  25-34 years            7          ?               2.67  \n",
              "...       ...     ...          ...          ...        ...                ...  \n",
              "22774  2009.0    male   5-14 years           37          ?               1.32  \n",
              "22779  2010.0  female  25-34 years           93          ?               3.89  \n",
              "22780  2010.0  female  35-54 years          101          ?               3.02  \n",
              "22797  2012.0    male   5-14 years           67          ?               2.48  \n",
              "22809  2014.0    male          NaN          519          ?              15.17  \n",
              "\n",
              "[1637 rows x 11 columns]"
            ],
            "text/html": [
              "\n",
              "  <div id=\"df-b471781e-ca87-4be2-b9d8-020636a75334\">\n",
              "    <div class=\"colab-df-container\">\n",
              "      <div>\n",
              "<style scoped>\n",
              "    .dataframe tbody tr th:only-of-type {\n",
              "        vertical-align: middle;\n",
              "    }\n",
              "\n",
              "    .dataframe tbody tr th {\n",
              "        vertical-align: top;\n",
              "    }\n",
              "\n",
              "    .dataframe thead th {\n",
              "        text-align: right;\n",
              "    }\n",
              "</style>\n",
              "<table border=\"1\" class=\"dataframe\">\n",
              "  <thead>\n",
              "    <tr style=\"text-align: right;\">\n",
              "      <th></th>\n",
              "      <th>id</th>\n",
              "      <th>gdp_for_year ($)</th>\n",
              "      <th>gdp_per_capita ($)</th>\n",
              "      <th>generation</th>\n",
              "      <th>country</th>\n",
              "      <th>year</th>\n",
              "      <th>sex</th>\n",
              "      <th>age</th>\n",
              "      <th>suicides_no</th>\n",
              "      <th>population</th>\n",
              "      <th>suicides/100k pop</th>\n",
              "    </tr>\n",
              "  </thead>\n",
              "  <tbody>\n",
              "    <tr>\n",
              "      <th>5</th>\n",
              "      <td>8</td>\n",
              "      <td>2,156,624,900</td>\n",
              "      <td>796.0</td>\n",
              "      <td>Boomers</td>\n",
              "      <td>Albania</td>\n",
              "      <td>1987.0</td>\n",
              "      <td>female</td>\n",
              "      <td>25-34 years</td>\n",
              "      <td>4</td>\n",
              "      <td>?</td>\n",
              "      <td>1.56</td>\n",
              "    </tr>\n",
              "    <tr>\n",
              "      <th>23</th>\n",
              "      <td>32</td>\n",
              "      <td>2,335,124,988</td>\n",
              "      <td>NaN</td>\n",
              "      <td>Boomers</td>\n",
              "      <td>Albania</td>\n",
              "      <td>1989.0</td>\n",
              "      <td>female</td>\n",
              "      <td>25-34 years</td>\n",
              "      <td>2</td>\n",
              "      <td>?</td>\n",
              "      <td>0.75</td>\n",
              "    </tr>\n",
              "    <tr>\n",
              "      <th>33</th>\n",
              "      <td>43</td>\n",
              "      <td>709,452,584</td>\n",
              "      <td>251.0</td>\n",
              "      <td>Boomers</td>\n",
              "      <td>Albania</td>\n",
              "      <td>1992.0</td>\n",
              "      <td>female</td>\n",
              "      <td>NaN</td>\n",
              "      <td>2</td>\n",
              "      <td>?</td>\n",
              "      <td>0.62</td>\n",
              "    </tr>\n",
              "    <tr>\n",
              "      <th>34</th>\n",
              "      <td>44</td>\n",
              "      <td>709,452,584</td>\n",
              "      <td>NaN</td>\n",
              "      <td>Silent</td>\n",
              "      <td>Albania</td>\n",
              "      <td>1992.0</td>\n",
              "      <td>female</td>\n",
              "      <td>55-74 years</td>\n",
              "      <td>1</td>\n",
              "      <td>?</td>\n",
              "      <td>0.61</td>\n",
              "    </tr>\n",
              "    <tr>\n",
              "      <th>44</th>\n",
              "      <td>55</td>\n",
              "      <td>1,228,071,038</td>\n",
              "      <td>437.0</td>\n",
              "      <td>Boomers</td>\n",
              "      <td>Albania</td>\n",
              "      <td>1993.0</td>\n",
              "      <td>female</td>\n",
              "      <td>25-34 years</td>\n",
              "      <td>7</td>\n",
              "      <td>?</td>\n",
              "      <td>2.67</td>\n",
              "    </tr>\n",
              "    <tr>\n",
              "      <th>...</th>\n",
              "      <td>...</td>\n",
              "      <td>...</td>\n",
              "      <td>...</td>\n",
              "      <td>...</td>\n",
              "      <td>...</td>\n",
              "      <td>...</td>\n",
              "      <td>...</td>\n",
              "      <td>...</td>\n",
              "      <td>...</td>\n",
              "      <td>...</td>\n",
              "      <td>...</td>\n",
              "    </tr>\n",
              "    <tr>\n",
              "      <th>22774</th>\n",
              "      <td>27759</td>\n",
              "      <td>33,689,223,673</td>\n",
              "      <td>1332.0</td>\n",
              "      <td>Generation Z</td>\n",
              "      <td>Uzbekistan</td>\n",
              "      <td>2009.0</td>\n",
              "      <td>male</td>\n",
              "      <td>5-14 years</td>\n",
              "      <td>37</td>\n",
              "      <td>?</td>\n",
              "      <td>1.32</td>\n",
              "    </tr>\n",
              "    <tr>\n",
              "      <th>22779</th>\n",
              "      <td>27767</td>\n",
              "      <td>39,332,770,929</td>\n",
              "      <td>1533.0</td>\n",
              "      <td>Generation X</td>\n",
              "      <td>Uzbekistan</td>\n",
              "      <td>2010.0</td>\n",
              "      <td>female</td>\n",
              "      <td>25-34 years</td>\n",
              "      <td>93</td>\n",
              "      <td>?</td>\n",
              "      <td>3.89</td>\n",
              "    </tr>\n",
              "    <tr>\n",
              "      <th>22780</th>\n",
              "      <td>27768</td>\n",
              "      <td>39,332,770,929</td>\n",
              "      <td>NaN</td>\n",
              "      <td>Generation X</td>\n",
              "      <td>Uzbekistan</td>\n",
              "      <td>2010.0</td>\n",
              "      <td>female</td>\n",
              "      <td>35-54 years</td>\n",
              "      <td>101</td>\n",
              "      <td>?</td>\n",
              "      <td>3.02</td>\n",
              "    </tr>\n",
              "    <tr>\n",
              "      <th>22797</th>\n",
              "      <td>27793</td>\n",
              "      <td>51,821,573,338</td>\n",
              "      <td>1964.0</td>\n",
              "      <td>Generation Z</td>\n",
              "      <td>Uzbekistan</td>\n",
              "      <td>2012.0</td>\n",
              "      <td>male</td>\n",
              "      <td>5-14 years</td>\n",
              "      <td>67</td>\n",
              "      <td>?</td>\n",
              "      <td>2.48</td>\n",
              "    </tr>\n",
              "    <tr>\n",
              "      <th>22809</th>\n",
              "      <td>27809</td>\n",
              "      <td>63,067,077,179</td>\n",
              "      <td>2309.0</td>\n",
              "      <td>Generation X</td>\n",
              "      <td>Uzbekistan</td>\n",
              "      <td>2014.0</td>\n",
              "      <td>male</td>\n",
              "      <td>NaN</td>\n",
              "      <td>519</td>\n",
              "      <td>?</td>\n",
              "      <td>15.17</td>\n",
              "    </tr>\n",
              "  </tbody>\n",
              "</table>\n",
              "<p>1637 rows × 11 columns</p>\n",
              "</div>\n",
              "      <button class=\"colab-df-convert\" onclick=\"convertToInteractive('df-b471781e-ca87-4be2-b9d8-020636a75334')\"\n",
              "              title=\"Convert this dataframe to an interactive table.\"\n",
              "              style=\"display:none;\">\n",
              "        \n",
              "  <svg xmlns=\"http://www.w3.org/2000/svg\" height=\"24px\"viewBox=\"0 0 24 24\"\n",
              "       width=\"24px\">\n",
              "    <path d=\"M0 0h24v24H0V0z\" fill=\"none\"/>\n",
              "    <path d=\"M18.56 5.44l.94 2.06.94-2.06 2.06-.94-2.06-.94-.94-2.06-.94 2.06-2.06.94zm-11 1L8.5 8.5l.94-2.06 2.06-.94-2.06-.94L8.5 2.5l-.94 2.06-2.06.94zm10 10l.94 2.06.94-2.06 2.06-.94-2.06-.94-.94-2.06-.94 2.06-2.06.94z\"/><path d=\"M17.41 7.96l-1.37-1.37c-.4-.4-.92-.59-1.43-.59-.52 0-1.04.2-1.43.59L10.3 9.45l-7.72 7.72c-.78.78-.78 2.05 0 2.83L4 21.41c.39.39.9.59 1.41.59.51 0 1.02-.2 1.41-.59l7.78-7.78 2.81-2.81c.8-.78.8-2.07 0-2.86zM5.41 20L4 18.59l7.72-7.72 1.47 1.35L5.41 20z\"/>\n",
              "  </svg>\n",
              "      </button>\n",
              "      \n",
              "  <style>\n",
              "    .colab-df-container {\n",
              "      display:flex;\n",
              "      flex-wrap:wrap;\n",
              "      gap: 12px;\n",
              "    }\n",
              "\n",
              "    .colab-df-convert {\n",
              "      background-color: #E8F0FE;\n",
              "      border: none;\n",
              "      border-radius: 50%;\n",
              "      cursor: pointer;\n",
              "      display: none;\n",
              "      fill: #1967D2;\n",
              "      height: 32px;\n",
              "      padding: 0 0 0 0;\n",
              "      width: 32px;\n",
              "    }\n",
              "\n",
              "    .colab-df-convert:hover {\n",
              "      background-color: #E2EBFA;\n",
              "      box-shadow: 0px 1px 2px rgba(60, 64, 67, 0.3), 0px 1px 3px 1px rgba(60, 64, 67, 0.15);\n",
              "      fill: #174EA6;\n",
              "    }\n",
              "\n",
              "    [theme=dark] .colab-df-convert {\n",
              "      background-color: #3B4455;\n",
              "      fill: #D2E3FC;\n",
              "    }\n",
              "\n",
              "    [theme=dark] .colab-df-convert:hover {\n",
              "      background-color: #434B5C;\n",
              "      box-shadow: 0px 1px 3px 1px rgba(0, 0, 0, 0.15);\n",
              "      filter: drop-shadow(0px 1px 2px rgba(0, 0, 0, 0.3));\n",
              "      fill: #FFFFFF;\n",
              "    }\n",
              "  </style>\n",
              "\n",
              "      <script>\n",
              "        const buttonEl =\n",
              "          document.querySelector('#df-b471781e-ca87-4be2-b9d8-020636a75334 button.colab-df-convert');\n",
              "        buttonEl.style.display =\n",
              "          google.colab.kernel.accessAllowed ? 'block' : 'none';\n",
              "\n",
              "        async function convertToInteractive(key) {\n",
              "          const element = document.querySelector('#df-b471781e-ca87-4be2-b9d8-020636a75334');\n",
              "          const dataTable =\n",
              "            await google.colab.kernel.invokeFunction('convertToInteractive',\n",
              "                                                     [key], {});\n",
              "          if (!dataTable) return;\n",
              "\n",
              "          const docLinkHtml = 'Like what you see? Visit the ' +\n",
              "            '<a target=\"_blank\" href=https://colab.research.google.com/notebooks/data_table.ipynb>data table notebook</a>'\n",
              "            + ' to learn more about interactive tables.';\n",
              "          element.innerHTML = '';\n",
              "          dataTable['output_type'] = 'display_data';\n",
              "          await google.colab.output.renderOutput(dataTable, element);\n",
              "          const docLink = document.createElement('div');\n",
              "          docLink.innerHTML = docLinkHtml;\n",
              "          element.appendChild(docLink);\n",
              "        }\n",
              "      </script>\n",
              "    </div>\n",
              "  </div>\n",
              "  "
            ]
          },
          "metadata": {},
          "execution_count": 20
        }
      ]
    },
    {
      "cell_type": "code",
      "source": [
        "# Replacing '-' with null\n",
        "df['population'].replace({'?':np.nan}, inplace = True)\n",
        "# Converting Levy type to float\n",
        "df['population'] = df['population'].astype('float64')"
      ],
      "metadata": {
        "id": "cevubeMVRvcX"
      },
      "execution_count": 21,
      "outputs": []
    },
    {
      "cell_type": "code",
      "source": [
        "df.isnull().sum()"
      ],
      "metadata": {
        "colab": {
          "base_uri": "https://localhost:8080/"
        },
        "id": "qqgjvq_gR8gc",
        "outputId": "4f41fad8-df6f-4d88-bbb6-ec86de911b61"
      },
      "execution_count": 22,
      "outputs": [
        {
          "output_type": "execute_result",
          "data": {
            "text/plain": [
              "id                       0\n",
              " gdp_for_year ($)        0\n",
              "gdp_per_capita ($)    3274\n",
              "generation               0\n",
              "country                  0\n",
              "year                     0\n",
              "sex                      0\n",
              "age                   3293\n",
              "suicides_no              0\n",
              "population            5415\n",
              "suicides/100k pop        0\n",
              "dtype: int64"
            ]
          },
          "metadata": {},
          "execution_count": 22
        }
      ]
    },
    {
      "cell_type": "code",
      "source": [
        "df['age']=df['age'].map(lambda x: str(x).strip().split(\" \")[0])"
      ],
      "metadata": {
        "id": "Y3ml4h3HUem8"
      },
      "execution_count": 23,
      "outputs": []
    },
    {
      "cell_type": "code",
      "source": [
        "df"
      ],
      "metadata": {
        "colab": {
          "base_uri": "https://localhost:8080/",
          "height": 423
        },
        "id": "W1PyNQ5OVNTv",
        "outputId": "6327bdc9-0248-4ad8-ba17-7943784be5c2"
      },
      "execution_count": 24,
      "outputs": [
        {
          "output_type": "execute_result",
          "data": {
            "text/plain": [
              "          id  gdp_for_year ($)   gdp_per_capita ($)       generation  \\\n",
              "0          1      2,156,624,900               796.0     Generation X   \n",
              "1          2      2,156,624,900                 NaN           Silent   \n",
              "2          4      2,156,624,900               796.0  G.I. Generation   \n",
              "3          5      2,156,624,900               796.0          Boomers   \n",
              "4          6      2,156,624,900               796.0  G.I. Generation   \n",
              "...      ...                ...                 ...              ...   \n",
              "22815  27816     63,067,077,179              2309.0     Generation X   \n",
              "22816  27817     63,067,077,179              2309.0           Silent   \n",
              "22817  27818     63,067,077,179              2309.0     Generation Z   \n",
              "22818  27819     63,067,077,179                 NaN     Generation Z   \n",
              "22819  27820     63,067,077,179                 NaN          Boomers   \n",
              "\n",
              "          country    year     sex    age  suicides_no  population  \\\n",
              "0         Albania  1987.0    male    nan           21    312900.0   \n",
              "1         Albania  1987.0    male    nan           16    308000.0   \n",
              "2         Albania  1987.0    male    75+            1         NaN   \n",
              "3         Albania  1987.0    male  25-34            9    274300.0   \n",
              "4         Albania  1987.0  female    75+            1     35600.0   \n",
              "...           ...     ...     ...    ...          ...         ...   \n",
              "22815  Uzbekistan  2014.0  female  35-54          107   3620833.0   \n",
              "22816  Uzbekistan  2014.0  female    nan            9    348465.0   \n",
              "22817  Uzbekistan  2014.0    male   5-14           60   2762158.0   \n",
              "22818  Uzbekistan  2014.0  female    nan           44         NaN   \n",
              "22819  Uzbekistan  2014.0  female    nan           21   1438935.0   \n",
              "\n",
              "       suicides/100k pop  \n",
              "0                   6.71  \n",
              "1                   5.19  \n",
              "2                   4.59  \n",
              "3                   3.28  \n",
              "4                   2.81  \n",
              "...                  ...  \n",
              "22815               2.96  \n",
              "22816               2.58  \n",
              "22817               2.17  \n",
              "22818               1.67  \n",
              "22819               1.46  \n",
              "\n",
              "[22820 rows x 11 columns]"
            ],
            "text/html": [
              "\n",
              "  <div id=\"df-2181d808-1abf-4820-91ee-c4bd5283766a\">\n",
              "    <div class=\"colab-df-container\">\n",
              "      <div>\n",
              "<style scoped>\n",
              "    .dataframe tbody tr th:only-of-type {\n",
              "        vertical-align: middle;\n",
              "    }\n",
              "\n",
              "    .dataframe tbody tr th {\n",
              "        vertical-align: top;\n",
              "    }\n",
              "\n",
              "    .dataframe thead th {\n",
              "        text-align: right;\n",
              "    }\n",
              "</style>\n",
              "<table border=\"1\" class=\"dataframe\">\n",
              "  <thead>\n",
              "    <tr style=\"text-align: right;\">\n",
              "      <th></th>\n",
              "      <th>id</th>\n",
              "      <th>gdp_for_year ($)</th>\n",
              "      <th>gdp_per_capita ($)</th>\n",
              "      <th>generation</th>\n",
              "      <th>country</th>\n",
              "      <th>year</th>\n",
              "      <th>sex</th>\n",
              "      <th>age</th>\n",
              "      <th>suicides_no</th>\n",
              "      <th>population</th>\n",
              "      <th>suicides/100k pop</th>\n",
              "    </tr>\n",
              "  </thead>\n",
              "  <tbody>\n",
              "    <tr>\n",
              "      <th>0</th>\n",
              "      <td>1</td>\n",
              "      <td>2,156,624,900</td>\n",
              "      <td>796.0</td>\n",
              "      <td>Generation X</td>\n",
              "      <td>Albania</td>\n",
              "      <td>1987.0</td>\n",
              "      <td>male</td>\n",
              "      <td>nan</td>\n",
              "      <td>21</td>\n",
              "      <td>312900.0</td>\n",
              "      <td>6.71</td>\n",
              "    </tr>\n",
              "    <tr>\n",
              "      <th>1</th>\n",
              "      <td>2</td>\n",
              "      <td>2,156,624,900</td>\n",
              "      <td>NaN</td>\n",
              "      <td>Silent</td>\n",
              "      <td>Albania</td>\n",
              "      <td>1987.0</td>\n",
              "      <td>male</td>\n",
              "      <td>nan</td>\n",
              "      <td>16</td>\n",
              "      <td>308000.0</td>\n",
              "      <td>5.19</td>\n",
              "    </tr>\n",
              "    <tr>\n",
              "      <th>2</th>\n",
              "      <td>4</td>\n",
              "      <td>2,156,624,900</td>\n",
              "      <td>796.0</td>\n",
              "      <td>G.I. Generation</td>\n",
              "      <td>Albania</td>\n",
              "      <td>1987.0</td>\n",
              "      <td>male</td>\n",
              "      <td>75+</td>\n",
              "      <td>1</td>\n",
              "      <td>NaN</td>\n",
              "      <td>4.59</td>\n",
              "    </tr>\n",
              "    <tr>\n",
              "      <th>3</th>\n",
              "      <td>5</td>\n",
              "      <td>2,156,624,900</td>\n",
              "      <td>796.0</td>\n",
              "      <td>Boomers</td>\n",
              "      <td>Albania</td>\n",
              "      <td>1987.0</td>\n",
              "      <td>male</td>\n",
              "      <td>25-34</td>\n",
              "      <td>9</td>\n",
              "      <td>274300.0</td>\n",
              "      <td>3.28</td>\n",
              "    </tr>\n",
              "    <tr>\n",
              "      <th>4</th>\n",
              "      <td>6</td>\n",
              "      <td>2,156,624,900</td>\n",
              "      <td>796.0</td>\n",
              "      <td>G.I. Generation</td>\n",
              "      <td>Albania</td>\n",
              "      <td>1987.0</td>\n",
              "      <td>female</td>\n",
              "      <td>75+</td>\n",
              "      <td>1</td>\n",
              "      <td>35600.0</td>\n",
              "      <td>2.81</td>\n",
              "    </tr>\n",
              "    <tr>\n",
              "      <th>...</th>\n",
              "      <td>...</td>\n",
              "      <td>...</td>\n",
              "      <td>...</td>\n",
              "      <td>...</td>\n",
              "      <td>...</td>\n",
              "      <td>...</td>\n",
              "      <td>...</td>\n",
              "      <td>...</td>\n",
              "      <td>...</td>\n",
              "      <td>...</td>\n",
              "      <td>...</td>\n",
              "    </tr>\n",
              "    <tr>\n",
              "      <th>22815</th>\n",
              "      <td>27816</td>\n",
              "      <td>63,067,077,179</td>\n",
              "      <td>2309.0</td>\n",
              "      <td>Generation X</td>\n",
              "      <td>Uzbekistan</td>\n",
              "      <td>2014.0</td>\n",
              "      <td>female</td>\n",
              "      <td>35-54</td>\n",
              "      <td>107</td>\n",
              "      <td>3620833.0</td>\n",
              "      <td>2.96</td>\n",
              "    </tr>\n",
              "    <tr>\n",
              "      <th>22816</th>\n",
              "      <td>27817</td>\n",
              "      <td>63,067,077,179</td>\n",
              "      <td>2309.0</td>\n",
              "      <td>Silent</td>\n",
              "      <td>Uzbekistan</td>\n",
              "      <td>2014.0</td>\n",
              "      <td>female</td>\n",
              "      <td>nan</td>\n",
              "      <td>9</td>\n",
              "      <td>348465.0</td>\n",
              "      <td>2.58</td>\n",
              "    </tr>\n",
              "    <tr>\n",
              "      <th>22817</th>\n",
              "      <td>27818</td>\n",
              "      <td>63,067,077,179</td>\n",
              "      <td>2309.0</td>\n",
              "      <td>Generation Z</td>\n",
              "      <td>Uzbekistan</td>\n",
              "      <td>2014.0</td>\n",
              "      <td>male</td>\n",
              "      <td>5-14</td>\n",
              "      <td>60</td>\n",
              "      <td>2762158.0</td>\n",
              "      <td>2.17</td>\n",
              "    </tr>\n",
              "    <tr>\n",
              "      <th>22818</th>\n",
              "      <td>27819</td>\n",
              "      <td>63,067,077,179</td>\n",
              "      <td>NaN</td>\n",
              "      <td>Generation Z</td>\n",
              "      <td>Uzbekistan</td>\n",
              "      <td>2014.0</td>\n",
              "      <td>female</td>\n",
              "      <td>nan</td>\n",
              "      <td>44</td>\n",
              "      <td>NaN</td>\n",
              "      <td>1.67</td>\n",
              "    </tr>\n",
              "    <tr>\n",
              "      <th>22819</th>\n",
              "      <td>27820</td>\n",
              "      <td>63,067,077,179</td>\n",
              "      <td>NaN</td>\n",
              "      <td>Boomers</td>\n",
              "      <td>Uzbekistan</td>\n",
              "      <td>2014.0</td>\n",
              "      <td>female</td>\n",
              "      <td>nan</td>\n",
              "      <td>21</td>\n",
              "      <td>1438935.0</td>\n",
              "      <td>1.46</td>\n",
              "    </tr>\n",
              "  </tbody>\n",
              "</table>\n",
              "<p>22820 rows × 11 columns</p>\n",
              "</div>\n",
              "      <button class=\"colab-df-convert\" onclick=\"convertToInteractive('df-2181d808-1abf-4820-91ee-c4bd5283766a')\"\n",
              "              title=\"Convert this dataframe to an interactive table.\"\n",
              "              style=\"display:none;\">\n",
              "        \n",
              "  <svg xmlns=\"http://www.w3.org/2000/svg\" height=\"24px\"viewBox=\"0 0 24 24\"\n",
              "       width=\"24px\">\n",
              "    <path d=\"M0 0h24v24H0V0z\" fill=\"none\"/>\n",
              "    <path d=\"M18.56 5.44l.94 2.06.94-2.06 2.06-.94-2.06-.94-.94-2.06-.94 2.06-2.06.94zm-11 1L8.5 8.5l.94-2.06 2.06-.94-2.06-.94L8.5 2.5l-.94 2.06-2.06.94zm10 10l.94 2.06.94-2.06 2.06-.94-2.06-.94-.94-2.06-.94 2.06-2.06.94z\"/><path d=\"M17.41 7.96l-1.37-1.37c-.4-.4-.92-.59-1.43-.59-.52 0-1.04.2-1.43.59L10.3 9.45l-7.72 7.72c-.78.78-.78 2.05 0 2.83L4 21.41c.39.39.9.59 1.41.59.51 0 1.02-.2 1.41-.59l7.78-7.78 2.81-2.81c.8-.78.8-2.07 0-2.86zM5.41 20L4 18.59l7.72-7.72 1.47 1.35L5.41 20z\"/>\n",
              "  </svg>\n",
              "      </button>\n",
              "      \n",
              "  <style>\n",
              "    .colab-df-container {\n",
              "      display:flex;\n",
              "      flex-wrap:wrap;\n",
              "      gap: 12px;\n",
              "    }\n",
              "\n",
              "    .colab-df-convert {\n",
              "      background-color: #E8F0FE;\n",
              "      border: none;\n",
              "      border-radius: 50%;\n",
              "      cursor: pointer;\n",
              "      display: none;\n",
              "      fill: #1967D2;\n",
              "      height: 32px;\n",
              "      padding: 0 0 0 0;\n",
              "      width: 32px;\n",
              "    }\n",
              "\n",
              "    .colab-df-convert:hover {\n",
              "      background-color: #E2EBFA;\n",
              "      box-shadow: 0px 1px 2px rgba(60, 64, 67, 0.3), 0px 1px 3px 1px rgba(60, 64, 67, 0.15);\n",
              "      fill: #174EA6;\n",
              "    }\n",
              "\n",
              "    [theme=dark] .colab-df-convert {\n",
              "      background-color: #3B4455;\n",
              "      fill: #D2E3FC;\n",
              "    }\n",
              "\n",
              "    [theme=dark] .colab-df-convert:hover {\n",
              "      background-color: #434B5C;\n",
              "      box-shadow: 0px 1px 3px 1px rgba(0, 0, 0, 0.15);\n",
              "      filter: drop-shadow(0px 1px 2px rgba(0, 0, 0, 0.3));\n",
              "      fill: #FFFFFF;\n",
              "    }\n",
              "  </style>\n",
              "\n",
              "      <script>\n",
              "        const buttonEl =\n",
              "          document.querySelector('#df-2181d808-1abf-4820-91ee-c4bd5283766a button.colab-df-convert');\n",
              "        buttonEl.style.display =\n",
              "          google.colab.kernel.accessAllowed ? 'block' : 'none';\n",
              "\n",
              "        async function convertToInteractive(key) {\n",
              "          const element = document.querySelector('#df-2181d808-1abf-4820-91ee-c4bd5283766a');\n",
              "          const dataTable =\n",
              "            await google.colab.kernel.invokeFunction('convertToInteractive',\n",
              "                                                     [key], {});\n",
              "          if (!dataTable) return;\n",
              "\n",
              "          const docLinkHtml = 'Like what you see? Visit the ' +\n",
              "            '<a target=\"_blank\" href=https://colab.research.google.com/notebooks/data_table.ipynb>data table notebook</a>'\n",
              "            + ' to learn more about interactive tables.';\n",
              "          element.innerHTML = '';\n",
              "          dataTable['output_type'] = 'display_data';\n",
              "          await google.colab.output.renderOutput(dataTable, element);\n",
              "          const docLink = document.createElement('div');\n",
              "          docLink.innerHTML = docLinkHtml;\n",
              "          element.appendChild(docLink);\n",
              "        }\n",
              "      </script>\n",
              "    </div>\n",
              "  </div>\n",
              "  "
            ]
          },
          "metadata": {},
          "execution_count": 24
        }
      ]
    },
    {
      "cell_type": "code",
      "source": [
        "df['age'].fillna(value=df['age'].mode(), inplace=True)"
      ],
      "metadata": {
        "id": "ccDK2MhxVOUT"
      },
      "execution_count": 25,
      "outputs": []
    },
    {
      "cell_type": "code",
      "source": [
        "df.isnull().sum()"
      ],
      "metadata": {
        "colab": {
          "base_uri": "https://localhost:8080/"
        },
        "id": "_SqdlpPFVfaE",
        "outputId": "7cee3ded-bca9-4a46-fa08-a5c6b0eaf63c"
      },
      "execution_count": 26,
      "outputs": [
        {
          "output_type": "execute_result",
          "data": {
            "text/plain": [
              "id                       0\n",
              " gdp_for_year ($)        0\n",
              "gdp_per_capita ($)    3274\n",
              "generation               0\n",
              "country                  0\n",
              "year                     0\n",
              "sex                      0\n",
              "age                      0\n",
              "suicides_no              0\n",
              "population            5415\n",
              "suicides/100k pop        0\n",
              "dtype: int64"
            ]
          },
          "metadata": {},
          "execution_count": 26
        }
      ]
    },
    {
      "cell_type": "code",
      "source": [
        "df['population'].fillna(value=df['population'].median(), inplace=True)"
      ],
      "metadata": {
        "id": "Yz-sutrUVjus"
      },
      "execution_count": 27,
      "outputs": []
    },
    {
      "cell_type": "code",
      "source": [
        "df['gdp_per_capita ($)'].fillna(value=df['gdp_per_capita ($)'].median(), inplace=True)"
      ],
      "metadata": {
        "id": "eTCEv--beB4Y"
      },
      "execution_count": 28,
      "outputs": []
    },
    {
      "cell_type": "code",
      "source": [
        "df.isnull().sum()"
      ],
      "metadata": {
        "colab": {
          "base_uri": "https://localhost:8080/"
        },
        "id": "XdkXMI_TXPJE",
        "outputId": "6ec76bcd-5e9b-41d5-947d-08b5e86171b0"
      },
      "execution_count": 29,
      "outputs": [
        {
          "output_type": "execute_result",
          "data": {
            "text/plain": [
              "id                    0\n",
              " gdp_for_year ($)     0\n",
              "gdp_per_capita ($)    0\n",
              "generation            0\n",
              "country               0\n",
              "year                  0\n",
              "sex                   0\n",
              "age                   0\n",
              "suicides_no           0\n",
              "population            0\n",
              "suicides/100k pop     0\n",
              "dtype: int64"
            ]
          },
          "metadata": {},
          "execution_count": 29
        }
      ]
    },
    {
      "cell_type": "code",
      "source": [
        "df.describe()"
      ],
      "metadata": {
        "colab": {
          "base_uri": "https://localhost:8080/",
          "height": 300
        },
        "id": "5MuDKrDVeMmm",
        "outputId": "42d6d583-f25a-410f-edda-9fee5e4f7aa3"
      },
      "execution_count": 30,
      "outputs": [
        {
          "output_type": "execute_result",
          "data": {
            "text/plain": [
              "                 id  gdp_per_capita ($)          year   suicides_no  \\\n",
              "count  22820.000000        22820.000000  22820.000000  22820.000000   \n",
              "mean   13891.571911        15747.359378   2001.248861    237.946188   \n",
              "std     8024.991391        17860.357434      8.480176    874.043851   \n",
              "min        1.000000          251.000000   1985.000000      0.000000   \n",
              "25%     6920.500000         4026.000000   1994.000000      2.000000   \n",
              "50%    13906.500000         9176.000000   2002.000000     25.000000   \n",
              "75%    20813.250000        21637.000000   2008.000000    130.000000   \n",
              "max    27820.000000       126352.000000   2016.000000  22338.000000   \n",
              "\n",
              "         population  suicides/100k pop  \n",
              "count  2.282000e+04       22820.000000  \n",
              "mean   1.506931e+06          12.746376  \n",
              "std    3.441800e+06          18.824848  \n",
              "min    2.780000e+02           0.000000  \n",
              "25%    2.140750e+05           0.900000  \n",
              "50%    4.341300e+05           5.930000  \n",
              "75%    9.672002e+05          16.542500  \n",
              "max    4.360790e+07         224.970000  "
            ],
            "text/html": [
              "\n",
              "  <div id=\"df-4f6b62df-ffe0-4c68-bdf9-ee088b7a93d1\">\n",
              "    <div class=\"colab-df-container\">\n",
              "      <div>\n",
              "<style scoped>\n",
              "    .dataframe tbody tr th:only-of-type {\n",
              "        vertical-align: middle;\n",
              "    }\n",
              "\n",
              "    .dataframe tbody tr th {\n",
              "        vertical-align: top;\n",
              "    }\n",
              "\n",
              "    .dataframe thead th {\n",
              "        text-align: right;\n",
              "    }\n",
              "</style>\n",
              "<table border=\"1\" class=\"dataframe\">\n",
              "  <thead>\n",
              "    <tr style=\"text-align: right;\">\n",
              "      <th></th>\n",
              "      <th>id</th>\n",
              "      <th>gdp_per_capita ($)</th>\n",
              "      <th>year</th>\n",
              "      <th>suicides_no</th>\n",
              "      <th>population</th>\n",
              "      <th>suicides/100k pop</th>\n",
              "    </tr>\n",
              "  </thead>\n",
              "  <tbody>\n",
              "    <tr>\n",
              "      <th>count</th>\n",
              "      <td>22820.000000</td>\n",
              "      <td>22820.000000</td>\n",
              "      <td>22820.000000</td>\n",
              "      <td>22820.000000</td>\n",
              "      <td>2.282000e+04</td>\n",
              "      <td>22820.000000</td>\n",
              "    </tr>\n",
              "    <tr>\n",
              "      <th>mean</th>\n",
              "      <td>13891.571911</td>\n",
              "      <td>15747.359378</td>\n",
              "      <td>2001.248861</td>\n",
              "      <td>237.946188</td>\n",
              "      <td>1.506931e+06</td>\n",
              "      <td>12.746376</td>\n",
              "    </tr>\n",
              "    <tr>\n",
              "      <th>std</th>\n",
              "      <td>8024.991391</td>\n",
              "      <td>17860.357434</td>\n",
              "      <td>8.480176</td>\n",
              "      <td>874.043851</td>\n",
              "      <td>3.441800e+06</td>\n",
              "      <td>18.824848</td>\n",
              "    </tr>\n",
              "    <tr>\n",
              "      <th>min</th>\n",
              "      <td>1.000000</td>\n",
              "      <td>251.000000</td>\n",
              "      <td>1985.000000</td>\n",
              "      <td>0.000000</td>\n",
              "      <td>2.780000e+02</td>\n",
              "      <td>0.000000</td>\n",
              "    </tr>\n",
              "    <tr>\n",
              "      <th>25%</th>\n",
              "      <td>6920.500000</td>\n",
              "      <td>4026.000000</td>\n",
              "      <td>1994.000000</td>\n",
              "      <td>2.000000</td>\n",
              "      <td>2.140750e+05</td>\n",
              "      <td>0.900000</td>\n",
              "    </tr>\n",
              "    <tr>\n",
              "      <th>50%</th>\n",
              "      <td>13906.500000</td>\n",
              "      <td>9176.000000</td>\n",
              "      <td>2002.000000</td>\n",
              "      <td>25.000000</td>\n",
              "      <td>4.341300e+05</td>\n",
              "      <td>5.930000</td>\n",
              "    </tr>\n",
              "    <tr>\n",
              "      <th>75%</th>\n",
              "      <td>20813.250000</td>\n",
              "      <td>21637.000000</td>\n",
              "      <td>2008.000000</td>\n",
              "      <td>130.000000</td>\n",
              "      <td>9.672002e+05</td>\n",
              "      <td>16.542500</td>\n",
              "    </tr>\n",
              "    <tr>\n",
              "      <th>max</th>\n",
              "      <td>27820.000000</td>\n",
              "      <td>126352.000000</td>\n",
              "      <td>2016.000000</td>\n",
              "      <td>22338.000000</td>\n",
              "      <td>4.360790e+07</td>\n",
              "      <td>224.970000</td>\n",
              "    </tr>\n",
              "  </tbody>\n",
              "</table>\n",
              "</div>\n",
              "      <button class=\"colab-df-convert\" onclick=\"convertToInteractive('df-4f6b62df-ffe0-4c68-bdf9-ee088b7a93d1')\"\n",
              "              title=\"Convert this dataframe to an interactive table.\"\n",
              "              style=\"display:none;\">\n",
              "        \n",
              "  <svg xmlns=\"http://www.w3.org/2000/svg\" height=\"24px\"viewBox=\"0 0 24 24\"\n",
              "       width=\"24px\">\n",
              "    <path d=\"M0 0h24v24H0V0z\" fill=\"none\"/>\n",
              "    <path d=\"M18.56 5.44l.94 2.06.94-2.06 2.06-.94-2.06-.94-.94-2.06-.94 2.06-2.06.94zm-11 1L8.5 8.5l.94-2.06 2.06-.94-2.06-.94L8.5 2.5l-.94 2.06-2.06.94zm10 10l.94 2.06.94-2.06 2.06-.94-2.06-.94-.94-2.06-.94 2.06-2.06.94z\"/><path d=\"M17.41 7.96l-1.37-1.37c-.4-.4-.92-.59-1.43-.59-.52 0-1.04.2-1.43.59L10.3 9.45l-7.72 7.72c-.78.78-.78 2.05 0 2.83L4 21.41c.39.39.9.59 1.41.59.51 0 1.02-.2 1.41-.59l7.78-7.78 2.81-2.81c.8-.78.8-2.07 0-2.86zM5.41 20L4 18.59l7.72-7.72 1.47 1.35L5.41 20z\"/>\n",
              "  </svg>\n",
              "      </button>\n",
              "      \n",
              "  <style>\n",
              "    .colab-df-container {\n",
              "      display:flex;\n",
              "      flex-wrap:wrap;\n",
              "      gap: 12px;\n",
              "    }\n",
              "\n",
              "    .colab-df-convert {\n",
              "      background-color: #E8F0FE;\n",
              "      border: none;\n",
              "      border-radius: 50%;\n",
              "      cursor: pointer;\n",
              "      display: none;\n",
              "      fill: #1967D2;\n",
              "      height: 32px;\n",
              "      padding: 0 0 0 0;\n",
              "      width: 32px;\n",
              "    }\n",
              "\n",
              "    .colab-df-convert:hover {\n",
              "      background-color: #E2EBFA;\n",
              "      box-shadow: 0px 1px 2px rgba(60, 64, 67, 0.3), 0px 1px 3px 1px rgba(60, 64, 67, 0.15);\n",
              "      fill: #174EA6;\n",
              "    }\n",
              "\n",
              "    [theme=dark] .colab-df-convert {\n",
              "      background-color: #3B4455;\n",
              "      fill: #D2E3FC;\n",
              "    }\n",
              "\n",
              "    [theme=dark] .colab-df-convert:hover {\n",
              "      background-color: #434B5C;\n",
              "      box-shadow: 0px 1px 3px 1px rgba(0, 0, 0, 0.15);\n",
              "      filter: drop-shadow(0px 1px 2px rgba(0, 0, 0, 0.3));\n",
              "      fill: #FFFFFF;\n",
              "    }\n",
              "  </style>\n",
              "\n",
              "      <script>\n",
              "        const buttonEl =\n",
              "          document.querySelector('#df-4f6b62df-ffe0-4c68-bdf9-ee088b7a93d1 button.colab-df-convert');\n",
              "        buttonEl.style.display =\n",
              "          google.colab.kernel.accessAllowed ? 'block' : 'none';\n",
              "\n",
              "        async function convertToInteractive(key) {\n",
              "          const element = document.querySelector('#df-4f6b62df-ffe0-4c68-bdf9-ee088b7a93d1');\n",
              "          const dataTable =\n",
              "            await google.colab.kernel.invokeFunction('convertToInteractive',\n",
              "                                                     [key], {});\n",
              "          if (!dataTable) return;\n",
              "\n",
              "          const docLinkHtml = 'Like what you see? Visit the ' +\n",
              "            '<a target=\"_blank\" href=https://colab.research.google.com/notebooks/data_table.ipynb>data table notebook</a>'\n",
              "            + ' to learn more about interactive tables.';\n",
              "          element.innerHTML = '';\n",
              "          dataTable['output_type'] = 'display_data';\n",
              "          await google.colab.output.renderOutput(dataTable, element);\n",
              "          const docLink = document.createElement('div');\n",
              "          docLink.innerHTML = docLinkHtml;\n",
              "          element.appendChild(docLink);\n",
              "        }\n",
              "      </script>\n",
              "    </div>\n",
              "  </div>\n",
              "  "
            ]
          },
          "metadata": {},
          "execution_count": 30
        }
      ]
    },
    {
      "cell_type": "code",
      "source": [
        "df.info()"
      ],
      "metadata": {
        "colab": {
          "base_uri": "https://localhost:8080/"
        },
        "id": "afefZEyvibrU",
        "outputId": "11fe5793-8dc1-4a3b-d6c8-09434e594d45"
      },
      "execution_count": 31,
      "outputs": [
        {
          "output_type": "stream",
          "name": "stdout",
          "text": [
            "<class 'pandas.core.frame.DataFrame'>\n",
            "Int64Index: 22820 entries, 0 to 22819\n",
            "Data columns (total 11 columns):\n",
            " #   Column              Non-Null Count  Dtype  \n",
            "---  ------              --------------  -----  \n",
            " 0   id                  22820 non-null  int64  \n",
            " 1    gdp_for_year ($)   22820 non-null  object \n",
            " 2   gdp_per_capita ($)  22820 non-null  float64\n",
            " 3   generation          22820 non-null  object \n",
            " 4   country             22820 non-null  object \n",
            " 5   year                22820 non-null  float64\n",
            " 6   sex                 22820 non-null  object \n",
            " 7   age                 22820 non-null  object \n",
            " 8   suicides_no         22820 non-null  int64  \n",
            " 9   population          22820 non-null  float64\n",
            " 10  suicides/100k pop   22820 non-null  float64\n",
            "dtypes: float64(4), int64(2), object(5)\n",
            "memory usage: 2.1+ MB\n"
          ]
        }
      ]
    },
    {
      "cell_type": "code",
      "source": [
        "df.nunique()"
      ],
      "metadata": {
        "colab": {
          "base_uri": "https://localhost:8080/"
        },
        "id": "OgvPDsm9tMPP",
        "outputId": "caa8fc24-27aa-486f-f08c-131c8d57f3f5"
      },
      "execution_count": 32,
      "outputs": [
        {
          "output_type": "execute_result",
          "data": {
            "text/plain": [
              "id                    22820\n",
              " gdp_for_year ($)      2321\n",
              "gdp_per_capita ($)     2233\n",
              "generation                6\n",
              "country                 101\n",
              "year                     32\n",
              "sex                       2\n",
              "age                       7\n",
              "suicides_no            1878\n",
              "population            16375\n",
              "suicides/100k pop      4890\n",
              "dtype: int64"
            ]
          },
          "metadata": {},
          "execution_count": 32
        }
      ]
    },
    {
      "cell_type": "code",
      "source": [
        "df"
      ],
      "metadata": {
        "colab": {
          "base_uri": "https://localhost:8080/",
          "height": 423
        },
        "id": "jFe8P8KvtV6Y",
        "outputId": "81c1827b-46fc-4891-baaf-7f301c8409a8"
      },
      "execution_count": 33,
      "outputs": [
        {
          "output_type": "execute_result",
          "data": {
            "text/plain": [
              "          id  gdp_for_year ($)   gdp_per_capita ($)       generation  \\\n",
              "0          1      2,156,624,900               796.0     Generation X   \n",
              "1          2      2,156,624,900              9176.0           Silent   \n",
              "2          4      2,156,624,900               796.0  G.I. Generation   \n",
              "3          5      2,156,624,900               796.0          Boomers   \n",
              "4          6      2,156,624,900               796.0  G.I. Generation   \n",
              "...      ...                ...                 ...              ...   \n",
              "22815  27816     63,067,077,179              2309.0     Generation X   \n",
              "22816  27817     63,067,077,179              2309.0           Silent   \n",
              "22817  27818     63,067,077,179              2309.0     Generation Z   \n",
              "22818  27819     63,067,077,179              9176.0     Generation Z   \n",
              "22819  27820     63,067,077,179              9176.0          Boomers   \n",
              "\n",
              "          country    year     sex    age  suicides_no  population  \\\n",
              "0         Albania  1987.0    male    nan           21    312900.0   \n",
              "1         Albania  1987.0    male    nan           16    308000.0   \n",
              "2         Albania  1987.0    male    75+            1    434130.0   \n",
              "3         Albania  1987.0    male  25-34            9    274300.0   \n",
              "4         Albania  1987.0  female    75+            1     35600.0   \n",
              "...           ...     ...     ...    ...          ...         ...   \n",
              "22815  Uzbekistan  2014.0  female  35-54          107   3620833.0   \n",
              "22816  Uzbekistan  2014.0  female    nan            9    348465.0   \n",
              "22817  Uzbekistan  2014.0    male   5-14           60   2762158.0   \n",
              "22818  Uzbekistan  2014.0  female    nan           44    434130.0   \n",
              "22819  Uzbekistan  2014.0  female    nan           21   1438935.0   \n",
              "\n",
              "       suicides/100k pop  \n",
              "0                   6.71  \n",
              "1                   5.19  \n",
              "2                   4.59  \n",
              "3                   3.28  \n",
              "4                   2.81  \n",
              "...                  ...  \n",
              "22815               2.96  \n",
              "22816               2.58  \n",
              "22817               2.17  \n",
              "22818               1.67  \n",
              "22819               1.46  \n",
              "\n",
              "[22820 rows x 11 columns]"
            ],
            "text/html": [
              "\n",
              "  <div id=\"df-0a2ad390-7f6e-4844-81e7-c852fb7a56ca\">\n",
              "    <div class=\"colab-df-container\">\n",
              "      <div>\n",
              "<style scoped>\n",
              "    .dataframe tbody tr th:only-of-type {\n",
              "        vertical-align: middle;\n",
              "    }\n",
              "\n",
              "    .dataframe tbody tr th {\n",
              "        vertical-align: top;\n",
              "    }\n",
              "\n",
              "    .dataframe thead th {\n",
              "        text-align: right;\n",
              "    }\n",
              "</style>\n",
              "<table border=\"1\" class=\"dataframe\">\n",
              "  <thead>\n",
              "    <tr style=\"text-align: right;\">\n",
              "      <th></th>\n",
              "      <th>id</th>\n",
              "      <th>gdp_for_year ($)</th>\n",
              "      <th>gdp_per_capita ($)</th>\n",
              "      <th>generation</th>\n",
              "      <th>country</th>\n",
              "      <th>year</th>\n",
              "      <th>sex</th>\n",
              "      <th>age</th>\n",
              "      <th>suicides_no</th>\n",
              "      <th>population</th>\n",
              "      <th>suicides/100k pop</th>\n",
              "    </tr>\n",
              "  </thead>\n",
              "  <tbody>\n",
              "    <tr>\n",
              "      <th>0</th>\n",
              "      <td>1</td>\n",
              "      <td>2,156,624,900</td>\n",
              "      <td>796.0</td>\n",
              "      <td>Generation X</td>\n",
              "      <td>Albania</td>\n",
              "      <td>1987.0</td>\n",
              "      <td>male</td>\n",
              "      <td>nan</td>\n",
              "      <td>21</td>\n",
              "      <td>312900.0</td>\n",
              "      <td>6.71</td>\n",
              "    </tr>\n",
              "    <tr>\n",
              "      <th>1</th>\n",
              "      <td>2</td>\n",
              "      <td>2,156,624,900</td>\n",
              "      <td>9176.0</td>\n",
              "      <td>Silent</td>\n",
              "      <td>Albania</td>\n",
              "      <td>1987.0</td>\n",
              "      <td>male</td>\n",
              "      <td>nan</td>\n",
              "      <td>16</td>\n",
              "      <td>308000.0</td>\n",
              "      <td>5.19</td>\n",
              "    </tr>\n",
              "    <tr>\n",
              "      <th>2</th>\n",
              "      <td>4</td>\n",
              "      <td>2,156,624,900</td>\n",
              "      <td>796.0</td>\n",
              "      <td>G.I. Generation</td>\n",
              "      <td>Albania</td>\n",
              "      <td>1987.0</td>\n",
              "      <td>male</td>\n",
              "      <td>75+</td>\n",
              "      <td>1</td>\n",
              "      <td>434130.0</td>\n",
              "      <td>4.59</td>\n",
              "    </tr>\n",
              "    <tr>\n",
              "      <th>3</th>\n",
              "      <td>5</td>\n",
              "      <td>2,156,624,900</td>\n",
              "      <td>796.0</td>\n",
              "      <td>Boomers</td>\n",
              "      <td>Albania</td>\n",
              "      <td>1987.0</td>\n",
              "      <td>male</td>\n",
              "      <td>25-34</td>\n",
              "      <td>9</td>\n",
              "      <td>274300.0</td>\n",
              "      <td>3.28</td>\n",
              "    </tr>\n",
              "    <tr>\n",
              "      <th>4</th>\n",
              "      <td>6</td>\n",
              "      <td>2,156,624,900</td>\n",
              "      <td>796.0</td>\n",
              "      <td>G.I. Generation</td>\n",
              "      <td>Albania</td>\n",
              "      <td>1987.0</td>\n",
              "      <td>female</td>\n",
              "      <td>75+</td>\n",
              "      <td>1</td>\n",
              "      <td>35600.0</td>\n",
              "      <td>2.81</td>\n",
              "    </tr>\n",
              "    <tr>\n",
              "      <th>...</th>\n",
              "      <td>...</td>\n",
              "      <td>...</td>\n",
              "      <td>...</td>\n",
              "      <td>...</td>\n",
              "      <td>...</td>\n",
              "      <td>...</td>\n",
              "      <td>...</td>\n",
              "      <td>...</td>\n",
              "      <td>...</td>\n",
              "      <td>...</td>\n",
              "      <td>...</td>\n",
              "    </tr>\n",
              "    <tr>\n",
              "      <th>22815</th>\n",
              "      <td>27816</td>\n",
              "      <td>63,067,077,179</td>\n",
              "      <td>2309.0</td>\n",
              "      <td>Generation X</td>\n",
              "      <td>Uzbekistan</td>\n",
              "      <td>2014.0</td>\n",
              "      <td>female</td>\n",
              "      <td>35-54</td>\n",
              "      <td>107</td>\n",
              "      <td>3620833.0</td>\n",
              "      <td>2.96</td>\n",
              "    </tr>\n",
              "    <tr>\n",
              "      <th>22816</th>\n",
              "      <td>27817</td>\n",
              "      <td>63,067,077,179</td>\n",
              "      <td>2309.0</td>\n",
              "      <td>Silent</td>\n",
              "      <td>Uzbekistan</td>\n",
              "      <td>2014.0</td>\n",
              "      <td>female</td>\n",
              "      <td>nan</td>\n",
              "      <td>9</td>\n",
              "      <td>348465.0</td>\n",
              "      <td>2.58</td>\n",
              "    </tr>\n",
              "    <tr>\n",
              "      <th>22817</th>\n",
              "      <td>27818</td>\n",
              "      <td>63,067,077,179</td>\n",
              "      <td>2309.0</td>\n",
              "      <td>Generation Z</td>\n",
              "      <td>Uzbekistan</td>\n",
              "      <td>2014.0</td>\n",
              "      <td>male</td>\n",
              "      <td>5-14</td>\n",
              "      <td>60</td>\n",
              "      <td>2762158.0</td>\n",
              "      <td>2.17</td>\n",
              "    </tr>\n",
              "    <tr>\n",
              "      <th>22818</th>\n",
              "      <td>27819</td>\n",
              "      <td>63,067,077,179</td>\n",
              "      <td>9176.0</td>\n",
              "      <td>Generation Z</td>\n",
              "      <td>Uzbekistan</td>\n",
              "      <td>2014.0</td>\n",
              "      <td>female</td>\n",
              "      <td>nan</td>\n",
              "      <td>44</td>\n",
              "      <td>434130.0</td>\n",
              "      <td>1.67</td>\n",
              "    </tr>\n",
              "    <tr>\n",
              "      <th>22819</th>\n",
              "      <td>27820</td>\n",
              "      <td>63,067,077,179</td>\n",
              "      <td>9176.0</td>\n",
              "      <td>Boomers</td>\n",
              "      <td>Uzbekistan</td>\n",
              "      <td>2014.0</td>\n",
              "      <td>female</td>\n",
              "      <td>nan</td>\n",
              "      <td>21</td>\n",
              "      <td>1438935.0</td>\n",
              "      <td>1.46</td>\n",
              "    </tr>\n",
              "  </tbody>\n",
              "</table>\n",
              "<p>22820 rows × 11 columns</p>\n",
              "</div>\n",
              "      <button class=\"colab-df-convert\" onclick=\"convertToInteractive('df-0a2ad390-7f6e-4844-81e7-c852fb7a56ca')\"\n",
              "              title=\"Convert this dataframe to an interactive table.\"\n",
              "              style=\"display:none;\">\n",
              "        \n",
              "  <svg xmlns=\"http://www.w3.org/2000/svg\" height=\"24px\"viewBox=\"0 0 24 24\"\n",
              "       width=\"24px\">\n",
              "    <path d=\"M0 0h24v24H0V0z\" fill=\"none\"/>\n",
              "    <path d=\"M18.56 5.44l.94 2.06.94-2.06 2.06-.94-2.06-.94-.94-2.06-.94 2.06-2.06.94zm-11 1L8.5 8.5l.94-2.06 2.06-.94-2.06-.94L8.5 2.5l-.94 2.06-2.06.94zm10 10l.94 2.06.94-2.06 2.06-.94-2.06-.94-.94-2.06-.94 2.06-2.06.94z\"/><path d=\"M17.41 7.96l-1.37-1.37c-.4-.4-.92-.59-1.43-.59-.52 0-1.04.2-1.43.59L10.3 9.45l-7.72 7.72c-.78.78-.78 2.05 0 2.83L4 21.41c.39.39.9.59 1.41.59.51 0 1.02-.2 1.41-.59l7.78-7.78 2.81-2.81c.8-.78.8-2.07 0-2.86zM5.41 20L4 18.59l7.72-7.72 1.47 1.35L5.41 20z\"/>\n",
              "  </svg>\n",
              "      </button>\n",
              "      \n",
              "  <style>\n",
              "    .colab-df-container {\n",
              "      display:flex;\n",
              "      flex-wrap:wrap;\n",
              "      gap: 12px;\n",
              "    }\n",
              "\n",
              "    .colab-df-convert {\n",
              "      background-color: #E8F0FE;\n",
              "      border: none;\n",
              "      border-radius: 50%;\n",
              "      cursor: pointer;\n",
              "      display: none;\n",
              "      fill: #1967D2;\n",
              "      height: 32px;\n",
              "      padding: 0 0 0 0;\n",
              "      width: 32px;\n",
              "    }\n",
              "\n",
              "    .colab-df-convert:hover {\n",
              "      background-color: #E2EBFA;\n",
              "      box-shadow: 0px 1px 2px rgba(60, 64, 67, 0.3), 0px 1px 3px 1px rgba(60, 64, 67, 0.15);\n",
              "      fill: #174EA6;\n",
              "    }\n",
              "\n",
              "    [theme=dark] .colab-df-convert {\n",
              "      background-color: #3B4455;\n",
              "      fill: #D2E3FC;\n",
              "    }\n",
              "\n",
              "    [theme=dark] .colab-df-convert:hover {\n",
              "      background-color: #434B5C;\n",
              "      box-shadow: 0px 1px 3px 1px rgba(0, 0, 0, 0.15);\n",
              "      filter: drop-shadow(0px 1px 2px rgba(0, 0, 0, 0.3));\n",
              "      fill: #FFFFFF;\n",
              "    }\n",
              "  </style>\n",
              "\n",
              "      <script>\n",
              "        const buttonEl =\n",
              "          document.querySelector('#df-0a2ad390-7f6e-4844-81e7-c852fb7a56ca button.colab-df-convert');\n",
              "        buttonEl.style.display =\n",
              "          google.colab.kernel.accessAllowed ? 'block' : 'none';\n",
              "\n",
              "        async function convertToInteractive(key) {\n",
              "          const element = document.querySelector('#df-0a2ad390-7f6e-4844-81e7-c852fb7a56ca');\n",
              "          const dataTable =\n",
              "            await google.colab.kernel.invokeFunction('convertToInteractive',\n",
              "                                                     [key], {});\n",
              "          if (!dataTable) return;\n",
              "\n",
              "          const docLinkHtml = 'Like what you see? Visit the ' +\n",
              "            '<a target=\"_blank\" href=https://colab.research.google.com/notebooks/data_table.ipynb>data table notebook</a>'\n",
              "            + ' to learn more about interactive tables.';\n",
              "          element.innerHTML = '';\n",
              "          dataTable['output_type'] = 'display_data';\n",
              "          await google.colab.output.renderOutput(dataTable, element);\n",
              "          const docLink = document.createElement('div');\n",
              "          docLink.innerHTML = docLinkHtml;\n",
              "          element.appendChild(docLink);\n",
              "        }\n",
              "      </script>\n",
              "    </div>\n",
              "  </div>\n",
              "  "
            ]
          },
          "metadata": {},
          "execution_count": 33
        }
      ]
    },
    {
      "cell_type": "code",
      "source": [
        "df['generation'].value_counts()"
      ],
      "metadata": {
        "colab": {
          "base_uri": "https://localhost:8080/"
        },
        "id": "_Po7iY8XtgU5",
        "outputId": "6862b011-4219-40aa-9a8b-3957a7514cc4"
      },
      "execution_count": 34,
      "outputs": [
        {
          "output_type": "execute_result",
          "data": {
            "text/plain": [
              "Silent             5247\n",
              "Generation X       5246\n",
              "Millenials         4803\n",
              "Boomers            4050\n",
              "G.I. Generation    2263\n",
              "Generation Z       1211\n",
              "Name: generation, dtype: int64"
            ]
          },
          "metadata": {},
          "execution_count": 34
        }
      ]
    },
    {
      "cell_type": "code",
      "source": [
        "df['age'].value_counts()"
      ],
      "metadata": {
        "colab": {
          "base_uri": "https://localhost:8080/"
        },
        "id": "uFdPQ2vztgXT",
        "outputId": "10984f8b-d4c6-43ea-93fa-62b799964e3e"
      },
      "execution_count": 35,
      "outputs": [
        {
          "output_type": "execute_result",
          "data": {
            "text/plain": [
              "75+      3326\n",
              "nan      3293\n",
              "5-14     3266\n",
              "35-54    3257\n",
              "55-74    3256\n",
              "15-24    3225\n",
              "25-34    3197\n",
              "Name: age, dtype: int64"
            ]
          },
          "metadata": {},
          "execution_count": 35
        }
      ]
    },
    {
      "cell_type": "code",
      "source": [
        "# Replacing '-' with null\n",
        "df['age'].replace({'nan':np.nan}, inplace = True)\n"
      ],
      "metadata": {
        "id": "-nd-OOGEuEOu"
      },
      "execution_count": 36,
      "outputs": []
    },
    {
      "cell_type": "code",
      "source": [
        "df.isnull().sum()"
      ],
      "metadata": {
        "colab": {
          "base_uri": "https://localhost:8080/"
        },
        "id": "KpYhJyciuK25",
        "outputId": "7d674876-6e20-4054-ecfc-0c27a89b275d"
      },
      "execution_count": 37,
      "outputs": [
        {
          "output_type": "execute_result",
          "data": {
            "text/plain": [
              "id                       0\n",
              " gdp_for_year ($)        0\n",
              "gdp_per_capita ($)       0\n",
              "generation               0\n",
              "country                  0\n",
              "year                     0\n",
              "sex                      0\n",
              "age                   3293\n",
              "suicides_no              0\n",
              "population               0\n",
              "suicides/100k pop        0\n",
              "dtype: int64"
            ]
          },
          "metadata": {},
          "execution_count": 37
        }
      ]
    },
    {
      "cell_type": "code",
      "source": [
        "df.info()"
      ],
      "metadata": {
        "colab": {
          "base_uri": "https://localhost:8080/"
        },
        "id": "-gdhfch3uQ22",
        "outputId": "57a23f8a-3504-4aca-bfd7-13f671b541fe"
      },
      "execution_count": 38,
      "outputs": [
        {
          "output_type": "stream",
          "name": "stdout",
          "text": [
            "<class 'pandas.core.frame.DataFrame'>\n",
            "Int64Index: 22820 entries, 0 to 22819\n",
            "Data columns (total 11 columns):\n",
            " #   Column              Non-Null Count  Dtype  \n",
            "---  ------              --------------  -----  \n",
            " 0   id                  22820 non-null  int64  \n",
            " 1    gdp_for_year ($)   22820 non-null  object \n",
            " 2   gdp_per_capita ($)  22820 non-null  float64\n",
            " 3   generation          22820 non-null  object \n",
            " 4   country             22820 non-null  object \n",
            " 5   year                22820 non-null  float64\n",
            " 6   sex                 22820 non-null  object \n",
            " 7   age                 19527 non-null  object \n",
            " 8   suicides_no         22820 non-null  int64  \n",
            " 9   population          22820 non-null  float64\n",
            " 10  suicides/100k pop   22820 non-null  float64\n",
            "dtypes: float64(4), int64(2), object(5)\n",
            "memory usage: 2.1+ MB\n"
          ]
        }
      ]
    },
    {
      "cell_type": "code",
      "source": [
        "df['age'].fillna(value=df['age'].mode()[0], inplace=True)\n"
      ],
      "metadata": {
        "id": "i6GrLG51uQ5H"
      },
      "execution_count": 39,
      "outputs": []
    },
    {
      "cell_type": "code",
      "source": [
        "df.isnull().sum()"
      ],
      "metadata": {
        "colab": {
          "base_uri": "https://localhost:8080/"
        },
        "id": "ypQrQjLcue6w",
        "outputId": "0c3a4d49-db05-4426-c124-75b6d81a8611"
      },
      "execution_count": 40,
      "outputs": [
        {
          "output_type": "execute_result",
          "data": {
            "text/plain": [
              "id                    0\n",
              " gdp_for_year ($)     0\n",
              "gdp_per_capita ($)    0\n",
              "generation            0\n",
              "country               0\n",
              "year                  0\n",
              "sex                   0\n",
              "age                   0\n",
              "suicides_no           0\n",
              "population            0\n",
              "suicides/100k pop     0\n",
              "dtype: int64"
            ]
          },
          "metadata": {},
          "execution_count": 40
        }
      ]
    },
    {
      "cell_type": "code",
      "source": [
        "df['age'].value_counts()"
      ],
      "metadata": {
        "colab": {
          "base_uri": "https://localhost:8080/"
        },
        "id": "vVonsE_SuksN",
        "outputId": "f6172098-4d08-4d72-be03-178a8132ad95"
      },
      "execution_count": 41,
      "outputs": [
        {
          "output_type": "execute_result",
          "data": {
            "text/plain": [
              "75+      6619\n",
              "5-14     3266\n",
              "35-54    3257\n",
              "55-74    3256\n",
              "15-24    3225\n",
              "25-34    3197\n",
              "Name: age, dtype: int64"
            ]
          },
          "metadata": {},
          "execution_count": 41
        }
      ]
    },
    {
      "cell_type": "code",
      "source": [
        "df3 = pd.DataFrame(df, columns = ['gdp_per_capita ($)','suicides_no','population'])  \n",
        "plt.figure(figsize = (10, 20)) \n",
        "  \n",
        "df3.boxplot()"
      ],
      "metadata": {
        "colab": {
          "base_uri": "https://localhost:8080/",
          "height": 1000
        },
        "id": "mYQ44d5Rt2V0",
        "outputId": "f27dd96f-44fe-4a4b-eb41-ced2ddc2d4e7"
      },
      "execution_count": 42,
      "outputs": [
        {
          "output_type": "execute_result",
          "data": {
            "text/plain": [
              "<AxesSubplot:>"
            ]
          },
          "metadata": {},
          "execution_count": 42
        },
        {
          "output_type": "display_data",
          "data": {
            "text/plain": [
              "<Figure size 720x1440 with 1 Axes>"
            ],
            "image/png": "[encoded data removed]"
          },
          "metadata": {
            "needs_background": "light"
          }
        }
      ]
    },
    {
      "cell_type": "code",
      "source": [
        "def replace_outliers_median(x):\n",
        "    q1 = np.percentile(x, 25)\n",
        "    q3 = np.percentile(x, 75)\n",
        "    iqr = q3 - q1\n",
        "    lower_bound = q1 - 1.5 * iqr\n",
        "    upper_bound = q3 + 1.5 * iqr\n",
        "    x[x < lower_bound] = np.median(x)\n",
        "    x[x > upper_bound] = np.median(x)\n",
        "    return x\n",
        "\n",
        "# Define a function to replace outliers with the mode for categorical variables\n",
        "def replace_outliers_mode(x):\n",
        "    mode = x.mode()[0]\n",
        "    x[x != mode] = mode\n",
        "    return x\n"
      ],
      "metadata": {
        "id": "OSB9cPthwYj4"
      },
      "execution_count": 43,
      "outputs": []
    },
    {
      "cell_type": "code",
      "source": [
        "# Apply the functions to the data\n",
        "df[['gdp_per_capita ($)','suicides_no','population']] = df[['gdp_per_capita ($)','suicides_no','population']].apply(replace_outliers_median)"
      ],
      "metadata": {
        "id": "eZ5j957_z7Il"
      },
      "execution_count": 44,
      "outputs": []
    },
    {
      "cell_type": "code",
      "source": [
        "df3 = pd.DataFrame(df, columns = ['gdp_per_capita ($)','suicides_no','population'])  \n",
        "plt.figure(figsize = (10, 20)) \n",
        "  \n",
        "df3.boxplot()"
      ],
      "metadata": {
        "colab": {
          "base_uri": "https://localhost:8080/",
          "height": 1000
        },
        "id": "jvwsDqJH0LyZ",
        "outputId": "69664f87-33d3-4b3e-9094-baf99af7c56e"
      },
      "execution_count": 45,
      "outputs": [
        {
          "output_type": "execute_result",
          "data": {
            "text/plain": [
              "<AxesSubplot:>"
            ]
          },
          "metadata": {},
          "execution_count": 45
        },
        {
          "output_type": "display_data",
          "data": {
            "text/plain": [
              "<Figure size 720x1440 with 1 Axes>"
            ],
            "image/png": "[encoded data removed]"
          },
          "metadata": {
            "needs_background": "light"
          }
        }
      ]
    },
    {
      "cell_type": "code",
      "source": [
        "# Apply the functions to the data\n",
        "df[['gdp_per_capita ($)','suicides_no','population']] = df[['gdp_per_capita ($)','suicides_no','population']].apply(replace_outliers_median)"
      ],
      "metadata": {
        "id": "-BW8ba-70OwU"
      },
      "execution_count": 46,
      "outputs": []
    },
    {
      "cell_type": "code",
      "source": [
        "df3 = pd.DataFrame(df, columns = ['gdp_per_capita ($)','suicides_no','population'])  \n",
        "plt.figure(figsize = (10, 20)) \n",
        "  \n",
        "df3.boxplot()"
      ],
      "metadata": {
        "colab": {
          "base_uri": "https://localhost:8080/",
          "height": 1000
        },
        "id": "q99K6S4r0Wol",
        "outputId": "0332ff72-e84c-411d-ab37-8890b5cd03d2"
      },
      "execution_count": 47,
      "outputs": [
        {
          "output_type": "execute_result",
          "data": {
            "text/plain": [
              "<AxesSubplot:>"
            ]
          },
          "metadata": {},
          "execution_count": 47
        },
        {
          "output_type": "display_data",
          "data": {
            "text/plain": [
              "<Figure size 720x1440 with 1 Axes>"
            ],
            "image/png": "[encoded data removed]"
          },
          "metadata": {
            "needs_background": "light"
          }
        }
      ]
    },
    {
      "cell_type": "code",
      "source": [
        "# Apply the functions to the data\n",
        "df[['gdp_per_capita ($)','suicides_no']] = df[['gdp_per_capita ($)','suicides_no']].apply(replace_outliers_median)"
      ],
      "metadata": {
        "id": "hrHNuDTm0Zed"
      },
      "execution_count": 48,
      "outputs": []
    },
    {
      "cell_type": "code",
      "source": [
        "df3 = pd.DataFrame(df, columns = ['gdp_per_capita ($)','suicides_no','population'])  \n",
        "plt.figure(figsize = (10, 20)) \n",
        "  \n",
        "df3.boxplot()"
      ],
      "metadata": {
        "colab": {
          "base_uri": "https://localhost:8080/",
          "height": 1000
        },
        "id": "I191tF4p0k3X",
        "outputId": "71dd108c-487c-4182-ac3c-7cae18fd2cbd"
      },
      "execution_count": 49,
      "outputs": [
        {
          "output_type": "execute_result",
          "data": {
            "text/plain": [
              "<AxesSubplot:>"
            ]
          },
          "metadata": {},
          "execution_count": 49
        },
        {
          "output_type": "display_data",
          "data": {
            "text/plain": [
              "<Figure size 720x1440 with 1 Axes>"
            ],
            "image/png": "[encoded data removed]"
          },
          "metadata": {
            "needs_background": "light"
          }
        }
      ]
    },
    {
      "cell_type": "code",
      "source": [
        "# Apply the functions to the data\n",
        "df[['gdp_per_capita ($)']] = df[['gdp_per_capita ($)']].apply(replace_outliers_median)"
      ],
      "metadata": {
        "id": "-NKrFAIE0n5X"
      },
      "execution_count": 50,
      "outputs": []
    },
    {
      "cell_type": "code",
      "source": [
        "df3 = pd.DataFrame(df, columns = ['gdp_per_capita ($)','suicides_no','population'])  \n",
        "plt.figure(figsize = (10, 20)) \n",
        "  \n",
        "df3.boxplot()"
      ],
      "metadata": {
        "colab": {
          "base_uri": "https://localhost:8080/",
          "height": 1000
        },
        "id": "_eJ8Uw7u0wLR",
        "outputId": "f5695d41-aafb-495d-944e-a81588403934"
      },
      "execution_count": 51,
      "outputs": [
        {
          "output_type": "execute_result",
          "data": {
            "text/plain": [
              "<AxesSubplot:>"
            ]
          },
          "metadata": {},
          "execution_count": 51
        },
        {
          "output_type": "display_data",
          "data": {
            "text/plain": [
              "<Figure size 720x1440 with 1 Axes>"
            ],
            "image/png": "[encoded data removed]"
          },
          "metadata": {
            "needs_background": "light"
          }
        }
      ]
    },
    {
      "cell_type": "code",
      "source": [
        " \n",
        "  \n",
        "# plotting correlation heatmap\n",
        "dataplot=sns.heatmap(df.corr())\n",
        "  \n",
        "# displaying heatmap\n",
        "plt.show()"
      ],
      "metadata": {
        "id": "AZYCzoOI1OXR",
        "colab": {
          "base_uri": "https://localhost:8080/",
          "height": 353
        },
        "outputId": "77e8cc7b-f6d0-4577-dc23-63b1d4dd3e0a"
      },
      "execution_count": 52,
      "outputs": [
        {
          "output_type": "display_data",
          "data": {
            "text/plain": [
              "<Figure size 432x288 with 2 Axes>"
            ],
            "image/png": "[encoded data removed]"
          },
          "metadata": {
            "needs_background": "light"
          }
        }
      ]
    },
    {
      "cell_type": "code",
      "source": [
        "df.columns"
      ],
      "metadata": {
        "colab": {
          "base_uri": "https://localhost:8080/"
        },
        "id": "n_uDzlBW7-QY",
        "outputId": "0e895e82-4fb8-42b7-a5f7-662a5c65e3e2"
      },
      "execution_count": 53,
      "outputs": [
        {
          "output_type": "execute_result",
          "data": {
            "text/plain": [
              "Index(['id', ' gdp_for_year ($) ', 'gdp_per_capita ($)', 'generation',\n",
              "       'country', 'year', 'sex', 'age', 'suicides_no', 'population',\n",
              "       'suicides/100k pop'],\n",
              "      dtype='object')"
            ]
          },
          "metadata": {},
          "execution_count": 53
        }
      ]
    },
    {
      "cell_type": "code",
      "source": [
        "df = df.drop(columns = ' gdp_for_year ($) ')"
      ],
      "metadata": {
        "id": "je0sJW47FhXs"
      },
      "execution_count": 54,
      "outputs": []
    },
    {
      "cell_type": "code",
      "source": [
        "gender_suicides = df.groupby('sex')['suicides_no'].sum()\n",
        "\n",
        "# Create a bar chart with the counts for each gender\n",
        "gender_suicides.plot(kind='bar', color=['blue', 'pink'])\n",
        "plt.xlabel('Gender')\n",
        "plt.ylabel('Number of Suicides')\n",
        "plt.show()"
      ],
      "metadata": {
        "colab": {
          "base_uri": "https://localhost:8080/",
          "height": 304
        },
        "id": "MwW2cVOb7-TO",
        "outputId": "8d9b151d-a821-4305-be9d-4606fb8f366f"
      },
      "execution_count": 55,
      "outputs": [
        {
          "output_type": "display_data",
          "data": {
            "text/plain": [
              "<Figure size 432x288 with 1 Axes>"
            ],
            "image/png": "[encoded data removed]"
          },
          "metadata": {
            "needs_background": "light"
          }
        }
      ]
    },
    {
      "cell_type": "code",
      "source": [
        "gender_suicides"
      ],
      "metadata": {
        "colab": {
          "base_uri": "https://localhost:8080/"
        },
        "id": "mc2w7rGD_q6W",
        "outputId": "cb8f74dd-fcb5-4b96-e62c-0ef8749e0044"
      },
      "execution_count": 56,
      "outputs": [
        {
          "output_type": "execute_result",
          "data": {
            "text/plain": [
              "sex\n",
              "female    175993\n",
              "male      214943\n",
              "Name: suicides_no, dtype: int64"
            ]
          },
          "metadata": {},
          "execution_count": 56
        }
      ]
    },
    {
      "cell_type": "code",
      "source": [
        "gender_suicides = df.groupby('sex')['suicides/100k pop'].sum()\n",
        "\n",
        "# Create a bar chart with the counts for each gender\n",
        "gender_suicides.plot(kind='bar', color=['blue', 'pink'])\n",
        "plt.xlabel('Gender')\n",
        "plt.ylabel('Number of Suicides')\n",
        "plt.show()"
      ],
      "metadata": {
        "colab": {
          "base_uri": "https://localhost:8080/",
          "height": 304
        },
        "id": "95zfOGWr7-WJ",
        "outputId": "d401fd4b-0435-4f0a-b9b6-2933bfcd81dd"
      },
      "execution_count": 57,
      "outputs": [
        {
          "output_type": "display_data",
          "data": {
            "text/plain": [
              "<Figure size 432x288 with 1 Axes>"
            ],
            "image/png": "[encoded data removed]"
          },
          "metadata": {
            "needs_background": "light"
          }
        }
      ]
    },
    {
      "cell_type": "code",
      "source": [
        "gender_suicides"
      ],
      "metadata": {
        "colab": {
          "base_uri": "https://localhost:8080/"
        },
        "id": "f975Hemn7-Zj",
        "outputId": "e2cd16cc-3fae-4533-df99-45cff53eff17"
      },
      "execution_count": 58,
      "outputs": [
        {
          "output_type": "execute_result",
          "data": {
            "text/plain": [
              "sex\n",
              "female     61549.22\n",
              "male      229323.09\n",
              "Name: suicides/100k pop, dtype: float64"
            ]
          },
          "metadata": {},
          "execution_count": 58
        }
      ]
    },
    {
      "cell_type": "code",
      "source": [
        "age_sex_suicides = df.groupby(['age', 'sex'])['suicides_no'].sum()\n",
        "\n",
        "# Unstack the sex index to create separate bars for male and female for each age group\n",
        "age_sex_suicides = age_sex_suicides.unstack()\n",
        "\n",
        "# Create a grouped bar chart with the counts for each age and sex\n",
        "age_sex_suicides.plot(kind='bar', color=['blue', 'pink'])\n",
        "plt.xlabel('Age')\n",
        "plt.ylabel('Number of Suicides')\n",
        "plt.legend(title='Sex', labels=['Female', 'Male'])\n",
        "plt.show()"
      ],
      "metadata": {
        "colab": {
          "base_uri": "https://localhost:8080/",
          "height": 298
        },
        "id": "3wr9OqlaAV1s",
        "outputId": "4ebb7a72-d8d8-4ed8-b014-88f7e7ec13fd"
      },
      "execution_count": 59,
      "outputs": [
        {
          "output_type": "display_data",
          "data": {
            "text/plain": [
              "<Figure size 432x288 with 1 Axes>"
            ],
            "image/png": "[encoded data removed]"
          },
          "metadata": {
            "needs_background": "light"
          }
        }
      ]
    },
    {
      "cell_type": "code",
      "source": [
        "age_sex_suicides = df.groupby(['generation', 'sex'])['suicides_no'].sum()\n",
        "\n",
        "# Unstack the sex index to create separate bars for male and female for each age group\n",
        "age_sex_suicides = age_sex_suicides.unstack()\n",
        "\n",
        "# Create a grouped bar chart with the counts for each age and sex\n",
        "age_sex_suicides.plot(kind='bar', color=['blue', 'pink'])\n",
        "plt.xlabel('generation')\n",
        "plt.ylabel('Number of Suicides')\n",
        "plt.legend(title='Sex', labels=['Female', 'Male'])\n",
        "plt.show()"
      ],
      "metadata": {
        "colab": {
          "base_uri": "https://localhost:8080/",
          "height": 345
        },
        "id": "mpPGBm2bAV4m",
        "outputId": "d9e6adab-9f73-4ab7-af00-91a61bf5dd54"
      },
      "execution_count": 60,
      "outputs": [
        {
          "output_type": "display_data",
          "data": {
            "text/plain": [
              "<Figure size 432x288 with 1 Axes>"
            ],
            "image/png": "[encoded data removed]"
          },
          "metadata": {
            "needs_background": "light"
          }
        }
      ]
    },
    {
      "cell_type": "code",
      "source": [
        "top10_cars = df['country'].value_counts().sort_values(ascending = False)[:10]\n",
        "top10_mean_prices = [df[df['country'] == i]['suicides/100k pop'].mean() for i in list(top10_cars.index)]\n",
        "\n",
        "fig = plt.figure(figsize=(14,6))\n",
        "ax = fig.add_subplot(121)\n",
        "sns.barplot(top10_cars.index, top10_cars.values, palette='hot')\n",
        "plt.xticks(rotation = 90)\n",
        "plt.ylabel('# Cars')\n",
        "plt.title('Distribution of Category')\n",
        "\n",
        "ax2 = fig.add_subplot(122)\n",
        "sns.lineplot(top10_cars.index, top10_mean_prices, color='r')\n",
        "plt.xticks(rotation = 90)\n",
        "plt.ylabel('mean of suicides')\n",
        "plt.title(\"Categories and its Mean Suicides\")\n",
        "plt.show()"
      ],
      "metadata": {
        "colab": {
          "base_uri": "https://localhost:8080/",
          "height": 467
        },
        "id": "PQGl-ikGAV7g",
        "outputId": "6f875aba-4c1e-45c7-d746-8bf136c92b74"
      },
      "execution_count": 61,
      "outputs": [
        {
          "output_type": "display_data",
          "data": {
            "text/plain": [
              "<Figure size 1008x432 with 2 Axes>"
            ],
            "image/png": "[encoded data removed]"
          },
          "metadata": {
            "needs_background": "light"
          }
        }
      ]
    },
    {
      "cell_type": "code",
      "source": [
        "malta_data = df[df['country'] == 'Malta']\n",
        "\n",
        "# Compute the mean of 'gdp per capita'\n",
        "mean_gdp = malta_data['gdp_per_capita ($)'].mean()\n",
        "\n",
        "print(\"Mean GDP per capita of Malta: \", mean_gdp)"
      ],
      "metadata": {
        "colab": {
          "base_uri": "https://localhost:8080/"
        },
        "id": "KrVFyUGYAV_E",
        "outputId": "ad15796b-9611-4d37-cae7-e1812e659603"
      },
      "execution_count": 62,
      "outputs": [
        {
          "output_type": "stream",
          "name": "stdout",
          "text": [
            "Mean GDP per capita of Malta:  9582.916398713827\n"
          ]
        }
      ]
    },
    {
      "cell_type": "code",
      "source": [
        "malta_data = df[df['country'] == 'Republic of Korea']\n",
        "\n",
        "# Compute the mean of 'gdp per capita'\n",
        "mean_gdp = malta_data['gdp_per_capita ($)'].mean()\n",
        "\n",
        "print(\"Mean GDP per capita of Malta: \", mean_gdp)"
      ],
      "metadata": {
        "colab": {
          "base_uri": "https://localhost:8080/"
        },
        "id": "2EGLAARkFQiK",
        "outputId": "e8473e56-087d-4f55-bb53-4bb5599d533e"
      },
      "execution_count": 63,
      "outputs": [
        {
          "output_type": "stream",
          "name": "stdout",
          "text": [
            "Mean GDP per capita of Malta:  9580.474193548387\n"
          ]
        }
      ]
    },
    {
      "cell_type": "code",
      "source": [
        "top10_cars = df['country'].value_counts().sort_values(ascending = False)[:10]\n",
        "top10_mean_prices = [df[df['country'] == i]['population'].mean() for i in list(top10_cars.index)]\n",
        "\n",
        "fig = plt.figure(figsize=(14,6))\n",
        "ax = fig.add_subplot(121)\n",
        "sns.barplot(top10_cars.index, top10_cars.values, palette='hot')\n",
        "plt.xticks(rotation = 90)\n",
        "plt.ylabel('# Cars')\n",
        "plt.title('Distribution of Category')\n",
        "\n",
        "ax2 = fig.add_subplot(122)\n",
        "sns.lineplot(top10_cars.index, top10_mean_prices, color='r')\n",
        "plt.xticks(rotation = 90)\n",
        "plt.ylabel('Mean Prices')\n",
        "plt.title(\"Categories and its Mean Prices\")\n",
        "plt.show()"
      ],
      "metadata": {
        "colab": {
          "base_uri": "https://localhost:8080/",
          "height": 467
        },
        "id": "K1Fi9akUGIn5",
        "outputId": "eeba918a-d40e-499e-f69e-7145d0dd48c9"
      },
      "execution_count": 64,
      "outputs": [
        {
          "output_type": "display_data",
          "data": {
            "text/plain": [
              "<Figure size 1008x432 with 2 Axes>"
            ],
            "image/png": "[encoded data removed]"
          },
          "metadata": {
            "needs_background": "light"
          }
        }
      ]
    },
    {
      "cell_type": "code",
      "source": [
        "df= df.drop(columns = ['id'])"
      ],
      "metadata": {
        "id": "76RBx3Yqx50j"
      },
      "execution_count": 65,
      "outputs": []
    },
    {
      "cell_type": "code",
      "source": [
        "df.info()"
      ],
      "metadata": {
        "colab": {
          "base_uri": "https://localhost:8080/"
        },
        "id": "A1GHYiec7VwK",
        "outputId": "775dcfa4-238b-4fb2-b120-3bcab13d658b"
      },
      "execution_count": 66,
      "outputs": [
        {
          "output_type": "stream",
          "name": "stdout",
          "text": [
            "<class 'pandas.core.frame.DataFrame'>\n",
            "Int64Index: 22820 entries, 0 to 22819\n",
            "Data columns (total 9 columns):\n",
            " #   Column              Non-Null Count  Dtype  \n",
            "---  ------              --------------  -----  \n",
            " 0   gdp_per_capita ($)  22820 non-null  float64\n",
            " 1   generation          22820 non-null  object \n",
            " 2   country             22820 non-null  object \n",
            " 3   year                22820 non-null  float64\n",
            " 4   sex                 22820 non-null  object \n",
            " 5   age                 22820 non-null  object \n",
            " 6   suicides_no         22820 non-null  int64  \n",
            " 7   population          22820 non-null  float64\n",
            " 8   suicides/100k pop   22820 non-null  float64\n",
            "dtypes: float64(4), int64(1), object(4)\n",
            "memory usage: 1.7+ MB\n"
          ]
        }
      ]
    },
    {
      "cell_type": "code",
      "source": [
        "df.nunique()"
      ],
      "metadata": {
        "colab": {
          "base_uri": "https://localhost:8080/"
        },
        "id": "iieZhkit7cwF",
        "outputId": "b98d2ad1-4eba-49c8-9b62-b35de73913d4"
      },
      "execution_count": 67,
      "outputs": [
        {
          "output_type": "execute_result",
          "data": {
            "text/plain": [
              "gdp_per_capita ($)     1426\n",
              "generation                6\n",
              "country                 101\n",
              "year                     32\n",
              "sex                       2\n",
              "age                       6\n",
              "suicides_no              60\n",
              "population            10068\n",
              "suicides/100k pop      4890\n",
              "dtype: int64"
            ]
          },
          "metadata": {},
          "execution_count": 67
        }
      ]
    },
    {
      "cell_type": "code",
      "source": [
        "df['year'].value_counts()"
      ],
      "metadata": {
        "colab": {
          "base_uri": "https://localhost:8080/"
        },
        "id": "r0SfFins7gb5",
        "outputId": "6e75a247-3727-4ed4-fee8-037d3ada5407"
      },
      "execution_count": 68,
      "outputs": [
        {
          "output_type": "execute_result",
          "data": {
            "text/plain": [
              "2001.0    889\n",
              "2010.0    876\n",
              "2000.0    867\n",
              "2011.0    866\n",
              "2009.0    862\n",
              "2008.0    845\n",
              "2006.0    842\n",
              "2004.0    840\n",
              "2003.0    835\n",
              "2007.0    823\n",
              "2005.0    819\n",
              "2012.0    817\n",
              "2002.0    804\n",
              "1999.0    795\n",
              "2013.0    787\n",
              "1998.0    783\n",
              "1995.0    770\n",
              "1996.0    753\n",
              "2014.0    749\n",
              "1997.0    748\n",
              "1994.0    680\n",
              "1991.0    653\n",
              "1993.0    639\n",
              "1990.0    637\n",
              "2015.0    620\n",
              "1992.0    618\n",
              "1987.0    532\n",
              "1989.0    512\n",
              "1988.0    490\n",
              "1985.0    481\n",
              "1986.0    465\n",
              "2016.0    123\n",
              "Name: year, dtype: int64"
            ]
          },
          "metadata": {},
          "execution_count": 68
        }
      ]
    },
    {
      "cell_type": "code",
      "source": [
        "from sklearn.preprocessing import LabelEncoder\n",
        "# create a label encoder object\n",
        "le = LabelEncoder()\n",
        "\n",
        "# apply label encoding to each categorical variable\n",
        "df['generation'] = le.fit_transform(df['generation'])\n",
        "df['country'] = le.fit_transform(df['country'])\n",
        "df['sex'] = le.fit_transform(df['sex'])\n",
        "df['age'] = le.fit_transform(df['age'])\n",
        "df['year'] = le.fit_transform(df['year'])\n",
        "\n",
        "# print the encoded data frame\n",
        "df"
      ],
      "metadata": {
        "colab": {
          "base_uri": "https://localhost:8080/",
          "height": 423
        },
        "id": "j2uFhG_07pDF",
        "outputId": "cdae0dd9-1790-4567-c0d3-5e3aa2300cbe"
      },
      "execution_count": 69,
      "outputs": [
        {
          "output_type": "execute_result",
          "data": {
            "text/plain": [
              "       gdp_per_capita ($)  generation  country  year  sex  age  suicides_no  \\\n",
              "0                   796.0           2        0     2    1    5           21   \n",
              "1                  9176.0           5        0     2    1    5           16   \n",
              "2                   796.0           1        0     2    1    5            1   \n",
              "3                   796.0           0        0     2    1    1            9   \n",
              "4                   796.0           1        0     2    0    5            1   \n",
              "...                   ...         ...      ...   ...  ...  ...          ...   \n",
              "22815              2309.0           2      100    29    0    2           25   \n",
              "22816              2309.0           5      100    29    0    5            9   \n",
              "22817              2309.0           3      100    29    1    3           25   \n",
              "22818              9176.0           3      100    29    0    5           44   \n",
              "22819              9176.0           0      100    29    0    5           21   \n",
              "\n",
              "       population  suicides/100k pop  \n",
              "0        312900.0               6.71  \n",
              "1        308000.0               5.19  \n",
              "2        434130.0               4.59  \n",
              "3        274300.0               3.28  \n",
              "4         35600.0               2.81  \n",
              "...           ...                ...  \n",
              "22815    434130.0               2.96  \n",
              "22816    348465.0               2.58  \n",
              "22817    434130.0               2.17  \n",
              "22818    434130.0               1.67  \n",
              "22819    434130.0               1.46  \n",
              "\n",
              "[22820 rows x 9 columns]"
            ],
            "text/html": [
              "\n",
              "  <div id=\"df-c2835682-3b9e-4c4a-b41f-cdfa8c8350bc\">\n",
              "    <div class=\"colab-df-container\">\n",
              "      <div>\n",
              "<style scoped>\n",
              "    .dataframe tbody tr th:only-of-type {\n",
              "        vertical-align: middle;\n",
              "    }\n",
              "\n",
              "    .dataframe tbody tr th {\n",
              "        vertical-align: top;\n",
              "    }\n",
              "\n",
              "    .dataframe thead th {\n",
              "        text-align: right;\n",
              "    }\n",
              "</style>\n",
              "<table border=\"1\" class=\"dataframe\">\n",
              "  <thead>\n",
              "    <tr style=\"text-align: right;\">\n",
              "      <th></th>\n",
              "      <th>gdp_per_capita ($)</th>\n",
              "      <th>generation</th>\n",
              "      <th>country</th>\n",
              "      <th>year</th>\n",
              "      <th>sex</th>\n",
              "      <th>age</th>\n",
              "      <th>suicides_no</th>\n",
              "      <th>population</th>\n",
              "      <th>suicides/100k pop</th>\n",
              "    </tr>\n",
              "  </thead>\n",
              "  <tbody>\n",
              "    <tr>\n",
              "      <th>0</th>\n",
              "      <td>796.0</td>\n",
              "      <td>2</td>\n",
              "      <td>0</td>\n",
              "      <td>2</td>\n",
              "      <td>1</td>\n",
              "      <td>5</td>\n",
              "      <td>21</td>\n",
              "      <td>312900.0</td>\n",
              "      <td>6.71</td>\n",
              "    </tr>\n",
              "    <tr>\n",
              "      <th>1</th>\n",
              "      <td>9176.0</td>\n",
              "      <td>5</td>\n",
              "      <td>0</td>\n",
              "      <td>2</td>\n",
              "      <td>1</td>\n",
              "      <td>5</td>\n",
              "      <td>16</td>\n",
              "      <td>308000.0</td>\n",
              "      <td>5.19</td>\n",
              "    </tr>\n",
              "    <tr>\n",
              "      <th>2</th>\n",
              "      <td>796.0</td>\n",
              "      <td>1</td>\n",
              "      <td>0</td>\n",
              "      <td>2</td>\n",
              "      <td>1</td>\n",
              "      <td>5</td>\n",
              "      <td>1</td>\n",
              "      <td>434130.0</td>\n",
              "      <td>4.59</td>\n",
              "    </tr>\n",
              "    <tr>\n",
              "      <th>3</th>\n",
              "      <td>796.0</td>\n",
              "      <td>0</td>\n",
              "      <td>0</td>\n",
              "      <td>2</td>\n",
              "      <td>1</td>\n",
              "      <td>1</td>\n",
              "      <td>9</td>\n",
              "      <td>274300.0</td>\n",
              "      <td>3.28</td>\n",
              "    </tr>\n",
              "    <tr>\n",
              "      <th>4</th>\n",
              "      <td>796.0</td>\n",
              "      <td>1</td>\n",
              "      <td>0</td>\n",
              "      <td>2</td>\n",
              "      <td>0</td>\n",
              "      <td>5</td>\n",
              "      <td>1</td>\n",
              "      <td>35600.0</td>\n",
              "      <td>2.81</td>\n",
              "    </tr>\n",
              "    <tr>\n",
              "      <th>...</th>\n",
              "      <td>...</td>\n",
              "      <td>...</td>\n",
              "      <td>...</td>\n",
              "      <td>...</td>\n",
              "      <td>...</td>\n",
              "      <td>...</td>\n",
              "      <td>...</td>\n",
              "      <td>...</td>\n",
              "      <td>...</td>\n",
              "    </tr>\n",
              "    <tr>\n",
              "      <th>22815</th>\n",
              "      <td>2309.0</td>\n",
              "      <td>2</td>\n",
              "      <td>100</td>\n",
              "      <td>29</td>\n",
              "      <td>0</td>\n",
              "      <td>2</td>\n",
              "      <td>25</td>\n",
              "      <td>434130.0</td>\n",
              "      <td>2.96</td>\n",
              "    </tr>\n",
              "    <tr>\n",
              "      <th>22816</th>\n",
              "      <td>2309.0</td>\n",
              "      <td>5</td>\n",
              "      <td>100</td>\n",
              "      <td>29</td>\n",
              "      <td>0</td>\n",
              "      <td>5</td>\n",
              "      <td>9</td>\n",
              "      <td>348465.0</td>\n",
              "      <td>2.58</td>\n",
              "    </tr>\n",
              "    <tr>\n",
              "      <th>22817</th>\n",
              "      <td>2309.0</td>\n",
              "      <td>3</td>\n",
              "      <td>100</td>\n",
              "      <td>29</td>\n",
              "      <td>1</td>\n",
              "      <td>3</td>\n",
              "      <td>25</td>\n",
              "      <td>434130.0</td>\n",
              "      <td>2.17</td>\n",
              "    </tr>\n",
              "    <tr>\n",
              "      <th>22818</th>\n",
              "      <td>9176.0</td>\n",
              "      <td>3</td>\n",
              "      <td>100</td>\n",
              "      <td>29</td>\n",
              "      <td>0</td>\n",
              "      <td>5</td>\n",
              "      <td>44</td>\n",
              "      <td>434130.0</td>\n",
              "      <td>1.67</td>\n",
              "    </tr>\n",
              "    <tr>\n",
              "      <th>22819</th>\n",
              "      <td>9176.0</td>\n",
              "      <td>0</td>\n",
              "      <td>100</td>\n",
              "      <td>29</td>\n",
              "      <td>0</td>\n",
              "      <td>5</td>\n",
              "      <td>21</td>\n",
              "      <td>434130.0</td>\n",
              "      <td>1.46</td>\n",
              "    </tr>\n",
              "  </tbody>\n",
              "</table>\n",
              "<p>22820 rows × 9 columns</p>\n",
              "</div>\n",
              "      <button class=\"colab-df-convert\" onclick=\"convertToInteractive('df-c2835682-3b9e-4c4a-b41f-cdfa8c8350bc')\"\n",
              "              title=\"Convert this dataframe to an interactive table.\"\n",
              "              style=\"display:none;\">\n",
              "        \n",
              "  <svg xmlns=\"http://www.w3.org/2000/svg\" height=\"24px\"viewBox=\"0 0 24 24\"\n",
              "       width=\"24px\">\n",
              "    <path d=\"M0 0h24v24H0V0z\" fill=\"none\"/>\n",
              "    <path d=\"M18.56 5.44l.94 2.06.94-2.06 2.06-.94-2.06-.94-.94-2.06-.94 2.06-2.06.94zm-11 1L8.5 8.5l.94-2.06 2.06-.94-2.06-.94L8.5 2.5l-.94 2.06-2.06.94zm10 10l.94 2.06.94-2.06 2.06-.94-2.06-.94-.94-2.06-.94 2.06-2.06.94z\"/><path d=\"M17.41 7.96l-1.37-1.37c-.4-.4-.92-.59-1.43-.59-.52 0-1.04.2-1.43.59L10.3 9.45l-7.72 7.72c-.78.78-.78 2.05 0 2.83L4 21.41c.39.39.9.59 1.41.59.51 0 1.02-.2 1.41-.59l7.78-7.78 2.81-2.81c.8-.78.8-2.07 0-2.86zM5.41 20L4 18.59l7.72-7.72 1.47 1.35L5.41 20z\"/>\n",
              "  </svg>\n",
              "      </button>\n",
              "      \n",
              "  <style>\n",
              "    .colab-df-container {\n",
              "      display:flex;\n",
              "      flex-wrap:wrap;\n",
              "      gap: 12px;\n",
              "    }\n",
              "\n",
              "    .colab-df-convert {\n",
              "      background-color: #E8F0FE;\n",
              "      border: none;\n",
              "      border-radius: 50%;\n",
              "      cursor: pointer;\n",
              "      display: none;\n",
              "      fill: #1967D2;\n",
              "      height: 32px;\n",
              "      padding: 0 0 0 0;\n",
              "      width: 32px;\n",
              "    }\n",
              "\n",
              "    .colab-df-convert:hover {\n",
              "      background-color: #E2EBFA;\n",
              "      box-shadow: 0px 1px 2px rgba(60, 64, 67, 0.3), 0px 1px 3px 1px rgba(60, 64, 67, 0.15);\n",
              "      fill: #174EA6;\n",
              "    }\n",
              "\n",
              "    [theme=dark] .colab-df-convert {\n",
              "      background-color: #3B4455;\n",
              "      fill: #D2E3FC;\n",
              "    }\n",
              "\n",
              "    [theme=dark] .colab-df-convert:hover {\n",
              "      background-color: #434B5C;\n",
              "      box-shadow: 0px 1px 3px 1px rgba(0, 0, 0, 0.15);\n",
              "      filter: drop-shadow(0px 1px 2px rgba(0, 0, 0, 0.3));\n",
              "      fill: #FFFFFF;\n",
              "    }\n",
              "  </style>\n",
              "\n",
              "      <script>\n",
              "        const buttonEl =\n",
              "          document.querySelector('#df-c2835682-3b9e-4c4a-b41f-cdfa8c8350bc button.colab-df-convert');\n",
              "        buttonEl.style.display =\n",
              "          google.colab.kernel.accessAllowed ? 'block' : 'none';\n",
              "\n",
              "        async function convertToInteractive(key) {\n",
              "          const element = document.querySelector('#df-c2835682-3b9e-4c4a-b41f-cdfa8c8350bc');\n",
              "          const dataTable =\n",
              "            await google.colab.kernel.invokeFunction('convertToInteractive',\n",
              "                                                     [key], {});\n",
              "          if (!dataTable) return;\n",
              "\n",
              "          const docLinkHtml = 'Like what you see? Visit the ' +\n",
              "            '<a target=\"_blank\" href=https://colab.research.google.com/notebooks/data_table.ipynb>data table notebook</a>'\n",
              "            + ' to learn more about interactive tables.';\n",
              "          element.innerHTML = '';\n",
              "          dataTable['output_type'] = 'display_data';\n",
              "          await google.colab.output.renderOutput(dataTable, element);\n",
              "          const docLink = document.createElement('div');\n",
              "          docLink.innerHTML = docLinkHtml;\n",
              "          element.appendChild(docLink);\n",
              "        }\n",
              "      </script>\n",
              "    </div>\n",
              "  </div>\n",
              "  "
            ]
          },
          "metadata": {},
          "execution_count": 69
        }
      ]
    },
    {
      "cell_type": "code",
      "source": [
        "df['generation'] = df['generation'].astype('category')\n",
        "df['country'] = df['country'].astype('category')\n",
        "df['age'] = df['age'].astype('category')\n",
        "df['sex'] = df['sex'].astype('category')\n",
        "df['year'] = df['year'].astype('category')"
      ],
      "metadata": {
        "id": "Dmmp3B298OI1"
      },
      "execution_count": 70,
      "outputs": []
    },
    {
      "cell_type": "code",
      "source": [
        "df.info()"
      ],
      "metadata": {
        "colab": {
          "base_uri": "https://localhost:8080/"
        },
        "id": "73nVV1uclCmE",
        "outputId": "d3c5cc2c-9835-4ae9-f883-314584f1edac"
      },
      "execution_count": 71,
      "outputs": [
        {
          "output_type": "stream",
          "name": "stdout",
          "text": [
            "<class 'pandas.core.frame.DataFrame'>\n",
            "Int64Index: 22820 entries, 0 to 22819\n",
            "Data columns (total 9 columns):\n",
            " #   Column              Non-Null Count  Dtype   \n",
            "---  ------              --------------  -----   \n",
            " 0   gdp_per_capita ($)  22820 non-null  float64 \n",
            " 1   generation          22820 non-null  category\n",
            " 2   country             22820 non-null  category\n",
            " 3   year                22820 non-null  category\n",
            " 4   sex                 22820 non-null  category\n",
            " 5   age                 22820 non-null  category\n",
            " 6   suicides_no         22820 non-null  int64   \n",
            " 7   population          22820 non-null  float64 \n",
            " 8   suicides/100k pop   22820 non-null  float64 \n",
            "dtypes: category(5), float64(3), int64(1)\n",
            "memory usage: 1009.5 KB\n"
          ]
        }
      ]
    },
    {
      "cell_type": "code",
      "source": [
        "# Defining a function to find the statistical relationship with all the categorical variables\n",
        "def FunctionAnova(inpData, TargetVariable, CategoricalPredictorList):\n",
        "    from scipy.stats import f_oneway\n",
        "\n",
        "    # Creating an empty list of final selected predictors\n",
        "    SelectedPredictors=[]\n",
        "    \n",
        "    print('##### ANOVA Results ##### \\n')\n",
        "    for predictor in CategoricalPredictorList:\n",
        "        CategoryGroupLists=inpData.groupby(predictor)[TargetVariable].apply(list)\n",
        "        AnovaResults = f_oneway(*CategoryGroupLists)\n",
        "        \n",
        "        # If the ANOVA P-Value is <0.05, that means we reject H0\n",
        "        if (AnovaResults[1] < 0.05):\n",
        "            print(predictor, 'is correlated with', TargetVariable, '| P-Value:', AnovaResults[1])\n",
        "            SelectedPredictors.append(predictor)\n",
        "        else:\n",
        "            print(predictor, 'is NOT correlated with', TargetVariable, '| P-Value:', AnovaResults[1])\n",
        "    \n",
        "    return(SelectedPredictors)"
      ],
      "metadata": {
        "id": "MHQywMA4yJ2z"
      },
      "execution_count": 72,
      "outputs": []
    },
    {
      "cell_type": "code",
      "source": [
        "# Calling the function to check which categorical variables are correlated with target\n",
        "# Calling the function to check which categorical variables are correlated with target\n",
        "CategoricalPredictorList=['generation', 'country', 'sex','age','year']\n",
        "FunctionAnova(inpData=df, \n",
        "              TargetVariable='suicides/100k pop', \n",
        "              CategoricalPredictorList=CategoricalPredictorList)"
      ],
      "metadata": {
        "colab": {
          "base_uri": "https://localhost:8080/"
        },
        "id": "RHURBaityJ5R",
        "outputId": "51e97355-a62a-40b3-a583-70ba0c190ff7"
      },
      "execution_count": 73,
      "outputs": [
        {
          "output_type": "stream",
          "name": "stdout",
          "text": [
            "##### ANOVA Results ##### \n",
            "\n",
            "generation is correlated with suicides/100k pop | P-Value: 0.0\n",
            "country is correlated with suicides/100k pop | P-Value: 0.0\n",
            "sex is correlated with suicides/100k pop | P-Value: 0.0\n",
            "age is correlated with suicides/100k pop | P-Value: 0.0\n",
            "year is correlated with suicides/100k pop | P-Value: 1.4377917853305195e-11\n"
          ]
        },
        {
          "output_type": "execute_result",
          "data": {
            "text/plain": [
              "['generation', 'country', 'sex', 'age', 'year']"
            ]
          },
          "metadata": {},
          "execution_count": 73
        }
      ]
    },
    {
      "cell_type": "code",
      "source": [
        "df.columns"
      ],
      "metadata": {
        "colab": {
          "base_uri": "https://localhost:8080/"
        },
        "id": "Ni-hNneAyJ8B",
        "outputId": "388a5a86-8a47-4e6c-aa66-956e887abc66"
      },
      "execution_count": 74,
      "outputs": [
        {
          "output_type": "execute_result",
          "data": {
            "text/plain": [
              "Index(['gdp_per_capita ($)', 'generation', 'country', 'year', 'sex', 'age',\n",
              "       'suicides_no', 'population', 'suicides/100k pop'],\n",
              "      dtype='object')"
            ]
          },
          "metadata": {},
          "execution_count": 74
        }
      ]
    },
    {
      "cell_type": "code",
      "source": [
        "df3 = df.sample(frac = 1)"
      ],
      "metadata": {
        "id": "--7w6NcE1pag"
      },
      "execution_count": 75,
      "outputs": []
    },
    {
      "cell_type": "code",
      "source": [
        "X = np.array(df3.drop([\"suicides_no\"],1))\n",
        "print(\"Shape of X:\",X.shape)\n",
        "print(X)"
      ],
      "metadata": {
        "colab": {
          "base_uri": "https://localhost:8080/"
        },
        "id": "t98i-jtB8jaW",
        "outputId": "0f574db6-07f1-4c65-a23c-d8f0466039ad"
      },
      "execution_count": 76,
      "outputs": [
        {
          "output_type": "stream",
          "name": "stdout",
          "text": [
            "Shape of X: (22820, 8)\n",
            "[[9.17600e+03 2.00000e+00 4.30000e+01 ... 0.00000e+00 4.34130e+05\n",
            "  1.83000e+00]\n",
            " [8.23200e+03 0.00000e+00 2.00000e+00 ... 2.00000e+00 4.34130e+05\n",
            "  1.28000e+01]\n",
            " [1.83100e+03 5.00000e+00 4.50000e+01 ... 2.00000e+00 1.83306e+05\n",
            "  5.50000e-01]\n",
            " ...\n",
            " [3.98400e+03 2.00000e+00 1.50000e+01 ... 1.00000e+00 4.34130e+05\n",
            "  2.27000e+00]\n",
            " [9.17600e+03 1.00000e+00 6.20000e+01 ... 5.00000e+00 4.34130e+05\n",
            "  2.95500e+01]\n",
            " [9.17600e+03 2.00000e+00 5.00000e+00 ... 0.00000e+00 4.34130e+05\n",
            "  2.73300e+01]]\n"
          ]
        }
      ]
    },
    {
      "cell_type": "code",
      "source": [
        "y = np.array(df3[\"suicides_no\"])\n",
        "print(\"Shape of y:\",y.shape)\n",
        "print(y)"
      ],
      "metadata": {
        "colab": {
          "base_uri": "https://localhost:8080/"
        },
        "id": "luMeStdy8tBm",
        "outputId": "1a459ca7-216b-4b08-f955-e342728cd4a0"
      },
      "execution_count": 77,
      "outputs": [
        {
          "output_type": "stream",
          "name": "stdout",
          "text": [
            "Shape of y: (22820,)\n",
            "[ 9 25  1 ... 25 19 25]\n"
          ]
        }
      ]
    },
    {
      "cell_type": "code",
      "source": [
        "size = X.shape[0]\n",
        "X_train = X[:int(0.7 * size),:]\n",
        "X_test = X[int(0.7 * size):,:]\n",
        "y_train = y[:int(0.7 * size)]\n",
        "y_test = y[int(0.7 * size):]"
      ],
      "metadata": {
        "id": "F_NePVjn8y8E"
      },
      "execution_count": 78,
      "outputs": []
    },
    {
      "cell_type": "code",
      "source": [
        "\n",
        "#Standardizing the X_train and X_test daatsets\n",
        "mu = np.mean(X_train, 0)\n",
        "sigma = np.std(X_train, 0)\n",
        "\n",
        "X_train = (X_train - mu ) / sigma\n",
        "\n",
        "#We use the same mean and SD as the one of X_train as we dont know the mean of X_test\n",
        "X_test = (X_test - mu ) / sigma\n",
        "\n",
        "#Standardizing the y_train data\n",
        "mu_y = np.mean(y_train, 0)\n",
        "sigma_y = np.std(y_train, 0, ddof = 0)\n",
        "\n",
        "y_train = (y_train - mu_y ) / sigma_y"
      ],
      "metadata": {
        "id": "crU8FmZZSQBo"
      },
      "execution_count": 79,
      "outputs": []
    },
    {
      "cell_type": "code",
      "source": [
        "print(X_train.shape)\n",
        "print(X_test.shape)\n",
        "print(y_train.shape)\n",
        "print(y_test.shape)\n"
      ],
      "metadata": {
        "colab": {
          "base_uri": "https://localhost:8080/"
        },
        "id": "r3TtKQee82ye",
        "outputId": "43193bd7-af73-4408-a73a-ebd792aed6ec"
      },
      "execution_count": 80,
      "outputs": [
        {
          "output_type": "stream",
          "name": "stdout",
          "text": [
            "(15973, 8)\n",
            "(6847, 8)\n",
            "(15973,)\n",
            "(6847,)\n"
          ]
        }
      ]
    },
    {
      "cell_type": "code",
      "source": [
        "y_train = y_train.reshape(len(y_train),1)\n",
        "y_test = y_test.reshape(len(y_test),1)\n",
        "y_pred = np.zeros(y_test.shape)\n",
        "y_train.shape, y_test.shape,y_pred.shape"
      ],
      "metadata": {
        "colab": {
          "base_uri": "https://localhost:8080/"
        },
        "id": "BBxOSBJR85I4",
        "outputId": "6e777566-1afb-43e6-8640-026a3dcda7f3"
      },
      "execution_count": 81,
      "outputs": [
        {
          "output_type": "execute_result",
          "data": {
            "text/plain": [
              "((15973, 1), (6847, 1), (6847, 1))"
            ]
          },
          "metadata": {},
          "execution_count": 81
        }
      ]
    },
    {
      "cell_type": "code",
      "source": [
        "n_neigh = 3\n",
        "for row in range(len(X_test)):\n",
        "    euclidian_distance = np.sqrt(np.sum((X_train - X_test[row])**2, axis = 1 ))\n",
        "    y_pred[row] = np.mean(y_train[np.argsort(euclidian_distance, axis = 0)[:n_neigh]])* sigma_y + mu_y\n",
        "    \n",
        "#Finding the root mean squared error \n",
        "\n",
        "RMSE = np.sqrt(np.mean((y_pred - y_test)**2))\n",
        "print(RMSE)"
      ],
      "metadata": {
        "colab": {
          "base_uri": "https://localhost:8080/"
        },
        "id": "79afjEQa87bq",
        "outputId": "1c6ee1af-e67b-41f5-d5df-8d71858de785"
      },
      "execution_count": 82,
      "outputs": [
        {
          "output_type": "stream",
          "name": "stdout",
          "text": [
            "9.385241675452741\n"
          ]
        }
      ]
    },
    {
      "cell_type": "code",
      "source": [
        "# Calculate mean absolute error\n",
        "mae = np.mean(np.abs(y_test - y_pred))\n",
        "\n",
        "print(\"Mean Absolute Error:\", mae)"
      ],
      "metadata": {
        "id": "Hnc_F49y895O",
        "colab": {
          "base_uri": "https://localhost:8080/"
        },
        "outputId": "bd2ac12c-e6d9-4154-e5cf-34fe1ab2183e"
      },
      "execution_count": 83,
      "outputs": [
        {
          "output_type": "stream",
          "name": "stdout",
          "text": [
            "Mean Absolute Error: 5.459325251935154\n"
          ]
        }
      ]
    },
    {
      "cell_type": "code",
      "source": [
        "# We are setting a range of K values and calculating the RMSE for each of them. This way we can chose the optimal K value\n",
        "k_list = [x for x in range(1,50,1)]\n",
        "\n",
        "# Calculating the distance matrix using numpy broadcasting technique \n",
        "distance = np.sqrt(((X_train[:, :, None] - X_test[:, :, None].T) ** 2).sum(1))\n",
        "\n",
        "#Sorting each data points of the distance matrix to reduce computational effort \n",
        "sorted_distance = np.argsort(distance, axis = 0)\n",
        "\n",
        "#The knn function takes in the sorted distance and returns the RMSE of the \n",
        "def knn(X_train,X_test,y_train,y_test,sorted_distance,k):\n",
        "    y_pred = np.zeros(y_test.shape)\n",
        "    for row in range(len(X_test)):\n",
        "        \n",
        "        #Transforming the y_train values to adjust the scale. \n",
        "        y_pred[row] = np.mean(y_train[sorted_distance[:,row][:k]])* sigma_y + mu_y\n",
        "\n",
        "    RMSE = np.sqrt(np.mean((y_test - y_pred)**2))\n",
        "    return RMSE\n",
        "\n",
        "#Storing the RMSE values in a list for each k value \n",
        "rmse_list = []\n",
        "for i in k_list:\n",
        "    rmse_list.append(knn(X_train,X_test,y_train,y_test,sorted_distance,i))"
      ],
      "metadata": {
        "id": "IM6IzPZ88QcP"
      },
      "execution_count": 84,
      "outputs": []
    },
    {
      "cell_type": "code",
      "source": [
        "#Finding the optimal K value\n",
        "min_rmse_k_value = k_list[rmse_list.index(min(rmse_list))]\n",
        "\n",
        "#Finding the lowest possible RMSE\n",
        "optimal_RMSE = knn(X_train,X_test,y_train,y_test,sorted_distance,min_rmse_k_value)\n",
        "optimal_RMSE"
      ],
      "metadata": {
        "colab": {
          "base_uri": "https://localhost:8080/"
        },
        "id": "-1-ARwfD8SwD",
        "outputId": "d570c1bb-705e-4e8a-8fba-435175e3068c"
      },
      "execution_count": 85,
      "outputs": [
        {
          "output_type": "execute_result",
          "data": {
            "text/plain": [
              "9.351115395255677"
            ]
          },
          "metadata": {},
          "execution_count": 85
        }
      ]
    },
    {
      "cell_type": "code",
      "source": [
        "min_rmse_k_value"
      ],
      "metadata": {
        "colab": {
          "base_uri": "https://localhost:8080/"
        },
        "id": "5xXii00j8b26",
        "outputId": "660498fc-f710-4903-bf2d-815a2266ca30"
      },
      "execution_count": 86,
      "outputs": [
        {
          "output_type": "execute_result",
          "data": {
            "text/plain": [
              "5"
            ]
          },
          "metadata": {},
          "execution_count": 86
        }
      ]
    },
    {
      "cell_type": "code",
      "source": [
        "from sklearn.metrics import mean_squared_error\n",
        "from sklearn.metrics import r2_score,mean_absolute_error\n",
        "\n",
        "print(np.sqrt(mean_squared_error(y_test,y_pred))) \n",
        "r2scr = print(r2_score(y_test, y_pred))\n",
        "print(mean_absolute_error(y_test, y_pred))"
      ],
      "metadata": {
        "colab": {
          "base_uri": "https://localhost:8080/"
        },
        "id": "murU6j3l8eYr",
        "outputId": "d340c2d4-2147-4022-aa29-1676ddc8d311"
      },
      "execution_count": 87,
      "outputs": [
        {
          "output_type": "stream",
          "name": "stdout",
          "text": [
            "9.385241675452741\n",
            "0.5398978738061104\n",
            "5.459325251935154\n"
          ]
        }
      ]
    },
    {
      "cell_type": "code",
      "source": [
        "from sklearn.neighbors import KNeighborsRegressor\n",
        "RegModel = KNeighborsRegressor(n_neighbors=3)\n"
      ],
      "metadata": {
        "id": "rUy2wAlP8g6r"
      },
      "execution_count": 88,
      "outputs": []
    },
    {
      "cell_type": "code",
      "source": [
        "from sklearn.model_selection import GridSearchCV\n",
        "param={'n_neighbors': range(1,50)}\n",
        "grid_kn=GridSearchCV(estimator=RegModel,param_grid=param,scoring='neg_mean_squared_error',cv=5,verbose=1,n_jobs=-1)\n",
        "grid_kn.fit(X_train,y_train)\n",
        "print('Best K For Model is: ',grid_kn.best_params_)\n",
        "print('Best Score is: ',grid_kn.best_score_)"
      ],
      "metadata": {
        "colab": {
          "base_uri": "https://localhost:8080/"
        },
        "id": "XiJpz4it8mpi",
        "outputId": "878924ac-3d97-4228-963d-0ad6eca603ab"
      },
      "execution_count": 89,
      "outputs": [
        {
          "output_type": "stream",
          "name": "stdout",
          "text": [
            "Fitting 5 folds for each of 49 candidates, totalling 245 fits\n",
            "Best K For Model is:  {'n_neighbors': 6}\n",
            "Best Score is:  -0.4833444066905678\n"
          ]
        }
      ]
    },
    {
      "cell_type": "code",
      "source": [
        "RegModel = KNeighborsRegressor(n_neighbors=30)"
      ],
      "metadata": {
        "id": "KORnZBSG8oYk"
      },
      "execution_count": 90,
      "outputs": []
    },
    {
      "cell_type": "code",
      "source": [
        "KNN=RegModel.fit(X_train,y_train)\n",
        "prediction=KNN.predict(X_test)"
      ],
      "metadata": {
        "id": "ib53HDyc8ynF"
      },
      "execution_count": 91,
      "outputs": []
    },
    {
      "cell_type": "code",
      "source": [
        "from sklearn.metrics import mean_squared_error\n",
        "from sklearn.metrics import r2_score,mean_absolute_error\n",
        "\n",
        "print(np.sqrt(mean_squared_error(y_test,y_pred))) \n",
        "r2scr = print(r2_score(y_test, y_pred))\n",
        "print(mean_absolute_error(y_test, y_pred))"
      ],
      "metadata": {
        "colab": {
          "base_uri": "https://localhost:8080/"
        },
        "id": "bAynA8Dn81GA",
        "outputId": "203621fa-9ae6-4af7-c9e6-669ef1d1dcdc"
      },
      "execution_count": 92,
      "outputs": [
        {
          "output_type": "stream",
          "name": "stdout",
          "text": [
            "9.385241675452741\n",
            "0.5398978738061104\n",
            "5.459325251935154\n"
          ]
        }
      ]
    },
    {
      "cell_type": "code",
      "source": [
        "from sklearn import metrics\n",
        "# Measuring Goodness of fit in Training data\n",
        "print('R2 Value:',metrics.r2_score(y_train, KNN.predict(X_train)))"
      ],
      "metadata": {
        "colab": {
          "base_uri": "https://localhost:8080/"
        },
        "id": "DJNTIPG_84mt",
        "outputId": "be0f689d-31ae-418b-f4fd-1e6439ae8d2c"
      },
      "execution_count": 93,
      "outputs": [
        {
          "output_type": "stream",
          "name": "stdout",
          "text": [
            "R2 Value: 0.5368206683772871\n"
          ]
        }
      ]
    },
    {
      "cell_type": "code",
      "source": [],
      "metadata": {
        "id": "6VbfnwbB87d7"
      },
      "execution_count": 93,
      "outputs": []
    }
  ]
}
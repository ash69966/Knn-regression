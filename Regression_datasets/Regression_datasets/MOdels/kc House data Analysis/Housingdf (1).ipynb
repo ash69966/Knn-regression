{
  "nbformat": 4,
  "nbformat_minor": 0,
  "metadata": {
    "colab": {
      "provenance": []
    },
    "kernelspec": {
      "name": "python3",
      "display_name": "Python 3"
    },
    "language_info": {
      "name": "python"
    }
  },
  "cells": [
    {
      "cell_type": "code",
      "execution_count": null,
      "metadata": {
        "id": "PoD4gsfa-Dib"
      },
      "outputs": [],
      "source": [
        "%matplotlib inline \n",
        "\n",
        "import pandas as pd\n",
        "import numpy as np\n",
        "import matplotlib.pyplot as plt\n",
        "import seaborn as sns\n",
        "\n",
        "import warnings\n",
        "warnings.filterwarnings(action='ignore')"
      ]
    },
    {
      "cell_type": "code",
      "source": [
        "df1 = pd.read_csv(\"/content/house(1).csv\")\n",
        "df2 = pd.read_csv(\"/content/house(2).csv\")\n",
        "\n",
        "df1"
      ],
      "metadata": {
        "colab": {
          "base_uri": "https://localhost:8080/",
          "height": 423
        },
        "id": "su50Fy9Z-mwj",
        "outputId": "6d96bb17-a3cf-4d54-98bc-304b9c41cff4"
      },
      "execution_count": null,
      "outputs": [
        {
          "output_type": "execute_result",
          "data": {
            "text/plain": [
              "               id  sqft_basement  yr_built  yr_renovated  zipcode      lat  \\\n",
              "0      7129300520              0      1955             0    98178  47.5112   \n",
              "1      6414100192            400      1951          1991    98125  47.7210   \n",
              "2      5631500400              0      1933             0    98028  47.7379   \n",
              "3      2487200875            910      1965             0    98136  47.5208   \n",
              "4      1954400510              0      1987             0    98074  47.6168   \n",
              "...           ...            ...       ...           ...      ...      ...   \n",
              "21608   263000018              0      2009             0    98103  47.6993   \n",
              "21609  6600060120              0      2014             0    98146  47.5107   \n",
              "21610  1523300141              0      2009             0    98144  47.5944   \n",
              "21611   291310100              0      2004             0    98027  47.5345   \n",
              "21612  1523300157              0      2008             0    98144  47.5941   \n",
              "\n",
              "          long  sqft_living15  sqft_lot15  \n",
              "0     -122.257           1340        5650  \n",
              "1     -122.319           1690        7639  \n",
              "2     -122.233           2720        8062  \n",
              "3     -122.393           1360        5000  \n",
              "4     -122.045           1800        7503  \n",
              "...        ...            ...         ...  \n",
              "21608 -122.346           1530        1509  \n",
              "21609 -122.362           1830        7200  \n",
              "21610 -122.299           1020        2007  \n",
              "21611 -122.069           1410        1287  \n",
              "21612 -122.299           1020        1357  \n",
              "\n",
              "[21613 rows x 9 columns]"
            ],
            "text/html": [
              "\n",
              "  <div id=\"df-9eef826a-120d-4dbc-9492-13a4830d2228\">\n",
              "    <div class=\"colab-df-container\">\n",
              "      <div>\n",
              "<style scoped>\n",
              "    .dataframe tbody tr th:only-of-type {\n",
              "        vertical-align: middle;\n",
              "    }\n",
              "\n",
              "    .dataframe tbody tr th {\n",
              "        vertical-align: top;\n",
              "    }\n",
              "\n",
              "    .dataframe thead th {\n",
              "        text-align: right;\n",
              "    }\n",
              "</style>\n",
              "<table border=\"1\" class=\"dataframe\">\n",
              "  <thead>\n",
              "    <tr style=\"text-align: right;\">\n",
              "      <th></th>\n",
              "      <th>id</th>\n",
              "      <th>sqft_basement</th>\n",
              "      <th>yr_built</th>\n",
              "      <th>yr_renovated</th>\n",
              "      <th>zipcode</th>\n",
              "      <th>lat</th>\n",
              "      <th>long</th>\n",
              "      <th>sqft_living15</th>\n",
              "      <th>sqft_lot15</th>\n",
              "    </tr>\n",
              "  </thead>\n",
              "  <tbody>\n",
              "    <tr>\n",
              "      <th>0</th>\n",
              "      <td>7129300520</td>\n",
              "      <td>0</td>\n",
              "      <td>1955</td>\n",
              "      <td>0</td>\n",
              "      <td>98178</td>\n",
              "      <td>47.5112</td>\n",
              "      <td>-122.257</td>\n",
              "      <td>1340</td>\n",
              "      <td>5650</td>\n",
              "    </tr>\n",
              "    <tr>\n",
              "      <th>1</th>\n",
              "      <td>6414100192</td>\n",
              "      <td>400</td>\n",
              "      <td>1951</td>\n",
              "      <td>1991</td>\n",
              "      <td>98125</td>\n",
              "      <td>47.7210</td>\n",
              "      <td>-122.319</td>\n",
              "      <td>1690</td>\n",
              "      <td>7639</td>\n",
              "    </tr>\n",
              "    <tr>\n",
              "      <th>2</th>\n",
              "      <td>5631500400</td>\n",
              "      <td>0</td>\n",
              "      <td>1933</td>\n",
              "      <td>0</td>\n",
              "      <td>98028</td>\n",
              "      <td>47.7379</td>\n",
              "      <td>-122.233</td>\n",
              "      <td>2720</td>\n",
              "      <td>8062</td>\n",
              "    </tr>\n",
              "    <tr>\n",
              "      <th>3</th>\n",
              "      <td>2487200875</td>\n",
              "      <td>910</td>\n",
              "      <td>1965</td>\n",
              "      <td>0</td>\n",
              "      <td>98136</td>\n",
              "      <td>47.5208</td>\n",
              "      <td>-122.393</td>\n",
              "      <td>1360</td>\n",
              "      <td>5000</td>\n",
              "    </tr>\n",
              "    <tr>\n",
              "      <th>4</th>\n",
              "      <td>1954400510</td>\n",
              "      <td>0</td>\n",
              "      <td>1987</td>\n",
              "      <td>0</td>\n",
              "      <td>98074</td>\n",
              "      <td>47.6168</td>\n",
              "      <td>-122.045</td>\n",
              "      <td>1800</td>\n",
              "      <td>7503</td>\n",
              "    </tr>\n",
              "    <tr>\n",
              "      <th>...</th>\n",
              "      <td>...</td>\n",
              "      <td>...</td>\n",
              "      <td>...</td>\n",
              "      <td>...</td>\n",
              "      <td>...</td>\n",
              "      <td>...</td>\n",
              "      <td>...</td>\n",
              "      <td>...</td>\n",
              "      <td>...</td>\n",
              "    </tr>\n",
              "    <tr>\n",
              "      <th>21608</th>\n",
              "      <td>263000018</td>\n",
              "      <td>0</td>\n",
              "      <td>2009</td>\n",
              "      <td>0</td>\n",
              "      <td>98103</td>\n",
              "      <td>47.6993</td>\n",
              "      <td>-122.346</td>\n",
              "      <td>1530</td>\n",
              "      <td>1509</td>\n",
              "    </tr>\n",
              "    <tr>\n",
              "      <th>21609</th>\n",
              "      <td>6600060120</td>\n",
              "      <td>0</td>\n",
              "      <td>2014</td>\n",
              "      <td>0</td>\n",
              "      <td>98146</td>\n",
              "      <td>47.5107</td>\n",
              "      <td>-122.362</td>\n",
              "      <td>1830</td>\n",
              "      <td>7200</td>\n",
              "    </tr>\n",
              "    <tr>\n",
              "      <th>21610</th>\n",
              "      <td>1523300141</td>\n",
              "      <td>0</td>\n",
              "      <td>2009</td>\n",
              "      <td>0</td>\n",
              "      <td>98144</td>\n",
              "      <td>47.5944</td>\n",
              "      <td>-122.299</td>\n",
              "      <td>1020</td>\n",
              "      <td>2007</td>\n",
              "    </tr>\n",
              "    <tr>\n",
              "      <th>21611</th>\n",
              "      <td>291310100</td>\n",
              "      <td>0</td>\n",
              "      <td>2004</td>\n",
              "      <td>0</td>\n",
              "      <td>98027</td>\n",
              "      <td>47.5345</td>\n",
              "      <td>-122.069</td>\n",
              "      <td>1410</td>\n",
              "      <td>1287</td>\n",
              "    </tr>\n",
              "    <tr>\n",
              "      <th>21612</th>\n",
              "      <td>1523300157</td>\n",
              "      <td>0</td>\n",
              "      <td>2008</td>\n",
              "      <td>0</td>\n",
              "      <td>98144</td>\n",
              "      <td>47.5941</td>\n",
              "      <td>-122.299</td>\n",
              "      <td>1020</td>\n",
              "      <td>1357</td>\n",
              "    </tr>\n",
              "  </tbody>\n",
              "</table>\n",
              "<p>21613 rows × 9 columns</p>\n",
              "</div>\n",
              "      <button class=\"colab-df-convert\" onclick=\"convertToInteractive('df-9eef826a-120d-4dbc-9492-13a4830d2228')\"\n",
              "              title=\"Convert this dataframe to an interactive table.\"\n",
              "              style=\"display:none;\">\n",
              "        \n",
              "  <svg xmlns=\"http://www.w3.org/2000/svg\" height=\"24px\"viewBox=\"0 0 24 24\"\n",
              "       width=\"24px\">\n",
              "    <path d=\"M0 0h24v24H0V0z\" fill=\"none\"/>\n",
              "    <path d=\"M18.56 5.44l.94 2.06.94-2.06 2.06-.94-2.06-.94-.94-2.06-.94 2.06-2.06.94zm-11 1L8.5 8.5l.94-2.06 2.06-.94-2.06-.94L8.5 2.5l-.94 2.06-2.06.94zm10 10l.94 2.06.94-2.06 2.06-.94-2.06-.94-.94-2.06-.94 2.06-2.06.94z\"/><path d=\"M17.41 7.96l-1.37-1.37c-.4-.4-.92-.59-1.43-.59-.52 0-1.04.2-1.43.59L10.3 9.45l-7.72 7.72c-.78.78-.78 2.05 0 2.83L4 21.41c.39.39.9.59 1.41.59.51 0 1.02-.2 1.41-.59l7.78-7.78 2.81-2.81c.8-.78.8-2.07 0-2.86zM5.41 20L4 18.59l7.72-7.72 1.47 1.35L5.41 20z\"/>\n",
              "  </svg>\n",
              "      </button>\n",
              "      \n",
              "  <style>\n",
              "    .colab-df-container {\n",
              "      display:flex;\n",
              "      flex-wrap:wrap;\n",
              "      gap: 12px;\n",
              "    }\n",
              "\n",
              "    .colab-df-convert {\n",
              "      background-color: #E8F0FE;\n",
              "      border: none;\n",
              "      border-radius: 50%;\n",
              "      cursor: pointer;\n",
              "      display: none;\n",
              "      fill: #1967D2;\n",
              "      height: 32px;\n",
              "      padding: 0 0 0 0;\n",
              "      width: 32px;\n",
              "    }\n",
              "\n",
              "    .colab-df-convert:hover {\n",
              "      background-color: #E2EBFA;\n",
              "      box-shadow: 0px 1px 2px rgba(60, 64, 67, 0.3), 0px 1px 3px 1px rgba(60, 64, 67, 0.15);\n",
              "      fill: #174EA6;\n",
              "    }\n",
              "\n",
              "    [theme=dark] .colab-df-convert {\n",
              "      background-color: #3B4455;\n",
              "      fill: #D2E3FC;\n",
              "    }\n",
              "\n",
              "    [theme=dark] .colab-df-convert:hover {\n",
              "      background-color: #434B5C;\n",
              "      box-shadow: 0px 1px 3px 1px rgba(0, 0, 0, 0.15);\n",
              "      filter: drop-shadow(0px 1px 2px rgba(0, 0, 0, 0.3));\n",
              "      fill: #FFFFFF;\n",
              "    }\n",
              "  </style>\n",
              "\n",
              "      <script>\n",
              "        const buttonEl =\n",
              "          document.querySelector('#df-9eef826a-120d-4dbc-9492-13a4830d2228 button.colab-df-convert');\n",
              "        buttonEl.style.display =\n",
              "          google.colab.kernel.accessAllowed ? 'block' : 'none';\n",
              "\n",
              "        async function convertToInteractive(key) {\n",
              "          const element = document.querySelector('#df-9eef826a-120d-4dbc-9492-13a4830d2228');\n",
              "          const dataTable =\n",
              "            await google.colab.kernel.invokeFunction('convertToInteractive',\n",
              "                                                     [key], {});\n",
              "          if (!dataTable) return;\n",
              "\n",
              "          const docLinkHtml = 'Like what you see? Visit the ' +\n",
              "            '<a target=\"_blank\" href=https://colab.research.google.com/notebooks/data_table.ipynb>data table notebook</a>'\n",
              "            + ' to learn more about interactive tables.';\n",
              "          element.innerHTML = '';\n",
              "          dataTable['output_type'] = 'display_data';\n",
              "          await google.colab.output.renderOutput(dataTable, element);\n",
              "          const docLink = document.createElement('div');\n",
              "          docLink.innerHTML = docLinkHtml;\n",
              "          element.appendChild(docLink);\n",
              "        }\n",
              "      </script>\n",
              "    </div>\n",
              "  </div>\n",
              "  "
            ]
          },
          "metadata": {},
          "execution_count": 947
        }
      ]
    },
    {
      "cell_type": "code",
      "source": [
        "df2"
      ],
      "metadata": {
        "colab": {
          "base_uri": "https://localhost:8080/",
          "height": 423
        },
        "id": "ypwqoGGr-urD",
        "outputId": "759310de-a264-4b10-ba20-c641047a3fa7"
      },
      "execution_count": null,
      "outputs": [
        {
          "output_type": "execute_result",
          "data": {
            "text/plain": [
              "               id             date     price  bedrooms  bathrooms  \\\n",
              "0      7129300520  20141013T000000  221900.0       3.0        NaN   \n",
              "1      6414100192  20141209T000000  538000.0       3.0       2.25   \n",
              "2      5631500400  20150225T000000  180000.0       2.0        NaN   \n",
              "3      2487200875  20141209T000000  604000.0       4.0        NaN   \n",
              "4      1954400510  20150218T000000  510000.0       3.0       2.00   \n",
              "...           ...              ...       ...       ...        ...   \n",
              "21608   263000018  20140521T000000  360000.0       3.0        NaN   \n",
              "21609  6600060120  20150223T000000  400000.0       4.0       2.50   \n",
              "21610  1523300141  20140623T000000  402101.0       NaN        NaN   \n",
              "21611   291310100  20150116T000000  400000.0       3.0       2.50   \n",
              "21612  1523300157  20141015T000000  325000.0       2.0       0.75   \n",
              "\n",
              "       sqft_living  sqft_lot  floors waterfront  view  condition  grade  \\\n",
              "0             1180      5650     NaN          0     0          3      7   \n",
              "1             2570      7242     2.0          0     0          3      7   \n",
              "2              770     10000     NaN          0     0          3      6   \n",
              "3             1960      5000     NaN          0     0          5      7   \n",
              "4             1680      8080     1.0          0     0          3      8   \n",
              "...            ...       ...     ...        ...   ...        ...    ...   \n",
              "21608         1530      1131     3.0          0     0          3      8   \n",
              "21609         2310      5813     2.0          0     0          3      8   \n",
              "21610         1020      1350     2.0          0     0          3      7   \n",
              "21611         1600      2388     2.0          0     0          3      8   \n",
              "21612         1020      1076     2.0          0     0          3      7   \n",
              "\n",
              "       sqft_above  \n",
              "0            1180  \n",
              "1            2170  \n",
              "2             770  \n",
              "3            1050  \n",
              "4            1680  \n",
              "...           ...  \n",
              "21608        1530  \n",
              "21609        2310  \n",
              "21610        1020  \n",
              "21611        1600  \n",
              "21612        1020  \n",
              "\n",
              "[21613 rows x 13 columns]"
            ],
            "text/html": [
              "\n",
              "  <div id=\"df-71acf611-44fc-4536-9ced-c7c58effead7\">\n",
              "    <div class=\"colab-df-container\">\n",
              "      <div>\n",
              "<style scoped>\n",
              "    .dataframe tbody tr th:only-of-type {\n",
              "        vertical-align: middle;\n",
              "    }\n",
              "\n",
              "    .dataframe tbody tr th {\n",
              "        vertical-align: top;\n",
              "    }\n",
              "\n",
              "    .dataframe thead th {\n",
              "        text-align: right;\n",
              "    }\n",
              "</style>\n",
              "<table border=\"1\" class=\"dataframe\">\n",
              "  <thead>\n",
              "    <tr style=\"text-align: right;\">\n",
              "      <th></th>\n",
              "      <th>id</th>\n",
              "      <th>date</th>\n",
              "      <th>price</th>\n",
              "      <th>bedrooms</th>\n",
              "      <th>bathrooms</th>\n",
              "      <th>sqft_living</th>\n",
              "      <th>sqft_lot</th>\n",
              "      <th>floors</th>\n",
              "      <th>waterfront</th>\n",
              "      <th>view</th>\n",
              "      <th>condition</th>\n",
              "      <th>grade</th>\n",
              "      <th>sqft_above</th>\n",
              "    </tr>\n",
              "  </thead>\n",
              "  <tbody>\n",
              "    <tr>\n",
              "      <th>0</th>\n",
              "      <td>7129300520</td>\n",
              "      <td>20141013T000000</td>\n",
              "      <td>221900.0</td>\n",
              "      <td>3.0</td>\n",
              "      <td>NaN</td>\n",
              "      <td>1180</td>\n",
              "      <td>5650</td>\n",
              "      <td>NaN</td>\n",
              "      <td>0</td>\n",
              "      <td>0</td>\n",
              "      <td>3</td>\n",
              "      <td>7</td>\n",
              "      <td>1180</td>\n",
              "    </tr>\n",
              "    <tr>\n",
              "      <th>1</th>\n",
              "      <td>6414100192</td>\n",
              "      <td>20141209T000000</td>\n",
              "      <td>538000.0</td>\n",
              "      <td>3.0</td>\n",
              "      <td>2.25</td>\n",
              "      <td>2570</td>\n",
              "      <td>7242</td>\n",
              "      <td>2.0</td>\n",
              "      <td>0</td>\n",
              "      <td>0</td>\n",
              "      <td>3</td>\n",
              "      <td>7</td>\n",
              "      <td>2170</td>\n",
              "    </tr>\n",
              "    <tr>\n",
              "      <th>2</th>\n",
              "      <td>5631500400</td>\n",
              "      <td>20150225T000000</td>\n",
              "      <td>180000.0</td>\n",
              "      <td>2.0</td>\n",
              "      <td>NaN</td>\n",
              "      <td>770</td>\n",
              "      <td>10000</td>\n",
              "      <td>NaN</td>\n",
              "      <td>0</td>\n",
              "      <td>0</td>\n",
              "      <td>3</td>\n",
              "      <td>6</td>\n",
              "      <td>770</td>\n",
              "    </tr>\n",
              "    <tr>\n",
              "      <th>3</th>\n",
              "      <td>2487200875</td>\n",
              "      <td>20141209T000000</td>\n",
              "      <td>604000.0</td>\n",
              "      <td>4.0</td>\n",
              "      <td>NaN</td>\n",
              "      <td>1960</td>\n",
              "      <td>5000</td>\n",
              "      <td>NaN</td>\n",
              "      <td>0</td>\n",
              "      <td>0</td>\n",
              "      <td>5</td>\n",
              "      <td>7</td>\n",
              "      <td>1050</td>\n",
              "    </tr>\n",
              "    <tr>\n",
              "      <th>4</th>\n",
              "      <td>1954400510</td>\n",
              "      <td>20150218T000000</td>\n",
              "      <td>510000.0</td>\n",
              "      <td>3.0</td>\n",
              "      <td>2.00</td>\n",
              "      <td>1680</td>\n",
              "      <td>8080</td>\n",
              "      <td>1.0</td>\n",
              "      <td>0</td>\n",
              "      <td>0</td>\n",
              "      <td>3</td>\n",
              "      <td>8</td>\n",
              "      <td>1680</td>\n",
              "    </tr>\n",
              "    <tr>\n",
              "      <th>...</th>\n",
              "      <td>...</td>\n",
              "      <td>...</td>\n",
              "      <td>...</td>\n",
              "      <td>...</td>\n",
              "      <td>...</td>\n",
              "      <td>...</td>\n",
              "      <td>...</td>\n",
              "      <td>...</td>\n",
              "      <td>...</td>\n",
              "      <td>...</td>\n",
              "      <td>...</td>\n",
              "      <td>...</td>\n",
              "      <td>...</td>\n",
              "    </tr>\n",
              "    <tr>\n",
              "      <th>21608</th>\n",
              "      <td>263000018</td>\n",
              "      <td>20140521T000000</td>\n",
              "      <td>360000.0</td>\n",
              "      <td>3.0</td>\n",
              "      <td>NaN</td>\n",
              "      <td>1530</td>\n",
              "      <td>1131</td>\n",
              "      <td>3.0</td>\n",
              "      <td>0</td>\n",
              "      <td>0</td>\n",
              "      <td>3</td>\n",
              "      <td>8</td>\n",
              "      <td>1530</td>\n",
              "    </tr>\n",
              "    <tr>\n",
              "      <th>21609</th>\n",
              "      <td>6600060120</td>\n",
              "      <td>20150223T000000</td>\n",
              "      <td>400000.0</td>\n",
              "      <td>4.0</td>\n",
              "      <td>2.50</td>\n",
              "      <td>2310</td>\n",
              "      <td>5813</td>\n",
              "      <td>2.0</td>\n",
              "      <td>0</td>\n",
              "      <td>0</td>\n",
              "      <td>3</td>\n",
              "      <td>8</td>\n",
              "      <td>2310</td>\n",
              "    </tr>\n",
              "    <tr>\n",
              "      <th>21610</th>\n",
              "      <td>1523300141</td>\n",
              "      <td>20140623T000000</td>\n",
              "      <td>402101.0</td>\n",
              "      <td>NaN</td>\n",
              "      <td>NaN</td>\n",
              "      <td>1020</td>\n",
              "      <td>1350</td>\n",
              "      <td>2.0</td>\n",
              "      <td>0</td>\n",
              "      <td>0</td>\n",
              "      <td>3</td>\n",
              "      <td>7</td>\n",
              "      <td>1020</td>\n",
              "    </tr>\n",
              "    <tr>\n",
              "      <th>21611</th>\n",
              "      <td>291310100</td>\n",
              "      <td>20150116T000000</td>\n",
              "      <td>400000.0</td>\n",
              "      <td>3.0</td>\n",
              "      <td>2.50</td>\n",
              "      <td>1600</td>\n",
              "      <td>2388</td>\n",
              "      <td>2.0</td>\n",
              "      <td>0</td>\n",
              "      <td>0</td>\n",
              "      <td>3</td>\n",
              "      <td>8</td>\n",
              "      <td>1600</td>\n",
              "    </tr>\n",
              "    <tr>\n",
              "      <th>21612</th>\n",
              "      <td>1523300157</td>\n",
              "      <td>20141015T000000</td>\n",
              "      <td>325000.0</td>\n",
              "      <td>2.0</td>\n",
              "      <td>0.75</td>\n",
              "      <td>1020</td>\n",
              "      <td>1076</td>\n",
              "      <td>2.0</td>\n",
              "      <td>0</td>\n",
              "      <td>0</td>\n",
              "      <td>3</td>\n",
              "      <td>7</td>\n",
              "      <td>1020</td>\n",
              "    </tr>\n",
              "  </tbody>\n",
              "</table>\n",
              "<p>21613 rows × 13 columns</p>\n",
              "</div>\n",
              "      <button class=\"colab-df-convert\" onclick=\"convertToInteractive('df-71acf611-44fc-4536-9ced-c7c58effead7')\"\n",
              "              title=\"Convert this dataframe to an interactive table.\"\n",
              "              style=\"display:none;\">\n",
              "        \n",
              "  <svg xmlns=\"http://www.w3.org/2000/svg\" height=\"24px\"viewBox=\"0 0 24 24\"\n",
              "       width=\"24px\">\n",
              "    <path d=\"M0 0h24v24H0V0z\" fill=\"none\"/>\n",
              "    <path d=\"M18.56 5.44l.94 2.06.94-2.06 2.06-.94-2.06-.94-.94-2.06-.94 2.06-2.06.94zm-11 1L8.5 8.5l.94-2.06 2.06-.94-2.06-.94L8.5 2.5l-.94 2.06-2.06.94zm10 10l.94 2.06.94-2.06 2.06-.94-2.06-.94-.94-2.06-.94 2.06-2.06.94z\"/><path d=\"M17.41 7.96l-1.37-1.37c-.4-.4-.92-.59-1.43-.59-.52 0-1.04.2-1.43.59L10.3 9.45l-7.72 7.72c-.78.78-.78 2.05 0 2.83L4 21.41c.39.39.9.59 1.41.59.51 0 1.02-.2 1.41-.59l7.78-7.78 2.81-2.81c.8-.78.8-2.07 0-2.86zM5.41 20L4 18.59l7.72-7.72 1.47 1.35L5.41 20z\"/>\n",
              "  </svg>\n",
              "      </button>\n",
              "      \n",
              "  <style>\n",
              "    .colab-df-container {\n",
              "      display:flex;\n",
              "      flex-wrap:wrap;\n",
              "      gap: 12px;\n",
              "    }\n",
              "\n",
              "    .colab-df-convert {\n",
              "      background-color: #E8F0FE;\n",
              "      border: none;\n",
              "      border-radius: 50%;\n",
              "      cursor: pointer;\n",
              "      display: none;\n",
              "      fill: #1967D2;\n",
              "      height: 32px;\n",
              "      padding: 0 0 0 0;\n",
              "      width: 32px;\n",
              "    }\n",
              "\n",
              "    .colab-df-convert:hover {\n",
              "      background-color: #E2EBFA;\n",
              "      box-shadow: 0px 1px 2px rgba(60, 64, 67, 0.3), 0px 1px 3px 1px rgba(60, 64, 67, 0.15);\n",
              "      fill: #174EA6;\n",
              "    }\n",
              "\n",
              "    [theme=dark] .colab-df-convert {\n",
              "      background-color: #3B4455;\n",
              "      fill: #D2E3FC;\n",
              "    }\n",
              "\n",
              "    [theme=dark] .colab-df-convert:hover {\n",
              "      background-color: #434B5C;\n",
              "      box-shadow: 0px 1px 3px 1px rgba(0, 0, 0, 0.15);\n",
              "      filter: drop-shadow(0px 1px 2px rgba(0, 0, 0, 0.3));\n",
              "      fill: #FFFFFF;\n",
              "    }\n",
              "  </style>\n",
              "\n",
              "      <script>\n",
              "        const buttonEl =\n",
              "          document.querySelector('#df-71acf611-44fc-4536-9ced-c7c58effead7 button.colab-df-convert');\n",
              "        buttonEl.style.display =\n",
              "          google.colab.kernel.accessAllowed ? 'block' : 'none';\n",
              "\n",
              "        async function convertToInteractive(key) {\n",
              "          const element = document.querySelector('#df-71acf611-44fc-4536-9ced-c7c58effead7');\n",
              "          const dataTable =\n",
              "            await google.colab.kernel.invokeFunction('convertToInteractive',\n",
              "                                                     [key], {});\n",
              "          if (!dataTable) return;\n",
              "\n",
              "          const docLinkHtml = 'Like what you see? Visit the ' +\n",
              "            '<a target=\"_blank\" href=https://colab.research.google.com/notebooks/data_table.ipynb>data table notebook</a>'\n",
              "            + ' to learn more about interactive tables.';\n",
              "          element.innerHTML = '';\n",
              "          dataTable['output_type'] = 'display_data';\n",
              "          await google.colab.output.renderOutput(dataTable, element);\n",
              "          const docLink = document.createElement('div');\n",
              "          docLink.innerHTML = docLinkHtml;\n",
              "          element.appendChild(docLink);\n",
              "        }\n",
              "      </script>\n",
              "    </div>\n",
              "  </div>\n",
              "  "
            ]
          },
          "metadata": {},
          "execution_count": 948
        }
      ]
    },
    {
      "cell_type": "code",
      "source": [
        "df = pd.merge(df1, df2, on=['id'])"
      ],
      "metadata": {
        "id": "7AQoinIS-wNN"
      },
      "execution_count": null,
      "outputs": []
    },
    {
      "cell_type": "code",
      "source": [
        "df"
      ],
      "metadata": {
        "colab": {
          "base_uri": "https://localhost:8080/",
          "height": 487
        },
        "id": "ON0vlehp_GgX",
        "outputId": "c198c5f7-e761-4d04-f193-13eb790b54be"
      },
      "execution_count": null,
      "outputs": [
        {
          "output_type": "execute_result",
          "data": {
            "text/plain": [
              "               id  sqft_basement  yr_built  yr_renovated  zipcode      lat  \\\n",
              "0      7129300520              0      1955             0    98178  47.5112   \n",
              "1      6414100192            400      1951          1991    98125  47.7210   \n",
              "2      5631500400              0      1933             0    98028  47.7379   \n",
              "3      2487200875            910      1965             0    98136  47.5208   \n",
              "4      1954400510              0      1987             0    98074  47.6168   \n",
              "...           ...            ...       ...           ...      ...      ...   \n",
              "21964   263000018              0      2009             0    98103  47.6993   \n",
              "21965  6600060120              0      2014             0    98146  47.5107   \n",
              "21966  1523300141              0      2009             0    98144  47.5944   \n",
              "21967   291310100              0      2004             0    98027  47.5345   \n",
              "21968  1523300157              0      2008             0    98144  47.5941   \n",
              "\n",
              "          long  sqft_living15  sqft_lot15             date  ...  bedrooms  \\\n",
              "0     -122.257           1340        5650  20141013T000000  ...       3.0   \n",
              "1     -122.319           1690        7639  20141209T000000  ...       3.0   \n",
              "2     -122.233           2720        8062  20150225T000000  ...       2.0   \n",
              "3     -122.393           1360        5000  20141209T000000  ...       4.0   \n",
              "4     -122.045           1800        7503  20150218T000000  ...       3.0   \n",
              "...        ...            ...         ...              ...  ...       ...   \n",
              "21964 -122.346           1530        1509  20140521T000000  ...       3.0   \n",
              "21965 -122.362           1830        7200  20150223T000000  ...       4.0   \n",
              "21966 -122.299           1020        2007  20140623T000000  ...       NaN   \n",
              "21967 -122.069           1410        1287  20150116T000000  ...       3.0   \n",
              "21968 -122.299           1020        1357  20141015T000000  ...       2.0   \n",
              "\n",
              "       bathrooms  sqft_living  sqft_lot  floors  waterfront view  condition  \\\n",
              "0            NaN         1180      5650     NaN           0    0          3   \n",
              "1           2.25         2570      7242     2.0           0    0          3   \n",
              "2            NaN          770     10000     NaN           0    0          3   \n",
              "3            NaN         1960      5000     NaN           0    0          5   \n",
              "4           2.00         1680      8080     1.0           0    0          3   \n",
              "...          ...          ...       ...     ...         ...  ...        ...   \n",
              "21964        NaN         1530      1131     3.0           0    0          3   \n",
              "21965       2.50         2310      5813     2.0           0    0          3   \n",
              "21966        NaN         1020      1350     2.0           0    0          3   \n",
              "21967       2.50         1600      2388     2.0           0    0          3   \n",
              "21968       0.75         1020      1076     2.0           0    0          3   \n",
              "\n",
              "       grade  sqft_above  \n",
              "0          7        1180  \n",
              "1          7        2170  \n",
              "2          6         770  \n",
              "3          7        1050  \n",
              "4          8        1680  \n",
              "...      ...         ...  \n",
              "21964      8        1530  \n",
              "21965      8        2310  \n",
              "21966      7        1020  \n",
              "21967      8        1600  \n",
              "21968      7        1020  \n",
              "\n",
              "[21969 rows x 21 columns]"
            ],
            "text/html": [
              "\n",
              "  <div id=\"df-3dfe4bd6-6758-406c-a02b-60342e9d010a\">\n",
              "    <div class=\"colab-df-container\">\n",
              "      <div>\n",
              "<style scoped>\n",
              "    .dataframe tbody tr th:only-of-type {\n",
              "        vertical-align: middle;\n",
              "    }\n",
              "\n",
              "    .dataframe tbody tr th {\n",
              "        vertical-align: top;\n",
              "    }\n",
              "\n",
              "    .dataframe thead th {\n",
              "        text-align: right;\n",
              "    }\n",
              "</style>\n",
              "<table border=\"1\" class=\"dataframe\">\n",
              "  <thead>\n",
              "    <tr style=\"text-align: right;\">\n",
              "      <th></th>\n",
              "      <th>id</th>\n",
              "      <th>sqft_basement</th>\n",
              "      <th>yr_built</th>\n",
              "      <th>yr_renovated</th>\n",
              "      <th>zipcode</th>\n",
              "      <th>lat</th>\n",
              "      <th>long</th>\n",
              "      <th>sqft_living15</th>\n",
              "      <th>sqft_lot15</th>\n",
              "      <th>date</th>\n",
              "      <th>...</th>\n",
              "      <th>bedrooms</th>\n",
              "      <th>bathrooms</th>\n",
              "      <th>sqft_living</th>\n",
              "      <th>sqft_lot</th>\n",
              "      <th>floors</th>\n",
              "      <th>waterfront</th>\n",
              "      <th>view</th>\n",
              "      <th>condition</th>\n",
              "      <th>grade</th>\n",
              "      <th>sqft_above</th>\n",
              "    </tr>\n",
              "  </thead>\n",
              "  <tbody>\n",
              "    <tr>\n",
              "      <th>0</th>\n",
              "      <td>7129300520</td>\n",
              "      <td>0</td>\n",
              "      <td>1955</td>\n",
              "      <td>0</td>\n",
              "      <td>98178</td>\n",
              "      <td>47.5112</td>\n",
              "      <td>-122.257</td>\n",
              "      <td>1340</td>\n",
              "      <td>5650</td>\n",
              "      <td>20141013T000000</td>\n",
              "      <td>...</td>\n",
              "      <td>3.0</td>\n",
              "      <td>NaN</td>\n",
              "      <td>1180</td>\n",
              "      <td>5650</td>\n",
              "      <td>NaN</td>\n",
              "      <td>0</td>\n",
              "      <td>0</td>\n",
              "      <td>3</td>\n",
              "      <td>7</td>\n",
              "      <td>1180</td>\n",
              "    </tr>\n",
              "    <tr>\n",
              "      <th>1</th>\n",
              "      <td>6414100192</td>\n",
              "      <td>400</td>\n",
              "      <td>1951</td>\n",
              "      <td>1991</td>\n",
              "      <td>98125</td>\n",
              "      <td>47.7210</td>\n",
              "      <td>-122.319</td>\n",
              "      <td>1690</td>\n",
              "      <td>7639</td>\n",
              "      <td>20141209T000000</td>\n",
              "      <td>...</td>\n",
              "      <td>3.0</td>\n",
              "      <td>2.25</td>\n",
              "      <td>2570</td>\n",
              "      <td>7242</td>\n",
              "      <td>2.0</td>\n",
              "      <td>0</td>\n",
              "      <td>0</td>\n",
              "      <td>3</td>\n",
              "      <td>7</td>\n",
              "      <td>2170</td>\n",
              "    </tr>\n",
              "    <tr>\n",
              "      <th>2</th>\n",
              "      <td>5631500400</td>\n",
              "      <td>0</td>\n",
              "      <td>1933</td>\n",
              "      <td>0</td>\n",
              "      <td>98028</td>\n",
              "      <td>47.7379</td>\n",
              "      <td>-122.233</td>\n",
              "      <td>2720</td>\n",
              "      <td>8062</td>\n",
              "      <td>20150225T000000</td>\n",
              "      <td>...</td>\n",
              "      <td>2.0</td>\n",
              "      <td>NaN</td>\n",
              "      <td>770</td>\n",
              "      <td>10000</td>\n",
              "      <td>NaN</td>\n",
              "      <td>0</td>\n",
              "      <td>0</td>\n",
              "      <td>3</td>\n",
              "      <td>6</td>\n",
              "      <td>770</td>\n",
              "    </tr>\n",
              "    <tr>\n",
              "      <th>3</th>\n",
              "      <td>2487200875</td>\n",
              "      <td>910</td>\n",
              "      <td>1965</td>\n",
              "      <td>0</td>\n",
              "      <td>98136</td>\n",
              "      <td>47.5208</td>\n",
              "      <td>-122.393</td>\n",
              "      <td>1360</td>\n",
              "      <td>5000</td>\n",
              "      <td>20141209T000000</td>\n",
              "      <td>...</td>\n",
              "      <td>4.0</td>\n",
              "      <td>NaN</td>\n",
              "      <td>1960</td>\n",
              "      <td>5000</td>\n",
              "      <td>NaN</td>\n",
              "      <td>0</td>\n",
              "      <td>0</td>\n",
              "      <td>5</td>\n",
              "      <td>7</td>\n",
              "      <td>1050</td>\n",
              "    </tr>\n",
              "    <tr>\n",
              "      <th>4</th>\n",
              "      <td>1954400510</td>\n",
              "      <td>0</td>\n",
              "      <td>1987</td>\n",
              "      <td>0</td>\n",
              "      <td>98074</td>\n",
              "      <td>47.6168</td>\n",
              "      <td>-122.045</td>\n",
              "      <td>1800</td>\n",
              "      <td>7503</td>\n",
              "      <td>20150218T000000</td>\n",
              "      <td>...</td>\n",
              "      <td>3.0</td>\n",
              "      <td>2.00</td>\n",
              "      <td>1680</td>\n",
              "      <td>8080</td>\n",
              "      <td>1.0</td>\n",
              "      <td>0</td>\n",
              "      <td>0</td>\n",
              "      <td>3</td>\n",
              "      <td>8</td>\n",
              "      <td>1680</td>\n",
              "    </tr>\n",
              "    <tr>\n",
              "      <th>...</th>\n",
              "      <td>...</td>\n",
              "      <td>...</td>\n",
              "      <td>...</td>\n",
              "      <td>...</td>\n",
              "      <td>...</td>\n",
              "      <td>...</td>\n",
              "      <td>...</td>\n",
              "      <td>...</td>\n",
              "      <td>...</td>\n",
              "      <td>...</td>\n",
              "      <td>...</td>\n",
              "      <td>...</td>\n",
              "      <td>...</td>\n",
              "      <td>...</td>\n",
              "      <td>...</td>\n",
              "      <td>...</td>\n",
              "      <td>...</td>\n",
              "      <td>...</td>\n",
              "      <td>...</td>\n",
              "      <td>...</td>\n",
              "      <td>...</td>\n",
              "    </tr>\n",
              "    <tr>\n",
              "      <th>21964</th>\n",
              "      <td>263000018</td>\n",
              "      <td>0</td>\n",
              "      <td>2009</td>\n",
              "      <td>0</td>\n",
              "      <td>98103</td>\n",
              "      <td>47.6993</td>\n",
              "      <td>-122.346</td>\n",
              "      <td>1530</td>\n",
              "      <td>1509</td>\n",
              "      <td>20140521T000000</td>\n",
              "      <td>...</td>\n",
              "      <td>3.0</td>\n",
              "      <td>NaN</td>\n",
              "      <td>1530</td>\n",
              "      <td>1131</td>\n",
              "      <td>3.0</td>\n",
              "      <td>0</td>\n",
              "      <td>0</td>\n",
              "      <td>3</td>\n",
              "      <td>8</td>\n",
              "      <td>1530</td>\n",
              "    </tr>\n",
              "    <tr>\n",
              "      <th>21965</th>\n",
              "      <td>6600060120</td>\n",
              "      <td>0</td>\n",
              "      <td>2014</td>\n",
              "      <td>0</td>\n",
              "      <td>98146</td>\n",
              "      <td>47.5107</td>\n",
              "      <td>-122.362</td>\n",
              "      <td>1830</td>\n",
              "      <td>7200</td>\n",
              "      <td>20150223T000000</td>\n",
              "      <td>...</td>\n",
              "      <td>4.0</td>\n",
              "      <td>2.50</td>\n",
              "      <td>2310</td>\n",
              "      <td>5813</td>\n",
              "      <td>2.0</td>\n",
              "      <td>0</td>\n",
              "      <td>0</td>\n",
              "      <td>3</td>\n",
              "      <td>8</td>\n",
              "      <td>2310</td>\n",
              "    </tr>\n",
              "    <tr>\n",
              "      <th>21966</th>\n",
              "      <td>1523300141</td>\n",
              "      <td>0</td>\n",
              "      <td>2009</td>\n",
              "      <td>0</td>\n",
              "      <td>98144</td>\n",
              "      <td>47.5944</td>\n",
              "      <td>-122.299</td>\n",
              "      <td>1020</td>\n",
              "      <td>2007</td>\n",
              "      <td>20140623T000000</td>\n",
              "      <td>...</td>\n",
              "      <td>NaN</td>\n",
              "      <td>NaN</td>\n",
              "      <td>1020</td>\n",
              "      <td>1350</td>\n",
              "      <td>2.0</td>\n",
              "      <td>0</td>\n",
              "      <td>0</td>\n",
              "      <td>3</td>\n",
              "      <td>7</td>\n",
              "      <td>1020</td>\n",
              "    </tr>\n",
              "    <tr>\n",
              "      <th>21967</th>\n",
              "      <td>291310100</td>\n",
              "      <td>0</td>\n",
              "      <td>2004</td>\n",
              "      <td>0</td>\n",
              "      <td>98027</td>\n",
              "      <td>47.5345</td>\n",
              "      <td>-122.069</td>\n",
              "      <td>1410</td>\n",
              "      <td>1287</td>\n",
              "      <td>20150116T000000</td>\n",
              "      <td>...</td>\n",
              "      <td>3.0</td>\n",
              "      <td>2.50</td>\n",
              "      <td>1600</td>\n",
              "      <td>2388</td>\n",
              "      <td>2.0</td>\n",
              "      <td>0</td>\n",
              "      <td>0</td>\n",
              "      <td>3</td>\n",
              "      <td>8</td>\n",
              "      <td>1600</td>\n",
              "    </tr>\n",
              "    <tr>\n",
              "      <th>21968</th>\n",
              "      <td>1523300157</td>\n",
              "      <td>0</td>\n",
              "      <td>2008</td>\n",
              "      <td>0</td>\n",
              "      <td>98144</td>\n",
              "      <td>47.5941</td>\n",
              "      <td>-122.299</td>\n",
              "      <td>1020</td>\n",
              "      <td>1357</td>\n",
              "      <td>20141015T000000</td>\n",
              "      <td>...</td>\n",
              "      <td>2.0</td>\n",
              "      <td>0.75</td>\n",
              "      <td>1020</td>\n",
              "      <td>1076</td>\n",
              "      <td>2.0</td>\n",
              "      <td>0</td>\n",
              "      <td>0</td>\n",
              "      <td>3</td>\n",
              "      <td>7</td>\n",
              "      <td>1020</td>\n",
              "    </tr>\n",
              "  </tbody>\n",
              "</table>\n",
              "<p>21969 rows × 21 columns</p>\n",
              "</div>\n",
              "      <button class=\"colab-df-convert\" onclick=\"convertToInteractive('df-3dfe4bd6-6758-406c-a02b-60342e9d010a')\"\n",
              "              title=\"Convert this dataframe to an interactive table.\"\n",
              "              style=\"display:none;\">\n",
              "        \n",
              "  <svg xmlns=\"http://www.w3.org/2000/svg\" height=\"24px\"viewBox=\"0 0 24 24\"\n",
              "       width=\"24px\">\n",
              "    <path d=\"M0 0h24v24H0V0z\" fill=\"none\"/>\n",
              "    <path d=\"M18.56 5.44l.94 2.06.94-2.06 2.06-.94-2.06-.94-.94-2.06-.94 2.06-2.06.94zm-11 1L8.5 8.5l.94-2.06 2.06-.94-2.06-.94L8.5 2.5l-.94 2.06-2.06.94zm10 10l.94 2.06.94-2.06 2.06-.94-2.06-.94-.94-2.06-.94 2.06-2.06.94z\"/><path d=\"M17.41 7.96l-1.37-1.37c-.4-.4-.92-.59-1.43-.59-.52 0-1.04.2-1.43.59L10.3 9.45l-7.72 7.72c-.78.78-.78 2.05 0 2.83L4 21.41c.39.39.9.59 1.41.59.51 0 1.02-.2 1.41-.59l7.78-7.78 2.81-2.81c.8-.78.8-2.07 0-2.86zM5.41 20L4 18.59l7.72-7.72 1.47 1.35L5.41 20z\"/>\n",
              "  </svg>\n",
              "      </button>\n",
              "      \n",
              "  <style>\n",
              "    .colab-df-container {\n",
              "      display:flex;\n",
              "      flex-wrap:wrap;\n",
              "      gap: 12px;\n",
              "    }\n",
              "\n",
              "    .colab-df-convert {\n",
              "      background-color: #E8F0FE;\n",
              "      border: none;\n",
              "      border-radius: 50%;\n",
              "      cursor: pointer;\n",
              "      display: none;\n",
              "      fill: #1967D2;\n",
              "      height: 32px;\n",
              "      padding: 0 0 0 0;\n",
              "      width: 32px;\n",
              "    }\n",
              "\n",
              "    .colab-df-convert:hover {\n",
              "      background-color: #E2EBFA;\n",
              "      box-shadow: 0px 1px 2px rgba(60, 64, 67, 0.3), 0px 1px 3px 1px rgba(60, 64, 67, 0.15);\n",
              "      fill: #174EA6;\n",
              "    }\n",
              "\n",
              "    [theme=dark] .colab-df-convert {\n",
              "      background-color: #3B4455;\n",
              "      fill: #D2E3FC;\n",
              "    }\n",
              "\n",
              "    [theme=dark] .colab-df-convert:hover {\n",
              "      background-color: #434B5C;\n",
              "      box-shadow: 0px 1px 3px 1px rgba(0, 0, 0, 0.15);\n",
              "      filter: drop-shadow(0px 1px 2px rgba(0, 0, 0, 0.3));\n",
              "      fill: #FFFFFF;\n",
              "    }\n",
              "  </style>\n",
              "\n",
              "      <script>\n",
              "        const buttonEl =\n",
              "          document.querySelector('#df-3dfe4bd6-6758-406c-a02b-60342e9d010a button.colab-df-convert');\n",
              "        buttonEl.style.display =\n",
              "          google.colab.kernel.accessAllowed ? 'block' : 'none';\n",
              "\n",
              "        async function convertToInteractive(key) {\n",
              "          const element = document.querySelector('#df-3dfe4bd6-6758-406c-a02b-60342e9d010a');\n",
              "          const dataTable =\n",
              "            await google.colab.kernel.invokeFunction('convertToInteractive',\n",
              "                                                     [key], {});\n",
              "          if (!dataTable) return;\n",
              "\n",
              "          const docLinkHtml = 'Like what you see? Visit the ' +\n",
              "            '<a target=\"_blank\" href=https://colab.research.google.com/notebooks/data_table.ipynb>data table notebook</a>'\n",
              "            + ' to learn more about interactive tables.';\n",
              "          element.innerHTML = '';\n",
              "          dataTable['output_type'] = 'display_data';\n",
              "          await google.colab.output.renderOutput(dataTable, element);\n",
              "          const docLink = document.createElement('div');\n",
              "          docLink.innerHTML = docLinkHtml;\n",
              "          element.appendChild(docLink);\n",
              "        }\n",
              "      </script>\n",
              "    </div>\n",
              "  </div>\n",
              "  "
            ]
          },
          "metadata": {},
          "execution_count": 950
        }
      ]
    },
    {
      "cell_type": "code",
      "source": [
        "df.info()"
      ],
      "metadata": {
        "colab": {
          "base_uri": "https://localhost:8080/"
        },
        "id": "FPNcbnjx_PoC",
        "outputId": "b012e2f8-6399-441d-aa6a-bbdf41bc714a"
      },
      "execution_count": null,
      "outputs": [
        {
          "output_type": "stream",
          "name": "stdout",
          "text": [
            "<class 'pandas.core.frame.DataFrame'>\n",
            "Int64Index: 21969 entries, 0 to 21968\n",
            "Data columns (total 21 columns):\n",
            " #   Column         Non-Null Count  Dtype  \n",
            "---  ------         --------------  -----  \n",
            " 0   id             21969 non-null  int64  \n",
            " 1   sqft_basement  21969 non-null  int64  \n",
            " 2   yr_built       21969 non-null  int64  \n",
            " 3   yr_renovated   21969 non-null  int64  \n",
            " 4   zipcode        21969 non-null  int64  \n",
            " 5   lat            21969 non-null  float64\n",
            " 6   long           21969 non-null  float64\n",
            " 7   sqft_living15  21969 non-null  int64  \n",
            " 8   sqft_lot15     21969 non-null  int64  \n",
            " 9   date           21969 non-null  object \n",
            " 10  price          21969 non-null  float64\n",
            " 11  bedrooms       15273 non-null  float64\n",
            " 12  bathrooms      14353 non-null  float64\n",
            " 13  sqft_living    21969 non-null  int64  \n",
            " 14  sqft_lot       21969 non-null  int64  \n",
            " 15  floors         17107 non-null  float64\n",
            " 16  waterfront     21969 non-null  object \n",
            " 17  view           21969 non-null  int64  \n",
            " 18  condition      21969 non-null  int64  \n",
            " 19  grade          21969 non-null  int64  \n",
            " 20  sqft_above     21969 non-null  int64  \n",
            "dtypes: float64(6), int64(13), object(2)\n",
            "memory usage: 3.7+ MB\n"
          ]
        }
      ]
    },
    {
      "cell_type": "code",
      "source": [
        "df.isnull().sum()"
      ],
      "metadata": {
        "colab": {
          "base_uri": "https://localhost:8080/"
        },
        "id": "qNvQX013_dfj",
        "outputId": "8e3cd6c1-be7d-46dc-f575-618e605c9d52"
      },
      "execution_count": null,
      "outputs": [
        {
          "output_type": "execute_result",
          "data": {
            "text/plain": [
              "id                  0\n",
              "sqft_basement       0\n",
              "yr_built            0\n",
              "yr_renovated        0\n",
              "zipcode             0\n",
              "lat                 0\n",
              "long                0\n",
              "sqft_living15       0\n",
              "sqft_lot15          0\n",
              "date                0\n",
              "price               0\n",
              "bedrooms         6696\n",
              "bathrooms        7616\n",
              "sqft_living         0\n",
              "sqft_lot            0\n",
              "floors           4862\n",
              "waterfront          0\n",
              "view                0\n",
              "condition           0\n",
              "grade               0\n",
              "sqft_above          0\n",
              "dtype: int64"
            ]
          },
          "metadata": {},
          "execution_count": 952
        }
      ]
    },
    {
      "cell_type": "code",
      "source": [
        "df.nunique()"
      ],
      "metadata": {
        "colab": {
          "base_uri": "https://localhost:8080/"
        },
        "id": "SOb_WgZb_nWU",
        "outputId": "c0ab6c22-f830-4de4-8caa-41d1aa08333a"
      },
      "execution_count": null,
      "outputs": [
        {
          "output_type": "execute_result",
          "data": {
            "text/plain": [
              "id               21436\n",
              "sqft_basement      306\n",
              "yr_built           116\n",
              "yr_renovated        70\n",
              "zipcode             70\n",
              "lat               5034\n",
              "long               752\n",
              "sqft_living15      777\n",
              "sqft_lot15        8689\n",
              "date               372\n",
              "price             4028\n",
              "bedrooms            12\n",
              "bathrooms           30\n",
              "sqft_living       1038\n",
              "sqft_lot          9782\n",
              "floors               6\n",
              "waterfront           3\n",
              "view                 5\n",
              "condition            5\n",
              "grade               12\n",
              "sqft_above         946\n",
              "dtype: int64"
            ]
          },
          "metadata": {},
          "execution_count": 953
        }
      ]
    },
    {
      "cell_type": "code",
      "source": [
        "df['floors'].value_counts()"
      ],
      "metadata": {
        "colab": {
          "base_uri": "https://localhost:8080/"
        },
        "id": "22qCmvJg_uqZ",
        "outputId": "2e16b15f-0ec4-4f44-81fd-83056dee37d0"
      },
      "execution_count": null,
      "outputs": [
        {
          "output_type": "execute_result",
          "data": {
            "text/plain": [
              "1.0    8485\n",
              "2.0    6513\n",
              "1.5    1498\n",
              "3.0     476\n",
              "2.5     128\n",
              "3.5       7\n",
              "Name: floors, dtype: int64"
            ]
          },
          "metadata": {},
          "execution_count": 954
        }
      ]
    },
    {
      "cell_type": "code",
      "source": [
        "df['floors'].median()"
      ],
      "metadata": {
        "colab": {
          "base_uri": "https://localhost:8080/"
        },
        "id": "j5qP9Up6_5zv",
        "outputId": "d99f986f-77c5-4def-f79c-08c34e5ef7c3"
      },
      "execution_count": null,
      "outputs": [
        {
          "output_type": "execute_result",
          "data": {
            "text/plain": [
              "1.5"
            ]
          },
          "metadata": {},
          "execution_count": 955
        }
      ]
    },
    {
      "cell_type": "code",
      "source": [
        "df['bedrooms'].value_counts()"
      ],
      "metadata": {
        "colab": {
          "base_uri": "https://localhost:8080/"
        },
        "id": "OFtU-6PrAAuF",
        "outputId": "2e29a1da-f3b2-44d4-9846-518cd8130ff7"
      },
      "execution_count": null,
      "outputs": [
        {
          "output_type": "execute_result",
          "data": {
            "text/plain": [
              "3.0     6933\n",
              "4.0     4816\n",
              "2.0     1955\n",
              "5.0     1154\n",
              "6.0      212\n",
              "1.0      153\n",
              "7.0       26\n",
              "8.0        9\n",
              "0.0        9\n",
              "9.0        4\n",
              "11.0       1\n",
              "10.0       1\n",
              "Name: bedrooms, dtype: int64"
            ]
          },
          "metadata": {},
          "execution_count": 956
        }
      ]
    },
    {
      "cell_type": "code",
      "source": [
        "df['bedrooms'].median()"
      ],
      "metadata": {
        "colab": {
          "base_uri": "https://localhost:8080/"
        },
        "id": "b2XwLuODAL23",
        "outputId": "1515494f-4d17-42d1-85f4-937e8d78123a"
      },
      "execution_count": null,
      "outputs": [
        {
          "output_type": "execute_result",
          "data": {
            "text/plain": [
              "3.0"
            ]
          },
          "metadata": {},
          "execution_count": 957
        }
      ]
    },
    {
      "cell_type": "code",
      "source": [
        "df['bathrooms'].value_counts()"
      ],
      "metadata": {
        "colab": {
          "base_uri": "https://localhost:8080/"
        },
        "id": "ps-8p41SAPmA",
        "outputId": "909924d8-7676-46a1-a7a3-8d1c506d6d3e"
      },
      "execution_count": null,
      "outputs": [
        {
          "output_type": "execute_result",
          "data": {
            "text/plain": [
              "2.50    3553\n",
              "1.00    2614\n",
              "1.75    2037\n",
              "2.25    1340\n",
              "2.00    1272\n",
              "1.50     968\n",
              "2.75     770\n",
              "3.00     506\n",
              "3.50     467\n",
              "3.25     395\n",
              "3.75      96\n",
              "4.00      88\n",
              "4.50      68\n",
              "4.25      61\n",
              "0.75      45\n",
              "4.75      14\n",
              "5.00      11\n",
              "5.50       9\n",
              "5.25       9\n",
              "6.00       6\n",
              "0.00       6\n",
              "1.25       6\n",
              "5.75       3\n",
              "8.00       2\n",
              "0.50       2\n",
              "6.75       1\n",
              "7.50       1\n",
              "7.75       1\n",
              "6.25       1\n",
              "6.50       1\n",
              "Name: bathrooms, dtype: int64"
            ]
          },
          "metadata": {},
          "execution_count": 958
        }
      ]
    },
    {
      "cell_type": "code",
      "source": [
        "df['bathrooms'].median()"
      ],
      "metadata": {
        "colab": {
          "base_uri": "https://localhost:8080/"
        },
        "id": "w9WTcx_5Al6K",
        "outputId": "da281ea4-9836-4684-e8f3-2dab2918b0c8"
      },
      "execution_count": null,
      "outputs": [
        {
          "output_type": "execute_result",
          "data": {
            "text/plain": [
              "2.25"
            ]
          },
          "metadata": {},
          "execution_count": 959
        }
      ]
    },
    {
      "cell_type": "code",
      "source": [
        "df['floors'] = df['floors'].astype('object')"
      ],
      "metadata": {
        "id": "W6LJNV68Aqs0"
      },
      "execution_count": null,
      "outputs": []
    },
    {
      "cell_type": "code",
      "source": [
        "df.info()"
      ],
      "metadata": {
        "colab": {
          "base_uri": "https://localhost:8080/"
        },
        "id": "ZMRpSHfOA3XU",
        "outputId": "ad538a8b-e4ee-4913-9541-3f1652e6a181"
      },
      "execution_count": null,
      "outputs": [
        {
          "output_type": "stream",
          "name": "stdout",
          "text": [
            "<class 'pandas.core.frame.DataFrame'>\n",
            "Int64Index: 21969 entries, 0 to 21968\n",
            "Data columns (total 21 columns):\n",
            " #   Column         Non-Null Count  Dtype  \n",
            "---  ------         --------------  -----  \n",
            " 0   id             21969 non-null  int64  \n",
            " 1   sqft_basement  21969 non-null  int64  \n",
            " 2   yr_built       21969 non-null  int64  \n",
            " 3   yr_renovated   21969 non-null  int64  \n",
            " 4   zipcode        21969 non-null  int64  \n",
            " 5   lat            21969 non-null  float64\n",
            " 6   long           21969 non-null  float64\n",
            " 7   sqft_living15  21969 non-null  int64  \n",
            " 8   sqft_lot15     21969 non-null  int64  \n",
            " 9   date           21969 non-null  object \n",
            " 10  price          21969 non-null  float64\n",
            " 11  bedrooms       15273 non-null  float64\n",
            " 12  bathrooms      14353 non-null  float64\n",
            " 13  sqft_living    21969 non-null  int64  \n",
            " 14  sqft_lot       21969 non-null  int64  \n",
            " 15  floors         17107 non-null  object \n",
            " 16  waterfront     21969 non-null  object \n",
            " 17  view           21969 non-null  int64  \n",
            " 18  condition      21969 non-null  int64  \n",
            " 19  grade          21969 non-null  int64  \n",
            " 20  sqft_above     21969 non-null  int64  \n",
            "dtypes: float64(5), int64(13), object(3)\n",
            "memory usage: 3.7+ MB\n"
          ]
        }
      ]
    },
    {
      "cell_type": "code",
      "source": [
        "df['bedrooms'].fillna(value=df['bedrooms'].median(), inplace=True)"
      ],
      "metadata": {
        "id": "POJfO1PxA5O3"
      },
      "execution_count": null,
      "outputs": []
    },
    {
      "cell_type": "code",
      "source": [
        "df['bathrooms'].fillna(value=df['bathrooms'].median(), inplace=True)"
      ],
      "metadata": {
        "id": "nfZKEeTRBmDT"
      },
      "execution_count": null,
      "outputs": []
    },
    {
      "cell_type": "code",
      "source": [
        "df['floors'].fillna(value=df['floors'].mode()[0], inplace=True)"
      ],
      "metadata": {
        "id": "qQGBx078BqhW"
      },
      "execution_count": null,
      "outputs": []
    },
    {
      "cell_type": "code",
      "source": [
        "df.isnull().sum()"
      ],
      "metadata": {
        "colab": {
          "base_uri": "https://localhost:8080/"
        },
        "id": "4f3ahXvnBwYl",
        "outputId": "690b38e6-ea80-4000-b0c6-d1b2640af72c"
      },
      "execution_count": null,
      "outputs": [
        {
          "output_type": "execute_result",
          "data": {
            "text/plain": [
              "id               0\n",
              "sqft_basement    0\n",
              "yr_built         0\n",
              "yr_renovated     0\n",
              "zipcode          0\n",
              "lat              0\n",
              "long             0\n",
              "sqft_living15    0\n",
              "sqft_lot15       0\n",
              "date             0\n",
              "price            0\n",
              "bedrooms         0\n",
              "bathrooms        0\n",
              "sqft_living      0\n",
              "sqft_lot         0\n",
              "floors           0\n",
              "waterfront       0\n",
              "view             0\n",
              "condition        0\n",
              "grade            0\n",
              "sqft_above       0\n",
              "dtype: int64"
            ]
          },
          "metadata": {},
          "execution_count": 965
        }
      ]
    },
    {
      "cell_type": "code",
      "source": [
        "df['floors'].value_counts()"
      ],
      "metadata": {
        "colab": {
          "base_uri": "https://localhost:8080/"
        },
        "id": "owTC1RUWByzZ",
        "outputId": "2c198d3c-4714-47f7-f821-ae6d4ebcf65b"
      },
      "execution_count": null,
      "outputs": [
        {
          "output_type": "execute_result",
          "data": {
            "text/plain": [
              "1.0    13347\n",
              "2.0     6513\n",
              "1.5     1498\n",
              "3.0      476\n",
              "2.5      128\n",
              "3.5        7\n",
              "Name: floors, dtype: int64"
            ]
          },
          "metadata": {},
          "execution_count": 966
        }
      ]
    },
    {
      "cell_type": "code",
      "source": [
        "df.columns"
      ],
      "metadata": {
        "colab": {
          "base_uri": "https://localhost:8080/"
        },
        "id": "ZylFhrMwHzBk",
        "outputId": "d9524df0-0acd-45df-91c2-bd9641dd6c33"
      },
      "execution_count": null,
      "outputs": [
        {
          "output_type": "execute_result",
          "data": {
            "text/plain": [
              "Index(['id', 'sqft_basement', 'yr_built', 'yr_renovated', 'zipcode', 'lat',\n",
              "       'long', 'sqft_living15', 'sqft_lot15', 'date', 'price', 'bedrooms',\n",
              "       'bathrooms', 'sqft_living', 'sqft_lot', 'floors', 'waterfront', 'view',\n",
              "       'condition', 'grade', 'sqft_above'],\n",
              "      dtype='object')"
            ]
          },
          "metadata": {},
          "execution_count": 967
        }
      ]
    },
    {
      "cell_type": "code",
      "source": [
        "df.info()"
      ],
      "metadata": {
        "colab": {
          "base_uri": "https://localhost:8080/"
        },
        "id": "VUcnhzisH4Wy",
        "outputId": "8c189f1a-8c86-4aeb-c2ea-d75f2ae04d52"
      },
      "execution_count": null,
      "outputs": [
        {
          "output_type": "stream",
          "name": "stdout",
          "text": [
            "<class 'pandas.core.frame.DataFrame'>\n",
            "Int64Index: 21969 entries, 0 to 21968\n",
            "Data columns (total 21 columns):\n",
            " #   Column         Non-Null Count  Dtype  \n",
            "---  ------         --------------  -----  \n",
            " 0   id             21969 non-null  int64  \n",
            " 1   sqft_basement  21969 non-null  int64  \n",
            " 2   yr_built       21969 non-null  int64  \n",
            " 3   yr_renovated   21969 non-null  int64  \n",
            " 4   zipcode        21969 non-null  int64  \n",
            " 5   lat            21969 non-null  float64\n",
            " 6   long           21969 non-null  float64\n",
            " 7   sqft_living15  21969 non-null  int64  \n",
            " 8   sqft_lot15     21969 non-null  int64  \n",
            " 9   date           21969 non-null  object \n",
            " 10  price          21969 non-null  float64\n",
            " 11  bedrooms       21969 non-null  float64\n",
            " 12  bathrooms      21969 non-null  float64\n",
            " 13  sqft_living    21969 non-null  int64  \n",
            " 14  sqft_lot       21969 non-null  int64  \n",
            " 15  floors         21969 non-null  float64\n",
            " 16  waterfront     21969 non-null  object \n",
            " 17  view           21969 non-null  int64  \n",
            " 18  condition      21969 non-null  int64  \n",
            " 19  grade          21969 non-null  int64  \n",
            " 20  sqft_above     21969 non-null  int64  \n",
            "dtypes: float64(6), int64(13), object(2)\n",
            "memory usage: 3.7+ MB\n"
          ]
        }
      ]
    },
    {
      "cell_type": "code",
      "source": [
        "df['view'].value_counts()"
      ],
      "metadata": {
        "colab": {
          "base_uri": "https://localhost:8080/"
        },
        "id": "QI8uzOnALbOc",
        "outputId": "e0ca7271-4815-454b-97ee-18e3ee93eb47"
      },
      "execution_count": null,
      "outputs": [
        {
          "output_type": "execute_result",
          "data": {
            "text/plain": [
              "0    19829\n",
              "2      965\n",
              "3      516\n",
              "1      334\n",
              "4      325\n",
              "Name: view, dtype: int64"
            ]
          },
          "metadata": {},
          "execution_count": 969
        }
      ]
    },
    {
      "cell_type": "code",
      "source": [
        "df = df[df['view'] <= 1]"
      ],
      "metadata": {
        "id": "GTkM1o3amnW6"
      },
      "execution_count": null,
      "outputs": []
    },
    {
      "cell_type": "code",
      "source": [
        "df['view'].value_counts()"
      ],
      "metadata": {
        "colab": {
          "base_uri": "https://localhost:8080/"
        },
        "id": "pjDIYqtR1MjF",
        "outputId": "e9131bc6-ac31-4bc9-9fdb-c02ada2dd386"
      },
      "execution_count": null,
      "outputs": [
        {
          "output_type": "execute_result",
          "data": {
            "text/plain": [
              "0    19829\n",
              "1      334\n",
              "Name: view, dtype: int64"
            ]
          },
          "metadata": {},
          "execution_count": 971
        }
      ]
    },
    {
      "cell_type": "code",
      "source": [
        "df['waterfront'].value_counts()"
      ],
      "metadata": {
        "colab": {
          "base_uri": "https://localhost:8080/"
        },
        "id": "9alWrf3z1MlS",
        "outputId": "018ef06b-77db-4c45-c7ec-3ce66f0f9ff5"
      },
      "execution_count": null,
      "outputs": [
        {
          "output_type": "execute_result",
          "data": {
            "text/plain": [
              "0    19789\n",
              "?      373\n",
              "1        1\n",
              "Name: waterfront, dtype: int64"
            ]
          },
          "metadata": {},
          "execution_count": 972
        }
      ]
    },
    {
      "cell_type": "code",
      "source": [
        "df = df.drop(columns=['waterfront'])"
      ],
      "metadata": {
        "id": "sa5Cr0O71MrC"
      },
      "execution_count": null,
      "outputs": []
    },
    {
      "cell_type": "code",
      "source": [
        "df['condition'].value_counts()"
      ],
      "metadata": {
        "colab": {
          "base_uri": "https://localhost:8080/"
        },
        "id": "I93Loxs2DhGv",
        "outputId": "29a263b0-81a7-432b-bec9-e90dec5672d4"
      },
      "execution_count": null,
      "outputs": [
        {
          "output_type": "execute_result",
          "data": {
            "text/plain": [
              "3    13191\n",
              "4     5225\n",
              "5     1532\n",
              "2      185\n",
              "1       30\n",
              "Name: condition, dtype: int64"
            ]
          },
          "metadata": {},
          "execution_count": 974
        }
      ]
    },
    {
      "cell_type": "code",
      "source": [
        "df['grade'].value_counts()"
      ],
      "metadata": {
        "colab": {
          "base_uri": "https://localhost:8080/"
        },
        "id": "9BIJUogHDhJC",
        "outputId": "ea96d43b-f95a-4169-8024-a8c83ba15741"
      },
      "execution_count": null,
      "outputs": [
        {
          "output_type": "execute_result",
          "data": {
            "text/plain": [
              "7     8818\n",
              "8     5566\n",
              "9     2241\n",
              "6     2056\n",
              "10     887\n",
              "11     264\n",
              "5      249\n",
              "12      45\n",
              "4       28\n",
              "13       5\n",
              "3        3\n",
              "1        1\n",
              "Name: grade, dtype: int64"
            ]
          },
          "metadata": {},
          "execution_count": 975
        }
      ]
    },
    {
      "cell_type": "code",
      "source": [
        "df.info()"
      ],
      "metadata": {
        "id": "Mn6Xul0mDhNM",
        "colab": {
          "base_uri": "https://localhost:8080/"
        },
        "outputId": "c63c1f80-0346-4d10-dd21-74545897ca4d"
      },
      "execution_count": null,
      "outputs": [
        {
          "output_type": "stream",
          "name": "stdout",
          "text": [
            "<class 'pandas.core.frame.DataFrame'>\n",
            "Int64Index: 20163 entries, 0 to 21968\n",
            "Data columns (total 20 columns):\n",
            " #   Column         Non-Null Count  Dtype  \n",
            "---  ------         --------------  -----  \n",
            " 0   id             20163 non-null  int64  \n",
            " 1   sqft_basement  20163 non-null  int64  \n",
            " 2   yr_built       20163 non-null  int64  \n",
            " 3   yr_renovated   20163 non-null  int64  \n",
            " 4   zipcode        20163 non-null  int64  \n",
            " 5   lat            20163 non-null  float64\n",
            " 6   long           20163 non-null  float64\n",
            " 7   sqft_living15  20163 non-null  int64  \n",
            " 8   sqft_lot15     20163 non-null  int64  \n",
            " 9   date           20163 non-null  object \n",
            " 10  price          20163 non-null  float64\n",
            " 11  bedrooms       20163 non-null  float64\n",
            " 12  bathrooms      20163 non-null  float64\n",
            " 13  sqft_living    20163 non-null  int64  \n",
            " 14  sqft_lot       20163 non-null  int64  \n",
            " 15  floors         20163 non-null  float64\n",
            " 16  view           20163 non-null  int64  \n",
            " 17  condition      20163 non-null  int64  \n",
            " 18  grade          20163 non-null  int64  \n",
            " 19  sqft_above     20163 non-null  int64  \n",
            "dtypes: float64(6), int64(13), object(1)\n",
            "memory usage: 3.2+ MB\n"
          ]
        }
      ]
    },
    {
      "cell_type": "code",
      "source": [
        "df['date'].value_counts()"
      ],
      "metadata": {
        "colab": {
          "base_uri": "https://localhost:8080/"
        },
        "id": "KF7_MB_T_SIV",
        "outputId": "62984ce9-e4c9-436a-db5d-cfbbdccd6646"
      },
      "execution_count": null,
      "outputs": [
        {
          "output_type": "execute_result",
          "data": {
            "text/plain": [
              "20140623T000000    131\n",
              "20140708T000000    122\n",
              "20140626T000000    121\n",
              "20150428T000000    119\n",
              "20140625T000000    116\n",
              "                  ... \n",
              "20150110T000000      1\n",
              "20141102T000000      1\n",
              "20140517T000000      1\n",
              "20150515T000000      1\n",
              "20140727T000000      1\n",
              "Name: date, Length: 372, dtype: int64"
            ]
          },
          "metadata": {},
          "execution_count": 977
        }
      ]
    },
    {
      "cell_type": "code",
      "source": [
        "df['date']=df['date'].map(lambda x: str(x).strip().split(\"T\")[0])"
      ],
      "metadata": {
        "id": "D2yZpjMyAUS3"
      },
      "execution_count": null,
      "outputs": []
    },
    {
      "cell_type": "code",
      "source": [
        "df['date'].value_counts()"
      ],
      "metadata": {
        "colab": {
          "base_uri": "https://localhost:8080/"
        },
        "id": "Kn9ozWhtAY5p",
        "outputId": "43f4ac2e-6eeb-4ba7-98cd-30adada1d5f0"
      },
      "execution_count": null,
      "outputs": [
        {
          "output_type": "execute_result",
          "data": {
            "text/plain": [
              "20140623    131\n",
              "20140708    122\n",
              "20140626    121\n",
              "20150428    119\n",
              "20140625    116\n",
              "           ... \n",
              "20150110      1\n",
              "20141102      1\n",
              "20140517      1\n",
              "20150515      1\n",
              "20140727      1\n",
              "Name: date, Length: 372, dtype: int64"
            ]
          },
          "metadata": {},
          "execution_count": 979
        }
      ]
    },
    {
      "cell_type": "code",
      "source": [
        "rearrange_chars = lambda s: s[6:] + '/' +  s[4:6] + '/' + s[:4]\n",
        "df['date'] = df['date'].apply(rearrange_chars)"
      ],
      "metadata": {
        "id": "Sky-dPZxA2p7"
      },
      "execution_count": null,
      "outputs": []
    },
    {
      "cell_type": "code",
      "source": [
        "df['date'].value_counts()"
      ],
      "metadata": {
        "colab": {
          "base_uri": "https://localhost:8080/"
        },
        "id": "drxuVh08A21J",
        "outputId": "b2ba45e0-65b1-4d1f-e145-a6c204d4660a"
      },
      "execution_count": null,
      "outputs": [
        {
          "output_type": "execute_result",
          "data": {
            "text/plain": [
              "23/06/2014    131\n",
              "08/07/2014    122\n",
              "26/06/2014    121\n",
              "28/04/2015    119\n",
              "25/06/2014    116\n",
              "             ... \n",
              "10/01/2015      1\n",
              "02/11/2014      1\n",
              "17/05/2014      1\n",
              "15/05/2015      1\n",
              "27/07/2014      1\n",
              "Name: date, Length: 372, dtype: int64"
            ]
          },
          "metadata": {},
          "execution_count": 981
        }
      ]
    },
    {
      "cell_type": "code",
      "source": [
        "df.nunique()"
      ],
      "metadata": {
        "colab": {
          "base_uri": "https://localhost:8080/"
        },
        "id": "9nU8Rt_fCXSa",
        "outputId": "4d498d77-4024-4fe4-e6a9-8dbe19ef1bad"
      },
      "execution_count": null,
      "outputs": [
        {
          "output_type": "execute_result",
          "data": {
            "text/plain": [
              "id               19651\n",
              "sqft_basement      258\n",
              "yr_built           116\n",
              "yr_renovated        68\n",
              "zipcode             70\n",
              "lat               4936\n",
              "long               725\n",
              "sqft_living15      731\n",
              "sqft_lot15        8053\n",
              "date               372\n",
              "price             3747\n",
              "bedrooms            12\n",
              "bathrooms           26\n",
              "sqft_living        941\n",
              "sqft_lot          9041\n",
              "floors               6\n",
              "view                 2\n",
              "condition            5\n",
              "grade               12\n",
              "sqft_above         881\n",
              "dtype: int64"
            ]
          },
          "metadata": {},
          "execution_count": 982
        }
      ]
    },
    {
      "cell_type": "code",
      "source": [
        "df3 = pd.DataFrame(df, columns = ['sqft_living15','sqft_lot15','sqft_living','sqft_lot'])  \n",
        "plt.figure(figsize = (10, 20)) \n",
        "  \n",
        "df3.boxplot()"
      ],
      "metadata": {
        "colab": {
          "base_uri": "https://localhost:8080/",
          "height": 1000
        },
        "id": "2X-5A7ddITel",
        "outputId": "ad215462-313a-4c0f-ed4f-c535daf94481"
      },
      "execution_count": null,
      "outputs": [
        {
          "output_type": "execute_result",
          "data": {
            "text/plain": [
              "<AxesSubplot:>"
            ]
          },
          "metadata": {},
          "execution_count": 983
        },
        {
          "output_type": "display_data",
          "data": {
            "text/plain": [
              "<Figure size 720x1440 with 1 Axes>"
            ],
            "image/png": "[encoded data removed]"
          },
          "metadata": {
            "needs_background": "light"
          }
        }
      ]
    },
    {
      "cell_type": "code",
      "source": [
        "df.describe()"
      ],
      "metadata": {
        "colab": {
          "base_uri": "https://localhost:8080/",
          "height": 364
        },
        "id": "DAStu51YKlfP",
        "outputId": "2149a532-ce77-4683-ce9c-6b1e174a8d43"
      },
      "execution_count": null,
      "outputs": [
        {
          "output_type": "execute_result",
          "data": {
            "text/plain": [
              "                 id  sqft_basement      yr_built  yr_renovated       zipcode  \\\n",
              "count  2.016300e+04   20163.000000  20163.000000  20163.000000  20163.000000   \n",
              "mean   4.568489e+09     257.254476   1971.256757     73.157070  98076.890096   \n",
              "std    2.872724e+09     404.282015     29.310773    375.084089     52.706678   \n",
              "min    1.000102e+06       0.000000   1900.000000      0.000000  98001.000000   \n",
              "25%    2.115720e+09       0.000000   1952.000000      0.000000  98033.000000   \n",
              "50%    3.900500e+09       0.000000   1975.000000      0.000000  98065.000000   \n",
              "75%    7.300200e+09     500.000000   1997.000000      0.000000  98117.000000   \n",
              "max    9.900000e+09    3000.000000   2015.000000   2015.000000  98199.000000   \n",
              "\n",
              "                lat          long  sqft_living15     sqft_lot15         price  \\\n",
              "count  20163.000000  20163.000000   20163.000000   20163.000000  2.016300e+04   \n",
              "mean      47.559724   -122.211587    1929.031146   12139.004563  4.999817e+05   \n",
              "std        0.139634      0.139701     646.290105   24951.135130  2.947602e+05   \n",
              "min       47.155900   -122.519000     460.000000     651.000000  7.500000e+04   \n",
              "25%       47.465550   -122.324000    1460.000000    5060.000000  3.110000e+05   \n",
              "50%       47.571400   -122.225000    1790.000000    7560.000000  4.350000e+05   \n",
              "75%       47.680000   -122.124000    2271.500000    9880.000000  6.050000e+05   \n",
              "max       47.777600   -121.315000    6210.000000  871200.000000  5.570000e+06   \n",
              "\n",
              "           bedrooms     bathrooms   sqft_living      sqft_lot        floors  \\\n",
              "count  20163.000000  20163.000000  20163.000000  2.016300e+04  20163.000000   \n",
              "mean       3.241333      2.130214   2001.697763  1.410702e+04      1.378168   \n",
              "std        0.769150      0.606395    841.996878  3.665696e+04      0.514663   \n",
              "min        0.000000      0.000000    290.000000  5.200000e+02      1.000000   \n",
              "25%        3.000000      1.750000   1390.000000  5.000000e+03      1.000000   \n",
              "50%        3.000000      2.250000   1850.000000  7.519000e+03      1.000000   \n",
              "75%        4.000000      2.500000   2450.000000  1.030700e+04      2.000000   \n",
              "max       11.000000      7.500000   9200.000000  1.164794e+06      3.500000   \n",
              "\n",
              "               view     condition         grade    sqft_above  \n",
              "count  20163.000000  20163.000000  20163.000000  20163.000000  \n",
              "mean       0.016565      3.398949      7.563607   1744.443287  \n",
              "std        0.127638      0.647340      1.114094    792.205187  \n",
              "min        0.000000      1.000000      1.000000    290.000000  \n",
              "25%        0.000000      3.000000      7.000000   1170.000000  \n",
              "50%        0.000000      3.000000      7.000000   1520.000000  \n",
              "75%        0.000000      4.000000      8.000000   2150.000000  \n",
              "max        1.000000      5.000000     13.000000   8020.000000  "
            ],
            "text/html": [
              "\n",
              "  <div id=\"df-eda585d6-2cfe-4f79-8a26-c329f908db1a\">\n",
              "    <div class=\"colab-df-container\">\n",
              "      <div>\n",
              "<style scoped>\n",
              "    .dataframe tbody tr th:only-of-type {\n",
              "        vertical-align: middle;\n",
              "    }\n",
              "\n",
              "    .dataframe tbody tr th {\n",
              "        vertical-align: top;\n",
              "    }\n",
              "\n",
              "    .dataframe thead th {\n",
              "        text-align: right;\n",
              "    }\n",
              "</style>\n",
              "<table border=\"1\" class=\"dataframe\">\n",
              "  <thead>\n",
              "    <tr style=\"text-align: right;\">\n",
              "      <th></th>\n",
              "      <th>id</th>\n",
              "      <th>sqft_basement</th>\n",
              "      <th>yr_built</th>\n",
              "      <th>yr_renovated</th>\n",
              "      <th>zipcode</th>\n",
              "      <th>lat</th>\n",
              "      <th>long</th>\n",
              "      <th>sqft_living15</th>\n",
              "      <th>sqft_lot15</th>\n",
              "      <th>price</th>\n",
              "      <th>bedrooms</th>\n",
              "      <th>bathrooms</th>\n",
              "      <th>sqft_living</th>\n",
              "      <th>sqft_lot</th>\n",
              "      <th>floors</th>\n",
              "      <th>view</th>\n",
              "      <th>condition</th>\n",
              "      <th>grade</th>\n",
              "      <th>sqft_above</th>\n",
              "    </tr>\n",
              "  </thead>\n",
              "  <tbody>\n",
              "    <tr>\n",
              "      <th>count</th>\n",
              "      <td>2.016300e+04</td>\n",
              "      <td>20163.000000</td>\n",
              "      <td>20163.000000</td>\n",
              "      <td>20163.000000</td>\n",
              "      <td>20163.000000</td>\n",
              "      <td>20163.000000</td>\n",
              "      <td>20163.000000</td>\n",
              "      <td>20163.000000</td>\n",
              "      <td>20163.000000</td>\n",
              "      <td>2.016300e+04</td>\n",
              "      <td>20163.000000</td>\n",
              "      <td>20163.000000</td>\n",
              "      <td>20163.000000</td>\n",
              "      <td>2.016300e+04</td>\n",
              "      <td>20163.000000</td>\n",
              "      <td>20163.000000</td>\n",
              "      <td>20163.000000</td>\n",
              "      <td>20163.000000</td>\n",
              "      <td>20163.000000</td>\n",
              "    </tr>\n",
              "    <tr>\n",
              "      <th>mean</th>\n",
              "      <td>4.568489e+09</td>\n",
              "      <td>257.254476</td>\n",
              "      <td>1971.256757</td>\n",
              "      <td>73.157070</td>\n",
              "      <td>98076.890096</td>\n",
              "      <td>47.559724</td>\n",
              "      <td>-122.211587</td>\n",
              "      <td>1929.031146</td>\n",
              "      <td>12139.004563</td>\n",
              "      <td>4.999817e+05</td>\n",
              "      <td>3.241333</td>\n",
              "      <td>2.130214</td>\n",
              "      <td>2001.697763</td>\n",
              "      <td>1.410702e+04</td>\n",
              "      <td>1.378168</td>\n",
              "      <td>0.016565</td>\n",
              "      <td>3.398949</td>\n",
              "      <td>7.563607</td>\n",
              "      <td>1744.443287</td>\n",
              "    </tr>\n",
              "    <tr>\n",
              "      <th>std</th>\n",
              "      <td>2.872724e+09</td>\n",
              "      <td>404.282015</td>\n",
              "      <td>29.310773</td>\n",
              "      <td>375.084089</td>\n",
              "      <td>52.706678</td>\n",
              "      <td>0.139634</td>\n",
              "      <td>0.139701</td>\n",
              "      <td>646.290105</td>\n",
              "      <td>24951.135130</td>\n",
              "      <td>2.947602e+05</td>\n",
              "      <td>0.769150</td>\n",
              "      <td>0.606395</td>\n",
              "      <td>841.996878</td>\n",
              "      <td>3.665696e+04</td>\n",
              "      <td>0.514663</td>\n",
              "      <td>0.127638</td>\n",
              "      <td>0.647340</td>\n",
              "      <td>1.114094</td>\n",
              "      <td>792.205187</td>\n",
              "    </tr>\n",
              "    <tr>\n",
              "      <th>min</th>\n",
              "      <td>1.000102e+06</td>\n",
              "      <td>0.000000</td>\n",
              "      <td>1900.000000</td>\n",
              "      <td>0.000000</td>\n",
              "      <td>98001.000000</td>\n",
              "      <td>47.155900</td>\n",
              "      <td>-122.519000</td>\n",
              "      <td>460.000000</td>\n",
              "      <td>651.000000</td>\n",
              "      <td>7.500000e+04</td>\n",
              "      <td>0.000000</td>\n",
              "      <td>0.000000</td>\n",
              "      <td>290.000000</td>\n",
              "      <td>5.200000e+02</td>\n",
              "      <td>1.000000</td>\n",
              "      <td>0.000000</td>\n",
              "      <td>1.000000</td>\n",
              "      <td>1.000000</td>\n",
              "      <td>290.000000</td>\n",
              "    </tr>\n",
              "    <tr>\n",
              "      <th>25%</th>\n",
              "      <td>2.115720e+09</td>\n",
              "      <td>0.000000</td>\n",
              "      <td>1952.000000</td>\n",
              "      <td>0.000000</td>\n",
              "      <td>98033.000000</td>\n",
              "      <td>47.465550</td>\n",
              "      <td>-122.324000</td>\n",
              "      <td>1460.000000</td>\n",
              "      <td>5060.000000</td>\n",
              "      <td>3.110000e+05</td>\n",
              "      <td>3.000000</td>\n",
              "      <td>1.750000</td>\n",
              "      <td>1390.000000</td>\n",
              "      <td>5.000000e+03</td>\n",
              "      <td>1.000000</td>\n",
              "      <td>0.000000</td>\n",
              "      <td>3.000000</td>\n",
              "      <td>7.000000</td>\n",
              "      <td>1170.000000</td>\n",
              "    </tr>\n",
              "    <tr>\n",
              "      <th>50%</th>\n",
              "      <td>3.900500e+09</td>\n",
              "      <td>0.000000</td>\n",
              "      <td>1975.000000</td>\n",
              "      <td>0.000000</td>\n",
              "      <td>98065.000000</td>\n",
              "      <td>47.571400</td>\n",
              "      <td>-122.225000</td>\n",
              "      <td>1790.000000</td>\n",
              "      <td>7560.000000</td>\n",
              "      <td>4.350000e+05</td>\n",
              "      <td>3.000000</td>\n",
              "      <td>2.250000</td>\n",
              "      <td>1850.000000</td>\n",
              "      <td>7.519000e+03</td>\n",
              "      <td>1.000000</td>\n",
              "      <td>0.000000</td>\n",
              "      <td>3.000000</td>\n",
              "      <td>7.000000</td>\n",
              "      <td>1520.000000</td>\n",
              "    </tr>\n",
              "    <tr>\n",
              "      <th>75%</th>\n",
              "      <td>7.300200e+09</td>\n",
              "      <td>500.000000</td>\n",
              "      <td>1997.000000</td>\n",
              "      <td>0.000000</td>\n",
              "      <td>98117.000000</td>\n",
              "      <td>47.680000</td>\n",
              "      <td>-122.124000</td>\n",
              "      <td>2271.500000</td>\n",
              "      <td>9880.000000</td>\n",
              "      <td>6.050000e+05</td>\n",
              "      <td>4.000000</td>\n",
              "      <td>2.500000</td>\n",
              "      <td>2450.000000</td>\n",
              "      <td>1.030700e+04</td>\n",
              "      <td>2.000000</td>\n",
              "      <td>0.000000</td>\n",
              "      <td>4.000000</td>\n",
              "      <td>8.000000</td>\n",
              "      <td>2150.000000</td>\n",
              "    </tr>\n",
              "    <tr>\n",
              "      <th>max</th>\n",
              "      <td>9.900000e+09</td>\n",
              "      <td>3000.000000</td>\n",
              "      <td>2015.000000</td>\n",
              "      <td>2015.000000</td>\n",
              "      <td>98199.000000</td>\n",
              "      <td>47.777600</td>\n",
              "      <td>-121.315000</td>\n",
              "      <td>6210.000000</td>\n",
              "      <td>871200.000000</td>\n",
              "      <td>5.570000e+06</td>\n",
              "      <td>11.000000</td>\n",
              "      <td>7.500000</td>\n",
              "      <td>9200.000000</td>\n",
              "      <td>1.164794e+06</td>\n",
              "      <td>3.500000</td>\n",
              "      <td>1.000000</td>\n",
              "      <td>5.000000</td>\n",
              "      <td>13.000000</td>\n",
              "      <td>8020.000000</td>\n",
              "    </tr>\n",
              "  </tbody>\n",
              "</table>\n",
              "</div>\n",
              "      <button class=\"colab-df-convert\" onclick=\"convertToInteractive('df-eda585d6-2cfe-4f79-8a26-c329f908db1a')\"\n",
              "              title=\"Convert this dataframe to an interactive table.\"\n",
              "              style=\"display:none;\">\n",
              "        \n",
              "  <svg xmlns=\"http://www.w3.org/2000/svg\" height=\"24px\"viewBox=\"0 0 24 24\"\n",
              "       width=\"24px\">\n",
              "    <path d=\"M0 0h24v24H0V0z\" fill=\"none\"/>\n",
              "    <path d=\"M18.56 5.44l.94 2.06.94-2.06 2.06-.94-2.06-.94-.94-2.06-.94 2.06-2.06.94zm-11 1L8.5 8.5l.94-2.06 2.06-.94-2.06-.94L8.5 2.5l-.94 2.06-2.06.94zm10 10l.94 2.06.94-2.06 2.06-.94-2.06-.94-.94-2.06-.94 2.06-2.06.94z\"/><path d=\"M17.41 7.96l-1.37-1.37c-.4-.4-.92-.59-1.43-.59-.52 0-1.04.2-1.43.59L10.3 9.45l-7.72 7.72c-.78.78-.78 2.05 0 2.83L4 21.41c.39.39.9.59 1.41.59.51 0 1.02-.2 1.41-.59l7.78-7.78 2.81-2.81c.8-.78.8-2.07 0-2.86zM5.41 20L4 18.59l7.72-7.72 1.47 1.35L5.41 20z\"/>\n",
              "  </svg>\n",
              "      </button>\n",
              "      \n",
              "  <style>\n",
              "    .colab-df-container {\n",
              "      display:flex;\n",
              "      flex-wrap:wrap;\n",
              "      gap: 12px;\n",
              "    }\n",
              "\n",
              "    .colab-df-convert {\n",
              "      background-color: #E8F0FE;\n",
              "      border: none;\n",
              "      border-radius: 50%;\n",
              "      cursor: pointer;\n",
              "      display: none;\n",
              "      fill: #1967D2;\n",
              "      height: 32px;\n",
              "      padding: 0 0 0 0;\n",
              "      width: 32px;\n",
              "    }\n",
              "\n",
              "    .colab-df-convert:hover {\n",
              "      background-color: #E2EBFA;\n",
              "      box-shadow: 0px 1px 2px rgba(60, 64, 67, 0.3), 0px 1px 3px 1px rgba(60, 64, 67, 0.15);\n",
              "      fill: #174EA6;\n",
              "    }\n",
              "\n",
              "    [theme=dark] .colab-df-convert {\n",
              "      background-color: #3B4455;\n",
              "      fill: #D2E3FC;\n",
              "    }\n",
              "\n",
              "    [theme=dark] .colab-df-convert:hover {\n",
              "      background-color: #434B5C;\n",
              "      box-shadow: 0px 1px 3px 1px rgba(0, 0, 0, 0.15);\n",
              "      filter: drop-shadow(0px 1px 2px rgba(0, 0, 0, 0.3));\n",
              "      fill: #FFFFFF;\n",
              "    }\n",
              "  </style>\n",
              "\n",
              "      <script>\n",
              "        const buttonEl =\n",
              "          document.querySelector('#df-eda585d6-2cfe-4f79-8a26-c329f908db1a button.colab-df-convert');\n",
              "        buttonEl.style.display =\n",
              "          google.colab.kernel.accessAllowed ? 'block' : 'none';\n",
              "\n",
              "        async function convertToInteractive(key) {\n",
              "          const element = document.querySelector('#df-eda585d6-2cfe-4f79-8a26-c329f908db1a');\n",
              "          const dataTable =\n",
              "            await google.colab.kernel.invokeFunction('convertToInteractive',\n",
              "                                                     [key], {});\n",
              "          if (!dataTable) return;\n",
              "\n",
              "          const docLinkHtml = 'Like what you see? Visit the ' +\n",
              "            '<a target=\"_blank\" href=https://colab.research.google.com/notebooks/data_table.ipynb>data table notebook</a>'\n",
              "            + ' to learn more about interactive tables.';\n",
              "          element.innerHTML = '';\n",
              "          dataTable['output_type'] = 'display_data';\n",
              "          await google.colab.output.renderOutput(dataTable, element);\n",
              "          const docLink = document.createElement('div');\n",
              "          docLink.innerHTML = docLinkHtml;\n",
              "          element.appendChild(docLink);\n",
              "        }\n",
              "      </script>\n",
              "    </div>\n",
              "  </div>\n",
              "  "
            ]
          },
          "metadata": {},
          "execution_count": 984
        }
      ]
    },
    {
      "cell_type": "code",
      "source": [
        "def replace_outliers_median(x):\n",
        "    q1 = np.percentile(x, 25)\n",
        "    q3 = np.percentile(x, 75)\n",
        "    iqr = q3 - q1\n",
        "    lower_bound = q1 - 1.5 * iqr\n",
        "    upper_bound = q3 + 1.5 * iqr\n",
        "    x[x < lower_bound] = np.median(x)\n",
        "    x[x > upper_bound] = np.median(x)\n",
        "    return x\n",
        "\n",
        "# Define a function to replace outliers with the mode for categorical variables\n",
        "def replace_outliers_mode(x):\n",
        "    mode = x.mode()[0]\n",
        "    x[x != mode] = mode\n",
        "    return x\n"
      ],
      "metadata": {
        "id": "9ryKYeg0Q8nA"
      },
      "execution_count": null,
      "outputs": []
    },
    {
      "cell_type": "code",
      "source": [
        "# Apply the functions to the data\n",
        "df[['sqft_living15','sqft_lot15','sqft_living','sqft_lot']] = df[['sqft_living15','sqft_lot15','sqft_living','sqft_lot']].apply(replace_outliers_median)"
      ],
      "metadata": {
        "id": "qa0M1xIVRhij"
      },
      "execution_count": null,
      "outputs": []
    },
    {
      "cell_type": "code",
      "source": [
        "df3 = pd.DataFrame(df, columns = ['sqft_living15','sqft_lot15','sqft_living','sqft_lot'])  \n",
        "plt.figure(figsize = (10, 20)) \n",
        "  \n",
        "df3.boxplot()"
      ],
      "metadata": {
        "colab": {
          "base_uri": "https://localhost:8080/",
          "height": 1000
        },
        "id": "ME4PzR3ORrgW",
        "outputId": "f4a4c866-4f69-418c-8e25-444a0b2002a1"
      },
      "execution_count": null,
      "outputs": [
        {
          "output_type": "execute_result",
          "data": {
            "text/plain": [
              "<AxesSubplot:>"
            ]
          },
          "metadata": {},
          "execution_count": 987
        },
        {
          "output_type": "display_data",
          "data": {
            "text/plain": [
              "<Figure size 720x1440 with 1 Axes>"
            ],
            "image/png": "[encoded data removed]"
          },
          "metadata": {
            "needs_background": "light"
          }
        }
      ]
    },
    {
      "cell_type": "code",
      "source": [
        "# Apply the functions to the data\n",
        "df[['sqft_living15','sqft_lot15','sqft_living','sqft_lot']] = df[['sqft_living15','sqft_lot15','sqft_living','sqft_lot']].apply(replace_outliers_median)"
      ],
      "metadata": {
        "id": "7kyvSZlPRt6B"
      },
      "execution_count": null,
      "outputs": []
    },
    {
      "cell_type": "code",
      "source": [
        "df3 = pd.DataFrame(df, columns = ['sqft_living15','sqft_lot15','sqft_living','sqft_lot'])  \n",
        "plt.figure(figsize = (10, 20)) \n",
        "  \n",
        "df3.boxplot()"
      ],
      "metadata": {
        "colab": {
          "base_uri": "https://localhost:8080/",
          "height": 1000
        },
        "id": "GJMbDaQiCuo3",
        "outputId": "1187dc3b-92a8-48f0-9945-25d99f568ab4"
      },
      "execution_count": null,
      "outputs": [
        {
          "output_type": "execute_result",
          "data": {
            "text/plain": [
              "<AxesSubplot:>"
            ]
          },
          "metadata": {},
          "execution_count": 989
        },
        {
          "output_type": "display_data",
          "data": {
            "text/plain": [
              "<Figure size 720x1440 with 1 Axes>"
            ],
            "image/png": "[encoded data removed]"
          },
          "metadata": {
            "needs_background": "light"
          }
        }
      ]
    },
    {
      "cell_type": "code",
      "source": [
        "# Apply the functions to the data\n",
        "df[['sqft_living15','sqft_lot15','sqft_living','sqft_lot']] = df[['sqft_living15','sqft_lot15','sqft_living','sqft_lot']].apply(replace_outliers_median)"
      ],
      "metadata": {
        "id": "JHV3c78fCxKg"
      },
      "execution_count": null,
      "outputs": []
    },
    {
      "cell_type": "code",
      "source": [
        "df3 = pd.DataFrame(df, columns = ['sqft_living15','sqft_lot15','sqft_living','sqft_lot'])  \n",
        "plt.figure(figsize = (10, 20)) \n",
        "  \n",
        "df3.boxplot()"
      ],
      "metadata": {
        "colab": {
          "base_uri": "https://localhost:8080/",
          "height": 1000
        },
        "id": "j8R116TMC0PE",
        "outputId": "3133d151-02be-46b0-9257-a3699b1c2bd7"
      },
      "execution_count": null,
      "outputs": [
        {
          "output_type": "execute_result",
          "data": {
            "text/plain": [
              "<AxesSubplot:>"
            ]
          },
          "metadata": {},
          "execution_count": 991
        },
        {
          "output_type": "display_data",
          "data": {
            "text/plain": [
              "<Figure size 720x1440 with 1 Axes>"
            ],
            "image/png": "[encoded data removed]"
          },
          "metadata": {
            "needs_background": "light"
          }
        }
      ]
    },
    {
      "cell_type": "code",
      "source": [
        "# Apply the functions to the data\n",
        "df[['sqft_living15','sqft_lot15','sqft_living','sqft_lot']] = df[['sqft_living15','sqft_lot15','sqft_living','sqft_lot']].apply(replace_outliers_median)\n",
        "# Apply the functions to the data\n",
        "df[['sqft_living15','sqft_lot15','sqft_living','sqft_lot']] = df[['sqft_living15','sqft_lot15','sqft_living','sqft_lot']].apply(replace_outliers_median)"
      ],
      "metadata": {
        "id": "er0KISmuC2I2"
      },
      "execution_count": null,
      "outputs": []
    },
    {
      "cell_type": "code",
      "source": [
        "df3 = pd.DataFrame(df, columns = ['sqft_living15','sqft_lot15','sqft_living','sqft_lot'])  \n",
        "plt.figure(figsize = (10, 20)) \n",
        "  \n",
        "df3.boxplot()"
      ],
      "metadata": {
        "colab": {
          "base_uri": "https://localhost:8080/",
          "height": 1000
        },
        "id": "ESaZqMnZC5kE",
        "outputId": "56e6dd26-fd51-47f1-c4d7-11595e3b01ab"
      },
      "execution_count": null,
      "outputs": [
        {
          "output_type": "execute_result",
          "data": {
            "text/plain": [
              "<AxesSubplot:>"
            ]
          },
          "metadata": {},
          "execution_count": 993
        },
        {
          "output_type": "display_data",
          "data": {
            "text/plain": [
              "<Figure size 720x1440 with 1 Axes>"
            ],
            "image/png": "[encoded data removed]"
          },
          "metadata": {
            "needs_background": "light"
          }
        }
      ]
    },
    {
      "cell_type": "code",
      "source": [
        " \n",
        "  \n",
        "# plotting correlation heatmap\n",
        "dataplot=sns.heatmap(df.corr())\n",
        "  \n",
        "# displaying heatmap\n",
        "plt.show()"
      ],
      "metadata": {
        "colab": {
          "base_uri": "https://localhost:8080/",
          "height": 333
        },
        "id": "p3kRzKf_C7XP",
        "outputId": "9c38e610-4ddf-41ad-e610-8dc10ae2c5cb"
      },
      "execution_count": null,
      "outputs": [
        {
          "output_type": "display_data",
          "data": {
            "text/plain": [
              "<Figure size 432x288 with 2 Axes>"
            ],
            "image/png": "[encoded data removed]"
          },
          "metadata": {
            "needs_background": "light"
          }
        }
      ]
    },
    {
      "cell_type": "code",
      "source": [
        "df.nunique()"
      ],
      "metadata": {
        "colab": {
          "base_uri": "https://localhost:8080/"
        },
        "id": "gn7o8JznFOme",
        "outputId": "0cc18f13-83a3-4abc-c333-e079d8ab74da"
      },
      "execution_count": null,
      "outputs": [
        {
          "output_type": "execute_result",
          "data": {
            "text/plain": [
              "id               19651\n",
              "sqft_basement      258\n",
              "yr_built           116\n",
              "yr_renovated        68\n",
              "zipcode             70\n",
              "lat               4936\n",
              "long               725\n",
              "sqft_living15      559\n",
              "sqft_lot15        6118\n",
              "date               372\n",
              "price             3747\n",
              "bedrooms            12\n",
              "bathrooms           26\n",
              "sqft_living        725\n",
              "sqft_lot          6593\n",
              "floors               6\n",
              "view                 2\n",
              "condition            5\n",
              "grade               12\n",
              "sqft_above         881\n",
              "dtype: int64"
            ]
          },
          "metadata": {},
          "execution_count": 995
        }
      ]
    },
    {
      "cell_type": "code",
      "source": [
        "def PlotBarCharts(inpData, colsToPlot):\n",
        "    %matplotlib inline\n",
        "    \n",
        "    import matplotlib.pyplot as plt\n",
        "    \n",
        "    # Generating multiple subplots\n",
        "    fig, subPlot=plt.subplots(nrows=1, ncols=len(colsToPlot), figsize=(25,5))\n",
        "    fig.suptitle('Bar charts of: '+ str(colsToPlot))\n",
        "\n",
        "    for colName, plotNumber in zip(colsToPlot, range(len(colsToPlot))):\n",
        "        inpData.groupby(colName).size().plot(kind='bar',ax=subPlot[plotNumber])"
      ],
      "metadata": {
        "id": "JMMJPLwbDE5z"
      },
      "execution_count": null,
      "outputs": []
    },
    {
      "cell_type": "code",
      "source": [
        "df.columns"
      ],
      "metadata": {
        "colab": {
          "base_uri": "https://localhost:8080/"
        },
        "id": "8q7EtXevD0Ls",
        "outputId": "28785ee3-75f1-4d8e-bdcc-b7defeecf701"
      },
      "execution_count": null,
      "outputs": [
        {
          "output_type": "execute_result",
          "data": {
            "text/plain": [
              "Index(['id', 'sqft_basement', 'yr_built', 'yr_renovated', 'zipcode', 'lat',\n",
              "       'long', 'sqft_living15', 'sqft_lot15', 'date', 'price', 'bedrooms',\n",
              "       'bathrooms', 'sqft_living', 'sqft_lot', 'floors', 'view', 'condition',\n",
              "       'grade', 'sqft_above'],\n",
              "      dtype='object')"
            ]
          },
          "metadata": {},
          "execution_count": 997
        }
      ]
    },
    {
      "cell_type": "code",
      "source": [
        "PlotBarCharts(inpData=df, colsToPlot=['sqft_living15','sqft_living'])"
      ],
      "metadata": {
        "colab": {
          "base_uri": "https://localhost:8080/",
          "height": 345
        },
        "id": "dwI1ILhOD3Ec",
        "outputId": "3749950b-ed61-4b5f-94d0-80121209f16d"
      },
      "execution_count": null,
      "outputs": [
        {
          "output_type": "display_data",
          "data": {
            "text/plain": [
              "<Figure size 1800x360 with 2 Axes>"
            ],
            "image/png": "[encoded data removed]"
          },
          "metadata": {
            "needs_background": "light"
          }
        }
      ]
    },
    {
      "cell_type": "code",
      "source": [
        "# Count the frequency of each unique value in the \"category\" column and select the top 10\n",
        "top_categories = df['sqft_living'].value_counts().head(10)\n",
        "\n",
        "# Plot the top 10 categories as a bar graph\n",
        "top_categories.plot(kind='bar')\n",
        "\n",
        "# Set the title and x-axis label\n",
        "plt.title('Top 10 Categories')\n",
        "plt.xlabel('sqft_living')\n",
        "\n",
        "# Show the plot\n",
        "plt.show()"
      ],
      "metadata": {
        "colab": {
          "base_uri": "https://localhost:8080/",
          "height": 312
        },
        "id": "g0dBmO-OEDG4",
        "outputId": "695037f4-6b51-409b-e160-7c37ca8e0972"
      },
      "execution_count": null,
      "outputs": [
        {
          "output_type": "display_data",
          "data": {
            "text/plain": [
              "<Figure size 432x288 with 1 Axes>"
            ],
            "image/png": "[encoded data removed]"
          },
          "metadata": {
            "needs_background": "light"
          }
        }
      ]
    },
    {
      "cell_type": "code",
      "source": [
        "# Count the frequency of each unique value in the \"category\" column and select the top 10\n",
        "top_categories = df['sqft_living15'].value_counts().head(10)\n",
        "\n",
        "# Plot the top 10 categories as a bar graph\n",
        "top_categories.plot(kind='bar')\n",
        "\n",
        "# Set the title and x-axis label\n",
        "plt.title('Top 10 Categories')\n",
        "plt.xlabel('sqft_living15')\n",
        "\n",
        "# Show the plot\n",
        "plt.show()"
      ],
      "metadata": {
        "colab": {
          "base_uri": "https://localhost:8080/",
          "height": 312
        },
        "id": "_siNbp6yFJX5",
        "outputId": "7720eb84-618c-4e9f-feac-27cfff35605f"
      },
      "execution_count": null,
      "outputs": [
        {
          "output_type": "display_data",
          "data": {
            "text/plain": [
              "<Figure size 432x288 with 1 Axes>"
            ],
            "image/png": "[encoded data removed]"
          },
          "metadata": {
            "needs_background": "light"
          }
        }
      ]
    },
    {
      "cell_type": "code",
      "source": [
        "top10_cars = df['sqft_living'].value_counts().sort_values(ascending = False)[:10]\n",
        "top10_mean_prices = [df[df['sqft_living'] == i]['price'].mean() for i in list(top10_cars.index)]\n",
        "\n",
        "fig = plt.figure(figsize=(14,6))\n",
        "ax = fig.add_subplot(121)\n",
        "sns.barplot(top10_cars.index, top10_cars.values, palette='hot')\n",
        "plt.xticks(rotation = 90)\n",
        "plt.ylabel('# Cars')\n",
        "plt.title('Distribution of Category')\n",
        "\n",
        "ax2 = fig.add_subplot(122)\n",
        "sns.lineplot(top10_cars.index, top10_mean_prices, color='r')\n",
        "plt.xticks(rotation = 90)\n",
        "plt.ylabel('Mean Prices')\n",
        "plt.title(\"Categories and its Mean Prices\")\n",
        "plt.show()"
      ],
      "metadata": {
        "colab": {
          "base_uri": "https://localhost:8080/",
          "height": 405
        },
        "id": "OykuwuaUFuUi",
        "outputId": "26b7ad32-29fa-45ca-e985-80547b3935b1"
      },
      "execution_count": null,
      "outputs": [
        {
          "output_type": "display_data",
          "data": {
            "text/plain": [
              "<Figure size 1008x432 with 2 Axes>"
            ],
            "image/png": "[encoded data removed]"
          },
          "metadata": {
            "needs_background": "light"
          }
        }
      ]
    },
    {
      "cell_type": "code",
      "source": [
        "top10_cars = df['condition'].value_counts().sort_values(ascending = False)[:10]\n",
        "top10_mean_prices = [df[df['condition'] == i]['price'].mean() for i in list(top10_cars.index)]\n",
        "\n",
        "fig = plt.figure(figsize=(14,6))\n",
        "ax = fig.add_subplot(121)\n",
        "sns.barplot(top10_cars.index, top10_cars.values, palette='hot')\n",
        "plt.xticks(rotation = 90)\n",
        "plt.ylabel('# Cars')\n",
        "plt.title('Distribution of Category')\n",
        "\n",
        "ax2 = fig.add_subplot(122)\n",
        "sns.lineplot(top10_cars.index, top10_mean_prices, color='r')\n",
        "plt.xticks(rotation = 90)\n",
        "plt.ylabel('Mean Prices')\n",
        "plt.title(\"Categories and its Mean Prices\")\n",
        "plt.show()"
      ],
      "metadata": {
        "colab": {
          "base_uri": "https://localhost:8080/",
          "height": 396
        },
        "id": "ZQ2UhEuMGYk-",
        "outputId": "ee765bff-4b86-4cf3-bbb2-d240aca31b66"
      },
      "execution_count": null,
      "outputs": [
        {
          "output_type": "display_data",
          "data": {
            "text/plain": [
              "<Figure size 1008x432 with 2 Axes>"
            ],
            "image/png": "[encoded data removed]"
          },
          "metadata": {
            "needs_background": "light"
          }
        }
      ]
    },
    {
      "cell_type": "code",
      "source": [
        "top10_cars = df['grade'].value_counts().sort_values(ascending = False)[:10]\n",
        "top10_mean_prices = [df[df['grade'] == i]['price'].mean() for i in list(top10_cars.index)]\n",
        "\n",
        "fig = plt.figure(figsize=(14,6))\n",
        "ax = fig.add_subplot(121)\n",
        "sns.barplot(top10_cars.index, top10_cars.values, palette='hot')\n",
        "plt.xticks(rotation = 90)\n",
        "plt.ylabel('# Cars')\n",
        "plt.title('Distribution of Category')\n",
        "\n",
        "ax2 = fig.add_subplot(122)\n",
        "sns.lineplot(top10_cars.index, top10_mean_prices, color='r')\n",
        "plt.xticks(rotation = 90)\n",
        "plt.ylabel('Mean Prices')\n",
        "plt.title(\"Categories and its Mean Prices\")\n",
        "plt.show()"
      ],
      "metadata": {
        "colab": {
          "base_uri": "https://localhost:8080/",
          "height": 393
        },
        "id": "jV-0926KGqwa",
        "outputId": "b6981d48-56e7-44da-e25c-3c3fa39e572a"
      },
      "execution_count": null,
      "outputs": [
        {
          "output_type": "display_data",
          "data": {
            "text/plain": [
              "<Figure size 1008x432 with 2 Axes>"
            ],
            "image/png": "[encoded data removed]"
          },
          "metadata": {
            "needs_background": "light"
          }
        }
      ]
    },
    {
      "cell_type": "code",
      "source": [
        "top10_cars = df['bedrooms'].value_counts().sort_values(ascending = False)[:10]\n",
        "top10_mean_prices = [df[df['bedrooms'] == i]['price'].mean() for i in list(top10_cars.index)]\n",
        "\n",
        "fig = plt.figure(figsize=(14,6))\n",
        "ax = fig.add_subplot(121)\n",
        "sns.barplot(top10_cars.index, top10_cars.values, palette='hot')\n",
        "plt.xticks(rotation = 90)\n",
        "plt.ylabel('# Cars')\n",
        "plt.title('Distribution of Category')\n",
        "\n",
        "ax2 = fig.add_subplot(122)\n",
        "sns.lineplot(top10_cars.index, top10_mean_prices, color='r')\n",
        "plt.xticks(rotation = 90)\n",
        "plt.ylabel('Mean Prices')\n",
        "plt.title(\"Categories and its Mean Prices\")\n",
        "plt.show()"
      ],
      "metadata": {
        "colab": {
          "base_uri": "https://localhost:8080/",
          "height": 402
        },
        "id": "5qhy1PP2JOCG",
        "outputId": "37c33379-fd77-4b6f-b26c-32b80be1f6a2"
      },
      "execution_count": null,
      "outputs": [
        {
          "output_type": "display_data",
          "data": {
            "text/plain": [
              "<Figure size 1008x432 with 2 Axes>"
            ],
            "image/png": "[encoded data removed]"
          },
          "metadata": {
            "needs_background": "light"
          }
        }
      ]
    },
    {
      "cell_type": "code",
      "source": [
        "top10_cars = df['sqft_lot'].value_counts().sort_values(ascending = False)[:10]\n",
        "top10_mean_prices = [df[df['sqft_lot'] == i]['price'].mean() for i in list(top10_cars.index)]\n",
        "\n",
        "fig = plt.figure(figsize=(14,6))\n",
        "ax = fig.add_subplot(121)\n",
        "sns.barplot(top10_cars.index, top10_cars.values, palette='hot')\n",
        "plt.xticks(rotation = 90)\n",
        "plt.ylabel('# Cars')\n",
        "plt.title('Distribution of Category')\n",
        "\n",
        "ax2 = fig.add_subplot(122)\n",
        "sns.lineplot(top10_cars.index, top10_mean_prices, color='r')\n",
        "plt.xticks(rotation = 90)\n",
        "plt.ylabel('Mean Prices')\n",
        "plt.title(\"Categories and its Mean Prices\")\n",
        "plt.show()"
      ],
      "metadata": {
        "colab": {
          "base_uri": "https://localhost:8080/",
          "height": 406
        },
        "id": "XFWOuosJJd_4",
        "outputId": "8d112284-7b44-4245-a166-d78c62256a90"
      },
      "execution_count": null,
      "outputs": [
        {
          "output_type": "display_data",
          "data": {
            "text/plain": [
              "<Figure size 1008x432 with 2 Axes>"
            ],
            "image/png": "[encoded data removed]"
          },
          "metadata": {
            "needs_background": "light"
          }
        }
      ]
    },
    {
      "cell_type": "code",
      "source": [
        "top10_cars = df['view'].value_counts().sort_values(ascending = False)[:10]\n",
        "top10_mean_prices = [df[df['view'] == i]['price'].mean() for i in list(top10_cars.index)]\n",
        "\n",
        "fig = plt.figure(figsize=(14,6))\n",
        "ax = fig.add_subplot(121)\n",
        "sns.barplot(top10_cars.index, top10_cars.values, palette='hot')\n",
        "plt.xticks(rotation = 90)\n",
        "plt.ylabel('# Cars')\n",
        "plt.title('Distribution of Category')\n",
        "\n",
        "ax2 = fig.add_subplot(122)\n",
        "sns.lineplot(top10_cars.index, top10_mean_prices, color='r')\n",
        "plt.xticks(rotation = 90)\n",
        "plt.ylabel('Mean Prices')\n",
        "plt.title(\"Categories and its Mean Prices\")\n",
        "plt.show()"
      ],
      "metadata": {
        "colab": {
          "base_uri": "https://localhost:8080/",
          "height": 396
        },
        "id": "rcwtZ5I1JxVo",
        "outputId": "02ad866c-5c0f-45b4-f260-29272c39c464"
      },
      "execution_count": null,
      "outputs": [
        {
          "output_type": "display_data",
          "data": {
            "text/plain": [
              "<Figure size 1008x432 with 2 Axes>"
            ],
            "image/png": "[encoded data removed]"
          },
          "metadata": {
            "needs_background": "light"
          }
        }
      ]
    },
    {
      "cell_type": "code",
      "source": [
        "top10_cars = df['sqft_above'].value_counts().sort_values(ascending = False)[:10]\n",
        "top10_mean_prices = [df[df['sqft_above'] == i]['price'].mean() for i in list(top10_cars.index)]\n",
        "\n",
        "fig = plt.figure(figsize=(14,6))\n",
        "ax = fig.add_subplot(121)\n",
        "sns.barplot(top10_cars.index, top10_cars.values, palette='hot')\n",
        "plt.xticks(rotation = 90)\n",
        "plt.ylabel('# Cars')\n",
        "plt.title('Distribution of Category')\n",
        "\n",
        "ax2 = fig.add_subplot(122)\n",
        "sns.lineplot(top10_cars.index, top10_mean_prices, color='r')\n",
        "plt.xticks(rotation = 90)\n",
        "plt.ylabel('Mean Prices')\n",
        "plt.title(\"Categories and its Mean Prices\")\n",
        "plt.show()"
      ],
      "metadata": {
        "colab": {
          "base_uri": "https://localhost:8080/",
          "height": 405
        },
        "id": "KloCEZcrZF8V",
        "outputId": "5de3b491-ee39-491e-df65-96c1484b6b25"
      },
      "execution_count": null,
      "outputs": [
        {
          "output_type": "display_data",
          "data": {
            "text/plain": [
              "<Figure size 1008x432 with 2 Axes>"
            ],
            "image/png": "[encoded data removed]"
          },
          "metadata": {
            "needs_background": "light"
          }
        }
      ]
    },
    {
      "cell_type": "code",
      "source": [
        "df['bathrooms'].value_counts()"
      ],
      "metadata": {
        "colab": {
          "base_uri": "https://localhost:8080/"
        },
        "id": "17YwwtmjKKrh",
        "outputId": "2c28bab5-f916-4a41-96fa-c3562bc16545"
      },
      "execution_count": null,
      "outputs": [
        {
          "output_type": "execute_result",
          "data": {
            "text/plain": [
              "2.25    8250\n",
              "2.50    3305\n",
              "1.00    2525\n",
              "1.75    1881\n",
              "2.00    1198\n",
              "1.50     925\n",
              "2.75     669\n",
              "3.00     433\n",
              "3.50     365\n",
              "3.25     302\n",
              "3.75      77\n",
              "4.00      64\n",
              "4.50      50\n",
              "0.75      40\n",
              "4.25      37\n",
              "4.75       8\n",
              "5.25       6\n",
              "5.50       5\n",
              "0.00       5\n",
              "5.00       5\n",
              "1.25       4\n",
              "6.00       3\n",
              "0.50       2\n",
              "5.75       2\n",
              "7.50       1\n",
              "6.50       1\n",
              "Name: bathrooms, dtype: int64"
            ]
          },
          "metadata": {},
          "execution_count": 1008
        }
      ]
    },
    {
      "cell_type": "code",
      "source": [
        "df['floors'].value_counts()"
      ],
      "metadata": {
        "colab": {
          "base_uri": "https://localhost:8080/"
        },
        "id": "YOIsQc5NKfjz",
        "outputId": "22b39a2e-bd29-4138-c3f8-7dbccb99b526"
      },
      "execution_count": null,
      "outputs": [
        {
          "output_type": "execute_result",
          "data": {
            "text/plain": [
              "1.0    12336\n",
              "2.0     5932\n",
              "1.5     1366\n",
              "3.0      423\n",
              "2.5      101\n",
              "3.5        5\n",
              "Name: floors, dtype: int64"
            ]
          },
          "metadata": {},
          "execution_count": 1009
        }
      ]
    },
    {
      "cell_type": "code",
      "source": [
        "df['floors'] = df['floors'].replace(2.5, 3)\n",
        "df['floors'] = df['floors'].replace(1.5, 2)\n",
        "df['floors'] = df['floors'].replace(3.5, 4)\n"
      ],
      "metadata": {
        "id": "_lXHonuBKp3W"
      },
      "execution_count": null,
      "outputs": []
    },
    {
      "cell_type": "code",
      "source": [
        "df['floors'].value_counts()"
      ],
      "metadata": {
        "colab": {
          "base_uri": "https://localhost:8080/"
        },
        "id": "JkjMJKTwLdZS",
        "outputId": "e1156406-4dc1-450b-8d39-e78bf6b9503c"
      },
      "execution_count": null,
      "outputs": [
        {
          "output_type": "execute_result",
          "data": {
            "text/plain": [
              "1.0    12336\n",
              "2.0     7298\n",
              "3.0      524\n",
              "4.0        5\n",
              "Name: floors, dtype: int64"
            ]
          },
          "metadata": {},
          "execution_count": 1011
        }
      ]
    },
    {
      "cell_type": "code",
      "source": [
        "df.nunique()"
      ],
      "metadata": {
        "id": "Ri7B19NgLfTW",
        "colab": {
          "base_uri": "https://localhost:8080/"
        },
        "outputId": "ed18e666-eadc-4dad-f670-ec8f29aff29d"
      },
      "execution_count": null,
      "outputs": [
        {
          "output_type": "execute_result",
          "data": {
            "text/plain": [
              "id               19651\n",
              "sqft_basement      258\n",
              "yr_built           116\n",
              "yr_renovated        68\n",
              "zipcode             70\n",
              "lat               4936\n",
              "long               725\n",
              "sqft_living15      559\n",
              "sqft_lot15        6118\n",
              "date               372\n",
              "price             3747\n",
              "bedrooms            12\n",
              "bathrooms           26\n",
              "sqft_living        725\n",
              "sqft_lot          6593\n",
              "floors               4\n",
              "view                 2\n",
              "condition            5\n",
              "grade               12\n",
              "sqft_above         881\n",
              "dtype: int64"
            ]
          },
          "metadata": {},
          "execution_count": 1012
        }
      ]
    },
    {
      "cell_type": "code",
      "source": [
        "df.info()"
      ],
      "metadata": {
        "colab": {
          "base_uri": "https://localhost:8080/"
        },
        "id": "FjHx8CtNbt8D",
        "outputId": "e0436a74-6352-4b19-82e6-ca678e2e0118"
      },
      "execution_count": null,
      "outputs": [
        {
          "output_type": "stream",
          "name": "stdout",
          "text": [
            "<class 'pandas.core.frame.DataFrame'>\n",
            "Int64Index: 20163 entries, 0 to 21968\n",
            "Data columns (total 20 columns):\n",
            " #   Column         Non-Null Count  Dtype  \n",
            "---  ------         --------------  -----  \n",
            " 0   id             20163 non-null  int64  \n",
            " 1   sqft_basement  20163 non-null  int64  \n",
            " 2   yr_built       20163 non-null  int64  \n",
            " 3   yr_renovated   20163 non-null  int64  \n",
            " 4   zipcode        20163 non-null  int64  \n",
            " 5   lat            20163 non-null  float64\n",
            " 6   long           20163 non-null  float64\n",
            " 7   sqft_living15  20163 non-null  int64  \n",
            " 8   sqft_lot15     20163 non-null  int64  \n",
            " 9   date           20163 non-null  object \n",
            " 10  price          20163 non-null  float64\n",
            " 11  bedrooms       20163 non-null  float64\n",
            " 12  bathrooms      20163 non-null  float64\n",
            " 13  sqft_living    20163 non-null  int64  \n",
            " 14  sqft_lot       20163 non-null  int64  \n",
            " 15  floors         20163 non-null  float64\n",
            " 16  view           20163 non-null  int64  \n",
            " 17  condition      20163 non-null  int64  \n",
            " 18  grade          20163 non-null  int64  \n",
            " 19  sqft_above     20163 non-null  int64  \n",
            "dtypes: float64(6), int64(13), object(1)\n",
            "memory usage: 3.2+ MB\n"
          ]
        }
      ]
    },
    {
      "cell_type": "code",
      "source": [
        "df['floors'] = df['floors'].astype('category')\n",
        "df['condition'] = df['condition'].astype('category')\n",
        "df['grade'] = df['grade'].astype('category')\n",
        "df['bedrooms'] = df['bedrooms'].astype('category')\n",
        "df['bathrooms'] = df['bathrooms'].astype('category')"
      ],
      "metadata": {
        "id": "Z3FUYSZ9fQgG"
      },
      "execution_count": null,
      "outputs": []
    },
    {
      "cell_type": "code",
      "source": [
        "df = df.drop(columns=['view'])"
      ],
      "metadata": {
        "id": "OeoTnLx_bvAc"
      },
      "execution_count": null,
      "outputs": []
    },
    {
      "cell_type": "code",
      "source": [
        "from sklearn.preprocessing import LabelEncoder\n",
        "# create a label encoder object\n",
        "le = LabelEncoder()\n",
        "\n",
        "# apply label encoding to each categorical variable\n",
        "df['date'] = le.fit_transform(df['date'])\n",
        "df['zipcode'] = le.fit_transform(df['zipcode'])"
      ],
      "metadata": {
        "id": "beX8Q8nDh3C_"
      },
      "execution_count": null,
      "outputs": []
    },
    {
      "cell_type": "code",
      "source": [
        "df['date'] = df['date'].astype('category')\n",
        "df['zipcode'] = df['zipcode'].astype('category')"
      ],
      "metadata": {
        "id": "r2DpfoB0h3FZ"
      },
      "execution_count": null,
      "outputs": []
    },
    {
      "cell_type": "code",
      "source": [
        "df.info()"
      ],
      "metadata": {
        "colab": {
          "base_uri": "https://localhost:8080/"
        },
        "id": "xjvcIE9Eh3H5",
        "outputId": "dab9af54-a6af-4ef1-c6ca-a3708e7904bc"
      },
      "execution_count": null,
      "outputs": [
        {
          "output_type": "stream",
          "name": "stdout",
          "text": [
            "<class 'pandas.core.frame.DataFrame'>\n",
            "Int64Index: 20163 entries, 0 to 21968\n",
            "Data columns (total 19 columns):\n",
            " #   Column         Non-Null Count  Dtype   \n",
            "---  ------         --------------  -----   \n",
            " 0   id             20163 non-null  int64   \n",
            " 1   sqft_basement  20163 non-null  int64   \n",
            " 2   yr_built       20163 non-null  int64   \n",
            " 3   yr_renovated   20163 non-null  int64   \n",
            " 4   zipcode        20163 non-null  category\n",
            " 5   lat            20163 non-null  float64 \n",
            " 6   long           20163 non-null  float64 \n",
            " 7   sqft_living15  20163 non-null  int64   \n",
            " 8   sqft_lot15     20163 non-null  int64   \n",
            " 9   date           20163 non-null  category\n",
            " 10  price          20163 non-null  float64 \n",
            " 11  bedrooms       20163 non-null  category\n",
            " 12  bathrooms      20163 non-null  category\n",
            " 13  sqft_living    20163 non-null  int64   \n",
            " 14  sqft_lot       20163 non-null  int64   \n",
            " 15  floors         20163 non-null  category\n",
            " 16  condition      20163 non-null  category\n",
            " 17  grade          20163 non-null  category\n",
            " 18  sqft_above     20163 non-null  int64   \n",
            "dtypes: category(7), float64(3), int64(9)\n",
            "memory usage: 2.2 MB\n"
          ]
        }
      ]
    },
    {
      "cell_type": "code",
      "source": [
        "df"
      ],
      "metadata": {
        "colab": {
          "base_uri": "https://localhost:8080/",
          "height": 487
        },
        "id": "SMqkYQIth3Ki",
        "outputId": "94fef3f9-fb08-4522-c4ca-277852e6ef2f"
      },
      "execution_count": null,
      "outputs": [
        {
          "output_type": "execute_result",
          "data": {
            "text/plain": [
              "               id  sqft_basement  yr_built  yr_renovated zipcode      lat  \\\n",
              "0      7129300520              0      1955             0      66  47.5112   \n",
              "1      6414100192            400      1951          1991      55  47.7210   \n",
              "2      5631500400              0      1933             0      16  47.7379   \n",
              "3      2487200875            910      1965             0      58  47.5208   \n",
              "4      1954400510              0      1987             0      37  47.6168   \n",
              "...           ...            ...       ...           ...     ...      ...   \n",
              "21964   263000018              0      2009             0      42  47.6993   \n",
              "21965  6600060120              0      2014             0      60  47.5107   \n",
              "21966  1523300141              0      2009             0      59  47.5944   \n",
              "21967   291310100              0      2004             0      15  47.5345   \n",
              "21968  1523300157              0      2008             0      59  47.5941   \n",
              "\n",
              "          long  sqft_living15  sqft_lot15 date     price bedrooms bathrooms  \\\n",
              "0     -122.257           1340        5650  160  221900.0      3.0      2.25   \n",
              "1     -122.319           1690        7639  111  538000.0      3.0      2.25   \n",
              "2     -122.233           2720        8062  298  180000.0      2.0      2.25   \n",
              "3     -122.393           1360        5000  111  604000.0      4.0      2.25   \n",
              "4     -122.045           1800        7503  213  510000.0      3.0      2.00   \n",
              "...        ...            ...         ...  ...       ...      ...       ...   \n",
              "21964 -122.346           1530        1509  252  360000.0      3.0      2.25   \n",
              "21965 -122.362           1830        7200  273  400000.0      4.0      2.50   \n",
              "21966 -122.299           1020        2007  277  402101.0      3.0      2.25   \n",
              "21967 -122.069           1410        1287  189  400000.0      3.0      2.50   \n",
              "21968 -122.299           1020        1357  186  325000.0      2.0      0.75   \n",
              "\n",
              "       sqft_living  sqft_lot floors condition grade  sqft_above  \n",
              "0             1180      5650    1.0         3     7        1180  \n",
              "1             2570      7242    2.0         3     7        2170  \n",
              "2              770     10000    1.0         3     6         770  \n",
              "3             1960      5000    1.0         5     7        1050  \n",
              "4             1680      8080    1.0         3     8        1680  \n",
              "...            ...       ...    ...       ...   ...         ...  \n",
              "21964         1530      1131    3.0         3     8        1530  \n",
              "21965         2310      5813    2.0         3     8        2310  \n",
              "21966         1020      1350    2.0         3     7        1020  \n",
              "21967         1600      2388    2.0         3     8        1600  \n",
              "21968         1020      1076    2.0         3     7        1020  \n",
              "\n",
              "[20163 rows x 19 columns]"
            ],
            "text/html": [
              "\n",
              "  <div id=\"df-9c2c6501-1b98-4f81-8809-c9b8b471ba68\">\n",
              "    <div class=\"colab-df-container\">\n",
              "      <div>\n",
              "<style scoped>\n",
              "    .dataframe tbody tr th:only-of-type {\n",
              "        vertical-align: middle;\n",
              "    }\n",
              "\n",
              "    .dataframe tbody tr th {\n",
              "        vertical-align: top;\n",
              "    }\n",
              "\n",
              "    .dataframe thead th {\n",
              "        text-align: right;\n",
              "    }\n",
              "</style>\n",
              "<table border=\"1\" class=\"dataframe\">\n",
              "  <thead>\n",
              "    <tr style=\"text-align: right;\">\n",
              "      <th></th>\n",
              "      <th>id</th>\n",
              "      <th>sqft_basement</th>\n",
              "      <th>yr_built</th>\n",
              "      <th>yr_renovated</th>\n",
              "      <th>zipcode</th>\n",
              "      <th>lat</th>\n",
              "      <th>long</th>\n",
              "      <th>sqft_living15</th>\n",
              "      <th>sqft_lot15</th>\n",
              "      <th>date</th>\n",
              "      <th>price</th>\n",
              "      <th>bedrooms</th>\n",
              "      <th>bathrooms</th>\n",
              "      <th>sqft_living</th>\n",
              "      <th>sqft_lot</th>\n",
              "      <th>floors</th>\n",
              "      <th>condition</th>\n",
              "      <th>grade</th>\n",
              "      <th>sqft_above</th>\n",
              "    </tr>\n",
              "  </thead>\n",
              "  <tbody>\n",
              "    <tr>\n",
              "      <th>0</th>\n",
              "      <td>7129300520</td>\n",
              "      <td>0</td>\n",
              "      <td>1955</td>\n",
              "      <td>0</td>\n",
              "      <td>66</td>\n",
              "      <td>47.5112</td>\n",
              "      <td>-122.257</td>\n",
              "      <td>1340</td>\n",
              "      <td>5650</td>\n",
              "      <td>160</td>\n",
              "      <td>221900.0</td>\n",
              "      <td>3.0</td>\n",
              "      <td>2.25</td>\n",
              "      <td>1180</td>\n",
              "      <td>5650</td>\n",
              "      <td>1.0</td>\n",
              "      <td>3</td>\n",
              "      <td>7</td>\n",
              "      <td>1180</td>\n",
              "    </tr>\n",
              "    <tr>\n",
              "      <th>1</th>\n",
              "      <td>6414100192</td>\n",
              "      <td>400</td>\n",
              "      <td>1951</td>\n",
              "      <td>1991</td>\n",
              "      <td>55</td>\n",
              "      <td>47.7210</td>\n",
              "      <td>-122.319</td>\n",
              "      <td>1690</td>\n",
              "      <td>7639</td>\n",
              "      <td>111</td>\n",
              "      <td>538000.0</td>\n",
              "      <td>3.0</td>\n",
              "      <td>2.25</td>\n",
              "      <td>2570</td>\n",
              "      <td>7242</td>\n",
              "      <td>2.0</td>\n",
              "      <td>3</td>\n",
              "      <td>7</td>\n",
              "      <td>2170</td>\n",
              "    </tr>\n",
              "    <tr>\n",
              "      <th>2</th>\n",
              "      <td>5631500400</td>\n",
              "      <td>0</td>\n",
              "      <td>1933</td>\n",
              "      <td>0</td>\n",
              "      <td>16</td>\n",
              "      <td>47.7379</td>\n",
              "      <td>-122.233</td>\n",
              "      <td>2720</td>\n",
              "      <td>8062</td>\n",
              "      <td>298</td>\n",
              "      <td>180000.0</td>\n",
              "      <td>2.0</td>\n",
              "      <td>2.25</td>\n",
              "      <td>770</td>\n",
              "      <td>10000</td>\n",
              "      <td>1.0</td>\n",
              "      <td>3</td>\n",
              "      <td>6</td>\n",
              "      <td>770</td>\n",
              "    </tr>\n",
              "    <tr>\n",
              "      <th>3</th>\n",
              "      <td>2487200875</td>\n",
              "      <td>910</td>\n",
              "      <td>1965</td>\n",
              "      <td>0</td>\n",
              "      <td>58</td>\n",
              "      <td>47.5208</td>\n",
              "      <td>-122.393</td>\n",
              "      <td>1360</td>\n",
              "      <td>5000</td>\n",
              "      <td>111</td>\n",
              "      <td>604000.0</td>\n",
              "      <td>4.0</td>\n",
              "      <td>2.25</td>\n",
              "      <td>1960</td>\n",
              "      <td>5000</td>\n",
              "      <td>1.0</td>\n",
              "      <td>5</td>\n",
              "      <td>7</td>\n",
              "      <td>1050</td>\n",
              "    </tr>\n",
              "    <tr>\n",
              "      <th>4</th>\n",
              "      <td>1954400510</td>\n",
              "      <td>0</td>\n",
              "      <td>1987</td>\n",
              "      <td>0</td>\n",
              "      <td>37</td>\n",
              "      <td>47.6168</td>\n",
              "      <td>-122.045</td>\n",
              "      <td>1800</td>\n",
              "      <td>7503</td>\n",
              "      <td>213</td>\n",
              "      <td>510000.0</td>\n",
              "      <td>3.0</td>\n",
              "      <td>2.00</td>\n",
              "      <td>1680</td>\n",
              "      <td>8080</td>\n",
              "      <td>1.0</td>\n",
              "      <td>3</td>\n",
              "      <td>8</td>\n",
              "      <td>1680</td>\n",
              "    </tr>\n",
              "    <tr>\n",
              "      <th>...</th>\n",
              "      <td>...</td>\n",
              "      <td>...</td>\n",
              "      <td>...</td>\n",
              "      <td>...</td>\n",
              "      <td>...</td>\n",
              "      <td>...</td>\n",
              "      <td>...</td>\n",
              "      <td>...</td>\n",
              "      <td>...</td>\n",
              "      <td>...</td>\n",
              "      <td>...</td>\n",
              "      <td>...</td>\n",
              "      <td>...</td>\n",
              "      <td>...</td>\n",
              "      <td>...</td>\n",
              "      <td>...</td>\n",
              "      <td>...</td>\n",
              "      <td>...</td>\n",
              "      <td>...</td>\n",
              "    </tr>\n",
              "    <tr>\n",
              "      <th>21964</th>\n",
              "      <td>263000018</td>\n",
              "      <td>0</td>\n",
              "      <td>2009</td>\n",
              "      <td>0</td>\n",
              "      <td>42</td>\n",
              "      <td>47.6993</td>\n",
              "      <td>-122.346</td>\n",
              "      <td>1530</td>\n",
              "      <td>1509</td>\n",
              "      <td>252</td>\n",
              "      <td>360000.0</td>\n",
              "      <td>3.0</td>\n",
              "      <td>2.25</td>\n",
              "      <td>1530</td>\n",
              "      <td>1131</td>\n",
              "      <td>3.0</td>\n",
              "      <td>3</td>\n",
              "      <td>8</td>\n",
              "      <td>1530</td>\n",
              "    </tr>\n",
              "    <tr>\n",
              "      <th>21965</th>\n",
              "      <td>6600060120</td>\n",
              "      <td>0</td>\n",
              "      <td>2014</td>\n",
              "      <td>0</td>\n",
              "      <td>60</td>\n",
              "      <td>47.5107</td>\n",
              "      <td>-122.362</td>\n",
              "      <td>1830</td>\n",
              "      <td>7200</td>\n",
              "      <td>273</td>\n",
              "      <td>400000.0</td>\n",
              "      <td>4.0</td>\n",
              "      <td>2.50</td>\n",
              "      <td>2310</td>\n",
              "      <td>5813</td>\n",
              "      <td>2.0</td>\n",
              "      <td>3</td>\n",
              "      <td>8</td>\n",
              "      <td>2310</td>\n",
              "    </tr>\n",
              "    <tr>\n",
              "      <th>21966</th>\n",
              "      <td>1523300141</td>\n",
              "      <td>0</td>\n",
              "      <td>2009</td>\n",
              "      <td>0</td>\n",
              "      <td>59</td>\n",
              "      <td>47.5944</td>\n",
              "      <td>-122.299</td>\n",
              "      <td>1020</td>\n",
              "      <td>2007</td>\n",
              "      <td>277</td>\n",
              "      <td>402101.0</td>\n",
              "      <td>3.0</td>\n",
              "      <td>2.25</td>\n",
              "      <td>1020</td>\n",
              "      <td>1350</td>\n",
              "      <td>2.0</td>\n",
              "      <td>3</td>\n",
              "      <td>7</td>\n",
              "      <td>1020</td>\n",
              "    </tr>\n",
              "    <tr>\n",
              "      <th>21967</th>\n",
              "      <td>291310100</td>\n",
              "      <td>0</td>\n",
              "      <td>2004</td>\n",
              "      <td>0</td>\n",
              "      <td>15</td>\n",
              "      <td>47.5345</td>\n",
              "      <td>-122.069</td>\n",
              "      <td>1410</td>\n",
              "      <td>1287</td>\n",
              "      <td>189</td>\n",
              "      <td>400000.0</td>\n",
              "      <td>3.0</td>\n",
              "      <td>2.50</td>\n",
              "      <td>1600</td>\n",
              "      <td>2388</td>\n",
              "      <td>2.0</td>\n",
              "      <td>3</td>\n",
              "      <td>8</td>\n",
              "      <td>1600</td>\n",
              "    </tr>\n",
              "    <tr>\n",
              "      <th>21968</th>\n",
              "      <td>1523300157</td>\n",
              "      <td>0</td>\n",
              "      <td>2008</td>\n",
              "      <td>0</td>\n",
              "      <td>59</td>\n",
              "      <td>47.5941</td>\n",
              "      <td>-122.299</td>\n",
              "      <td>1020</td>\n",
              "      <td>1357</td>\n",
              "      <td>186</td>\n",
              "      <td>325000.0</td>\n",
              "      <td>2.0</td>\n",
              "      <td>0.75</td>\n",
              "      <td>1020</td>\n",
              "      <td>1076</td>\n",
              "      <td>2.0</td>\n",
              "      <td>3</td>\n",
              "      <td>7</td>\n",
              "      <td>1020</td>\n",
              "    </tr>\n",
              "  </tbody>\n",
              "</table>\n",
              "<p>20163 rows × 19 columns</p>\n",
              "</div>\n",
              "      <button class=\"colab-df-convert\" onclick=\"convertToInteractive('df-9c2c6501-1b98-4f81-8809-c9b8b471ba68')\"\n",
              "              title=\"Convert this dataframe to an interactive table.\"\n",
              "              style=\"display:none;\">\n",
              "        \n",
              "  <svg xmlns=\"http://www.w3.org/2000/svg\" height=\"24px\"viewBox=\"0 0 24 24\"\n",
              "       width=\"24px\">\n",
              "    <path d=\"M0 0h24v24H0V0z\" fill=\"none\"/>\n",
              "    <path d=\"M18.56 5.44l.94 2.06.94-2.06 2.06-.94-2.06-.94-.94-2.06-.94 2.06-2.06.94zm-11 1L8.5 8.5l.94-2.06 2.06-.94-2.06-.94L8.5 2.5l-.94 2.06-2.06.94zm10 10l.94 2.06.94-2.06 2.06-.94-2.06-.94-.94-2.06-.94 2.06-2.06.94z\"/><path d=\"M17.41 7.96l-1.37-1.37c-.4-.4-.92-.59-1.43-.59-.52 0-1.04.2-1.43.59L10.3 9.45l-7.72 7.72c-.78.78-.78 2.05 0 2.83L4 21.41c.39.39.9.59 1.41.59.51 0 1.02-.2 1.41-.59l7.78-7.78 2.81-2.81c.8-.78.8-2.07 0-2.86zM5.41 20L4 18.59l7.72-7.72 1.47 1.35L5.41 20z\"/>\n",
              "  </svg>\n",
              "      </button>\n",
              "      \n",
              "  <style>\n",
              "    .colab-df-container {\n",
              "      display:flex;\n",
              "      flex-wrap:wrap;\n",
              "      gap: 12px;\n",
              "    }\n",
              "\n",
              "    .colab-df-convert {\n",
              "      background-color: #E8F0FE;\n",
              "      border: none;\n",
              "      border-radius: 50%;\n",
              "      cursor: pointer;\n",
              "      display: none;\n",
              "      fill: #1967D2;\n",
              "      height: 32px;\n",
              "      padding: 0 0 0 0;\n",
              "      width: 32px;\n",
              "    }\n",
              "\n",
              "    .colab-df-convert:hover {\n",
              "      background-color: #E2EBFA;\n",
              "      box-shadow: 0px 1px 2px rgba(60, 64, 67, 0.3), 0px 1px 3px 1px rgba(60, 64, 67, 0.15);\n",
              "      fill: #174EA6;\n",
              "    }\n",
              "\n",
              "    [theme=dark] .colab-df-convert {\n",
              "      background-color: #3B4455;\n",
              "      fill: #D2E3FC;\n",
              "    }\n",
              "\n",
              "    [theme=dark] .colab-df-convert:hover {\n",
              "      background-color: #434B5C;\n",
              "      box-shadow: 0px 1px 3px 1px rgba(0, 0, 0, 0.15);\n",
              "      filter: drop-shadow(0px 1px 2px rgba(0, 0, 0, 0.3));\n",
              "      fill: #FFFFFF;\n",
              "    }\n",
              "  </style>\n",
              "\n",
              "      <script>\n",
              "        const buttonEl =\n",
              "          document.querySelector('#df-9c2c6501-1b98-4f81-8809-c9b8b471ba68 button.colab-df-convert');\n",
              "        buttonEl.style.display =\n",
              "          google.colab.kernel.accessAllowed ? 'block' : 'none';\n",
              "\n",
              "        async function convertToInteractive(key) {\n",
              "          const element = document.querySelector('#df-9c2c6501-1b98-4f81-8809-c9b8b471ba68');\n",
              "          const dataTable =\n",
              "            await google.colab.kernel.invokeFunction('convertToInteractive',\n",
              "                                                     [key], {});\n",
              "          if (!dataTable) return;\n",
              "\n",
              "          const docLinkHtml = 'Like what you see? Visit the ' +\n",
              "            '<a target=\"_blank\" href=https://colab.research.google.com/notebooks/data_table.ipynb>data table notebook</a>'\n",
              "            + ' to learn more about interactive tables.';\n",
              "          element.innerHTML = '';\n",
              "          dataTable['output_type'] = 'display_data';\n",
              "          await google.colab.output.renderOutput(dataTable, element);\n",
              "          const docLink = document.createElement('div');\n",
              "          docLink.innerHTML = docLinkHtml;\n",
              "          element.appendChild(docLink);\n",
              "        }\n",
              "      </script>\n",
              "    </div>\n",
              "  </div>\n",
              "  "
            ]
          },
          "metadata": {},
          "execution_count": 1019
        }
      ]
    },
    {
      "cell_type": "code",
      "source": [
        "df[df['sqft_basement'] == 0]"
      ],
      "metadata": {
        "colab": {
          "base_uri": "https://localhost:8080/",
          "height": 487
        },
        "id": "m1xiM6ouu422",
        "outputId": "43929795-278e-4f36-eea5-bf75d28e4107"
      },
      "execution_count": null,
      "outputs": [
        {
          "output_type": "execute_result",
          "data": {
            "text/plain": [
              "               id  sqft_basement  yr_built  yr_renovated zipcode      lat  \\\n",
              "0      7129300520              0      1955             0      66  47.5112   \n",
              "2      5631500400              0      1933             0      16  47.7379   \n",
              "4      1954400510              0      1987             0      37  47.6168   \n",
              "6      1321400060              0      1995             0       2  47.3097   \n",
              "7      2008000270              0      1963             0      68  47.4095   \n",
              "...           ...            ...       ...           ...     ...      ...   \n",
              "21964   263000018              0      2009             0      42  47.6993   \n",
              "21965  6600060120              0      2014             0      60  47.5107   \n",
              "21966  1523300141              0      2009             0      59  47.5944   \n",
              "21967   291310100              0      2004             0      15  47.5345   \n",
              "21968  1523300157              0      2008             0      59  47.5941   \n",
              "\n",
              "          long  sqft_living15  sqft_lot15 date     price bedrooms bathrooms  \\\n",
              "0     -122.257           1340        5650  160  221900.0      3.0      2.25   \n",
              "2     -122.233           2720        8062  298  180000.0      2.0      2.25   \n",
              "4     -122.045           1800        7503  213  510000.0      3.0      2.00   \n",
              "6     -122.327           2238        6819  326  257500.0      3.0      2.25   \n",
              "7     -122.315           1650        9711  176  291850.0      3.0      2.25   \n",
              "...        ...            ...         ...  ...       ...      ...       ...   \n",
              "21964 -122.346           1530        1509  252  360000.0      3.0      2.25   \n",
              "21965 -122.362           1830        7200  273  400000.0      4.0      2.50   \n",
              "21966 -122.299           1020        2007  277  402101.0      3.0      2.25   \n",
              "21967 -122.069           1410        1287  189  400000.0      3.0      2.50   \n",
              "21968 -122.299           1020        1357  186  325000.0      2.0      0.75   \n",
              "\n",
              "       sqft_living  sqft_lot floors condition grade  sqft_above  \n",
              "0             1180      5650    1.0         3     7        1180  \n",
              "2              770     10000    1.0         3     6         770  \n",
              "4             1680      8080    1.0         3     8        1680  \n",
              "6             1715      6819    2.0         3     7        1715  \n",
              "7             1060      9711    1.0         3     7        1060  \n",
              "...            ...       ...    ...       ...   ...         ...  \n",
              "21964         1530      1131    3.0         3     8        1530  \n",
              "21965         2310      5813    2.0         3     8        2310  \n",
              "21966         1020      1350    2.0         3     7        1020  \n",
              "21967         1600      2388    2.0         3     8        1600  \n",
              "21968         1020      1076    2.0         3     7        1020  \n",
              "\n",
              "[12757 rows x 19 columns]"
            ],
            "text/html": [
              "\n",
              "  <div id=\"df-7e8d27f6-7d74-401c-b080-8a28d361a052\">\n",
              "    <div class=\"colab-df-container\">\n",
              "      <div>\n",
              "<style scoped>\n",
              "    .dataframe tbody tr th:only-of-type {\n",
              "        vertical-align: middle;\n",
              "    }\n",
              "\n",
              "    .dataframe tbody tr th {\n",
              "        vertical-align: top;\n",
              "    }\n",
              "\n",
              "    .dataframe thead th {\n",
              "        text-align: right;\n",
              "    }\n",
              "</style>\n",
              "<table border=\"1\" class=\"dataframe\">\n",
              "  <thead>\n",
              "    <tr style=\"text-align: right;\">\n",
              "      <th></th>\n",
              "      <th>id</th>\n",
              "      <th>sqft_basement</th>\n",
              "      <th>yr_built</th>\n",
              "      <th>yr_renovated</th>\n",
              "      <th>zipcode</th>\n",
              "      <th>lat</th>\n",
              "      <th>long</th>\n",
              "      <th>sqft_living15</th>\n",
              "      <th>sqft_lot15</th>\n",
              "      <th>date</th>\n",
              "      <th>price</th>\n",
              "      <th>bedrooms</th>\n",
              "      <th>bathrooms</th>\n",
              "      <th>sqft_living</th>\n",
              "      <th>sqft_lot</th>\n",
              "      <th>floors</th>\n",
              "      <th>condition</th>\n",
              "      <th>grade</th>\n",
              "      <th>sqft_above</th>\n",
              "    </tr>\n",
              "  </thead>\n",
              "  <tbody>\n",
              "    <tr>\n",
              "      <th>0</th>\n",
              "      <td>7129300520</td>\n",
              "      <td>0</td>\n",
              "      <td>1955</td>\n",
              "      <td>0</td>\n",
              "      <td>66</td>\n",
              "      <td>47.5112</td>\n",
              "      <td>-122.257</td>\n",
              "      <td>1340</td>\n",
              "      <td>5650</td>\n",
              "      <td>160</td>\n",
              "      <td>221900.0</td>\n",
              "      <td>3.0</td>\n",
              "      <td>2.25</td>\n",
              "      <td>1180</td>\n",
              "      <td>5650</td>\n",
              "      <td>1.0</td>\n",
              "      <td>3</td>\n",
              "      <td>7</td>\n",
              "      <td>1180</td>\n",
              "    </tr>\n",
              "    <tr>\n",
              "      <th>2</th>\n",
              "      <td>5631500400</td>\n",
              "      <td>0</td>\n",
              "      <td>1933</td>\n",
              "      <td>0</td>\n",
              "      <td>16</td>\n",
              "      <td>47.7379</td>\n",
              "      <td>-122.233</td>\n",
              "      <td>2720</td>\n",
              "      <td>8062</td>\n",
              "      <td>298</td>\n",
              "      <td>180000.0</td>\n",
              "      <td>2.0</td>\n",
              "      <td>2.25</td>\n",
              "      <td>770</td>\n",
              "      <td>10000</td>\n",
              "      <td>1.0</td>\n",
              "      <td>3</td>\n",
              "      <td>6</td>\n",
              "      <td>770</td>\n",
              "    </tr>\n",
              "    <tr>\n",
              "      <th>4</th>\n",
              "      <td>1954400510</td>\n",
              "      <td>0</td>\n",
              "      <td>1987</td>\n",
              "      <td>0</td>\n",
              "      <td>37</td>\n",
              "      <td>47.6168</td>\n",
              "      <td>-122.045</td>\n",
              "      <td>1800</td>\n",
              "      <td>7503</td>\n",
              "      <td>213</td>\n",
              "      <td>510000.0</td>\n",
              "      <td>3.0</td>\n",
              "      <td>2.00</td>\n",
              "      <td>1680</td>\n",
              "      <td>8080</td>\n",
              "      <td>1.0</td>\n",
              "      <td>3</td>\n",
              "      <td>8</td>\n",
              "      <td>1680</td>\n",
              "    </tr>\n",
              "    <tr>\n",
              "      <th>6</th>\n",
              "      <td>1321400060</td>\n",
              "      <td>0</td>\n",
              "      <td>1995</td>\n",
              "      <td>0</td>\n",
              "      <td>2</td>\n",
              "      <td>47.3097</td>\n",
              "      <td>-122.327</td>\n",
              "      <td>2238</td>\n",
              "      <td>6819</td>\n",
              "      <td>326</td>\n",
              "      <td>257500.0</td>\n",
              "      <td>3.0</td>\n",
              "      <td>2.25</td>\n",
              "      <td>1715</td>\n",
              "      <td>6819</td>\n",
              "      <td>2.0</td>\n",
              "      <td>3</td>\n",
              "      <td>7</td>\n",
              "      <td>1715</td>\n",
              "    </tr>\n",
              "    <tr>\n",
              "      <th>7</th>\n",
              "      <td>2008000270</td>\n",
              "      <td>0</td>\n",
              "      <td>1963</td>\n",
              "      <td>0</td>\n",
              "      <td>68</td>\n",
              "      <td>47.4095</td>\n",
              "      <td>-122.315</td>\n",
              "      <td>1650</td>\n",
              "      <td>9711</td>\n",
              "      <td>176</td>\n",
              "      <td>291850.0</td>\n",
              "      <td>3.0</td>\n",
              "      <td>2.25</td>\n",
              "      <td>1060</td>\n",
              "      <td>9711</td>\n",
              "      <td>1.0</td>\n",
              "      <td>3</td>\n",
              "      <td>7</td>\n",
              "      <td>1060</td>\n",
              "    </tr>\n",
              "    <tr>\n",
              "      <th>...</th>\n",
              "      <td>...</td>\n",
              "      <td>...</td>\n",
              "      <td>...</td>\n",
              "      <td>...</td>\n",
              "      <td>...</td>\n",
              "      <td>...</td>\n",
              "      <td>...</td>\n",
              "      <td>...</td>\n",
              "      <td>...</td>\n",
              "      <td>...</td>\n",
              "      <td>...</td>\n",
              "      <td>...</td>\n",
              "      <td>...</td>\n",
              "      <td>...</td>\n",
              "      <td>...</td>\n",
              "      <td>...</td>\n",
              "      <td>...</td>\n",
              "      <td>...</td>\n",
              "      <td>...</td>\n",
              "    </tr>\n",
              "    <tr>\n",
              "      <th>21964</th>\n",
              "      <td>263000018</td>\n",
              "      <td>0</td>\n",
              "      <td>2009</td>\n",
              "      <td>0</td>\n",
              "      <td>42</td>\n",
              "      <td>47.6993</td>\n",
              "      <td>-122.346</td>\n",
              "      <td>1530</td>\n",
              "      <td>1509</td>\n",
              "      <td>252</td>\n",
              "      <td>360000.0</td>\n",
              "      <td>3.0</td>\n",
              "      <td>2.25</td>\n",
              "      <td>1530</td>\n",
              "      <td>1131</td>\n",
              "      <td>3.0</td>\n",
              "      <td>3</td>\n",
              "      <td>8</td>\n",
              "      <td>1530</td>\n",
              "    </tr>\n",
              "    <tr>\n",
              "      <th>21965</th>\n",
              "      <td>6600060120</td>\n",
              "      <td>0</td>\n",
              "      <td>2014</td>\n",
              "      <td>0</td>\n",
              "      <td>60</td>\n",
              "      <td>47.5107</td>\n",
              "      <td>-122.362</td>\n",
              "      <td>1830</td>\n",
              "      <td>7200</td>\n",
              "      <td>273</td>\n",
              "      <td>400000.0</td>\n",
              "      <td>4.0</td>\n",
              "      <td>2.50</td>\n",
              "      <td>2310</td>\n",
              "      <td>5813</td>\n",
              "      <td>2.0</td>\n",
              "      <td>3</td>\n",
              "      <td>8</td>\n",
              "      <td>2310</td>\n",
              "    </tr>\n",
              "    <tr>\n",
              "      <th>21966</th>\n",
              "      <td>1523300141</td>\n",
              "      <td>0</td>\n",
              "      <td>2009</td>\n",
              "      <td>0</td>\n",
              "      <td>59</td>\n",
              "      <td>47.5944</td>\n",
              "      <td>-122.299</td>\n",
              "      <td>1020</td>\n",
              "      <td>2007</td>\n",
              "      <td>277</td>\n",
              "      <td>402101.0</td>\n",
              "      <td>3.0</td>\n",
              "      <td>2.25</td>\n",
              "      <td>1020</td>\n",
              "      <td>1350</td>\n",
              "      <td>2.0</td>\n",
              "      <td>3</td>\n",
              "      <td>7</td>\n",
              "      <td>1020</td>\n",
              "    </tr>\n",
              "    <tr>\n",
              "      <th>21967</th>\n",
              "      <td>291310100</td>\n",
              "      <td>0</td>\n",
              "      <td>2004</td>\n",
              "      <td>0</td>\n",
              "      <td>15</td>\n",
              "      <td>47.5345</td>\n",
              "      <td>-122.069</td>\n",
              "      <td>1410</td>\n",
              "      <td>1287</td>\n",
              "      <td>189</td>\n",
              "      <td>400000.0</td>\n",
              "      <td>3.0</td>\n",
              "      <td>2.50</td>\n",
              "      <td>1600</td>\n",
              "      <td>2388</td>\n",
              "      <td>2.0</td>\n",
              "      <td>3</td>\n",
              "      <td>8</td>\n",
              "      <td>1600</td>\n",
              "    </tr>\n",
              "    <tr>\n",
              "      <th>21968</th>\n",
              "      <td>1523300157</td>\n",
              "      <td>0</td>\n",
              "      <td>2008</td>\n",
              "      <td>0</td>\n",
              "      <td>59</td>\n",
              "      <td>47.5941</td>\n",
              "      <td>-122.299</td>\n",
              "      <td>1020</td>\n",
              "      <td>1357</td>\n",
              "      <td>186</td>\n",
              "      <td>325000.0</td>\n",
              "      <td>2.0</td>\n",
              "      <td>0.75</td>\n",
              "      <td>1020</td>\n",
              "      <td>1076</td>\n",
              "      <td>2.0</td>\n",
              "      <td>3</td>\n",
              "      <td>7</td>\n",
              "      <td>1020</td>\n",
              "    </tr>\n",
              "  </tbody>\n",
              "</table>\n",
              "<p>12757 rows × 19 columns</p>\n",
              "</div>\n",
              "      <button class=\"colab-df-convert\" onclick=\"convertToInteractive('df-7e8d27f6-7d74-401c-b080-8a28d361a052')\"\n",
              "              title=\"Convert this dataframe to an interactive table.\"\n",
              "              style=\"display:none;\">\n",
              "        \n",
              "  <svg xmlns=\"http://www.w3.org/2000/svg\" height=\"24px\"viewBox=\"0 0 24 24\"\n",
              "       width=\"24px\">\n",
              "    <path d=\"M0 0h24v24H0V0z\" fill=\"none\"/>\n",
              "    <path d=\"M18.56 5.44l.94 2.06.94-2.06 2.06-.94-2.06-.94-.94-2.06-.94 2.06-2.06.94zm-11 1L8.5 8.5l.94-2.06 2.06-.94-2.06-.94L8.5 2.5l-.94 2.06-2.06.94zm10 10l.94 2.06.94-2.06 2.06-.94-2.06-.94-.94-2.06-.94 2.06-2.06.94z\"/><path d=\"M17.41 7.96l-1.37-1.37c-.4-.4-.92-.59-1.43-.59-.52 0-1.04.2-1.43.59L10.3 9.45l-7.72 7.72c-.78.78-.78 2.05 0 2.83L4 21.41c.39.39.9.59 1.41.59.51 0 1.02-.2 1.41-.59l7.78-7.78 2.81-2.81c.8-.78.8-2.07 0-2.86zM5.41 20L4 18.59l7.72-7.72 1.47 1.35L5.41 20z\"/>\n",
              "  </svg>\n",
              "      </button>\n",
              "      \n",
              "  <style>\n",
              "    .colab-df-container {\n",
              "      display:flex;\n",
              "      flex-wrap:wrap;\n",
              "      gap: 12px;\n",
              "    }\n",
              "\n",
              "    .colab-df-convert {\n",
              "      background-color: #E8F0FE;\n",
              "      border: none;\n",
              "      border-radius: 50%;\n",
              "      cursor: pointer;\n",
              "      display: none;\n",
              "      fill: #1967D2;\n",
              "      height: 32px;\n",
              "      padding: 0 0 0 0;\n",
              "      width: 32px;\n",
              "    }\n",
              "\n",
              "    .colab-df-convert:hover {\n",
              "      background-color: #E2EBFA;\n",
              "      box-shadow: 0px 1px 2px rgba(60, 64, 67, 0.3), 0px 1px 3px 1px rgba(60, 64, 67, 0.15);\n",
              "      fill: #174EA6;\n",
              "    }\n",
              "\n",
              "    [theme=dark] .colab-df-convert {\n",
              "      background-color: #3B4455;\n",
              "      fill: #D2E3FC;\n",
              "    }\n",
              "\n",
              "    [theme=dark] .colab-df-convert:hover {\n",
              "      background-color: #434B5C;\n",
              "      box-shadow: 0px 1px 3px 1px rgba(0, 0, 0, 0.15);\n",
              "      filter: drop-shadow(0px 1px 2px rgba(0, 0, 0, 0.3));\n",
              "      fill: #FFFFFF;\n",
              "    }\n",
              "  </style>\n",
              "\n",
              "      <script>\n",
              "        const buttonEl =\n",
              "          document.querySelector('#df-7e8d27f6-7d74-401c-b080-8a28d361a052 button.colab-df-convert');\n",
              "        buttonEl.style.display =\n",
              "          google.colab.kernel.accessAllowed ? 'block' : 'none';\n",
              "\n",
              "        async function convertToInteractive(key) {\n",
              "          const element = document.querySelector('#df-7e8d27f6-7d74-401c-b080-8a28d361a052');\n",
              "          const dataTable =\n",
              "            await google.colab.kernel.invokeFunction('convertToInteractive',\n",
              "                                                     [key], {});\n",
              "          if (!dataTable) return;\n",
              "\n",
              "          const docLinkHtml = 'Like what you see? Visit the ' +\n",
              "            '<a target=\"_blank\" href=https://colab.research.google.com/notebooks/data_table.ipynb>data table notebook</a>'\n",
              "            + ' to learn more about interactive tables.';\n",
              "          element.innerHTML = '';\n",
              "          dataTable['output_type'] = 'display_data';\n",
              "          await google.colab.output.renderOutput(dataTable, element);\n",
              "          const docLink = document.createElement('div');\n",
              "          docLink.innerHTML = docLinkHtml;\n",
              "          element.appendChild(docLink);\n",
              "        }\n",
              "      </script>\n",
              "    </div>\n",
              "  </div>\n",
              "  "
            ]
          },
          "metadata": {},
          "execution_count": 1020
        }
      ]
    },
    {
      "cell_type": "code",
      "source": [
        "df = df.drop(columns=['sqft_basement'])"
      ],
      "metadata": {
        "id": "V5fDZYcFu44-"
      },
      "execution_count": null,
      "outputs": []
    },
    {
      "cell_type": "code",
      "source": [
        "df[df['yr_renovated'] == 0]"
      ],
      "metadata": {
        "colab": {
          "base_uri": "https://localhost:8080/",
          "height": 487
        },
        "id": "7LY7D3xBuzV3",
        "outputId": "6e92676a-edef-4e01-bfb6-d6b220dfb972"
      },
      "execution_count": null,
      "outputs": [
        {
          "output_type": "execute_result",
          "data": {
            "text/plain": [
              "               id  yr_built  yr_renovated zipcode      lat     long  \\\n",
              "0      7129300520      1955             0      66  47.5112 -122.257   \n",
              "2      5631500400      1933             0      16  47.7379 -122.233   \n",
              "3      2487200875      1965             0      58  47.5208 -122.393   \n",
              "4      1954400510      1987             0      37  47.6168 -122.045   \n",
              "5      7237550310      2001             0      29  47.6561 -122.005   \n",
              "...           ...       ...           ...     ...      ...      ...   \n",
              "21964   263000018      2009             0      42  47.6993 -122.346   \n",
              "21965  6600060120      2014             0      60  47.5107 -122.362   \n",
              "21966  1523300141      2009             0      59  47.5944 -122.299   \n",
              "21967   291310100      2004             0      15  47.5345 -122.069   \n",
              "21968  1523300157      2008             0      59  47.5941 -122.299   \n",
              "\n",
              "       sqft_living15  sqft_lot15 date      price bedrooms bathrooms  \\\n",
              "0               1340        5650  160   221900.0      3.0      2.25   \n",
              "2               2720        8062  298   180000.0      2.0      2.25   \n",
              "3               1360        5000  111   604000.0      4.0      2.25   \n",
              "4               1800        7503  213   510000.0      3.0      2.00   \n",
              "5               1790        7560  141  1225000.0      4.0      4.50   \n",
              "...              ...         ...  ...        ...      ...       ...   \n",
              "21964           1530        1509  252   360000.0      3.0      2.25   \n",
              "21965           1830        7200  273   400000.0      4.0      2.50   \n",
              "21966           1020        2007  277   402101.0      3.0      2.25   \n",
              "21967           1410        1287  189   400000.0      3.0      2.50   \n",
              "21968           1020        1357  186   325000.0      2.0      0.75   \n",
              "\n",
              "       sqft_living  sqft_lot floors condition grade  sqft_above  \n",
              "0             1180      5650    1.0         3     7        1180  \n",
              "2              770     10000    1.0         3     6         770  \n",
              "3             1960      5000    1.0         5     7        1050  \n",
              "4             1680      8080    1.0         3     8        1680  \n",
              "5             1850      7519    1.0         3    11        3890  \n",
              "...            ...       ...    ...       ...   ...         ...  \n",
              "21964         1530      1131    3.0         3     8        1530  \n",
              "21965         2310      5813    2.0         3     8        2310  \n",
              "21966         1020      1350    2.0         3     7        1020  \n",
              "21967         1600      2388    2.0         3     8        1600  \n",
              "21968         1020      1076    2.0         3     7        1020  \n",
              "\n",
              "[19424 rows x 18 columns]"
            ],
            "text/html": [
              "\n",
              "  <div id=\"df-96bba055-960e-4379-912d-7c084c9622e1\">\n",
              "    <div class=\"colab-df-container\">\n",
              "      <div>\n",
              "<style scoped>\n",
              "    .dataframe tbody tr th:only-of-type {\n",
              "        vertical-align: middle;\n",
              "    }\n",
              "\n",
              "    .dataframe tbody tr th {\n",
              "        vertical-align: top;\n",
              "    }\n",
              "\n",
              "    .dataframe thead th {\n",
              "        text-align: right;\n",
              "    }\n",
              "</style>\n",
              "<table border=\"1\" class=\"dataframe\">\n",
              "  <thead>\n",
              "    <tr style=\"text-align: right;\">\n",
              "      <th></th>\n",
              "      <th>id</th>\n",
              "      <th>yr_built</th>\n",
              "      <th>yr_renovated</th>\n",
              "      <th>zipcode</th>\n",
              "      <th>lat</th>\n",
              "      <th>long</th>\n",
              "      <th>sqft_living15</th>\n",
              "      <th>sqft_lot15</th>\n",
              "      <th>date</th>\n",
              "      <th>price</th>\n",
              "      <th>bedrooms</th>\n",
              "      <th>bathrooms</th>\n",
              "      <th>sqft_living</th>\n",
              "      <th>sqft_lot</th>\n",
              "      <th>floors</th>\n",
              "      <th>condition</th>\n",
              "      <th>grade</th>\n",
              "      <th>sqft_above</th>\n",
              "    </tr>\n",
              "  </thead>\n",
              "  <tbody>\n",
              "    <tr>\n",
              "      <th>0</th>\n",
              "      <td>7129300520</td>\n",
              "      <td>1955</td>\n",
              "      <td>0</td>\n",
              "      <td>66</td>\n",
              "      <td>47.5112</td>\n",
              "      <td>-122.257</td>\n",
              "      <td>1340</td>\n",
              "      <td>5650</td>\n",
              "      <td>160</td>\n",
              "      <td>221900.0</td>\n",
              "      <td>3.0</td>\n",
              "      <td>2.25</td>\n",
              "      <td>1180</td>\n",
              "      <td>5650</td>\n",
              "      <td>1.0</td>\n",
              "      <td>3</td>\n",
              "      <td>7</td>\n",
              "      <td>1180</td>\n",
              "    </tr>\n",
              "    <tr>\n",
              "      <th>2</th>\n",
              "      <td>5631500400</td>\n",
              "      <td>1933</td>\n",
              "      <td>0</td>\n",
              "      <td>16</td>\n",
              "      <td>47.7379</td>\n",
              "      <td>-122.233</td>\n",
              "      <td>2720</td>\n",
              "      <td>8062</td>\n",
              "      <td>298</td>\n",
              "      <td>180000.0</td>\n",
              "      <td>2.0</td>\n",
              "      <td>2.25</td>\n",
              "      <td>770</td>\n",
              "      <td>10000</td>\n",
              "      <td>1.0</td>\n",
              "      <td>3</td>\n",
              "      <td>6</td>\n",
              "      <td>770</td>\n",
              "    </tr>\n",
              "    <tr>\n",
              "      <th>3</th>\n",
              "      <td>2487200875</td>\n",
              "      <td>1965</td>\n",
              "      <td>0</td>\n",
              "      <td>58</td>\n",
              "      <td>47.5208</td>\n",
              "      <td>-122.393</td>\n",
              "      <td>1360</td>\n",
              "      <td>5000</td>\n",
              "      <td>111</td>\n",
              "      <td>604000.0</td>\n",
              "      <td>4.0</td>\n",
              "      <td>2.25</td>\n",
              "      <td>1960</td>\n",
              "      <td>5000</td>\n",
              "      <td>1.0</td>\n",
              "      <td>5</td>\n",
              "      <td>7</td>\n",
              "      <td>1050</td>\n",
              "    </tr>\n",
              "    <tr>\n",
              "      <th>4</th>\n",
              "      <td>1954400510</td>\n",
              "      <td>1987</td>\n",
              "      <td>0</td>\n",
              "      <td>37</td>\n",
              "      <td>47.6168</td>\n",
              "      <td>-122.045</td>\n",
              "      <td>1800</td>\n",
              "      <td>7503</td>\n",
              "      <td>213</td>\n",
              "      <td>510000.0</td>\n",
              "      <td>3.0</td>\n",
              "      <td>2.00</td>\n",
              "      <td>1680</td>\n",
              "      <td>8080</td>\n",
              "      <td>1.0</td>\n",
              "      <td>3</td>\n",
              "      <td>8</td>\n",
              "      <td>1680</td>\n",
              "    </tr>\n",
              "    <tr>\n",
              "      <th>5</th>\n",
              "      <td>7237550310</td>\n",
              "      <td>2001</td>\n",
              "      <td>0</td>\n",
              "      <td>29</td>\n",
              "      <td>47.6561</td>\n",
              "      <td>-122.005</td>\n",
              "      <td>1790</td>\n",
              "      <td>7560</td>\n",
              "      <td>141</td>\n",
              "      <td>1225000.0</td>\n",
              "      <td>4.0</td>\n",
              "      <td>4.50</td>\n",
              "      <td>1850</td>\n",
              "      <td>7519</td>\n",
              "      <td>1.0</td>\n",
              "      <td>3</td>\n",
              "      <td>11</td>\n",
              "      <td>3890</td>\n",
              "    </tr>\n",
              "    <tr>\n",
              "      <th>...</th>\n",
              "      <td>...</td>\n",
              "      <td>...</td>\n",
              "      <td>...</td>\n",
              "      <td>...</td>\n",
              "      <td>...</td>\n",
              "      <td>...</td>\n",
              "      <td>...</td>\n",
              "      <td>...</td>\n",
              "      <td>...</td>\n",
              "      <td>...</td>\n",
              "      <td>...</td>\n",
              "      <td>...</td>\n",
              "      <td>...</td>\n",
              "      <td>...</td>\n",
              "      <td>...</td>\n",
              "      <td>...</td>\n",
              "      <td>...</td>\n",
              "      <td>...</td>\n",
              "    </tr>\n",
              "    <tr>\n",
              "      <th>21964</th>\n",
              "      <td>263000018</td>\n",
              "      <td>2009</td>\n",
              "      <td>0</td>\n",
              "      <td>42</td>\n",
              "      <td>47.6993</td>\n",
              "      <td>-122.346</td>\n",
              "      <td>1530</td>\n",
              "      <td>1509</td>\n",
              "      <td>252</td>\n",
              "      <td>360000.0</td>\n",
              "      <td>3.0</td>\n",
              "      <td>2.25</td>\n",
              "      <td>1530</td>\n",
              "      <td>1131</td>\n",
              "      <td>3.0</td>\n",
              "      <td>3</td>\n",
              "      <td>8</td>\n",
              "      <td>1530</td>\n",
              "    </tr>\n",
              "    <tr>\n",
              "      <th>21965</th>\n",
              "      <td>6600060120</td>\n",
              "      <td>2014</td>\n",
              "      <td>0</td>\n",
              "      <td>60</td>\n",
              "      <td>47.5107</td>\n",
              "      <td>-122.362</td>\n",
              "      <td>1830</td>\n",
              "      <td>7200</td>\n",
              "      <td>273</td>\n",
              "      <td>400000.0</td>\n",
              "      <td>4.0</td>\n",
              "      <td>2.50</td>\n",
              "      <td>2310</td>\n",
              "      <td>5813</td>\n",
              "      <td>2.0</td>\n",
              "      <td>3</td>\n",
              "      <td>8</td>\n",
              "      <td>2310</td>\n",
              "    </tr>\n",
              "    <tr>\n",
              "      <th>21966</th>\n",
              "      <td>1523300141</td>\n",
              "      <td>2009</td>\n",
              "      <td>0</td>\n",
              "      <td>59</td>\n",
              "      <td>47.5944</td>\n",
              "      <td>-122.299</td>\n",
              "      <td>1020</td>\n",
              "      <td>2007</td>\n",
              "      <td>277</td>\n",
              "      <td>402101.0</td>\n",
              "      <td>3.0</td>\n",
              "      <td>2.25</td>\n",
              "      <td>1020</td>\n",
              "      <td>1350</td>\n",
              "      <td>2.0</td>\n",
              "      <td>3</td>\n",
              "      <td>7</td>\n",
              "      <td>1020</td>\n",
              "    </tr>\n",
              "    <tr>\n",
              "      <th>21967</th>\n",
              "      <td>291310100</td>\n",
              "      <td>2004</td>\n",
              "      <td>0</td>\n",
              "      <td>15</td>\n",
              "      <td>47.5345</td>\n",
              "      <td>-122.069</td>\n",
              "      <td>1410</td>\n",
              "      <td>1287</td>\n",
              "      <td>189</td>\n",
              "      <td>400000.0</td>\n",
              "      <td>3.0</td>\n",
              "      <td>2.50</td>\n",
              "      <td>1600</td>\n",
              "      <td>2388</td>\n",
              "      <td>2.0</td>\n",
              "      <td>3</td>\n",
              "      <td>8</td>\n",
              "      <td>1600</td>\n",
              "    </tr>\n",
              "    <tr>\n",
              "      <th>21968</th>\n",
              "      <td>1523300157</td>\n",
              "      <td>2008</td>\n",
              "      <td>0</td>\n",
              "      <td>59</td>\n",
              "      <td>47.5941</td>\n",
              "      <td>-122.299</td>\n",
              "      <td>1020</td>\n",
              "      <td>1357</td>\n",
              "      <td>186</td>\n",
              "      <td>325000.0</td>\n",
              "      <td>2.0</td>\n",
              "      <td>0.75</td>\n",
              "      <td>1020</td>\n",
              "      <td>1076</td>\n",
              "      <td>2.0</td>\n",
              "      <td>3</td>\n",
              "      <td>7</td>\n",
              "      <td>1020</td>\n",
              "    </tr>\n",
              "  </tbody>\n",
              "</table>\n",
              "<p>19424 rows × 18 columns</p>\n",
              "</div>\n",
              "      <button class=\"colab-df-convert\" onclick=\"convertToInteractive('df-96bba055-960e-4379-912d-7c084c9622e1')\"\n",
              "              title=\"Convert this dataframe to an interactive table.\"\n",
              "              style=\"display:none;\">\n",
              "        \n",
              "  <svg xmlns=\"http://www.w3.org/2000/svg\" height=\"24px\"viewBox=\"0 0 24 24\"\n",
              "       width=\"24px\">\n",
              "    <path d=\"M0 0h24v24H0V0z\" fill=\"none\"/>\n",
              "    <path d=\"M18.56 5.44l.94 2.06.94-2.06 2.06-.94-2.06-.94-.94-2.06-.94 2.06-2.06.94zm-11 1L8.5 8.5l.94-2.06 2.06-.94-2.06-.94L8.5 2.5l-.94 2.06-2.06.94zm10 10l.94 2.06.94-2.06 2.06-.94-2.06-.94-.94-2.06-.94 2.06-2.06.94z\"/><path d=\"M17.41 7.96l-1.37-1.37c-.4-.4-.92-.59-1.43-.59-.52 0-1.04.2-1.43.59L10.3 9.45l-7.72 7.72c-.78.78-.78 2.05 0 2.83L4 21.41c.39.39.9.59 1.41.59.51 0 1.02-.2 1.41-.59l7.78-7.78 2.81-2.81c.8-.78.8-2.07 0-2.86zM5.41 20L4 18.59l7.72-7.72 1.47 1.35L5.41 20z\"/>\n",
              "  </svg>\n",
              "      </button>\n",
              "      \n",
              "  <style>\n",
              "    .colab-df-container {\n",
              "      display:flex;\n",
              "      flex-wrap:wrap;\n",
              "      gap: 12px;\n",
              "    }\n",
              "\n",
              "    .colab-df-convert {\n",
              "      background-color: #E8F0FE;\n",
              "      border: none;\n",
              "      border-radius: 50%;\n",
              "      cursor: pointer;\n",
              "      display: none;\n",
              "      fill: #1967D2;\n",
              "      height: 32px;\n",
              "      padding: 0 0 0 0;\n",
              "      width: 32px;\n",
              "    }\n",
              "\n",
              "    .colab-df-convert:hover {\n",
              "      background-color: #E2EBFA;\n",
              "      box-shadow: 0px 1px 2px rgba(60, 64, 67, 0.3), 0px 1px 3px 1px rgba(60, 64, 67, 0.15);\n",
              "      fill: #174EA6;\n",
              "    }\n",
              "\n",
              "    [theme=dark] .colab-df-convert {\n",
              "      background-color: #3B4455;\n",
              "      fill: #D2E3FC;\n",
              "    }\n",
              "\n",
              "    [theme=dark] .colab-df-convert:hover {\n",
              "      background-color: #434B5C;\n",
              "      box-shadow: 0px 1px 3px 1px rgba(0, 0, 0, 0.15);\n",
              "      filter: drop-shadow(0px 1px 2px rgba(0, 0, 0, 0.3));\n",
              "      fill: #FFFFFF;\n",
              "    }\n",
              "  </style>\n",
              "\n",
              "      <script>\n",
              "        const buttonEl =\n",
              "          document.querySelector('#df-96bba055-960e-4379-912d-7c084c9622e1 button.colab-df-convert');\n",
              "        buttonEl.style.display =\n",
              "          google.colab.kernel.accessAllowed ? 'block' : 'none';\n",
              "\n",
              "        async function convertToInteractive(key) {\n",
              "          const element = document.querySelector('#df-96bba055-960e-4379-912d-7c084c9622e1');\n",
              "          const dataTable =\n",
              "            await google.colab.kernel.invokeFunction('convertToInteractive',\n",
              "                                                     [key], {});\n",
              "          if (!dataTable) return;\n",
              "\n",
              "          const docLinkHtml = 'Like what you see? Visit the ' +\n",
              "            '<a target=\"_blank\" href=https://colab.research.google.com/notebooks/data_table.ipynb>data table notebook</a>'\n",
              "            + ' to learn more about interactive tables.';\n",
              "          element.innerHTML = '';\n",
              "          dataTable['output_type'] = 'display_data';\n",
              "          await google.colab.output.renderOutput(dataTable, element);\n",
              "          const docLink = document.createElement('div');\n",
              "          docLink.innerHTML = docLinkHtml;\n",
              "          element.appendChild(docLink);\n",
              "        }\n",
              "      </script>\n",
              "    </div>\n",
              "  </div>\n",
              "  "
            ]
          },
          "metadata": {},
          "execution_count": 1022
        }
      ]
    },
    {
      "cell_type": "code",
      "source": [
        "df = df.drop(columns=['yr_renovated'])"
      ],
      "metadata": {
        "id": "7dEfUwNcvbK_"
      },
      "execution_count": null,
      "outputs": []
    },
    {
      "cell_type": "code",
      "source": [
        "df = df.drop(columns=['bathrooms'])"
      ],
      "metadata": {
        "id": "GAXxodkfi0Qv"
      },
      "execution_count": null,
      "outputs": []
    },
    {
      "cell_type": "code",
      "source": [
        "df.columns"
      ],
      "metadata": {
        "colab": {
          "base_uri": "https://localhost:8080/"
        },
        "id": "cSUiBcOqdQCO",
        "outputId": "e91fadb5-8d96-4c3e-d8df-18c690040497"
      },
      "execution_count": null,
      "outputs": [
        {
          "output_type": "execute_result",
          "data": {
            "text/plain": [
              "Index(['id', 'yr_built', 'zipcode', 'lat', 'long', 'sqft_living15',\n",
              "       'sqft_lot15', 'date', 'price', 'bedrooms', 'sqft_living', 'sqft_lot',\n",
              "       'floors', 'condition', 'grade', 'sqft_above'],\n",
              "      dtype='object')"
            ]
          },
          "metadata": {},
          "execution_count": 1025
        }
      ]
    },
    {
      "cell_type": "code",
      "source": [
        "df.describe()"
      ],
      "metadata": {
        "colab": {
          "base_uri": "https://localhost:8080/",
          "height": 300
        },
        "id": "ryNAFmMFvk8Z",
        "outputId": "f9586b9b-421c-4c18-8954-d38758bd830f"
      },
      "execution_count": null,
      "outputs": [
        {
          "output_type": "execute_result",
          "data": {
            "text/plain": [
              "                 id      yr_built           lat          long  sqft_living15  \\\n",
              "count  2.016300e+04  20163.000000  20163.000000  20163.000000   20163.000000   \n",
              "mean   4.568489e+09   1971.256757     47.559724   -122.211587    1846.364827   \n",
              "std    2.872724e+09     29.310773      0.139634      0.139701     517.933505   \n",
              "min    1.000102e+06   1900.000000     47.155900   -122.519000     460.000000   \n",
              "25%    2.115720e+09   1952.000000     47.465550   -122.324000    1460.000000   \n",
              "50%    3.900500e+09   1975.000000     47.571400   -122.225000    1790.000000   \n",
              "75%    7.300200e+09   1997.000000     47.680000   -122.124000    2170.000000   \n",
              "max    9.900000e+09   2015.000000     47.777600   -121.315000    3230.000000   \n",
              "\n",
              "         sqft_lot15         price   sqft_living      sqft_lot    sqft_above  \n",
              "count  20163.000000  2.016300e+04  20163.000000  20163.000000  20163.000000  \n",
              "mean    6923.375490  4.999817e+05   1911.191192   6861.693548   1744.443287  \n",
              "std     2575.861601  2.947602e+05    688.639792   2659.493447    792.205187  \n",
              "min      651.000000  7.500000e+04    290.000000    520.000000    290.000000  \n",
              "25%     5060.000000  3.110000e+05   1390.000000   5000.000000   1170.000000  \n",
              "50%     7560.000000  4.350000e+05   1850.000000   7519.000000   1520.000000  \n",
              "75%     8400.000000  6.050000e+05   2350.000000   8336.000000   2150.000000  \n",
              "max    13404.000000  5.570000e+06   3790.000000  13430.000000   8020.000000  "
            ],
            "text/html": [
              "\n",
              "  <div id=\"df-c168f774-3dfb-47a5-8315-ecd8daa20429\">\n",
              "    <div class=\"colab-df-container\">\n",
              "      <div>\n",
              "<style scoped>\n",
              "    .dataframe tbody tr th:only-of-type {\n",
              "        vertical-align: middle;\n",
              "    }\n",
              "\n",
              "    .dataframe tbody tr th {\n",
              "        vertical-align: top;\n",
              "    }\n",
              "\n",
              "    .dataframe thead th {\n",
              "        text-align: right;\n",
              "    }\n",
              "</style>\n",
              "<table border=\"1\" class=\"dataframe\">\n",
              "  <thead>\n",
              "    <tr style=\"text-align: right;\">\n",
              "      <th></th>\n",
              "      <th>id</th>\n",
              "      <th>yr_built</th>\n",
              "      <th>lat</th>\n",
              "      <th>long</th>\n",
              "      <th>sqft_living15</th>\n",
              "      <th>sqft_lot15</th>\n",
              "      <th>price</th>\n",
              "      <th>sqft_living</th>\n",
              "      <th>sqft_lot</th>\n",
              "      <th>sqft_above</th>\n",
              "    </tr>\n",
              "  </thead>\n",
              "  <tbody>\n",
              "    <tr>\n",
              "      <th>count</th>\n",
              "      <td>2.016300e+04</td>\n",
              "      <td>20163.000000</td>\n",
              "      <td>20163.000000</td>\n",
              "      <td>20163.000000</td>\n",
              "      <td>20163.000000</td>\n",
              "      <td>20163.000000</td>\n",
              "      <td>2.016300e+04</td>\n",
              "      <td>20163.000000</td>\n",
              "      <td>20163.000000</td>\n",
              "      <td>20163.000000</td>\n",
              "    </tr>\n",
              "    <tr>\n",
              "      <th>mean</th>\n",
              "      <td>4.568489e+09</td>\n",
              "      <td>1971.256757</td>\n",
              "      <td>47.559724</td>\n",
              "      <td>-122.211587</td>\n",
              "      <td>1846.364827</td>\n",
              "      <td>6923.375490</td>\n",
              "      <td>4.999817e+05</td>\n",
              "      <td>1911.191192</td>\n",
              "      <td>6861.693548</td>\n",
              "      <td>1744.443287</td>\n",
              "    </tr>\n",
              "    <tr>\n",
              "      <th>std</th>\n",
              "      <td>2.872724e+09</td>\n",
              "      <td>29.310773</td>\n",
              "      <td>0.139634</td>\n",
              "      <td>0.139701</td>\n",
              "      <td>517.933505</td>\n",
              "      <td>2575.861601</td>\n",
              "      <td>2.947602e+05</td>\n",
              "      <td>688.639792</td>\n",
              "      <td>2659.493447</td>\n",
              "      <td>792.205187</td>\n",
              "    </tr>\n",
              "    <tr>\n",
              "      <th>min</th>\n",
              "      <td>1.000102e+06</td>\n",
              "      <td>1900.000000</td>\n",
              "      <td>47.155900</td>\n",
              "      <td>-122.519000</td>\n",
              "      <td>460.000000</td>\n",
              "      <td>651.000000</td>\n",
              "      <td>7.500000e+04</td>\n",
              "      <td>290.000000</td>\n",
              "      <td>520.000000</td>\n",
              "      <td>290.000000</td>\n",
              "    </tr>\n",
              "    <tr>\n",
              "      <th>25%</th>\n",
              "      <td>2.115720e+09</td>\n",
              "      <td>1952.000000</td>\n",
              "      <td>47.465550</td>\n",
              "      <td>-122.324000</td>\n",
              "      <td>1460.000000</td>\n",
              "      <td>5060.000000</td>\n",
              "      <td>3.110000e+05</td>\n",
              "      <td>1390.000000</td>\n",
              "      <td>5000.000000</td>\n",
              "      <td>1170.000000</td>\n",
              "    </tr>\n",
              "    <tr>\n",
              "      <th>50%</th>\n",
              "      <td>3.900500e+09</td>\n",
              "      <td>1975.000000</td>\n",
              "      <td>47.571400</td>\n",
              "      <td>-122.225000</td>\n",
              "      <td>1790.000000</td>\n",
              "      <td>7560.000000</td>\n",
              "      <td>4.350000e+05</td>\n",
              "      <td>1850.000000</td>\n",
              "      <td>7519.000000</td>\n",
              "      <td>1520.000000</td>\n",
              "    </tr>\n",
              "    <tr>\n",
              "      <th>75%</th>\n",
              "      <td>7.300200e+09</td>\n",
              "      <td>1997.000000</td>\n",
              "      <td>47.680000</td>\n",
              "      <td>-122.124000</td>\n",
              "      <td>2170.000000</td>\n",
              "      <td>8400.000000</td>\n",
              "      <td>6.050000e+05</td>\n",
              "      <td>2350.000000</td>\n",
              "      <td>8336.000000</td>\n",
              "      <td>2150.000000</td>\n",
              "    </tr>\n",
              "    <tr>\n",
              "      <th>max</th>\n",
              "      <td>9.900000e+09</td>\n",
              "      <td>2015.000000</td>\n",
              "      <td>47.777600</td>\n",
              "      <td>-121.315000</td>\n",
              "      <td>3230.000000</td>\n",
              "      <td>13404.000000</td>\n",
              "      <td>5.570000e+06</td>\n",
              "      <td>3790.000000</td>\n",
              "      <td>13430.000000</td>\n",
              "      <td>8020.000000</td>\n",
              "    </tr>\n",
              "  </tbody>\n",
              "</table>\n",
              "</div>\n",
              "      <button class=\"colab-df-convert\" onclick=\"convertToInteractive('df-c168f774-3dfb-47a5-8315-ecd8daa20429')\"\n",
              "              title=\"Convert this dataframe to an interactive table.\"\n",
              "              style=\"display:none;\">\n",
              "        \n",
              "  <svg xmlns=\"http://www.w3.org/2000/svg\" height=\"24px\"viewBox=\"0 0 24 24\"\n",
              "       width=\"24px\">\n",
              "    <path d=\"M0 0h24v24H0V0z\" fill=\"none\"/>\n",
              "    <path d=\"M18.56 5.44l.94 2.06.94-2.06 2.06-.94-2.06-.94-.94-2.06-.94 2.06-2.06.94zm-11 1L8.5 8.5l.94-2.06 2.06-.94-2.06-.94L8.5 2.5l-.94 2.06-2.06.94zm10 10l.94 2.06.94-2.06 2.06-.94-2.06-.94-.94-2.06-.94 2.06-2.06.94z\"/><path d=\"M17.41 7.96l-1.37-1.37c-.4-.4-.92-.59-1.43-.59-.52 0-1.04.2-1.43.59L10.3 9.45l-7.72 7.72c-.78.78-.78 2.05 0 2.83L4 21.41c.39.39.9.59 1.41.59.51 0 1.02-.2 1.41-.59l7.78-7.78 2.81-2.81c.8-.78.8-2.07 0-2.86zM5.41 20L4 18.59l7.72-7.72 1.47 1.35L5.41 20z\"/>\n",
              "  </svg>\n",
              "      </button>\n",
              "      \n",
              "  <style>\n",
              "    .colab-df-container {\n",
              "      display:flex;\n",
              "      flex-wrap:wrap;\n",
              "      gap: 12px;\n",
              "    }\n",
              "\n",
              "    .colab-df-convert {\n",
              "      background-color: #E8F0FE;\n",
              "      border: none;\n",
              "      border-radius: 50%;\n",
              "      cursor: pointer;\n",
              "      display: none;\n",
              "      fill: #1967D2;\n",
              "      height: 32px;\n",
              "      padding: 0 0 0 0;\n",
              "      width: 32px;\n",
              "    }\n",
              "\n",
              "    .colab-df-convert:hover {\n",
              "      background-color: #E2EBFA;\n",
              "      box-shadow: 0px 1px 2px rgba(60, 64, 67, 0.3), 0px 1px 3px 1px rgba(60, 64, 67, 0.15);\n",
              "      fill: #174EA6;\n",
              "    }\n",
              "\n",
              "    [theme=dark] .colab-df-convert {\n",
              "      background-color: #3B4455;\n",
              "      fill: #D2E3FC;\n",
              "    }\n",
              "\n",
              "    [theme=dark] .colab-df-convert:hover {\n",
              "      background-color: #434B5C;\n",
              "      box-shadow: 0px 1px 3px 1px rgba(0, 0, 0, 0.15);\n",
              "      filter: drop-shadow(0px 1px 2px rgba(0, 0, 0, 0.3));\n",
              "      fill: #FFFFFF;\n",
              "    }\n",
              "  </style>\n",
              "\n",
              "      <script>\n",
              "        const buttonEl =\n",
              "          document.querySelector('#df-c168f774-3dfb-47a5-8315-ecd8daa20429 button.colab-df-convert');\n",
              "        buttonEl.style.display =\n",
              "          google.colab.kernel.accessAllowed ? 'block' : 'none';\n",
              "\n",
              "        async function convertToInteractive(key) {\n",
              "          const element = document.querySelector('#df-c168f774-3dfb-47a5-8315-ecd8daa20429');\n",
              "          const dataTable =\n",
              "            await google.colab.kernel.invokeFunction('convertToInteractive',\n",
              "                                                     [key], {});\n",
              "          if (!dataTable) return;\n",
              "\n",
              "          const docLinkHtml = 'Like what you see? Visit the ' +\n",
              "            '<a target=\"_blank\" href=https://colab.research.google.com/notebooks/data_table.ipynb>data table notebook</a>'\n",
              "            + ' to learn more about interactive tables.';\n",
              "          element.innerHTML = '';\n",
              "          dataTable['output_type'] = 'display_data';\n",
              "          await google.colab.output.renderOutput(dataTable, element);\n",
              "          const docLink = document.createElement('div');\n",
              "          docLink.innerHTML = docLinkHtml;\n",
              "          element.appendChild(docLink);\n",
              "        }\n",
              "      </script>\n",
              "    </div>\n",
              "  </div>\n",
              "  "
            ]
          },
          "metadata": {},
          "execution_count": 1026
        }
      ]
    },
    {
      "cell_type": "code",
      "source": [
        "ContinuousCols=['yr_built','sqft_living15', 'sqft_lot15', 'sqft_living', 'sqft_lot','sqft_above','price','lat',\n",
        "       'long']"
      ],
      "metadata": {
        "id": "3EGt1WlKziHs"
      },
      "execution_count": null,
      "outputs": []
    },
    {
      "cell_type": "code",
      "source": [
        "### Sandardization of data ###\n",
        "from sklearn.preprocessing import StandardScaler, MinMaxScaler\n",
        "# Choose either standardization or Normalization\n",
        "# On this data Min Max Normalization produced better results\n",
        "\n",
        "# Choose between standardization and MinMAx normalization\n",
        "PredictorScaler=StandardScaler()\n",
        "#PredictorScaler=MinMaxScaler()\n",
        "\n",
        "# Storing the fit object for later reference\n",
        "PredictorScalerFit=PredictorScaler.fit(df[ContinuousCols])\n",
        "\n",
        "# Generating the standardized values of X\n",
        "res=PredictorScalerFit.transform(df[ContinuousCols])"
      ],
      "metadata": {
        "id": "7ReS1uU8wTRb"
      },
      "execution_count": null,
      "outputs": []
    },
    {
      "cell_type": "code",
      "source": [
        "from sklearn.preprocessing import RobustScaler\n",
        "transformer = RobustScaler().fit(res)\n",
        "res = transformer.transform(res)"
      ],
      "metadata": {
        "id": "4bQCtRz01Lu-"
      },
      "execution_count": null,
      "outputs": []
    },
    {
      "cell_type": "code",
      "source": [
        "df4 = pd.DataFrame(res, columns =['yr_built.1','sqft_living15.1', 'sqft_lot15.1', 'sqft_living.1', 'sqft_lot.1','sqft_above.1','Price','lat.1',\n",
        "       'long.1'])"
      ],
      "metadata": {
        "id": "PIFvCwoo187I"
      },
      "execution_count": null,
      "outputs": []
    },
    {
      "cell_type": "code",
      "source": [
        "df = pd.concat([df4.reset_index(drop=True), df.reset_index(drop=True)], axis=1)"
      ],
      "metadata": {
        "id": "QDNHBdDb20BC"
      },
      "execution_count": null,
      "outputs": []
    },
    {
      "cell_type": "code",
      "source": [
        "delete_cols = ['yr_built','sqft_living15', 'sqft_lot15', 'sqft_living', 'sqft_lot','sqft_above','price','lat',\n",
        "       'long']\n",
        "\n",
        "df = df.drop(columns=delete_cols)"
      ],
      "metadata": {
        "id": "nx9JnD9136t3"
      },
      "execution_count": null,
      "outputs": []
    },
    {
      "cell_type": "code",
      "source": [
        "df"
      ],
      "metadata": {
        "colab": {
          "base_uri": "https://localhost:8080/",
          "height": 487
        },
        "id": "7p0zoWLg1891",
        "outputId": "971f11c8-ee0a-40c7-8cd6-3f7dab7f6e0f"
      },
      "execution_count": null,
      "outputs": [
        {
          "output_type": "execute_result",
          "data": {
            "text/plain": [
              "       yr_built.1  sqft_living15.1  sqft_lot15.1  sqft_living.1  sqft_lot.1  \\\n",
              "0       -0.444444        -0.633803     -0.571856      -0.697917   -0.560252   \n",
              "1       -0.533333        -0.140845      0.023653       0.750000   -0.083034   \n",
              "2       -0.933333         1.309859      0.150299      -1.125000    0.743705   \n",
              "3       -0.222222        -0.605634     -0.766467       0.114583   -0.755096   \n",
              "4        0.266667         0.014085     -0.017066      -0.177083    0.168165   \n",
              "...           ...              ...           ...            ...         ...   \n",
              "20158    0.755556        -0.366197     -1.811677      -0.333333   -1.914868   \n",
              "20159    0.866667         0.056338     -0.107784       0.479167   -0.511391   \n",
              "20160    0.755556        -1.084507     -1.662575      -0.864583   -1.849221   \n",
              "20161    0.644444        -0.535211     -1.878144      -0.260417   -1.538070   \n",
              "20162    0.733333        -1.084507     -1.857186      -0.864583   -1.931355   \n",
              "\n",
              "       sqft_above.1     Price     lat.1  long.1          id zipcode date  \\\n",
              "0         -0.346939 -0.724830 -0.280718  -0.160  7129300520      66  160   \n",
              "1          0.663265  0.350340  0.697599  -0.470  6414100192      55  111   \n",
              "2         -0.765306 -0.867347  0.776405  -0.040  5631500400      16  298   \n",
              "3         -0.479592  0.574830 -0.235952  -0.840  2487200875      58  111   \n",
              "4          0.163265  0.255102  0.211704   0.900  1954400510      37  213   \n",
              "...             ...       ...       ...     ...         ...     ...  ...   \n",
              "20158      0.010204 -0.255102  0.596409  -0.605   263000018      42  252   \n",
              "20159      0.806122 -0.119048 -0.283050  -0.685  6600060120      60  273   \n",
              "20160     -0.510204 -0.111901  0.107251  -0.370  1523300141      59  277   \n",
              "20161      0.081633 -0.119048 -0.172068   0.780   291310100      15  189   \n",
              "20162     -0.510204 -0.374150  0.105852  -0.370  1523300157      59  186   \n",
              "\n",
              "      bedrooms floors condition grade  \n",
              "0          3.0    1.0         3     7  \n",
              "1          3.0    2.0         3     7  \n",
              "2          2.0    1.0         3     6  \n",
              "3          4.0    1.0         5     7  \n",
              "4          3.0    1.0         3     8  \n",
              "...        ...    ...       ...   ...  \n",
              "20158      3.0    3.0         3     8  \n",
              "20159      4.0    2.0         3     8  \n",
              "20160      3.0    2.0         3     7  \n",
              "20161      3.0    2.0         3     8  \n",
              "20162      2.0    2.0         3     7  \n",
              "\n",
              "[20163 rows x 16 columns]"
            ],
            "text/html": [
              "\n",
              "  <div id=\"df-cf6605ff-b0cf-4dbe-865a-7d0f98f0c84c\">\n",
              "    <div class=\"colab-df-container\">\n",
              "      <div>\n",
              "<style scoped>\n",
              "    .dataframe tbody tr th:only-of-type {\n",
              "        vertical-align: middle;\n",
              "    }\n",
              "\n",
              "    .dataframe tbody tr th {\n",
              "        vertical-align: top;\n",
              "    }\n",
              "\n",
              "    .dataframe thead th {\n",
              "        text-align: right;\n",
              "    }\n",
              "</style>\n",
              "<table border=\"1\" class=\"dataframe\">\n",
              "  <thead>\n",
              "    <tr style=\"text-align: right;\">\n",
              "      <th></th>\n",
              "      <th>yr_built.1</th>\n",
              "      <th>sqft_living15.1</th>\n",
              "      <th>sqft_lot15.1</th>\n",
              "      <th>sqft_living.1</th>\n",
              "      <th>sqft_lot.1</th>\n",
              "      <th>sqft_above.1</th>\n",
              "      <th>Price</th>\n",
              "      <th>lat.1</th>\n",
              "      <th>long.1</th>\n",
              "      <th>id</th>\n",
              "      <th>zipcode</th>\n",
              "      <th>date</th>\n",
              "      <th>bedrooms</th>\n",
              "      <th>floors</th>\n",
              "      <th>condition</th>\n",
              "      <th>grade</th>\n",
              "    </tr>\n",
              "  </thead>\n",
              "  <tbody>\n",
              "    <tr>\n",
              "      <th>0</th>\n",
              "      <td>-0.444444</td>\n",
              "      <td>-0.633803</td>\n",
              "      <td>-0.571856</td>\n",
              "      <td>-0.697917</td>\n",
              "      <td>-0.560252</td>\n",
              "      <td>-0.346939</td>\n",
              "      <td>-0.724830</td>\n",
              "      <td>-0.280718</td>\n",
              "      <td>-0.160</td>\n",
              "      <td>7129300520</td>\n",
              "      <td>66</td>\n",
              "      <td>160</td>\n",
              "      <td>3.0</td>\n",
              "      <td>1.0</td>\n",
              "      <td>3</td>\n",
              "      <td>7</td>\n",
              "    </tr>\n",
              "    <tr>\n",
              "      <th>1</th>\n",
              "      <td>-0.533333</td>\n",
              "      <td>-0.140845</td>\n",
              "      <td>0.023653</td>\n",
              "      <td>0.750000</td>\n",
              "      <td>-0.083034</td>\n",
              "      <td>0.663265</td>\n",
              "      <td>0.350340</td>\n",
              "      <td>0.697599</td>\n",
              "      <td>-0.470</td>\n",
              "      <td>6414100192</td>\n",
              "      <td>55</td>\n",
              "      <td>111</td>\n",
              "      <td>3.0</td>\n",
              "      <td>2.0</td>\n",
              "      <td>3</td>\n",
              "      <td>7</td>\n",
              "    </tr>\n",
              "    <tr>\n",
              "      <th>2</th>\n",
              "      <td>-0.933333</td>\n",
              "      <td>1.309859</td>\n",
              "      <td>0.150299</td>\n",
              "      <td>-1.125000</td>\n",
              "      <td>0.743705</td>\n",
              "      <td>-0.765306</td>\n",
              "      <td>-0.867347</td>\n",
              "      <td>0.776405</td>\n",
              "      <td>-0.040</td>\n",
              "      <td>5631500400</td>\n",
              "      <td>16</td>\n",
              "      <td>298</td>\n",
              "      <td>2.0</td>\n",
              "      <td>1.0</td>\n",
              "      <td>3</td>\n",
              "      <td>6</td>\n",
              "    </tr>\n",
              "    <tr>\n",
              "      <th>3</th>\n",
              "      <td>-0.222222</td>\n",
              "      <td>-0.605634</td>\n",
              "      <td>-0.766467</td>\n",
              "      <td>0.114583</td>\n",
              "      <td>-0.755096</td>\n",
              "      <td>-0.479592</td>\n",
              "      <td>0.574830</td>\n",
              "      <td>-0.235952</td>\n",
              "      <td>-0.840</td>\n",
              "      <td>2487200875</td>\n",
              "      <td>58</td>\n",
              "      <td>111</td>\n",
              "      <td>4.0</td>\n",
              "      <td>1.0</td>\n",
              "      <td>5</td>\n",
              "      <td>7</td>\n",
              "    </tr>\n",
              "    <tr>\n",
              "      <th>4</th>\n",
              "      <td>0.266667</td>\n",
              "      <td>0.014085</td>\n",
              "      <td>-0.017066</td>\n",
              "      <td>-0.177083</td>\n",
              "      <td>0.168165</td>\n",
              "      <td>0.163265</td>\n",
              "      <td>0.255102</td>\n",
              "      <td>0.211704</td>\n",
              "      <td>0.900</td>\n",
              "      <td>1954400510</td>\n",
              "      <td>37</td>\n",
              "      <td>213</td>\n",
              "      <td>3.0</td>\n",
              "      <td>1.0</td>\n",
              "      <td>3</td>\n",
              "      <td>8</td>\n",
              "    </tr>\n",
              "    <tr>\n",
              "      <th>...</th>\n",
              "      <td>...</td>\n",
              "      <td>...</td>\n",
              "      <td>...</td>\n",
              "      <td>...</td>\n",
              "      <td>...</td>\n",
              "      <td>...</td>\n",
              "      <td>...</td>\n",
              "      <td>...</td>\n",
              "      <td>...</td>\n",
              "      <td>...</td>\n",
              "      <td>...</td>\n",
              "      <td>...</td>\n",
              "      <td>...</td>\n",
              "      <td>...</td>\n",
              "      <td>...</td>\n",
              "      <td>...</td>\n",
              "    </tr>\n",
              "    <tr>\n",
              "      <th>20158</th>\n",
              "      <td>0.755556</td>\n",
              "      <td>-0.366197</td>\n",
              "      <td>-1.811677</td>\n",
              "      <td>-0.333333</td>\n",
              "      <td>-1.914868</td>\n",
              "      <td>0.010204</td>\n",
              "      <td>-0.255102</td>\n",
              "      <td>0.596409</td>\n",
              "      <td>-0.605</td>\n",
              "      <td>263000018</td>\n",
              "      <td>42</td>\n",
              "      <td>252</td>\n",
              "      <td>3.0</td>\n",
              "      <td>3.0</td>\n",
              "      <td>3</td>\n",
              "      <td>8</td>\n",
              "    </tr>\n",
              "    <tr>\n",
              "      <th>20159</th>\n",
              "      <td>0.866667</td>\n",
              "      <td>0.056338</td>\n",
              "      <td>-0.107784</td>\n",
              "      <td>0.479167</td>\n",
              "      <td>-0.511391</td>\n",
              "      <td>0.806122</td>\n",
              "      <td>-0.119048</td>\n",
              "      <td>-0.283050</td>\n",
              "      <td>-0.685</td>\n",
              "      <td>6600060120</td>\n",
              "      <td>60</td>\n",
              "      <td>273</td>\n",
              "      <td>4.0</td>\n",
              "      <td>2.0</td>\n",
              "      <td>3</td>\n",
              "      <td>8</td>\n",
              "    </tr>\n",
              "    <tr>\n",
              "      <th>20160</th>\n",
              "      <td>0.755556</td>\n",
              "      <td>-1.084507</td>\n",
              "      <td>-1.662575</td>\n",
              "      <td>-0.864583</td>\n",
              "      <td>-1.849221</td>\n",
              "      <td>-0.510204</td>\n",
              "      <td>-0.111901</td>\n",
              "      <td>0.107251</td>\n",
              "      <td>-0.370</td>\n",
              "      <td>1523300141</td>\n",
              "      <td>59</td>\n",
              "      <td>277</td>\n",
              "      <td>3.0</td>\n",
              "      <td>2.0</td>\n",
              "      <td>3</td>\n",
              "      <td>7</td>\n",
              "    </tr>\n",
              "    <tr>\n",
              "      <th>20161</th>\n",
              "      <td>0.644444</td>\n",
              "      <td>-0.535211</td>\n",
              "      <td>-1.878144</td>\n",
              "      <td>-0.260417</td>\n",
              "      <td>-1.538070</td>\n",
              "      <td>0.081633</td>\n",
              "      <td>-0.119048</td>\n",
              "      <td>-0.172068</td>\n",
              "      <td>0.780</td>\n",
              "      <td>291310100</td>\n",
              "      <td>15</td>\n",
              "      <td>189</td>\n",
              "      <td>3.0</td>\n",
              "      <td>2.0</td>\n",
              "      <td>3</td>\n",
              "      <td>8</td>\n",
              "    </tr>\n",
              "    <tr>\n",
              "      <th>20162</th>\n",
              "      <td>0.733333</td>\n",
              "      <td>-1.084507</td>\n",
              "      <td>-1.857186</td>\n",
              "      <td>-0.864583</td>\n",
              "      <td>-1.931355</td>\n",
              "      <td>-0.510204</td>\n",
              "      <td>-0.374150</td>\n",
              "      <td>0.105852</td>\n",
              "      <td>-0.370</td>\n",
              "      <td>1523300157</td>\n",
              "      <td>59</td>\n",
              "      <td>186</td>\n",
              "      <td>2.0</td>\n",
              "      <td>2.0</td>\n",
              "      <td>3</td>\n",
              "      <td>7</td>\n",
              "    </tr>\n",
              "  </tbody>\n",
              "</table>\n",
              "<p>20163 rows × 16 columns</p>\n",
              "</div>\n",
              "      <button class=\"colab-df-convert\" onclick=\"convertToInteractive('df-cf6605ff-b0cf-4dbe-865a-7d0f98f0c84c')\"\n",
              "              title=\"Convert this dataframe to an interactive table.\"\n",
              "              style=\"display:none;\">\n",
              "        \n",
              "  <svg xmlns=\"http://www.w3.org/2000/svg\" height=\"24px\"viewBox=\"0 0 24 24\"\n",
              "       width=\"24px\">\n",
              "    <path d=\"M0 0h24v24H0V0z\" fill=\"none\"/>\n",
              "    <path d=\"M18.56 5.44l.94 2.06.94-2.06 2.06-.94-2.06-.94-.94-2.06-.94 2.06-2.06.94zm-11 1L8.5 8.5l.94-2.06 2.06-.94-2.06-.94L8.5 2.5l-.94 2.06-2.06.94zm10 10l.94 2.06.94-2.06 2.06-.94-2.06-.94-.94-2.06-.94 2.06-2.06.94z\"/><path d=\"M17.41 7.96l-1.37-1.37c-.4-.4-.92-.59-1.43-.59-.52 0-1.04.2-1.43.59L10.3 9.45l-7.72 7.72c-.78.78-.78 2.05 0 2.83L4 21.41c.39.39.9.59 1.41.59.51 0 1.02-.2 1.41-.59l7.78-7.78 2.81-2.81c.8-.78.8-2.07 0-2.86zM5.41 20L4 18.59l7.72-7.72 1.47 1.35L5.41 20z\"/>\n",
              "  </svg>\n",
              "      </button>\n",
              "      \n",
              "  <style>\n",
              "    .colab-df-container {\n",
              "      display:flex;\n",
              "      flex-wrap:wrap;\n",
              "      gap: 12px;\n",
              "    }\n",
              "\n",
              "    .colab-df-convert {\n",
              "      background-color: #E8F0FE;\n",
              "      border: none;\n",
              "      border-radius: 50%;\n",
              "      cursor: pointer;\n",
              "      display: none;\n",
              "      fill: #1967D2;\n",
              "      height: 32px;\n",
              "      padding: 0 0 0 0;\n",
              "      width: 32px;\n",
              "    }\n",
              "\n",
              "    .colab-df-convert:hover {\n",
              "      background-color: #E2EBFA;\n",
              "      box-shadow: 0px 1px 2px rgba(60, 64, 67, 0.3), 0px 1px 3px 1px rgba(60, 64, 67, 0.15);\n",
              "      fill: #174EA6;\n",
              "    }\n",
              "\n",
              "    [theme=dark] .colab-df-convert {\n",
              "      background-color: #3B4455;\n",
              "      fill: #D2E3FC;\n",
              "    }\n",
              "\n",
              "    [theme=dark] .colab-df-convert:hover {\n",
              "      background-color: #434B5C;\n",
              "      box-shadow: 0px 1px 3px 1px rgba(0, 0, 0, 0.15);\n",
              "      filter: drop-shadow(0px 1px 2px rgba(0, 0, 0, 0.3));\n",
              "      fill: #FFFFFF;\n",
              "    }\n",
              "  </style>\n",
              "\n",
              "      <script>\n",
              "        const buttonEl =\n",
              "          document.querySelector('#df-cf6605ff-b0cf-4dbe-865a-7d0f98f0c84c button.colab-df-convert');\n",
              "        buttonEl.style.display =\n",
              "          google.colab.kernel.accessAllowed ? 'block' : 'none';\n",
              "\n",
              "        async function convertToInteractive(key) {\n",
              "          const element = document.querySelector('#df-cf6605ff-b0cf-4dbe-865a-7d0f98f0c84c');\n",
              "          const dataTable =\n",
              "            await google.colab.kernel.invokeFunction('convertToInteractive',\n",
              "                                                     [key], {});\n",
              "          if (!dataTable) return;\n",
              "\n",
              "          const docLinkHtml = 'Like what you see? Visit the ' +\n",
              "            '<a target=\"_blank\" href=https://colab.research.google.com/notebooks/data_table.ipynb>data table notebook</a>'\n",
              "            + ' to learn more about interactive tables.';\n",
              "          element.innerHTML = '';\n",
              "          dataTable['output_type'] = 'display_data';\n",
              "          await google.colab.output.renderOutput(dataTable, element);\n",
              "          const docLink = document.createElement('div');\n",
              "          docLink.innerHTML = docLinkHtml;\n",
              "          element.appendChild(docLink);\n",
              "        }\n",
              "      </script>\n",
              "    </div>\n",
              "  </div>\n",
              "  "
            ]
          },
          "metadata": {},
          "execution_count": 1033
        }
      ]
    },
    {
      "cell_type": "code",
      "source": [
        "# Defining a function to find the statistical relationship with all the categorical variables\n",
        "def FunctionAnova(inpData, TargetVariable, CategoricalPredictorList):\n",
        "    from scipy.stats import f_oneway\n",
        "\n",
        "    # Creating an empty list of final selected predictors\n",
        "    SelectedPredictors=[]\n",
        "    \n",
        "    print('##### ANOVA Results ##### \\n')\n",
        "    for predictor in CategoricalPredictorList:\n",
        "        CategoryGroupLists=inpData.groupby(predictor)[TargetVariable].apply(list)\n",
        "        AnovaResults = f_oneway(*CategoryGroupLists)\n",
        "        \n",
        "        # If the ANOVA P-Value is <0.05, that means we reject H0\n",
        "        if (AnovaResults[1] < 0.05):\n",
        "            print(predictor, 'is correlated with', TargetVariable, '| P-Value:', AnovaResults[1])\n",
        "            SelectedPredictors.append(predictor)\n",
        "        else:\n",
        "            print(predictor, 'is NOT correlated with', TargetVariable, '| P-Value:', AnovaResults[1])\n",
        "    \n",
        "    return(SelectedPredictors)"
      ],
      "metadata": {
        "id": "KrWMwEAJc0Ri"
      },
      "execution_count": null,
      "outputs": []
    },
    {
      "cell_type": "code",
      "source": [
        "# Calling the function to check which categorical variables are correlated with target\n",
        "# Calling the function to check which categorical variables are correlated with target\n",
        "CategoricalPredictorList=['floors', 'condition', 'grade','bedrooms',\n",
        "       'zipcode','date']\n",
        "FunctionAnova(inpData=df, \n",
        "              TargetVariable='Price', \n",
        "              CategoricalPredictorList=CategoricalPredictorList)"
      ],
      "metadata": {
        "colab": {
          "base_uri": "https://localhost:8080/"
        },
        "id": "Obri6CO9dLlz",
        "outputId": "397cacfd-578d-432b-87ad-068f1ea0b9d2"
      },
      "execution_count": null,
      "outputs": [
        {
          "output_type": "stream",
          "name": "stdout",
          "text": [
            "##### ANOVA Results ##### \n",
            "\n",
            "floors is correlated with Price | P-Value: 9.006842053811854e-274\n",
            "condition is correlated with Price | P-Value: 6.085230120030898e-35\n",
            "grade is correlated with Price | P-Value: 0.0\n",
            "bedrooms is correlated with Price | P-Value: 0.0\n",
            "zipcode is correlated with Price | P-Value: 0.0\n",
            "date is correlated with Price | P-Value: 4.572325859436735e-05\n"
          ]
        },
        {
          "output_type": "execute_result",
          "data": {
            "text/plain": [
              "['floors', 'condition', 'grade', 'bedrooms', 'zipcode', 'date']"
            ]
          },
          "metadata": {},
          "execution_count": 1035
        }
      ]
    },
    {
      "cell_type": "code",
      "source": [
        "df.info()"
      ],
      "metadata": {
        "colab": {
          "base_uri": "https://localhost:8080/"
        },
        "id": "7YG4MAgPjdkc",
        "outputId": "58d34e82-b873-4a9e-84a5-82b1bc731ebb"
      },
      "execution_count": null,
      "outputs": [
        {
          "output_type": "stream",
          "name": "stdout",
          "text": [
            "<class 'pandas.core.frame.DataFrame'>\n",
            "RangeIndex: 20163 entries, 0 to 20162\n",
            "Data columns (total 16 columns):\n",
            " #   Column           Non-Null Count  Dtype   \n",
            "---  ------           --------------  -----   \n",
            " 0   yr_built.1       20163 non-null  float64 \n",
            " 1   sqft_living15.1  20163 non-null  float64 \n",
            " 2   sqft_lot15.1     20163 non-null  float64 \n",
            " 3   sqft_living.1    20163 non-null  float64 \n",
            " 4   sqft_lot.1       20163 non-null  float64 \n",
            " 5   sqft_above.1     20163 non-null  float64 \n",
            " 6   Price            20163 non-null  float64 \n",
            " 7   lat.1            20163 non-null  float64 \n",
            " 8   long.1           20163 non-null  float64 \n",
            " 9   id               20163 non-null  int64   \n",
            " 10  zipcode          20163 non-null  category\n",
            " 11  date             20163 non-null  category\n",
            " 12  bedrooms         20163 non-null  category\n",
            " 13  floors           20163 non-null  category\n",
            " 14  condition        20163 non-null  category\n",
            " 15  grade            20163 non-null  category\n",
            "dtypes: category(6), float64(9), int64(1)\n",
            "memory usage: 1.7 MB\n"
          ]
        }
      ]
    },
    {
      "cell_type": "code",
      "source": [
        "# Calculating correlation matrix\n",
        "ContinuousCols=['yr_built.1','sqft_living15.1', 'sqft_lot15.1', 'sqft_living.1', 'sqft_lot.1','sqft_above.1','Price','lat.1',\n",
        "       'long.1']\n",
        "\n",
        "# Creating the correlation matrix\n",
        "CorrelationData=df[ContinuousCols].corr()\n",
        "CorrelationData"
      ],
      "metadata": {
        "colab": {
          "base_uri": "https://localhost:8080/",
          "height": 331
        },
        "id": "_A3mZkGfdppz",
        "outputId": "cb5d0b62-1662-4d3f-ca7b-6e3dfa87e0aa"
      },
      "execution_count": null,
      "outputs": [
        {
          "output_type": "execute_result",
          "data": {
            "text/plain": [
              "                 yr_built.1  sqft_living15.1  sqft_lot15.1  sqft_living.1  \\\n",
              "yr_built.1         1.000000         0.334788     -0.029016       0.335400   \n",
              "sqft_living15.1    0.334788         1.000000      0.228472       0.640236   \n",
              "sqft_lot15.1      -0.029016         0.228472      1.000000       0.165166   \n",
              "sqft_living.1      0.335400         0.640236      0.165166       1.000000   \n",
              "sqft_lot.1        -0.047893         0.216614      0.852953       0.182087   \n",
              "sqft_above.1       0.445444         0.563509      0.161959       0.701603   \n",
              "Price              0.080707         0.380725      0.017753       0.454988   \n",
              "lat.1             -0.149401         0.010894     -0.131217       0.029603   \n",
              "long.1             0.407771         0.343217      0.239323       0.265368   \n",
              "\n",
              "                 sqft_lot.1  sqft_above.1     Price     lat.1    long.1  \n",
              "yr_built.1        -0.047893      0.445444  0.080707 -0.149401  0.407771  \n",
              "sqft_living15.1    0.216614      0.563509  0.380725  0.010894  0.343217  \n",
              "sqft_lot15.1       0.852953      0.161959  0.017753 -0.131217  0.239323  \n",
              "sqft_living.1      0.182087      0.701603  0.454988  0.029603  0.265368  \n",
              "sqft_lot.1         1.000000      0.173891  0.018845 -0.140755  0.243489  \n",
              "sqft_above.1       0.173891      1.000000  0.603669 -0.006288  0.371533  \n",
              "Price              0.018845      0.603669  1.000000  0.356743  0.063665  \n",
              "lat.1             -0.140755     -0.006288  0.356743  1.000000 -0.127262  \n",
              "long.1             0.243489      0.371533  0.063665 -0.127262  1.000000  "
            ],
            "text/html": [
              "\n",
              "  <div id=\"df-23dca42e-c6e5-4002-9093-0e2e4f7579ea\">\n",
              "    <div class=\"colab-df-container\">\n",
              "      <div>\n",
              "<style scoped>\n",
              "    .dataframe tbody tr th:only-of-type {\n",
              "        vertical-align: middle;\n",
              "    }\n",
              "\n",
              "    .dataframe tbody tr th {\n",
              "        vertical-align: top;\n",
              "    }\n",
              "\n",
              "    .dataframe thead th {\n",
              "        text-align: right;\n",
              "    }\n",
              "</style>\n",
              "<table border=\"1\" class=\"dataframe\">\n",
              "  <thead>\n",
              "    <tr style=\"text-align: right;\">\n",
              "      <th></th>\n",
              "      <th>yr_built.1</th>\n",
              "      <th>sqft_living15.1</th>\n",
              "      <th>sqft_lot15.1</th>\n",
              "      <th>sqft_living.1</th>\n",
              "      <th>sqft_lot.1</th>\n",
              "      <th>sqft_above.1</th>\n",
              "      <th>Price</th>\n",
              "      <th>lat.1</th>\n",
              "      <th>long.1</th>\n",
              "    </tr>\n",
              "  </thead>\n",
              "  <tbody>\n",
              "    <tr>\n",
              "      <th>yr_built.1</th>\n",
              "      <td>1.000000</td>\n",
              "      <td>0.334788</td>\n",
              "      <td>-0.029016</td>\n",
              "      <td>0.335400</td>\n",
              "      <td>-0.047893</td>\n",
              "      <td>0.445444</td>\n",
              "      <td>0.080707</td>\n",
              "      <td>-0.149401</td>\n",
              "      <td>0.407771</td>\n",
              "    </tr>\n",
              "    <tr>\n",
              "      <th>sqft_living15.1</th>\n",
              "      <td>0.334788</td>\n",
              "      <td>1.000000</td>\n",
              "      <td>0.228472</td>\n",
              "      <td>0.640236</td>\n",
              "      <td>0.216614</td>\n",
              "      <td>0.563509</td>\n",
              "      <td>0.380725</td>\n",
              "      <td>0.010894</td>\n",
              "      <td>0.343217</td>\n",
              "    </tr>\n",
              "    <tr>\n",
              "      <th>sqft_lot15.1</th>\n",
              "      <td>-0.029016</td>\n",
              "      <td>0.228472</td>\n",
              "      <td>1.000000</td>\n",
              "      <td>0.165166</td>\n",
              "      <td>0.852953</td>\n",
              "      <td>0.161959</td>\n",
              "      <td>0.017753</td>\n",
              "      <td>-0.131217</td>\n",
              "      <td>0.239323</td>\n",
              "    </tr>\n",
              "    <tr>\n",
              "      <th>sqft_living.1</th>\n",
              "      <td>0.335400</td>\n",
              "      <td>0.640236</td>\n",
              "      <td>0.165166</td>\n",
              "      <td>1.000000</td>\n",
              "      <td>0.182087</td>\n",
              "      <td>0.701603</td>\n",
              "      <td>0.454988</td>\n",
              "      <td>0.029603</td>\n",
              "      <td>0.265368</td>\n",
              "    </tr>\n",
              "    <tr>\n",
              "      <th>sqft_lot.1</th>\n",
              "      <td>-0.047893</td>\n",
              "      <td>0.216614</td>\n",
              "      <td>0.852953</td>\n",
              "      <td>0.182087</td>\n",
              "      <td>1.000000</td>\n",
              "      <td>0.173891</td>\n",
              "      <td>0.018845</td>\n",
              "      <td>-0.140755</td>\n",
              "      <td>0.243489</td>\n",
              "    </tr>\n",
              "    <tr>\n",
              "      <th>sqft_above.1</th>\n",
              "      <td>0.445444</td>\n",
              "      <td>0.563509</td>\n",
              "      <td>0.161959</td>\n",
              "      <td>0.701603</td>\n",
              "      <td>0.173891</td>\n",
              "      <td>1.000000</td>\n",
              "      <td>0.603669</td>\n",
              "      <td>-0.006288</td>\n",
              "      <td>0.371533</td>\n",
              "    </tr>\n",
              "    <tr>\n",
              "      <th>Price</th>\n",
              "      <td>0.080707</td>\n",
              "      <td>0.380725</td>\n",
              "      <td>0.017753</td>\n",
              "      <td>0.454988</td>\n",
              "      <td>0.018845</td>\n",
              "      <td>0.603669</td>\n",
              "      <td>1.000000</td>\n",
              "      <td>0.356743</td>\n",
              "      <td>0.063665</td>\n",
              "    </tr>\n",
              "    <tr>\n",
              "      <th>lat.1</th>\n",
              "      <td>-0.149401</td>\n",
              "      <td>0.010894</td>\n",
              "      <td>-0.131217</td>\n",
              "      <td>0.029603</td>\n",
              "      <td>-0.140755</td>\n",
              "      <td>-0.006288</td>\n",
              "      <td>0.356743</td>\n",
              "      <td>1.000000</td>\n",
              "      <td>-0.127262</td>\n",
              "    </tr>\n",
              "    <tr>\n",
              "      <th>long.1</th>\n",
              "      <td>0.407771</td>\n",
              "      <td>0.343217</td>\n",
              "      <td>0.239323</td>\n",
              "      <td>0.265368</td>\n",
              "      <td>0.243489</td>\n",
              "      <td>0.371533</td>\n",
              "      <td>0.063665</td>\n",
              "      <td>-0.127262</td>\n",
              "      <td>1.000000</td>\n",
              "    </tr>\n",
              "  </tbody>\n",
              "</table>\n",
              "</div>\n",
              "      <button class=\"colab-df-convert\" onclick=\"convertToInteractive('df-23dca42e-c6e5-4002-9093-0e2e4f7579ea')\"\n",
              "              title=\"Convert this dataframe to an interactive table.\"\n",
              "              style=\"display:none;\">\n",
              "        \n",
              "  <svg xmlns=\"http://www.w3.org/2000/svg\" height=\"24px\"viewBox=\"0 0 24 24\"\n",
              "       width=\"24px\">\n",
              "    <path d=\"M0 0h24v24H0V0z\" fill=\"none\"/>\n",
              "    <path d=\"M18.56 5.44l.94 2.06.94-2.06 2.06-.94-2.06-.94-.94-2.06-.94 2.06-2.06.94zm-11 1L8.5 8.5l.94-2.06 2.06-.94-2.06-.94L8.5 2.5l-.94 2.06-2.06.94zm10 10l.94 2.06.94-2.06 2.06-.94-2.06-.94-.94-2.06-.94 2.06-2.06.94z\"/><path d=\"M17.41 7.96l-1.37-1.37c-.4-.4-.92-.59-1.43-.59-.52 0-1.04.2-1.43.59L10.3 9.45l-7.72 7.72c-.78.78-.78 2.05 0 2.83L4 21.41c.39.39.9.59 1.41.59.51 0 1.02-.2 1.41-.59l7.78-7.78 2.81-2.81c.8-.78.8-2.07 0-2.86zM5.41 20L4 18.59l7.72-7.72 1.47 1.35L5.41 20z\"/>\n",
              "  </svg>\n",
              "      </button>\n",
              "      \n",
              "  <style>\n",
              "    .colab-df-container {\n",
              "      display:flex;\n",
              "      flex-wrap:wrap;\n",
              "      gap: 12px;\n",
              "    }\n",
              "\n",
              "    .colab-df-convert {\n",
              "      background-color: #E8F0FE;\n",
              "      border: none;\n",
              "      border-radius: 50%;\n",
              "      cursor: pointer;\n",
              "      display: none;\n",
              "      fill: #1967D2;\n",
              "      height: 32px;\n",
              "      padding: 0 0 0 0;\n",
              "      width: 32px;\n",
              "    }\n",
              "\n",
              "    .colab-df-convert:hover {\n",
              "      background-color: #E2EBFA;\n",
              "      box-shadow: 0px 1px 2px rgba(60, 64, 67, 0.3), 0px 1px 3px 1px rgba(60, 64, 67, 0.15);\n",
              "      fill: #174EA6;\n",
              "    }\n",
              "\n",
              "    [theme=dark] .colab-df-convert {\n",
              "      background-color: #3B4455;\n",
              "      fill: #D2E3FC;\n",
              "    }\n",
              "\n",
              "    [theme=dark] .colab-df-convert:hover {\n",
              "      background-color: #434B5C;\n",
              "      box-shadow: 0px 1px 3px 1px rgba(0, 0, 0, 0.15);\n",
              "      filter: drop-shadow(0px 1px 2px rgba(0, 0, 0, 0.3));\n",
              "      fill: #FFFFFF;\n",
              "    }\n",
              "  </style>\n",
              "\n",
              "      <script>\n",
              "        const buttonEl =\n",
              "          document.querySelector('#df-23dca42e-c6e5-4002-9093-0e2e4f7579ea button.colab-df-convert');\n",
              "        buttonEl.style.display =\n",
              "          google.colab.kernel.accessAllowed ? 'block' : 'none';\n",
              "\n",
              "        async function convertToInteractive(key) {\n",
              "          const element = document.querySelector('#df-23dca42e-c6e5-4002-9093-0e2e4f7579ea');\n",
              "          const dataTable =\n",
              "            await google.colab.kernel.invokeFunction('convertToInteractive',\n",
              "                                                     [key], {});\n",
              "          if (!dataTable) return;\n",
              "\n",
              "          const docLinkHtml = 'Like what you see? Visit the ' +\n",
              "            '<a target=\"_blank\" href=https://colab.research.google.com/notebooks/data_table.ipynb>data table notebook</a>'\n",
              "            + ' to learn more about interactive tables.';\n",
              "          element.innerHTML = '';\n",
              "          dataTable['output_type'] = 'display_data';\n",
              "          await google.colab.output.renderOutput(dataTable, element);\n",
              "          const docLink = document.createElement('div');\n",
              "          docLink.innerHTML = docLinkHtml;\n",
              "          element.appendChild(docLink);\n",
              "        }\n",
              "      </script>\n",
              "    </div>\n",
              "  </div>\n",
              "  "
            ]
          },
          "metadata": {},
          "execution_count": 1037
        }
      ]
    },
    {
      "cell_type": "code",
      "source": [
        "# Filtering only those columns where absolute correlation > 0.5 with Target Variable\n",
        "# reduce the 0.5 threshold if no variable is selected\n",
        "CorrelationData['Price'][abs(CorrelationData['Price']) > 0.3 ]"
      ],
      "metadata": {
        "colab": {
          "base_uri": "https://localhost:8080/"
        },
        "id": "VhS22N2-la0l",
        "outputId": "d54c519e-19a6-4388-9fd6-45129cbdf05c"
      },
      "execution_count": null,
      "outputs": [
        {
          "output_type": "execute_result",
          "data": {
            "text/plain": [
              "sqft_living15.1    0.380725\n",
              "sqft_living.1      0.454988\n",
              "sqft_above.1       0.603669\n",
              "Price              1.000000\n",
              "lat.1              0.356743\n",
              "Name: Price, dtype: float64"
            ]
          },
          "metadata": {},
          "execution_count": 1038
        }
      ]
    },
    {
      "cell_type": "code",
      "source": [
        "SelectedColumns=['sqft_living15.1','sqft_living.1','sqft_above.1', 'lat.1','floors', 'condition', 'grade', 'bedrooms', 'zipcode', 'date','Price']\n",
        "\n",
        "# Selecting final columns\n",
        "df=df[SelectedColumns]\n",
        "df.head()"
      ],
      "metadata": {
        "colab": {
          "base_uri": "https://localhost:8080/",
          "height": 206
        },
        "id": "FZ8gHRAQluBc",
        "outputId": "37d52896-a444-4ab6-e177-376f68c69466"
      },
      "execution_count": null,
      "outputs": [
        {
          "output_type": "execute_result",
          "data": {
            "text/plain": [
              "   sqft_living15.1  sqft_living.1  sqft_above.1     lat.1 floors condition  \\\n",
              "0        -0.633803      -0.697917     -0.346939 -0.280718    1.0         3   \n",
              "1        -0.140845       0.750000      0.663265  0.697599    2.0         3   \n",
              "2         1.309859      -1.125000     -0.765306  0.776405    1.0         3   \n",
              "3        -0.605634       0.114583     -0.479592 -0.235952    1.0         5   \n",
              "4         0.014085      -0.177083      0.163265  0.211704    1.0         3   \n",
              "\n",
              "  grade bedrooms zipcode date     Price  \n",
              "0     7      3.0      66  160 -0.724830  \n",
              "1     7      3.0      55  111  0.350340  \n",
              "2     6      2.0      16  298 -0.867347  \n",
              "3     7      4.0      58  111  0.574830  \n",
              "4     8      3.0      37  213  0.255102  "
            ],
            "text/html": [
              "\n",
              "  <div id=\"df-b2547833-d5cc-4826-968c-37f0baedb04f\">\n",
              "    <div class=\"colab-df-container\">\n",
              "      <div>\n",
              "<style scoped>\n",
              "    .dataframe tbody tr th:only-of-type {\n",
              "        vertical-align: middle;\n",
              "    }\n",
              "\n",
              "    .dataframe tbody tr th {\n",
              "        vertical-align: top;\n",
              "    }\n",
              "\n",
              "    .dataframe thead th {\n",
              "        text-align: right;\n",
              "    }\n",
              "</style>\n",
              "<table border=\"1\" class=\"dataframe\">\n",
              "  <thead>\n",
              "    <tr style=\"text-align: right;\">\n",
              "      <th></th>\n",
              "      <th>sqft_living15.1</th>\n",
              "      <th>sqft_living.1</th>\n",
              "      <th>sqft_above.1</th>\n",
              "      <th>lat.1</th>\n",
              "      <th>floors</th>\n",
              "      <th>condition</th>\n",
              "      <th>grade</th>\n",
              "      <th>bedrooms</th>\n",
              "      <th>zipcode</th>\n",
              "      <th>date</th>\n",
              "      <th>Price</th>\n",
              "    </tr>\n",
              "  </thead>\n",
              "  <tbody>\n",
              "    <tr>\n",
              "      <th>0</th>\n",
              "      <td>-0.633803</td>\n",
              "      <td>-0.697917</td>\n",
              "      <td>-0.346939</td>\n",
              "      <td>-0.280718</td>\n",
              "      <td>1.0</td>\n",
              "      <td>3</td>\n",
              "      <td>7</td>\n",
              "      <td>3.0</td>\n",
              "      <td>66</td>\n",
              "      <td>160</td>\n",
              "      <td>-0.724830</td>\n",
              "    </tr>\n",
              "    <tr>\n",
              "      <th>1</th>\n",
              "      <td>-0.140845</td>\n",
              "      <td>0.750000</td>\n",
              "      <td>0.663265</td>\n",
              "      <td>0.697599</td>\n",
              "      <td>2.0</td>\n",
              "      <td>3</td>\n",
              "      <td>7</td>\n",
              "      <td>3.0</td>\n",
              "      <td>55</td>\n",
              "      <td>111</td>\n",
              "      <td>0.350340</td>\n",
              "    </tr>\n",
              "    <tr>\n",
              "      <th>2</th>\n",
              "      <td>1.309859</td>\n",
              "      <td>-1.125000</td>\n",
              "      <td>-0.765306</td>\n",
              "      <td>0.776405</td>\n",
              "      <td>1.0</td>\n",
              "      <td>3</td>\n",
              "      <td>6</td>\n",
              "      <td>2.0</td>\n",
              "      <td>16</td>\n",
              "      <td>298</td>\n",
              "      <td>-0.867347</td>\n",
              "    </tr>\n",
              "    <tr>\n",
              "      <th>3</th>\n",
              "      <td>-0.605634</td>\n",
              "      <td>0.114583</td>\n",
              "      <td>-0.479592</td>\n",
              "      <td>-0.235952</td>\n",
              "      <td>1.0</td>\n",
              "      <td>5</td>\n",
              "      <td>7</td>\n",
              "      <td>4.0</td>\n",
              "      <td>58</td>\n",
              "      <td>111</td>\n",
              "      <td>0.574830</td>\n",
              "    </tr>\n",
              "    <tr>\n",
              "      <th>4</th>\n",
              "      <td>0.014085</td>\n",
              "      <td>-0.177083</td>\n",
              "      <td>0.163265</td>\n",
              "      <td>0.211704</td>\n",
              "      <td>1.0</td>\n",
              "      <td>3</td>\n",
              "      <td>8</td>\n",
              "      <td>3.0</td>\n",
              "      <td>37</td>\n",
              "      <td>213</td>\n",
              "      <td>0.255102</td>\n",
              "    </tr>\n",
              "  </tbody>\n",
              "</table>\n",
              "</div>\n",
              "      <button class=\"colab-df-convert\" onclick=\"convertToInteractive('df-b2547833-d5cc-4826-968c-37f0baedb04f')\"\n",
              "              title=\"Convert this dataframe to an interactive table.\"\n",
              "              style=\"display:none;\">\n",
              "        \n",
              "  <svg xmlns=\"http://www.w3.org/2000/svg\" height=\"24px\"viewBox=\"0 0 24 24\"\n",
              "       width=\"24px\">\n",
              "    <path d=\"M0 0h24v24H0V0z\" fill=\"none\"/>\n",
              "    <path d=\"M18.56 5.44l.94 2.06.94-2.06 2.06-.94-2.06-.94-.94-2.06-.94 2.06-2.06.94zm-11 1L8.5 8.5l.94-2.06 2.06-.94-2.06-.94L8.5 2.5l-.94 2.06-2.06.94zm10 10l.94 2.06.94-2.06 2.06-.94-2.06-.94-.94-2.06-.94 2.06-2.06.94z\"/><path d=\"M17.41 7.96l-1.37-1.37c-.4-.4-.92-.59-1.43-.59-.52 0-1.04.2-1.43.59L10.3 9.45l-7.72 7.72c-.78.78-.78 2.05 0 2.83L4 21.41c.39.39.9.59 1.41.59.51 0 1.02-.2 1.41-.59l7.78-7.78 2.81-2.81c.8-.78.8-2.07 0-2.86zM5.41 20L4 18.59l7.72-7.72 1.47 1.35L5.41 20z\"/>\n",
              "  </svg>\n",
              "      </button>\n",
              "      \n",
              "  <style>\n",
              "    .colab-df-container {\n",
              "      display:flex;\n",
              "      flex-wrap:wrap;\n",
              "      gap: 12px;\n",
              "    }\n",
              "\n",
              "    .colab-df-convert {\n",
              "      background-color: #E8F0FE;\n",
              "      border: none;\n",
              "      border-radius: 50%;\n",
              "      cursor: pointer;\n",
              "      display: none;\n",
              "      fill: #1967D2;\n",
              "      height: 32px;\n",
              "      padding: 0 0 0 0;\n",
              "      width: 32px;\n",
              "    }\n",
              "\n",
              "    .colab-df-convert:hover {\n",
              "      background-color: #E2EBFA;\n",
              "      box-shadow: 0px 1px 2px rgba(60, 64, 67, 0.3), 0px 1px 3px 1px rgba(60, 64, 67, 0.15);\n",
              "      fill: #174EA6;\n",
              "    }\n",
              "\n",
              "    [theme=dark] .colab-df-convert {\n",
              "      background-color: #3B4455;\n",
              "      fill: #D2E3FC;\n",
              "    }\n",
              "\n",
              "    [theme=dark] .colab-df-convert:hover {\n",
              "      background-color: #434B5C;\n",
              "      box-shadow: 0px 1px 3px 1px rgba(0, 0, 0, 0.15);\n",
              "      filter: drop-shadow(0px 1px 2px rgba(0, 0, 0, 0.3));\n",
              "      fill: #FFFFFF;\n",
              "    }\n",
              "  </style>\n",
              "\n",
              "      <script>\n",
              "        const buttonEl =\n",
              "          document.querySelector('#df-b2547833-d5cc-4826-968c-37f0baedb04f button.colab-df-convert');\n",
              "        buttonEl.style.display =\n",
              "          google.colab.kernel.accessAllowed ? 'block' : 'none';\n",
              "\n",
              "        async function convertToInteractive(key) {\n",
              "          const element = document.querySelector('#df-b2547833-d5cc-4826-968c-37f0baedb04f');\n",
              "          const dataTable =\n",
              "            await google.colab.kernel.invokeFunction('convertToInteractive',\n",
              "                                                     [key], {});\n",
              "          if (!dataTable) return;\n",
              "\n",
              "          const docLinkHtml = 'Like what you see? Visit the ' +\n",
              "            '<a target=\"_blank\" href=https://colab.research.google.com/notebooks/data_table.ipynb>data table notebook</a>'\n",
              "            + ' to learn more about interactive tables.';\n",
              "          element.innerHTML = '';\n",
              "          dataTable['output_type'] = 'display_data';\n",
              "          await google.colab.output.renderOutput(dataTable, element);\n",
              "          const docLink = document.createElement('div');\n",
              "          docLink.innerHTML = docLinkHtml;\n",
              "          element.appendChild(docLink);\n",
              "        }\n",
              "      </script>\n",
              "    </div>\n",
              "  </div>\n",
              "  "
            ]
          },
          "metadata": {},
          "execution_count": 1039
        }
      ]
    },
    {
      "cell_type": "code",
      "source": [
        "df"
      ],
      "metadata": {
        "colab": {
          "base_uri": "https://localhost:8080/",
          "height": 423
        },
        "id": "y0sL8FH4e4sx",
        "outputId": "aef256b6-f65a-42e0-adb2-b138de74cc00"
      },
      "execution_count": null,
      "outputs": [
        {
          "output_type": "execute_result",
          "data": {
            "text/plain": [
              "       sqft_living15.1  sqft_living.1  sqft_above.1     lat.1 floors  \\\n",
              "0            -0.633803      -0.697917     -0.346939 -0.280718    1.0   \n",
              "1            -0.140845       0.750000      0.663265  0.697599    2.0   \n",
              "2             1.309859      -1.125000     -0.765306  0.776405    1.0   \n",
              "3            -0.605634       0.114583     -0.479592 -0.235952    1.0   \n",
              "4             0.014085      -0.177083      0.163265  0.211704    1.0   \n",
              "...                ...            ...           ...       ...    ...   \n",
              "20158        -0.366197      -0.333333      0.010204  0.596409    3.0   \n",
              "20159         0.056338       0.479167      0.806122 -0.283050    2.0   \n",
              "20160        -1.084507      -0.864583     -0.510204  0.107251    2.0   \n",
              "20161        -0.535211      -0.260417      0.081633 -0.172068    2.0   \n",
              "20162        -1.084507      -0.864583     -0.510204  0.105852    2.0   \n",
              "\n",
              "      condition grade bedrooms zipcode date     Price  \n",
              "0             3     7      3.0      66  160 -0.724830  \n",
              "1             3     7      3.0      55  111  0.350340  \n",
              "2             3     6      2.0      16  298 -0.867347  \n",
              "3             5     7      4.0      58  111  0.574830  \n",
              "4             3     8      3.0      37  213  0.255102  \n",
              "...         ...   ...      ...     ...  ...       ...  \n",
              "20158         3     8      3.0      42  252 -0.255102  \n",
              "20159         3     8      4.0      60  273 -0.119048  \n",
              "20160         3     7      3.0      59  277 -0.111901  \n",
              "20161         3     8      3.0      15  189 -0.119048  \n",
              "20162         3     7      2.0      59  186 -0.374150  \n",
              "\n",
              "[20163 rows x 11 columns]"
            ],
            "text/html": [
              "\n",
              "  <div id=\"df-eda21301-a949-4692-96f7-78c2816010ea\">\n",
              "    <div class=\"colab-df-container\">\n",
              "      <div>\n",
              "<style scoped>\n",
              "    .dataframe tbody tr th:only-of-type {\n",
              "        vertical-align: middle;\n",
              "    }\n",
              "\n",
              "    .dataframe tbody tr th {\n",
              "        vertical-align: top;\n",
              "    }\n",
              "\n",
              "    .dataframe thead th {\n",
              "        text-align: right;\n",
              "    }\n",
              "</style>\n",
              "<table border=\"1\" class=\"dataframe\">\n",
              "  <thead>\n",
              "    <tr style=\"text-align: right;\">\n",
              "      <th></th>\n",
              "      <th>sqft_living15.1</th>\n",
              "      <th>sqft_living.1</th>\n",
              "      <th>sqft_above.1</th>\n",
              "      <th>lat.1</th>\n",
              "      <th>floors</th>\n",
              "      <th>condition</th>\n",
              "      <th>grade</th>\n",
              "      <th>bedrooms</th>\n",
              "      <th>zipcode</th>\n",
              "      <th>date</th>\n",
              "      <th>Price</th>\n",
              "    </tr>\n",
              "  </thead>\n",
              "  <tbody>\n",
              "    <tr>\n",
              "      <th>0</th>\n",
              "      <td>-0.633803</td>\n",
              "      <td>-0.697917</td>\n",
              "      <td>-0.346939</td>\n",
              "      <td>-0.280718</td>\n",
              "      <td>1.0</td>\n",
              "      <td>3</td>\n",
              "      <td>7</td>\n",
              "      <td>3.0</td>\n",
              "      <td>66</td>\n",
              "      <td>160</td>\n",
              "      <td>-0.724830</td>\n",
              "    </tr>\n",
              "    <tr>\n",
              "      <th>1</th>\n",
              "      <td>-0.140845</td>\n",
              "      <td>0.750000</td>\n",
              "      <td>0.663265</td>\n",
              "      <td>0.697599</td>\n",
              "      <td>2.0</td>\n",
              "      <td>3</td>\n",
              "      <td>7</td>\n",
              "      <td>3.0</td>\n",
              "      <td>55</td>\n",
              "      <td>111</td>\n",
              "      <td>0.350340</td>\n",
              "    </tr>\n",
              "    <tr>\n",
              "      <th>2</th>\n",
              "      <td>1.309859</td>\n",
              "      <td>-1.125000</td>\n",
              "      <td>-0.765306</td>\n",
              "      <td>0.776405</td>\n",
              "      <td>1.0</td>\n",
              "      <td>3</td>\n",
              "      <td>6</td>\n",
              "      <td>2.0</td>\n",
              "      <td>16</td>\n",
              "      <td>298</td>\n",
              "      <td>-0.867347</td>\n",
              "    </tr>\n",
              "    <tr>\n",
              "      <th>3</th>\n",
              "      <td>-0.605634</td>\n",
              "      <td>0.114583</td>\n",
              "      <td>-0.479592</td>\n",
              "      <td>-0.235952</td>\n",
              "      <td>1.0</td>\n",
              "      <td>5</td>\n",
              "      <td>7</td>\n",
              "      <td>4.0</td>\n",
              "      <td>58</td>\n",
              "      <td>111</td>\n",
              "      <td>0.574830</td>\n",
              "    </tr>\n",
              "    <tr>\n",
              "      <th>4</th>\n",
              "      <td>0.014085</td>\n",
              "      <td>-0.177083</td>\n",
              "      <td>0.163265</td>\n",
              "      <td>0.211704</td>\n",
              "      <td>1.0</td>\n",
              "      <td>3</td>\n",
              "      <td>8</td>\n",
              "      <td>3.0</td>\n",
              "      <td>37</td>\n",
              "      <td>213</td>\n",
              "      <td>0.255102</td>\n",
              "    </tr>\n",
              "    <tr>\n",
              "      <th>...</th>\n",
              "      <td>...</td>\n",
              "      <td>...</td>\n",
              "      <td>...</td>\n",
              "      <td>...</td>\n",
              "      <td>...</td>\n",
              "      <td>...</td>\n",
              "      <td>...</td>\n",
              "      <td>...</td>\n",
              "      <td>...</td>\n",
              "      <td>...</td>\n",
              "      <td>...</td>\n",
              "    </tr>\n",
              "    <tr>\n",
              "      <th>20158</th>\n",
              "      <td>-0.366197</td>\n",
              "      <td>-0.333333</td>\n",
              "      <td>0.010204</td>\n",
              "      <td>0.596409</td>\n",
              "      <td>3.0</td>\n",
              "      <td>3</td>\n",
              "      <td>8</td>\n",
              "      <td>3.0</td>\n",
              "      <td>42</td>\n",
              "      <td>252</td>\n",
              "      <td>-0.255102</td>\n",
              "    </tr>\n",
              "    <tr>\n",
              "      <th>20159</th>\n",
              "      <td>0.056338</td>\n",
              "      <td>0.479167</td>\n",
              "      <td>0.806122</td>\n",
              "      <td>-0.283050</td>\n",
              "      <td>2.0</td>\n",
              "      <td>3</td>\n",
              "      <td>8</td>\n",
              "      <td>4.0</td>\n",
              "      <td>60</td>\n",
              "      <td>273</td>\n",
              "      <td>-0.119048</td>\n",
              "    </tr>\n",
              "    <tr>\n",
              "      <th>20160</th>\n",
              "      <td>-1.084507</td>\n",
              "      <td>-0.864583</td>\n",
              "      <td>-0.510204</td>\n",
              "      <td>0.107251</td>\n",
              "      <td>2.0</td>\n",
              "      <td>3</td>\n",
              "      <td>7</td>\n",
              "      <td>3.0</td>\n",
              "      <td>59</td>\n",
              "      <td>277</td>\n",
              "      <td>-0.111901</td>\n",
              "    </tr>\n",
              "    <tr>\n",
              "      <th>20161</th>\n",
              "      <td>-0.535211</td>\n",
              "      <td>-0.260417</td>\n",
              "      <td>0.081633</td>\n",
              "      <td>-0.172068</td>\n",
              "      <td>2.0</td>\n",
              "      <td>3</td>\n",
              "      <td>8</td>\n",
              "      <td>3.0</td>\n",
              "      <td>15</td>\n",
              "      <td>189</td>\n",
              "      <td>-0.119048</td>\n",
              "    </tr>\n",
              "    <tr>\n",
              "      <th>20162</th>\n",
              "      <td>-1.084507</td>\n",
              "      <td>-0.864583</td>\n",
              "      <td>-0.510204</td>\n",
              "      <td>0.105852</td>\n",
              "      <td>2.0</td>\n",
              "      <td>3</td>\n",
              "      <td>7</td>\n",
              "      <td>2.0</td>\n",
              "      <td>59</td>\n",
              "      <td>186</td>\n",
              "      <td>-0.374150</td>\n",
              "    </tr>\n",
              "  </tbody>\n",
              "</table>\n",
              "<p>20163 rows × 11 columns</p>\n",
              "</div>\n",
              "      <button class=\"colab-df-convert\" onclick=\"convertToInteractive('df-eda21301-a949-4692-96f7-78c2816010ea')\"\n",
              "              title=\"Convert this dataframe to an interactive table.\"\n",
              "              style=\"display:none;\">\n",
              "        \n",
              "  <svg xmlns=\"http://www.w3.org/2000/svg\" height=\"24px\"viewBox=\"0 0 24 24\"\n",
              "       width=\"24px\">\n",
              "    <path d=\"M0 0h24v24H0V0z\" fill=\"none\"/>\n",
              "    <path d=\"M18.56 5.44l.94 2.06.94-2.06 2.06-.94-2.06-.94-.94-2.06-.94 2.06-2.06.94zm-11 1L8.5 8.5l.94-2.06 2.06-.94-2.06-.94L8.5 2.5l-.94 2.06-2.06.94zm10 10l.94 2.06.94-2.06 2.06-.94-2.06-.94-.94-2.06-.94 2.06-2.06.94z\"/><path d=\"M17.41 7.96l-1.37-1.37c-.4-.4-.92-.59-1.43-.59-.52 0-1.04.2-1.43.59L10.3 9.45l-7.72 7.72c-.78.78-.78 2.05 0 2.83L4 21.41c.39.39.9.59 1.41.59.51 0 1.02-.2 1.41-.59l7.78-7.78 2.81-2.81c.8-.78.8-2.07 0-2.86zM5.41 20L4 18.59l7.72-7.72 1.47 1.35L5.41 20z\"/>\n",
              "  </svg>\n",
              "      </button>\n",
              "      \n",
              "  <style>\n",
              "    .colab-df-container {\n",
              "      display:flex;\n",
              "      flex-wrap:wrap;\n",
              "      gap: 12px;\n",
              "    }\n",
              "\n",
              "    .colab-df-convert {\n",
              "      background-color: #E8F0FE;\n",
              "      border: none;\n",
              "      border-radius: 50%;\n",
              "      cursor: pointer;\n",
              "      display: none;\n",
              "      fill: #1967D2;\n",
              "      height: 32px;\n",
              "      padding: 0 0 0 0;\n",
              "      width: 32px;\n",
              "    }\n",
              "\n",
              "    .colab-df-convert:hover {\n",
              "      background-color: #E2EBFA;\n",
              "      box-shadow: 0px 1px 2px rgba(60, 64, 67, 0.3), 0px 1px 3px 1px rgba(60, 64, 67, 0.15);\n",
              "      fill: #174EA6;\n",
              "    }\n",
              "\n",
              "    [theme=dark] .colab-df-convert {\n",
              "      background-color: #3B4455;\n",
              "      fill: #D2E3FC;\n",
              "    }\n",
              "\n",
              "    [theme=dark] .colab-df-convert:hover {\n",
              "      background-color: #434B5C;\n",
              "      box-shadow: 0px 1px 3px 1px rgba(0, 0, 0, 0.15);\n",
              "      filter: drop-shadow(0px 1px 2px rgba(0, 0, 0, 0.3));\n",
              "      fill: #FFFFFF;\n",
              "    }\n",
              "  </style>\n",
              "\n",
              "      <script>\n",
              "        const buttonEl =\n",
              "          document.querySelector('#df-eda21301-a949-4692-96f7-78c2816010ea button.colab-df-convert');\n",
              "        buttonEl.style.display =\n",
              "          google.colab.kernel.accessAllowed ? 'block' : 'none';\n",
              "\n",
              "        async function convertToInteractive(key) {\n",
              "          const element = document.querySelector('#df-eda21301-a949-4692-96f7-78c2816010ea');\n",
              "          const dataTable =\n",
              "            await google.colab.kernel.invokeFunction('convertToInteractive',\n",
              "                                                     [key], {});\n",
              "          if (!dataTable) return;\n",
              "\n",
              "          const docLinkHtml = 'Like what you see? Visit the ' +\n",
              "            '<a target=\"_blank\" href=https://colab.research.google.com/notebooks/data_table.ipynb>data table notebook</a>'\n",
              "            + ' to learn more about interactive tables.';\n",
              "          element.innerHTML = '';\n",
              "          dataTable['output_type'] = 'display_data';\n",
              "          await google.colab.output.renderOutput(dataTable, element);\n",
              "          const docLink = document.createElement('div');\n",
              "          docLink.innerHTML = docLinkHtml;\n",
              "          element.appendChild(docLink);\n",
              "        }\n",
              "      </script>\n",
              "    </div>\n",
              "  </div>\n",
              "  "
            ]
          },
          "metadata": {},
          "execution_count": 1040
        }
      ]
    },
    {
      "cell_type": "code",
      "source": [
        " \n",
        "  \n",
        "# plotting correlation heatmap\n",
        "dataplot=sns.heatmap(df.corr())\n",
        "  \n",
        "# displaying heatmap\n",
        "plt.show()"
      ],
      "metadata": {
        "colab": {
          "base_uri": "https://localhost:8080/",
          "height": 333
        },
        "id": "Q7poi0mg5MmR",
        "outputId": "189ef3c6-5b74-47ed-d2d3-aeba17a032e7"
      },
      "execution_count": null,
      "outputs": [
        {
          "output_type": "display_data",
          "data": {
            "text/plain": [
              "<Figure size 432x288 with 2 Axes>"
            ],
            "image/png": "[encoded data removed]"
          },
          "metadata": {
            "needs_background": "light"
          }
        }
      ]
    },
    {
      "cell_type": "code",
      "source": [
        "df = df.drop(columns=['sqft_above.1'])"
      ],
      "metadata": {
        "id": "GanEBuEg5nrJ"
      },
      "execution_count": null,
      "outputs": []
    },
    {
      "cell_type": "code",
      "source": [
        "df3 = df.sample(frac = 1)"
      ],
      "metadata": {
        "id": "USGo-v04kKar"
      },
      "execution_count": null,
      "outputs": []
    },
    {
      "cell_type": "code",
      "source": [
        "X = np.array(df3.drop([\"Price\"],1))\n",
        "print(\"Shape of X:\",X.shape)\n",
        "print(X)"
      ],
      "metadata": {
        "colab": {
          "base_uri": "https://localhost:8080/"
        },
        "id": "b4-i3499kRfc",
        "outputId": "36cfda14-9564-407f-fdbc-1a3a8d4fd1b6"
      },
      "execution_count": null,
      "outputs": [
        {
          "output_type": "stream",
          "name": "stdout",
          "text": [
            "Shape of X: (20163, 9)\n",
            "[[-2.81690141e-01 -1.66666667e-01 -1.05852180e+00 ...  3.00000000e+00\n",
            "   2.00000000e+00  2.34000000e+02]\n",
            " [-5.49295775e-01 -8.75000000e-01 -1.07717417e-01 ...  3.00000000e+00\n",
            "   5.20000000e+01  3.58000000e+02]\n",
            " [-5.49295775e-01 -9.27083333e-01  1.39426440e-01 ...  2.00000000e+00\n",
            "   5.90000000e+01  1.91000000e+02]\n",
            " ...\n",
            " [ 0.00000000e+00  0.00000000e+00 -1.20307764e-01 ...  3.00000000e+00\n",
            "   5.00000000e+00  5.40000000e+01]\n",
            " [-3.38028169e-01 -4.79166667e-01 -1.37467941e+00 ...  3.00000000e+00\n",
            "   4.00000000e+01  1.89000000e+02]\n",
            " [-5.35211268e-01 -5.52083333e-01 -3.31079506e-02 ...  2.00000000e+00\n",
            "   5.20000000e+01  2.86000000e+02]]\n"
          ]
        }
      ]
    },
    {
      "cell_type": "code",
      "source": [
        "y = np.array(df3[\"Price\"])\n",
        "print(\"Shape of y:\",y.shape)\n",
        "print(y)"
      ],
      "metadata": {
        "colab": {
          "base_uri": "https://localhost:8080/"
        },
        "id": "bAnRaNkLkWY8",
        "outputId": "74030134-9835-4b5a-f33d-4371c1a5f797"
      },
      "execution_count": null,
      "outputs": [
        {
          "output_type": "stream",
          "name": "stdout",
          "text": [
            "Shape of y: (20163,)\n",
            "[-0.74829932 -0.43197279 -0.30612245 ...  3.33333333 -0.73639456\n",
            " -0.1037415 ]\n"
          ]
        }
      ]
    },
    {
      "cell_type": "code",
      "source": [
        "size = X.shape[0]\n",
        "X_train = X[:int(0.7 * size),:]\n",
        "X_test = X[int(0.7 * size):,:]\n",
        "y_train = y[:int(0.7 * size)]\n",
        "y_test = y[int(0.7 * size):]"
      ],
      "metadata": {
        "id": "ge_iWJuVkaU9"
      },
      "execution_count": null,
      "outputs": []
    },
    {
      "cell_type": "code",
      "source": [
        "print(X_train.shape)\n",
        "print(X_test.shape)\n",
        "print(y_train.shape)\n",
        "print(y_test.shape)\n"
      ],
      "metadata": {
        "colab": {
          "base_uri": "https://localhost:8080/"
        },
        "id": "u6Tf64zSkdFm",
        "outputId": "0f25d3d3-1d39-46d1-db46-9b9c1f22ea81"
      },
      "execution_count": null,
      "outputs": [
        {
          "output_type": "stream",
          "name": "stdout",
          "text": [
            "(14114, 9)\n",
            "(6049, 9)\n",
            "(14114,)\n",
            "(6049,)\n"
          ]
        }
      ]
    },
    {
      "cell_type": "code",
      "source": [
        "y_train = y_train.reshape(len(y_train),1)\n",
        "y_test = y_test.reshape(len(y_test),1)\n",
        "y_pred = np.zeros(y_test.shape)\n",
        "y_train.shape, y_test.shape,y_pred.shape"
      ],
      "metadata": {
        "colab": {
          "base_uri": "https://localhost:8080/"
        },
        "id": "CbpSnUHEkfvs",
        "outputId": "57305793-404d-47dd-fe4d-b7e4348abd43"
      },
      "execution_count": null,
      "outputs": [
        {
          "output_type": "execute_result",
          "data": {
            "text/plain": [
              "((14114, 1), (6049, 1), (6049, 1))"
            ]
          },
          "metadata": {},
          "execution_count": 1048
        }
      ]
    },
    {
      "cell_type": "code",
      "source": [
        "n_neigh = 13\n",
        "for row in range(len(X_test)):\n",
        "    euclidian_distance = np.sqrt(np.sum((X_train - X_test[row])**2, axis = 1 ))\n",
        "    y_pred[row] = np.mean(y_train[np.argsort(euclidian_distance, axis = 0)[:n_neigh]])#mean()* sigma_y + mu_y\n",
        "    \n",
        "#Finding the root mean squared error \n",
        "\n",
        "RMSE = np.sqrt(np.mean((y_pred - y_test)**2))\n",
        "print(RMSE)"
      ],
      "metadata": {
        "colab": {
          "base_uri": "https://localhost:8080/"
        },
        "id": "4-n5tDaQkiz8",
        "outputId": "8ce5a275-6942-42ac-8689-ded2765af3f6"
      },
      "execution_count": null,
      "outputs": [
        {
          "output_type": "stream",
          "name": "stdout",
          "text": [
            "0.8267526662121966\n"
          ]
        }
      ]
    },
    {
      "cell_type": "code",
      "source": [
        "# Calculate mean absolute error\n",
        "mae = np.mean(np.abs(y_test - y_pred))\n",
        "\n",
        "print(\"Mean Absolute Error:\", mae)"
      ],
      "metadata": {
        "colab": {
          "base_uri": "https://localhost:8080/"
        },
        "id": "LdVJs2jRklV8",
        "outputId": "d54ef2e5-24f8-4397-fd82-8350ebdb5f55"
      },
      "execution_count": null,
      "outputs": [
        {
          "output_type": "stream",
          "name": "stdout",
          "text": [
            "Mean Absolute Error: 0.5103582469573661\n"
          ]
        }
      ]
    },
    {
      "cell_type": "code",
      "source": [
        "# We are setting a range of K values and calculating the RMSE for each of them. This way we can chose the optimal K value\n",
        "k_list = [x for x in range(1,50,1)]\n",
        "\n",
        "# Calculating the distance matrix using numpy broadcasting technique \n",
        "distance = np.sqrt(((X_train[:, :, None] - X_test[:, :, None].T) ** 2).sum(1))\n",
        "\n",
        "#Sorting each data points of the distance matrix to reduce computational effort \n",
        "sorted_distance = np.argsort(distance, axis = 0)\n",
        "\n",
        "#The knn function takes in the sorted distance and returns the RMSE of the \n",
        "def knn(X_train,X_test,y_train,y_test,sorted_distance,k):\n",
        "    y_pred = np.zeros(y_test.shape)\n",
        "    for row in range(len(X_test)):\n",
        "        \n",
        "        #Transforming the y_train values to adjust the scale. \n",
        "        y_pred[row] = np.mean(y_train[sorted_distance[:,row][:k]])#mean()* sigma_y + mu_y\n",
        "\n",
        "    RMSE = np.sqrt(np.mean((y_test - y_pred)**2))\n",
        "    return RMSE\n",
        "\n",
        "#Storing the RMSE values in a list for each k value \n",
        "rmse_list = []\n",
        "for i in k_list:\n",
        "    rmse_list.append(knn(X_train,X_test,y_train,y_test,sorted_distance,i))"
      ],
      "metadata": {
        "id": "WjJ9VSh_kq7E"
      },
      "execution_count": null,
      "outputs": []
    },
    {
      "cell_type": "code",
      "source": [
        "#Finding the optimal K value\n",
        "min_rmse_k_value = k_list[rmse_list.index(min(rmse_list))]\n",
        "\n",
        "#Finding the lowest possible RMSE\n",
        "optimal_RMSE = knn(X_train,X_test,y_train,y_test,sorted_distance,min_rmse_k_value)\n",
        "optimal_RMSE"
      ],
      "metadata": {
        "colab": {
          "base_uri": "https://localhost:8080/"
        },
        "id": "wqdSu2eHuopJ",
        "outputId": "a68d99b3-dae1-411e-ec88-8f2310daeb84"
      },
      "execution_count": null,
      "outputs": [
        {
          "output_type": "execute_result",
          "data": {
            "text/plain": [
              "0.7515299911001241"
            ]
          },
          "metadata": {},
          "execution_count": 1052
        }
      ]
    },
    {
      "cell_type": "code",
      "source": [
        "min_rmse_k_value"
      ],
      "metadata": {
        "colab": {
          "base_uri": "https://localhost:8080/"
        },
        "id": "dl2Pq1MjulUq",
        "outputId": "bf4f2cf4-076b-4384-8d83-d48bcf3cf50f"
      },
      "execution_count": null,
      "outputs": [
        {
          "output_type": "execute_result",
          "data": {
            "text/plain": [
              "3"
            ]
          },
          "metadata": {},
          "execution_count": 1053
        }
      ]
    },
    {
      "cell_type": "code",
      "source": [
        "from sklearn.metrics import mean_squared_error\n",
        "from sklearn.metrics import r2_score,mean_absolute_error\n",
        "\n",
        "print(np.sqrt(mean_squared_error(y_test,y_pred))) \n",
        "r2scr = print(r2_score(y_test, y_pred))\n",
        "print(mean_absolute_error(y_test, y_pred))"
      ],
      "metadata": {
        "colab": {
          "base_uri": "https://localhost:8080/"
        },
        "id": "K_-biGptkty0",
        "outputId": "9880a084-77bb-4cbc-ed44-4f90c97054d1"
      },
      "execution_count": null,
      "outputs": [
        {
          "output_type": "stream",
          "name": "stdout",
          "text": [
            "0.8267526662121966\n",
            "0.34428481519414844\n",
            "0.5103582469573661\n"
          ]
        }
      ]
    },
    {
      "cell_type": "code",
      "source": [],
      "metadata": {
        "id": "EscnCNW9lUNC"
      },
      "execution_count": null,
      "outputs": []
    }
  ]
}
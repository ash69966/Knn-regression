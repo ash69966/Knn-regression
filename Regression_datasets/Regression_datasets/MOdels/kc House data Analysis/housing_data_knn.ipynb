{
  "nbformat": 4,
  "nbformat_minor": 0,
  "metadata": {
    "colab": {
      "provenance": []
    },
    "kernelspec": {
      "name": "python3",
      "display_name": "Python 3"
    },
    "language_info": {
      "name": "python"
    }
  },
  "cells": [
    {
      "cell_type": "code",
      "execution_count": 17,
      "metadata": {
        "id": "9VQ20AFmYIxJ"
      },
      "outputs": [],
      "source": [
        "%matplotlib inline \n",
        "\n",
        "import pandas as pd\n",
        "import numpy as np\n",
        "import matplotlib.pyplot as plt\n",
        "import seaborn as sns\n",
        "\n",
        "import warnings\n",
        "warnings.filterwarnings(action='ignore')"
      ]
    },
    {
      "cell_type": "code",
      "source": [
        "df1 = pd.read_csv(\"/content/house(1).csv\")\n",
        "df2 = pd.read_csv(\"/content/house(2).csv\")\n",
        "\n",
        "df1"
      ],
      "metadata": {
        "colab": {
          "base_uri": "https://localhost:8080/",
          "height": 423
        },
        "id": "8mNj5FiQYOCw",
        "outputId": "1a21e851-d595-45b5-8d98-832a5138c0bd"
      },
      "execution_count": 18,
      "outputs": [
        {
          "output_type": "execute_result",
          "data": {
            "text/plain": [
              "               id  sqft_basement  yr_built  yr_renovated  zipcode      lat  \\\n",
              "0      7129300520              0      1955             0    98178  47.5112   \n",
              "1      6414100192            400      1951          1991    98125  47.7210   \n",
              "2      5631500400              0      1933             0    98028  47.7379   \n",
              "3      2487200875            910      1965             0    98136  47.5208   \n",
              "4      1954400510              0      1987             0    98074  47.6168   \n",
              "...           ...            ...       ...           ...      ...      ...   \n",
              "21608   263000018              0      2009             0    98103  47.6993   \n",
              "21609  6600060120              0      2014             0    98146  47.5107   \n",
              "21610  1523300141              0      2009             0    98144  47.5944   \n",
              "21611   291310100              0      2004             0    98027  47.5345   \n",
              "21612  1523300157              0      2008             0    98144  47.5941   \n",
              "\n",
              "          long  sqft_living15  sqft_lot15  \n",
              "0     -122.257           1340        5650  \n",
              "1     -122.319           1690        7639  \n",
              "2     -122.233           2720        8062  \n",
              "3     -122.393           1360        5000  \n",
              "4     -122.045           1800        7503  \n",
              "...        ...            ...         ...  \n",
              "21608 -122.346           1530        1509  \n",
              "21609 -122.362           1830        7200  \n",
              "21610 -122.299           1020        2007  \n",
              "21611 -122.069           1410        1287  \n",
              "21612 -122.299           1020        1357  \n",
              "\n",
              "[21613 rows x 9 columns]"
            ],
            "text/html": [
              "\n",
              "  <div id=\"df-fe5ae847-309b-4de5-ae25-a23ba408664a\">\n",
              "    <div class=\"colab-df-container\">\n",
              "      <div>\n",
              "<style scoped>\n",
              "    .dataframe tbody tr th:only-of-type {\n",
              "        vertical-align: middle;\n",
              "    }\n",
              "\n",
              "    .dataframe tbody tr th {\n",
              "        vertical-align: top;\n",
              "    }\n",
              "\n",
              "    .dataframe thead th {\n",
              "        text-align: right;\n",
              "    }\n",
              "</style>\n",
              "<table border=\"1\" class=\"dataframe\">\n",
              "  <thead>\n",
              "    <tr style=\"text-align: right;\">\n",
              "      <th></th>\n",
              "      <th>id</th>\n",
              "      <th>sqft_basement</th>\n",
              "      <th>yr_built</th>\n",
              "      <th>yr_renovated</th>\n",
              "      <th>zipcode</th>\n",
              "      <th>lat</th>\n",
              "      <th>long</th>\n",
              "      <th>sqft_living15</th>\n",
              "      <th>sqft_lot15</th>\n",
              "    </tr>\n",
              "  </thead>\n",
              "  <tbody>\n",
              "    <tr>\n",
              "      <th>0</th>\n",
              "      <td>7129300520</td>\n",
              "      <td>0</td>\n",
              "      <td>1955</td>\n",
              "      <td>0</td>\n",
              "      <td>98178</td>\n",
              "      <td>47.5112</td>\n",
              "      <td>-122.257</td>\n",
              "      <td>1340</td>\n",
              "      <td>5650</td>\n",
              "    </tr>\n",
              "    <tr>\n",
              "      <th>1</th>\n",
              "      <td>6414100192</td>\n",
              "      <td>400</td>\n",
              "      <td>1951</td>\n",
              "      <td>1991</td>\n",
              "      <td>98125</td>\n",
              "      <td>47.7210</td>\n",
              "      <td>-122.319</td>\n",
              "      <td>1690</td>\n",
              "      <td>7639</td>\n",
              "    </tr>\n",
              "    <tr>\n",
              "      <th>2</th>\n",
              "      <td>5631500400</td>\n",
              "      <td>0</td>\n",
              "      <td>1933</td>\n",
              "      <td>0</td>\n",
              "      <td>98028</td>\n",
              "      <td>47.7379</td>\n",
              "      <td>-122.233</td>\n",
              "      <td>2720</td>\n",
              "      <td>8062</td>\n",
              "    </tr>\n",
              "    <tr>\n",
              "      <th>3</th>\n",
              "      <td>2487200875</td>\n",
              "      <td>910</td>\n",
              "      <td>1965</td>\n",
              "      <td>0</td>\n",
              "      <td>98136</td>\n",
              "      <td>47.5208</td>\n",
              "      <td>-122.393</td>\n",
              "      <td>1360</td>\n",
              "      <td>5000</td>\n",
              "    </tr>\n",
              "    <tr>\n",
              "      <th>4</th>\n",
              "      <td>1954400510</td>\n",
              "      <td>0</td>\n",
              "      <td>1987</td>\n",
              "      <td>0</td>\n",
              "      <td>98074</td>\n",
              "      <td>47.6168</td>\n",
              "      <td>-122.045</td>\n",
              "      <td>1800</td>\n",
              "      <td>7503</td>\n",
              "    </tr>\n",
              "    <tr>\n",
              "      <th>...</th>\n",
              "      <td>...</td>\n",
              "      <td>...</td>\n",
              "      <td>...</td>\n",
              "      <td>...</td>\n",
              "      <td>...</td>\n",
              "      <td>...</td>\n",
              "      <td>...</td>\n",
              "      <td>...</td>\n",
              "      <td>...</td>\n",
              "    </tr>\n",
              "    <tr>\n",
              "      <th>21608</th>\n",
              "      <td>263000018</td>\n",
              "      <td>0</td>\n",
              "      <td>2009</td>\n",
              "      <td>0</td>\n",
              "      <td>98103</td>\n",
              "      <td>47.6993</td>\n",
              "      <td>-122.346</td>\n",
              "      <td>1530</td>\n",
              "      <td>1509</td>\n",
              "    </tr>\n",
              "    <tr>\n",
              "      <th>21609</th>\n",
              "      <td>6600060120</td>\n",
              "      <td>0</td>\n",
              "      <td>2014</td>\n",
              "      <td>0</td>\n",
              "      <td>98146</td>\n",
              "      <td>47.5107</td>\n",
              "      <td>-122.362</td>\n",
              "      <td>1830</td>\n",
              "      <td>7200</td>\n",
              "    </tr>\n",
              "    <tr>\n",
              "      <th>21610</th>\n",
              "      <td>1523300141</td>\n",
              "      <td>0</td>\n",
              "      <td>2009</td>\n",
              "      <td>0</td>\n",
              "      <td>98144</td>\n",
              "      <td>47.5944</td>\n",
              "      <td>-122.299</td>\n",
              "      <td>1020</td>\n",
              "      <td>2007</td>\n",
              "    </tr>\n",
              "    <tr>\n",
              "      <th>21611</th>\n",
              "      <td>291310100</td>\n",
              "      <td>0</td>\n",
              "      <td>2004</td>\n",
              "      <td>0</td>\n",
              "      <td>98027</td>\n",
              "      <td>47.5345</td>\n",
              "      <td>-122.069</td>\n",
              "      <td>1410</td>\n",
              "      <td>1287</td>\n",
              "    </tr>\n",
              "    <tr>\n",
              "      <th>21612</th>\n",
              "      <td>1523300157</td>\n",
              "      <td>0</td>\n",
              "      <td>2008</td>\n",
              "      <td>0</td>\n",
              "      <td>98144</td>\n",
              "      <td>47.5941</td>\n",
              "      <td>-122.299</td>\n",
              "      <td>1020</td>\n",
              "      <td>1357</td>\n",
              "    </tr>\n",
              "  </tbody>\n",
              "</table>\n",
              "<p>21613 rows × 9 columns</p>\n",
              "</div>\n",
              "      <button class=\"colab-df-convert\" onclick=\"convertToInteractive('df-fe5ae847-309b-4de5-ae25-a23ba408664a')\"\n",
              "              title=\"Convert this dataframe to an interactive table.\"\n",
              "              style=\"display:none;\">\n",
              "        \n",
              "  <svg xmlns=\"http://www.w3.org/2000/svg\" height=\"24px\"viewBox=\"0 0 24 24\"\n",
              "       width=\"24px\">\n",
              "    <path d=\"M0 0h24v24H0V0z\" fill=\"none\"/>\n",
              "    <path d=\"M18.56 5.44l.94 2.06.94-2.06 2.06-.94-2.06-.94-.94-2.06-.94 2.06-2.06.94zm-11 1L8.5 8.5l.94-2.06 2.06-.94-2.06-.94L8.5 2.5l-.94 2.06-2.06.94zm10 10l.94 2.06.94-2.06 2.06-.94-2.06-.94-.94-2.06-.94 2.06-2.06.94z\"/><path d=\"M17.41 7.96l-1.37-1.37c-.4-.4-.92-.59-1.43-.59-.52 0-1.04.2-1.43.59L10.3 9.45l-7.72 7.72c-.78.78-.78 2.05 0 2.83L4 21.41c.39.39.9.59 1.41.59.51 0 1.02-.2 1.41-.59l7.78-7.78 2.81-2.81c.8-.78.8-2.07 0-2.86zM5.41 20L4 18.59l7.72-7.72 1.47 1.35L5.41 20z\"/>\n",
              "  </svg>\n",
              "      </button>\n",
              "      \n",
              "  <style>\n",
              "    .colab-df-container {\n",
              "      display:flex;\n",
              "      flex-wrap:wrap;\n",
              "      gap: 12px;\n",
              "    }\n",
              "\n",
              "    .colab-df-convert {\n",
              "      background-color: #E8F0FE;\n",
              "      border: none;\n",
              "      border-radius: 50%;\n",
              "      cursor: pointer;\n",
              "      display: none;\n",
              "      fill: #1967D2;\n",
              "      height: 32px;\n",
              "      padding: 0 0 0 0;\n",
              "      width: 32px;\n",
              "    }\n",
              "\n",
              "    .colab-df-convert:hover {\n",
              "      background-color: #E2EBFA;\n",
              "      box-shadow: 0px 1px 2px rgba(60, 64, 67, 0.3), 0px 1px 3px 1px rgba(60, 64, 67, 0.15);\n",
              "      fill: #174EA6;\n",
              "    }\n",
              "\n",
              "    [theme=dark] .colab-df-convert {\n",
              "      background-color: #3B4455;\n",
              "      fill: #D2E3FC;\n",
              "    }\n",
              "\n",
              "    [theme=dark] .colab-df-convert:hover {\n",
              "      background-color: #434B5C;\n",
              "      box-shadow: 0px 1px 3px 1px rgba(0, 0, 0, 0.15);\n",
              "      filter: drop-shadow(0px 1px 2px rgba(0, 0, 0, 0.3));\n",
              "      fill: #FFFFFF;\n",
              "    }\n",
              "  </style>\n",
              "\n",
              "      <script>\n",
              "        const buttonEl =\n",
              "          document.querySelector('#df-fe5ae847-309b-4de5-ae25-a23ba408664a button.colab-df-convert');\n",
              "        buttonEl.style.display =\n",
              "          google.colab.kernel.accessAllowed ? 'block' : 'none';\n",
              "\n",
              "        async function convertToInteractive(key) {\n",
              "          const element = document.querySelector('#df-fe5ae847-309b-4de5-ae25-a23ba408664a');\n",
              "          const dataTable =\n",
              "            await google.colab.kernel.invokeFunction('convertToInteractive',\n",
              "                                                     [key], {});\n",
              "          if (!dataTable) return;\n",
              "\n",
              "          const docLinkHtml = 'Like what you see? Visit the ' +\n",
              "            '<a target=\"_blank\" href=https://colab.research.google.com/notebooks/data_table.ipynb>data table notebook</a>'\n",
              "            + ' to learn more about interactive tables.';\n",
              "          element.innerHTML = '';\n",
              "          dataTable['output_type'] = 'display_data';\n",
              "          await google.colab.output.renderOutput(dataTable, element);\n",
              "          const docLink = document.createElement('div');\n",
              "          docLink.innerHTML = docLinkHtml;\n",
              "          element.appendChild(docLink);\n",
              "        }\n",
              "      </script>\n",
              "    </div>\n",
              "  </div>\n",
              "  "
            ]
          },
          "metadata": {},
          "execution_count": 18
        }
      ]
    },
    {
      "cell_type": "code",
      "source": [
        "df2"
      ],
      "metadata": {
        "colab": {
          "base_uri": "https://localhost:8080/",
          "height": 487
        },
        "id": "Wb9CoI3_YfVF",
        "outputId": "db5e0cf7-c7ef-4781-c251-ca60227ff0e5"
      },
      "execution_count": 19,
      "outputs": [
        {
          "output_type": "execute_result",
          "data": {
            "text/plain": [
              "               id             date     price  bedrooms  bathrooms  \\\n",
              "0      7129300520  20141013T000000  221900.0       3.0        NaN   \n",
              "1      6414100192  20141209T000000  538000.0       3.0       2.25   \n",
              "2      5631500400  20150225T000000  180000.0       2.0        NaN   \n",
              "3      2487200875  20141209T000000  604000.0       4.0        NaN   \n",
              "4      1954400510  20150218T000000  510000.0       3.0       2.00   \n",
              "...           ...              ...       ...       ...        ...   \n",
              "21608   263000018  20140521T000000  360000.0       3.0        NaN   \n",
              "21609  6600060120  20150223T000000  400000.0       4.0       2.50   \n",
              "21610  1523300141  20140623T000000  402101.0       NaN        NaN   \n",
              "21611   291310100  20150116T000000  400000.0       3.0       2.50   \n",
              "21612  1523300157  20141015T000000  325000.0       2.0       0.75   \n",
              "\n",
              "       sqft_living  sqft_lot  floors waterfront  view  condition  grade  \\\n",
              "0             1180      5650     NaN          0     0          3      7   \n",
              "1             2570      7242     2.0          0     0          3      7   \n",
              "2              770     10000     NaN          0     0          3      6   \n",
              "3             1960      5000     NaN          0     0          5      7   \n",
              "4             1680      8080     1.0          0     0          3      8   \n",
              "...            ...       ...     ...        ...   ...        ...    ...   \n",
              "21608         1530      1131     3.0          0     0          3      8   \n",
              "21609         2310      5813     2.0          0     0          3      8   \n",
              "21610         1020      1350     2.0          0     0          3      7   \n",
              "21611         1600      2388     2.0          0     0          3      8   \n",
              "21612         1020      1076     2.0          0     0          3      7   \n",
              "\n",
              "       sqft_above  \n",
              "0            1180  \n",
              "1            2170  \n",
              "2             770  \n",
              "3            1050  \n",
              "4            1680  \n",
              "...           ...  \n",
              "21608        1530  \n",
              "21609        2310  \n",
              "21610        1020  \n",
              "21611        1600  \n",
              "21612        1020  \n",
              "\n",
              "[21613 rows x 13 columns]"
            ],
            "text/html": [
              "\n",
              "  <div id=\"df-43e7d602-e2e6-4f89-b2c4-a5933e004f3f\">\n",
              "    <div class=\"colab-df-container\">\n",
              "      <div>\n",
              "<style scoped>\n",
              "    .dataframe tbody tr th:only-of-type {\n",
              "        vertical-align: middle;\n",
              "    }\n",
              "\n",
              "    .dataframe tbody tr th {\n",
              "        vertical-align: top;\n",
              "    }\n",
              "\n",
              "    .dataframe thead th {\n",
              "        text-align: right;\n",
              "    }\n",
              "</style>\n",
              "<table border=\"1\" class=\"dataframe\">\n",
              "  <thead>\n",
              "    <tr style=\"text-align: right;\">\n",
              "      <th></th>\n",
              "      <th>id</th>\n",
              "      <th>date</th>\n",
              "      <th>price</th>\n",
              "      <th>bedrooms</th>\n",
              "      <th>bathrooms</th>\n",
              "      <th>sqft_living</th>\n",
              "      <th>sqft_lot</th>\n",
              "      <th>floors</th>\n",
              "      <th>waterfront</th>\n",
              "      <th>view</th>\n",
              "      <th>condition</th>\n",
              "      <th>grade</th>\n",
              "      <th>sqft_above</th>\n",
              "    </tr>\n",
              "  </thead>\n",
              "  <tbody>\n",
              "    <tr>\n",
              "      <th>0</th>\n",
              "      <td>7129300520</td>\n",
              "      <td>20141013T000000</td>\n",
              "      <td>221900.0</td>\n",
              "      <td>3.0</td>\n",
              "      <td>NaN</td>\n",
              "      <td>1180</td>\n",
              "      <td>5650</td>\n",
              "      <td>NaN</td>\n",
              "      <td>0</td>\n",
              "      <td>0</td>\n",
              "      <td>3</td>\n",
              "      <td>7</td>\n",
              "      <td>1180</td>\n",
              "    </tr>\n",
              "    <tr>\n",
              "      <th>1</th>\n",
              "      <td>6414100192</td>\n",
              "      <td>20141209T000000</td>\n",
              "      <td>538000.0</td>\n",
              "      <td>3.0</td>\n",
              "      <td>2.25</td>\n",
              "      <td>2570</td>\n",
              "      <td>7242</td>\n",
              "      <td>2.0</td>\n",
              "      <td>0</td>\n",
              "      <td>0</td>\n",
              "      <td>3</td>\n",
              "      <td>7</td>\n",
              "      <td>2170</td>\n",
              "    </tr>\n",
              "    <tr>\n",
              "      <th>2</th>\n",
              "      <td>5631500400</td>\n",
              "      <td>20150225T000000</td>\n",
              "      <td>180000.0</td>\n",
              "      <td>2.0</td>\n",
              "      <td>NaN</td>\n",
              "      <td>770</td>\n",
              "      <td>10000</td>\n",
              "      <td>NaN</td>\n",
              "      <td>0</td>\n",
              "      <td>0</td>\n",
              "      <td>3</td>\n",
              "      <td>6</td>\n",
              "      <td>770</td>\n",
              "    </tr>\n",
              "    <tr>\n",
              "      <th>3</th>\n",
              "      <td>2487200875</td>\n",
              "      <td>20141209T000000</td>\n",
              "      <td>604000.0</td>\n",
              "      <td>4.0</td>\n",
              "      <td>NaN</td>\n",
              "      <td>1960</td>\n",
              "      <td>5000</td>\n",
              "      <td>NaN</td>\n",
              "      <td>0</td>\n",
              "      <td>0</td>\n",
              "      <td>5</td>\n",
              "      <td>7</td>\n",
              "      <td>1050</td>\n",
              "    </tr>\n",
              "    <tr>\n",
              "      <th>4</th>\n",
              "      <td>1954400510</td>\n",
              "      <td>20150218T000000</td>\n",
              "      <td>510000.0</td>\n",
              "      <td>3.0</td>\n",
              "      <td>2.00</td>\n",
              "      <td>1680</td>\n",
              "      <td>8080</td>\n",
              "      <td>1.0</td>\n",
              "      <td>0</td>\n",
              "      <td>0</td>\n",
              "      <td>3</td>\n",
              "      <td>8</td>\n",
              "      <td>1680</td>\n",
              "    </tr>\n",
              "    <tr>\n",
              "      <th>...</th>\n",
              "      <td>...</td>\n",
              "      <td>...</td>\n",
              "      <td>...</td>\n",
              "      <td>...</td>\n",
              "      <td>...</td>\n",
              "      <td>...</td>\n",
              "      <td>...</td>\n",
              "      <td>...</td>\n",
              "      <td>...</td>\n",
              "      <td>...</td>\n",
              "      <td>...</td>\n",
              "      <td>...</td>\n",
              "      <td>...</td>\n",
              "    </tr>\n",
              "    <tr>\n",
              "      <th>21608</th>\n",
              "      <td>263000018</td>\n",
              "      <td>20140521T000000</td>\n",
              "      <td>360000.0</td>\n",
              "      <td>3.0</td>\n",
              "      <td>NaN</td>\n",
              "      <td>1530</td>\n",
              "      <td>1131</td>\n",
              "      <td>3.0</td>\n",
              "      <td>0</td>\n",
              "      <td>0</td>\n",
              "      <td>3</td>\n",
              "      <td>8</td>\n",
              "      <td>1530</td>\n",
              "    </tr>\n",
              "    <tr>\n",
              "      <th>21609</th>\n",
              "      <td>6600060120</td>\n",
              "      <td>20150223T000000</td>\n",
              "      <td>400000.0</td>\n",
              "      <td>4.0</td>\n",
              "      <td>2.50</td>\n",
              "      <td>2310</td>\n",
              "      <td>5813</td>\n",
              "      <td>2.0</td>\n",
              "      <td>0</td>\n",
              "      <td>0</td>\n",
              "      <td>3</td>\n",
              "      <td>8</td>\n",
              "      <td>2310</td>\n",
              "    </tr>\n",
              "    <tr>\n",
              "      <th>21610</th>\n",
              "      <td>1523300141</td>\n",
              "      <td>20140623T000000</td>\n",
              "      <td>402101.0</td>\n",
              "      <td>NaN</td>\n",
              "      <td>NaN</td>\n",
              "      <td>1020</td>\n",
              "      <td>1350</td>\n",
              "      <td>2.0</td>\n",
              "      <td>0</td>\n",
              "      <td>0</td>\n",
              "      <td>3</td>\n",
              "      <td>7</td>\n",
              "      <td>1020</td>\n",
              "    </tr>\n",
              "    <tr>\n",
              "      <th>21611</th>\n",
              "      <td>291310100</td>\n",
              "      <td>20150116T000000</td>\n",
              "      <td>400000.0</td>\n",
              "      <td>3.0</td>\n",
              "      <td>2.50</td>\n",
              "      <td>1600</td>\n",
              "      <td>2388</td>\n",
              "      <td>2.0</td>\n",
              "      <td>0</td>\n",
              "      <td>0</td>\n",
              "      <td>3</td>\n",
              "      <td>8</td>\n",
              "      <td>1600</td>\n",
              "    </tr>\n",
              "    <tr>\n",
              "      <th>21612</th>\n",
              "      <td>1523300157</td>\n",
              "      <td>20141015T000000</td>\n",
              "      <td>325000.0</td>\n",
              "      <td>2.0</td>\n",
              "      <td>0.75</td>\n",
              "      <td>1020</td>\n",
              "      <td>1076</td>\n",
              "      <td>2.0</td>\n",
              "      <td>0</td>\n",
              "      <td>0</td>\n",
              "      <td>3</td>\n",
              "      <td>7</td>\n",
              "      <td>1020</td>\n",
              "    </tr>\n",
              "  </tbody>\n",
              "</table>\n",
              "<p>21613 rows × 13 columns</p>\n",
              "</div>\n",
              "      <button class=\"colab-df-convert\" onclick=\"convertToInteractive('df-43e7d602-e2e6-4f89-b2c4-a5933e004f3f')\"\n",
              "              title=\"Convert this dataframe to an interactive table.\"\n",
              "              style=\"display:none;\">\n",
              "        \n",
              "  <svg xmlns=\"http://www.w3.org/2000/svg\" height=\"24px\"viewBox=\"0 0 24 24\"\n",
              "       width=\"24px\">\n",
              "    <path d=\"M0 0h24v24H0V0z\" fill=\"none\"/>\n",
              "    <path d=\"M18.56 5.44l.94 2.06.94-2.06 2.06-.94-2.06-.94-.94-2.06-.94 2.06-2.06.94zm-11 1L8.5 8.5l.94-2.06 2.06-.94-2.06-.94L8.5 2.5l-.94 2.06-2.06.94zm10 10l.94 2.06.94-2.06 2.06-.94-2.06-.94-.94-2.06-.94 2.06-2.06.94z\"/><path d=\"M17.41 7.96l-1.37-1.37c-.4-.4-.92-.59-1.43-.59-.52 0-1.04.2-1.43.59L10.3 9.45l-7.72 7.72c-.78.78-.78 2.05 0 2.83L4 21.41c.39.39.9.59 1.41.59.51 0 1.02-.2 1.41-.59l7.78-7.78 2.81-2.81c.8-.78.8-2.07 0-2.86zM5.41 20L4 18.59l7.72-7.72 1.47 1.35L5.41 20z\"/>\n",
              "  </svg>\n",
              "      </button>\n",
              "      \n",
              "  <style>\n",
              "    .colab-df-container {\n",
              "      display:flex;\n",
              "      flex-wrap:wrap;\n",
              "      gap: 12px;\n",
              "    }\n",
              "\n",
              "    .colab-df-convert {\n",
              "      background-color: #E8F0FE;\n",
              "      border: none;\n",
              "      border-radius: 50%;\n",
              "      cursor: pointer;\n",
              "      display: none;\n",
              "      fill: #1967D2;\n",
              "      height: 32px;\n",
              "      padding: 0 0 0 0;\n",
              "      width: 32px;\n",
              "    }\n",
              "\n",
              "    .colab-df-convert:hover {\n",
              "      background-color: #E2EBFA;\n",
              "      box-shadow: 0px 1px 2px rgba(60, 64, 67, 0.3), 0px 1px 3px 1px rgba(60, 64, 67, 0.15);\n",
              "      fill: #174EA6;\n",
              "    }\n",
              "\n",
              "    [theme=dark] .colab-df-convert {\n",
              "      background-color: #3B4455;\n",
              "      fill: #D2E3FC;\n",
              "    }\n",
              "\n",
              "    [theme=dark] .colab-df-convert:hover {\n",
              "      background-color: #434B5C;\n",
              "      box-shadow: 0px 1px 3px 1px rgba(0, 0, 0, 0.15);\n",
              "      filter: drop-shadow(0px 1px 2px rgba(0, 0, 0, 0.3));\n",
              "      fill: #FFFFFF;\n",
              "    }\n",
              "  </style>\n",
              "\n",
              "      <script>\n",
              "        const buttonEl =\n",
              "          document.querySelector('#df-43e7d602-e2e6-4f89-b2c4-a5933e004f3f button.colab-df-convert');\n",
              "        buttonEl.style.display =\n",
              "          google.colab.kernel.accessAllowed ? 'block' : 'none';\n",
              "\n",
              "        async function convertToInteractive(key) {\n",
              "          const element = document.querySelector('#df-43e7d602-e2e6-4f89-b2c4-a5933e004f3f');\n",
              "          const dataTable =\n",
              "            await google.colab.kernel.invokeFunction('convertToInteractive',\n",
              "                                                     [key], {});\n",
              "          if (!dataTable) return;\n",
              "\n",
              "          const docLinkHtml = 'Like what you see? Visit the ' +\n",
              "            '<a target=\"_blank\" href=https://colab.research.google.com/notebooks/data_table.ipynb>data table notebook</a>'\n",
              "            + ' to learn more about interactive tables.';\n",
              "          element.innerHTML = '';\n",
              "          dataTable['output_type'] = 'display_data';\n",
              "          await google.colab.output.renderOutput(dataTable, element);\n",
              "          const docLink = document.createElement('div');\n",
              "          docLink.innerHTML = docLinkHtml;\n",
              "          element.appendChild(docLink);\n",
              "        }\n",
              "      </script>\n",
              "    </div>\n",
              "  </div>\n",
              "  "
            ]
          },
          "metadata": {},
          "execution_count": 19
        }
      ]
    },
    {
      "cell_type": "code",
      "source": [
        "df = pd.merge(df1, df2, on=['id'])"
      ],
      "metadata": {
        "id": "f3sI0CNsYiAt"
      },
      "execution_count": 20,
      "outputs": []
    },
    {
      "cell_type": "code",
      "source": [
        "df.info()"
      ],
      "metadata": {
        "colab": {
          "base_uri": "https://localhost:8080/"
        },
        "id": "K1nqC0DyYkTM",
        "outputId": "94f6ac66-2656-40b8-f066-e41982f53c9f"
      },
      "execution_count": 21,
      "outputs": [
        {
          "output_type": "stream",
          "name": "stdout",
          "text": [
            "<class 'pandas.core.frame.DataFrame'>\n",
            "Int64Index: 21969 entries, 0 to 21968\n",
            "Data columns (total 21 columns):\n",
            " #   Column         Non-Null Count  Dtype  \n",
            "---  ------         --------------  -----  \n",
            " 0   id             21969 non-null  int64  \n",
            " 1   sqft_basement  21969 non-null  int64  \n",
            " 2   yr_built       21969 non-null  int64  \n",
            " 3   yr_renovated   21969 non-null  int64  \n",
            " 4   zipcode        21969 non-null  int64  \n",
            " 5   lat            21969 non-null  float64\n",
            " 6   long           21969 non-null  float64\n",
            " 7   sqft_living15  21969 non-null  int64  \n",
            " 8   sqft_lot15     21969 non-null  int64  \n",
            " 9   date           21969 non-null  object \n",
            " 10  price          21969 non-null  float64\n",
            " 11  bedrooms       15273 non-null  float64\n",
            " 12  bathrooms      14353 non-null  float64\n",
            " 13  sqft_living    21969 non-null  int64  \n",
            " 14  sqft_lot       21969 non-null  int64  \n",
            " 15  floors         17107 non-null  float64\n",
            " 16  waterfront     21969 non-null  object \n",
            " 17  view           21969 non-null  int64  \n",
            " 18  condition      21969 non-null  int64  \n",
            " 19  grade          21969 non-null  int64  \n",
            " 20  sqft_above     21969 non-null  int64  \n",
            "dtypes: float64(6), int64(13), object(2)\n",
            "memory usage: 3.7+ MB\n"
          ]
        }
      ]
    },
    {
      "cell_type": "code",
      "source": [
        "df.isnull().sum()"
      ],
      "metadata": {
        "colab": {
          "base_uri": "https://localhost:8080/"
        },
        "id": "YwdMRc83YnBL",
        "outputId": "17c77472-272f-4ed9-f2b2-3b430a2a5d54"
      },
      "execution_count": 22,
      "outputs": [
        {
          "output_type": "execute_result",
          "data": {
            "text/plain": [
              "id                  0\n",
              "sqft_basement       0\n",
              "yr_built            0\n",
              "yr_renovated        0\n",
              "zipcode             0\n",
              "lat                 0\n",
              "long                0\n",
              "sqft_living15       0\n",
              "sqft_lot15          0\n",
              "date                0\n",
              "price               0\n",
              "bedrooms         6696\n",
              "bathrooms        7616\n",
              "sqft_living         0\n",
              "sqft_lot            0\n",
              "floors           4862\n",
              "waterfront          0\n",
              "view                0\n",
              "condition           0\n",
              "grade               0\n",
              "sqft_above          0\n",
              "dtype: int64"
            ]
          },
          "metadata": {},
          "execution_count": 22
        }
      ]
    },
    {
      "cell_type": "code",
      "source": [
        "df['floors'].value_counts()"
      ],
      "metadata": {
        "colab": {
          "base_uri": "https://localhost:8080/"
        },
        "id": "xbS5IBc2Yroc",
        "outputId": "83c78b78-7aa6-44e4-8cbd-321e24d6de38"
      },
      "execution_count": 23,
      "outputs": [
        {
          "output_type": "execute_result",
          "data": {
            "text/plain": [
              "1.0    8485\n",
              "2.0    6513\n",
              "1.5    1498\n",
              "3.0     476\n",
              "2.5     128\n",
              "3.5       7\n",
              "Name: floors, dtype: int64"
            ]
          },
          "metadata": {},
          "execution_count": 23
        }
      ]
    },
    {
      "cell_type": "code",
      "source": [
        "df['floors'] = df['floors'].replace(2.5, 3)\n",
        "df['floors'] = df['floors'].replace(1.5, 2)\n",
        "df['floors'] = df['floors'].replace(3.5, 4)\n"
      ],
      "metadata": {
        "id": "v0sjxyo6Yv3J"
      },
      "execution_count": 24,
      "outputs": []
    },
    {
      "cell_type": "code",
      "source": [
        "df['bedrooms'].value_counts()"
      ],
      "metadata": {
        "colab": {
          "base_uri": "https://localhost:8080/"
        },
        "id": "GBHrSWPQYyBw",
        "outputId": "6e2cfdaf-8133-41ae-a612-381adc462172"
      },
      "execution_count": 25,
      "outputs": [
        {
          "output_type": "execute_result",
          "data": {
            "text/plain": [
              "3.0     6933\n",
              "4.0     4816\n",
              "2.0     1955\n",
              "5.0     1154\n",
              "6.0      212\n",
              "1.0      153\n",
              "7.0       26\n",
              "8.0        9\n",
              "0.0        9\n",
              "9.0        4\n",
              "11.0       1\n",
              "10.0       1\n",
              "Name: bedrooms, dtype: int64"
            ]
          },
          "metadata": {},
          "execution_count": 25
        }
      ]
    },
    {
      "cell_type": "code",
      "source": [
        "df['bathrooms'].value_counts()"
      ],
      "metadata": {
        "colab": {
          "base_uri": "https://localhost:8080/"
        },
        "id": "0sUq4KZhY9LS",
        "outputId": "bab6b2e4-8998-40ea-9b33-0133b615f921"
      },
      "execution_count": 26,
      "outputs": [
        {
          "output_type": "execute_result",
          "data": {
            "text/plain": [
              "2.50    3553\n",
              "1.00    2614\n",
              "1.75    2037\n",
              "2.25    1340\n",
              "2.00    1272\n",
              "1.50     968\n",
              "2.75     770\n",
              "3.00     506\n",
              "3.50     467\n",
              "3.25     395\n",
              "3.75      96\n",
              "4.00      88\n",
              "4.50      68\n",
              "4.25      61\n",
              "0.75      45\n",
              "4.75      14\n",
              "5.00      11\n",
              "5.50       9\n",
              "5.25       9\n",
              "6.00       6\n",
              "0.00       6\n",
              "1.25       6\n",
              "5.75       3\n",
              "8.00       2\n",
              "0.50       2\n",
              "6.75       1\n",
              "7.50       1\n",
              "7.75       1\n",
              "6.25       1\n",
              "6.50       1\n",
              "Name: bathrooms, dtype: int64"
            ]
          },
          "metadata": {},
          "execution_count": 26
        }
      ]
    },
    {
      "cell_type": "code",
      "source": [
        "df['bathrooms'] = round(df['bathrooms'])"
      ],
      "metadata": {
        "id": "q0gZs1XWY_wd"
      },
      "execution_count": 27,
      "outputs": []
    },
    {
      "cell_type": "code",
      "source": [
        "df['bathrooms'].value_counts()"
      ],
      "metadata": {
        "colab": {
          "base_uri": "https://localhost:8080/"
        },
        "id": "w9MFQw3LZCjs",
        "outputId": "8a44f1a3-0dc3-4217-e1c2-2e2ce7b3c7f1"
      },
      "execution_count": 28,
      "outputs": [
        {
          "output_type": "execute_result",
          "data": {
            "text/plain": [
              "2.0    9170\n",
              "1.0    2665\n",
              "3.0    1671\n",
              "4.0     780\n",
              "5.0      34\n",
              "6.0      20\n",
              "0.0       8\n",
              "8.0       4\n",
              "7.0       1\n",
              "Name: bathrooms, dtype: int64"
            ]
          },
          "metadata": {},
          "execution_count": 28
        }
      ]
    },
    {
      "cell_type": "code",
      "source": [
        "df['view'].value_counts()"
      ],
      "metadata": {
        "colab": {
          "base_uri": "https://localhost:8080/"
        },
        "id": "dqm-0hkAZEnb",
        "outputId": "8cae6113-a855-4285-ed98-765f28b9db85"
      },
      "execution_count": 29,
      "outputs": [
        {
          "output_type": "execute_result",
          "data": {
            "text/plain": [
              "0    19829\n",
              "2      965\n",
              "3      516\n",
              "1      334\n",
              "4      325\n",
              "Name: view, dtype: int64"
            ]
          },
          "metadata": {},
          "execution_count": 29
        }
      ]
    },
    {
      "cell_type": "code",
      "source": [
        "df['view'] = df['view'].replace(2, 1)\n",
        "df['view'] = df['view'].replace(3, 1)\n",
        "df['view'] = df['view'].replace(4, 1)\n"
      ],
      "metadata": {
        "id": "yaNq2d4wZM45"
      },
      "execution_count": 30,
      "outputs": []
    },
    {
      "cell_type": "code",
      "source": [
        "df['view'].value_counts()"
      ],
      "metadata": {
        "colab": {
          "base_uri": "https://localhost:8080/"
        },
        "id": "3kMLd50iZPbF",
        "outputId": "077a8ac4-8432-4610-c78a-c6afbf9044df"
      },
      "execution_count": 31,
      "outputs": [
        {
          "output_type": "execute_result",
          "data": {
            "text/plain": [
              "0    19829\n",
              "1     2140\n",
              "Name: view, dtype: int64"
            ]
          },
          "metadata": {},
          "execution_count": 31
        }
      ]
    },
    {
      "cell_type": "code",
      "source": [
        "df['waterfront'].value_counts()"
      ],
      "metadata": {
        "colab": {
          "base_uri": "https://localhost:8080/"
        },
        "id": "TY5tig9uZVS5",
        "outputId": "916739e4-2a44-4fab-f4ac-9616e2413461"
      },
      "execution_count": 32,
      "outputs": [
        {
          "output_type": "execute_result",
          "data": {
            "text/plain": [
              "0    21403\n",
              "?      407\n",
              "1      159\n",
              "Name: waterfront, dtype: int64"
            ]
          },
          "metadata": {},
          "execution_count": 32
        }
      ]
    },
    {
      "cell_type": "code",
      "source": [
        "df = df.drop(columns=['waterfront'])"
      ],
      "metadata": {
        "id": "3NBoUA5OZXWW"
      },
      "execution_count": 33,
      "outputs": []
    },
    {
      "cell_type": "code",
      "source": [
        "df['condition'].value_counts()"
      ],
      "metadata": {
        "colab": {
          "base_uri": "https://localhost:8080/"
        },
        "id": "93WFoo9TZzoP",
        "outputId": "908ac80a-d9e9-4c0c-ad7a-c987585cd684"
      },
      "execution_count": 34,
      "outputs": [
        {
          "output_type": "execute_result",
          "data": {
            "text/plain": [
              "3    14271\n",
              "4     5747\n",
              "5     1729\n",
              "2      190\n",
              "1       32\n",
              "Name: condition, dtype: int64"
            ]
          },
          "metadata": {},
          "execution_count": 34
        }
      ]
    },
    {
      "cell_type": "code",
      "source": [
        "df['grade'].value_counts()"
      ],
      "metadata": {
        "colab": {
          "base_uri": "https://localhost:8080/"
        },
        "id": "VBaAo4WAZ2eA",
        "outputId": "63e0434b-1d8a-4af9-9e9f-6ad7c1bd59fd"
      },
      "execution_count": 35,
      "outputs": [
        {
          "output_type": "execute_result",
          "data": {
            "text/plain": [
              "7     9151\n",
              "8     6116\n",
              "9     2633\n",
              "6     2124\n",
              "10    1142\n",
              "11     405\n",
              "5      260\n",
              "12      92\n",
              "4       29\n",
              "13      13\n",
              "3        3\n",
              "1        1\n",
              "Name: grade, dtype: int64"
            ]
          },
          "metadata": {},
          "execution_count": 35
        }
      ]
    },
    {
      "cell_type": "code",
      "source": [
        "df.info()"
      ],
      "metadata": {
        "colab": {
          "base_uri": "https://localhost:8080/"
        },
        "id": "wuEHxid8Z43B",
        "outputId": "7ebbdd22-9fc0-431c-f6fe-6e99a7b10065"
      },
      "execution_count": 36,
      "outputs": [
        {
          "output_type": "stream",
          "name": "stdout",
          "text": [
            "<class 'pandas.core.frame.DataFrame'>\n",
            "Int64Index: 21969 entries, 0 to 21968\n",
            "Data columns (total 20 columns):\n",
            " #   Column         Non-Null Count  Dtype  \n",
            "---  ------         --------------  -----  \n",
            " 0   id             21969 non-null  int64  \n",
            " 1   sqft_basement  21969 non-null  int64  \n",
            " 2   yr_built       21969 non-null  int64  \n",
            " 3   yr_renovated   21969 non-null  int64  \n",
            " 4   zipcode        21969 non-null  int64  \n",
            " 5   lat            21969 non-null  float64\n",
            " 6   long           21969 non-null  float64\n",
            " 7   sqft_living15  21969 non-null  int64  \n",
            " 8   sqft_lot15     21969 non-null  int64  \n",
            " 9   date           21969 non-null  object \n",
            " 10  price          21969 non-null  float64\n",
            " 11  bedrooms       15273 non-null  float64\n",
            " 12  bathrooms      14353 non-null  float64\n",
            " 13  sqft_living    21969 non-null  int64  \n",
            " 14  sqft_lot       21969 non-null  int64  \n",
            " 15  floors         17107 non-null  float64\n",
            " 16  view           21969 non-null  int64  \n",
            " 17  condition      21969 non-null  int64  \n",
            " 18  grade          21969 non-null  int64  \n",
            " 19  sqft_above     21969 non-null  int64  \n",
            "dtypes: float64(6), int64(13), object(1)\n",
            "memory usage: 3.5+ MB\n"
          ]
        }
      ]
    },
    {
      "cell_type": "code",
      "source": [
        "df['date'].value_counts()"
      ],
      "metadata": {
        "colab": {
          "base_uri": "https://localhost:8080/"
        },
        "id": "c3iWzul-Z7l0",
        "outputId": "663dc9d2-f4ee-4ed7-cd6b-b5a93e614e89"
      },
      "execution_count": 37,
      "outputs": [
        {
          "output_type": "execute_result",
          "data": {
            "text/plain": [
              "20140623T000000    142\n",
              "20140626T000000    135\n",
              "20140708T000000    132\n",
              "20140625T000000    132\n",
              "20150428T000000    127\n",
              "                  ... \n",
              "20150117T000000      1\n",
              "20150131T000000      1\n",
              "20150524T000000      1\n",
              "20140517T000000      1\n",
              "20140727T000000      1\n",
              "Name: date, Length: 372, dtype: int64"
            ]
          },
          "metadata": {},
          "execution_count": 37
        }
      ]
    },
    {
      "cell_type": "code",
      "source": [
        "df['date']=df['date'].map(lambda x: str(x).strip().split(\"T\")[0])\n",
        "rearrange_chars = lambda s: s[6:] + '/' +  s[4:6] + '/' + s[:4]\n",
        "df['date'] = df['date'].apply(rearrange_chars)"
      ],
      "metadata": {
        "id": "AoTpZIv5Z-Eg"
      },
      "execution_count": 38,
      "outputs": []
    },
    {
      "cell_type": "code",
      "source": [
        "df['date'].value_counts()"
      ],
      "metadata": {
        "colab": {
          "base_uri": "https://localhost:8080/"
        },
        "id": "J-G5Fy_aaDKB",
        "outputId": "dce4a366-eecf-45bc-b8b0-e8bbf81bfcc1"
      },
      "execution_count": 39,
      "outputs": [
        {
          "output_type": "execute_result",
          "data": {
            "text/plain": [
              "23/06/2014    142\n",
              "26/06/2014    135\n",
              "08/07/2014    132\n",
              "25/06/2014    132\n",
              "28/04/2015    127\n",
              "             ... \n",
              "17/01/2015      1\n",
              "31/01/2015      1\n",
              "24/05/2015      1\n",
              "17/05/2014      1\n",
              "27/07/2014      1\n",
              "Name: date, Length: 372, dtype: int64"
            ]
          },
          "metadata": {},
          "execution_count": 39
        }
      ]
    },
    {
      "cell_type": "code",
      "source": [
        "df3 = pd.DataFrame(df, columns = ['sqft_living15','sqft_lot15','sqft_living','sqft_lot'])  \n",
        "plt.figure(figsize = (10, 20)) \n",
        "  \n",
        "df3.boxplot()"
      ],
      "metadata": {
        "colab": {
          "base_uri": "https://localhost:8080/",
          "height": 1000
        },
        "id": "QSXdXueTaFIu",
        "outputId": "269fd12c-babd-44ae-dfb3-5fbec36ccfb9"
      },
      "execution_count": 40,
      "outputs": [
        {
          "output_type": "execute_result",
          "data": {
            "text/plain": [
              "<AxesSubplot:>"
            ]
          },
          "metadata": {},
          "execution_count": 40
        },
        {
          "output_type": "display_data",
          "data": {
            "text/plain": [
              "<Figure size 720x1440 with 1 Axes>"
            ],
            "image/png": "[encoded data removed]"
          },
          "metadata": {
            "needs_background": "light"
          }
        }
      ]
    },
    {
      "cell_type": "code",
      "source": [
        "df['floors'] = df['floors'].astype('category')\n",
        "df['condition'] = df['condition'].astype('category')\n",
        "df['grade'] = df['grade'].astype('category')\n",
        "df['bedrooms'] = df['bedrooms'].astype('category')\n",
        "df['bathrooms'] = df['bathrooms'].astype('category')"
      ],
      "metadata": {
        "id": "22YmHUyEaKtT"
      },
      "execution_count": 41,
      "outputs": []
    },
    {
      "cell_type": "code",
      "source": [
        "from sklearn.preprocessing import LabelEncoder\n",
        "#from sklearn.preprocessing import StandardScaler, OneHotEncoder\n",
        "# create a label encoder object\n",
        "le = LabelEncoder()\n",
        "\n",
        "# apply label encoding to each categorical variable\n",
        "df['date'] = le.fit_transform(df['date'])\n",
        "df['zipcode'] = le.fit_transform(df['zipcode'])"
      ],
      "metadata": {
        "id": "guDYfqigaUja"
      },
      "execution_count": 42,
      "outputs": []
    },
    {
      "cell_type": "code",
      "source": [
        "df['date'] = df['date'].astype('category')\n",
        "df['zipcode'] = df['zipcode'].astype('category')\n",
        "df['view'] = df['view'].astype('category')"
      ],
      "metadata": {
        "id": "gN5kRMK3afkt"
      },
      "execution_count": 43,
      "outputs": []
    },
    {
      "cell_type": "code",
      "source": [
        "# Identify numerical columns with outliers\n",
        "num_cols = ['sqft_living15','sqft_lot15','sqft_living','sqft_lot'] # Replace with your numerical columns\n",
        "\n",
        "# Replace outliers with NaN\n",
        "for col in num_cols:\n",
        "    Q1 = df[col].quantile(0.25)\n",
        "    Q3 = df[col].quantile(0.75)\n",
        "    IQR = Q3 - Q1\n",
        "    outlier_mask = (df[col] < Q1 - 1.5*IQR) | (df[col] > Q3 + 1.5*IQR)\n",
        "    df.loc[outlier_mask, col] = float('nan')"
      ],
      "metadata": {
        "id": "UFHTJKAFannc"
      },
      "execution_count": 45,
      "outputs": []
    },
    {
      "cell_type": "code",
      "source": [
        "from sklearn.impute import KNNImputer"
      ],
      "metadata": {
        "id": "k7k7KR2qby9b"
      },
      "execution_count": 46,
      "outputs": []
    },
    {
      "cell_type": "code",
      "source": [
        "# Impute missing values using KNN\n",
        "imputer = KNNImputer(n_neighbors=5)\n",
        "df[num_cols] = imputer.fit_transform(df[num_cols])"
      ],
      "metadata": {
        "id": "kKV3DKTbb8p8"
      },
      "execution_count": 47,
      "outputs": []
    },
    {
      "cell_type": "code",
      "source": [
        "df"
      ],
      "metadata": {
        "colab": {
          "base_uri": "https://localhost:8080/",
          "height": 487
        },
        "id": "X5u9nQNQcPxT",
        "outputId": "35c9eb36-7af4-4fdf-f4ce-75199dc5f9a4"
      },
      "execution_count": 48,
      "outputs": [
        {
          "output_type": "execute_result",
          "data": {
            "text/plain": [
              "               id  sqft_basement  yr_built  yr_renovated zipcode      lat  \\\n",
              "0      7129300520              0      1955             0      66  47.5112   \n",
              "1      6414100192            400      1951          1991      55  47.7210   \n",
              "2      5631500400              0      1933             0      16  47.7379   \n",
              "3      2487200875            910      1965             0      58  47.5208   \n",
              "4      1954400510              0      1987             0      37  47.6168   \n",
              "...           ...            ...       ...           ...     ...      ...   \n",
              "21964   263000018              0      2009             0      42  47.6993   \n",
              "21965  6600060120              0      2014             0      60  47.5107   \n",
              "21966  1523300141              0      2009             0      59  47.5944   \n",
              "21967   291310100              0      2004             0      15  47.5345   \n",
              "21968  1523300157              0      2008             0      59  47.5941   \n",
              "\n",
              "          long  sqft_living15  sqft_lot15 date     price bedrooms bathrooms  \\\n",
              "0     -122.257         1340.0      5650.0  160  221900.0      3.0       NaN   \n",
              "1     -122.319         1690.0      7639.0  111  538000.0      3.0       2.0   \n",
              "2     -122.233         2720.0      8062.0  298  180000.0      2.0       NaN   \n",
              "3     -122.393         1360.0      5000.0  111  604000.0      4.0       NaN   \n",
              "4     -122.045         1800.0      7503.0  213  510000.0      3.0       2.0   \n",
              "...        ...            ...         ...  ...       ...      ...       ...   \n",
              "21964 -122.346         1530.0      1509.0  252  360000.0      3.0       NaN   \n",
              "21965 -122.362         1830.0      7200.0  273  400000.0      4.0       2.0   \n",
              "21966 -122.299         1020.0      2007.0  277  402101.0      NaN       NaN   \n",
              "21967 -122.069         1410.0      1287.0  189  400000.0      3.0       2.0   \n",
              "21968 -122.299         1020.0      1357.0  186  325000.0      2.0       1.0   \n",
              "\n",
              "       sqft_living  sqft_lot floors view condition grade  sqft_above  \n",
              "0           1180.0    5650.0    NaN    0         3     7        1180  \n",
              "1           2570.0    7242.0    2.0    0         3     7        2170  \n",
              "2            770.0   10000.0    NaN    0         3     6         770  \n",
              "3           1960.0    5000.0    NaN    0         5     7        1050  \n",
              "4           1680.0    8080.0    1.0    0         3     8        1680  \n",
              "...            ...       ...    ...  ...       ...   ...         ...  \n",
              "21964       1530.0    1131.0    3.0    0         3     8        1530  \n",
              "21965       2310.0    5813.0    2.0    0         3     8        2310  \n",
              "21966       1020.0    1350.0    2.0    0         3     7        1020  \n",
              "21967       1600.0    2388.0    2.0    0         3     8        1600  \n",
              "21968       1020.0    1076.0    2.0    0         3     7        1020  \n",
              "\n",
              "[21969 rows x 20 columns]"
            ],
            "text/html": [
              "\n",
              "  <div id=\"df-45814625-d720-4e7b-9653-942388f9b429\">\n",
              "    <div class=\"colab-df-container\">\n",
              "      <div>\n",
              "<style scoped>\n",
              "    .dataframe tbody tr th:only-of-type {\n",
              "        vertical-align: middle;\n",
              "    }\n",
              "\n",
              "    .dataframe tbody tr th {\n",
              "        vertical-align: top;\n",
              "    }\n",
              "\n",
              "    .dataframe thead th {\n",
              "        text-align: right;\n",
              "    }\n",
              "</style>\n",
              "<table border=\"1\" class=\"dataframe\">\n",
              "  <thead>\n",
              "    <tr style=\"text-align: right;\">\n",
              "      <th></th>\n",
              "      <th>id</th>\n",
              "      <th>sqft_basement</th>\n",
              "      <th>yr_built</th>\n",
              "      <th>yr_renovated</th>\n",
              "      <th>zipcode</th>\n",
              "      <th>lat</th>\n",
              "      <th>long</th>\n",
              "      <th>sqft_living15</th>\n",
              "      <th>sqft_lot15</th>\n",
              "      <th>date</th>\n",
              "      <th>price</th>\n",
              "      <th>bedrooms</th>\n",
              "      <th>bathrooms</th>\n",
              "      <th>sqft_living</th>\n",
              "      <th>sqft_lot</th>\n",
              "      <th>floors</th>\n",
              "      <th>view</th>\n",
              "      <th>condition</th>\n",
              "      <th>grade</th>\n",
              "      <th>sqft_above</th>\n",
              "    </tr>\n",
              "  </thead>\n",
              "  <tbody>\n",
              "    <tr>\n",
              "      <th>0</th>\n",
              "      <td>7129300520</td>\n",
              "      <td>0</td>\n",
              "      <td>1955</td>\n",
              "      <td>0</td>\n",
              "      <td>66</td>\n",
              "      <td>47.5112</td>\n",
              "      <td>-122.257</td>\n",
              "      <td>1340.0</td>\n",
              "      <td>5650.0</td>\n",
              "      <td>160</td>\n",
              "      <td>221900.0</td>\n",
              "      <td>3.0</td>\n",
              "      <td>NaN</td>\n",
              "      <td>1180.0</td>\n",
              "      <td>5650.0</td>\n",
              "      <td>NaN</td>\n",
              "      <td>0</td>\n",
              "      <td>3</td>\n",
              "      <td>7</td>\n",
              "      <td>1180</td>\n",
              "    </tr>\n",
              "    <tr>\n",
              "      <th>1</th>\n",
              "      <td>6414100192</td>\n",
              "      <td>400</td>\n",
              "      <td>1951</td>\n",
              "      <td>1991</td>\n",
              "      <td>55</td>\n",
              "      <td>47.7210</td>\n",
              "      <td>-122.319</td>\n",
              "      <td>1690.0</td>\n",
              "      <td>7639.0</td>\n",
              "      <td>111</td>\n",
              "      <td>538000.0</td>\n",
              "      <td>3.0</td>\n",
              "      <td>2.0</td>\n",
              "      <td>2570.0</td>\n",
              "      <td>7242.0</td>\n",
              "      <td>2.0</td>\n",
              "      <td>0</td>\n",
              "      <td>3</td>\n",
              "      <td>7</td>\n",
              "      <td>2170</td>\n",
              "    </tr>\n",
              "    <tr>\n",
              "      <th>2</th>\n",
              "      <td>5631500400</td>\n",
              "      <td>0</td>\n",
              "      <td>1933</td>\n",
              "      <td>0</td>\n",
              "      <td>16</td>\n",
              "      <td>47.7379</td>\n",
              "      <td>-122.233</td>\n",
              "      <td>2720.0</td>\n",
              "      <td>8062.0</td>\n",
              "      <td>298</td>\n",
              "      <td>180000.0</td>\n",
              "      <td>2.0</td>\n",
              "      <td>NaN</td>\n",
              "      <td>770.0</td>\n",
              "      <td>10000.0</td>\n",
              "      <td>NaN</td>\n",
              "      <td>0</td>\n",
              "      <td>3</td>\n",
              "      <td>6</td>\n",
              "      <td>770</td>\n",
              "    </tr>\n",
              "    <tr>\n",
              "      <th>3</th>\n",
              "      <td>2487200875</td>\n",
              "      <td>910</td>\n",
              "      <td>1965</td>\n",
              "      <td>0</td>\n",
              "      <td>58</td>\n",
              "      <td>47.5208</td>\n",
              "      <td>-122.393</td>\n",
              "      <td>1360.0</td>\n",
              "      <td>5000.0</td>\n",
              "      <td>111</td>\n",
              "      <td>604000.0</td>\n",
              "      <td>4.0</td>\n",
              "      <td>NaN</td>\n",
              "      <td>1960.0</td>\n",
              "      <td>5000.0</td>\n",
              "      <td>NaN</td>\n",
              "      <td>0</td>\n",
              "      <td>5</td>\n",
              "      <td>7</td>\n",
              "      <td>1050</td>\n",
              "    </tr>\n",
              "    <tr>\n",
              "      <th>4</th>\n",
              "      <td>1954400510</td>\n",
              "      <td>0</td>\n",
              "      <td>1987</td>\n",
              "      <td>0</td>\n",
              "      <td>37</td>\n",
              "      <td>47.6168</td>\n",
              "      <td>-122.045</td>\n",
              "      <td>1800.0</td>\n",
              "      <td>7503.0</td>\n",
              "      <td>213</td>\n",
              "      <td>510000.0</td>\n",
              "      <td>3.0</td>\n",
              "      <td>2.0</td>\n",
              "      <td>1680.0</td>\n",
              "      <td>8080.0</td>\n",
              "      <td>1.0</td>\n",
              "      <td>0</td>\n",
              "      <td>3</td>\n",
              "      <td>8</td>\n",
              "      <td>1680</td>\n",
              "    </tr>\n",
              "    <tr>\n",
              "      <th>...</th>\n",
              "      <td>...</td>\n",
              "      <td>...</td>\n",
              "      <td>...</td>\n",
              "      <td>...</td>\n",
              "      <td>...</td>\n",
              "      <td>...</td>\n",
              "      <td>...</td>\n",
              "      <td>...</td>\n",
              "      <td>...</td>\n",
              "      <td>...</td>\n",
              "      <td>...</td>\n",
              "      <td>...</td>\n",
              "      <td>...</td>\n",
              "      <td>...</td>\n",
              "      <td>...</td>\n",
              "      <td>...</td>\n",
              "      <td>...</td>\n",
              "      <td>...</td>\n",
              "      <td>...</td>\n",
              "      <td>...</td>\n",
              "    </tr>\n",
              "    <tr>\n",
              "      <th>21964</th>\n",
              "      <td>263000018</td>\n",
              "      <td>0</td>\n",
              "      <td>2009</td>\n",
              "      <td>0</td>\n",
              "      <td>42</td>\n",
              "      <td>47.6993</td>\n",
              "      <td>-122.346</td>\n",
              "      <td>1530.0</td>\n",
              "      <td>1509.0</td>\n",
              "      <td>252</td>\n",
              "      <td>360000.0</td>\n",
              "      <td>3.0</td>\n",
              "      <td>NaN</td>\n",
              "      <td>1530.0</td>\n",
              "      <td>1131.0</td>\n",
              "      <td>3.0</td>\n",
              "      <td>0</td>\n",
              "      <td>3</td>\n",
              "      <td>8</td>\n",
              "      <td>1530</td>\n",
              "    </tr>\n",
              "    <tr>\n",
              "      <th>21965</th>\n",
              "      <td>6600060120</td>\n",
              "      <td>0</td>\n",
              "      <td>2014</td>\n",
              "      <td>0</td>\n",
              "      <td>60</td>\n",
              "      <td>47.5107</td>\n",
              "      <td>-122.362</td>\n",
              "      <td>1830.0</td>\n",
              "      <td>7200.0</td>\n",
              "      <td>273</td>\n",
              "      <td>400000.0</td>\n",
              "      <td>4.0</td>\n",
              "      <td>2.0</td>\n",
              "      <td>2310.0</td>\n",
              "      <td>5813.0</td>\n",
              "      <td>2.0</td>\n",
              "      <td>0</td>\n",
              "      <td>3</td>\n",
              "      <td>8</td>\n",
              "      <td>2310</td>\n",
              "    </tr>\n",
              "    <tr>\n",
              "      <th>21966</th>\n",
              "      <td>1523300141</td>\n",
              "      <td>0</td>\n",
              "      <td>2009</td>\n",
              "      <td>0</td>\n",
              "      <td>59</td>\n",
              "      <td>47.5944</td>\n",
              "      <td>-122.299</td>\n",
              "      <td>1020.0</td>\n",
              "      <td>2007.0</td>\n",
              "      <td>277</td>\n",
              "      <td>402101.0</td>\n",
              "      <td>NaN</td>\n",
              "      <td>NaN</td>\n",
              "      <td>1020.0</td>\n",
              "      <td>1350.0</td>\n",
              "      <td>2.0</td>\n",
              "      <td>0</td>\n",
              "      <td>3</td>\n",
              "      <td>7</td>\n",
              "      <td>1020</td>\n",
              "    </tr>\n",
              "    <tr>\n",
              "      <th>21967</th>\n",
              "      <td>291310100</td>\n",
              "      <td>0</td>\n",
              "      <td>2004</td>\n",
              "      <td>0</td>\n",
              "      <td>15</td>\n",
              "      <td>47.5345</td>\n",
              "      <td>-122.069</td>\n",
              "      <td>1410.0</td>\n",
              "      <td>1287.0</td>\n",
              "      <td>189</td>\n",
              "      <td>400000.0</td>\n",
              "      <td>3.0</td>\n",
              "      <td>2.0</td>\n",
              "      <td>1600.0</td>\n",
              "      <td>2388.0</td>\n",
              "      <td>2.0</td>\n",
              "      <td>0</td>\n",
              "      <td>3</td>\n",
              "      <td>8</td>\n",
              "      <td>1600</td>\n",
              "    </tr>\n",
              "    <tr>\n",
              "      <th>21968</th>\n",
              "      <td>1523300157</td>\n",
              "      <td>0</td>\n",
              "      <td>2008</td>\n",
              "      <td>0</td>\n",
              "      <td>59</td>\n",
              "      <td>47.5941</td>\n",
              "      <td>-122.299</td>\n",
              "      <td>1020.0</td>\n",
              "      <td>1357.0</td>\n",
              "      <td>186</td>\n",
              "      <td>325000.0</td>\n",
              "      <td>2.0</td>\n",
              "      <td>1.0</td>\n",
              "      <td>1020.0</td>\n",
              "      <td>1076.0</td>\n",
              "      <td>2.0</td>\n",
              "      <td>0</td>\n",
              "      <td>3</td>\n",
              "      <td>7</td>\n",
              "      <td>1020</td>\n",
              "    </tr>\n",
              "  </tbody>\n",
              "</table>\n",
              "<p>21969 rows × 20 columns</p>\n",
              "</div>\n",
              "      <button class=\"colab-df-convert\" onclick=\"convertToInteractive('df-45814625-d720-4e7b-9653-942388f9b429')\"\n",
              "              title=\"Convert this dataframe to an interactive table.\"\n",
              "              style=\"display:none;\">\n",
              "        \n",
              "  <svg xmlns=\"http://www.w3.org/2000/svg\" height=\"24px\"viewBox=\"0 0 24 24\"\n",
              "       width=\"24px\">\n",
              "    <path d=\"M0 0h24v24H0V0z\" fill=\"none\"/>\n",
              "    <path d=\"M18.56 5.44l.94 2.06.94-2.06 2.06-.94-2.06-.94-.94-2.06-.94 2.06-2.06.94zm-11 1L8.5 8.5l.94-2.06 2.06-.94-2.06-.94L8.5 2.5l-.94 2.06-2.06.94zm10 10l.94 2.06.94-2.06 2.06-.94-2.06-.94-.94-2.06-.94 2.06-2.06.94z\"/><path d=\"M17.41 7.96l-1.37-1.37c-.4-.4-.92-.59-1.43-.59-.52 0-1.04.2-1.43.59L10.3 9.45l-7.72 7.72c-.78.78-.78 2.05 0 2.83L4 21.41c.39.39.9.59 1.41.59.51 0 1.02-.2 1.41-.59l7.78-7.78 2.81-2.81c.8-.78.8-2.07 0-2.86zM5.41 20L4 18.59l7.72-7.72 1.47 1.35L5.41 20z\"/>\n",
              "  </svg>\n",
              "      </button>\n",
              "      \n",
              "  <style>\n",
              "    .colab-df-container {\n",
              "      display:flex;\n",
              "      flex-wrap:wrap;\n",
              "      gap: 12px;\n",
              "    }\n",
              "\n",
              "    .colab-df-convert {\n",
              "      background-color: #E8F0FE;\n",
              "      border: none;\n",
              "      border-radius: 50%;\n",
              "      cursor: pointer;\n",
              "      display: none;\n",
              "      fill: #1967D2;\n",
              "      height: 32px;\n",
              "      padding: 0 0 0 0;\n",
              "      width: 32px;\n",
              "    }\n",
              "\n",
              "    .colab-df-convert:hover {\n",
              "      background-color: #E2EBFA;\n",
              "      box-shadow: 0px 1px 2px rgba(60, 64, 67, 0.3), 0px 1px 3px 1px rgba(60, 64, 67, 0.15);\n",
              "      fill: #174EA6;\n",
              "    }\n",
              "\n",
              "    [theme=dark] .colab-df-convert {\n",
              "      background-color: #3B4455;\n",
              "      fill: #D2E3FC;\n",
              "    }\n",
              "\n",
              "    [theme=dark] .colab-df-convert:hover {\n",
              "      background-color: #434B5C;\n",
              "      box-shadow: 0px 1px 3px 1px rgba(0, 0, 0, 0.15);\n",
              "      filter: drop-shadow(0px 1px 2px rgba(0, 0, 0, 0.3));\n",
              "      fill: #FFFFFF;\n",
              "    }\n",
              "  </style>\n",
              "\n",
              "      <script>\n",
              "        const buttonEl =\n",
              "          document.querySelector('#df-45814625-d720-4e7b-9653-942388f9b429 button.colab-df-convert');\n",
              "        buttonEl.style.display =\n",
              "          google.colab.kernel.accessAllowed ? 'block' : 'none';\n",
              "\n",
              "        async function convertToInteractive(key) {\n",
              "          const element = document.querySelector('#df-45814625-d720-4e7b-9653-942388f9b429');\n",
              "          const dataTable =\n",
              "            await google.colab.kernel.invokeFunction('convertToInteractive',\n",
              "                                                     [key], {});\n",
              "          if (!dataTable) return;\n",
              "\n",
              "          const docLinkHtml = 'Like what you see? Visit the ' +\n",
              "            '<a target=\"_blank\" href=https://colab.research.google.com/notebooks/data_table.ipynb>data table notebook</a>'\n",
              "            + ' to learn more about interactive tables.';\n",
              "          element.innerHTML = '';\n",
              "          dataTable['output_type'] = 'display_data';\n",
              "          await google.colab.output.renderOutput(dataTable, element);\n",
              "          const docLink = document.createElement('div');\n",
              "          docLink.innerHTML = docLinkHtml;\n",
              "          element.appendChild(docLink);\n",
              "        }\n",
              "      </script>\n",
              "    </div>\n",
              "  </div>\n",
              "  "
            ]
          },
          "metadata": {},
          "execution_count": 48
        }
      ]
    },
    {
      "cell_type": "code",
      "source": [
        "df3 = pd.DataFrame(df, columns = ['sqft_living15','sqft_lot15','sqft_living','sqft_lot'])  \n",
        "plt.figure(figsize = (10, 20)) \n",
        "  \n",
        "df3.boxplot()"
      ],
      "metadata": {
        "colab": {
          "base_uri": "https://localhost:8080/",
          "height": 1000
        },
        "id": "0SOtLcLPcSvq",
        "outputId": "02cc795d-a197-47e8-f050-dc874e6774a2"
      },
      "execution_count": 49,
      "outputs": [
        {
          "output_type": "execute_result",
          "data": {
            "text/plain": [
              "<AxesSubplot:>"
            ]
          },
          "metadata": {},
          "execution_count": 49
        },
        {
          "output_type": "display_data",
          "data": {
            "text/plain": [
              "<Figure size 720x1440 with 1 Axes>"
            ],
            "image/png": "[encoded data removed]"
          },
          "metadata": {
            "needs_background": "light"
          }
        }
      ]
    },
    {
      "cell_type": "code",
      "source": [
        "# Impute missing values using KNN\n",
        "imputer = KNNImputer(n_neighbors=5)\n",
        "df[num_cols] = imputer.fit_transform(df[num_cols])"
      ],
      "metadata": {
        "id": "ZYspAlEEcZjo"
      },
      "execution_count": 50,
      "outputs": []
    },
    {
      "cell_type": "code",
      "source": [
        "df3 = pd.DataFrame(df, columns = ['sqft_living15','sqft_lot15','sqft_living','sqft_lot'])  \n",
        "plt.figure(figsize = (10, 20)) \n",
        "  \n",
        "df3.boxplot()"
      ],
      "metadata": {
        "colab": {
          "base_uri": "https://localhost:8080/",
          "height": 1000
        },
        "id": "8YA-5YNAckMn",
        "outputId": "989fabcc-0db2-45d2-bf1c-f0995208f3bd"
      },
      "execution_count": 51,
      "outputs": [
        {
          "output_type": "execute_result",
          "data": {
            "text/plain": [
              "<AxesSubplot:>"
            ]
          },
          "metadata": {},
          "execution_count": 51
        },
        {
          "output_type": "display_data",
          "data": {
            "text/plain": [
              "<Figure size 720x1440 with 1 Axes>"
            ],
            "image/png": "[encoded data removed]"
          },
          "metadata": {
            "needs_background": "light"
          }
        }
      ]
    },
    {
      "cell_type": "code",
      "source": [
        "def replace_outliers_median(x):\n",
        "    q1 = np.percentile(x, 25)\n",
        "    q3 = np.percentile(x, 75)\n",
        "    iqr = q3 - q1\n",
        "    lower_bound = q1 - 1.5 * iqr\n",
        "    upper_bound = q3 + 1.5 * iqr\n",
        "    x[x < lower_bound] = np.median(x)\n",
        "    x[x > upper_bound] = np.median(x)\n",
        "    return x\n",
        "\n",
        "# Define a function to replace outliers with the mode for categorical variables\n",
        "def replace_outliers_mode(x):\n",
        "    mode = x.mode()[0]\n",
        "    x[x != mode] = mode\n",
        "    return x\n"
      ],
      "metadata": {
        "id": "3IPAMmuCcnVA"
      },
      "execution_count": 52,
      "outputs": []
    },
    {
      "cell_type": "code",
      "source": [
        "# Apply the functions to the data\n",
        "df[['sqft_living15','sqft_lot15','sqft_living','sqft_lot']] = df[['sqft_living15','sqft_lot15','sqft_living','sqft_lot']].apply(replace_outliers_median)"
      ],
      "metadata": {
        "id": "LmG68bewc6ve"
      },
      "execution_count": 53,
      "outputs": []
    },
    {
      "cell_type": "code",
      "source": [
        "df3 = pd.DataFrame(df, columns = ['sqft_living15','sqft_lot15','sqft_living','sqft_lot'])  \n",
        "plt.figure(figsize = (10, 20)) \n",
        "  \n",
        "df3.boxplot()"
      ],
      "metadata": {
        "colab": {
          "base_uri": "https://localhost:8080/",
          "height": 1000
        },
        "id": "hPVHZSsIc86K",
        "outputId": "5996d43f-b055-4200-f318-5d2b398f0a83"
      },
      "execution_count": 54,
      "outputs": [
        {
          "output_type": "execute_result",
          "data": {
            "text/plain": [
              "<AxesSubplot:>"
            ]
          },
          "metadata": {},
          "execution_count": 54
        },
        {
          "output_type": "display_data",
          "data": {
            "text/plain": [
              "<Figure size 720x1440 with 1 Axes>"
            ],
            "image/png": "[encoded data removed]"
          },
          "metadata": {
            "needs_background": "light"
          }
        }
      ]
    },
    {
      "cell_type": "code",
      "source": [
        "# Apply the functions to the data\n",
        "df[['sqft_living15','sqft_lot15','sqft_living','sqft_lot']] = df[['sqft_living15','sqft_lot15','sqft_living','sqft_lot']].apply(replace_outliers_median)"
      ],
      "metadata": {
        "id": "HEbcqjCnc_OW"
      },
      "execution_count": 55,
      "outputs": []
    },
    {
      "cell_type": "code",
      "source": [
        "df3 = pd.DataFrame(df, columns = ['sqft_living15','sqft_lot15','sqft_living','sqft_lot'])  \n",
        "plt.figure(figsize = (10, 20)) \n",
        "  \n",
        "df3.boxplot()"
      ],
      "metadata": {
        "colab": {
          "base_uri": "https://localhost:8080/",
          "height": 1000
        },
        "id": "HLsA4613dCAU",
        "outputId": "d79bb507-9306-4401-b027-54c1998e0245"
      },
      "execution_count": 56,
      "outputs": [
        {
          "output_type": "execute_result",
          "data": {
            "text/plain": [
              "<AxesSubplot:>"
            ]
          },
          "metadata": {},
          "execution_count": 56
        },
        {
          "output_type": "display_data",
          "data": {
            "text/plain": [
              "<Figure size 720x1440 with 1 Axes>"
            ],
            "image/png": "[encoded data removed]"
          },
          "metadata": {
            "needs_background": "light"
          }
        }
      ]
    },
    {
      "cell_type": "code",
      "source": [
        "# Apply the functions to the data\n",
        "df[['sqft_living15','sqft_lot15','sqft_living','sqft_lot']] = df[['sqft_living15','sqft_lot15','sqft_living','sqft_lot']].apply(replace_outliers_median)"
      ],
      "metadata": {
        "id": "x6Dm1jaZdE3Y"
      },
      "execution_count": 57,
      "outputs": []
    },
    {
      "cell_type": "code",
      "source": [
        "df3 = pd.DataFrame(df, columns = ['sqft_living15','sqft_lot15','sqft_living','sqft_lot'])  \n",
        "plt.figure(figsize = (10, 20)) \n",
        "  \n",
        "df3.boxplot()"
      ],
      "metadata": {
        "colab": {
          "base_uri": "https://localhost:8080/",
          "height": 1000
        },
        "id": "LRsqtIkldIWV",
        "outputId": "f7d85810-5c41-4396-ade3-e18fbf3a4322"
      },
      "execution_count": 58,
      "outputs": [
        {
          "output_type": "execute_result",
          "data": {
            "text/plain": [
              "<AxesSubplot:>"
            ]
          },
          "metadata": {},
          "execution_count": 58
        },
        {
          "output_type": "display_data",
          "data": {
            "text/plain": [
              "<Figure size 720x1440 with 1 Axes>"
            ],
            "image/png": "[encoded data removed]"
          },
          "metadata": {
            "needs_background": "light"
          }
        }
      ]
    },
    {
      "cell_type": "code",
      "source": [
        "df.isnull().sum()"
      ],
      "metadata": {
        "colab": {
          "base_uri": "https://localhost:8080/"
        },
        "id": "flToLf2RdKmK",
        "outputId": "2ee51ce4-d6ce-4567-c4a1-e07a74de8764"
      },
      "execution_count": 59,
      "outputs": [
        {
          "output_type": "execute_result",
          "data": {
            "text/plain": [
              "id                  0\n",
              "sqft_basement       0\n",
              "yr_built            0\n",
              "yr_renovated        0\n",
              "zipcode             0\n",
              "lat                 0\n",
              "long                0\n",
              "sqft_living15       0\n",
              "sqft_lot15          0\n",
              "date                0\n",
              "price               0\n",
              "bedrooms         6696\n",
              "bathrooms        7616\n",
              "sqft_living         0\n",
              "sqft_lot            0\n",
              "floors           4862\n",
              "view                0\n",
              "condition           0\n",
              "grade               0\n",
              "sqft_above          0\n",
              "dtype: int64"
            ]
          },
          "metadata": {},
          "execution_count": 59
        }
      ]
    },
    {
      "cell_type": "code",
      "source": [
        "from sklearn.impute import KNNImputer\n",
        "imputer = KNNImputer(n_neighbors=3)\n",
        "df = pd.DataFrame(imputer.fit_transform(df), columns=df.columns)"
      ],
      "metadata": {
        "id": "pRYjLAendTmP"
      },
      "execution_count": 60,
      "outputs": []
    },
    {
      "cell_type": "code",
      "source": [
        "df.isnull().sum()"
      ],
      "metadata": {
        "colab": {
          "base_uri": "https://localhost:8080/"
        },
        "id": "iWvuFtz5dWRS",
        "outputId": "ead22c26-c1bb-4570-8698-249ebea331b4"
      },
      "execution_count": 61,
      "outputs": [
        {
          "output_type": "execute_result",
          "data": {
            "text/plain": [
              "id               0\n",
              "sqft_basement    0\n",
              "yr_built         0\n",
              "yr_renovated     0\n",
              "zipcode          0\n",
              "lat              0\n",
              "long             0\n",
              "sqft_living15    0\n",
              "sqft_lot15       0\n",
              "date             0\n",
              "price            0\n",
              "bedrooms         0\n",
              "bathrooms        0\n",
              "sqft_living      0\n",
              "sqft_lot         0\n",
              "floors           0\n",
              "view             0\n",
              "condition        0\n",
              "grade            0\n",
              "sqft_above       0\n",
              "dtype: int64"
            ]
          },
          "metadata": {},
          "execution_count": 61
        }
      ]
    },
    {
      "cell_type": "code",
      "source": [
        "df[df['sqft_basement'] == 0]"
      ],
      "metadata": {
        "colab": {
          "base_uri": "https://localhost:8080/",
          "height": 487
        },
        "id": "LkKqcJnSde6H",
        "outputId": "4a23f472-1ef9-4af1-c0eb-b72b359ac07b"
      },
      "execution_count": 62,
      "outputs": [
        {
          "output_type": "execute_result",
          "data": {
            "text/plain": [
              "                 id  sqft_basement  yr_built  yr_renovated  zipcode      lat  \\\n",
              "0      7.129301e+09            0.0    1955.0           0.0     66.0  47.5112   \n",
              "2      5.631500e+09            0.0    1933.0           0.0     16.0  47.7379   \n",
              "4      1.954401e+09            0.0    1987.0           0.0     37.0  47.6168   \n",
              "6      1.321400e+09            0.0    1995.0           0.0      2.0  47.3097   \n",
              "7      2.008000e+09            0.0    1963.0           0.0     68.0  47.4095   \n",
              "...             ...            ...       ...           ...      ...      ...   \n",
              "21964  2.630000e+08            0.0    2009.0           0.0     42.0  47.6993   \n",
              "21965  6.600060e+09            0.0    2014.0           0.0     60.0  47.5107   \n",
              "21966  1.523300e+09            0.0    2009.0           0.0     59.0  47.5944   \n",
              "21967  2.913101e+08            0.0    2004.0           0.0     15.0  47.5345   \n",
              "21968  1.523300e+09            0.0    2008.0           0.0     59.0  47.5941   \n",
              "\n",
              "          long  sqft_living15  sqft_lot15   date     price  bedrooms  \\\n",
              "0     -122.257         1340.0      5650.0  160.0  221900.0  3.000000   \n",
              "2     -122.233         2720.0      8062.0  298.0  180000.0  2.000000   \n",
              "4     -122.045         1800.0      7503.0  213.0  510000.0  3.000000   \n",
              "6     -122.327         2238.0      6819.0  326.0  257500.0  3.000000   \n",
              "7     -122.315         1650.0      9711.0  176.0  291850.0  3.000000   \n",
              "...        ...            ...         ...    ...       ...       ...   \n",
              "21964 -122.346         1530.0      1509.0  252.0  360000.0  3.000000   \n",
              "21965 -122.362         1830.0      7200.0  273.0  400000.0  4.000000   \n",
              "21966 -122.299         1020.0      2007.0  277.0  402101.0  2.333333   \n",
              "21967 -122.069         1410.0      1287.0  189.0  400000.0  3.000000   \n",
              "21968 -122.299         1020.0      1357.0  186.0  325000.0  2.000000   \n",
              "\n",
              "       bathrooms  sqft_living  sqft_lot    floors  view  condition  grade  \\\n",
              "0       1.333333       1180.0    5650.0  1.000000   0.0        3.0    7.0   \n",
              "2       2.000000        770.0   10000.0  1.333333   0.0        3.0    6.0   \n",
              "4       2.000000       1680.0    8080.0  1.000000   0.0        3.0    8.0   \n",
              "6       2.000000       1715.0    6819.0  2.000000   0.0        3.0    7.0   \n",
              "7       2.000000       1060.0    9711.0  1.000000   0.0        3.0    7.0   \n",
              "...          ...          ...       ...       ...   ...        ...    ...   \n",
              "21964   2.000000       1530.0    1131.0  3.000000   0.0        3.0    8.0   \n",
              "21965   2.000000       2310.0    5813.0  2.000000   0.0        3.0    8.0   \n",
              "21966   1.000000       1020.0    1350.0  2.000000   0.0        3.0    7.0   \n",
              "21967   2.000000       1600.0    2388.0  2.000000   0.0        3.0    8.0   \n",
              "21968   1.000000       1020.0    1076.0  2.000000   0.0        3.0    7.0   \n",
              "\n",
              "       sqft_above  \n",
              "0          1180.0  \n",
              "2           770.0  \n",
              "4          1680.0  \n",
              "6          1715.0  \n",
              "7          1060.0  \n",
              "...           ...  \n",
              "21964      1530.0  \n",
              "21965      2310.0  \n",
              "21966      1020.0  \n",
              "21967      1600.0  \n",
              "21968      1020.0  \n",
              "\n",
              "[13350 rows x 20 columns]"
            ],
            "text/html": [
              "\n",
              "  <div id=\"df-09764908-43e7-4994-a6b3-56543d1c9e1a\">\n",
              "    <div class=\"colab-df-container\">\n",
              "      <div>\n",
              "<style scoped>\n",
              "    .dataframe tbody tr th:only-of-type {\n",
              "        vertical-align: middle;\n",
              "    }\n",
              "\n",
              "    .dataframe tbody tr th {\n",
              "        vertical-align: top;\n",
              "    }\n",
              "\n",
              "    .dataframe thead th {\n",
              "        text-align: right;\n",
              "    }\n",
              "</style>\n",
              "<table border=\"1\" class=\"dataframe\">\n",
              "  <thead>\n",
              "    <tr style=\"text-align: right;\">\n",
              "      <th></th>\n",
              "      <th>id</th>\n",
              "      <th>sqft_basement</th>\n",
              "      <th>yr_built</th>\n",
              "      <th>yr_renovated</th>\n",
              "      <th>zipcode</th>\n",
              "      <th>lat</th>\n",
              "      <th>long</th>\n",
              "      <th>sqft_living15</th>\n",
              "      <th>sqft_lot15</th>\n",
              "      <th>date</th>\n",
              "      <th>price</th>\n",
              "      <th>bedrooms</th>\n",
              "      <th>bathrooms</th>\n",
              "      <th>sqft_living</th>\n",
              "      <th>sqft_lot</th>\n",
              "      <th>floors</th>\n",
              "      <th>view</th>\n",
              "      <th>condition</th>\n",
              "      <th>grade</th>\n",
              "      <th>sqft_above</th>\n",
              "    </tr>\n",
              "  </thead>\n",
              "  <tbody>\n",
              "    <tr>\n",
              "      <th>0</th>\n",
              "      <td>7.129301e+09</td>\n",
              "      <td>0.0</td>\n",
              "      <td>1955.0</td>\n",
              "      <td>0.0</td>\n",
              "      <td>66.0</td>\n",
              "      <td>47.5112</td>\n",
              "      <td>-122.257</td>\n",
              "      <td>1340.0</td>\n",
              "      <td>5650.0</td>\n",
              "      <td>160.0</td>\n",
              "      <td>221900.0</td>\n",
              "      <td>3.000000</td>\n",
              "      <td>1.333333</td>\n",
              "      <td>1180.0</td>\n",
              "      <td>5650.0</td>\n",
              "      <td>1.000000</td>\n",
              "      <td>0.0</td>\n",
              "      <td>3.0</td>\n",
              "      <td>7.0</td>\n",
              "      <td>1180.0</td>\n",
              "    </tr>\n",
              "    <tr>\n",
              "      <th>2</th>\n",
              "      <td>5.631500e+09</td>\n",
              "      <td>0.0</td>\n",
              "      <td>1933.0</td>\n",
              "      <td>0.0</td>\n",
              "      <td>16.0</td>\n",
              "      <td>47.7379</td>\n",
              "      <td>-122.233</td>\n",
              "      <td>2720.0</td>\n",
              "      <td>8062.0</td>\n",
              "      <td>298.0</td>\n",
              "      <td>180000.0</td>\n",
              "      <td>2.000000</td>\n",
              "      <td>2.000000</td>\n",
              "      <td>770.0</td>\n",
              "      <td>10000.0</td>\n",
              "      <td>1.333333</td>\n",
              "      <td>0.0</td>\n",
              "      <td>3.0</td>\n",
              "      <td>6.0</td>\n",
              "      <td>770.0</td>\n",
              "    </tr>\n",
              "    <tr>\n",
              "      <th>4</th>\n",
              "      <td>1.954401e+09</td>\n",
              "      <td>0.0</td>\n",
              "      <td>1987.0</td>\n",
              "      <td>0.0</td>\n",
              "      <td>37.0</td>\n",
              "      <td>47.6168</td>\n",
              "      <td>-122.045</td>\n",
              "      <td>1800.0</td>\n",
              "      <td>7503.0</td>\n",
              "      <td>213.0</td>\n",
              "      <td>510000.0</td>\n",
              "      <td>3.000000</td>\n",
              "      <td>2.000000</td>\n",
              "      <td>1680.0</td>\n",
              "      <td>8080.0</td>\n",
              "      <td>1.000000</td>\n",
              "      <td>0.0</td>\n",
              "      <td>3.0</td>\n",
              "      <td>8.0</td>\n",
              "      <td>1680.0</td>\n",
              "    </tr>\n",
              "    <tr>\n",
              "      <th>6</th>\n",
              "      <td>1.321400e+09</td>\n",
              "      <td>0.0</td>\n",
              "      <td>1995.0</td>\n",
              "      <td>0.0</td>\n",
              "      <td>2.0</td>\n",
              "      <td>47.3097</td>\n",
              "      <td>-122.327</td>\n",
              "      <td>2238.0</td>\n",
              "      <td>6819.0</td>\n",
              "      <td>326.0</td>\n",
              "      <td>257500.0</td>\n",
              "      <td>3.000000</td>\n",
              "      <td>2.000000</td>\n",
              "      <td>1715.0</td>\n",
              "      <td>6819.0</td>\n",
              "      <td>2.000000</td>\n",
              "      <td>0.0</td>\n",
              "      <td>3.0</td>\n",
              "      <td>7.0</td>\n",
              "      <td>1715.0</td>\n",
              "    </tr>\n",
              "    <tr>\n",
              "      <th>7</th>\n",
              "      <td>2.008000e+09</td>\n",
              "      <td>0.0</td>\n",
              "      <td>1963.0</td>\n",
              "      <td>0.0</td>\n",
              "      <td>68.0</td>\n",
              "      <td>47.4095</td>\n",
              "      <td>-122.315</td>\n",
              "      <td>1650.0</td>\n",
              "      <td>9711.0</td>\n",
              "      <td>176.0</td>\n",
              "      <td>291850.0</td>\n",
              "      <td>3.000000</td>\n",
              "      <td>2.000000</td>\n",
              "      <td>1060.0</td>\n",
              "      <td>9711.0</td>\n",
              "      <td>1.000000</td>\n",
              "      <td>0.0</td>\n",
              "      <td>3.0</td>\n",
              "      <td>7.0</td>\n",
              "      <td>1060.0</td>\n",
              "    </tr>\n",
              "    <tr>\n",
              "      <th>...</th>\n",
              "      <td>...</td>\n",
              "      <td>...</td>\n",
              "      <td>...</td>\n",
              "      <td>...</td>\n",
              "      <td>...</td>\n",
              "      <td>...</td>\n",
              "      <td>...</td>\n",
              "      <td>...</td>\n",
              "      <td>...</td>\n",
              "      <td>...</td>\n",
              "      <td>...</td>\n",
              "      <td>...</td>\n",
              "      <td>...</td>\n",
              "      <td>...</td>\n",
              "      <td>...</td>\n",
              "      <td>...</td>\n",
              "      <td>...</td>\n",
              "      <td>...</td>\n",
              "      <td>...</td>\n",
              "      <td>...</td>\n",
              "    </tr>\n",
              "    <tr>\n",
              "      <th>21964</th>\n",
              "      <td>2.630000e+08</td>\n",
              "      <td>0.0</td>\n",
              "      <td>2009.0</td>\n",
              "      <td>0.0</td>\n",
              "      <td>42.0</td>\n",
              "      <td>47.6993</td>\n",
              "      <td>-122.346</td>\n",
              "      <td>1530.0</td>\n",
              "      <td>1509.0</td>\n",
              "      <td>252.0</td>\n",
              "      <td>360000.0</td>\n",
              "      <td>3.000000</td>\n",
              "      <td>2.000000</td>\n",
              "      <td>1530.0</td>\n",
              "      <td>1131.0</td>\n",
              "      <td>3.000000</td>\n",
              "      <td>0.0</td>\n",
              "      <td>3.0</td>\n",
              "      <td>8.0</td>\n",
              "      <td>1530.0</td>\n",
              "    </tr>\n",
              "    <tr>\n",
              "      <th>21965</th>\n",
              "      <td>6.600060e+09</td>\n",
              "      <td>0.0</td>\n",
              "      <td>2014.0</td>\n",
              "      <td>0.0</td>\n",
              "      <td>60.0</td>\n",
              "      <td>47.5107</td>\n",
              "      <td>-122.362</td>\n",
              "      <td>1830.0</td>\n",
              "      <td>7200.0</td>\n",
              "      <td>273.0</td>\n",
              "      <td>400000.0</td>\n",
              "      <td>4.000000</td>\n",
              "      <td>2.000000</td>\n",
              "      <td>2310.0</td>\n",
              "      <td>5813.0</td>\n",
              "      <td>2.000000</td>\n",
              "      <td>0.0</td>\n",
              "      <td>3.0</td>\n",
              "      <td>8.0</td>\n",
              "      <td>2310.0</td>\n",
              "    </tr>\n",
              "    <tr>\n",
              "      <th>21966</th>\n",
              "      <td>1.523300e+09</td>\n",
              "      <td>0.0</td>\n",
              "      <td>2009.0</td>\n",
              "      <td>0.0</td>\n",
              "      <td>59.0</td>\n",
              "      <td>47.5944</td>\n",
              "      <td>-122.299</td>\n",
              "      <td>1020.0</td>\n",
              "      <td>2007.0</td>\n",
              "      <td>277.0</td>\n",
              "      <td>402101.0</td>\n",
              "      <td>2.333333</td>\n",
              "      <td>1.000000</td>\n",
              "      <td>1020.0</td>\n",
              "      <td>1350.0</td>\n",
              "      <td>2.000000</td>\n",
              "      <td>0.0</td>\n",
              "      <td>3.0</td>\n",
              "      <td>7.0</td>\n",
              "      <td>1020.0</td>\n",
              "    </tr>\n",
              "    <tr>\n",
              "      <th>21967</th>\n",
              "      <td>2.913101e+08</td>\n",
              "      <td>0.0</td>\n",
              "      <td>2004.0</td>\n",
              "      <td>0.0</td>\n",
              "      <td>15.0</td>\n",
              "      <td>47.5345</td>\n",
              "      <td>-122.069</td>\n",
              "      <td>1410.0</td>\n",
              "      <td>1287.0</td>\n",
              "      <td>189.0</td>\n",
              "      <td>400000.0</td>\n",
              "      <td>3.000000</td>\n",
              "      <td>2.000000</td>\n",
              "      <td>1600.0</td>\n",
              "      <td>2388.0</td>\n",
              "      <td>2.000000</td>\n",
              "      <td>0.0</td>\n",
              "      <td>3.0</td>\n",
              "      <td>8.0</td>\n",
              "      <td>1600.0</td>\n",
              "    </tr>\n",
              "    <tr>\n",
              "      <th>21968</th>\n",
              "      <td>1.523300e+09</td>\n",
              "      <td>0.0</td>\n",
              "      <td>2008.0</td>\n",
              "      <td>0.0</td>\n",
              "      <td>59.0</td>\n",
              "      <td>47.5941</td>\n",
              "      <td>-122.299</td>\n",
              "      <td>1020.0</td>\n",
              "      <td>1357.0</td>\n",
              "      <td>186.0</td>\n",
              "      <td>325000.0</td>\n",
              "      <td>2.000000</td>\n",
              "      <td>1.000000</td>\n",
              "      <td>1020.0</td>\n",
              "      <td>1076.0</td>\n",
              "      <td>2.000000</td>\n",
              "      <td>0.0</td>\n",
              "      <td>3.0</td>\n",
              "      <td>7.0</td>\n",
              "      <td>1020.0</td>\n",
              "    </tr>\n",
              "  </tbody>\n",
              "</table>\n",
              "<p>13350 rows × 20 columns</p>\n",
              "</div>\n",
              "      <button class=\"colab-df-convert\" onclick=\"convertToInteractive('df-09764908-43e7-4994-a6b3-56543d1c9e1a')\"\n",
              "              title=\"Convert this dataframe to an interactive table.\"\n",
              "              style=\"display:none;\">\n",
              "        \n",
              "  <svg xmlns=\"http://www.w3.org/2000/svg\" height=\"24px\"viewBox=\"0 0 24 24\"\n",
              "       width=\"24px\">\n",
              "    <path d=\"M0 0h24v24H0V0z\" fill=\"none\"/>\n",
              "    <path d=\"M18.56 5.44l.94 2.06.94-2.06 2.06-.94-2.06-.94-.94-2.06-.94 2.06-2.06.94zm-11 1L8.5 8.5l.94-2.06 2.06-.94-2.06-.94L8.5 2.5l-.94 2.06-2.06.94zm10 10l.94 2.06.94-2.06 2.06-.94-2.06-.94-.94-2.06-.94 2.06-2.06.94z\"/><path d=\"M17.41 7.96l-1.37-1.37c-.4-.4-.92-.59-1.43-.59-.52 0-1.04.2-1.43.59L10.3 9.45l-7.72 7.72c-.78.78-.78 2.05 0 2.83L4 21.41c.39.39.9.59 1.41.59.51 0 1.02-.2 1.41-.59l7.78-7.78 2.81-2.81c.8-.78.8-2.07 0-2.86zM5.41 20L4 18.59l7.72-7.72 1.47 1.35L5.41 20z\"/>\n",
              "  </svg>\n",
              "      </button>\n",
              "      \n",
              "  <style>\n",
              "    .colab-df-container {\n",
              "      display:flex;\n",
              "      flex-wrap:wrap;\n",
              "      gap: 12px;\n",
              "    }\n",
              "\n",
              "    .colab-df-convert {\n",
              "      background-color: #E8F0FE;\n",
              "      border: none;\n",
              "      border-radius: 50%;\n",
              "      cursor: pointer;\n",
              "      display: none;\n",
              "      fill: #1967D2;\n",
              "      height: 32px;\n",
              "      padding: 0 0 0 0;\n",
              "      width: 32px;\n",
              "    }\n",
              "\n",
              "    .colab-df-convert:hover {\n",
              "      background-color: #E2EBFA;\n",
              "      box-shadow: 0px 1px 2px rgba(60, 64, 67, 0.3), 0px 1px 3px 1px rgba(60, 64, 67, 0.15);\n",
              "      fill: #174EA6;\n",
              "    }\n",
              "\n",
              "    [theme=dark] .colab-df-convert {\n",
              "      background-color: #3B4455;\n",
              "      fill: #D2E3FC;\n",
              "    }\n",
              "\n",
              "    [theme=dark] .colab-df-convert:hover {\n",
              "      background-color: #434B5C;\n",
              "      box-shadow: 0px 1px 3px 1px rgba(0, 0, 0, 0.15);\n",
              "      filter: drop-shadow(0px 1px 2px rgba(0, 0, 0, 0.3));\n",
              "      fill: #FFFFFF;\n",
              "    }\n",
              "  </style>\n",
              "\n",
              "      <script>\n",
              "        const buttonEl =\n",
              "          document.querySelector('#df-09764908-43e7-4994-a6b3-56543d1c9e1a button.colab-df-convert');\n",
              "        buttonEl.style.display =\n",
              "          google.colab.kernel.accessAllowed ? 'block' : 'none';\n",
              "\n",
              "        async function convertToInteractive(key) {\n",
              "          const element = document.querySelector('#df-09764908-43e7-4994-a6b3-56543d1c9e1a');\n",
              "          const dataTable =\n",
              "            await google.colab.kernel.invokeFunction('convertToInteractive',\n",
              "                                                     [key], {});\n",
              "          if (!dataTable) return;\n",
              "\n",
              "          const docLinkHtml = 'Like what you see? Visit the ' +\n",
              "            '<a target=\"_blank\" href=https://colab.research.google.com/notebooks/data_table.ipynb>data table notebook</a>'\n",
              "            + ' to learn more about interactive tables.';\n",
              "          element.innerHTML = '';\n",
              "          dataTable['output_type'] = 'display_data';\n",
              "          await google.colab.output.renderOutput(dataTable, element);\n",
              "          const docLink = document.createElement('div');\n",
              "          docLink.innerHTML = docLinkHtml;\n",
              "          element.appendChild(docLink);\n",
              "        }\n",
              "      </script>\n",
              "    </div>\n",
              "  </div>\n",
              "  "
            ]
          },
          "metadata": {},
          "execution_count": 62
        }
      ]
    },
    {
      "cell_type": "code",
      "source": [
        "df[df['yr_renovated'] == 0]"
      ],
      "metadata": {
        "colab": {
          "base_uri": "https://localhost:8080/",
          "height": 487
        },
        "id": "DxtVELdWdnhS",
        "outputId": "3f9a6c60-fd6a-49ab-cee6-017d30a62040"
      },
      "execution_count": 63,
      "outputs": [
        {
          "output_type": "execute_result",
          "data": {
            "text/plain": [
              "                 id  sqft_basement  yr_built  yr_renovated  zipcode      lat  \\\n",
              "0      7.129301e+09            0.0    1955.0           0.0     66.0  47.5112   \n",
              "2      5.631500e+09            0.0    1933.0           0.0     16.0  47.7379   \n",
              "3      2.487201e+09          910.0    1965.0           0.0     58.0  47.5208   \n",
              "4      1.954401e+09            0.0    1987.0           0.0     37.0  47.6168   \n",
              "5      7.237550e+09         1530.0    2001.0           0.0     29.0  47.6561   \n",
              "...             ...            ...       ...           ...      ...      ...   \n",
              "21964  2.630000e+08            0.0    2009.0           0.0     42.0  47.6993   \n",
              "21965  6.600060e+09            0.0    2014.0           0.0     60.0  47.5107   \n",
              "21966  1.523300e+09            0.0    2009.0           0.0     59.0  47.5944   \n",
              "21967  2.913101e+08            0.0    2004.0           0.0     15.0  47.5345   \n",
              "21968  1.523300e+09            0.0    2008.0           0.0     59.0  47.5941   \n",
              "\n",
              "          long  sqft_living15   sqft_lot15   date      price  bedrooms  \\\n",
              "0     -122.257    1340.000000  5650.000000  160.0   221900.0  3.000000   \n",
              "2     -122.233    2720.000000  8062.000000  298.0   180000.0  2.000000   \n",
              "3     -122.393    1360.000000  5000.000000  111.0   604000.0  4.000000   \n",
              "4     -122.045    1800.000000  7503.000000  213.0   510000.0  3.000000   \n",
              "5     -122.005    1929.769661  7259.308016  141.0  1225000.0  4.000000   \n",
              "...        ...            ...          ...    ...        ...       ...   \n",
              "21964 -122.346    1530.000000  1509.000000  252.0   360000.0  3.000000   \n",
              "21965 -122.362    1830.000000  7200.000000  273.0   400000.0  4.000000   \n",
              "21966 -122.299    1020.000000  2007.000000  277.0   402101.0  2.333333   \n",
              "21967 -122.069    1410.000000  1287.000000  189.0   400000.0  3.000000   \n",
              "21968 -122.299    1020.000000  1357.000000  186.0   325000.0  2.000000   \n",
              "\n",
              "       bathrooms  sqft_living      sqft_lot    floors  view  condition  grade  \\\n",
              "0       1.333333  1180.000000   5650.000000  1.000000   0.0        3.0    7.0   \n",
              "2       2.000000   770.000000  10000.000000  1.333333   0.0        3.0    6.0   \n",
              "3       2.000000  1960.000000   5000.000000  1.666667   0.0        5.0    7.0   \n",
              "4       2.000000  1680.000000   8080.000000  1.000000   0.0        3.0    8.0   \n",
              "5       4.000000  1992.528322   7389.615456  1.000000   0.0        3.0   11.0   \n",
              "...          ...          ...           ...       ...   ...        ...    ...   \n",
              "21964   2.000000  1530.000000   1131.000000  3.000000   0.0        3.0    8.0   \n",
              "21965   2.000000  2310.000000   5813.000000  2.000000   0.0        3.0    8.0   \n",
              "21966   1.000000  1020.000000   1350.000000  2.000000   0.0        3.0    7.0   \n",
              "21967   2.000000  1600.000000   2388.000000  2.000000   0.0        3.0    8.0   \n",
              "21968   1.000000  1020.000000   1076.000000  2.000000   0.0        3.0    7.0   \n",
              "\n",
              "       sqft_above  \n",
              "0          1180.0  \n",
              "2           770.0  \n",
              "3          1050.0  \n",
              "4          1680.0  \n",
              "5          3890.0  \n",
              "...           ...  \n",
              "21964      1530.0  \n",
              "21965      2310.0  \n",
              "21966      1020.0  \n",
              "21967      1600.0  \n",
              "21968      1020.0  \n",
              "\n",
              "[21047 rows x 20 columns]"
            ],
            "text/html": [
              "\n",
              "  <div id=\"df-dd3caf97-bf1a-46c3-a9cd-a5dcb3d1c156\">\n",
              "    <div class=\"colab-df-container\">\n",
              "      <div>\n",
              "<style scoped>\n",
              "    .dataframe tbody tr th:only-of-type {\n",
              "        vertical-align: middle;\n",
              "    }\n",
              "\n",
              "    .dataframe tbody tr th {\n",
              "        vertical-align: top;\n",
              "    }\n",
              "\n",
              "    .dataframe thead th {\n",
              "        text-align: right;\n",
              "    }\n",
              "</style>\n",
              "<table border=\"1\" class=\"dataframe\">\n",
              "  <thead>\n",
              "    <tr style=\"text-align: right;\">\n",
              "      <th></th>\n",
              "      <th>id</th>\n",
              "      <th>sqft_basement</th>\n",
              "      <th>yr_built</th>\n",
              "      <th>yr_renovated</th>\n",
              "      <th>zipcode</th>\n",
              "      <th>lat</th>\n",
              "      <th>long</th>\n",
              "      <th>sqft_living15</th>\n",
              "      <th>sqft_lot15</th>\n",
              "      <th>date</th>\n",
              "      <th>price</th>\n",
              "      <th>bedrooms</th>\n",
              "      <th>bathrooms</th>\n",
              "      <th>sqft_living</th>\n",
              "      <th>sqft_lot</th>\n",
              "      <th>floors</th>\n",
              "      <th>view</th>\n",
              "      <th>condition</th>\n",
              "      <th>grade</th>\n",
              "      <th>sqft_above</th>\n",
              "    </tr>\n",
              "  </thead>\n",
              "  <tbody>\n",
              "    <tr>\n",
              "      <th>0</th>\n",
              "      <td>7.129301e+09</td>\n",
              "      <td>0.0</td>\n",
              "      <td>1955.0</td>\n",
              "      <td>0.0</td>\n",
              "      <td>66.0</td>\n",
              "      <td>47.5112</td>\n",
              "      <td>-122.257</td>\n",
              "      <td>1340.000000</td>\n",
              "      <td>5650.000000</td>\n",
              "      <td>160.0</td>\n",
              "      <td>221900.0</td>\n",
              "      <td>3.000000</td>\n",
              "      <td>1.333333</td>\n",
              "      <td>1180.000000</td>\n",
              "      <td>5650.000000</td>\n",
              "      <td>1.000000</td>\n",
              "      <td>0.0</td>\n",
              "      <td>3.0</td>\n",
              "      <td>7.0</td>\n",
              "      <td>1180.0</td>\n",
              "    </tr>\n",
              "    <tr>\n",
              "      <th>2</th>\n",
              "      <td>5.631500e+09</td>\n",
              "      <td>0.0</td>\n",
              "      <td>1933.0</td>\n",
              "      <td>0.0</td>\n",
              "      <td>16.0</td>\n",
              "      <td>47.7379</td>\n",
              "      <td>-122.233</td>\n",
              "      <td>2720.000000</td>\n",
              "      <td>8062.000000</td>\n",
              "      <td>298.0</td>\n",
              "      <td>180000.0</td>\n",
              "      <td>2.000000</td>\n",
              "      <td>2.000000</td>\n",
              "      <td>770.000000</td>\n",
              "      <td>10000.000000</td>\n",
              "      <td>1.333333</td>\n",
              "      <td>0.0</td>\n",
              "      <td>3.0</td>\n",
              "      <td>6.0</td>\n",
              "      <td>770.0</td>\n",
              "    </tr>\n",
              "    <tr>\n",
              "      <th>3</th>\n",
              "      <td>2.487201e+09</td>\n",
              "      <td>910.0</td>\n",
              "      <td>1965.0</td>\n",
              "      <td>0.0</td>\n",
              "      <td>58.0</td>\n",
              "      <td>47.5208</td>\n",
              "      <td>-122.393</td>\n",
              "      <td>1360.000000</td>\n",
              "      <td>5000.000000</td>\n",
              "      <td>111.0</td>\n",
              "      <td>604000.0</td>\n",
              "      <td>4.000000</td>\n",
              "      <td>2.000000</td>\n",
              "      <td>1960.000000</td>\n",
              "      <td>5000.000000</td>\n",
              "      <td>1.666667</td>\n",
              "      <td>0.0</td>\n",
              "      <td>5.0</td>\n",
              "      <td>7.0</td>\n",
              "      <td>1050.0</td>\n",
              "    </tr>\n",
              "    <tr>\n",
              "      <th>4</th>\n",
              "      <td>1.954401e+09</td>\n",
              "      <td>0.0</td>\n",
              "      <td>1987.0</td>\n",
              "      <td>0.0</td>\n",
              "      <td>37.0</td>\n",
              "      <td>47.6168</td>\n",
              "      <td>-122.045</td>\n",
              "      <td>1800.000000</td>\n",
              "      <td>7503.000000</td>\n",
              "      <td>213.0</td>\n",
              "      <td>510000.0</td>\n",
              "      <td>3.000000</td>\n",
              "      <td>2.000000</td>\n",
              "      <td>1680.000000</td>\n",
              "      <td>8080.000000</td>\n",
              "      <td>1.000000</td>\n",
              "      <td>0.0</td>\n",
              "      <td>3.0</td>\n",
              "      <td>8.0</td>\n",
              "      <td>1680.0</td>\n",
              "    </tr>\n",
              "    <tr>\n",
              "      <th>5</th>\n",
              "      <td>7.237550e+09</td>\n",
              "      <td>1530.0</td>\n",
              "      <td>2001.0</td>\n",
              "      <td>0.0</td>\n",
              "      <td>29.0</td>\n",
              "      <td>47.6561</td>\n",
              "      <td>-122.005</td>\n",
              "      <td>1929.769661</td>\n",
              "      <td>7259.308016</td>\n",
              "      <td>141.0</td>\n",
              "      <td>1225000.0</td>\n",
              "      <td>4.000000</td>\n",
              "      <td>4.000000</td>\n",
              "      <td>1992.528322</td>\n",
              "      <td>7389.615456</td>\n",
              "      <td>1.000000</td>\n",
              "      <td>0.0</td>\n",
              "      <td>3.0</td>\n",
              "      <td>11.0</td>\n",
              "      <td>3890.0</td>\n",
              "    </tr>\n",
              "    <tr>\n",
              "      <th>...</th>\n",
              "      <td>...</td>\n",
              "      <td>...</td>\n",
              "      <td>...</td>\n",
              "      <td>...</td>\n",
              "      <td>...</td>\n",
              "      <td>...</td>\n",
              "      <td>...</td>\n",
              "      <td>...</td>\n",
              "      <td>...</td>\n",
              "      <td>...</td>\n",
              "      <td>...</td>\n",
              "      <td>...</td>\n",
              "      <td>...</td>\n",
              "      <td>...</td>\n",
              "      <td>...</td>\n",
              "      <td>...</td>\n",
              "      <td>...</td>\n",
              "      <td>...</td>\n",
              "      <td>...</td>\n",
              "      <td>...</td>\n",
              "    </tr>\n",
              "    <tr>\n",
              "      <th>21964</th>\n",
              "      <td>2.630000e+08</td>\n",
              "      <td>0.0</td>\n",
              "      <td>2009.0</td>\n",
              "      <td>0.0</td>\n",
              "      <td>42.0</td>\n",
              "      <td>47.6993</td>\n",
              "      <td>-122.346</td>\n",
              "      <td>1530.000000</td>\n",
              "      <td>1509.000000</td>\n",
              "      <td>252.0</td>\n",
              "      <td>360000.0</td>\n",
              "      <td>3.000000</td>\n",
              "      <td>2.000000</td>\n",
              "      <td>1530.000000</td>\n",
              "      <td>1131.000000</td>\n",
              "      <td>3.000000</td>\n",
              "      <td>0.0</td>\n",
              "      <td>3.0</td>\n",
              "      <td>8.0</td>\n",
              "      <td>1530.0</td>\n",
              "    </tr>\n",
              "    <tr>\n",
              "      <th>21965</th>\n",
              "      <td>6.600060e+09</td>\n",
              "      <td>0.0</td>\n",
              "      <td>2014.0</td>\n",
              "      <td>0.0</td>\n",
              "      <td>60.0</td>\n",
              "      <td>47.5107</td>\n",
              "      <td>-122.362</td>\n",
              "      <td>1830.000000</td>\n",
              "      <td>7200.000000</td>\n",
              "      <td>273.0</td>\n",
              "      <td>400000.0</td>\n",
              "      <td>4.000000</td>\n",
              "      <td>2.000000</td>\n",
              "      <td>2310.000000</td>\n",
              "      <td>5813.000000</td>\n",
              "      <td>2.000000</td>\n",
              "      <td>0.0</td>\n",
              "      <td>3.0</td>\n",
              "      <td>8.0</td>\n",
              "      <td>2310.0</td>\n",
              "    </tr>\n",
              "    <tr>\n",
              "      <th>21966</th>\n",
              "      <td>1.523300e+09</td>\n",
              "      <td>0.0</td>\n",
              "      <td>2009.0</td>\n",
              "      <td>0.0</td>\n",
              "      <td>59.0</td>\n",
              "      <td>47.5944</td>\n",
              "      <td>-122.299</td>\n",
              "      <td>1020.000000</td>\n",
              "      <td>2007.000000</td>\n",
              "      <td>277.0</td>\n",
              "      <td>402101.0</td>\n",
              "      <td>2.333333</td>\n",
              "      <td>1.000000</td>\n",
              "      <td>1020.000000</td>\n",
              "      <td>1350.000000</td>\n",
              "      <td>2.000000</td>\n",
              "      <td>0.0</td>\n",
              "      <td>3.0</td>\n",
              "      <td>7.0</td>\n",
              "      <td>1020.0</td>\n",
              "    </tr>\n",
              "    <tr>\n",
              "      <th>21967</th>\n",
              "      <td>2.913101e+08</td>\n",
              "      <td>0.0</td>\n",
              "      <td>2004.0</td>\n",
              "      <td>0.0</td>\n",
              "      <td>15.0</td>\n",
              "      <td>47.5345</td>\n",
              "      <td>-122.069</td>\n",
              "      <td>1410.000000</td>\n",
              "      <td>1287.000000</td>\n",
              "      <td>189.0</td>\n",
              "      <td>400000.0</td>\n",
              "      <td>3.000000</td>\n",
              "      <td>2.000000</td>\n",
              "      <td>1600.000000</td>\n",
              "      <td>2388.000000</td>\n",
              "      <td>2.000000</td>\n",
              "      <td>0.0</td>\n",
              "      <td>3.0</td>\n",
              "      <td>8.0</td>\n",
              "      <td>1600.0</td>\n",
              "    </tr>\n",
              "    <tr>\n",
              "      <th>21968</th>\n",
              "      <td>1.523300e+09</td>\n",
              "      <td>0.0</td>\n",
              "      <td>2008.0</td>\n",
              "      <td>0.0</td>\n",
              "      <td>59.0</td>\n",
              "      <td>47.5941</td>\n",
              "      <td>-122.299</td>\n",
              "      <td>1020.000000</td>\n",
              "      <td>1357.000000</td>\n",
              "      <td>186.0</td>\n",
              "      <td>325000.0</td>\n",
              "      <td>2.000000</td>\n",
              "      <td>1.000000</td>\n",
              "      <td>1020.000000</td>\n",
              "      <td>1076.000000</td>\n",
              "      <td>2.000000</td>\n",
              "      <td>0.0</td>\n",
              "      <td>3.0</td>\n",
              "      <td>7.0</td>\n",
              "      <td>1020.0</td>\n",
              "    </tr>\n",
              "  </tbody>\n",
              "</table>\n",
              "<p>21047 rows × 20 columns</p>\n",
              "</div>\n",
              "      <button class=\"colab-df-convert\" onclick=\"convertToInteractive('df-dd3caf97-bf1a-46c3-a9cd-a5dcb3d1c156')\"\n",
              "              title=\"Convert this dataframe to an interactive table.\"\n",
              "              style=\"display:none;\">\n",
              "        \n",
              "  <svg xmlns=\"http://www.w3.org/2000/svg\" height=\"24px\"viewBox=\"0 0 24 24\"\n",
              "       width=\"24px\">\n",
              "    <path d=\"M0 0h24v24H0V0z\" fill=\"none\"/>\n",
              "    <path d=\"M18.56 5.44l.94 2.06.94-2.06 2.06-.94-2.06-.94-.94-2.06-.94 2.06-2.06.94zm-11 1L8.5 8.5l.94-2.06 2.06-.94-2.06-.94L8.5 2.5l-.94 2.06-2.06.94zm10 10l.94 2.06.94-2.06 2.06-.94-2.06-.94-.94-2.06-.94 2.06-2.06.94z\"/><path d=\"M17.41 7.96l-1.37-1.37c-.4-.4-.92-.59-1.43-.59-.52 0-1.04.2-1.43.59L10.3 9.45l-7.72 7.72c-.78.78-.78 2.05 0 2.83L4 21.41c.39.39.9.59 1.41.59.51 0 1.02-.2 1.41-.59l7.78-7.78 2.81-2.81c.8-.78.8-2.07 0-2.86zM5.41 20L4 18.59l7.72-7.72 1.47 1.35L5.41 20z\"/>\n",
              "  </svg>\n",
              "      </button>\n",
              "      \n",
              "  <style>\n",
              "    .colab-df-container {\n",
              "      display:flex;\n",
              "      flex-wrap:wrap;\n",
              "      gap: 12px;\n",
              "    }\n",
              "\n",
              "    .colab-df-convert {\n",
              "      background-color: #E8F0FE;\n",
              "      border: none;\n",
              "      border-radius: 50%;\n",
              "      cursor: pointer;\n",
              "      display: none;\n",
              "      fill: #1967D2;\n",
              "      height: 32px;\n",
              "      padding: 0 0 0 0;\n",
              "      width: 32px;\n",
              "    }\n",
              "\n",
              "    .colab-df-convert:hover {\n",
              "      background-color: #E2EBFA;\n",
              "      box-shadow: 0px 1px 2px rgba(60, 64, 67, 0.3), 0px 1px 3px 1px rgba(60, 64, 67, 0.15);\n",
              "      fill: #174EA6;\n",
              "    }\n",
              "\n",
              "    [theme=dark] .colab-df-convert {\n",
              "      background-color: #3B4455;\n",
              "      fill: #D2E3FC;\n",
              "    }\n",
              "\n",
              "    [theme=dark] .colab-df-convert:hover {\n",
              "      background-color: #434B5C;\n",
              "      box-shadow: 0px 1px 3px 1px rgba(0, 0, 0, 0.15);\n",
              "      filter: drop-shadow(0px 1px 2px rgba(0, 0, 0, 0.3));\n",
              "      fill: #FFFFFF;\n",
              "    }\n",
              "  </style>\n",
              "\n",
              "      <script>\n",
              "        const buttonEl =\n",
              "          document.querySelector('#df-dd3caf97-bf1a-46c3-a9cd-a5dcb3d1c156 button.colab-df-convert');\n",
              "        buttonEl.style.display =\n",
              "          google.colab.kernel.accessAllowed ? 'block' : 'none';\n",
              "\n",
              "        async function convertToInteractive(key) {\n",
              "          const element = document.querySelector('#df-dd3caf97-bf1a-46c3-a9cd-a5dcb3d1c156');\n",
              "          const dataTable =\n",
              "            await google.colab.kernel.invokeFunction('convertToInteractive',\n",
              "                                                     [key], {});\n",
              "          if (!dataTable) return;\n",
              "\n",
              "          const docLinkHtml = 'Like what you see? Visit the ' +\n",
              "            '<a target=\"_blank\" href=https://colab.research.google.com/notebooks/data_table.ipynb>data table notebook</a>'\n",
              "            + ' to learn more about interactive tables.';\n",
              "          element.innerHTML = '';\n",
              "          dataTable['output_type'] = 'display_data';\n",
              "          await google.colab.output.renderOutput(dataTable, element);\n",
              "          const docLink = document.createElement('div');\n",
              "          docLink.innerHTML = docLinkHtml;\n",
              "          element.appendChild(docLink);\n",
              "        }\n",
              "      </script>\n",
              "    </div>\n",
              "  </div>\n",
              "  "
            ]
          },
          "metadata": {},
          "execution_count": 63
        }
      ]
    },
    {
      "cell_type": "code",
      "source": [
        "df = df.drop(columns=['sqft_basement'])"
      ],
      "metadata": {
        "id": "T6PkaI_zdwpE"
      },
      "execution_count": 64,
      "outputs": []
    },
    {
      "cell_type": "code",
      "source": [
        "df = df.drop(columns=['yr_renovated'])"
      ],
      "metadata": {
        "id": "z6O6D7uHdzDP"
      },
      "execution_count": 65,
      "outputs": []
    },
    {
      "cell_type": "code",
      "source": [
        "ContinuousCols=['yr_built','sqft_living15', 'sqft_lot15', 'sqft_living', 'sqft_lot','sqft_above','price','lat',\n",
        "       'long']"
      ],
      "metadata": {
        "id": "xzVmEnXPd1Es"
      },
      "execution_count": 66,
      "outputs": []
    },
    {
      "cell_type": "code",
      "source": [
        "### Sandardization of data ###\n",
        "from sklearn.preprocessing import StandardScaler, MinMaxScaler\n",
        "# Choose either standardization or Normalization\n",
        "# On this data Min Max Normalization produced better results\n",
        "\n",
        "# Choose between standardization and MinMAx normalization\n",
        "#PredictorScaler=StandardScaler()\n",
        "PredictorScaler=MinMaxScaler()\n",
        "\n",
        "# Storing the fit object for later reference\n",
        "PredictorScalerFit=PredictorScaler.fit(df[ContinuousCols])\n",
        "\n",
        "# Generating the standardized values of X\n",
        "res=PredictorScalerFit.transform(df[ContinuousCols])"
      ],
      "metadata": {
        "id": "skWH71jyd4bw"
      },
      "execution_count": 67,
      "outputs": []
    },
    {
      "cell_type": "code",
      "source": [
        "from sklearn.preprocessing import RobustScaler\n",
        "transformer = RobustScaler().fit(res)\n",
        "res = transformer.transform(res)"
      ],
      "metadata": {
        "id": "ME7rgAPvd8pQ"
      },
      "execution_count": 68,
      "outputs": []
    },
    {
      "cell_type": "code",
      "source": [
        "df4 = pd.DataFrame(res, columns =['yr_built.1','sqft_living15.1', 'sqft_lot15.1', 'sqft_living.1', 'sqft_lot.1','sqft_above.1','Price','lat.1',\n",
        "       'long.1'])"
      ],
      "metadata": {
        "id": "X4RaaR1kd_Ig"
      },
      "execution_count": 69,
      "outputs": []
    },
    {
      "cell_type": "code",
      "source": [
        "df = pd.concat([df4.reset_index(drop=True), df.reset_index(drop=True)], axis=1)"
      ],
      "metadata": {
        "id": "CfPv6uL-eA2t"
      },
      "execution_count": 70,
      "outputs": []
    },
    {
      "cell_type": "code",
      "source": [
        "delete_cols = ['yr_built','sqft_living15', 'sqft_lot15', 'sqft_living', 'sqft_lot','sqft_above','price','lat',\n",
        "       'long']\n",
        "\n",
        "df = df.drop(columns=delete_cols)"
      ],
      "metadata": {
        "id": "rf8BPYXieCve"
      },
      "execution_count": 71,
      "outputs": []
    },
    {
      "cell_type": "code",
      "source": [
        "df"
      ],
      "metadata": {
        "colab": {
          "base_uri": "https://localhost:8080/",
          "height": 487
        },
        "id": "sk4F4h2seEys",
        "outputId": "b188c76f-d817-47cb-9a22-e90e9ed0e22b"
      },
      "execution_count": 72,
      "outputs": [
        {
          "output_type": "execute_result",
          "data": {
            "text/plain": [
              "       yr_built.1  sqft_living15.1  sqft_lot15.1  sqft_living.1  sqft_lot.1  \\\n",
              "0       -0.422222        -0.590361     -0.444024      -0.672897   -0.397407   \n",
              "1       -0.511111        -0.168675      0.038158       0.626168   -0.043959   \n",
              "2       -0.911111         1.072289      0.140703      -1.056075    0.568358   \n",
              "3       -0.200000        -0.566265     -0.601600       0.056075   -0.541717   \n",
              "4        0.288889        -0.036145      0.005188      -0.205607    0.142090   \n",
              "...           ...              ...           ...            ...         ...   \n",
              "21964    0.777778        -0.361446     -1.447903      -0.345794   -1.400693   \n",
              "21965    0.888889         0.000000     -0.068267       0.383178   -0.361218   \n",
              "21966    0.777778        -0.975904     -1.327176      -0.822430   -1.352071   \n",
              "21967    0.666667        -0.506024     -1.501721      -0.280374   -1.121620   \n",
              "21968    0.755556        -0.975904     -1.484752      -0.822430   -1.412904   \n",
              "\n",
              "       sqft_above.1     Price     lat.1    long.1            id  zipcode  \\\n",
              "0         -0.376238 -0.710592 -0.289296 -0.128079  7.129301e+09     66.0   \n",
              "1          0.603960  0.274143  0.722276 -0.433498  6.414100e+09     55.0   \n",
              "2         -0.782178 -0.841121  0.803761 -0.009852  5.631500e+09     16.0   \n",
              "3         -0.504950  0.479751 -0.243009 -0.798030  2.487201e+09     58.0   \n",
              "4          0.118812  0.186916  0.219865  0.916256  1.954401e+09     37.0   \n",
              "...             ...       ...       ...       ...           ...      ...   \n",
              "21964     -0.029703 -0.280374  0.617647 -0.566502  2.630000e+08     42.0   \n",
              "21965      0.742574 -0.155763 -0.291707 -0.645320  6.600060e+09     60.0   \n",
              "21966     -0.534653 -0.149218  0.111861 -0.334975  1.523300e+09     59.0   \n",
              "21967      0.039604 -0.155763 -0.176953  0.798030  2.913101e+08     15.0   \n",
              "21968     -0.534653 -0.389408  0.110415 -0.334975  1.523300e+09     59.0   \n",
              "\n",
              "        date  bedrooms  bathrooms    floors  view  condition  grade  \n",
              "0      160.0  3.000000   1.333333  1.000000   0.0        3.0    7.0  \n",
              "1      111.0  3.000000   2.000000  2.000000   0.0        3.0    7.0  \n",
              "2      298.0  2.000000   2.000000  1.333333   0.0        3.0    6.0  \n",
              "3      111.0  4.000000   2.000000  1.666667   0.0        5.0    7.0  \n",
              "4      213.0  3.000000   2.000000  1.000000   0.0        3.0    8.0  \n",
              "...      ...       ...        ...       ...   ...        ...    ...  \n",
              "21964  252.0  3.000000   2.000000  3.000000   0.0        3.0    8.0  \n",
              "21965  273.0  4.000000   2.000000  2.000000   0.0        3.0    8.0  \n",
              "21966  277.0  2.333333   1.000000  2.000000   0.0        3.0    7.0  \n",
              "21967  189.0  3.000000   2.000000  2.000000   0.0        3.0    8.0  \n",
              "21968  186.0  2.000000   1.000000  2.000000   0.0        3.0    7.0  \n",
              "\n",
              "[21969 rows x 18 columns]"
            ],
            "text/html": [
              "\n",
              "  <div id=\"df-abb3763a-bde4-42c5-bcb6-5c86ce820a7c\">\n",
              "    <div class=\"colab-df-container\">\n",
              "      <div>\n",
              "<style scoped>\n",
              "    .dataframe tbody tr th:only-of-type {\n",
              "        vertical-align: middle;\n",
              "    }\n",
              "\n",
              "    .dataframe tbody tr th {\n",
              "        vertical-align: top;\n",
              "    }\n",
              "\n",
              "    .dataframe thead th {\n",
              "        text-align: right;\n",
              "    }\n",
              "</style>\n",
              "<table border=\"1\" class=\"dataframe\">\n",
              "  <thead>\n",
              "    <tr style=\"text-align: right;\">\n",
              "      <th></th>\n",
              "      <th>yr_built.1</th>\n",
              "      <th>sqft_living15.1</th>\n",
              "      <th>sqft_lot15.1</th>\n",
              "      <th>sqft_living.1</th>\n",
              "      <th>sqft_lot.1</th>\n",
              "      <th>sqft_above.1</th>\n",
              "      <th>Price</th>\n",
              "      <th>lat.1</th>\n",
              "      <th>long.1</th>\n",
              "      <th>id</th>\n",
              "      <th>zipcode</th>\n",
              "      <th>date</th>\n",
              "      <th>bedrooms</th>\n",
              "      <th>bathrooms</th>\n",
              "      <th>floors</th>\n",
              "      <th>view</th>\n",
              "      <th>condition</th>\n",
              "      <th>grade</th>\n",
              "    </tr>\n",
              "  </thead>\n",
              "  <tbody>\n",
              "    <tr>\n",
              "      <th>0</th>\n",
              "      <td>-0.422222</td>\n",
              "      <td>-0.590361</td>\n",
              "      <td>-0.444024</td>\n",
              "      <td>-0.672897</td>\n",
              "      <td>-0.397407</td>\n",
              "      <td>-0.376238</td>\n",
              "      <td>-0.710592</td>\n",
              "      <td>-0.289296</td>\n",
              "      <td>-0.128079</td>\n",
              "      <td>7.129301e+09</td>\n",
              "      <td>66.0</td>\n",
              "      <td>160.0</td>\n",
              "      <td>3.000000</td>\n",
              "      <td>1.333333</td>\n",
              "      <td>1.000000</td>\n",
              "      <td>0.0</td>\n",
              "      <td>3.0</td>\n",
              "      <td>7.0</td>\n",
              "    </tr>\n",
              "    <tr>\n",
              "      <th>1</th>\n",
              "      <td>-0.511111</td>\n",
              "      <td>-0.168675</td>\n",
              "      <td>0.038158</td>\n",
              "      <td>0.626168</td>\n",
              "      <td>-0.043959</td>\n",
              "      <td>0.603960</td>\n",
              "      <td>0.274143</td>\n",
              "      <td>0.722276</td>\n",
              "      <td>-0.433498</td>\n",
              "      <td>6.414100e+09</td>\n",
              "      <td>55.0</td>\n",
              "      <td>111.0</td>\n",
              "      <td>3.000000</td>\n",
              "      <td>2.000000</td>\n",
              "      <td>2.000000</td>\n",
              "      <td>0.0</td>\n",
              "      <td>3.0</td>\n",
              "      <td>7.0</td>\n",
              "    </tr>\n",
              "    <tr>\n",
              "      <th>2</th>\n",
              "      <td>-0.911111</td>\n",
              "      <td>1.072289</td>\n",
              "      <td>0.140703</td>\n",
              "      <td>-1.056075</td>\n",
              "      <td>0.568358</td>\n",
              "      <td>-0.782178</td>\n",
              "      <td>-0.841121</td>\n",
              "      <td>0.803761</td>\n",
              "      <td>-0.009852</td>\n",
              "      <td>5.631500e+09</td>\n",
              "      <td>16.0</td>\n",
              "      <td>298.0</td>\n",
              "      <td>2.000000</td>\n",
              "      <td>2.000000</td>\n",
              "      <td>1.333333</td>\n",
              "      <td>0.0</td>\n",
              "      <td>3.0</td>\n",
              "      <td>6.0</td>\n",
              "    </tr>\n",
              "    <tr>\n",
              "      <th>3</th>\n",
              "      <td>-0.200000</td>\n",
              "      <td>-0.566265</td>\n",
              "      <td>-0.601600</td>\n",
              "      <td>0.056075</td>\n",
              "      <td>-0.541717</td>\n",
              "      <td>-0.504950</td>\n",
              "      <td>0.479751</td>\n",
              "      <td>-0.243009</td>\n",
              "      <td>-0.798030</td>\n",
              "      <td>2.487201e+09</td>\n",
              "      <td>58.0</td>\n",
              "      <td>111.0</td>\n",
              "      <td>4.000000</td>\n",
              "      <td>2.000000</td>\n",
              "      <td>1.666667</td>\n",
              "      <td>0.0</td>\n",
              "      <td>5.0</td>\n",
              "      <td>7.0</td>\n",
              "    </tr>\n",
              "    <tr>\n",
              "      <th>4</th>\n",
              "      <td>0.288889</td>\n",
              "      <td>-0.036145</td>\n",
              "      <td>0.005188</td>\n",
              "      <td>-0.205607</td>\n",
              "      <td>0.142090</td>\n",
              "      <td>0.118812</td>\n",
              "      <td>0.186916</td>\n",
              "      <td>0.219865</td>\n",
              "      <td>0.916256</td>\n",
              "      <td>1.954401e+09</td>\n",
              "      <td>37.0</td>\n",
              "      <td>213.0</td>\n",
              "      <td>3.000000</td>\n",
              "      <td>2.000000</td>\n",
              "      <td>1.000000</td>\n",
              "      <td>0.0</td>\n",
              "      <td>3.0</td>\n",
              "      <td>8.0</td>\n",
              "    </tr>\n",
              "    <tr>\n",
              "      <th>...</th>\n",
              "      <td>...</td>\n",
              "      <td>...</td>\n",
              "      <td>...</td>\n",
              "      <td>...</td>\n",
              "      <td>...</td>\n",
              "      <td>...</td>\n",
              "      <td>...</td>\n",
              "      <td>...</td>\n",
              "      <td>...</td>\n",
              "      <td>...</td>\n",
              "      <td>...</td>\n",
              "      <td>...</td>\n",
              "      <td>...</td>\n",
              "      <td>...</td>\n",
              "      <td>...</td>\n",
              "      <td>...</td>\n",
              "      <td>...</td>\n",
              "      <td>...</td>\n",
              "    </tr>\n",
              "    <tr>\n",
              "      <th>21964</th>\n",
              "      <td>0.777778</td>\n",
              "      <td>-0.361446</td>\n",
              "      <td>-1.447903</td>\n",
              "      <td>-0.345794</td>\n",
              "      <td>-1.400693</td>\n",
              "      <td>-0.029703</td>\n",
              "      <td>-0.280374</td>\n",
              "      <td>0.617647</td>\n",
              "      <td>-0.566502</td>\n",
              "      <td>2.630000e+08</td>\n",
              "      <td>42.0</td>\n",
              "      <td>252.0</td>\n",
              "      <td>3.000000</td>\n",
              "      <td>2.000000</td>\n",
              "      <td>3.000000</td>\n",
              "      <td>0.0</td>\n",
              "      <td>3.0</td>\n",
              "      <td>8.0</td>\n",
              "    </tr>\n",
              "    <tr>\n",
              "      <th>21965</th>\n",
              "      <td>0.888889</td>\n",
              "      <td>0.000000</td>\n",
              "      <td>-0.068267</td>\n",
              "      <td>0.383178</td>\n",
              "      <td>-0.361218</td>\n",
              "      <td>0.742574</td>\n",
              "      <td>-0.155763</td>\n",
              "      <td>-0.291707</td>\n",
              "      <td>-0.645320</td>\n",
              "      <td>6.600060e+09</td>\n",
              "      <td>60.0</td>\n",
              "      <td>273.0</td>\n",
              "      <td>4.000000</td>\n",
              "      <td>2.000000</td>\n",
              "      <td>2.000000</td>\n",
              "      <td>0.0</td>\n",
              "      <td>3.0</td>\n",
              "      <td>8.0</td>\n",
              "    </tr>\n",
              "    <tr>\n",
              "      <th>21966</th>\n",
              "      <td>0.777778</td>\n",
              "      <td>-0.975904</td>\n",
              "      <td>-1.327176</td>\n",
              "      <td>-0.822430</td>\n",
              "      <td>-1.352071</td>\n",
              "      <td>-0.534653</td>\n",
              "      <td>-0.149218</td>\n",
              "      <td>0.111861</td>\n",
              "      <td>-0.334975</td>\n",
              "      <td>1.523300e+09</td>\n",
              "      <td>59.0</td>\n",
              "      <td>277.0</td>\n",
              "      <td>2.333333</td>\n",
              "      <td>1.000000</td>\n",
              "      <td>2.000000</td>\n",
              "      <td>0.0</td>\n",
              "      <td>3.0</td>\n",
              "      <td>7.0</td>\n",
              "    </tr>\n",
              "    <tr>\n",
              "      <th>21967</th>\n",
              "      <td>0.666667</td>\n",
              "      <td>-0.506024</td>\n",
              "      <td>-1.501721</td>\n",
              "      <td>-0.280374</td>\n",
              "      <td>-1.121620</td>\n",
              "      <td>0.039604</td>\n",
              "      <td>-0.155763</td>\n",
              "      <td>-0.176953</td>\n",
              "      <td>0.798030</td>\n",
              "      <td>2.913101e+08</td>\n",
              "      <td>15.0</td>\n",
              "      <td>189.0</td>\n",
              "      <td>3.000000</td>\n",
              "      <td>2.000000</td>\n",
              "      <td>2.000000</td>\n",
              "      <td>0.0</td>\n",
              "      <td>3.0</td>\n",
              "      <td>8.0</td>\n",
              "    </tr>\n",
              "    <tr>\n",
              "      <th>21968</th>\n",
              "      <td>0.755556</td>\n",
              "      <td>-0.975904</td>\n",
              "      <td>-1.484752</td>\n",
              "      <td>-0.822430</td>\n",
              "      <td>-1.412904</td>\n",
              "      <td>-0.534653</td>\n",
              "      <td>-0.389408</td>\n",
              "      <td>0.110415</td>\n",
              "      <td>-0.334975</td>\n",
              "      <td>1.523300e+09</td>\n",
              "      <td>59.0</td>\n",
              "      <td>186.0</td>\n",
              "      <td>2.000000</td>\n",
              "      <td>1.000000</td>\n",
              "      <td>2.000000</td>\n",
              "      <td>0.0</td>\n",
              "      <td>3.0</td>\n",
              "      <td>7.0</td>\n",
              "    </tr>\n",
              "  </tbody>\n",
              "</table>\n",
              "<p>21969 rows × 18 columns</p>\n",
              "</div>\n",
              "      <button class=\"colab-df-convert\" onclick=\"convertToInteractive('df-abb3763a-bde4-42c5-bcb6-5c86ce820a7c')\"\n",
              "              title=\"Convert this dataframe to an interactive table.\"\n",
              "              style=\"display:none;\">\n",
              "        \n",
              "  <svg xmlns=\"http://www.w3.org/2000/svg\" height=\"24px\"viewBox=\"0 0 24 24\"\n",
              "       width=\"24px\">\n",
              "    <path d=\"M0 0h24v24H0V0z\" fill=\"none\"/>\n",
              "    <path d=\"M18.56 5.44l.94 2.06.94-2.06 2.06-.94-2.06-.94-.94-2.06-.94 2.06-2.06.94zm-11 1L8.5 8.5l.94-2.06 2.06-.94-2.06-.94L8.5 2.5l-.94 2.06-2.06.94zm10 10l.94 2.06.94-2.06 2.06-.94-2.06-.94-.94-2.06-.94 2.06-2.06.94z\"/><path d=\"M17.41 7.96l-1.37-1.37c-.4-.4-.92-.59-1.43-.59-.52 0-1.04.2-1.43.59L10.3 9.45l-7.72 7.72c-.78.78-.78 2.05 0 2.83L4 21.41c.39.39.9.59 1.41.59.51 0 1.02-.2 1.41-.59l7.78-7.78 2.81-2.81c.8-.78.8-2.07 0-2.86zM5.41 20L4 18.59l7.72-7.72 1.47 1.35L5.41 20z\"/>\n",
              "  </svg>\n",
              "      </button>\n",
              "      \n",
              "  <style>\n",
              "    .colab-df-container {\n",
              "      display:flex;\n",
              "      flex-wrap:wrap;\n",
              "      gap: 12px;\n",
              "    }\n",
              "\n",
              "    .colab-df-convert {\n",
              "      background-color: #E8F0FE;\n",
              "      border: none;\n",
              "      border-radius: 50%;\n",
              "      cursor: pointer;\n",
              "      display: none;\n",
              "      fill: #1967D2;\n",
              "      height: 32px;\n",
              "      padding: 0 0 0 0;\n",
              "      width: 32px;\n",
              "    }\n",
              "\n",
              "    .colab-df-convert:hover {\n",
              "      background-color: #E2EBFA;\n",
              "      box-shadow: 0px 1px 2px rgba(60, 64, 67, 0.3), 0px 1px 3px 1px rgba(60, 64, 67, 0.15);\n",
              "      fill: #174EA6;\n",
              "    }\n",
              "\n",
              "    [theme=dark] .colab-df-convert {\n",
              "      background-color: #3B4455;\n",
              "      fill: #D2E3FC;\n",
              "    }\n",
              "\n",
              "    [theme=dark] .colab-df-convert:hover {\n",
              "      background-color: #434B5C;\n",
              "      box-shadow: 0px 1px 3px 1px rgba(0, 0, 0, 0.15);\n",
              "      filter: drop-shadow(0px 1px 2px rgba(0, 0, 0, 0.3));\n",
              "      fill: #FFFFFF;\n",
              "    }\n",
              "  </style>\n",
              "\n",
              "      <script>\n",
              "        const buttonEl =\n",
              "          document.querySelector('#df-abb3763a-bde4-42c5-bcb6-5c86ce820a7c button.colab-df-convert');\n",
              "        buttonEl.style.display =\n",
              "          google.colab.kernel.accessAllowed ? 'block' : 'none';\n",
              "\n",
              "        async function convertToInteractive(key) {\n",
              "          const element = document.querySelector('#df-abb3763a-bde4-42c5-bcb6-5c86ce820a7c');\n",
              "          const dataTable =\n",
              "            await google.colab.kernel.invokeFunction('convertToInteractive',\n",
              "                                                     [key], {});\n",
              "          if (!dataTable) return;\n",
              "\n",
              "          const docLinkHtml = 'Like what you see? Visit the ' +\n",
              "            '<a target=\"_blank\" href=https://colab.research.google.com/notebooks/data_table.ipynb>data table notebook</a>'\n",
              "            + ' to learn more about interactive tables.';\n",
              "          element.innerHTML = '';\n",
              "          dataTable['output_type'] = 'display_data';\n",
              "          await google.colab.output.renderOutput(dataTable, element);\n",
              "          const docLink = document.createElement('div');\n",
              "          docLink.innerHTML = docLinkHtml;\n",
              "          element.appendChild(docLink);\n",
              "        }\n",
              "      </script>\n",
              "    </div>\n",
              "  </div>\n",
              "  "
            ]
          },
          "metadata": {},
          "execution_count": 72
        }
      ]
    },
    {
      "cell_type": "code",
      "source": [
        "# Defining a function to find the statistical relationship with all the categorical variables\n",
        "def FunctionAnova(inpData, TargetVariable, CategoricalPredictorList):\n",
        "    from scipy.stats import f_oneway\n",
        "\n",
        "    # Creating an empty list of final selected predictors\n",
        "    SelectedPredictors=[]\n",
        "    \n",
        "    print('##### ANOVA Results ##### \\n')\n",
        "    for predictor in CategoricalPredictorList:\n",
        "        CategoryGroupLists=inpData.groupby(predictor)[TargetVariable].apply(list)\n",
        "        AnovaResults = f_oneway(*CategoryGroupLists)\n",
        "        \n",
        "        # If the ANOVA P-Value is <0.05, that means we reject H0\n",
        "        if (AnovaResults[1] < 0.05):\n",
        "            print(predictor, 'is correlated with', TargetVariable, '| P-Value:', AnovaResults[1])\n",
        "            SelectedPredictors.append(predictor)\n",
        "        else:\n",
        "            print(predictor, 'is NOT correlated with', TargetVariable, '| P-Value:', AnovaResults[1])\n",
        "    \n",
        "    return(SelectedPredictors)"
      ],
      "metadata": {
        "id": "iNgtZjZueHRx"
      },
      "execution_count": 73,
      "outputs": []
    },
    {
      "cell_type": "code",
      "source": [
        "# Calling the function to check which categorical variables are correlated with target\n",
        "# Calling the function to check which categorical variables are correlated with target\n",
        "CategoricalPredictorList=['floors', 'condition', 'grade','bedrooms','bathrooms',\n",
        "       'zipcode','date']\n",
        "FunctionAnova(inpData=df, \n",
        "              TargetVariable='Price', \n",
        "              CategoricalPredictorList=CategoricalPredictorList)"
      ],
      "metadata": {
        "colab": {
          "base_uri": "https://localhost:8080/"
        },
        "id": "YMhMqGn_eJv-",
        "outputId": "d07b5dee-d55b-4370-d090-000bdce029d2"
      },
      "execution_count": 74,
      "outputs": [
        {
          "output_type": "stream",
          "name": "stdout",
          "text": [
            "##### ANOVA Results ##### \n",
            "\n",
            "floors is correlated with Price | P-Value: 0.0\n",
            "condition is correlated with Price | P-Value: 5.081179640291452e-34\n",
            "grade is correlated with Price | P-Value: 0.0\n",
            "bedrooms is correlated with Price | P-Value: 0.0\n",
            "bathrooms is correlated with Price | P-Value: 0.0\n",
            "zipcode is correlated with Price | P-Value: 0.0\n",
            "date is correlated with Price | P-Value: 0.0035957946535254194\n"
          ]
        },
        {
          "output_type": "execute_result",
          "data": {
            "text/plain": [
              "['floors', 'condition', 'grade', 'bedrooms', 'bathrooms', 'zipcode', 'date']"
            ]
          },
          "metadata": {},
          "execution_count": 74
        }
      ]
    },
    {
      "cell_type": "code",
      "source": [
        "# Calculating correlation matrix\n",
        "ContinuousCols=['yr_built.1','sqft_living15.1', 'sqft_lot15.1', 'sqft_living.1', 'sqft_lot.1','sqft_above.1','Price','lat.1',\n",
        "       'long.1']\n",
        "\n",
        "# Creating the correlation matrix\n",
        "CorrelationData=df[ContinuousCols].corr()\n",
        "CorrelationData"
      ],
      "metadata": {
        "colab": {
          "base_uri": "https://localhost:8080/",
          "height": 395
        },
        "id": "5lKNovqteL-S",
        "outputId": "6d60d252-8d6c-4d5a-8ac6-82c5cd1c13c6"
      },
      "execution_count": 75,
      "outputs": [
        {
          "output_type": "execute_result",
          "data": {
            "text/plain": [
              "                 yr_built.1  sqft_living15.1  sqft_lot15.1  sqft_living.1  \\\n",
              "yr_built.1         1.000000         0.325486      0.011441       0.327648   \n",
              "sqft_living15.1    0.325486         1.000000      0.327030       0.714367   \n",
              "sqft_lot15.1       0.011441         0.327030      1.000000       0.254624   \n",
              "sqft_living.1      0.327648         0.714367      0.254624       1.000000   \n",
              "sqft_lot.1        -0.008625         0.311950      0.836708       0.270045   \n",
              "sqft_above.1       0.425976         0.635039      0.227390       0.755125   \n",
              "Price              0.057935         0.463917      0.106671       0.517027   \n",
              "lat.1             -0.147164         0.038361     -0.113301       0.044198   \n",
              "long.1             0.410990         0.331451      0.264010       0.245843   \n",
              "\n",
              "                 sqft_lot.1  sqft_above.1     Price     lat.1    long.1  \n",
              "yr_built.1        -0.008625      0.425976  0.057935 -0.147164  0.410990  \n",
              "sqft_living15.1    0.311950      0.635039  0.463917  0.038361  0.331451  \n",
              "sqft_lot15.1       0.836708      0.227390  0.106671 -0.113301  0.264010  \n",
              "sqft_living.1      0.270045      0.755125  0.517027  0.044198  0.245843  \n",
              "sqft_lot.1         1.000000      0.241276  0.110688 -0.120527  0.263018  \n",
              "sqft_above.1       0.241276      1.000000  0.606576  0.000839  0.345181  \n",
              "Price              0.110688      0.606576  1.000000  0.308193  0.024889  \n",
              "lat.1             -0.120527      0.000839  0.308193  1.000000 -0.133808  \n",
              "long.1             0.263018      0.345181  0.024889 -0.133808  1.000000  "
            ],
            "text/html": [
              "\n",
              "  <div id=\"df-a72f9ea4-e0b0-48ba-b49d-df2c3117beb9\">\n",
              "    <div class=\"colab-df-container\">\n",
              "      <div>\n",
              "<style scoped>\n",
              "    .dataframe tbody tr th:only-of-type {\n",
              "        vertical-align: middle;\n",
              "    }\n",
              "\n",
              "    .dataframe tbody tr th {\n",
              "        vertical-align: top;\n",
              "    }\n",
              "\n",
              "    .dataframe thead th {\n",
              "        text-align: right;\n",
              "    }\n",
              "</style>\n",
              "<table border=\"1\" class=\"dataframe\">\n",
              "  <thead>\n",
              "    <tr style=\"text-align: right;\">\n",
              "      <th></th>\n",
              "      <th>yr_built.1</th>\n",
              "      <th>sqft_living15.1</th>\n",
              "      <th>sqft_lot15.1</th>\n",
              "      <th>sqft_living.1</th>\n",
              "      <th>sqft_lot.1</th>\n",
              "      <th>sqft_above.1</th>\n",
              "      <th>Price</th>\n",
              "      <th>lat.1</th>\n",
              "      <th>long.1</th>\n",
              "    </tr>\n",
              "  </thead>\n",
              "  <tbody>\n",
              "    <tr>\n",
              "      <th>yr_built.1</th>\n",
              "      <td>1.000000</td>\n",
              "      <td>0.325486</td>\n",
              "      <td>0.011441</td>\n",
              "      <td>0.327648</td>\n",
              "      <td>-0.008625</td>\n",
              "      <td>0.425976</td>\n",
              "      <td>0.057935</td>\n",
              "      <td>-0.147164</td>\n",
              "      <td>0.410990</td>\n",
              "    </tr>\n",
              "    <tr>\n",
              "      <th>sqft_living15.1</th>\n",
              "      <td>0.325486</td>\n",
              "      <td>1.000000</td>\n",
              "      <td>0.327030</td>\n",
              "      <td>0.714367</td>\n",
              "      <td>0.311950</td>\n",
              "      <td>0.635039</td>\n",
              "      <td>0.463917</td>\n",
              "      <td>0.038361</td>\n",
              "      <td>0.331451</td>\n",
              "    </tr>\n",
              "    <tr>\n",
              "      <th>sqft_lot15.1</th>\n",
              "      <td>0.011441</td>\n",
              "      <td>0.327030</td>\n",
              "      <td>1.000000</td>\n",
              "      <td>0.254624</td>\n",
              "      <td>0.836708</td>\n",
              "      <td>0.227390</td>\n",
              "      <td>0.106671</td>\n",
              "      <td>-0.113301</td>\n",
              "      <td>0.264010</td>\n",
              "    </tr>\n",
              "    <tr>\n",
              "      <th>sqft_living.1</th>\n",
              "      <td>0.327648</td>\n",
              "      <td>0.714367</td>\n",
              "      <td>0.254624</td>\n",
              "      <td>1.000000</td>\n",
              "      <td>0.270045</td>\n",
              "      <td>0.755125</td>\n",
              "      <td>0.517027</td>\n",
              "      <td>0.044198</td>\n",
              "      <td>0.245843</td>\n",
              "    </tr>\n",
              "    <tr>\n",
              "      <th>sqft_lot.1</th>\n",
              "      <td>-0.008625</td>\n",
              "      <td>0.311950</td>\n",
              "      <td>0.836708</td>\n",
              "      <td>0.270045</td>\n",
              "      <td>1.000000</td>\n",
              "      <td>0.241276</td>\n",
              "      <td>0.110688</td>\n",
              "      <td>-0.120527</td>\n",
              "      <td>0.263018</td>\n",
              "    </tr>\n",
              "    <tr>\n",
              "      <th>sqft_above.1</th>\n",
              "      <td>0.425976</td>\n",
              "      <td>0.635039</td>\n",
              "      <td>0.227390</td>\n",
              "      <td>0.755125</td>\n",
              "      <td>0.241276</td>\n",
              "      <td>1.000000</td>\n",
              "      <td>0.606576</td>\n",
              "      <td>0.000839</td>\n",
              "      <td>0.345181</td>\n",
              "    </tr>\n",
              "    <tr>\n",
              "      <th>Price</th>\n",
              "      <td>0.057935</td>\n",
              "      <td>0.463917</td>\n",
              "      <td>0.106671</td>\n",
              "      <td>0.517027</td>\n",
              "      <td>0.110688</td>\n",
              "      <td>0.606576</td>\n",
              "      <td>1.000000</td>\n",
              "      <td>0.308193</td>\n",
              "      <td>0.024889</td>\n",
              "    </tr>\n",
              "    <tr>\n",
              "      <th>lat.1</th>\n",
              "      <td>-0.147164</td>\n",
              "      <td>0.038361</td>\n",
              "      <td>-0.113301</td>\n",
              "      <td>0.044198</td>\n",
              "      <td>-0.120527</td>\n",
              "      <td>0.000839</td>\n",
              "      <td>0.308193</td>\n",
              "      <td>1.000000</td>\n",
              "      <td>-0.133808</td>\n",
              "    </tr>\n",
              "    <tr>\n",
              "      <th>long.1</th>\n",
              "      <td>0.410990</td>\n",
              "      <td>0.331451</td>\n",
              "      <td>0.264010</td>\n",
              "      <td>0.245843</td>\n",
              "      <td>0.263018</td>\n",
              "      <td>0.345181</td>\n",
              "      <td>0.024889</td>\n",
              "      <td>-0.133808</td>\n",
              "      <td>1.000000</td>\n",
              "    </tr>\n",
              "  </tbody>\n",
              "</table>\n",
              "</div>\n",
              "      <button class=\"colab-df-convert\" onclick=\"convertToInteractive('df-a72f9ea4-e0b0-48ba-b49d-df2c3117beb9')\"\n",
              "              title=\"Convert this dataframe to an interactive table.\"\n",
              "              style=\"display:none;\">\n",
              "        \n",
              "  <svg xmlns=\"http://www.w3.org/2000/svg\" height=\"24px\"viewBox=\"0 0 24 24\"\n",
              "       width=\"24px\">\n",
              "    <path d=\"M0 0h24v24H0V0z\" fill=\"none\"/>\n",
              "    <path d=\"M18.56 5.44l.94 2.06.94-2.06 2.06-.94-2.06-.94-.94-2.06-.94 2.06-2.06.94zm-11 1L8.5 8.5l.94-2.06 2.06-.94-2.06-.94L8.5 2.5l-.94 2.06-2.06.94zm10 10l.94 2.06.94-2.06 2.06-.94-2.06-.94-.94-2.06-.94 2.06-2.06.94z\"/><path d=\"M17.41 7.96l-1.37-1.37c-.4-.4-.92-.59-1.43-.59-.52 0-1.04.2-1.43.59L10.3 9.45l-7.72 7.72c-.78.78-.78 2.05 0 2.83L4 21.41c.39.39.9.59 1.41.59.51 0 1.02-.2 1.41-.59l7.78-7.78 2.81-2.81c.8-.78.8-2.07 0-2.86zM5.41 20L4 18.59l7.72-7.72 1.47 1.35L5.41 20z\"/>\n",
              "  </svg>\n",
              "      </button>\n",
              "      \n",
              "  <style>\n",
              "    .colab-df-container {\n",
              "      display:flex;\n",
              "      flex-wrap:wrap;\n",
              "      gap: 12px;\n",
              "    }\n",
              "\n",
              "    .colab-df-convert {\n",
              "      background-color: #E8F0FE;\n",
              "      border: none;\n",
              "      border-radius: 50%;\n",
              "      cursor: pointer;\n",
              "      display: none;\n",
              "      fill: #1967D2;\n",
              "      height: 32px;\n",
              "      padding: 0 0 0 0;\n",
              "      width: 32px;\n",
              "    }\n",
              "\n",
              "    .colab-df-convert:hover {\n",
              "      background-color: #E2EBFA;\n",
              "      box-shadow: 0px 1px 2px rgba(60, 64, 67, 0.3), 0px 1px 3px 1px rgba(60, 64, 67, 0.15);\n",
              "      fill: #174EA6;\n",
              "    }\n",
              "\n",
              "    [theme=dark] .colab-df-convert {\n",
              "      background-color: #3B4455;\n",
              "      fill: #D2E3FC;\n",
              "    }\n",
              "\n",
              "    [theme=dark] .colab-df-convert:hover {\n",
              "      background-color: #434B5C;\n",
              "      box-shadow: 0px 1px 3px 1px rgba(0, 0, 0, 0.15);\n",
              "      filter: drop-shadow(0px 1px 2px rgba(0, 0, 0, 0.3));\n",
              "      fill: #FFFFFF;\n",
              "    }\n",
              "  </style>\n",
              "\n",
              "      <script>\n",
              "        const buttonEl =\n",
              "          document.querySelector('#df-a72f9ea4-e0b0-48ba-b49d-df2c3117beb9 button.colab-df-convert');\n",
              "        buttonEl.style.display =\n",
              "          google.colab.kernel.accessAllowed ? 'block' : 'none';\n",
              "\n",
              "        async function convertToInteractive(key) {\n",
              "          const element = document.querySelector('#df-a72f9ea4-e0b0-48ba-b49d-df2c3117beb9');\n",
              "          const dataTable =\n",
              "            await google.colab.kernel.invokeFunction('convertToInteractive',\n",
              "                                                     [key], {});\n",
              "          if (!dataTable) return;\n",
              "\n",
              "          const docLinkHtml = 'Like what you see? Visit the ' +\n",
              "            '<a target=\"_blank\" href=https://colab.research.google.com/notebooks/data_table.ipynb>data table notebook</a>'\n",
              "            + ' to learn more about interactive tables.';\n",
              "          element.innerHTML = '';\n",
              "          dataTable['output_type'] = 'display_data';\n",
              "          await google.colab.output.renderOutput(dataTable, element);\n",
              "          const docLink = document.createElement('div');\n",
              "          docLink.innerHTML = docLinkHtml;\n",
              "          element.appendChild(docLink);\n",
              "        }\n",
              "      </script>\n",
              "    </div>\n",
              "  </div>\n",
              "  "
            ]
          },
          "metadata": {},
          "execution_count": 75
        }
      ]
    },
    {
      "cell_type": "code",
      "source": [
        "# Filtering only those columns where absolute correlation > 0.5 with Target Variable\n",
        "# reduce the 0.5 threshold if no variable is selected\n",
        "CorrelationData['Price'][abs(CorrelationData['Price']) > 0.3 ]"
      ],
      "metadata": {
        "colab": {
          "base_uri": "https://localhost:8080/"
        },
        "id": "vxpcNWAlePgF",
        "outputId": "78528c15-08cb-4b4b-dcc9-67756e3209a8"
      },
      "execution_count": 76,
      "outputs": [
        {
          "output_type": "execute_result",
          "data": {
            "text/plain": [
              "sqft_living15.1    0.463917\n",
              "sqft_living.1      0.517027\n",
              "sqft_above.1       0.606576\n",
              "Price              1.000000\n",
              "lat.1              0.308193\n",
              "Name: Price, dtype: float64"
            ]
          },
          "metadata": {},
          "execution_count": 76
        }
      ]
    },
    {
      "cell_type": "code",
      "source": [
        "SelectedColumns=['sqft_living15.1','sqft_living.1','sqft_above.1', 'lat.1','floors', 'condition', 'grade','bathrooms', 'bedrooms', 'date','Price']\n",
        "\n",
        "# Selecting final columns\n",
        "df=df[SelectedColumns]\n",
        "df.head()"
      ],
      "metadata": {
        "colab": {
          "base_uri": "https://localhost:8080/",
          "height": 250
        },
        "id": "cFv9_umDeR15",
        "outputId": "d75723a6-de51-48d4-b3ad-22b3c3c340ce"
      },
      "execution_count": 77,
      "outputs": [
        {
          "output_type": "execute_result",
          "data": {
            "text/plain": [
              "   sqft_living15.1  sqft_living.1  sqft_above.1     lat.1    floors  \\\n",
              "0        -0.590361      -0.672897     -0.376238 -0.289296  1.000000   \n",
              "1        -0.168675       0.626168      0.603960  0.722276  2.000000   \n",
              "2         1.072289      -1.056075     -0.782178  0.803761  1.333333   \n",
              "3        -0.566265       0.056075     -0.504950 -0.243009  1.666667   \n",
              "4        -0.036145      -0.205607      0.118812  0.219865  1.000000   \n",
              "\n",
              "   condition  grade  bathrooms  bedrooms   date     Price  \n",
              "0        3.0    7.0   1.333333       3.0  160.0 -0.710592  \n",
              "1        3.0    7.0   2.000000       3.0  111.0  0.274143  \n",
              "2        3.0    6.0   2.000000       2.0  298.0 -0.841121  \n",
              "3        5.0    7.0   2.000000       4.0  111.0  0.479751  \n",
              "4        3.0    8.0   2.000000       3.0  213.0  0.186916  "
            ],
            "text/html": [
              "\n",
              "  <div id=\"df-7cb29586-51cd-489d-a3b4-d2b68d1e54cf\">\n",
              "    <div class=\"colab-df-container\">\n",
              "      <div>\n",
              "<style scoped>\n",
              "    .dataframe tbody tr th:only-of-type {\n",
              "        vertical-align: middle;\n",
              "    }\n",
              "\n",
              "    .dataframe tbody tr th {\n",
              "        vertical-align: top;\n",
              "    }\n",
              "\n",
              "    .dataframe thead th {\n",
              "        text-align: right;\n",
              "    }\n",
              "</style>\n",
              "<table border=\"1\" class=\"dataframe\">\n",
              "  <thead>\n",
              "    <tr style=\"text-align: right;\">\n",
              "      <th></th>\n",
              "      <th>sqft_living15.1</th>\n",
              "      <th>sqft_living.1</th>\n",
              "      <th>sqft_above.1</th>\n",
              "      <th>lat.1</th>\n",
              "      <th>floors</th>\n",
              "      <th>condition</th>\n",
              "      <th>grade</th>\n",
              "      <th>bathrooms</th>\n",
              "      <th>bedrooms</th>\n",
              "      <th>date</th>\n",
              "      <th>Price</th>\n",
              "    </tr>\n",
              "  </thead>\n",
              "  <tbody>\n",
              "    <tr>\n",
              "      <th>0</th>\n",
              "      <td>-0.590361</td>\n",
              "      <td>-0.672897</td>\n",
              "      <td>-0.376238</td>\n",
              "      <td>-0.289296</td>\n",
              "      <td>1.000000</td>\n",
              "      <td>3.0</td>\n",
              "      <td>7.0</td>\n",
              "      <td>1.333333</td>\n",
              "      <td>3.0</td>\n",
              "      <td>160.0</td>\n",
              "      <td>-0.710592</td>\n",
              "    </tr>\n",
              "    <tr>\n",
              "      <th>1</th>\n",
              "      <td>-0.168675</td>\n",
              "      <td>0.626168</td>\n",
              "      <td>0.603960</td>\n",
              "      <td>0.722276</td>\n",
              "      <td>2.000000</td>\n",
              "      <td>3.0</td>\n",
              "      <td>7.0</td>\n",
              "      <td>2.000000</td>\n",
              "      <td>3.0</td>\n",
              "      <td>111.0</td>\n",
              "      <td>0.274143</td>\n",
              "    </tr>\n",
              "    <tr>\n",
              "      <th>2</th>\n",
              "      <td>1.072289</td>\n",
              "      <td>-1.056075</td>\n",
              "      <td>-0.782178</td>\n",
              "      <td>0.803761</td>\n",
              "      <td>1.333333</td>\n",
              "      <td>3.0</td>\n",
              "      <td>6.0</td>\n",
              "      <td>2.000000</td>\n",
              "      <td>2.0</td>\n",
              "      <td>298.0</td>\n",
              "      <td>-0.841121</td>\n",
              "    </tr>\n",
              "    <tr>\n",
              "      <th>3</th>\n",
              "      <td>-0.566265</td>\n",
              "      <td>0.056075</td>\n",
              "      <td>-0.504950</td>\n",
              "      <td>-0.243009</td>\n",
              "      <td>1.666667</td>\n",
              "      <td>5.0</td>\n",
              "      <td>7.0</td>\n",
              "      <td>2.000000</td>\n",
              "      <td>4.0</td>\n",
              "      <td>111.0</td>\n",
              "      <td>0.479751</td>\n",
              "    </tr>\n",
              "    <tr>\n",
              "      <th>4</th>\n",
              "      <td>-0.036145</td>\n",
              "      <td>-0.205607</td>\n",
              "      <td>0.118812</td>\n",
              "      <td>0.219865</td>\n",
              "      <td>1.000000</td>\n",
              "      <td>3.0</td>\n",
              "      <td>8.0</td>\n",
              "      <td>2.000000</td>\n",
              "      <td>3.0</td>\n",
              "      <td>213.0</td>\n",
              "      <td>0.186916</td>\n",
              "    </tr>\n",
              "  </tbody>\n",
              "</table>\n",
              "</div>\n",
              "      <button class=\"colab-df-convert\" onclick=\"convertToInteractive('df-7cb29586-51cd-489d-a3b4-d2b68d1e54cf')\"\n",
              "              title=\"Convert this dataframe to an interactive table.\"\n",
              "              style=\"display:none;\">\n",
              "        \n",
              "  <svg xmlns=\"http://www.w3.org/2000/svg\" height=\"24px\"viewBox=\"0 0 24 24\"\n",
              "       width=\"24px\">\n",
              "    <path d=\"M0 0h24v24H0V0z\" fill=\"none\"/>\n",
              "    <path d=\"M18.56 5.44l.94 2.06.94-2.06 2.06-.94-2.06-.94-.94-2.06-.94 2.06-2.06.94zm-11 1L8.5 8.5l.94-2.06 2.06-.94-2.06-.94L8.5 2.5l-.94 2.06-2.06.94zm10 10l.94 2.06.94-2.06 2.06-.94-2.06-.94-.94-2.06-.94 2.06-2.06.94z\"/><path d=\"M17.41 7.96l-1.37-1.37c-.4-.4-.92-.59-1.43-.59-.52 0-1.04.2-1.43.59L10.3 9.45l-7.72 7.72c-.78.78-.78 2.05 0 2.83L4 21.41c.39.39.9.59 1.41.59.51 0 1.02-.2 1.41-.59l7.78-7.78 2.81-2.81c.8-.78.8-2.07 0-2.86zM5.41 20L4 18.59l7.72-7.72 1.47 1.35L5.41 20z\"/>\n",
              "  </svg>\n",
              "      </button>\n",
              "      \n",
              "  <style>\n",
              "    .colab-df-container {\n",
              "      display:flex;\n",
              "      flex-wrap:wrap;\n",
              "      gap: 12px;\n",
              "    }\n",
              "\n",
              "    .colab-df-convert {\n",
              "      background-color: #E8F0FE;\n",
              "      border: none;\n",
              "      border-radius: 50%;\n",
              "      cursor: pointer;\n",
              "      display: none;\n",
              "      fill: #1967D2;\n",
              "      height: 32px;\n",
              "      padding: 0 0 0 0;\n",
              "      width: 32px;\n",
              "    }\n",
              "\n",
              "    .colab-df-convert:hover {\n",
              "      background-color: #E2EBFA;\n",
              "      box-shadow: 0px 1px 2px rgba(60, 64, 67, 0.3), 0px 1px 3px 1px rgba(60, 64, 67, 0.15);\n",
              "      fill: #174EA6;\n",
              "    }\n",
              "\n",
              "    [theme=dark] .colab-df-convert {\n",
              "      background-color: #3B4455;\n",
              "      fill: #D2E3FC;\n",
              "    }\n",
              "\n",
              "    [theme=dark] .colab-df-convert:hover {\n",
              "      background-color: #434B5C;\n",
              "      box-shadow: 0px 1px 3px 1px rgba(0, 0, 0, 0.15);\n",
              "      filter: drop-shadow(0px 1px 2px rgba(0, 0, 0, 0.3));\n",
              "      fill: #FFFFFF;\n",
              "    }\n",
              "  </style>\n",
              "\n",
              "      <script>\n",
              "        const buttonEl =\n",
              "          document.querySelector('#df-7cb29586-51cd-489d-a3b4-d2b68d1e54cf button.colab-df-convert');\n",
              "        buttonEl.style.display =\n",
              "          google.colab.kernel.accessAllowed ? 'block' : 'none';\n",
              "\n",
              "        async function convertToInteractive(key) {\n",
              "          const element = document.querySelector('#df-7cb29586-51cd-489d-a3b4-d2b68d1e54cf');\n",
              "          const dataTable =\n",
              "            await google.colab.kernel.invokeFunction('convertToInteractive',\n",
              "                                                     [key], {});\n",
              "          if (!dataTable) return;\n",
              "\n",
              "          const docLinkHtml = 'Like what you see? Visit the ' +\n",
              "            '<a target=\"_blank\" href=https://colab.research.google.com/notebooks/data_table.ipynb>data table notebook</a>'\n",
              "            + ' to learn more about interactive tables.';\n",
              "          element.innerHTML = '';\n",
              "          dataTable['output_type'] = 'display_data';\n",
              "          await google.colab.output.renderOutput(dataTable, element);\n",
              "          const docLink = document.createElement('div');\n",
              "          docLink.innerHTML = docLinkHtml;\n",
              "          element.appendChild(docLink);\n",
              "        }\n",
              "      </script>\n",
              "    </div>\n",
              "  </div>\n",
              "  "
            ]
          },
          "metadata": {},
          "execution_count": 77
        }
      ]
    },
    {
      "cell_type": "code",
      "source": [
        " \n",
        "  \n",
        "# plotting correlation heatmap\n",
        "dataplot=sns.heatmap(df.corr())\n",
        "  \n",
        "# displaying heatmap\n",
        "plt.show()"
      ],
      "metadata": {
        "colab": {
          "base_uri": "https://localhost:8080/",
          "height": 333
        },
        "id": "N21vh_Ifedyv",
        "outputId": "183f4820-5897-4010-c129-0746715a2f70"
      },
      "execution_count": 78,
      "outputs": [
        {
          "output_type": "display_data",
          "data": {
            "text/plain": [
              "<Figure size 432x288 with 2 Axes>"
            ],
            "image/png": "[encoded data removed]"
          },
          "metadata": {
            "needs_background": "light"
          }
        }
      ]
    },
    {
      "cell_type": "code",
      "source": [
        "df = df.drop(columns=['sqft_living15.1'])"
      ],
      "metadata": {
        "id": "qjfHtgOneg_u"
      },
      "execution_count": 79,
      "outputs": []
    },
    {
      "cell_type": "code",
      "source": [
        "df3 = df.sample(frac = 1)"
      ],
      "metadata": {
        "id": "Cuic4WbHe47P"
      },
      "execution_count": 80,
      "outputs": []
    },
    {
      "cell_type": "code",
      "source": [
        "X = np.array(df3.drop([\"Price\"],1))\n",
        "print(\"Shape of X:\",X.shape)\n",
        "print(X)"
      ],
      "metadata": {
        "colab": {
          "base_uri": "https://localhost:8080/"
        },
        "id": "2HW54wWee8Td",
        "outputId": "458836f4-a481-4a81-ea78-dfccf2f0c246"
      },
      "execution_count": 81,
      "outputs": [
        {
          "output_type": "stream",
          "name": "stdout",
          "text": [
            "Shape of X: (21969, 9)\n",
            "[[ 1.11214953e+00  1.51485149e+00 -5.39054966e-01 ...  4.00000000e+00\n",
            "   5.00000000e+00  3.28000000e+02]\n",
            " [ 4.80373832e-01  8.45544554e-01 -1.28543877e+00 ...  3.00000000e+00\n",
            "   2.66666667e+00  1.30000000e+02]\n",
            " [ 9.62616822e-01  1.35643564e+00 -2.64223722e-01 ...  2.00000000e+00\n",
            "   4.00000000e+00  2.00000000e+02]\n",
            " ...\n",
            " [ 9.34579439e-02 -1.68316832e-01 -1.20973963e+00 ...  2.00000000e+00\n",
            "   3.00000000e+00  1.09000000e+02]\n",
            " [ 7.66355140e-01 -4.95049505e-02  2.30954677e-01 ...  1.66666667e+00\n",
            "   4.00000000e+00  2.30000000e+01]\n",
            " [-5.70093458e-01 -2.67326733e-01  4.32497589e-01 ...  2.00000000e+00\n",
            "   3.00000000e+00  6.90000000e+01]]\n"
          ]
        }
      ]
    },
    {
      "cell_type": "code",
      "source": [
        "y = np.array(df3[\"Price\"])\n",
        "print(\"Shape of y:\",y.shape)\n",
        "print(y)"
      ],
      "metadata": {
        "colab": {
          "base_uri": "https://localhost:8080/"
        },
        "id": "0WOaaMTXe-Ag",
        "outputId": "f5a5ae13-0f9b-40ad-91ed-f2b88a9ac7c8"
      },
      "execution_count": 82,
      "outputs": [
        {
          "output_type": "stream",
          "name": "stdout",
          "text": [
            "Shape of y: (21969,)\n",
            "[ 0.31464174 -0.49221184  0.57632399 ... -0.35825545  0.31137072\n",
            "  0.        ]\n"
          ]
        }
      ]
    },
    {
      "cell_type": "code",
      "source": [
        "size = X.shape[0]\n",
        "X_train = X[:int(0.7 * size),:]\n",
        "X_test = X[int(0.7 * size):,:]\n",
        "y_train = y[:int(0.7 * size)]\n",
        "y_test = y[int(0.7 * size):]"
      ],
      "metadata": {
        "id": "f2xBT86GfANj"
      },
      "execution_count": 83,
      "outputs": []
    },
    {
      "cell_type": "code",
      "source": [
        "\n",
        "#Standardizing the X_train and X_test daatsets\n",
        "mu = np.mean(X_train, 0)\n",
        "sigma = np.std(X_train, 0)\n",
        "\n",
        "X_train = (X_train - mu ) / sigma\n",
        "\n",
        "#We use the same mean and SD as the one of X_train as we dont know the mean of X_test\n",
        "X_test = (X_test - mu ) / sigma\n",
        "\n",
        "#Standardizing the y_train data\n",
        "mu_y = np.mean(y_train, 0)\n",
        "sigma_y = np.std(y_train, 0, ddof = 0)\n",
        "\n",
        "y_train = (y_train - mu_y ) / sigma_y"
      ],
      "metadata": {
        "id": "PomY01jhfCHD"
      },
      "execution_count": 84,
      "outputs": []
    },
    {
      "cell_type": "code",
      "source": [
        "print(X_train.shape)\n",
        "print(X_test.shape)\n",
        "print(y_train.shape)\n",
        "print(y_test.shape)\n"
      ],
      "metadata": {
        "colab": {
          "base_uri": "https://localhost:8080/"
        },
        "id": "uA_6JKLcfD_b",
        "outputId": "08c2be3c-5094-4c2f-d546-37942a8e401e"
      },
      "execution_count": 85,
      "outputs": [
        {
          "output_type": "stream",
          "name": "stdout",
          "text": [
            "(15378, 9)\n",
            "(6591, 9)\n",
            "(15378,)\n",
            "(6591,)\n"
          ]
        }
      ]
    },
    {
      "cell_type": "code",
      "source": [
        "y_train = y_train.reshape(len(y_train),1)\n",
        "y_test = y_test.reshape(len(y_test),1)\n",
        "y_pred = np.zeros(y_test.shape)\n",
        "y_train.shape, y_test.shape,y_pred.shape"
      ],
      "metadata": {
        "colab": {
          "base_uri": "https://localhost:8080/"
        },
        "id": "YYkyc1EZfF0S",
        "outputId": "130551bd-0906-4e1f-c74c-c34eef59ca06"
      },
      "execution_count": 86,
      "outputs": [
        {
          "output_type": "execute_result",
          "data": {
            "text/plain": [
              "((15378, 1), (6591, 1), (6591, 1))"
            ]
          },
          "metadata": {},
          "execution_count": 86
        }
      ]
    },
    {
      "cell_type": "code",
      "source": [
        "n_neigh = 13\n",
        "for row in range(len(X_test)):\n",
        "    euclidian_distance = np.sqrt(np.sum((X_train - X_test[row])**2, axis = 1 ))\n",
        "    y_pred[row] = np.mean(y_train[np.argsort(euclidian_distance, axis = 0)[:n_neigh]])* sigma_y + mu_y\n",
        "    \n",
        "#Finding the root mean squared error \n",
        "\n",
        "RMSE = np.sqrt(np.mean((y_pred - y_test)**2))\n",
        "print(RMSE)"
      ],
      "metadata": {
        "colab": {
          "base_uri": "https://localhost:8080/"
        },
        "id": "3OTnd_ArfHuv",
        "outputId": "20acabce-2946-4d3a-c9c0-53037c60ac28"
      },
      "execution_count": 87,
      "outputs": [
        {
          "output_type": "stream",
          "name": "stdout",
          "text": [
            "0.6398365821778271\n"
          ]
        }
      ]
    },
    {
      "cell_type": "code",
      "source": [
        "# Calculate mean absolute error\n",
        "mae = np.mean(np.abs(y_test - y_pred))\n",
        "\n",
        "print(\"Mean Absolute Error:\", mae)"
      ],
      "metadata": {
        "colab": {
          "base_uri": "https://localhost:8080/"
        },
        "id": "egvDDcekfJk1",
        "outputId": "1399157c-4d1b-4b65-d7ad-b6009b5b53a5"
      },
      "execution_count": 88,
      "outputs": [
        {
          "output_type": "stream",
          "name": "stdout",
          "text": [
            "Mean Absolute Error: 0.3405292652482746\n"
          ]
        }
      ]
    },
    {
      "cell_type": "code",
      "source": [
        "# We are setting a range of K values and calculating the RMSE for each of them. This way we can chose the optimal K value\n",
        "k_list = [x for x in range(1,50,1)]\n",
        "\n",
        "# Calculating the distance matrix using numpy broadcasting technique \n",
        "distance = np.sqrt(((X_train[:, :, None] - X_test[:, :, None].T) ** 2).sum(1))\n",
        "\n",
        "#Sorting each data points of the distance matrix to reduce computational effort \n",
        "sorted_distance = np.argsort(distance, axis = 0)\n",
        "\n",
        "#The knn function takes in the sorted distance and returns the RMSE of the \n",
        "def knn(X_train,X_test,y_train,y_test,sorted_distance,k):\n",
        "    y_pred = np.zeros(y_test.shape)\n",
        "    for row in range(len(X_test)):\n",
        "        \n",
        "        #Transforming the y_train values to adjust the scale. \n",
        "        y_pred[row] = np.mean(y_train[sorted_distance[:,row][:k]])* sigma_y + mu_y\n",
        "\n",
        "    RMSE = np.sqrt(np.mean((y_test - y_pred)**2))\n",
        "    return RMSE\n",
        "\n",
        "#Storing the RMSE values in a list for each k value \n",
        "rmse_list = []\n",
        "for i in k_list:\n",
        "    rmse_list.append(knn(X_train,X_test,y_train,y_test,sorted_distance,i))"
      ],
      "metadata": {
        "id": "W6ZnuGNEfQDy"
      },
      "execution_count": 89,
      "outputs": []
    },
    {
      "cell_type": "code",
      "source": [
        "#Finding the optimal K value\n",
        "min_rmse_k_value = k_list[rmse_list.index(min(rmse_list))]\n",
        "\n",
        "#Finding the lowest possible RMSE\n",
        "optimal_RMSE = knn(X_train,X_test,y_train,y_test,sorted_distance,min_rmse_k_value)\n",
        "optimal_RMSE"
      ],
      "metadata": {
        "colab": {
          "base_uri": "https://localhost:8080/"
        },
        "id": "hwSyWn1GfS3q",
        "outputId": "11540913-df11-45c2-d7a3-47b4cda17cf3"
      },
      "execution_count": 90,
      "outputs": [
        {
          "output_type": "execute_result",
          "data": {
            "text/plain": [
              "0.6356683865502168"
            ]
          },
          "metadata": {},
          "execution_count": 90
        }
      ]
    },
    {
      "cell_type": "code",
      "source": [
        "min_rmse_k_value"
      ],
      "metadata": {
        "colab": {
          "base_uri": "https://localhost:8080/"
        },
        "id": "RLqGrUHtfVr-",
        "outputId": "3516b9b6-3cdf-4c5f-99cb-8b930cc54450"
      },
      "execution_count": 91,
      "outputs": [
        {
          "output_type": "execute_result",
          "data": {
            "text/plain": [
              "11"
            ]
          },
          "metadata": {},
          "execution_count": 91
        }
      ]
    },
    {
      "cell_type": "code",
      "source": [
        "from sklearn.metrics import mean_squared_error\n",
        "from sklearn.metrics import r2_score,mean_absolute_error\n",
        "\n",
        "print(np.sqrt(mean_squared_error(y_test,y_pred))) \n",
        "r2scr = print(r2_score(y_test, y_pred))\n",
        "print(mean_absolute_error(y_test, y_pred))"
      ],
      "metadata": {
        "colab": {
          "base_uri": "https://localhost:8080/"
        },
        "id": "byJH1b1OfjH0",
        "outputId": "ce153be2-4ed1-429b-94c1-6595f5089e9d"
      },
      "execution_count": 92,
      "outputs": [
        {
          "output_type": "stream",
          "name": "stdout",
          "text": [
            "0.6398365821778271\n",
            "0.6757783971298923\n",
            "0.3405292652482746\n"
          ]
        }
      ]
    },
    {
      "cell_type": "code",
      "source": [
        "from sklearn.neighbors import KNeighborsRegressor\n",
        "RegModel = KNeighborsRegressor(n_neighbors=3)\n"
      ],
      "metadata": {
        "id": "hpe09jKfflAA"
      },
      "execution_count": 93,
      "outputs": []
    },
    {
      "cell_type": "code",
      "source": [
        "from sklearn.model_selection import GridSearchCV\n",
        "param={'n_neighbors': range(1,50)}\n",
        "grid_kn=GridSearchCV(estimator=RegModel,param_grid=param,scoring='neg_mean_squared_error',cv=5,verbose=1,n_jobs=-1)\n",
        "grid_kn.fit(X_train,y_train)\n",
        "print('Best K For Model is: ',grid_kn.best_params_)\n",
        "print('Best Score is: ',grid_kn.best_score_)"
      ],
      "metadata": {
        "colab": {
          "base_uri": "https://localhost:8080/"
        },
        "id": "x2J0E5H2fnQs",
        "outputId": "a4e4160f-4ae3-46e4-8126-a2d7f366c9a8"
      },
      "execution_count": 94,
      "outputs": [
        {
          "output_type": "stream",
          "name": "stdout",
          "text": [
            "Fitting 5 folds for each of 49 candidates, totalling 245 fits\n",
            "Best K For Model is:  {'n_neighbors': 14}\n",
            "Best Score is:  -0.33406608638843444\n"
          ]
        }
      ]
    },
    {
      "cell_type": "code",
      "source": [
        "KNN=RegModel.fit(X_train,y_train)\n",
        "prediction=KNN.predict(X_test)"
      ],
      "metadata": {
        "id": "XSWjAYl-fqXP"
      },
      "execution_count": 95,
      "outputs": []
    },
    {
      "cell_type": "code",
      "source": [
        "from sklearn import metrics\n",
        "# Measuring Goodness of fit in Training data\n",
        "print('R2 Value:',metrics.r2_score(y_train, KNN.predict(X_train)))"
      ],
      "metadata": {
        "colab": {
          "base_uri": "https://localhost:8080/"
        },
        "id": "8GEiHOorfsgf",
        "outputId": "875d3e3c-ea5a-4f5a-ede5-063770338a4d"
      },
      "execution_count": 96,
      "outputs": [
        {
          "output_type": "stream",
          "name": "stdout",
          "text": [
            "R2 Value: 0.8161295219095841\n"
          ]
        }
      ]
    },
    {
      "cell_type": "code",
      "source": [],
      "metadata": {
        "id": "_ktmHQ41fueS"
      },
      "execution_count": null,
      "outputs": []
    }
  ]
}